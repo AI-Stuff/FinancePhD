{
 "cells": [
  {
   "cell_type": "code",
   "execution_count": 1,
   "metadata": {},
   "outputs": [
    {
     "name": "stderr",
     "output_type": "stream",
     "text": [
      "/Users/mrefermat/anaconda/lib/python2.7/site-packages/IPython/utils/traitlets.py:5: UserWarning: IPython.utils.traitlets has moved to a top-level traitlets package.\n",
      "  warn(\"IPython.utils.traitlets has moved to a top-level traitlets package.\")\n",
      "/Users/mrefermat/anaconda/lib/python2.7/site-packages/IPython/kernel/__init__.py:13: ShimWarning: The `IPython.kernel` package has been deprecated since IPython 4.0.You should import from ipykernel or jupyter_client instead.\n",
      "  \"You should import from ipykernel or jupyter_client instead.\", ShimWarning)\n"
     ]
    }
   ],
   "source": [
    "%matplotlib inline\n",
    "import seaborn\n",
    "import quandl\n",
    "import pandas as pd\n",
    "import seaborn as sns\n",
    "import math\n",
    "from tsmom_model import *\n",
    "import numpy as np\n",
    "from datetime import datetime\n",
    "import statsmodels.formula.api as sm\n",
    "token=\"Us3wFmXGgAj_1cUtHAAR\""
   ]
  },
  {
   "cell_type": "code",
   "execution_count": 2,
   "metadata": {},
   "outputs": [],
   "source": [
    "import pylab\n",
    "sns.set(font_scale=3)\n",
    "pylab.rcParams['figure.figsize'] = (24, 18)"
   ]
  },
  {
   "cell_type": "code",
   "execution_count": 3,
   "metadata": {},
   "outputs": [
    {
     "name": "stderr",
     "output_type": "stream",
     "text": [
      "tsmom_model.py:158: FutureWarning: how in .resample() is deprecated\n",
      "the new syntax is .resample(...).last()\n",
      "  data=pd.read_csv('./Price.csv',index_col=0,parse_dates=['Date']).resample(rule='d',how='last')\n",
      "tsmom_model.py:160: FutureWarning: how in .resample() is deprecated\n",
      "the new syntax is .resample(...).last()\n",
      "  qd=pd.read_csv('./liquid_contracts.csv',index_col=0,parse_dates=['Date']).resample(rule='d',how='last')\n"
     ]
    }
   ],
   "source": [
    "cleansed=load_amihud_markets_price()"
   ]
  },
  {
   "cell_type": "code",
   "execution_count": 4,
   "metadata": {},
   "outputs": [
    {
     "name": "stderr",
     "output_type": "stream",
     "text": [
      "tsmom_model.py:42: FutureWarning: how in .resample() is deprecated\n",
      "the new syntax is .resample(...).mean()\n",
      "  data=pd.read_csv('./Volume.csv',index_col=0,parse_dates=['Date']).resample(rule='d',how='mean')\n",
      "tsmom_model.py:44: FutureWarning: how in .resample() is deprecated\n",
      "the new syntax is .resample(...).sum()\n",
      "  v=pd.read_csv('./volume_data.csv',index_col=0,parse_dates=['Date']).resample(rule='d',how='sum')\n",
      "tsmom_model.py:46: FutureWarning: pd.rolling_mean is deprecated for DataFrame and will be removed in a future version, replace with \n",
      "\tDataFrame.rolling(min_periods=100,window=250,center=False).mean()\n",
      "  volume=pd.rolling_mean(v,250,min_periods=100).resample(rule='d',how='mean')[:'2016']\n",
      "tsmom_model.py:46: FutureWarning: how in .resample() is deprecated\n",
      "the new syntax is .resample(...).mean()\n",
      "  volume=pd.rolling_mean(v,250,min_periods=100).resample(rule='d',how='mean')[:'2016']\n",
      "tsmom_model.py:49: FutureWarning: pd.rolling_mean is deprecated for Series and will be removed in a future version, replace with \n",
      "\tSeries.rolling(min_periods=50,window=250,center=False).mean()\n",
      "  volume[name]=pd.rolling_mean(v2[x],250,min_periods=50).resample(rule='d',how='mean')\n",
      "tsmom_model.py:49: FutureWarning: how in .resample() is deprecated\n",
      "the new syntax is .resample(...).mean()\n",
      "  volume[name]=pd.rolling_mean(v2[x],250,min_periods=50).resample(rule='d',how='mean')\n",
      "tsmom_model.py:76: FutureWarning: how in .resample() is deprecated\n",
      "the new syntax is .resample(...).last()\n",
      "  fx=fx.resample(rule='d',how='last')\n",
      "tsmom_model.py:77: FutureWarning: how in .resample() is deprecated\n",
      "the new syntax is .resample(...).last()\n",
      "  px=cleansed.resample(rule='d',how='last')\n",
      "tsmom_model.py:85: FutureWarning: how in .resample() is deprecated\n",
      "the new syntax is .resample(...).mean()\n",
      "  x= (cleansed.pct_change().abs()/ total_vol).resample(rule='m',how='mean')\n"
     ]
    }
   ],
   "source": [
    "amihud=calculate_amihud_liquidity(cleansed)[:'2016'] "
   ]
  },
  {
   "cell_type": "code",
   "execution_count": 5,
   "metadata": {},
   "outputs": [
    {
     "name": "stderr",
     "output_type": "stream",
     "text": [
      "/Users/mrefermat/anaconda/lib/python2.7/site-packages/ipykernel_launcher.py:4: FutureWarning: how in .resample() is deprecated\n",
      "the new syntax is .resample(...).last()\n",
      "  after removing the cwd from sys.path.\n"
     ]
    }
   ],
   "source": [
    "sector_rtns={}\n",
    "d_map=sector_map(amihud)\n",
    "for sect in d_map.keys():\n",
    "    sector_rtns[sect]=np.log(cleansed[d_map[sect]].resample(rule='m',how='last')).diff().dropna(how='all')"
   ]
  },
  {
   "cell_type": "markdown",
   "metadata": {},
   "source": [
    "# Presentation to be like \"Time Varying Liquidity and Momentum Profits (2015) paper\n",
    "\n",
    "Rank by deciles, HML (8,9,10) - (1,2,3).  Save monthly returns (equal (risk?) weighted) and if you want to annualized then resample.\n",
    "\n",
    "\n",
    "Then correlation matrix \n",
    "* Overall market vol?\n",
    "* Market illiquidity (median Amihud through time series)\n"
   ]
  },
  {
   "cell_type": "markdown",
   "metadata": {},
   "source": [
    "# Amihud (2002) Annual portfolio sorts"
   ]
  },
  {
   "cell_type": "code",
   "execution_count": 6,
   "metadata": {},
   "outputs": [
    {
     "name": "stderr",
     "output_type": "stream",
     "text": [
      "tsmom_model.py:273: FutureWarning: pd.rolling_mean is deprecated for DataFrame and will be removed in a future version, replace with \n",
      "\tDataFrame.rolling(min_periods=3,window=100000000,center=False).mean()\n",
      "  return (df-pd.rolling_mean(df,100000000,min_periods=min_per))/pd.rolling_std(df,100000000,min_periods=min_per)\n",
      "tsmom_model.py:273: FutureWarning: pd.rolling_std is deprecated for DataFrame and will be removed in a future version, replace with \n",
      "\tDataFrame.rolling(min_periods=3,window=100000000,center=False).std()\n",
      "  return (df-pd.rolling_mean(df,100000000,min_periods=min_per))/pd.rolling_std(df,100000000,min_periods=min_per)\n"
     ]
    }
   ],
   "source": [
    "data=calc_zscore_expanding_window(amihud.dropna(how='all'),3).dropna(how='all')\n",
    "sector_zscores={}\n",
    "d_map=sector_map(amihud)\n",
    "for sect in d_map.keys():\n",
    "    sector_zscores[sect]=data[d_map[sect]].dropna(how='all')"
   ]
  },
  {
   "cell_type": "markdown",
   "metadata": {},
   "source": [
    "# Annual portfolio sorts"
   ]
  },
  {
   "cell_type": "code",
   "execution_count": 7,
   "metadata": {},
   "outputs": [
    {
     "name": "stderr",
     "output_type": "stream",
     "text": [
      "tsmom_model.py:238: FutureWarning: how in .resample() is deprecated\n",
      "the new syntax is .resample(...).median()\n",
      "  mkts=quantile_columns(rank_data.resample(rule='a',how='median'),year,number_of_buckets,i)\n",
      "tsmom_model.py:239: FutureWarning: how in .resample() is deprecated\n",
      "the new syntax is .resample(...).last()\n",
      "  rtns = price_data.resample(rule='m',how='last')[mkts].pct_change()[str(y+1)].mean(axis=1)\n"
     ]
    }
   ],
   "source": [
    "sector_portfolio_sorts={}\n",
    "for s in sector_zscores.keys():\n",
    "    sector_portfolio_sorts[s]=quantile_portfolios_annual(sector_zscores[s],cleansed,3)"
   ]
  },
  {
   "cell_type": "code",
   "execution_count": 8,
   "metadata": {},
   "outputs": [
    {
     "name": "stdout",
     "output_type": "stream",
     "text": [
      "Commodities\n",
      "\\begin{tabular}{lrrrr}\n",
      "\\toprule\n",
      "{} &      0 &      1 &      2 &  Factor \\\\\n",
      "\\midrule\n",
      "Monthly Return (in \\%)        &   0.73 &   0.90 &   0.89 &    0.15 \\\\\n",
      "Standard Deviation           &  15.60 &  13.79 &  15.89 &   13.08 \\\\\n",
      "Information Ratio            &   0.56 &   0.78 &   0.67 &    0.14 \\\\\n",
      "Skewness                     &  -0.45 &  -0.58 &   0.02 &    0.31 \\\\\n",
      "Excess Kurtosis              &   2.55 &   3.05 &   3.04 &    2.51 \\\\\n",
      "AR(1)                        &   0.07 &   0.09 &   0.11 &   -0.23 \\\\\n",
      "AR(1) Tstat                  &   0.74 &   0.97 &   1.17 &   -3.78 \\\\\n",
      "CAPM Alpha Annualized (in \\%) &   4.88 &   7.40 &   6.68 &    1.80 \\\\\n",
      "CAPM Alpha Tstat             &   2.89 &   4.22 &   3.77 &    0.66 \\\\\n",
      "CAPM Beta (in \\%)             &   1.04 &   0.89 &   1.04 &    0.00 \\\\\n",
      "CAPM Beta Tstat              &  19.45 &  27.50 &  19.57 &    0.01 \\\\\n",
      "R\\textasciicircum2                          &   0.76 &   0.70 &   0.73 &    0.00 \\\\\n",
      "\\bottomrule\n",
      "\\end{tabular}\n",
      "\n",
      "Equities\n",
      "\\begin{tabular}{lrrrr}\n",
      "\\toprule\n",
      "{} &      0 &      1 &      2 &  Factor \\\\\n",
      "\\midrule\n",
      "Monthly Return (in \\%)        &   0.36 &   0.41 &   0.45 &    0.10 \\\\\n",
      "Standard Deviation           &  15.05 &  16.42 &  15.14 &   10.02 \\\\\n",
      "Information Ratio            &   0.28 &   0.30 &   0.36 &    0.12 \\\\\n",
      "Skewness                     &  -0.88 &  -0.75 &  -0.56 &   -0.18 \\\\\n",
      "Excess Kurtosis              &   3.80 &   1.26 &   0.66 &    0.55 \\\\\n",
      "AR(1)                        &   0.22 &   0.18 &   0.18 &   -0.08 \\\\\n",
      "AR(1) Tstat                  &   2.17 &   2.57 &   2.42 &   -1.04 \\\\\n",
      "CAPM Alpha Annualized (in \\%) &   2.10 &   2.43 &   3.11 &    1.01 \\\\\n",
      "CAPM Alpha Tstat             &   1.25 &   1.95 &   2.94 &    0.43 \\\\\n",
      "CAPM Beta (in \\%)             &   0.94 &   1.08 &   1.00 &    0.07 \\\\\n",
      "CAPM Beta Tstat              &  17.56 &  38.39 &  39.08 &    0.94 \\\\\n",
      "R\\textasciicircum2                          &   0.80 &   0.90 &   0.90 &    0.00 \\\\\n",
      "\\bottomrule\n",
      "\\end{tabular}\n",
      "\n",
      "Fixed Income\n",
      "\\begin{tabular}{lrrrr}\n",
      "\\toprule\n",
      "{} &      0 &      1 &      2 &  Factor \\\\\n",
      "\\midrule\n",
      "Monthly Return (in \\%)        &   0.06 &   0.06 &   0.13 &    0.06 \\\\\n",
      "Standard Deviation           &   3.37 &   2.33 &   3.02 &    3.56 \\\\\n",
      "Information Ratio            &   0.23 &   0.33 &   0.50 &    0.21 \\\\\n",
      "Skewness                     &   0.83 &   0.00 &   0.75 &    0.12 \\\\\n",
      "Excess Kurtosis              &   7.32 &   0.65 &   1.08 &    5.04 \\\\\n",
      "AR(1)                        &  -0.09 &   0.09 &   0.13 &   -0.04 \\\\\n",
      "AR(1) Tstat                  &  -1.02 &   1.30 &   1.67 &   -0.45 \\\\\n",
      "CAPM Alpha Annualized (in \\%) &  -0.25 &   0.01 &   0.55 &    0.80 \\\\\n",
      "CAPM Alpha Tstat             &  -0.51 &   0.04 &   1.37 &    0.98 \\\\\n",
      "CAPM Beta (in \\%)             &   1.10 &   0.82 &   1.04 &   -0.06 \\\\\n",
      "CAPM Beta Tstat              &  10.45 &  20.06 &  13.71 &   -0.35 \\\\\n",
      "R\\textasciicircum2                          &   0.60 &   0.71 &   0.67 &    0.00 \\\\\n",
      "\\bottomrule\n",
      "\\end{tabular}\n",
      "\n"
     ]
    }
   ],
   "source": [
    "for sec in ['Commodities', 'Equities', 'Fixed Income']:\n",
    "    print(sec)\n",
    "    print(portfolio_sort_table(sector_portfolio_sorts[sec],sector_rtns[sec]).to_latex())"
   ]
  },
  {
   "cell_type": "markdown",
   "metadata": {},
   "source": [
    "# FHT Annual portfolio sorts"
   ]
  },
  {
   "cell_type": "code",
   "execution_count": 9,
   "metadata": {},
   "outputs": [
    {
     "name": "stderr",
     "output_type": "stream",
     "text": [
      "tsmom_model.py:283: FutureWarning: how in .resample() is deprecated\n",
      "the new syntax is .resample(...).count()\n",
      "  nonzero=x[x==0].resample(rule='m',how='count')\n",
      "tsmom_model.py:284: FutureWarning: how in .resample() is deprecated\n",
      "the new syntax is .resample(...).count()\n",
      "  Z=(nonzero/x.resample(rule='m',how='count')).dropna()\n",
      "tsmom_model.py:285: FutureWarning: pd.rolling_std is deprecated for Series and will be removed in a future version, replace with \n",
      "\tSeries.rolling(window=12,center=False).std()\n",
      "  data[c]=pd.Series(norm.cdf((1+Z)/2.),index=Z.index)*2*pd.rolling_std(x,12).resample(rule='m',how='last')\n",
      "tsmom_model.py:285: FutureWarning: how in .resample() is deprecated\n",
      "the new syntax is .resample(...).last()\n",
      "  data[c]=pd.Series(norm.cdf((1+Z)/2.),index=Z.index)*2*pd.rolling_std(x,12).resample(rule='m',how='last')\n"
     ]
    }
   ],
   "source": [
    "FHT=calculate_FHT(cleansed)\n",
    "data=calc_zscore_expanding_window(FHT.dropna(how='all'),3).dropna(how='all')\n",
    "sector_zscores={}\n",
    "d_map=sector_map(FHT)\n",
    "for sect in d_map.keys():\n",
    "    sector_zscores[sect]=data[d_map[sect]].dropna(how='all')"
   ]
  },
  {
   "cell_type": "code",
   "execution_count": 10,
   "metadata": {},
   "outputs": [],
   "source": [
    "sector_portfolio_sorts_FHT={}\n",
    "for s in sector_zscores.keys():\n",
    "    sector_portfolio_sorts_FHT[s]=quantile_portfolios_annual(sector_zscores[s],cleansed,3)"
   ]
  },
  {
   "cell_type": "code",
   "execution_count": 11,
   "metadata": {},
   "outputs": [
    {
     "name": "stdout",
     "output_type": "stream",
     "text": [
      "Commodities\n",
      "\\begin{tabular}{lrrrr}\n",
      "\\toprule\n",
      "{} &      0 &      1 &      2 &  Factor \\\\\n",
      "\\midrule\n",
      "Monthly Return (in \\%)        &   0.49 &   0.86 &   0.68 &    0.20 \\\\\n",
      "Standard Deviation           &  13.27 &  13.64 &  14.02 &   13.79 \\\\\n",
      "Information Ratio            &   0.44 &   0.76 &   0.59 &    0.17 \\\\\n",
      "Skewness                     &  -0.51 &  -0.03 &  -0.50 &    0.03 \\\\\n",
      "Excess Kurtosis              &   4.37 &   2.95 &   3.06 &   -0.04 \\\\\n",
      "AR(1)                        &   0.10 &   0.20 &   0.05 &   -0.01 \\\\\n",
      "AR(1) Tstat                  &   1.02 &   2.54 &   0.70 &   -0.18 \\\\\n",
      "CAPM Alpha Annualized (in \\%) &   3.36 &   7.75 &   5.58 &    2.22 \\\\\n",
      "CAPM Alpha Tstat             &   2.27 &   4.93 &   3.37 &    0.81 \\\\\n",
      "CAPM Beta (in \\%)             &   0.96 &   1.00 &   1.01 &    0.05 \\\\\n",
      "CAPM Beta Tstat              &  23.56 &  17.22 &  22.30 &    0.59 \\\\\n",
      "R\\textasciicircum2                          &   0.68 &   0.69 &   0.67 &    0.00 \\\\\n",
      "\\bottomrule\n",
      "\\end{tabular}\n",
      "\n",
      "Equities\n",
      "\\begin{tabular}{lrrrr}\n",
      "\\toprule\n",
      "{} &      0 &      1 &      2 &  Factor \\\\\n",
      "\\midrule\n",
      "Monthly Return (in \\%)        &   0.62 &   0.56 &   0.77 &    0.15 \\\\\n",
      "Standard Deviation           &  17.06 &  16.41 &  17.87 &   14.50 \\\\\n",
      "Information Ratio            &   0.43 &   0.41 &   0.51 &    0.12 \\\\\n",
      "Skewness                     &  -0.32 &  -0.58 &  -0.36 &   -0.56 \\\\\n",
      "Excess Kurtosis              &   1.11 &   1.71 &   3.42 &    8.03 \\\\\n",
      "AR(1)                        &   0.12 &   0.10 &   0.11 &    0.06 \\\\\n",
      "AR(1) Tstat                  &   1.87 &   1.44 &   1.47 &    0.72 \\\\\n",
      "CAPM Alpha Annualized (in \\%) &   4.36 &   3.72 &   6.09 &    1.73 \\\\\n",
      "CAPM Alpha Tstat             &   2.06 &   1.89 &   2.61 &    0.57 \\\\\n",
      "CAPM Beta (in \\%)             &   0.79 &   0.76 &   0.80 &    0.02 \\\\\n",
      "CAPM Beta Tstat              &   8.00 &   7.63 &   7.40 &    0.19 \\\\\n",
      "R\\textasciicircum2                          &   0.64 &   0.64 &   0.60 &    0.00 \\\\\n",
      "\\bottomrule\n",
      "\\end{tabular}\n",
      "\n",
      "Fixed Income\n",
      "\\begin{tabular}{lrrrr}\n",
      "\\toprule\n",
      "{} &      0 &      1 &      2 &  Factor \\\\\n",
      "\\midrule\n",
      "Monthly Return (in \\%)        &   0.01 &   0.08 &   0.13 &    0.12 \\\\\n",
      "Standard Deviation           &   2.18 &   2.65 &   3.90 &    3.34 \\\\\n",
      "Information Ratio            &   0.07 &   0.37 &   0.41 &    0.43 \\\\\n",
      "Skewness                     &  -0.08 &   0.43 &   0.19 &    0.32 \\\\\n",
      "Excess Kurtosis              &   2.60 &   3.92 &   1.08 &    1.55 \\\\\n",
      "AR(1)                        &   0.08 &   0.13 &   0.12 &    0.07 \\\\\n",
      "AR(1) Tstat                  &   1.13 &   1.94 &   2.32 &    1.13 \\\\\n",
      "CAPM Alpha Annualized (in \\%) &  -0.35 &   0.30 &   0.52 &    0.87 \\\\\n",
      "CAPM Alpha Tstat             &  -1.28 &   1.08 &   1.46 &    1.55 \\\\\n",
      "CAPM Beta (in \\%)             &   0.67 &   0.91 &   1.42 &    0.75 \\\\\n",
      "CAPM Beta Tstat              &  13.47 &  16.61 &  21.60 &    7.36 \\\\\n",
      "R\\textasciicircum2                          &   0.57 &   0.71 &   0.80 &    0.30 \\\\\n",
      "\\bottomrule\n",
      "\\end{tabular}\n",
      "\n"
     ]
    }
   ],
   "source": [
    "for sec in ['Commodities', 'Equities', 'Fixed Income']:\n",
    "    print(sec)\n",
    "    print(portfolio_sort_table(sector_portfolio_sorts_FHT[sec],sector_rtns[sec]).to_latex())"
   ]
  },
  {
   "cell_type": "markdown",
   "metadata": {},
   "source": [
    "# Monthly portoflio sorts"
   ]
  },
  {
   "cell_type": "code",
   "execution_count": 12,
   "metadata": {},
   "outputs": [],
   "source": [
    "amihud_monthly = read_monthly(amihud=True)"
   ]
  },
  {
   "cell_type": "code",
   "execution_count": 13,
   "metadata": {},
   "outputs": [
    {
     "name": "stdout",
     "output_type": "stream",
     "text": [
      "Commodities\n",
      "\\begin{tabular}{lrrrr}\n",
      "\\toprule\n",
      "{} &      0 &      1 &      2 &  Factor \\\\\n",
      "\\midrule\n",
      "Monthly Return (in \\%)        &   0.69 &   0.52 &   0.80 &    0.11 \\\\\n",
      "Standard Deviation           &  14.87 &  13.83 &  16.55 &   14.31 \\\\\n",
      "Information Ratio            &   0.56 &   0.45 &   0.58 &    0.09 \\\\\n",
      "Skewness                     &  -0.35 &  -0.47 &  -0.26 &    0.05 \\\\\n",
      "Excess Kurtosis              &   3.14 &   1.66 &   3.03 &    1.01 \\\\\n",
      "AR(1)                        &   0.10 &   0.11 &  -0.00 &   -0.29 \\\\\n",
      "AR(1) Tstat                  &   0.94 &   1.08 &  -0.04 &   -3.88 \\\\\n",
      "CAPM Alpha Annualized (in \\%) &   5.96 &   3.97 &   7.00 &    1.03 \\\\\n",
      "CAPM Alpha Tstat             &   3.44 &   2.33 &   3.88 &    0.35 \\\\\n",
      "CAPM Beta (in \\%)             &   0.96 &   0.91 &   1.07 &    0.12 \\\\\n",
      "CAPM Beta Tstat              &  23.02 &  21.66 &  21.81 &    1.54 \\\\\n",
      "R\\textasciicircum2                          &   0.72 &   0.76 &   0.74 &    0.01 \\\\\n",
      "\\bottomrule\n",
      "\\end{tabular}\n",
      "\n",
      "Equities\n",
      "\\begin{tabular}{lrrrr}\n",
      "\\toprule\n",
      "{} &      0 &      1 &      2 &  Factor \\\\\n",
      "\\midrule\n",
      "Monthly Return (in \\%)        &   0.40 &   0.36 &   0.39 &   -0.01 \\\\\n",
      "Standard Deviation           &  16.89 &  15.51 &  15.97 &   10.67 \\\\\n",
      "Information Ratio            &   0.28 &   0.28 &   0.29 &   -0.01 \\\\\n",
      "Skewness                     &  -0.79 &  -0.70 &  -0.62 &   -0.35 \\\\\n",
      "Excess Kurtosis              &   2.88 &   0.89 &   0.80 &    0.49 \\\\\n",
      "AR(1)                        &   0.18 &   0.23 &   0.14 &   -0.01 \\\\\n",
      "AR(1) Tstat                  &   1.87 &   3.15 &   1.74 &   -0.10 \\\\\n",
      "CAPM Alpha Annualized (in \\%) &   2.62 &   2.23 &   2.53 &   -0.10 \\\\\n",
      "CAPM Alpha Tstat             &   1.44 &   1.74 &   2.02 &   -0.04 \\\\\n",
      "CAPM Beta (in \\%)             &   1.04 &   0.99 &   1.03 &   -0.02 \\\\\n",
      "CAPM Beta Tstat              &  20.30 &  30.58 &  33.68 &   -0.22 \\\\\n",
      "R\\textasciicircum2                          &   0.82 &   0.89 &   0.89 &    0.00 \\\\\n",
      "\\bottomrule\n",
      "\\end{tabular}\n",
      "\n",
      "Fixed Income\n",
      "\\begin{tabular}{lrrrr}\n",
      "\\toprule\n",
      "{} &      0 &      1 &      2 &  Factor \\\\\n",
      "\\midrule\n",
      "Monthly Return (in \\%)        &   0.10 &   0.09 &   0.12 &    0.02 \\\\\n",
      "Standard Deviation           &   3.44 &   2.65 &   3.03 &    3.52 \\\\\n",
      "Information Ratio            &   0.36 &   0.41 &   0.49 &    0.07 \\\\\n",
      "Skewness                     &  -0.05 &   0.82 &   0.57 &    0.70 \\\\\n",
      "Excess Kurtosis              &   1.59 &   5.85 &   0.96 &    2.77 \\\\\n",
      "AR(1)                        &  -0.07 &   0.01 &   0.09 &   -0.04 \\\\\n",
      "AR(1) Tstat                  &  -0.98 &   0.18 &   1.17 &   -0.46 \\\\\n",
      "CAPM Alpha Annualized (in \\%) &   0.01 &   0.13 &   0.37 &    0.36 \\\\\n",
      "CAPM Alpha Tstat             &   0.03 &   0.34 &   0.85 &    0.42 \\\\\n",
      "CAPM Beta (in \\%)             &   1.15 &   0.90 &   1.03 &   -0.12 \\\\\n",
      "CAPM Beta Tstat              &  15.35 &  10.53 &  12.39 &   -0.83 \\\\\n",
      "R\\textasciicircum2                          &   0.62 &   0.63 &   0.64 &    0.00 \\\\\n",
      "\\bottomrule\n",
      "\\end{tabular}\n",
      "\n"
     ]
    }
   ],
   "source": [
    "for sec in ['Commodities', 'Equities', 'Fixed Income']:\n",
    "    print(sec)\n",
    "    print(portfolio_sort_table(amihud_monthly[sec],sector_rtns[sec]).to_latex())\n"
   ]
  },
  {
   "cell_type": "markdown",
   "metadata": {},
   "source": [
    "# Monthly FHT"
   ]
  },
  {
   "cell_type": "code",
   "execution_count": 14,
   "metadata": {},
   "outputs": [],
   "source": [
    "FHT_monthly = read_monthly(amihud=False)"
   ]
  },
  {
   "cell_type": "code",
   "execution_count": 15,
   "metadata": {},
   "outputs": [
    {
     "name": "stdout",
     "output_type": "stream",
     "text": [
      "Commodities\n",
      "\\begin{tabular}{lrrrr}\n",
      "\\toprule\n",
      "{} &      0 &      1 &      2 &  Factor \\\\\n",
      "\\midrule\n",
      "Monthly Return (in \\%)        &   0.78 &   0.62 &   0.53 &   -0.25 \\\\\n",
      "Standard Deviation           &  12.49 &  12.73 &  14.76 &   13.41 \\\\\n",
      "Information Ratio            &   0.75 &   0.59 &   0.43 &   -0.23 \\\\\n",
      "Skewness                     &  -0.08 &  -0.61 &  -0.26 &   -0.14 \\\\\n",
      "Excess Kurtosis              &   1.87 &   3.79 &   3.89 &    0.80 \\\\\n",
      "AR(1)                        &   0.16 &   0.16 &  -0.01 &   -0.11 \\\\\n",
      "AR(1) Tstat                  &   2.17 &   2.02 &  -0.10 &   -1.69 \\\\\n",
      "CAPM Alpha Annualized (in \\%) &   7.14 &   5.03 &   3.56 &   -3.58 \\\\\n",
      "CAPM Alpha Tstat             &   5.03 &   3.76 &   2.36 &   -1.43 \\\\\n",
      "CAPM Beta (in \\%)             &   0.89 &   0.96 &   1.10 &    0.21 \\\\\n",
      "CAPM Beta Tstat              &  17.26 &  36.58 &  26.92 &    3.11 \\\\\n",
      "R\\textasciicircum2                          &   0.66 &   0.74 &   0.72 &    0.03 \\\\\n",
      "\\bottomrule\n",
      "\\end{tabular}\n",
      "\n",
      "Equities\n",
      "\\begin{tabular}{lrrrr}\n",
      "\\toprule\n",
      "{} &      0 &      1 &      2 &  Factor \\\\\n",
      "\\midrule\n",
      "Monthly Return (in \\%)        &   0.72 &   0.76 &   0.79 &    0.08 \\\\\n",
      "Standard Deviation           &  21.04 &  17.41 &  17.69 &   19.20 \\\\\n",
      "Information Ratio            &   0.41 &   0.52 &   0.54 &    0.05 \\\\\n",
      "Skewness                     &   2.59 &   0.26 &   0.10 &   -3.04 \\\\\n",
      "Excess Kurtosis              &  25.92 &   5.04 &   4.79 &   41.23 \\\\\n",
      "AR(1)                        &   0.09 &   0.09 &   0.09 &   -0.11 \\\\\n",
      "AR(1) Tstat                  &   1.95 &   1.16 &   1.31 &   -1.55 \\\\\n",
      "CAPM Alpha Annualized (in \\%) &   5.34 &   5.97 &   6.55 &    1.21 \\\\\n",
      "CAPM Alpha Tstat             &   1.82 &   2.87 &   2.55 &    0.35 \\\\\n",
      "CAPM Beta (in \\%)             &   0.84 &   0.80 &   0.76 &   -0.08 \\\\\n",
      "CAPM Beta Tstat              &   7.24 &   7.59 &   7.48 &   -0.85 \\\\\n",
      "R\\textasciicircum2                          &   0.47 &   0.63 &   0.55 &    0.00 \\\\\n",
      "\\bottomrule\n",
      "\\end{tabular}\n",
      "\n",
      "Fixed Income\n",
      "\\begin{tabular}{lrrrr}\n",
      "\\toprule\n",
      "{} &      0 &      1 &      2 &  Factor \\\\\n",
      "\\midrule\n",
      "Monthly Return (in \\%)        &   0.08 &   0.05 &   0.08 &   -0.00 \\\\\n",
      "Standard Deviation           &   2.15 &   2.89 &   3.73 &    3.49 \\\\\n",
      "Information Ratio            &   0.45 &   0.22 &   0.26 &   -0.00 \\\\\n",
      "Skewness                     &   0.46 &   0.27 &  -0.17 &    0.19 \\\\\n",
      "Excess Kurtosis              &   2.83 &   2.04 &   0.81 &    1.65 \\\\\n",
      "AR(1)                        &   0.20 &   0.17 &   0.04 &    0.04 \\\\\n",
      "AR(1) Tstat                  &   3.56 &   2.56 &   0.68 &    0.71 \\\\\n",
      "CAPM Alpha Annualized (in \\%) &   0.50 &  -0.15 &  -0.10 &   -0.60 \\\\\n",
      "CAPM Alpha Tstat             &   1.52 &  -0.47 &  -0.27 &   -0.97 \\\\\n",
      "CAPM Beta (in \\%)             &   0.59 &   0.99 &   1.34 &    0.75 \\\\\n",
      "CAPM Beta Tstat              &  11.70 &  18.68 &  18.90 &    6.67 \\\\\n",
      "R\\textasciicircum2                          &   0.45 &   0.71 &   0.77 &    0.27 \\\\\n",
      "\\bottomrule\n",
      "\\end{tabular}\n",
      "\n"
     ]
    }
   ],
   "source": [
    "for sec in ['Commodities', 'Equities', 'Fixed Income']:\n",
    "    print(sec)\n",
    "    print(portfolio_sort_table(FHT_monthly[sec],sector_rtns[sec]).to_latex())\n",
    "\n"
   ]
  }
 ],
 "metadata": {
  "kernelspec": {
   "display_name": "Python 2",
   "language": "python",
   "name": "python2"
  },
  "language_info": {
   "codemirror_mode": {
    "name": "ipython",
    "version": 2
   },
   "file_extension": ".py",
   "mimetype": "text/x-python",
   "name": "python",
   "nbconvert_exporter": "python",
   "pygments_lexer": "ipython2",
   "version": "2.7.12"
  }
 },
 "nbformat": 4,
 "nbformat_minor": 2
}
