{
 "cells": [
  {
   "cell_type": "code",
   "execution_count": 1,
   "metadata": {},
   "outputs": [
    {
     "name": "stderr",
     "output_type": "stream",
     "text": [
      "/Users/mrefermat/anaconda/lib/python2.7/site-packages/IPython/utils/traitlets.py:5: UserWarning: IPython.utils.traitlets has moved to a top-level traitlets package.\n",
      "  warn(\"IPython.utils.traitlets has moved to a top-level traitlets package.\")\n",
      "/Users/mrefermat/anaconda/lib/python2.7/site-packages/IPython/kernel/__init__.py:13: ShimWarning: The `IPython.kernel` package has been deprecated since IPython 4.0.You should import from ipykernel or jupyter_client instead.\n",
      "  \"You should import from ipykernel or jupyter_client instead.\", ShimWarning)\n"
     ]
    }
   ],
   "source": [
    "%matplotlib inline\n",
    "import seaborn\n",
    "import quandl\n",
    "import pandas as pd\n",
    "import seaborn as sns\n",
    "import math\n",
    "from tsmom_model import *\n",
    "import numpy as np\n",
    "from datetime import datetime\n",
    "import statsmodels.formula.api as sm\n",
    "token=\"Us3wFmXGgAj_1cUtHAAR\""
   ]
  },
  {
   "cell_type": "code",
   "execution_count": 2,
   "metadata": {},
   "outputs": [],
   "source": [
    "import pylab\n",
    "sns.set(font_scale=3)\n",
    "pylab.rcParams['figure.figsize'] = (24, 18)"
   ]
  },
  {
   "cell_type": "code",
   "execution_count": 3,
   "metadata": {},
   "outputs": [
    {
     "name": "stderr",
     "output_type": "stream",
     "text": [
      "tsmom_model.py:160: FutureWarning: how in .resample() is deprecated\n",
      "the new syntax is .resample(...).last()\n",
      "  data=pd.read_csv('./Price.csv',index_col=0,parse_dates=['Date']).resample(rule='d',how='last')\n",
      "tsmom_model.py:162: FutureWarning: how in .resample() is deprecated\n",
      "the new syntax is .resample(...).last()\n",
      "  qd=pd.read_csv('./liquid_contracts.csv',index_col=0,parse_dates=['Date']).resample(rule='d',how='last')\n"
     ]
    }
   ],
   "source": [
    "cleansed=load_amihud_markets_price()"
   ]
  },
  {
   "cell_type": "code",
   "execution_count": 4,
   "metadata": {},
   "outputs": [
    {
     "name": "stderr",
     "output_type": "stream",
     "text": [
      "tsmom_model.py:44: FutureWarning: how in .resample() is deprecated\n",
      "the new syntax is .resample(...).mean()\n",
      "  data=pd.read_csv('./Volume.csv',index_col=0,parse_dates=['Date']).resample(rule='d',how='mean')\n",
      "tsmom_model.py:46: FutureWarning: how in .resample() is deprecated\n",
      "the new syntax is .resample(...).sum()\n",
      "  v=pd.read_csv('./volume_data.csv',index_col=0,parse_dates=['Date']).resample(rule='d',how='sum')\n",
      "tsmom_model.py:48: FutureWarning: pd.rolling_mean is deprecated for DataFrame and will be removed in a future version, replace with \n",
      "\tDataFrame.rolling(min_periods=100,window=250,center=False).mean()\n",
      "  volume=pd.rolling_mean(v,250,min_periods=100).resample(rule='d',how='mean')[:'2016']\n",
      "tsmom_model.py:48: FutureWarning: how in .resample() is deprecated\n",
      "the new syntax is .resample(...).mean()\n",
      "  volume=pd.rolling_mean(v,250,min_periods=100).resample(rule='d',how='mean')[:'2016']\n",
      "tsmom_model.py:51: FutureWarning: pd.rolling_mean is deprecated for Series and will be removed in a future version, replace with \n",
      "\tSeries.rolling(min_periods=50,window=250,center=False).mean()\n",
      "  volume[name]=pd.rolling_mean(v2[x],250,min_periods=50).resample(rule='d',how='mean')\n",
      "tsmom_model.py:51: FutureWarning: how in .resample() is deprecated\n",
      "the new syntax is .resample(...).mean()\n",
      "  volume[name]=pd.rolling_mean(v2[x],250,min_periods=50).resample(rule='d',how='mean')\n",
      "tsmom_model.py:78: FutureWarning: how in .resample() is deprecated\n",
      "the new syntax is .resample(...).last()\n",
      "  fx=fx.resample(rule='d',how='last')\n",
      "tsmom_model.py:79: FutureWarning: how in .resample() is deprecated\n",
      "the new syntax is .resample(...).last()\n",
      "  px=cleansed.resample(rule='d',how='last')\n",
      "tsmom_model.py:87: FutureWarning: how in .resample() is deprecated\n",
      "the new syntax is .resample(...).mean()\n",
      "  x= (cleansed.pct_change().abs()/ total_vol).resample(rule='m',how='mean')\n"
     ]
    }
   ],
   "source": [
    "amihud=calculate_amihud_liquidity(cleansed)[:'2016'] "
   ]
  },
  {
   "cell_type": "code",
   "execution_count": 5,
   "metadata": {},
   "outputs": [
    {
     "name": "stderr",
     "output_type": "stream",
     "text": [
      "/Users/mrefermat/anaconda/lib/python2.7/site-packages/ipykernel_launcher.py:4: FutureWarning: how in .resample() is deprecated\n",
      "the new syntax is .resample(...).last()\n",
      "  after removing the cwd from sys.path.\n"
     ]
    }
   ],
   "source": [
    "sector_rtns={}\n",
    "d_map=sector_map(amihud)\n",
    "for sect in d_map.keys():\n",
    "    sector_rtns[sect]=np.log(cleansed[d_map[sect]].resample(rule='m',how='last')).diff().dropna(how='all')"
   ]
  },
  {
   "cell_type": "markdown",
   "metadata": {},
   "source": [
    "# Presentation to be like \"Time Varying Liquidity and Momentum Profits (2015) paper\n",
    "\n",
    "Rank by deciles, HML (8,9,10) - (1,2,3).  Save monthly returns (equal (risk?) weighted) and if you want to annualized then resample.\n",
    "\n",
    "\n",
    "Then correlation matrix \n",
    "* Overall market vol?\n",
    "* Market illiquidity (median Amihud through time series)\n"
   ]
  },
  {
   "cell_type": "markdown",
   "metadata": {},
   "source": [
    "# Amihud (2002) Annual portfolio sorts"
   ]
  },
  {
   "cell_type": "code",
   "execution_count": 6,
   "metadata": {},
   "outputs": [
    {
     "name": "stderr",
     "output_type": "stream",
     "text": [
      "tsmom_model.py:275: FutureWarning: pd.rolling_mean is deprecated for DataFrame and will be removed in a future version, replace with \n",
      "\tDataFrame.rolling(min_periods=3,window=100000000,center=False).mean()\n",
      "  return (df-pd.rolling_mean(df,100000000,min_periods=min_per))/pd.rolling_std(df,100000000,min_periods=min_per)\n",
      "tsmom_model.py:275: FutureWarning: pd.rolling_std is deprecated for DataFrame and will be removed in a future version, replace with \n",
      "\tDataFrame.rolling(min_periods=3,window=100000000,center=False).std()\n",
      "  return (df-pd.rolling_mean(df,100000000,min_periods=min_per))/pd.rolling_std(df,100000000,min_periods=min_per)\n"
     ]
    }
   ],
   "source": [
    "data=calc_zscore_expanding_window(amihud.dropna(how='all'),3).dropna(how='all')\n",
    "sector_zscores={}\n",
    "d_map=sector_map(amihud)\n",
    "for sect in d_map.keys():\n",
    "    sector_zscores[sect]=data[d_map[sect]].dropna(how='all')"
   ]
  },
  {
   "cell_type": "markdown",
   "metadata": {},
   "source": [
    "# Annual portfolio sorts"
   ]
  },
  {
   "cell_type": "code",
   "execution_count": 7,
   "metadata": {},
   "outputs": [
    {
     "name": "stderr",
     "output_type": "stream",
     "text": [
      "tsmom_model.py:240: FutureWarning: how in .resample() is deprecated\n",
      "the new syntax is .resample(...).median()\n",
      "  mkts=quantile_columns(rank_data.resample(rule='a',how='median'),year,number_of_buckets,i)\n",
      "tsmom_model.py:241: FutureWarning: how in .resample() is deprecated\n",
      "the new syntax is .resample(...).last()\n",
      "  rtns = price_data.resample(rule='m',how='last')[mkts].pct_change()[str(y+1)].mean(axis=1)\n"
     ]
    }
   ],
   "source": [
    "sector_portfolio_sorts={}\n",
    "for s in sector_zscores.keys():\n",
    "    sector_portfolio_sorts[s]=quantile_portfolios_annual(sector_zscores[s],cleansed,2)\n",
    "sector_portfolio_sorts['All']=quantile_portfolios_annual(data,cleansed,2)"
   ]
  },
  {
   "cell_type": "code",
   "execution_count": 8,
   "metadata": {},
   "outputs": [
    {
     "name": "stdout",
     "output_type": "stream",
     "text": [
      "Agriculturals\n"
     ]
    },
    {
     "name": "stderr",
     "output_type": "stream",
     "text": [
      "/Users/mrefermat/anaconda/lib/python2.7/site-packages/ipykernel_launcher.py:3: FutureWarning: how in .resample() is deprecated\n",
      "the new syntax is .resample(...).last()\n",
      "  This is separate from the ipykernel package so we can avoid doing imports until\n"
     ]
    },
    {
     "name": "stdout",
     "output_type": "stream",
     "text": [
      "\\begin{tabular}{lrrr}\n",
      "\\toprule\n",
      "{} &      0 &      1 &  Factor \\\\\n",
      "\\midrule\n",
      "Monthly Return (in \\%)        &   0.68 &   0.93 &    0.26 \\\\\n",
      "Standard Deviation           &  15.17 &  15.41 &   12.98 \\\\\n",
      "Information Ratio            &   0.53 &   0.73 &    0.24 \\\\\n",
      "Skewness                     &  -0.08 &   0.45 &    0.02 \\\\\n",
      "Excess Kurtosis              &   1.27 &   4.22 &    2.20 \\\\\n",
      "CAPM Alpha Annualized (in \\%) &   4.46 &   7.51 &    3.05 \\\\\n",
      "CAPM Alpha Tstat             &   2.97 &   5.03 &    1.07 \\\\\n",
      "CAPM Beta (in \\%)             &   1.01 &   1.01 &    0.00 \\\\\n",
      "CAPM Beta Tstat              &  25.46 &  19.00 &    0.06 \\\\\n",
      "\\$R\\textasciicircum2\\$                        &   0.81 &   0.79 &    0.00 \\\\\n",
      "\\bottomrule\n",
      "\\end{tabular}\n",
      "\n",
      "All\n",
      "\\begin{tabular}{lrrr}\n",
      "\\toprule\n",
      "{} &      0 &      1 &  Factor \\\\\n",
      "\\midrule\n",
      "Monthly Return (in \\%)        &   0.45 &   0.62 &    0.17 \\\\\n",
      "Standard Deviation           &   8.99 &   9.23 &    5.76 \\\\\n",
      "Information Ratio            &   0.60 &   0.81 &    0.36 \\\\\n",
      "Skewness                     &  -1.31 &  -0.81 &    0.13 \\\\\n",
      "Excess Kurtosis              &   7.39 &   3.30 &    0.90 \\\\\n",
      "CAPM Alpha Annualized (in \\%) &   2.83 &   4.86 &    2.03 \\\\\n",
      "CAPM Alpha Tstat             &   4.20 &   6.64 &    1.54 \\\\\n",
      "CAPM Beta (in \\%)             &   0.99 &   1.02 &    0.03 \\\\\n",
      "CAPM Beta Tstat              &  47.87 &  24.57 &    0.47 \\\\\n",
      "\\$R\\textasciicircum2\\$                        &   0.89 &   0.89 &    0.00 \\\\\n",
      "\\bottomrule\n",
      "\\end{tabular}\n",
      "\n",
      "Currencies\n",
      "\\begin{tabular}{lrrr}\n",
      "\\toprule\n",
      "{} &      0 &      1 &  Factor \\\\\n",
      "\\midrule\n",
      "Monthly Return (in \\%)        &  -0.13 &   0.08 &    0.20 \\\\\n",
      "Standard Deviation           &   7.21 &   7.22 &    7.07 \\\\\n",
      "Information Ratio            &  -0.21 &   0.13 &    0.35 \\\\\n",
      "Skewness                     &   0.10 &  -0.33 &   -0.51 \\\\\n",
      "Excess Kurtosis              &   1.46 &   1.24 &    1.89 \\\\\n",
      "CAPM Alpha Annualized (in \\%) &  -0.97 &   1.49 &    2.46 \\\\\n",
      "CAPM Alpha Tstat             &  -1.01 &   1.60 &    1.45 \\\\\n",
      "CAPM Beta (in \\%)             &   1.10 &   1.13 &    0.03 \\\\\n",
      "CAPM Beta Tstat              &  13.41 &  19.87 &    0.24 \\\\\n",
      "\\$R\\textasciicircum2\\$                        &   0.68 &   0.72 &    0.00 \\\\\n",
      "\\bottomrule\n",
      "\\end{tabular}\n",
      "\n",
      "Energies\n",
      "\\begin{tabular}{lrrr}\n",
      "\\toprule\n",
      "{} &      0 &      1 &  Factor \\\\\n",
      "\\midrule\n",
      "Monthly Return (in \\%)        &   1.04 &   1.52 &    0.48 \\\\\n",
      "Standard Deviation           &  29.78 &  28.71 &   30.22 \\\\\n",
      "Information Ratio            &   0.42 &   0.64 &    0.19 \\\\\n",
      "Skewness                     &  -0.00 &   0.90 &    0.47 \\\\\n",
      "Excess Kurtosis              &   0.88 &   2.47 &    2.49 \\\\\n",
      "CAPM Alpha Annualized (in \\%) &   7.11 &  13.42 &    6.31 \\\\\n",
      "CAPM Alpha Tstat             &   1.93 &   3.16 &    0.86 \\\\\n",
      "CAPM Beta (in \\%)             &   1.08 &   0.97 &   -0.11 \\\\\n",
      "CAPM Beta Tstat              &  17.65 &  12.84 &   -0.93 \\\\\n",
      "\\$R\\textasciicircum2\\$                        &   0.74 &   0.64 &    0.00 \\\\\n",
      "\\bottomrule\n",
      "\\end{tabular}\n",
      "\n",
      "Equities\n",
      "\\begin{tabular}{lrrr}\n",
      "\\toprule\n",
      "{} &      0 &      1 &  Factor \\\\\n",
      "\\midrule\n",
      "Monthly Return (in \\%)        &   0.42 &   0.41 &   -0.01 \\\\\n",
      "Standard Deviation           &  15.22 &  14.89 &    7.97 \\\\\n",
      "Information Ratio            &   0.33 &   0.33 &   -0.01 \\\\\n",
      "Skewness                     &  -0.98 &  -0.63 &   -0.12 \\\\\n",
      "Excess Kurtosis              &   3.35 &   0.80 &    0.44 \\\\\n",
      "CAPM Alpha Annualized (in \\%) &   2.68 &   2.60 &   -0.07 \\\\\n",
      "CAPM Alpha Tstat             &   2.36 &   2.96 &   -0.04 \\\\\n",
      "CAPM Beta (in \\%)             &   1.01 &   1.00 &   -0.01 \\\\\n",
      "CAPM Beta Tstat              &  29.26 &  39.90 &   -0.18 \\\\\n",
      "\\$R\\textasciicircum2\\$                        &   0.91 &   0.93 &    0.00 \\\\\n",
      "\\bottomrule\n",
      "\\end{tabular}\n",
      "\n",
      "Metals\n",
      "\\begin{tabular}{lrrr}\n",
      "\\toprule\n",
      "{} &      0 &      1 &  Factor \\\\\n",
      "\\midrule\n",
      "Monthly Return (in \\%)        &   0.73 &   0.66 &   -0.07 \\\\\n",
      "Standard Deviation           &  16.97 &  21.77 &   14.08 \\\\\n",
      "Information Ratio            &   0.52 &   0.37 &   -0.06 \\\\\n",
      "Skewness                     &  -0.92 &  -0.21 &    0.18 \\\\\n",
      "Excess Kurtosis              &   4.29 &   1.62 &    0.74 \\\\\n",
      "CAPM Alpha Annualized (in \\%) &   5.56 &   3.85 &   -1.70 \\\\\n",
      "CAPM Alpha Tstat             &   4.01 &   1.89 &   -0.57 \\\\\n",
      "CAPM Beta (in \\%)             &   0.84 &   1.07 &    0.23 \\\\\n",
      "CAPM Beta Tstat              &  28.66 &  16.56 &    2.94 \\\\\n",
      "\\$R\\textasciicircum2\\$                        &   0.85 &   0.85 &    0.09 \\\\\n",
      "\\bottomrule\n",
      "\\end{tabular}\n",
      "\n",
      "Fixed Income\n",
      "\\begin{tabular}{lrrr}\n",
      "\\toprule\n",
      "{} &      0 &      1 &  Factor \\\\\n",
      "\\midrule\n",
      "Monthly Return (in \\%)        &   0.06 &   0.10 &    0.04 \\\\\n",
      "Standard Deviation           &   2.84 &   2.63 &    2.67 \\\\\n",
      "Information Ratio            &   0.27 &   0.48 &    0.18 \\\\\n",
      "Skewness                     &   0.29 &   0.62 &    0.42 \\\\\n",
      "Excess Kurtosis              &   3.53 &   0.83 &    2.69 \\\\\n",
      "CAPM Alpha Annualized (in \\%) &  -0.19 &   0.39 &    0.58 \\\\\n",
      "CAPM Alpha Tstat             &  -0.57 &   1.17 &    0.92 \\\\\n",
      "CAPM Beta (in \\%)             &   1.03 &   0.94 &   -0.10 \\\\\n",
      "CAPM Beta Tstat              &  14.90 &  14.55 &   -0.75 \\\\\n",
      "\\$R\\textasciicircum2\\$                        &   0.75 &   0.72 &    0.00 \\\\\n",
      "\\bottomrule\n",
      "\\end{tabular}\n",
      "\n"
     ]
    }
   ],
   "source": [
    "for sec in sector_portfolio_sorts.keys():\n",
    "    print(sec)\n",
    "    print(portfolio_sort_table(sector_portfolio_sorts[sec],np.log(cleansed.resample(rule='m',how='last')).diff().dropna(how='all'),d_map,sec).to_latex())\n"
   ]
  },
  {
   "cell_type": "markdown",
   "metadata": {},
   "source": [
    "# FHT Annual portfolio sorts"
   ]
  },
  {
   "cell_type": "code",
   "execution_count": 9,
   "metadata": {},
   "outputs": [
    {
     "name": "stderr",
     "output_type": "stream",
     "text": [
      "tsmom_model.py:288: FutureWarning: how in .resample() is deprecated\n",
      "the new syntax is .resample(...).count()\n",
      "  nonzero=x[x==0].resample(rule='m',how='count')\n",
      "tsmom_model.py:289: FutureWarning: how in .resample() is deprecated\n",
      "the new syntax is .resample(...).count()\n",
      "  Z=(nonzero/x.resample(rule='m',how='count')).dropna()\n",
      "tsmom_model.py:290: FutureWarning: pd.rolling_std is deprecated for Series and will be removed in a future version, replace with \n",
      "\tSeries.rolling(window=12,center=False).std()\n",
      "  data[c]=pd.Series(norm.cdf((1+Z)/2.),index=Z.index)*2*pd.rolling_std(x,12).resample(rule='m',how='last')\n",
      "tsmom_model.py:290: FutureWarning: how in .resample() is deprecated\n",
      "the new syntax is .resample(...).last()\n",
      "  data[c]=pd.Series(norm.cdf((1+Z)/2.),index=Z.index)*2*pd.rolling_std(x,12).resample(rule='m',how='last')\n"
     ]
    }
   ],
   "source": [
    "FHT=calculate_FHT(cleansed)\n",
    "data=calc_zscore_expanding_window(FHT.dropna(how='all'),3).dropna(how='all')\n",
    "sector_zscores={}\n",
    "d_map=sector_map(FHT)\n",
    "for sect in d_map.keys():\n",
    "    sector_zscores[sect]=data[d_map[sect]].dropna(how='all')"
   ]
  },
  {
   "cell_type": "code",
   "execution_count": 10,
   "metadata": {},
   "outputs": [],
   "source": [
    "sector_portfolio_sorts_FHT={}\n",
    "for s in sector_zscores.keys():\n",
    "    sector_portfolio_sorts_FHT[s]=quantile_portfolios_annual(sector_zscores[s],cleansed,2)\n",
    "sector_portfolio_sorts_FHT['All']=quantile_portfolios_annual(data,cleansed,2)"
   ]
  },
  {
   "cell_type": "code",
   "execution_count": 11,
   "metadata": {},
   "outputs": [
    {
     "name": "stdout",
     "output_type": "stream",
     "text": [
      "Agriculturals\n"
     ]
    },
    {
     "name": "stderr",
     "output_type": "stream",
     "text": [
      "/Users/mrefermat/anaconda/lib/python2.7/site-packages/ipykernel_launcher.py:3: FutureWarning: how in .resample() is deprecated\n",
      "the new syntax is .resample(...).last()\n",
      "  This is separate from the ipykernel package so we can avoid doing imports until\n"
     ]
    },
    {
     "name": "stdout",
     "output_type": "stream",
     "text": [
      "\\begin{tabular}{lrrr}\n",
      "\\toprule\n",
      "{} &      0 &      1 &  Factor \\\\\n",
      "\\midrule\n",
      "Monthly Return (in \\%)        &   0.55 &   0.65 &    0.10 \\\\\n",
      "Standard Deviation           &  13.46 &  14.60 &   12.74 \\\\\n",
      "Information Ratio            &   0.49 &   0.53 &    0.09 \\\\\n",
      "Skewness                     &  -0.14 &   0.25 &    0.15 \\\\\n",
      "Excess Kurtosis              &   1.64 &   2.68 &    1.10 \\\\\n",
      "CAPM Alpha Annualized (in \\%) &   4.93 &   6.65 &    1.72 \\\\\n",
      "CAPM Alpha Tstat             &   3.76 &   4.58 &    0.66 \\\\\n",
      "CAPM Beta (in \\%)             &   0.97 &   1.05 &    0.08 \\\\\n",
      "CAPM Beta Tstat              &  32.88 &  20.64 &    1.08 \\\\\n",
      "\\$R\\textasciicircum2\\$                        &   0.82 &   0.82 &    0.00 \\\\\n",
      "\\bottomrule\n",
      "\\end{tabular}\n",
      "\n",
      "All\n",
      "\\begin{tabular}{lrrr}\n",
      "\\toprule\n",
      "{} &      0 &      1 &  Factor \\\\\n",
      "\\midrule\n",
      "Monthly Return (in \\%)        &   0.37 &   0.56 &    0.19 \\\\\n",
      "Standard Deviation           &   7.47 &   8.69 &    6.08 \\\\\n",
      "Information Ratio            &   0.60 &   0.78 &    0.37 \\\\\n",
      "Skewness                     &  -1.16 &  -0.74 &   -0.10 \\\\\n",
      "Excess Kurtosis              &   6.26 &   3.69 &    0.23 \\\\\n",
      "CAPM Alpha Annualized (in \\%) &   3.40 &   4.06 &    0.67 \\\\\n",
      "CAPM Alpha Tstat             &   4.93 &   5.36 &    0.49 \\\\\n",
      "CAPM Beta (in \\%)             &   0.92 &   1.03 &    0.11 \\\\\n",
      "CAPM Beta Tstat              &  39.40 &  24.76 &    2.20 \\\\\n",
      "\\$R\\textasciicircum2\\$                        &   0.87 &   0.89 &    0.02 \\\\\n",
      "\\bottomrule\n",
      "\\end{tabular}\n",
      "\n",
      "Currencies\n",
      "\\begin{tabular}{lrrr}\n",
      "\\toprule\n",
      "{} &     0 &      1 &  Factor \\\\\n",
      "\\midrule\n",
      "Monthly Return (in \\%)        & -0.12 &   0.05 &    0.17 \\\\\n",
      "Standard Deviation           &  6.20 &   7.20 &    8.24 \\\\\n",
      "Information Ratio            & -0.23 &   0.09 &    0.24 \\\\\n",
      "Skewness                     & -1.07 &   0.18 &    0.44 \\\\\n",
      "Excess Kurtosis              &  4.34 &   2.52 &    2.22 \\\\\n",
      "CAPM Alpha Annualized (in \\%) & -0.77 &   0.46 &    1.23 \\\\\n",
      "CAPM Alpha Tstat             & -0.77 &   0.54 &    0.72 \\\\\n",
      "CAPM Beta (in \\%)             &  0.85 &   1.09 &    0.24 \\\\\n",
      "CAPM Beta Tstat              &  8.22 &  14.68 &    1.41 \\\\\n",
      "\\$R\\textasciicircum2\\$                        &  0.54 &   0.72 &    0.02 \\\\\n",
      "\\bottomrule\n",
      "\\end{tabular}\n",
      "\n",
      "Energies\n",
      "\\begin{tabular}{lrrr}\n",
      "\\toprule\n",
      "{} &      0 &      1 &  Factor \\\\\n",
      "\\midrule\n",
      "Monthly Return (in \\%)        &   0.80 &   1.30 &    0.50 \\\\\n",
      "Standard Deviation           &  27.34 &  27.71 &   23.96 \\\\\n",
      "Information Ratio            &   0.35 &   0.56 &    0.25 \\\\\n",
      "Skewness                     &   0.21 &   0.54 &   -0.61 \\\\\n",
      "Excess Kurtosis              &   1.88 &   1.70 &    3.99 \\\\\n",
      "CAPM Alpha Annualized (in \\%) &   6.69 &  12.99 &    6.31 \\\\\n",
      "CAPM Alpha Tstat             &   1.76 &   3.79 &    0.99 \\\\\n",
      "CAPM Beta (in \\%)             &   1.02 &   0.99 &   -0.03 \\\\\n",
      "CAPM Beta Tstat              &  20.84 &  18.82 &   -0.33 \\\\\n",
      "\\$R\\textasciicircum2\\$                        &   0.74 &   0.73 &    0.00 \\\\\n",
      "\\bottomrule\n",
      "\\end{tabular}\n",
      "\n",
      "Equities\n",
      "\\begin{tabular}{lrrr}\n",
      "\\toprule\n",
      "{} &      0 &      1 &  Factor \\\\\n",
      "\\midrule\n",
      "Monthly Return (in \\%)        &   0.56 &   0.69 &    0.13 \\\\\n",
      "Standard Deviation           &  16.53 &  16.63 &   12.23 \\\\\n",
      "Information Ratio            &   0.41 &   0.50 &    0.13 \\\\\n",
      "Skewness                     &  -0.58 &  -0.48 &   -0.40 \\\\\n",
      "Excess Kurtosis              &   1.38 &   2.57 &    6.88 \\\\\n",
      "CAPM Alpha Annualized (in \\%) &   2.46 &   2.37 &   -0.09 \\\\\n",
      "CAPM Alpha Tstat             &   2.90 &   2.49 &   -0.05 \\\\\n",
      "CAPM Beta (in \\%)             &   1.01 &   0.95 &   -0.05 \\\\\n",
      "CAPM Beta Tstat              &  43.74 &  27.52 &   -1.05 \\\\\n",
      "\\$R\\textasciicircum2\\$                        &   0.94 &   0.93 &    0.01 \\\\\n",
      "\\bottomrule\n",
      "\\end{tabular}\n",
      "\n",
      "Metals\n",
      "\\begin{tabular}{lrrr}\n",
      "\\toprule\n",
      "{} &      0 &      1 &  Factor \\\\\n",
      "\\midrule\n",
      "Monthly Return (in \\%)        &   0.65 &   0.67 &    0.01 \\\\\n",
      "Standard Deviation           &  17.74 &  18.81 &   15.02 \\\\\n",
      "Information Ratio            &   0.44 &   0.42 &    0.01 \\\\\n",
      "Skewness                     &  -0.52 &  -0.45 &   -0.08 \\\\\n",
      "Excess Kurtosis              &   3.40 &   3.35 &    1.90 \\\\\n",
      "CAPM Alpha Annualized (in \\%) &   7.08 &   2.61 &   -4.47 \\\\\n",
      "CAPM Alpha Tstat             &   3.51 &   1.46 &   -1.31 \\\\\n",
      "CAPM Beta (in \\%)             &   0.94 &   0.99 &    0.05 \\\\\n",
      "CAPM Beta Tstat              &  16.81 &  22.50 &    0.55 \\\\\n",
      "\\$R\\textasciicircum2\\$                        &   0.79 &   0.85 &    0.00 \\\\\n",
      "\\bottomrule\n",
      "\\end{tabular}\n",
      "\n",
      "Fixed Income\n",
      "\\begin{tabular}{lrrr}\n",
      "\\toprule\n",
      "{} &      0 &      1 &  Factor \\\\\n",
      "\\midrule\n",
      "Monthly Return (in \\%)        &   0.02 &   0.14 &    0.12 \\\\\n",
      "Standard Deviation           &   2.12 &   3.49 &    2.85 \\\\\n",
      "Information Ratio            &   0.11 &   0.47 &    0.49 \\\\\n",
      "Skewness                     &  -0.25 &   0.34 &    0.42 \\\\\n",
      "Excess Kurtosis              &   5.45 &   1.38 &    1.79 \\\\\n",
      "CAPM Alpha Annualized (in \\%) &  -0.22 &   0.45 &    0.67 \\\\\n",
      "CAPM Alpha Tstat             &  -1.15 &   2.07 &    1.68 \\\\\n",
      "CAPM Beta (in \\%)             &   0.49 &   1.53 &    1.04 \\\\\n",
      "CAPM Beta Tstat              &  13.52 &  33.07 &   13.03 \\\\\n",
      "\\$R\\textasciicircum2\\$                        &   0.68 &   0.94 &    0.68 \\\\\n",
      "\\bottomrule\n",
      "\\end{tabular}\n",
      "\n"
     ]
    }
   ],
   "source": [
    "for sec in sector_portfolio_sorts_FHT.keys():\n",
    "    print(sec)\n",
    "    print(portfolio_sort_table(sector_portfolio_sorts_FHT[sec],np.log(cleansed.resample(rule='m',how='last')).diff().dropna(how='all'),d_map,sec).to_latex())"
   ]
  },
  {
   "cell_type": "markdown",
   "metadata": {},
   "source": [
    "# Monthly portoflio sorts"
   ]
  },
  {
   "cell_type": "code",
   "execution_count": 12,
   "metadata": {},
   "outputs": [],
   "source": [
    "amihud_monthly = read_monthly(amihud=True)"
   ]
  },
  {
   "cell_type": "code",
   "execution_count": 13,
   "metadata": {},
   "outputs": [
    {
     "name": "stdout",
     "output_type": "stream",
     "text": [
      "Agriculturals\n",
      "\\begin{tabular}{lrrr}\n",
      "\\toprule\n",
      "{} &      0 &      1 &  Factor \\\\\n",
      "\\midrule\n",
      "Monthly Return (in \\%)        &   0.58 &   0.85 &    0.27 \\\\\n",
      "Standard Deviation           &  14.79 &  16.38 &   12.95 \\\\\n",
      "Information Ratio            &   0.47 &   0.62 &    0.25 \\\\\n",
      "Skewness                     &  -0.06 &   0.37 &    0.12 \\\\\n",
      "Excess Kurtosis              &   1.52 &   2.82 &    1.71 \\\\\n",
      "CAPM Alpha Annualized (in \\%) &   3.96 &   6.81 &    2.85 \\\\\n",
      "CAPM Alpha Tstat             &   2.74 &   4.61 &    1.04 \\\\\n",
      "CAPM Beta (in \\%)             &   0.96 &   1.07 &    0.12 \\\\\n",
      "CAPM Beta Tstat              &  24.73 &  19.16 &    1.36 \\\\\n",
      "\\$R\\textasciicircum2\\$                        &   0.80 &   0.82 &    0.01 \\\\\n",
      "\\bottomrule\n",
      "\\end{tabular}\n",
      "\n",
      "All\n"
     ]
    },
    {
     "name": "stderr",
     "output_type": "stream",
     "text": [
      "/Users/mrefermat/anaconda/lib/python2.7/site-packages/ipykernel_launcher.py:4: FutureWarning: how in .resample() is deprecated\n",
      "the new syntax is .resample(...).last()\n",
      "  after removing the cwd from sys.path.\n"
     ]
    },
    {
     "name": "stdout",
     "output_type": "stream",
     "text": [
      "\\begin{tabular}{lrrr}\n",
      "\\toprule\n",
      "{} &      0 &      1 &  Factor \\\\\n",
      "\\midrule\n",
      "Monthly Return (in \\%)        &   0.37 &   0.55 &    0.17 \\\\\n",
      "Standard Deviation           &   8.99 &   9.43 &    6.44 \\\\\n",
      "Information Ratio            &   0.50 &   0.69 &    0.32 \\\\\n",
      "Skewness                     &  -1.01 &  -0.72 &   -0.01 \\\\\n",
      "Excess Kurtosis              &   5.14 &   3.12 &    0.68 \\\\\n",
      "CAPM Alpha Annualized (in \\%) &   2.65 &   4.64 &    2.00 \\\\\n",
      "CAPM Alpha Tstat             &   3.39 &   5.71 &    1.35 \\\\\n",
      "CAPM Beta (in \\%)             &   0.96 &   1.01 &    0.05 \\\\\n",
      "CAPM Beta Tstat              &  29.76 &  22.89 &    0.82 \\\\\n",
      "\\$R\\textasciicircum2\\$                        &   0.87 &   0.86 &    0.00 \\\\\n",
      "\\bottomrule\n",
      "\\end{tabular}\n",
      "\n",
      "Currencies\n",
      "\\begin{tabular}{lrrr}\n",
      "\\toprule\n",
      "{} &      0 &      1 &  Factor \\\\\n",
      "\\midrule\n",
      "Monthly Return (in \\%)        &  -0.01 &   0.01 &    0.02 \\\\\n",
      "Standard Deviation           &   7.62 &   7.36 &    6.43 \\\\\n",
      "Information Ratio            &  -0.01 &   0.02 &    0.04 \\\\\n",
      "Skewness                     &  -0.29 &  -0.44 &   -0.42 \\\\\n",
      "Excess Kurtosis              &   2.49 &   1.75 &    0.96 \\\\\n",
      "CAPM Alpha Annualized (in \\%) &   0.38 &   0.61 &    0.22 \\\\\n",
      "CAPM Alpha Tstat             &   0.39 &   0.72 &    0.13 \\\\\n",
      "CAPM Beta (in \\%)             &   1.25 &   1.23 &   -0.01 \\\\\n",
      "CAPM Beta Tstat              &  22.93 &  25.06 &   -0.16 \\\\\n",
      "\\$R\\textasciicircum2\\$                        &   0.77 &   0.80 &    0.01 \\\\\n",
      "\\bottomrule\n",
      "\\end{tabular}\n",
      "\n",
      "Energies\n",
      "\\begin{tabular}{lrrr}\n",
      "\\toprule\n",
      "{} &      0 &      1 &  Factor \\\\\n",
      "\\midrule\n",
      "Monthly Return (in \\%)        &   0.58 &   1.28 &    0.69 \\\\\n",
      "Standard Deviation           &  29.51 &  28.22 &   27.18 \\\\\n",
      "Information Ratio            &   0.24 &   0.54 &    0.31 \\\\\n",
      "Skewness                     &   0.19 &   0.32 &    0.29 \\\\\n",
      "Excess Kurtosis              &   2.02 &   1.54 &    1.26 \\\\\n",
      "CAPM Alpha Annualized (in \\%) &   4.98 &  13.47 &    8.49 \\\\\n",
      "CAPM Alpha Tstat             &   1.37 &   3.21 &    1.19 \\\\\n",
      "CAPM Beta (in \\%)             &   1.08 &   0.98 &   -0.10 \\\\\n",
      "CAPM Beta Tstat              &  17.62 &  15.02 &   -0.93 \\\\\n",
      "\\$R\\textasciicircum2\\$                        &   0.77 &   0.68 &    0.00 \\\\\n",
      "\\bottomrule\n",
      "\\end{tabular}\n",
      "\n",
      "Equities\n",
      "\\begin{tabular}{lrrr}\n",
      "\\toprule\n",
      "{} &      0 &      1 &  Factor \\\\\n",
      "\\midrule\n",
      "Monthly Return (in \\%)        &   0.38 &   0.37 &   -0.01 \\\\\n",
      "Standard Deviation           &  16.20 &  15.06 &    8.25 \\\\\n",
      "Information Ratio            &   0.28 &   0.29 &   -0.01 \\\\\n",
      "Skewness                     &  -0.80 &  -0.68 &   -0.28 \\\\\n",
      "Excess Kurtosis              &   2.53 &   0.86 &    0.85 \\\\\n",
      "CAPM Alpha Annualized (in \\%) &   2.39 &   2.41 &    0.02 \\\\\n",
      "CAPM Alpha Tstat             &   2.02 &   2.57 &    0.01 \\\\\n",
      "CAPM Beta (in \\%)             &   1.05 &   0.99 &   -0.06 \\\\\n",
      "CAPM Beta Tstat              &  27.47 &  39.71 &   -1.07 \\\\\n",
      "\\$R\\textasciicircum2\\$                        &   0.91 &   0.93 &    0.01 \\\\\n",
      "\\bottomrule\n",
      "\\end{tabular}\n",
      "\n",
      "Metals\n",
      "\\begin{tabular}{lrrr}\n",
      "\\toprule\n",
      "{} &      0 &      1 &  Factor \\\\\n",
      "\\midrule\n",
      "Monthly Return (in \\%)        &   0.57 &   0.45 &   -0.12 \\\\\n",
      "Standard Deviation           &  18.38 &  19.91 &   12.07 \\\\\n",
      "Information Ratio            &   0.37 &   0.27 &   -0.12 \\\\\n",
      "Skewness                     &  -0.40 &  -0.60 &   -0.22 \\\\\n",
      "Excess Kurtosis              &   2.74 &   1.17 &    1.68 \\\\\n",
      "CAPM Alpha Annualized (in \\%) &   4.44 &   2.70 &   -1.74 \\\\\n",
      "CAPM Alpha Tstat             &   2.34 &   1.61 &   -0.56 \\\\\n",
      "CAPM Beta (in \\%)             &   0.89 &   0.99 &    0.10 \\\\\n",
      "CAPM Beta Tstat              &  20.86 &  23.19 &    1.60 \\\\\n",
      "\\$R\\textasciicircum2\\$                        &   0.85 &   0.89 &    0.02 \\\\\n",
      "\\bottomrule\n",
      "\\end{tabular}\n",
      "\n",
      "Fixed Income\n",
      "\\begin{tabular}{lrrr}\n",
      "\\toprule\n",
      "{} &      0 &      1 &  Factor \\\\\n",
      "\\midrule\n",
      "Monthly Return (in \\%)        &   0.10 &   0.12 &    0.02 \\\\\n",
      "Standard Deviation           &   2.86 &   2.71 &    2.59 \\\\\n",
      "Information Ratio            &   0.41 &   0.52 &    0.09 \\\\\n",
      "Skewness                     &   0.16 &   0.55 &    0.73 \\\\\n",
      "Excess Kurtosis              &   2.42 &   0.64 &    1.73 \\\\\n",
      "CAPM Alpha Annualized (in \\%) &   0.04 &   0.37 &    0.32 \\\\\n",
      "CAPM Alpha Tstat             &   0.14 &   1.00 &    0.50 \\\\\n",
      "CAPM Beta (in \\%)             &   1.08 &   0.98 &   -0.09 \\\\\n",
      "CAPM Beta Tstat              &  19.90 &  17.45 &   -0.96 \\\\\n",
      "\\$R\\textasciicircum2\\$                        &   0.78 &   0.73 &    0.00 \\\\\n",
      "\\bottomrule\n",
      "\\end{tabular}\n",
      "\n"
     ]
    }
   ],
   "source": [
    "for sec in amihud_monthly.keys():\n",
    "    print(sec)\n",
    "    #print(portfolio_sort_table(amihud_monthly[sec],sector_rtns[sec]).to_latex())\n",
    "    print(portfolio_sort_table(amihud_monthly[sec],np.log(cleansed.resample(rule='m',how='last')).diff().dropna(how='all'),d_map,sec).to_latex())"
   ]
  },
  {
   "cell_type": "markdown",
   "metadata": {},
   "source": [
    "# Monthly FHT"
   ]
  },
  {
   "cell_type": "code",
   "execution_count": 14,
   "metadata": {},
   "outputs": [],
   "source": [
    "FHT_monthly = read_monthly(amihud=False)"
   ]
  },
  {
   "cell_type": "code",
   "execution_count": 15,
   "metadata": {},
   "outputs": [
    {
     "name": "stdout",
     "output_type": "stream",
     "text": [
      "Agriculturals\n"
     ]
    },
    {
     "name": "stderr",
     "output_type": "stream",
     "text": [
      "/Users/mrefermat/anaconda/lib/python2.7/site-packages/ipykernel_launcher.py:4: FutureWarning: how in .resample() is deprecated\n",
      "the new syntax is .resample(...).last()\n",
      "  after removing the cwd from sys.path.\n"
     ]
    },
    {
     "name": "stdout",
     "output_type": "stream",
     "text": [
      "\\begin{tabular}{lrrr}\n",
      "\\toprule\n",
      "{} &      0 &      1 &  Factor \\\\\n",
      "\\midrule\n",
      "Monthly Return (in \\%)        &   0.73 &   0.37 &   -0.37 \\\\\n",
      "Standard Deviation           &  13.04 &  15.42 &   13.95 \\\\\n",
      "Information Ratio            &   0.68 &   0.29 &   -0.32 \\\\\n",
      "Skewness                     &   0.00 &   0.30 &    0.34 \\\\\n",
      "Excess Kurtosis              &   1.16 &   3.91 &    2.38 \\\\\n",
      "CAPM Alpha Annualized (in \\%) &   7.98 &   2.65 &   -5.33 \\\\\n",
      "CAPM Alpha Tstat             &   5.14 &   1.53 &   -1.68 \\\\\n",
      "CAPM Beta (in \\%)             &   0.90 &   1.11 &    0.21 \\\\\n",
      "CAPM Beta Tstat              &  22.94 &  20.09 &    2.36 \\\\\n",
      "\\$R\\textasciicircum2\\$                        &   0.77 &   0.80 &    0.03 \\\\\n",
      "\\bottomrule\n",
      "\\end{tabular}\n",
      "\n",
      "All\n",
      "\\begin{tabular}{lrrr}\n",
      "\\toprule\n",
      "{} &      0 &      1 &  Factor \\\\\n",
      "\\midrule\n",
      "Monthly Return (in \\%)        &   0.50 &   0.48 &   -0.02 \\\\\n",
      "Standard Deviation           &   7.69 &   8.84 &    6.77 \\\\\n",
      "Information Ratio            &   0.78 &   0.65 &   -0.04 \\\\\n",
      "Skewness                     &  -0.65 &  -0.91 &   -0.05 \\\\\n",
      "Excess Kurtosis              &   4.44 &   4.54 &    0.77 \\\\\n",
      "CAPM Alpha Annualized (in \\%) &   4.04 &   3.28 &   -0.75 \\\\\n",
      "CAPM Alpha Tstat             &   5.09 &   4.27 &   -0.51 \\\\\n",
      "CAPM Beta (in \\%)             &   0.89 &   1.04 &    0.15 \\\\\n",
      "CAPM Beta Tstat              &  26.04 &  32.47 &    3.15 \\\\\n",
      "\\$R\\textasciicircum2\\$                        &   0.86 &   0.88 &    0.04 \\\\\n",
      "\\bottomrule\n",
      "\\end{tabular}\n",
      "\n",
      "Currencies\n",
      "\\begin{tabular}{lrrr}\n",
      "\\toprule\n",
      "{} &     0 &      1 &  Factor \\\\\n",
      "\\midrule\n",
      "Monthly Return (in \\%)        & -0.05 &   0.03 &    0.09 \\\\\n",
      "Standard Deviation           &  6.15 &   6.83 &    7.85 \\\\\n",
      "Information Ratio            & -0.10 &   0.05 &    0.13 \\\\\n",
      "Skewness                     & -0.59 &   0.07 &    0.25 \\\\\n",
      "Excess Kurtosis              &  1.31 &   3.97 &    1.93 \\\\\n",
      "CAPM Alpha Annualized (in \\%) & -0.09 &   0.58 &    0.67 \\\\\n",
      "CAPM Alpha Tstat             & -0.09 &   0.63 &    0.37 \\\\\n",
      "CAPM Beta (in \\%)             &  0.84 &   1.03 &    0.19 \\\\\n",
      "CAPM Beta Tstat              &  9.99 &  12.18 &    1.18 \\\\\n",
      "\\$R\\textasciicircum2\\$                        &  0.53 &   0.66 &    0.01 \\\\\n",
      "\\bottomrule\n",
      "\\end{tabular}\n",
      "\n",
      "Energies\n",
      "\\begin{tabular}{lrrr}\n",
      "\\toprule\n",
      "{} &      0 &      1 &  Factor \\\\\n",
      "\\midrule\n",
      "Monthly Return (in \\%)        &   0.71 &   1.20 &    0.49 \\\\\n",
      "Standard Deviation           &  26.59 &  30.02 &   25.61 \\\\\n",
      "Information Ratio            &   0.32 &   0.48 &    0.23 \\\\\n",
      "Skewness                     &   0.07 &   0.41 &   -0.03 \\\\\n",
      "Excess Kurtosis              &   1.13 &   2.25 &    2.75 \\\\\n",
      "CAPM Alpha Annualized (in \\%) &   4.90 &  14.13 &    9.23 \\\\\n",
      "CAPM Alpha Tstat             &   1.44 &   4.29 &    1.50 \\\\\n",
      "CAPM Beta (in \\%)             &   0.93 &   1.10 &    0.17 \\\\\n",
      "CAPM Beta Tstat              &  16.52 &  19.86 &    1.74 \\\\\n",
      "\\$R\\textasciicircum2\\$                        &   0.67 &   0.77 &    0.02 \\\\\n",
      "\\bottomrule\n",
      "\\end{tabular}\n",
      "\n",
      "Equities\n",
      "\\begin{tabular}{lrrr}\n",
      "\\toprule\n",
      "{} &      0 &      1 &  Factor \\\\\n",
      "\\midrule\n",
      "Monthly Return (in \\%)        &   0.73 &   0.81 &    0.08 \\\\\n",
      "Standard Deviation           &  18.39 &  16.64 &   14.59 \\\\\n",
      "Information Ratio            &   0.48 &   0.58 &    0.06 \\\\\n",
      "Skewness                     &   0.97 &  -0.13 &   -2.02 \\\\\n",
      "Excess Kurtosis              &   9.16 &   3.42 &   28.69 \\\\\n",
      "CAPM Alpha Annualized (in \\%) &   1.01 &   3.30 &    2.30 \\\\\n",
      "CAPM Alpha Tstat             &   0.99 &   3.81 &    1.29 \\\\\n",
      "CAPM Beta (in \\%)             &   0.94 &   1.01 &    0.07 \\\\\n",
      "CAPM Beta Tstat              &  21.89 &  42.81 &    1.10 \\\\\n",
      "\\$R\\textasciicircum2\\$                        &   0.92 &   0.94 &    0.01 \\\\\n",
      "\\bottomrule\n",
      "\\end{tabular}\n",
      "\n",
      "Metals\n",
      "\\begin{tabular}{lrrr}\n",
      "\\toprule\n",
      "{} &      0 &      1 &  Factor \\\\\n",
      "\\midrule\n",
      "Monthly Return (in \\%)        &   0.48 &   0.72 &    0.24 \\\\\n",
      "Standard Deviation           &  17.07 &  18.68 &   13.41 \\\\\n",
      "Information Ratio            &   0.34 &   0.46 &    0.22 \\\\\n",
      "Skewness                     &  -0.53 &  -0.41 &   -0.02 \\\\\n",
      "Excess Kurtosis              &   3.03 &   1.67 &    0.99 \\\\\n",
      "CAPM Alpha Annualized (in \\%) &   4.16 &   3.63 &   -0.53 \\\\\n",
      "CAPM Alpha Tstat             &   2.28 &   2.22 &   -0.17 \\\\\n",
      "CAPM Beta (in \\%)             &   0.90 &   1.02 &    0.13 \\\\\n",
      "CAPM Beta Tstat              &  21.97 &  25.59 &    2.14 \\\\\n",
      "\\$R\\textasciicircum2\\$                        &   0.84 &   0.88 &    0.03 \\\\\n",
      "\\bottomrule\n",
      "\\end{tabular}\n",
      "\n",
      "Fixed Income\n",
      "\\begin{tabular}{lrrr}\n",
      "\\toprule\n",
      "{} &      0 &      1 &  Factor \\\\\n",
      "\\midrule\n",
      "Monthly Return (in \\%)        &   0.07 &   0.07 &    0.00 \\\\\n",
      "Standard Deviation           &   2.04 &   3.42 &    2.74 \\\\\n",
      "Information Ratio            &   0.42 &   0.25 &    0.00 \\\\\n",
      "Skewness                     &   0.50 &  -0.10 &   -0.09 \\\\\n",
      "Excess Kurtosis              &   2.09 &   0.71 &    1.95 \\\\\n",
      "CAPM Alpha Annualized (in \\%) &   0.24 &  -0.09 &   -0.33 \\\\\n",
      "CAPM Alpha Tstat             &   0.87 &  -0.31 &   -0.59 \\\\\n",
      "CAPM Beta (in \\%)             &   0.58 &   1.44 &    0.86 \\\\\n",
      "CAPM Beta Tstat              &  11.13 &  30.88 &    8.80 \\\\\n",
      "\\$R\\textasciicircum2\\$                        &   0.61 &   0.90 &    0.47 \\\\\n",
      "\\bottomrule\n",
      "\\end{tabular}\n",
      "\n"
     ]
    }
   ],
   "source": [
    "for sec in FHT_monthly.keys():\n",
    "    print(sec)\n",
    "    #print(portfolio_sort_table(FHT_monthly[sec],sector_rtns[sec]).to_latex())\n",
    "    print(portfolio_sort_table(FHT_monthly[sec],np.log(cleansed.resample(rule='m',how='last')).diff().dropna(how='all'),d_map,sec).to_latex())\n",
    "\n"
   ]
  },
  {
   "cell_type": "code",
   "execution_count": 16,
   "metadata": {},
   "outputs": [
    {
     "ename": "SyntaxError",
     "evalue": "invalid syntax (<ipython-input-16-5abdda202ce6>, line 8)",
     "output_type": "error",
     "traceback": [
      "\u001b[0;36m  File \u001b[0;32m\"<ipython-input-16-5abdda202ce6>\"\u001b[0;36m, line \u001b[0;32m8\u001b[0m\n\u001b[0;31m    ind=un_dec['2000':.dropna(how='all').index\u001b[0m\n\u001b[0m                      ^\u001b[0m\n\u001b[0;31mSyntaxError\u001b[0m\u001b[0;31m:\u001b[0m invalid syntax\n"
     ]
    }
   ],
   "source": [
    "FHT_monthly = read_monthly(amihud=False)\n",
    "sector='Currencies'\n",
    "un_dec=FHT_monthly['Currencies']\n",
    "sector_rtn=np.log(cleansed.resample(rule='m',how='last')).diff().dropna(how='all')\n",
    "    \n",
    "    \n",
    "un_dec['Factor']=un_dec[un_dec.columns[-1]]-un_dec[un_dec.columns[0]]\n",
    "ind=un_dec['2000':.dropna(how='all').index\n",
    "# AR(1) first\n",
    "ex=un_dec.dropna(how='all')\n",
    "en=ex.shift(-1).dropna()\n",
    "en['Intercept']=1\n",
    "ex=ex.ix[en.index]\n",
    "r2=[]\n",
    "coef=[]\n",
    "tstat=[]\n",
    "for i in un_dec.columns:\n",
    "    res=sm.OLS(ex[str(i)],en[[str(i)]]).fit(cov_type='HAC',cov_kwds={'maxlags':1})\n",
    "    coef.append(res.params[str(i)])\n",
    "    tstat.append(res.tvalues[str(i)])        \n",
    "ar1=pd.DataFrame()\n",
    "ar1['Coef']=pd.Series(coef,index=un_dec.columns)\n",
    "ar1['Tstats']=pd.Series(tstat,index=un_dec.columns)\n",
    "# CAPM regression\n",
    "capm_factor=pd.DataFrame()\n",
    "if sector == 'All':\n",
    "    capm_factor['Mkt-RF']=sector_rtn.mean(axis=1)\n",
    "else:\n",
    "    capm_factor['Mkt-RF']=sector_rtn[d_map[sector]].mean(axis=1)\n",
    "capm_factor['Intercept']=1\n",
    "alpha=[]\n",
    "beta=[]\n",
    "tstat_alpha=[]\n",
    "tstat_beta=[]\n",
    "for i in un_dec.columns:\n",
    "    res=sm.OLS(un_dec.dropna()[str(i)].loc[ind],capm_factor[['Intercept','Mkt-RF']].loc[ind]).fit(cov_type='HAC',cov_kwds={'maxlags':1})\n",
    "    alpha.append(res.params['Intercept'])\n",
    "    beta.append(res.params['Mkt-RF'])\n",
    "    tstat_alpha.append(res.tvalues['Intercept'])\n",
    "    tstat_beta.append(res.tvalues['Mkt-RF']) \n",
    "    r2.append(res.rsquared_adj)  \n",
    "CAPM=pd.DataFrame()\n",
    "CAPM['Alpha']=pd.Series(alpha,index=un_dec.columns)\n",
    "CAPM['Alpha Tstat']=pd.Series(tstat_alpha,index=un_dec.columns)\n",
    "CAPM['Beta']=pd.Series(beta,index=un_dec.columns)\n",
    "CAPM['Beta Tstat']=pd.Series(tstat_beta,index=un_dec.columns)\n",
    "CAPM['r2']=pd.Series(r2,index=un_dec.columns)\n",
    "\n"
   ]
  },
  {
   "cell_type": "code",
   "execution_count": null,
   "metadata": {},
   "outputs": [],
   "source": [
    "print res.summary()"
   ]
  },
  {
   "cell_type": "code",
   "execution_count": null,
   "metadata": {},
   "outputs": [],
   "source": [
    "un_dec.dropna()[str(i)].loc[ind]\n"
   ]
  },
  {
   "cell_type": "code",
   "execution_count": null,
   "metadata": {},
   "outputs": [],
   "source": [
    "capm_factor[['Intercept','Mkt-RF']].loc[ind]"
   ]
  },
  {
   "cell_type": "code",
   "execution_count": null,
   "metadata": {},
   "outputs": [],
   "source": []
  },
  {
   "cell_type": "code",
   "execution_count": null,
   "metadata": {},
   "outputs": [],
   "source": []
  },
  {
   "cell_type": "code",
   "execution_count": null,
   "metadata": {},
   "outputs": [],
   "source": [
    "def portfolio_sort_table(un_dec,sector_rtn,d_map,sector):\n",
    "    un_dec['Factor']=un_dec[un_dec.columns[-1]]-un_dec[un_dec.columns[0]]\n",
    "    ind=un_dec['2000':'2016'].dropna(how='all').index\n",
    "    # AR(1) first\n",
    "    ex=un_dec.dropna(how='all')\n",
    "    en=ex.shift(-1).dropna()\n",
    "    en['Intercept']=1\n",
    "    ex=ex.ix[en.index]\n",
    "    r2=[]\n",
    "    coef=[]\n",
    "    tstat=[]\n",
    "    for i in un_dec.columns:\n",
    "        res=sm.OLS(ex[str(i)],en[[str(i)]]).fit(cov_type='HAC',cov_kwds={'maxlags':1})\n",
    "        coef.append(res.params[str(i)])\n",
    "        tstat.append(res.tvalues[str(i)])        \n",
    "    ar1=pd.DataFrame()\n",
    "    ar1['Coef']=pd.Series(coef,index=un_dec.columns)\n",
    "    ar1['Tstats']=pd.Series(tstat,index=un_dec.columns)\n",
    "    # CAPM regression\n",
    "    capm_factor=pd.DataFrame()\n",
    "    if sector == 'All':\n",
    "        capm_factor['Mkt-RF']=sector_rtn.mean(axis=1)\n",
    "    else:\n",
    "        capm_factor['Mkt-RF']=sector_rtn[d_map[sector]].mean(axis=1)\n",
    "    capm_factor['Intercept']=1\n",
    "    alpha=[]\n",
    "    beta=[]\n",
    "    tstat_alpha=[]\n",
    "    tstat_beta=[]\n",
    "    for i in un_dec.columns:\n",
    "        res=sm.OLS(un_dec.dropna()[str(i)].loc[ind],capm_factor[['Intercept','Mkt-RF']].loc[ind]).fit(cov_type='HAC',cov_kwds={'maxlags':1})\n",
    "        alpha.append(res.params['Intercept'])\n",
    "        beta.append(res.params['Mkt-RF'])\n",
    "        tstat_alpha.append(res.tvalues['Intercept'])\n",
    "        tstat_beta.append(res.tvalues['Mkt-RF']) \n",
    "        r2.append(res.rsquared_adj)  \n",
    "    CAPM=pd.DataFrame()\n",
    "    CAPM['Alpha']=pd.Series(alpha,index=un_dec.columns)\n",
    "    CAPM['Alpha Tstat']=pd.Series(tstat_alpha,index=un_dec.columns)\n",
    "    CAPM['Beta']=pd.Series(beta,index=un_dec.columns)\n",
    "    CAPM['Beta Tstat']=pd.Series(tstat_beta,index=un_dec.columns)\n",
    "    CAPM['r2']=pd.Series(r2,index=un_dec.columns)\n",
    "    # Presentation\n",
    "    res=pd.DataFrame()\n",
    "    res['Monthly Return (in %)']=un_dec.mean()*100\n",
    "    res['Standard Deviation']=un_dec.std()*math.sqrt(12)*100\n",
    "    res['Information Ratio']=calc_Sharpe(un_dec)\n",
    "    res['Skewness']=un_dec.skew()\n",
    "    res['Excess Kurtosis']=un_dec.kurtosis()\n",
    "    #res['AR(1)']=ar1.Coef\n",
    "    #res['AR(1) Tstat']=ar1.Tstats\n",
    "    res['CAPM Alpha Annualized (in %)']=CAPM.Alpha*1200\n",
    "    res['CAPM Alpha Tstat']=CAPM['Alpha Tstat']\n",
    "    res['CAPM Beta (in %)']=CAPM.Beta\n",
    "    res['CAPM Beta Tstat']=CAPM['Beta Tstat']\n",
    "    res['$R^2$']=CAPM.r2.abs()\n",
    "    res =res.round(2)\n",
    "    return res.T"
   ]
  },
  {
   "cell_type": "code",
   "execution_count": null,
   "metadata": {},
   "outputs": [],
   "source": []
  }
 ],
 "metadata": {
  "kernelspec": {
   "display_name": "Python 2",
   "language": "python",
   "name": "python2"
  },
  "language_info": {
   "codemirror_mode": {
    "name": "ipython",
    "version": 2
   },
   "file_extension": ".py",
   "mimetype": "text/x-python",
   "name": "python",
   "nbconvert_exporter": "python",
   "pygments_lexer": "ipython2",
   "version": "2.7.12"
  }
 },
 "nbformat": 4,
 "nbformat_minor": 2
}
