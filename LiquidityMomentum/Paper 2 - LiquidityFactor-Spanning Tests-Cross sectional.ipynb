{
 "cells": [
  {
   "cell_type": "code",
   "execution_count": 1,
   "metadata": {},
   "outputs": [
    {
     "name": "stderr",
     "output_type": "stream",
     "text": [
      "/Users/mrefermat/anaconda/lib/python2.7/site-packages/IPython/utils/traitlets.py:5: UserWarning: IPython.utils.traitlets has moved to a top-level traitlets package.\n",
      "  warn(\"IPython.utils.traitlets has moved to a top-level traitlets package.\")\n",
      "/Users/mrefermat/anaconda/lib/python2.7/site-packages/IPython/kernel/__init__.py:13: ShimWarning: The `IPython.kernel` package has been deprecated since IPython 4.0.You should import from ipykernel or jupyter_client instead.\n",
      "  \"You should import from ipykernel or jupyter_client instead.\", ShimWarning)\n"
     ]
    }
   ],
   "source": [
    "%matplotlib inline\n",
    "import seaborn\n",
    "import quandl\n",
    "import pandas as pd\n",
    "import seaborn as sns\n",
    "import math\n",
    "from tsmom_model import *\n",
    "import numpy as np\n",
    "from datetime import datetime\n",
    "import statsmodels.formula.api as sm\n",
    "token=\"Us3wFmXGgAj_1cUtHAAR\""
   ]
  },
  {
   "cell_type": "code",
   "execution_count": 2,
   "metadata": {},
   "outputs": [],
   "source": [
    "import pylab\n",
    "sns.set(font_scale=3)\n",
    "pylab.rcParams['figure.figsize'] = (24, 18)"
   ]
  },
  {
   "cell_type": "code",
   "execution_count": 3,
   "metadata": {},
   "outputs": [
    {
     "name": "stderr",
     "output_type": "stream",
     "text": [
      "tsmom_model.py:160: FutureWarning: how in .resample() is deprecated\n",
      "the new syntax is .resample(...).last()\n",
      "  data=pd.read_csv('./Price.csv',index_col=0,parse_dates=['Date']).resample(rule='d',how='last')\n",
      "tsmom_model.py:162: FutureWarning: how in .resample() is deprecated\n",
      "the new syntax is .resample(...).last()\n",
      "  qd=pd.read_csv('./liquid_contracts.csv',index_col=0,parse_dates=['Date']).resample(rule='d',how='last')\n"
     ]
    }
   ],
   "source": [
    "cleansed=load_amihud_markets_price()"
   ]
  },
  {
   "cell_type": "code",
   "execution_count": 4,
   "metadata": {},
   "outputs": [
    {
     "name": "stderr",
     "output_type": "stream",
     "text": [
      "tsmom_model.py:44: FutureWarning: how in .resample() is deprecated\n",
      "the new syntax is .resample(...).mean()\n",
      "  data=pd.read_csv('./Volume.csv',index_col=0,parse_dates=['Date']).resample(rule='d',how='mean')\n",
      "tsmom_model.py:46: FutureWarning: how in .resample() is deprecated\n",
      "the new syntax is .resample(...).sum()\n",
      "  v=pd.read_csv('./volume_data.csv',index_col=0,parse_dates=['Date']).resample(rule='d',how='sum')\n",
      "tsmom_model.py:48: FutureWarning: pd.rolling_mean is deprecated for DataFrame and will be removed in a future version, replace with \n",
      "\tDataFrame.rolling(min_periods=100,window=250,center=False).mean()\n",
      "  volume=pd.rolling_mean(v,250,min_periods=100).resample(rule='d',how='mean')[:'2016']\n",
      "tsmom_model.py:48: FutureWarning: how in .resample() is deprecated\n",
      "the new syntax is .resample(...).mean()\n",
      "  volume=pd.rolling_mean(v,250,min_periods=100).resample(rule='d',how='mean')[:'2016']\n",
      "tsmom_model.py:51: FutureWarning: pd.rolling_mean is deprecated for Series and will be removed in a future version, replace with \n",
      "\tSeries.rolling(min_periods=50,window=250,center=False).mean()\n",
      "  volume[name]=pd.rolling_mean(v2[x],250,min_periods=50).resample(rule='d',how='mean')\n",
      "tsmom_model.py:51: FutureWarning: how in .resample() is deprecated\n",
      "the new syntax is .resample(...).mean()\n",
      "  volume[name]=pd.rolling_mean(v2[x],250,min_periods=50).resample(rule='d',how='mean')\n",
      "tsmom_model.py:78: FutureWarning: how in .resample() is deprecated\n",
      "the new syntax is .resample(...).last()\n",
      "  fx=fx.resample(rule='d',how='last')\n",
      "tsmom_model.py:79: FutureWarning: how in .resample() is deprecated\n",
      "the new syntax is .resample(...).last()\n",
      "  px=cleansed.resample(rule='d',how='last')\n",
      "tsmom_model.py:87: FutureWarning: how in .resample() is deprecated\n",
      "the new syntax is .resample(...).mean()\n",
      "  x= (cleansed.pct_change().abs()/ total_vol).resample(rule='m',how='mean')\n"
     ]
    }
   ],
   "source": [
    "amihud=calculate_amihud_liquidity(cleansed)[:'2016'] "
   ]
  },
  {
   "cell_type": "code",
   "execution_count": 5,
   "metadata": {},
   "outputs": [],
   "source": [
    "liquidity_factors=get_all_factors(3,True)"
   ]
  },
  {
   "cell_type": "code",
   "execution_count": 10,
   "metadata": {},
   "outputs": [
    {
     "name": "stderr",
     "output_type": "stream",
     "text": [
      "/Users/mrefermat/anaconda/lib/python2.7/site-packages/ipykernel_launcher.py:9: FutureWarning: how in .resample() is deprecated\n",
      "the new syntax is .resample(...).last()\n",
      "  if __name__ == '__main__':\n"
     ]
    }
   ],
   "source": [
    "final_res=pd.DataFrame()\n",
    "r2=pd.Series()\n",
    "rmse=pd.Series()\n",
    "alpha={}\n",
    "tstat={}\n",
    "for sec in liquidity_factors.columns:\n",
    "    ind=liquidity_factors.dropna().index\n",
    "    reges=get_aqr_factors('All').loc[ind]\n",
    "    reges['Market Return']=cleansed.resample(rule='m',how='last').pct_change().mean(axis=1).dropna()\n",
    "    reges['const']=1\n",
    "    #reges['TERM']=quandl.get('FRED/THREEFYTP10',authtoken=token).Value.resample(rule='m',how='last')\n",
    "    res=sm.OLS(liquidity_factors[sec].loc[ind],reges).fit(cov_type='HAC',cov_kwds={'maxlags':1})\n",
    "    final_res[sec]=res.params\n",
    "    final_res[sec+'Tstats']=res.tvalues\n",
    "    r2[sec]=res.rsquared\n",
    "    rmse[sec]=math.sqrt(res.mse_model)\n",
    "    \n"
   ]
  },
  {
   "cell_type": "code",
   "execution_count": 12,
   "metadata": {},
   "outputs": [
    {
     "data": {
      "text/html": [
       "<div>\n",
       "<style scoped>\n",
       "    .dataframe tbody tr th:only-of-type {\n",
       "        vertical-align: middle;\n",
       "    }\n",
       "\n",
       "    .dataframe tbody tr th {\n",
       "        vertical-align: top;\n",
       "    }\n",
       "\n",
       "    .dataframe thead th {\n",
       "        text-align: right;\n",
       "    }\n",
       "</style>\n",
       "<table border=\"1\" class=\"dataframe\">\n",
       "  <thead>\n",
       "    <tr style=\"text-align: right;\">\n",
       "      <th></th>\n",
       "      <th>const</th>\n",
       "      <th>Market Return</th>\n",
       "      <th>VAL</th>\n",
       "      <th>MOM</th>\n",
       "      <th>TSMOM</th>\n",
       "      <th>CARRY</th>\n",
       "    </tr>\n",
       "  </thead>\n",
       "  <tbody>\n",
       "    <tr>\n",
       "      <th>Amihud Monthly</th>\n",
       "      <td>0.0047</td>\n",
       "      <td>-0.0148</td>\n",
       "      <td>-0.3195</td>\n",
       "      <td>-0.1572</td>\n",
       "      <td>0.0407</td>\n",
       "      <td>-0.1438</td>\n",
       "    </tr>\n",
       "    <tr>\n",
       "      <th>Amihud MonthlyTstats</th>\n",
       "      <td>2.6576</td>\n",
       "      <td>-0.1295</td>\n",
       "      <td>-2.5307</td>\n",
       "      <td>-0.9822</td>\n",
       "      <td>0.6014</td>\n",
       "      <td>-1.3948</td>\n",
       "    </tr>\n",
       "    <tr>\n",
       "      <th>FHT Monthly</th>\n",
       "      <td>0.0000</td>\n",
       "      <td>0.4092</td>\n",
       "      <td>-0.1698</td>\n",
       "      <td>-0.2114</td>\n",
       "      <td>0.0414</td>\n",
       "      <td>-0.0444</td>\n",
       "    </tr>\n",
       "    <tr>\n",
       "      <th>FHT MonthlyTstats</th>\n",
       "      <td>0.0017</td>\n",
       "      <td>5.7063</td>\n",
       "      <td>-2.1496</td>\n",
       "      <td>-2.3543</td>\n",
       "      <td>1.0481</td>\n",
       "      <td>-0.6445</td>\n",
       "    </tr>\n",
       "    <tr>\n",
       "      <th>Amihud Annual</th>\n",
       "      <td>0.0051</td>\n",
       "      <td>-0.1032</td>\n",
       "      <td>-0.1430</td>\n",
       "      <td>-0.0934</td>\n",
       "      <td>0.0599</td>\n",
       "      <td>-0.2235</td>\n",
       "    </tr>\n",
       "    <tr>\n",
       "      <th>Amihud AnnualTstats</th>\n",
       "      <td>2.9026</td>\n",
       "      <td>-1.1494</td>\n",
       "      <td>-1.3723</td>\n",
       "      <td>-0.7386</td>\n",
       "      <td>0.9385</td>\n",
       "      <td>-2.4039</td>\n",
       "    </tr>\n",
       "    <tr>\n",
       "      <th>FHT Annual</th>\n",
       "      <td>0.0011</td>\n",
       "      <td>0.3008</td>\n",
       "      <td>-0.2619</td>\n",
       "      <td>-0.3279</td>\n",
       "      <td>0.1231</td>\n",
       "      <td>-0.0144</td>\n",
       "    </tr>\n",
       "    <tr>\n",
       "      <th>FHT AnnualTstats</th>\n",
       "      <td>0.6971</td>\n",
       "      <td>4.0922</td>\n",
       "      <td>-3.5264</td>\n",
       "      <td>-3.9083</td>\n",
       "      <td>3.0366</td>\n",
       "      <td>-0.1985</td>\n",
       "    </tr>\n",
       "  </tbody>\n",
       "</table>\n",
       "</div>"
      ],
      "text/plain": [
       "                       const  Market Return     VAL     MOM   TSMOM   CARRY\n",
       "Amihud Monthly        0.0047        -0.0148 -0.3195 -0.1572  0.0407 -0.1438\n",
       "Amihud MonthlyTstats  2.6576        -0.1295 -2.5307 -0.9822  0.6014 -1.3948\n",
       "FHT Monthly           0.0000         0.4092 -0.1698 -0.2114  0.0414 -0.0444\n",
       "FHT MonthlyTstats     0.0017         5.7063 -2.1496 -2.3543  1.0481 -0.6445\n",
       "Amihud Annual         0.0051        -0.1032 -0.1430 -0.0934  0.0599 -0.2235\n",
       "Amihud AnnualTstats   2.9026        -1.1494 -1.3723 -0.7386  0.9385 -2.4039\n",
       "FHT Annual            0.0011         0.3008 -0.2619 -0.3279  0.1231 -0.0144\n",
       "FHT AnnualTstats      0.6971         4.0922 -3.5264 -3.9083  3.0366 -0.1985"
      ]
     },
     "execution_count": 12,
     "metadata": {},
     "output_type": "execute_result"
    }
   ],
   "source": [
    "final_res.T.round(4)[['const', u'Market Return','VAL', u'MOM','TSMOM','CARRY' ]]"
   ]
  },
  {
   "cell_type": "code",
   "execution_count": 13,
   "metadata": {},
   "outputs": [
    {
     "name": "stdout",
     "output_type": "stream",
     "text": [
      "\\begin{tabular}{lrrrrrr}\n",
      "\\toprule\n",
      "{} &  const &  Market Return &   VAL &   MOM &  TSMOM &  CARRY \\\\\n",
      "\\midrule\n",
      "Amihud Monthly       &   0.00 &          -0.01 & -0.32 & -0.16 &   0.04 &  -0.14 \\\\\n",
      "Amihud MonthlyTstats &   2.66 &          -0.13 & -2.53 & -0.98 &   0.60 &  -1.39 \\\\\n",
      "FHT Monthly          &   0.00 &           0.41 & -0.17 & -0.21 &   0.04 &  -0.04 \\\\\n",
      "FHT MonthlyTstats    &   0.00 &           5.71 & -2.15 & -2.35 &   1.05 &  -0.64 \\\\\n",
      "Amihud Annual        &   0.01 &          -0.10 & -0.14 & -0.09 &   0.06 &  -0.22 \\\\\n",
      "Amihud AnnualTstats  &   2.90 &          -1.15 & -1.37 & -0.74 &   0.94 &  -2.40 \\\\\n",
      "FHT Annual           &   0.00 &           0.30 & -0.26 & -0.33 &   0.12 &  -0.01 \\\\\n",
      "FHT AnnualTstats     &   0.70 &           4.09 & -3.53 & -3.91 &   3.04 &  -0.20 \\\\\n",
      "\\bottomrule\n",
      "\\end{tabular}\n",
      "\n"
     ]
    }
   ],
   "source": [
    "print final_res.T.round(2)[['const', u'Market Return','VAL', u'MOM' ,'TSMOM','CARRY']].to_latex()"
   ]
  },
  {
   "cell_type": "code",
   "execution_count": 16,
   "metadata": {},
   "outputs": [],
   "source": [
    "df=pd.DataFrame()\n",
    "df['R2']=(r2*100).round(2)\n",
    "df['rmse']=rmse.round(3)"
   ]
  },
  {
   "cell_type": "code",
   "execution_count": 19,
   "metadata": {},
   "outputs": [
    {
     "name": "stdout",
     "output_type": "stream",
     "text": [
      "\\begin{tabular}{lrr}\n",
      "\\toprule\n",
      "{} &     R2 &   rmse \\\\\n",
      "\\midrule\n",
      "Amihud Monthly &   4.00 &  0.032 \\\\\n",
      "FHT Monthly    &  28.79 &  0.067 \\\\\n",
      "Amihud Annual  &   7.44 &  0.040 \\\\\n",
      "FHT Annual     &  22.94 &  0.058 \\\\\n",
      "\\bottomrule\n",
      "\\end{tabular}\n",
      "\n"
     ]
    }
   ],
   "source": [
    "print df.to_latex()"
   ]
  },
  {
   "cell_type": "code",
   "execution_count": null,
   "metadata": {},
   "outputs": [],
   "source": []
  }
 ],
 "metadata": {
  "kernelspec": {
   "display_name": "Python 2",
   "language": "python",
   "name": "python2"
  },
  "language_info": {
   "codemirror_mode": {
    "name": "ipython",
    "version": 2
   },
   "file_extension": ".py",
   "mimetype": "text/x-python",
   "name": "python",
   "nbconvert_exporter": "python",
   "pygments_lexer": "ipython2",
   "version": "2.7.12"
  }
 },
 "nbformat": 4,
 "nbformat_minor": 2
}
