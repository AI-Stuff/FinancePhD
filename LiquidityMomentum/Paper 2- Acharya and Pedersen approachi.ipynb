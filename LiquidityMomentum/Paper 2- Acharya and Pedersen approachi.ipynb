{
 "cells": [
  {
   "cell_type": "code",
   "execution_count": 31,
   "metadata": {},
   "outputs": [],
   "source": [
    "%matplotlib inline\n",
    "import pandas as pd\n",
    "from tsmom_model import *\n",
    "import numpy as np\n",
    "\n",
    "from datetime import datetime\n",
    "import PPCA_MR3 as p\n",
    "from linearmodels.asset_pricing import LinearFactorModel\n",
    "import statsmodels.api as sm"
   ]
  },
  {
   "cell_type": "code",
   "execution_count": 32,
   "metadata": {
    "collapsed": true
   },
   "outputs": [],
   "source": [
    "import pylab\n",
    "sns.set(font_scale=2)\n",
    "pylab.rcParams['figure.figsize'] = (24, 18)"
   ]
  },
  {
   "cell_type": "markdown",
   "metadata": {},
   "source": [
    "# Hand cleansed\n",
    "Hand cleaned to removed duplicates"
   ]
  },
  {
   "cell_type": "code",
   "execution_count": 33,
   "metadata": {},
   "outputs": [
    {
     "name": "stderr",
     "output_type": "stream",
     "text": [
      "/Users/mrefermat/git/FinancePhD/LiquidityMomentum/tsmom_model.py:158: FutureWarning: how in .resample() is deprecated\n",
      "the new syntax is .resample(...).last()\n",
      "  data=pd.read_csv('./Price.csv',index_col=0,parse_dates=['Date']).resample(rule='d',how='last')\n",
      "/Users/mrefermat/git/FinancePhD/LiquidityMomentum/tsmom_model.py:160: FutureWarning: how in .resample() is deprecated\n",
      "the new syntax is .resample(...).last()\n",
      "  qd=pd.read_csv('./liquid_contracts.csv',index_col=0,parse_dates=['Date']).resample(rule='d',how='last')\n"
     ]
    }
   ],
   "source": [
    "cleansed=load_amihud_markets_price()"
   ]
  },
  {
   "cell_type": "markdown",
   "metadata": {},
   "source": [
    "# Amihud methodology\n",
    "\n",
    "Amihud (2002) developed the illiquidity measure expressed by:\n",
    "\n",
    "$$ Amihud =\\frac{1}{N} \\sum \\frac{|r_t|}{\\text{dvol}_t} $$\n",
    "\n",
    "where $r_t$ is the return on day $t$ and $Volume_t$ is the dollar volume on day $t$. \n",
    "\n",
    "The benefit of taking the daily return is to weight the move by change of price and the volume.\n"
   ]
  },
  {
   "cell_type": "code",
   "execution_count": 34,
   "metadata": {},
   "outputs": [
    {
     "name": "stderr",
     "output_type": "stream",
     "text": [
      "/Users/mrefermat/git/FinancePhD/LiquidityMomentum/tsmom_model.py:42: FutureWarning: how in .resample() is deprecated\n",
      "the new syntax is .resample(...).mean()\n",
      "  data=pd.read_csv('./Volume.csv',index_col=0,parse_dates=['Date']).resample(rule='d',how='mean')\n",
      "/Users/mrefermat/git/FinancePhD/LiquidityMomentum/tsmom_model.py:44: FutureWarning: how in .resample() is deprecated\n",
      "the new syntax is .resample(...).sum()\n",
      "  v=pd.read_csv('./volume_data.csv',index_col=0,parse_dates=['Date']).resample(rule='d',how='sum')\n",
      "/Users/mrefermat/git/FinancePhD/LiquidityMomentum/tsmom_model.py:46: FutureWarning: pd.rolling_mean is deprecated for DataFrame and will be removed in a future version, replace with \n",
      "\tDataFrame.rolling(window=250,min_periods=100,center=False).mean()\n",
      "  volume=pd.rolling_mean(v,250,min_periods=100).resample(rule='d',how='mean')[:'2016']\n",
      "/Users/mrefermat/git/FinancePhD/LiquidityMomentum/tsmom_model.py:46: FutureWarning: how in .resample() is deprecated\n",
      "the new syntax is .resample(...).mean()\n",
      "  volume=pd.rolling_mean(v,250,min_periods=100).resample(rule='d',how='mean')[:'2016']\n",
      "/Users/mrefermat/git/FinancePhD/LiquidityMomentum/tsmom_model.py:49: FutureWarning: pd.rolling_mean is deprecated for Series and will be removed in a future version, replace with \n",
      "\tSeries.rolling(window=250,min_periods=50,center=False).mean()\n",
      "  volume[name]=pd.rolling_mean(v2[x],250,min_periods=50).resample(rule='d',how='mean')\n",
      "/Users/mrefermat/git/FinancePhD/LiquidityMomentum/tsmom_model.py:49: FutureWarning: how in .resample() is deprecated\n",
      "the new syntax is .resample(...).mean()\n",
      "  volume[name]=pd.rolling_mean(v2[x],250,min_periods=50).resample(rule='d',how='mean')\n",
      "/Users/mrefermat/git/FinancePhD/LiquidityMomentum/tsmom_model.py:76: FutureWarning: how in .resample() is deprecated\n",
      "the new syntax is .resample(...).last()\n",
      "  fx=fx.resample(rule='d',how='last')\n",
      "/Users/mrefermat/git/FinancePhD/LiquidityMomentum/tsmom_model.py:77: FutureWarning: how in .resample() is deprecated\n",
      "the new syntax is .resample(...).last()\n",
      "  px=cleansed.resample(rule='d',how='last')\n",
      "/Users/mrefermat/git/FinancePhD/LiquidityMomentum/tsmom_model.py:85: FutureWarning: how in .resample() is deprecated\n",
      "the new syntax is .resample(...).mean()\n",
      "  x= (cleansed.pct_change().abs()/ total_vol).resample(rule='m',how='mean')\n"
     ]
    }
   ],
   "source": [
    "amihud=calculate_amihud_liquidity(cleansed)[:'2016'] "
   ]
  },
  {
   "cell_type": "code",
   "execution_count": 35,
   "metadata": {},
   "outputs": [
    {
     "name": "stderr",
     "output_type": "stream",
     "text": [
      "/Users/mrefermat/git/FinancePhD/LiquidityMomentum/tsmom_model.py:273: FutureWarning: pd.rolling_mean is deprecated for DataFrame and will be removed in a future version, replace with \n",
      "\tDataFrame.rolling(window=100000000,min_periods=3,center=False).mean()\n",
      "  return (df-pd.rolling_mean(df,100000000,min_periods=min_per))/pd.rolling_std(df,100000000,min_periods=min_per)\n",
      "/Users/mrefermat/git/FinancePhD/LiquidityMomentum/tsmom_model.py:273: FutureWarning: pd.rolling_std is deprecated for DataFrame and will be removed in a future version, replace with \n",
      "\tDataFrame.rolling(window=100000000,min_periods=3,center=False).std()\n",
      "  return (df-pd.rolling_mean(df,100000000,min_periods=min_per))/pd.rolling_std(df,100000000,min_periods=min_per)\n"
     ]
    }
   ],
   "source": [
    "data=calc_zscore_expanding_window(amihud.dropna(how='all'),3).dropna(how='all')\n",
    "sector_zscores={}\n",
    "d_map=sector_map(amihud)\n",
    "for sect in d_map.keys():\n",
    "    sector_zscores[sect]=data[d_map[sect]].dropna(how='all')"
   ]
  },
  {
   "cell_type": "code",
   "execution_count": 36,
   "metadata": {},
   "outputs": [
    {
     "name": "stderr",
     "output_type": "stream",
     "text": [
      "/Users/mrefermat/anaconda3/lib/python3.6/site-packages/ipykernel_launcher.py:4: FutureWarning: how in .resample() is deprecated\n",
      "the new syntax is .resample(...).last()\n",
      "  after removing the cwd from sys.path.\n"
     ]
    }
   ],
   "source": [
    "sector_rtns={}\n",
    "d_map=sector_map(amihud)\n",
    "for sect in d_map.keys():\n",
    "    sector_rtns[sect]=np.log(cleansed[d_map[sect]].resample(rule='m',how='last')).diff().dropna(how='all')"
   ]
  },
  {
   "cell_type": "code",
   "execution_count": 43,
   "metadata": {},
   "outputs": [
    {
     "name": "stderr",
     "output_type": "stream",
     "text": [
      "/Users/mrefermat/git/FinancePhD/LiquidityMomentum/tsmom_model.py:224: FutureWarning: how in .resample() is deprecated\n",
      "the new syntax is .resample(...).median()\n",
      "  mkts=quantile_columns(rank_data.resample(rule='a',how='median'),year,number_of_buckets,i)\n",
      "/Users/mrefermat/git/FinancePhD/LiquidityMomentum/tsmom_model.py:225: FutureWarning: how in .resample() is deprecated\n",
      "the new syntax is .resample(...).last()\n",
      "  rtns = price_data.resample(rule='m',how='last')[mkts].pct_change()[str(y+1)].mean(axis=1)\n"
     ]
    }
   ],
   "source": [
    "sector_portfolio_sorts={}\n",
    "amihud_values={}\n",
    "for s in sector_zscores.keys():\n",
    "    sector_portfolio_sorts[s],amihud_values[s]=quantile_portfolios_annual_with_rank(sector_zscores[s],cleansed,2)\n",
    "sector_portfolio_sorts['All'],amihud_values['All']=quantile_portfolios_annual_with_rank(data,cleansed,2)"
   ]
  },
  {
   "cell_type": "markdown",
   "metadata": {},
   "source": [
    "# Acharya and Pedersen (2005) pricing levels of liquidity and liquidity risk\n",
    "$$E_t(r_{t+1}^i- r_f) =  \\alpha + \\kappa E_t(c_{t+1}^i) + \\lambda_t(\\beta_t + \\beta_t^{L1} - \\beta_t^{L2} - \\beta_t^{L3}) $$\n",
    "where\n",
    "\n",
    "* $c_t$:  Liquidity cost \n",
    "* $\\beta_t^{L1}$:  Commonality in liquidity with the market, $cov(c^i,c^M)$\n",
    "* $\\beta_t^{L2}$:  Return sensitivity to market liquidity, $cov(r^i,c^M)$\n",
    "* $\\beta_t^{L3}$:  Liquidity sensitivity to market returns, $cov(c^i,r^M)$\n"
   ]
  },
  {
   "cell_type": "markdown",
   "metadata": {},
   "source": [
    "# Adding expected cost"
   ]
  },
  {
   "cell_type": "code",
   "execution_count": 40,
   "metadata": {},
   "outputs": [
    {
     "data": {
      "text/plain": [
       "dict_keys(['Equities', 'Agriculturals', 'Currencies', 'Fixed Income', 'Metals', 'Energies', 'All'])"
      ]
     },
     "execution_count": 40,
     "metadata": {},
     "output_type": "execute_result"
    }
   ],
   "source": [
    "sector_portfolio_sorts.keys()"
   ]
  },
  {
   "cell_type": "code",
   "execution_count": 79,
   "metadata": {},
   "outputs": [
    {
     "name": "stderr",
     "output_type": "stream",
     "text": [
      "/Users/mrefermat/anaconda3/lib/python3.6/site-packages/ipykernel_launcher.py:11: FutureWarning: how in .resample() is deprecated\n",
      "the new syntax is .resample(...).last()\n",
      "  # This is added back by InteractiveShellApp.init_path()\n",
      "/Users/mrefermat/anaconda3/lib/python3.6/site-packages/ipykernel_launcher.py:16: FutureWarning: pd.rolling_corr is deprecated for Series and will be removed in a future version, replace with \n",
      "\tSeries.rolling(window=12,min_periods=12).corr(other=<Series>)\n",
      "  app.launch_new_instance()\n",
      "/Users/mrefermat/anaconda3/lib/python3.6/site-packages/ipykernel_launcher.py:17: FutureWarning: pd.rolling_corr is deprecated for Series and will be removed in a future version, replace with \n",
      "\tSeries.rolling(window=12,min_periods=12).corr(other=<Series>)\n",
      "/Users/mrefermat/anaconda3/lib/python3.6/site-packages/ipykernel_launcher.py:18: FutureWarning: pd.rolling_corr is deprecated for Series and will be removed in a future version, replace with \n",
      "\tSeries.rolling(window=12,min_periods=12).corr(other=<Series>)\n",
      "/Users/mrefermat/anaconda3/lib/python3.6/site-packages/ipykernel_launcher.py:8: FutureWarning: how in .resample() is deprecated\n",
      "the new syntax is .resample(...).last()\n",
      "  \n"
     ]
    }
   ],
   "source": [
    "final_res={}\n",
    "for sec in ['Equities', 'Agriculturals', 'Fixed Income', 'Metals', 'Energies', 'All']:\n",
    "    sector_res=pd.DataFrame()\n",
    "    for bucket in ['0','1']:\n",
    "        portfolio_rtn=sector_portfolio_sorts[sec][bucket]\n",
    "        portfolio_amihud=amihud_values[sec][bucket]\n",
    "        if sec == 'All':\n",
    "            market=cleansed.resample(rule='m',how='last').pct_change().median(axis=1).dropna()\n",
    "            market_amihud=amihud.median(axis=1)\n",
    "        else:\n",
    "            market=cleansed[sector_zscores[sec].columns].resample(rule='m',how='last').pct_change().median(axis=1).dropna()\n",
    "            market_amihud=amihud[sector_zscores[sec].columns].median(axis=1)\n",
    "        factor=pd.DataFrame()\n",
    "        factor['Market']=market\n",
    "        factor['E(c_t)']=portfolio_amihud\n",
    "        factor['Factor1']=pd.rolling_corr(portfolio_amihud,market_amihud,12,min_periods=12)\n",
    "        factor['Factor2']=pd.rolling_corr(portfolio_rtn,market_amihud,12,min_periods=12)\n",
    "        factor['Factor3']=pd.rolling_corr(portfolio_amihud,market,12,min_periods=12)\n",
    "        ind=portfolio_rtn['2001':].index\n",
    "        res=sm.OLS(portfolio_rtn.loc[ind],sm.add_constant(factor.loc[ind])).fit(cov_type='HAC',cov_kwds={'maxlags':1})\n",
    "        #res=sm.OLS(portfolio_rtn.loc[ind],sec.loc[ind]).fit(cov_type='HAC',cov_kwds={'maxlags':1})\n",
    "        sector_res['Portfolio '+bucket]=res.params\n",
    "        sector_res['Tstat'+bucket]=res.tvalues\n",
    "    final_res[sec]=sector_res"
   ]
  },
  {
   "cell_type": "code",
   "execution_count": 83,
   "metadata": {},
   "outputs": [
    {
     "name": "stdout",
     "output_type": "stream",
     "text": [
      "Agriculturals\n",
      "\\begin{tabular}{lrrrrr}\n",
      "\\toprule\n",
      "{} &  Market &  E(c\\_t) &  Factor1 &  Factor2 &  Factor3 \\\\\n",
      "\\midrule\n",
      "Portfolio 0 &    0.99 &    0.01 &    -0.00 &    -0.01 &    -0.00 \\\\\n",
      "Tstat0      &   28.15 &    1.70 &    -0.12 &    -1.92 &    -0.35 \\\\\n",
      "Portfolio 1 &    0.90 &    0.01 &    -0.00 &     0.01 &    -0.00 \\\\\n",
      "Tstat1      &   18.95 &    1.62 &    -0.59 &     1.06 &    -0.35 \\\\\n",
      "\\bottomrule\n",
      "\\end{tabular}\n",
      "\n",
      "Energies\n",
      "\\begin{tabular}{lrrrrr}\n",
      "\\toprule\n",
      "{} &  Market &  E(c\\_t) &  Factor1 &  Factor2 &  Factor3 \\\\\n",
      "\\midrule\n",
      "Portfolio 0 &    1.08 &   -0.00 &    -0.01 &     0.02 &    -0.01 \\\\\n",
      "Tstat0      &   17.41 &   -0.10 &    -1.05 &     1.63 &    -1.32 \\\\\n",
      "Portfolio 1 &    0.87 &    0.00 &    -0.00 &     0.01 &    -0.01 \\\\\n",
      "Tstat1      &   11.86 &    0.12 &    -0.48 &     1.18 &    -0.78 \\\\\n",
      "\\bottomrule\n",
      "\\end{tabular}\n",
      "\n",
      "Equities\n",
      "\\begin{tabular}{lrrrrr}\n",
      "\\toprule\n",
      "{} &  Market &  E(c\\_t) &  Factor1 &  Factor2 &  Factor3 \\\\\n",
      "\\midrule\n",
      "Portfolio 0 &    0.93 &   -0.01 &    -0.01 &     0.01 &    -0.01 \\\\\n",
      "Tstat0      &   19.57 &   -1.37 &    -1.50 &     0.79 &    -0.60 \\\\\n",
      "Portfolio 1 &    0.91 &   -0.00 &     0.00 &    -0.00 &     0.00 \\\\\n",
      "Tstat1      &   45.54 &   -2.33 &     1.02 &    -0.64 &     1.29 \\\\\n",
      "\\bottomrule\n",
      "\\end{tabular}\n",
      "\n",
      "Metals\n",
      "\\begin{tabular}{lrrrrr}\n",
      "\\toprule\n",
      "{} &  Market &  E(c\\_t) &  Factor1 &  Factor2 &  Factor3 \\\\\n",
      "\\midrule\n",
      "Portfolio 0 &    0.91 &   -0.01 &    -0.00 &    -0.00 &    -0.00 \\\\\n",
      "Tstat0      &   19.65 &   -0.69 &    -0.25 &    -0.21 &    -0.85 \\\\\n",
      "Portfolio 1 &    1.19 &   -0.01 &     0.00 &    -0.00 &     0.00 \\\\\n",
      "Tstat1      &   27.41 &   -2.21 &     0.58 &    -0.60 &     0.05 \\\\\n",
      "\\bottomrule\n",
      "\\end{tabular}\n",
      "\n",
      "Fixed Income\n",
      "\\begin{tabular}{lrrrrr}\n",
      "\\toprule\n",
      "{} &  Market &  E(c\\_t) &  Factor1 &  Factor2 &  Factor3 \\\\\n",
      "\\midrule\n",
      "Portfolio 0 &    2.38 &   -0.00 &    -0.00 &      0.0 &     0.00 \\\\\n",
      "Tstat0      &   11.33 &   -1.25 &    -0.69 &      0.1 &     0.63 \\\\\n",
      "Portfolio 1 &    2.08 &   -0.00 &     0.00 &      0.0 &    -0.00 \\\\\n",
      "Tstat1      &   11.90 &   -1.23 &     0.00 &      0.2 &    -1.03 \\\\\n",
      "\\bottomrule\n",
      "\\end{tabular}\n",
      "\n",
      "All\n",
      "\\begin{tabular}{lrrrrr}\n",
      "\\toprule\n",
      "{} &  Market &  E(c\\_t) &  Factor1 &  Factor2 &  Factor3 \\\\\n",
      "\\midrule\n",
      "Portfolio 0 &    1.23 &    0.00 &     0.00 &     0.00 &     0.00 \\\\\n",
      "Tstat0      &   18.03 &    0.13 &     0.47 &     0.20 &     0.33 \\\\\n",
      "Portfolio 1 &    1.15 &   -0.00 &     0.00 &    -0.00 &     0.00 \\\\\n",
      "Tstat1      &    9.86 &   -0.34 &     0.04 &    -0.37 &     1.29 \\\\\n",
      "\\bottomrule\n",
      "\\end{tabular}\n",
      "\n"
     ]
    }
   ],
   "source": [
    "for sec in ['Agriculturals','Energies','Equities', 'Metals','Fixed Income', 'All']:\n",
    "    print(sec)\n",
    "    x=final_res[sec].T\n",
    "    #x['Sector']=sec\n",
    "    print(x.round(2)[['Market', 'E(c_t)', 'Factor1', 'Factor2', 'Factor3']].to_latex())"
   ]
  }
 ],
 "metadata": {
  "kernelspec": {
   "display_name": "Python 3",
   "language": "python",
   "name": "python3"
  },
  "language_info": {
   "codemirror_mode": {
    "name": "ipython",
    "version": 3
   },
   "file_extension": ".py",
   "mimetype": "text/x-python",
   "name": "python",
   "nbconvert_exporter": "python",
   "pygments_lexer": "ipython3",
   "version": "3.6.3"
  }
 },
 "nbformat": 4,
 "nbformat_minor": 2
}
