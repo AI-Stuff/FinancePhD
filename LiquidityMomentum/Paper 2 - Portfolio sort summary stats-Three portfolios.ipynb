{
 "cells": [
  {
   "cell_type": "code",
   "execution_count": 1,
   "metadata": {},
   "outputs": [
    {
     "name": "stderr",
     "output_type": "stream",
     "text": [
      "/Users/mrefermat/anaconda/lib/python2.7/site-packages/IPython/utils/traitlets.py:5: UserWarning: IPython.utils.traitlets has moved to a top-level traitlets package.\n",
      "  warn(\"IPython.utils.traitlets has moved to a top-level traitlets package.\")\n",
      "/Users/mrefermat/anaconda/lib/python2.7/site-packages/IPython/kernel/__init__.py:13: ShimWarning: The `IPython.kernel` package has been deprecated since IPython 4.0.You should import from ipykernel or jupyter_client instead.\n",
      "  \"You should import from ipykernel or jupyter_client instead.\", ShimWarning)\n"
     ]
    }
   ],
   "source": [
    "%matplotlib inline\n",
    "import seaborn\n",
    "import quandl\n",
    "import pandas as pd\n",
    "import seaborn as sns\n",
    "import math\n",
    "from tsmom_model import *\n",
    "import numpy as np\n",
    "from datetime import datetime\n",
    "import statsmodels.formula.api as sm\n",
    "token=\"Us3wFmXGgAj_1cUtHAAR\""
   ]
  },
  {
   "cell_type": "code",
   "execution_count": 2,
   "metadata": {},
   "outputs": [],
   "source": [
    "import pylab\n",
    "sns.set(font_scale=3)\n",
    "pylab.rcParams['figure.figsize'] = (24, 18)"
   ]
  },
  {
   "cell_type": "code",
   "execution_count": 3,
   "metadata": {},
   "outputs": [
    {
     "name": "stderr",
     "output_type": "stream",
     "text": [
      "tsmom_model.py:160: FutureWarning: how in .resample() is deprecated\n",
      "the new syntax is .resample(...).last()\n",
      "  data=pd.read_csv('./Price.csv',index_col=0,parse_dates=['Date']).resample(rule='d',how='last')\n",
      "tsmom_model.py:162: FutureWarning: how in .resample() is deprecated\n",
      "the new syntax is .resample(...).last()\n",
      "  qd=pd.read_csv('./liquid_contracts.csv',index_col=0,parse_dates=['Date']).resample(rule='d',how='last')\n"
     ]
    }
   ],
   "source": [
    "cleansed=load_amihud_markets_price()"
   ]
  },
  {
   "cell_type": "code",
   "execution_count": 4,
   "metadata": {},
   "outputs": [
    {
     "name": "stderr",
     "output_type": "stream",
     "text": [
      "tsmom_model.py:44: FutureWarning: how in .resample() is deprecated\n",
      "the new syntax is .resample(...).mean()\n",
      "  data=pd.read_csv('./Volume.csv',index_col=0,parse_dates=['Date']).resample(rule='d',how='mean')\n",
      "tsmom_model.py:46: FutureWarning: how in .resample() is deprecated\n",
      "the new syntax is .resample(...).sum()\n",
      "  v=pd.read_csv('./volume_data.csv',index_col=0,parse_dates=['Date']).resample(rule='d',how='sum')\n",
      "tsmom_model.py:48: FutureWarning: pd.rolling_mean is deprecated for DataFrame and will be removed in a future version, replace with \n",
      "\tDataFrame.rolling(min_periods=100,window=250,center=False).mean()\n",
      "  volume=pd.rolling_mean(v,250,min_periods=100).resample(rule='d',how='mean')[:'2016']\n",
      "tsmom_model.py:48: FutureWarning: how in .resample() is deprecated\n",
      "the new syntax is .resample(...).mean()\n",
      "  volume=pd.rolling_mean(v,250,min_periods=100).resample(rule='d',how='mean')[:'2016']\n",
      "tsmom_model.py:51: FutureWarning: pd.rolling_mean is deprecated for Series and will be removed in a future version, replace with \n",
      "\tSeries.rolling(min_periods=50,window=250,center=False).mean()\n",
      "  volume[name]=pd.rolling_mean(v2[x],250,min_periods=50).resample(rule='d',how='mean')\n",
      "tsmom_model.py:51: FutureWarning: how in .resample() is deprecated\n",
      "the new syntax is .resample(...).mean()\n",
      "  volume[name]=pd.rolling_mean(v2[x],250,min_periods=50).resample(rule='d',how='mean')\n",
      "tsmom_model.py:78: FutureWarning: how in .resample() is deprecated\n",
      "the new syntax is .resample(...).last()\n",
      "  fx=fx.resample(rule='d',how='last')\n",
      "tsmom_model.py:79: FutureWarning: how in .resample() is deprecated\n",
      "the new syntax is .resample(...).last()\n",
      "  px=cleansed.resample(rule='d',how='last')\n",
      "tsmom_model.py:87: FutureWarning: how in .resample() is deprecated\n",
      "the new syntax is .resample(...).mean()\n",
      "  x= (cleansed.pct_change().abs()/ total_vol).resample(rule='m',how='mean')\n"
     ]
    }
   ],
   "source": [
    "amihud=calculate_amihud_liquidity(cleansed)[:'2016'] "
   ]
  },
  {
   "cell_type": "code",
   "execution_count": 5,
   "metadata": {},
   "outputs": [
    {
     "name": "stderr",
     "output_type": "stream",
     "text": [
      "/Users/mrefermat/anaconda/lib/python2.7/site-packages/ipykernel_launcher.py:4: FutureWarning: how in .resample() is deprecated\n",
      "the new syntax is .resample(...).last()\n",
      "  after removing the cwd from sys.path.\n"
     ]
    }
   ],
   "source": [
    "sector_rtns={}\n",
    "d_map=sector_map(amihud)\n",
    "for sect in d_map.keys():\n",
    "    sector_rtns[sect]=np.log(cleansed[d_map[sect]].resample(rule='m',how='last')).diff().dropna(how='all')"
   ]
  },
  {
   "cell_type": "markdown",
   "metadata": {},
   "source": [
    "# Presentation to be like \"Time Varying Liquidity and Momentum Profits (2015) paper\n",
    "\n",
    "Rank by deciles, HML (8,9,10) - (1,2,3).  Save monthly returns (equal (risk?) weighted) and if you want to annualized then resample.\n",
    "\n",
    "\n",
    "Then correlation matrix \n",
    "* Overall market vol?\n",
    "* Market illiquidity (median Amihud through time series)\n"
   ]
  },
  {
   "cell_type": "markdown",
   "metadata": {},
   "source": [
    "# Amihud (2002) Annual portfolio sorts"
   ]
  },
  {
   "cell_type": "code",
   "execution_count": 6,
   "metadata": {},
   "outputs": [
    {
     "name": "stderr",
     "output_type": "stream",
     "text": [
      "tsmom_model.py:275: FutureWarning: pd.rolling_mean is deprecated for DataFrame and will be removed in a future version, replace with \n",
      "\tDataFrame.rolling(min_periods=3,window=100000000,center=False).mean()\n",
      "  return (df-pd.rolling_mean(df,100000000,min_periods=min_per))/pd.rolling_std(df,100000000,min_periods=min_per)\n",
      "tsmom_model.py:275: FutureWarning: pd.rolling_std is deprecated for DataFrame and will be removed in a future version, replace with \n",
      "\tDataFrame.rolling(min_periods=3,window=100000000,center=False).std()\n",
      "  return (df-pd.rolling_mean(df,100000000,min_periods=min_per))/pd.rolling_std(df,100000000,min_periods=min_per)\n"
     ]
    }
   ],
   "source": [
    "data=calc_zscore_expanding_window(amihud.dropna(how='all'),3).dropna(how='all')\n",
    "sector_zscores={}\n",
    "d_map=sector_map(amihud)\n",
    "for sect in d_map.keys():\n",
    "    sector_zscores[sect]=data[d_map[sect]].dropna(how='all')"
   ]
  },
  {
   "cell_type": "markdown",
   "metadata": {},
   "source": [
    "# Annual portfolio sorts"
   ]
  },
  {
   "cell_type": "code",
   "execution_count": 7,
   "metadata": {},
   "outputs": [
    {
     "name": "stderr",
     "output_type": "stream",
     "text": [
      "tsmom_model.py:240: FutureWarning: how in .resample() is deprecated\n",
      "the new syntax is .resample(...).median()\n",
      "  mkts=quantile_columns(rank_data.resample(rule='a',how='median'),year,number_of_buckets,i)\n",
      "tsmom_model.py:241: FutureWarning: how in .resample() is deprecated\n",
      "the new syntax is .resample(...).last()\n",
      "  rtns = price_data.resample(rule='m',how='last')[mkts].pct_change()[str(y+1)].mean(axis=1)\n"
     ]
    }
   ],
   "source": [
    "sector_portfolio_sorts={}\n",
    "for s in sector_zscores.keys():\n",
    "    sector_portfolio_sorts[s]=quantile_portfolios_annual(sector_zscores[s],cleansed,3)\n",
    "sector_portfolio_sorts['All']=quantile_portfolios_annual(data,cleansed,3)"
   ]
  },
  {
   "cell_type": "code",
   "execution_count": 8,
   "metadata": {},
   "outputs": [
    {
     "name": "stdout",
     "output_type": "stream",
     "text": [
      "Agriculturals\n"
     ]
    },
    {
     "name": "stderr",
     "output_type": "stream",
     "text": [
      "/Users/mrefermat/anaconda/lib/python2.7/site-packages/ipykernel_launcher.py:3: FutureWarning: how in .resample() is deprecated\n",
      "the new syntax is .resample(...).last()\n",
      "  This is separate from the ipykernel package so we can avoid doing imports until\n"
     ]
    },
    {
     "name": "stdout",
     "output_type": "stream",
     "text": [
      "\\begin{tabular}{lrrrr}\n",
      "\\toprule\n",
      "{} &      0 &      1 &      2 &  Factor \\\\\n",
      "\\midrule\n",
      "Monthly Return (in \\%)        &   0.69 &   0.76 &   0.95 &    0.27 \\\\\n",
      "Standard Deviation           &  17.26 &  14.73 &  17.69 &   17.06 \\\\\n",
      "Information Ratio            &   0.48 &   0.62 &   0.65 &    0.19 \\\\\n",
      "Skewness                     &  -0.01 &  -0.11 &   0.91 &    0.32 \\\\\n",
      "Excess Kurtosis              &   1.23 &   1.19 &   5.63 &    2.43 \\\\\n",
      "CAPM Alpha Annualized (in \\%) &   4.30 &   5.89 &   7.62 &    3.32 \\\\\n",
      "CAPM Alpha Tstat             &   2.15 &   2.95 &   3.34 &    0.91 \\\\\n",
      "CAPM Beta (in \\%)             &   1.08 &   0.90 &   1.05 &   -0.03 \\\\\n",
      "CAPM Beta Tstat              &  19.10 &  21.64 &  13.46 &   -0.27 \\\\\n",
      "\\$R\\textasciicircum2\\$                        &   0.72 &   0.68 &   0.65 &    0.00 \\\\\n",
      "\\bottomrule\n",
      "\\end{tabular}\n",
      "\n",
      "All\n",
      "\\begin{tabular}{lrrrr}\n",
      "\\toprule\n",
      "{} &      0 &      1 &      2 &  Factor \\\\\n",
      "\\midrule\n",
      "Monthly Return (in \\%)        &   0.36 &   0.55 &   0.69 &    0.34 \\\\\n",
      "Standard Deviation           &  10.03 &   9.15 &   9.78 &    7.51 \\\\\n",
      "Information Ratio            &   0.43 &   0.72 &   0.85 &    0.54 \\\\\n",
      "Skewness                     &  -0.72 &  -1.14 &  -0.44 &    0.34 \\\\\n",
      "Excess Kurtosis              &   4.44 &   6.66 &   3.01 &    2.12 \\\\\n",
      "CAPM Alpha Annualized (in \\%) &   1.56 &   4.19 &   5.76 &    4.19 \\\\\n",
      "CAPM Alpha Tstat             &   1.53 &   4.27 &   5.48 &    2.48 \\\\\n",
      "CAPM Beta (in \\%)             &   1.06 &   0.95 &   1.01 &   -0.06 \\\\\n",
      "CAPM Beta Tstat              &  24.56 &  25.59 &  19.74 &   -0.91 \\\\\n",
      "\\$R\\textasciicircum2\\$                        &   0.82 &   0.79 &   0.77 &    0.00 \\\\\n",
      "\\bottomrule\n",
      "\\end{tabular}\n",
      "\n",
      "Currencies\n",
      "\\begin{tabular}{lrrrr}\n",
      "\\toprule\n",
      "{} &     0 &      1 &      2 &  Factor \\\\\n",
      "\\midrule\n",
      "Monthly Return (in \\%)        & -0.10 &  -0.02 &   0.10 &    0.20 \\\\\n",
      "Standard Deviation           &  9.03 &   9.28 &   7.36 &   10.07 \\\\\n",
      "Information Ratio            & -0.14 &  -0.03 &   0.17 &    0.24 \\\\\n",
      "Skewness                     &  0.31 &  -0.51 &  -0.39 &   -0.18 \\\\\n",
      "Excess Kurtosis              &  0.51 &   3.46 &   1.03 &    1.10 \\\\\n",
      "CAPM Alpha Annualized (in \\%) & -0.74 &   0.47 &   1.77 &    2.50 \\\\\n",
      "CAPM Alpha Tstat             & -0.42 &   0.37 &   1.57 &    1.04 \\\\\n",
      "CAPM Beta (in \\%)             &  0.96 &   1.39 &   1.05 &    0.09 \\\\\n",
      "CAPM Beta Tstat              &  6.47 &  12.91 &  12.97 &    0.59 \\\\\n",
      "\\$R\\textasciicircum2\\$                        &  0.33 &   0.65 &   0.60 &    0.00 \\\\\n",
      "\\bottomrule\n",
      "\\end{tabular}\n",
      "\n",
      "Energies\n",
      "\\begin{tabular}{lrrrr}\n",
      "\\toprule\n",
      "{} &      0 &      1 &      2 &  Factor \\\\\n",
      "\\midrule\n",
      "Monthly Return (in \\%)        &   0.98 &   1.36 &   1.36 &    0.37 \\\\\n",
      "Standard Deviation           &  32.04 &  32.55 &  28.90 &   32.11 \\\\\n",
      "Information Ratio            &   0.37 &   0.50 &   0.56 &    0.14 \\\\\n",
      "Skewness                     &  -0.01 &   1.33 &   0.86 &    0.64 \\\\\n",
      "Excess Kurtosis              &   1.12 &   8.02 &   1.99 &    2.50 \\\\\n",
      "CAPM Alpha Annualized (in \\%) &   6.42 &  11.02 &  11.59 &    5.17 \\\\\n",
      "CAPM Alpha Tstat             &   1.41 &   2.32 &   2.47 &    0.67 \\\\\n",
      "CAPM Beta (in \\%)             &   1.07 &   1.07 &   0.94 &   -0.14 \\\\\n",
      "CAPM Beta Tstat              &  16.19 &  10.83 &  12.59 &   -1.13 \\\\\n",
      "\\$R\\textasciicircum2\\$                        &   0.63 &   0.61 &   0.59 &    0.01 \\\\\n",
      "\\bottomrule\n",
      "\\end{tabular}\n",
      "\n",
      "Equities\n",
      "\\begin{tabular}{lrrrr}\n",
      "\\toprule\n",
      "{} &      0 &      1 &      2 &  Factor \\\\\n",
      "\\midrule\n",
      "Monthly Return (in \\%)        &   0.36 &   0.41 &   0.45 &    0.10 \\\\\n",
      "Standard Deviation           &  15.05 &  16.42 &  15.14 &   10.02 \\\\\n",
      "Information Ratio            &   0.28 &   0.30 &   0.36 &    0.12 \\\\\n",
      "Skewness                     &  -0.88 &  -0.75 &  -0.56 &   -0.18 \\\\\n",
      "Excess Kurtosis              &   3.80 &   1.26 &   0.66 &    0.55 \\\\\n",
      "CAPM Alpha Annualized (in \\%) &   2.10 &   2.43 &   3.11 &    1.01 \\\\\n",
      "CAPM Alpha Tstat             &   1.25 &   1.95 &   2.94 &    0.43 \\\\\n",
      "CAPM Beta (in \\%)             &   0.94 &   1.08 &   1.00 &    0.07 \\\\\n",
      "CAPM Beta Tstat              &  17.56 &  38.39 &  39.08 &    0.94 \\\\\n",
      "\\$R\\textasciicircum2\\$                        &   0.80 &   0.90 &   0.90 &    0.00 \\\\\n",
      "\\bottomrule\n",
      "\\end{tabular}\n",
      "\n",
      "Metals\n",
      "\\begin{tabular}{lrrrr}\n",
      "\\toprule\n",
      "{} &      0 &      1 &      2 &  Factor \\\\\n",
      "\\midrule\n",
      "Monthly Return (in \\%)        &   0.73 &   0.92 &   0.50 &   -0.23 \\\\\n",
      "Standard Deviation           &  18.37 &  19.54 &  24.12 &   18.13 \\\\\n",
      "Information Ratio            &   0.47 &   0.56 &   0.25 &   -0.15 \\\\\n",
      "Skewness                     &  -0.70 &  -0.66 &   0.03 &    0.64 \\\\\n",
      "Excess Kurtosis              &   3.53 &   2.08 &   3.69 &    2.34 \\\\\n",
      "CAPM Alpha Annualized (in \\%) &   5.55 &   7.81 &   1.54 &   -4.01 \\\\\n",
      "CAPM Alpha Tstat             &   2.57 &   2.58 &   0.66 &   -1.09 \\\\\n",
      "CAPM Beta (in \\%)             &   0.82 &   0.83 &   1.16 &    0.33 \\\\\n",
      "CAPM Beta Tstat              &  17.47 &  12.75 &  14.60 &    3.15 \\\\\n",
      "\\$R\\textasciicircum2\\$                        &   0.71 &   0.63 &   0.81 &    0.11 \\\\\n",
      "\\bottomrule\n",
      "\\end{tabular}\n",
      "\n",
      "Fixed Income\n",
      "\\begin{tabular}{lrrrr}\n",
      "\\toprule\n",
      "{} &      0 &      1 &      2 &  Factor \\\\\n",
      "\\midrule\n",
      "Monthly Return (in \\%)        &   0.06 &   0.06 &   0.13 &    0.06 \\\\\n",
      "Standard Deviation           &   3.37 &   2.33 &   3.02 &    3.56 \\\\\n",
      "Information Ratio            &   0.23 &   0.33 &   0.50 &    0.21 \\\\\n",
      "Skewness                     &   0.83 &   0.00 &   0.75 &    0.12 \\\\\n",
      "Excess Kurtosis              &   7.32 &   0.65 &   1.08 &    5.04 \\\\\n",
      "CAPM Alpha Annualized (in \\%) &  -0.25 &   0.01 &   0.55 &    0.80 \\\\\n",
      "CAPM Alpha Tstat             &  -0.51 &   0.04 &   1.37 &    0.98 \\\\\n",
      "CAPM Beta (in \\%)             &   1.10 &   0.82 &   1.04 &   -0.06 \\\\\n",
      "CAPM Beta Tstat              &  10.45 &  20.06 &  13.71 &   -0.35 \\\\\n",
      "\\$R\\textasciicircum2\\$                        &   0.60 &   0.71 &   0.67 &    0.00 \\\\\n",
      "\\bottomrule\n",
      "\\end{tabular}\n",
      "\n"
     ]
    }
   ],
   "source": [
    "for sec in sector_portfolio_sorts.keys():\n",
    "    print(sec)\n",
    "    print(portfolio_sort_table(sector_portfolio_sorts[sec],np.log(cleansed.resample(rule='m',how='last')).diff().dropna(how='all'),d_map,sec).to_latex())\n"
   ]
  },
  {
   "cell_type": "markdown",
   "metadata": {},
   "source": [
    "# FHT Annual portfolio sorts"
   ]
  },
  {
   "cell_type": "code",
   "execution_count": 9,
   "metadata": {},
   "outputs": [
    {
     "name": "stderr",
     "output_type": "stream",
     "text": [
      "tsmom_model.py:288: FutureWarning: how in .resample() is deprecated\n",
      "the new syntax is .resample(...).count()\n",
      "  nonzero=x[x==0].resample(rule='m',how='count')\n",
      "tsmom_model.py:289: FutureWarning: how in .resample() is deprecated\n",
      "the new syntax is .resample(...).count()\n",
      "  Z=(nonzero/x.resample(rule='m',how='count')).dropna()\n",
      "tsmom_model.py:290: FutureWarning: pd.rolling_std is deprecated for Series and will be removed in a future version, replace with \n",
      "\tSeries.rolling(window=12,center=False).std()\n",
      "  data[c]=pd.Series(norm.cdf((1+Z)/2.),index=Z.index)*2*pd.rolling_std(x,12).resample(rule='m',how='last')\n",
      "tsmom_model.py:290: FutureWarning: how in .resample() is deprecated\n",
      "the new syntax is .resample(...).last()\n",
      "  data[c]=pd.Series(norm.cdf((1+Z)/2.),index=Z.index)*2*pd.rolling_std(x,12).resample(rule='m',how='last')\n"
     ]
    }
   ],
   "source": [
    "FHT=calculate_FHT(cleansed)\n",
    "data=calc_zscore_expanding_window(FHT.dropna(how='all'),3).dropna(how='all')\n",
    "sector_zscores={}\n",
    "d_map=sector_map(FHT)\n",
    "for sect in d_map.keys():\n",
    "    sector_zscores[sect]=data[d_map[sect]].dropna(how='all')"
   ]
  },
  {
   "cell_type": "code",
   "execution_count": 10,
   "metadata": {},
   "outputs": [],
   "source": [
    "sector_portfolio_sorts_FHT={}\n",
    "for s in sector_zscores.keys():\n",
    "    sector_portfolio_sorts_FHT[s]=quantile_portfolios_annual(sector_zscores[s],cleansed,3)\n",
    "sector_portfolio_sorts_FHT['All']=quantile_portfolios_annual(data,cleansed,3)"
   ]
  },
  {
   "cell_type": "code",
   "execution_count": 11,
   "metadata": {},
   "outputs": [
    {
     "name": "stdout",
     "output_type": "stream",
     "text": [
      "Agriculturals\n",
      "\\begin{tabular}{lrrrr}\n",
      "\\toprule\n",
      "{} &      0 &      1 &      2 &  Factor \\\\\n",
      "\\midrule\n",
      "Monthly Return (in \\%)        &   0.52 &   0.78 &   0.51 &   -0.01 \\\\\n",
      "Standard Deviation           &  14.18 &  16.87 &  16.10 &   15.24 \\\\\n",
      "Information Ratio            &   0.44 &   0.55 &   0.38 &   -0.00 \\\\\n",
      "Skewness                     &  -0.14 &   1.49 &  -0.06 &    0.17 \\\\\n",
      "Excess Kurtosis              &   1.63 &  11.56 &   0.58 &    0.07 \\\\\n",
      "CAPM Alpha Annualized (in \\%) &   5.26 &   7.66 &   4.71 &   -0.54 \\\\\n",
      "CAPM Alpha Tstat             &   2.74 &   2.99 &   2.36 &   -0.16 \\\\\n",
      "CAPM Beta (in \\%)             &   0.96 &   1.01 &   1.05 &    0.09 \\\\\n",
      "CAPM Beta Tstat              &  20.23 &  10.36 &  22.00 &    1.17 \\\\\n",
      "\\$R\\textasciicircum2\\$                        &   0.70 &   0.61 &   0.72 &    0.00 \\\\\n",
      "\\bottomrule\n",
      "\\end{tabular}\n",
      "\n",
      "All\n"
     ]
    },
    {
     "name": "stderr",
     "output_type": "stream",
     "text": [
      "/Users/mrefermat/anaconda/lib/python2.7/site-packages/ipykernel_launcher.py:3: FutureWarning: how in .resample() is deprecated\n",
      "the new syntax is .resample(...).last()\n",
      "  This is separate from the ipykernel package so we can avoid doing imports until\n"
     ]
    },
    {
     "name": "stdout",
     "output_type": "stream",
     "text": [
      "\\begin{tabular}{lrrrr}\n",
      "\\toprule\n",
      "{} &      0 &      1 &      2 &  Factor \\\\\n",
      "\\midrule\n",
      "Monthly Return (in \\%)        &   0.33 &   0.51 &   0.56 &    0.23 \\\\\n",
      "Standard Deviation           &   7.44 &   8.37 &   9.91 &    8.11 \\\\\n",
      "Information Ratio            &   0.53 &   0.74 &   0.68 &    0.35 \\\\\n",
      "Skewness                     &  -0.94 &  -0.69 &  -0.59 &    0.01 \\\\\n",
      "Excess Kurtosis              &   5.70 &   3.34 &   3.24 &    0.23 \\\\\n",
      "CAPM Alpha Annualized (in \\%) &   3.03 &   4.36 &   3.79 &    0.76 \\\\\n",
      "CAPM Alpha Tstat             &   3.31 &   4.77 &   3.55 &    0.44 \\\\\n",
      "CAPM Beta (in \\%)             &   0.87 &   0.97 &   1.09 &    0.22 \\\\\n",
      "CAPM Beta Tstat              &  28.44 &  23.44 &  22.95 &    3.19 \\\\\n",
      "\\$R\\textasciicircum2\\$                        &   0.79 &   0.83 &   0.81 &    0.06 \\\\\n",
      "\\bottomrule\n",
      "\\end{tabular}\n",
      "\n",
      "Currencies\n",
      "\\begin{tabular}{lrrrr}\n",
      "\\toprule\n",
      "{} &     0 &     1 &      2 &  Factor \\\\\n",
      "\\midrule\n",
      "Monthly Return (in \\%)        & -0.10 & -0.04 &   0.01 &    0.11 \\\\\n",
      "Standard Deviation           &  8.81 &  7.74 &   7.75 &   10.31 \\\\\n",
      "Information Ratio            & -0.14 & -0.07 &   0.01 &    0.12 \\\\\n",
      "Skewness                     &  0.23 & -0.67 &   0.07 &    0.11 \\\\\n",
      "Excess Kurtosis              &  4.36 &  4.47 &   2.21 &    1.57 \\\\\n",
      "CAPM Alpha Annualized (in \\%) &  0.18 & -0.38 &  -0.09 &   -0.27 \\\\\n",
      "CAPM Alpha Tstat             &  0.09 & -0.25 &  -0.09 &   -0.12 \\\\\n",
      "CAPM Beta (in \\%)             &  0.87 &  0.90 &   1.18 &    0.31 \\\\\n",
      "CAPM Beta Tstat              &  5.77 &  5.07 &  16.32 &    1.75 \\\\\n",
      "\\$R\\textasciicircum2\\$                        &  0.27 &  0.38 &   0.71 &    0.02 \\\\\n",
      "\\bottomrule\n",
      "\\end{tabular}\n",
      "\n",
      "Energies\n",
      "\\begin{tabular}{lrrrr}\n",
      "\\toprule\n",
      "{} &      0 &      1 &      2 &  Factor \\\\\n",
      "\\midrule\n",
      "Monthly Return (in \\%)        &   0.65 &   1.10 &   1.32 &    0.67 \\\\\n",
      "Standard Deviation           &  35.78 &  29.82 &  28.47 &   35.55 \\\\\n",
      "Information Ratio            &   0.22 &   0.44 &   0.56 &    0.23 \\\\\n",
      "Skewness                     &   1.09 &   0.37 &   0.75 &   -1.20 \\\\\n",
      "Excess Kurtosis              &   4.44 &   3.91 &   1.93 &    8.60 \\\\\n",
      "CAPM Alpha Annualized (in \\%) &   7.20 &   9.14 &  13.52 &    6.32 \\\\\n",
      "CAPM Alpha Tstat             &   0.90 &   2.09 &   2.98 &    0.62 \\\\\n",
      "CAPM Beta (in \\%)             &   1.09 &   1.02 &   0.92 &   -0.17 \\\\\n",
      "CAPM Beta Tstat              &  10.39 &  13.99 &  12.59 &   -1.26 \\\\\n",
      "\\$R\\textasciicircum2\\$                        &   0.43 &   0.64 &   0.59 &    0.01 \\\\\n",
      "\\bottomrule\n",
      "\\end{tabular}\n",
      "\n",
      "Equities\n",
      "\\begin{tabular}{lrrrr}\n",
      "\\toprule\n",
      "{} &      0 &      1 &      2 &  Factor \\\\\n",
      "\\midrule\n",
      "Monthly Return (in \\%)        &   0.62 &   0.56 &   0.77 &    0.15 \\\\\n",
      "Standard Deviation           &  17.06 &  16.41 &  17.87 &   14.50 \\\\\n",
      "Information Ratio            &   0.43 &   0.41 &   0.51 &    0.12 \\\\\n",
      "Skewness                     &  -0.32 &  -0.58 &  -0.36 &   -0.56 \\\\\n",
      "Excess Kurtosis              &   1.11 &   1.71 &   3.42 &    8.03 \\\\\n",
      "CAPM Alpha Annualized (in \\%) &   2.35 &   1.56 &   3.33 &    0.97 \\\\\n",
      "CAPM Alpha Tstat             &   2.01 &   1.51 &   2.55 &    0.46 \\\\\n",
      "CAPM Beta (in \\%)             &   1.03 &   0.99 &   0.93 &   -0.09 \\\\\n",
      "CAPM Beta Tstat              &  29.95 &  41.53 &  20.45 &   -1.48 \\\\\n",
      "\\$R\\textasciicircum2\\$                        &   0.89 &   0.91 &   0.86 &    0.02 \\\\\n",
      "\\bottomrule\n",
      "\\end{tabular}\n",
      "\n",
      "Metals\n",
      "\\begin{tabular}{lrrrr}\n",
      "\\toprule\n",
      "{} &      0 &      1 &      2 &  Factor \\\\\n",
      "\\midrule\n",
      "Monthly Return (in \\%)        &   0.57 &   0.82 &   0.58 &    0.01 \\\\\n",
      "Standard Deviation           &  20.56 &  17.44 &  20.33 &   19.15 \\\\\n",
      "Information Ratio            &   0.33 &   0.56 &   0.34 &    0.01 \\\\\n",
      "Skewness                     &   0.19 &  -0.36 &  -0.24 &   -0.67 \\\\\n",
      "Excess Kurtosis              &   5.46 &   1.95 &   3.12 &    3.71 \\\\\n",
      "CAPM Alpha Annualized (in \\%) &   7.74 &   7.75 &   0.05 &   -7.69 \\\\\n",
      "CAPM Alpha Tstat             &   2.36 &   3.64 &   0.02 &   -1.60 \\\\\n",
      "CAPM Beta (in \\%)             &   0.99 &   0.87 &   1.02 &    0.03 \\\\\n",
      "CAPM Beta Tstat              &  12.83 &  16.93 &  19.93 &    0.29 \\\\\n",
      "\\$R\\textasciicircum2\\$                        &   0.65 &   0.74 &   0.80 &    0.00 \\\\\n",
      "\\bottomrule\n",
      "\\end{tabular}\n",
      "\n",
      "Fixed Income\n",
      "\\begin{tabular}{lrrrr}\n",
      "\\toprule\n",
      "{} &     0 &      1 &      2 &  Factor \\\\\n",
      "\\midrule\n",
      "Monthly Return (in \\%)        &  0.01 &   0.08 &   0.13 &    0.12 \\\\\n",
      "Standard Deviation           &  2.18 &   2.65 &   3.90 &    3.34 \\\\\n",
      "Information Ratio            &  0.07 &   0.37 &   0.41 &    0.43 \\\\\n",
      "Skewness                     & -0.08 &   0.43 &   0.19 &    0.32 \\\\\n",
      "Excess Kurtosis              &  2.60 &   3.92 &   1.08 &    1.55 \\\\\n",
      "CAPM Alpha Annualized (in \\%) & -0.33 &   0.40 &   0.25 &    0.57 \\\\\n",
      "CAPM Alpha Tstat             & -1.23 &   1.22 &   0.72 &    1.10 \\\\\n",
      "CAPM Beta (in \\%)             &  0.50 &   0.83 &   1.66 &    1.17 \\\\\n",
      "CAPM Beta Tstat              &  8.92 &  10.66 &  18.98 &    9.39 \\\\\n",
      "\\$R\\textasciicircum2\\$                        &  0.50 &   0.67 &   0.87 &    0.59 \\\\\n",
      "\\bottomrule\n",
      "\\end{tabular}\n",
      "\n"
     ]
    }
   ],
   "source": [
    "for sec in sector_portfolio_sorts_FHT.keys():\n",
    "    print(sec)\n",
    "    print(portfolio_sort_table(sector_portfolio_sorts_FHT[sec],np.log(cleansed.resample(rule='m',how='last')).diff().dropna(how='all'),d_map,sec).to_latex())"
   ]
  },
  {
   "cell_type": "markdown",
   "metadata": {},
   "source": [
    "# Monthly portoflio sorts"
   ]
  },
  {
   "cell_type": "code",
   "execution_count": 13,
   "metadata": {},
   "outputs": [],
   "source": [
    "amihud_monthly = read_monthly(amihud=True,sorts=3)"
   ]
  },
  {
   "cell_type": "code",
   "execution_count": 14,
   "metadata": {},
   "outputs": [
    {
     "name": "stdout",
     "output_type": "stream",
     "text": [
      "Agriculturals\n",
      "\\begin{tabular}{lrrrr}\n",
      "\\toprule\n",
      "{} &      0 &      1 &      2 &  Factor \\\\\n",
      "\\midrule\n",
      "Monthly Return (in \\%)        &   0.80 &   0.69 &   0.68 &   -0.12 \\\\\n",
      "Standard Deviation           &  16.56 &  14.49 &  18.61 &   16.00 \\\\\n",
      "Information Ratio            &   0.58 &   0.57 &   0.44 &   -0.09 \\\\\n",
      "Skewness                     &  -0.05 &   0.04 &   0.71 &    0.38 \\\\\n",
      "Excess Kurtosis              &   1.76 &   0.44 &   5.57 &    1.78 \\\\\n",
      "CAPM Alpha Annualized (in \\%) &   6.41 &   5.49 &   4.51 &   -1.90 \\\\\n",
      "CAPM Alpha Tstat             &   3.40 &   2.63 &   2.20 &   -0.60 \\\\\n",
      "CAPM Beta (in \\%)             &   1.01 &   0.87 &   1.15 &    0.14 \\\\\n",
      "CAPM Beta Tstat              &  19.08 &  17.86 &  14.81 &    1.23 \\\\\n",
      "\\$R\\textasciicircum2\\$                        &   0.71 &   0.69 &   0.73 &    0.01 \\\\\n",
      "\\bottomrule\n",
      "\\end{tabular}\n",
      "\n",
      "All\n"
     ]
    },
    {
     "name": "stderr",
     "output_type": "stream",
     "text": [
      "/Users/mrefermat/anaconda/lib/python2.7/site-packages/ipykernel_launcher.py:4: FutureWarning: how in .resample() is deprecated\n",
      "the new syntax is .resample(...).last()\n",
      "  after removing the cwd from sys.path.\n"
     ]
    },
    {
     "name": "stdout",
     "output_type": "stream",
     "text": [
      "\\begin{tabular}{lrrrr}\n",
      "\\toprule\n",
      "{} &      0 &      1 &      2 &  Factor \\\\\n",
      "\\midrule\n",
      "Monthly Return (in \\%)        &   0.42 &   0.37 &   0.58 &    0.16 \\\\\n",
      "Standard Deviation           &   9.81 &   8.73 &  10.34 &    8.32 \\\\\n",
      "Information Ratio            &   0.51 &   0.52 &   0.67 &    0.23 \\\\\n",
      "Skewness                     &  -0.75 &  -1.06 &  -0.26 &   -0.01 \\\\\n",
      "Excess Kurtosis              &   4.40 &   3.98 &   2.61 &    0.83 \\\\\n",
      "CAPM Alpha Annualized (in \\%) &   3.14 &   2.78 &   4.98 &    1.84 \\\\\n",
      "CAPM Alpha Tstat             &   2.94 &   3.35 &   4.54 &    0.99 \\\\\n",
      "CAPM Beta (in \\%)             &   1.00 &   0.91 &   1.04 &    0.04 \\\\\n",
      "CAPM Beta Tstat              &  24.45 &  28.45 &  18.96 &    0.55 \\\\\n",
      "\\$R\\textasciicircum2\\$                        &   0.79 &   0.82 &   0.77 &    0.00 \\\\\n",
      "\\bottomrule\n",
      "\\end{tabular}\n",
      "\n",
      "Currencies\n",
      "\\begin{tabular}{lrrrr}\n",
      "\\toprule\n",
      "{} &      0 &      1 &      2 &  Factor \\\\\n",
      "\\midrule\n",
      "Monthly Return (in \\%)        &   0.01 &   0.00 &  -0.01 &   -0.02 \\\\\n",
      "Standard Deviation           &   8.81 &   9.12 &   7.72 &    8.95 \\\\\n",
      "Information Ratio            &   0.02 &   0.00 &  -0.01 &   -0.03 \\\\\n",
      "Skewness                     &  -0.39 &   0.35 &  -0.68 &   -0.16 \\\\\n",
      "Excess Kurtosis              &   3.25 &   2.26 &   2.03 &    2.88 \\\\\n",
      "CAPM Alpha Annualized (in \\%) &   0.59 &   0.57 &   0.36 &   -0.23 \\\\\n",
      "CAPM Alpha Tstat             &   0.36 &   0.40 &   0.32 &   -0.09 \\\\\n",
      "CAPM Beta (in \\%)             &   1.16 &   1.36 &   1.20 &    0.04 \\\\\n",
      "CAPM Beta Tstat              &  10.26 &  14.49 &  15.39 &    0.25 \\\\\n",
      "\\$R\\textasciicircum2\\$                        &   0.49 &   0.64 &   0.69 &    0.00 \\\\\n",
      "\\bottomrule\n",
      "\\end{tabular}\n",
      "\n",
      "Energies\n",
      "\\begin{tabular}{lrrrr}\n",
      "\\toprule\n",
      "{} &      0 &      1 &      2 &  Factor \\\\\n",
      "\\midrule\n",
      "Monthly Return (in \\%)        &   0.53 &   0.21 &   1.93 &    1.40 \\\\\n",
      "Standard Deviation           &  32.47 &  31.14 &  30.44 &   33.26 \\\\\n",
      "Information Ratio            &   0.20 &   0.08 &   0.76 &    0.50 \\\\\n",
      "Skewness                     &  -0.15 &   0.35 &   0.37 &    0.84 \\\\\n",
      "Excess Kurtosis              &   3.51 &   0.35 &   2.12 &    4.19 \\\\\n",
      "CAPM Alpha Annualized (in \\%) &   4.33 &   0.60 &  21.40 &   17.07 \\\\\n",
      "CAPM Alpha Tstat             &   0.90 &   0.13 &   3.95 &    1.94 \\\\\n",
      "CAPM Beta (in \\%)             &   1.10 &   1.05 &   0.95 &   -0.15 \\\\\n",
      "CAPM Beta Tstat              &  13.84 &  12.63 &  11.18 &   -1.05 \\\\\n",
      "\\$R\\textasciicircum2\\$                        &   0.65 &   0.64 &   0.55 &    0.01 \\\\\n",
      "\\bottomrule\n",
      "\\end{tabular}\n",
      "\n",
      "Equities\n",
      "\\begin{tabular}{lrrrr}\n",
      "\\toprule\n",
      "{} &      0 &      1 &      2 &  Factor \\\\\n",
      "\\midrule\n",
      "Monthly Return (in \\%)        &   0.40 &   0.36 &   0.39 &   -0.01 \\\\\n",
      "Standard Deviation           &  16.89 &  15.51 &  15.97 &   10.67 \\\\\n",
      "Information Ratio            &   0.28 &   0.28 &   0.29 &   -0.01 \\\\\n",
      "Skewness                     &  -0.79 &  -0.70 &  -0.62 &   -0.35 \\\\\n",
      "Excess Kurtosis              &   2.88 &   0.89 &   0.80 &    0.49 \\\\\n",
      "CAPM Alpha Annualized (in \\%) &   2.62 &   2.23 &   2.53 &   -0.10 \\\\\n",
      "CAPM Alpha Tstat             &   1.44 &   1.74 &   2.02 &   -0.04 \\\\\n",
      "CAPM Beta (in \\%)             &   1.04 &   0.99 &   1.03 &   -0.02 \\\\\n",
      "CAPM Beta Tstat              &  20.30 &  30.58 &  33.68 &   -0.22 \\\\\n",
      "\\$R\\textasciicircum2\\$                        &   0.82 &   0.89 &   0.89 &    0.00 \\\\\n",
      "\\bottomrule\n",
      "\\end{tabular}\n",
      "\n",
      "Metals\n",
      "\\begin{tabular}{lrrrr}\n",
      "\\toprule\n",
      "{} &      0 &      1 &      2 &  Factor \\\\\n",
      "\\midrule\n",
      "Monthly Return (in \\%)        &   0.44 &   0.56 &   0.54 &    0.10 \\\\\n",
      "Standard Deviation           &  17.33 &  21.58 &  21.24 &   15.92 \\\\\n",
      "Information Ratio            &   0.30 &   0.31 &   0.31 &    0.08 \\\\\n",
      "Skewness                     &  -0.56 &  -0.25 &  -0.43 &    0.17 \\\\\n",
      "Excess Kurtosis              &   2.49 &   2.69 &   1.36 &    1.14 \\\\\n",
      "CAPM Alpha Annualized (in \\%) &   3.13 &   4.00 &   3.71 &    0.58 \\\\\n",
      "CAPM Alpha Tstat             &   1.40 &   1.63 &   1.59 &    0.15 \\\\\n",
      "CAPM Beta (in \\%)             &   0.77 &   1.00 &   1.01 &    0.24 \\\\\n",
      "CAPM Beta Tstat              &  16.82 &  17.86 &  17.39 &    3.10 \\\\\n",
      "\\$R\\textasciicircum2\\$                        &   0.72 &   0.78 &   0.83 &    0.08 \\\\\n",
      "\\bottomrule\n",
      "\\end{tabular}\n",
      "\n",
      "Fixed Income\n",
      "\\begin{tabular}{lrrrr}\n",
      "\\toprule\n",
      "{} &      0 &      1 &      2 &  Factor \\\\\n",
      "\\midrule\n",
      "Monthly Return (in \\%)        &   0.10 &   0.09 &   0.12 &    0.02 \\\\\n",
      "Standard Deviation           &   3.44 &   2.65 &   3.03 &    3.52 \\\\\n",
      "Information Ratio            &   0.36 &   0.41 &   0.49 &    0.07 \\\\\n",
      "Skewness                     &  -0.05 &   0.82 &   0.57 &    0.70 \\\\\n",
      "Excess Kurtosis              &   1.59 &   5.85 &   0.96 &    2.77 \\\\\n",
      "CAPM Alpha Annualized (in \\%) &   0.01 &   0.13 &   0.37 &    0.36 \\\\\n",
      "CAPM Alpha Tstat             &   0.03 &   0.34 &   0.85 &    0.42 \\\\\n",
      "CAPM Beta (in \\%)             &   1.15 &   0.90 &   1.03 &   -0.12 \\\\\n",
      "CAPM Beta Tstat              &  15.35 &  10.53 &  12.39 &   -0.83 \\\\\n",
      "\\$R\\textasciicircum2\\$                        &   0.62 &   0.63 &   0.64 &    0.00 \\\\\n",
      "\\bottomrule\n",
      "\\end{tabular}\n",
      "\n"
     ]
    }
   ],
   "source": [
    "for sec in amihud_monthly.keys():\n",
    "    print(sec)\n",
    "    #print(portfolio_sort_table(amihud_monthly[sec],sector_rtns[sec]).to_latex())\n",
    "    print(portfolio_sort_table(amihud_monthly[sec],np.log(cleansed.resample(rule='m',how='last')).diff().dropna(how='all'),d_map,sec).to_latex())"
   ]
  },
  {
   "cell_type": "markdown",
   "metadata": {},
   "source": [
    "# Monthly FHT"
   ]
  },
  {
   "cell_type": "code",
   "execution_count": 16,
   "metadata": {},
   "outputs": [],
   "source": [
    "FHT_monthly = read_monthly(amihud=False,sorts=3)"
   ]
  },
  {
   "cell_type": "code",
   "execution_count": 17,
   "metadata": {},
   "outputs": [
    {
     "name": "stdout",
     "output_type": "stream",
     "text": [
      "Agriculturals\n"
     ]
    },
    {
     "name": "stderr",
     "output_type": "stream",
     "text": [
      "/Users/mrefermat/anaconda/lib/python2.7/site-packages/ipykernel_launcher.py:4: FutureWarning: how in .resample() is deprecated\n",
      "the new syntax is .resample(...).last()\n",
      "  after removing the cwd from sys.path.\n"
     ]
    },
    {
     "name": "stdout",
     "output_type": "stream",
     "text": [
      "\\begin{tabular}{lrrrr}\n",
      "\\toprule\n",
      "{} &      0 &      1 &      2 &  Factor \\\\\n",
      "\\midrule\n",
      "Monthly Return (in \\%)        &   0.96 &   0.47 &   0.24 &   -0.72 \\\\\n",
      "Standard Deviation           &  13.71 &  14.20 &  17.44 &   16.35 \\\\\n",
      "Information Ratio            &   0.84 &   0.39 &   0.17 &   -0.53 \\\\\n",
      "Skewness                     &  -0.04 &  -0.10 &   0.56 &    0.57 \\\\\n",
      "Excess Kurtosis              &   0.52 &   1.35 &   6.24 &    2.96 \\\\\n",
      "CAPM Alpha Annualized (in \\%) &  11.62 &   4.25 &   0.68 &  -10.95 \\\\\n",
      "CAPM Alpha Tstat             &   5.78 &   2.12 &   0.29 &   -2.97 \\\\\n",
      "CAPM Beta (in \\%)             &   0.85 &   0.97 &   1.17 &    0.32 \\\\\n",
      "CAPM Beta Tstat              &  16.74 &  21.47 &  15.92 &    3.02 \\\\\n",
      "\\$R\\textasciicircum2\\$                        &   0.65 &   0.71 &   0.71 &    0.06 \\\\\n",
      "\\bottomrule\n",
      "\\end{tabular}\n",
      "\n",
      "All\n",
      "\\begin{tabular}{lrrrr}\n",
      "\\toprule\n",
      "{} &      0 &      1 &      2 &  Factor \\\\\n",
      "\\midrule\n",
      "Monthly Return (in \\%)        &   0.54 &   0.40 &   0.52 &   -0.02 \\\\\n",
      "Standard Deviation           &   8.16 &   8.00 &   9.98 &    8.91 \\\\\n",
      "Information Ratio            &   0.79 &   0.60 &   0.63 &   -0.02 \\\\\n",
      "Skewness                     &  -0.51 &  -0.83 &  -0.60 &    0.04 \\\\\n",
      "Excess Kurtosis              &   3.74 &   4.25 &   3.71 &    1.51 \\\\\n",
      "CAPM Alpha Annualized (in \\%) &   4.49 &   2.68 &   3.82 &   -0.67 \\\\\n",
      "CAPM Alpha Tstat             &   4.54 &   3.16 &   3.20 &   -0.34 \\\\\n",
      "CAPM Beta (in \\%)             &   0.87 &   0.91 &   1.12 &    0.25 \\\\\n",
      "CAPM Beta Tstat              &  22.05 &  29.84 &  23.22 &    3.64 \\\\\n",
      "\\$R\\textasciicircum2\\$                        &   0.78 &   0.84 &   0.79 &    0.06 \\\\\n",
      "\\bottomrule\n",
      "\\end{tabular}\n",
      "\n",
      "Currencies\n"
     ]
    },
    {
     "name": "stderr",
     "output_type": "stream",
     "text": [
      "tsmom_model.py:323: FutureWarning: \n",
      "Passing list-likes to .loc or [] with any missing label will raise\n",
      "KeyError in the future, you can use .reindex() as an alternative.\n",
      "\n",
      "See the documentation here:\n",
      "http://pandas.pydata.org/pandas-docs/stable/indexing.html#deprecate-loc-reindex-listlike\n",
      "  res=sm.OLS(un_dec.dropna()[str(i)].loc[ind],capm_factor[['Intercept','Mkt-RF']].loc[ind]).fit(cov_type='HAC',cov_kwds={'maxlags':1})\n"
     ]
    },
    {
     "name": "stdout",
     "output_type": "stream",
     "text": [
      "\\begin{tabular}{lrrrr}\n",
      "\\toprule\n",
      "{} &     0 &     1 &     2 &  Factor \\\\\n",
      "\\midrule\n",
      "Monthly Return (in \\%)        & -0.06 &  0.00 & -0.02 &    0.05 \\\\\n",
      "Standard Deviation           &  9.01 &  7.60 &  7.47 &   10.71 \\\\\n",
      "Information Ratio            & -0.08 &  0.00 & -0.03 &    0.05 \\\\\n",
      "Skewness                     & -0.52 &  0.04 & -0.18 &    0.20 \\\\\n",
      "Excess Kurtosis              &  1.65 &  1.53 &  4.16 &    2.84 \\\\\n",
      "CAPM Alpha Annualized (in \\%) &   NaN &   NaN &   NaN &     NaN \\\\\n",
      "CAPM Alpha Tstat             &   NaN &   NaN &   NaN &     NaN \\\\\n",
      "CAPM Beta (in \\%)             &   NaN &   NaN &   NaN &     NaN \\\\\n",
      "CAPM Beta Tstat              &   NaN &   NaN &   NaN &     NaN \\\\\n",
      "\\$R\\textasciicircum2\\$                        &   NaN &   NaN &   NaN &     NaN \\\\\n",
      "\\bottomrule\n",
      "\\end{tabular}\n",
      "\n",
      "Energies\n",
      "\\begin{tabular}{lrrrr}\n",
      "\\toprule\n",
      "{} &      0 &      1 &      2 &  Factor \\\\\n",
      "\\midrule\n",
      "Monthly Return (in \\%)        &   0.10 &   1.08 &   1.42 &    1.32 \\\\\n",
      "Standard Deviation           &  29.91 &  29.48 &  32.45 &   31.10 \\\\\n",
      "Information Ratio            &   0.04 &   0.44 &   0.52 &    0.51 \\\\\n",
      "Skewness                     &  -0.39 &   0.65 &   0.44 &    0.50 \\\\\n",
      "Excess Kurtosis              &   2.36 &   2.42 &   2.67 &    1.91 \\\\\n",
      "CAPM Alpha Annualized (in \\%) &  -3.79 &   9.85 &  16.74 &   20.53 \\\\\n",
      "CAPM Alpha Tstat             &  -0.75 &   2.06 &   3.84 &    2.66 \\\\\n",
      "CAPM Beta (in \\%)             &   1.00 &   0.90 &   1.15 &    0.15 \\\\\n",
      "CAPM Beta Tstat              &  12.51 &  10.58 &  15.41 &    1.20 \\\\\n",
      "\\$R\\textasciicircum2\\$                        &   0.59 &   0.53 &   0.68 &    0.01 \\\\\n",
      "\\bottomrule\n",
      "\\end{tabular}\n",
      "\n",
      "Equities\n",
      "\\begin{tabular}{lrrrr}\n",
      "\\toprule\n",
      "{} &      0 &      1 &      2 &  Factor \\\\\n",
      "\\midrule\n",
      "Monthly Return (in \\%)        &   0.72 &   0.76 &   0.79 &    0.08 \\\\\n",
      "Standard Deviation           &  21.04 &  17.41 &  17.69 &   19.20 \\\\\n",
      "Information Ratio            &   0.41 &   0.52 &   0.54 &    0.05 \\\\\n",
      "Skewness                     &   2.59 &   0.26 &   0.10 &   -3.04 \\\\\n",
      "Excess Kurtosis              &  25.92 &   5.04 &   4.79 &   41.23 \\\\\n",
      "CAPM Alpha Annualized (in \\%) &   0.71 &   2.45 &   3.30 &    2.59 \\\\\n",
      "CAPM Alpha Tstat             &   0.45 &   2.13 &   2.47 &    1.02 \\\\\n",
      "CAPM Beta (in \\%)             &   0.92 &   1.00 &   0.99 &    0.07 \\\\\n",
      "CAPM Beta Tstat              &  12.78 &  27.87 &  26.70 &    0.71 \\\\\n",
      "\\$R\\textasciicircum2\\$                        &   0.84 &   0.90 &   0.86 &    0.00 \\\\\n",
      "\\bottomrule\n",
      "\\end{tabular}\n",
      "\n",
      "Metals\n",
      "\\begin{tabular}{lrrrr}\n",
      "\\toprule\n",
      "{} &      0 &      1 &      2 &  Factor \\\\\n",
      "\\midrule\n",
      "Monthly Return (in \\%)        &   0.50 &   0.57 &   0.73 &    0.23 \\\\\n",
      "Standard Deviation           &  18.33 &  20.01 &  18.81 &   16.85 \\\\\n",
      "Information Ratio            &   0.33 &   0.34 &   0.46 &    0.16 \\\\\n",
      "Skewness                     &   0.07 &  -0.01 &  -0.49 &   -0.10 \\\\\n",
      "Excess Kurtosis              &   4.02 &   2.80 &   1.27 &    0.83 \\\\\n",
      "CAPM Alpha Annualized (in \\%) &   5.29 &   4.70 &   2.58 &   -2.71 \\\\\n",
      "CAPM Alpha Tstat             &   2.02 &   1.76 &   1.28 &   -0.71 \\\\\n",
      "CAPM Beta (in \\%)             &   0.85 &   1.02 &   0.99 &    0.14 \\\\\n",
      "CAPM Beta Tstat              &  16.30 &  18.19 &  24.96 &    1.93 \\\\\n",
      "\\$R\\textasciicircum2\\$                        &   0.67 &   0.76 &   0.83 &    0.02 \\\\\n",
      "\\bottomrule\n",
      "\\end{tabular}\n",
      "\n",
      "Fixed Income\n",
      "\\begin{tabular}{lrrrr}\n",
      "\\toprule\n",
      "{} &     0 &      1 &      2 &  Factor \\\\\n",
      "\\midrule\n",
      "Monthly Return (in \\%)        &  0.08 &   0.05 &   0.08 &   -0.00 \\\\\n",
      "Standard Deviation           &  2.15 &   2.89 &   3.73 &    3.49 \\\\\n",
      "Information Ratio            &  0.45 &   0.22 &   0.26 &   -0.00 \\\\\n",
      "Skewness                     &  0.46 &   0.27 &  -0.17 &    0.19 \\\\\n",
      "Excess Kurtosis              &  2.83 &   2.04 &   0.81 &    1.65 \\\\\n",
      "CAPM Alpha Annualized (in \\%) &  0.47 &  -0.10 &  -0.11 &   -0.58 \\\\\n",
      "CAPM Alpha Tstat             &  1.34 &  -0.27 &  -0.27 &   -0.88 \\\\\n",
      "CAPM Beta (in \\%)             &  0.48 &   0.98 &   1.51 &    1.03 \\\\\n",
      "CAPM Beta Tstat              &  7.84 &  13.41 &  17.36 &    7.33 \\\\\n",
      "\\$R\\textasciicircum2\\$                        &  0.40 &   0.69 &   0.82 &    0.44 \\\\\n",
      "\\bottomrule\n",
      "\\end{tabular}\n",
      "\n"
     ]
    }
   ],
   "source": [
    "for sec in FHT_monthly.keys():\n",
    "    print(sec)\n",
    "    #print(portfolio_sort_table(FHT_monthly[sec],sector_rtns[sec]).to_latex())\n",
    "    print(portfolio_sort_table(FHT_monthly[sec],np.log(cleansed.resample(rule='m',how='last')).diff().dropna(how='all'),d_map,sec).to_latex())\n",
    "\n"
   ]
  },
  {
   "cell_type": "code",
   "execution_count": null,
   "metadata": {},
   "outputs": [],
   "source": []
  },
  {
   "cell_type": "code",
   "execution_count": null,
   "metadata": {},
   "outputs": [],
   "source": []
  },
  {
   "cell_type": "code",
   "execution_count": null,
   "metadata": {},
   "outputs": [],
   "source": []
  },
  {
   "cell_type": "code",
   "execution_count": null,
   "metadata": {},
   "outputs": [],
   "source": []
  },
  {
   "cell_type": "code",
   "execution_count": null,
   "metadata": {},
   "outputs": [],
   "source": []
  },
  {
   "cell_type": "code",
   "execution_count": null,
   "metadata": {},
   "outputs": [],
   "source": []
  },
  {
   "cell_type": "code",
   "execution_count": null,
   "metadata": {},
   "outputs": [],
   "source": []
  }
 ],
 "metadata": {
  "kernelspec": {
   "display_name": "Python 2",
   "language": "python",
   "name": "python2"
  },
  "language_info": {
   "codemirror_mode": {
    "name": "ipython",
    "version": 2
   },
   "file_extension": ".py",
   "mimetype": "text/x-python",
   "name": "python",
   "nbconvert_exporter": "python",
   "pygments_lexer": "ipython2",
   "version": "2.7.12"
  }
 },
 "nbformat": 4,
 "nbformat_minor": 2
}
