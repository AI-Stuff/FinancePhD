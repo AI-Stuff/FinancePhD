{
 "cells": [
  {
   "cell_type": "code",
   "execution_count": null,
   "metadata": {},
   "outputs": [],
   "source": [
    "%matplotlib inline\n",
    "import pandas as pd\n",
    "import seaborn as sns\n",
    "from tsmom_model import *\n",
    "import PPCA_MR3 as p\n",
    "import numpy as np\n",
    "from datetime import datetime\n",
    "from linearmodels.asset_pricing import LinearFactorModel"
   ]
  },
  {
   "cell_type": "code",
   "execution_count": 2,
   "metadata": {},
   "outputs": [],
   "source": [
    "import pylab\n",
    "sns.set(font_scale=3)\n",
    "pylab.rcParams['figure.figsize'] = (24, 18)"
   ]
  },
  {
   "cell_type": "code",
   "execution_count": 3,
   "metadata": {},
   "outputs": [
    {
     "name": "stderr",
     "output_type": "stream",
     "text": [
      "/Users/mrefermat/git/FinancePhD/LiquidityMomentum/tsmom_model.py:159: FutureWarning: how in .resample() is deprecated\n",
      "the new syntax is .resample(...).last()\n",
      "  price = clean_up_columns(data)\n",
      "/Users/mrefermat/git/FinancePhD/LiquidityMomentum/tsmom_model.py:161: FutureWarning: how in .resample() is deprecated\n",
      "the new syntax is .resample(...).last()\n",
      "  df=pd.DataFrame()\n"
     ]
    }
   ],
   "source": [
    "cleansed=load_amihud_markets_price()"
   ]
  },
  {
   "cell_type": "code",
   "execution_count": 4,
   "metadata": {},
   "outputs": [
    {
     "name": "stderr",
     "output_type": "stream",
     "text": [
      "/Users/mrefermat/git/FinancePhD/LiquidityMomentum/tsmom_model.py:43: FutureWarning: how in .resample() is deprecated\n",
      "the new syntax is .resample(...).mean()\n",
      "  v2 = clean_up_columns(data)\n",
      "/Users/mrefermat/git/FinancePhD/LiquidityMomentum/tsmom_model.py:45: FutureWarning: how in .resample() is deprecated\n",
      "the new syntax is .resample(...).sum()\n",
      "  volume=pd.DataFrame()\n",
      "/Users/mrefermat/git/FinancePhD/LiquidityMomentum/tsmom_model.py:47: FutureWarning: pd.rolling_mean is deprecated for DataFrame and will be removed in a future version, replace with \n",
      "\tDataFrame.rolling(window=250,min_periods=100,center=False).mean()\n",
      "  for x in v2.columns:\n",
      "/Users/mrefermat/git/FinancePhD/LiquidityMomentum/tsmom_model.py:47: FutureWarning: how in .resample() is deprecated\n",
      "the new syntax is .resample(...).mean()\n",
      "  for x in v2.columns:\n",
      "/Users/mrefermat/git/FinancePhD/LiquidityMomentum/tsmom_model.py:50: FutureWarning: pd.rolling_mean is deprecated for Series and will be removed in a future version, replace with \n",
      "\tSeries.rolling(window=250,min_periods=50,center=False).mean()\n",
      "  return volume.dropna(how='all')\n",
      "/Users/mrefermat/git/FinancePhD/LiquidityMomentum/tsmom_model.py:50: FutureWarning: how in .resample() is deprecated\n",
      "the new syntax is .resample(...).mean()\n",
      "  return volume.dropna(how='all')\n",
      "/Users/mrefermat/git/FinancePhD/LiquidityMomentum/tsmom_model.py:77: FutureWarning: how in .resample() is deprecated\n",
      "the new syntax is .resample(...).last()\n",
      "  px=cleansed.resample(rule='d',how='last')\n",
      "/Users/mrefermat/git/FinancePhD/LiquidityMomentum/tsmom_model.py:78: FutureWarning: how in .resample() is deprecated\n",
      "the new syntax is .resample(...).last()\n",
      "  total_vol=pd.DataFrame()\n",
      "/Users/mrefermat/git/FinancePhD/LiquidityMomentum/tsmom_model.py:86: FutureWarning: how in .resample() is deprecated\n",
      "the new syntax is .resample(...).mean()\n",
      "  return x.replace([np.inf, -np.inf,0], np.nan)\n"
     ]
    }
   ],
   "source": [
    "amihud=calculate_amihud_liquidity(cleansed)[:'2016'] "
   ]
  },
  {
   "cell_type": "markdown",
   "metadata": {},
   "source": [
    "# Amihud (2002) Annual portfolio sorts"
   ]
  },
  {
   "cell_type": "code",
   "execution_count": 98,
   "metadata": {},
   "outputs": [
    {
     "name": "stderr",
     "output_type": "stream",
     "text": [
      "/Users/mrefermat/git/FinancePhD/LiquidityMomentum/tsmom_model.py:258: FutureWarning: pd.rolling_mean is deprecated for DataFrame and will be removed in a future version, replace with \n",
      "\tDataFrame.rolling(window=100000000,min_periods=3,center=False).mean()\n",
      "  \n",
      "/Users/mrefermat/git/FinancePhD/LiquidityMomentum/tsmom_model.py:258: FutureWarning: pd.rolling_std is deprecated for DataFrame and will be removed in a future version, replace with \n",
      "\tDataFrame.rolling(window=100000000,min_periods=3,center=False).std()\n",
      "  \n"
     ]
    }
   ],
   "source": [
    "data=calc_zscore_expanding_window(amihud.dropna(how='all'),3).dropna(how='all')\n",
    "sector_zscores={}\n",
    "d_map=sector_map(amihud)\n",
    "for sect in d_map.keys():\n",
    "    sector_zscores[sect]=data[d_map[sect]].dropna(how='all')"
   ]
  },
  {
   "cell_type": "code",
   "execution_count": 99,
   "metadata": {},
   "outputs": [
    {
     "name": "stderr",
     "output_type": "stream",
     "text": [
      "/Users/mrefermat/git/FinancePhD/LiquidityMomentum/tsmom_model.py:223: FutureWarning: how in .resample() is deprecated\n",
      "the new syntax is .resample(...).median()\n",
      "  rtns = price_data.resample(rule='m',how='last')[mkts].pct_change()[str(y+1)].mean(axis=1)\n",
      "/Users/mrefermat/git/FinancePhD/LiquidityMomentum/tsmom_model.py:224: FutureWarning: how in .resample() is deprecated\n",
      "the new syntax is .resample(...).last()\n",
      "  deciles[str(i)]=deciles[str(i)].append(rtns)\n"
     ]
    }
   ],
   "source": [
    "sector_portfolio_sorts={}\n",
    "for s in sector_zscores.keys():\n",
    "    sector_portfolio_sorts[s]=quantile_portfolios_annual(sector_zscores[s],cleansed,5)"
   ]
  },
  {
   "cell_type": "code",
   "execution_count": 89,
   "metadata": {},
   "outputs": [
    {
     "name": "stderr",
     "output_type": "stream",
     "text": [
      "/Users/mrefermat/anaconda3/lib/python3.6/site-packages/ipykernel_launcher.py:1: FutureWarning: how in .resample() is deprecated\n",
      "the new syntax is .resample(...).sum()\n",
      "  \"\"\"Entry point for launching an IPython kernel.\n"
     ]
    }
   ],
   "source": [
    "FF=pd.read_csv('FF.csv',parse_dates=['Date'],index_col=0).resample(rule='m',how='sum')/100."
   ]
  },
  {
   "cell_type": "code",
   "execution_count": 13,
   "metadata": {},
   "outputs": [
    {
     "name": "stderr",
     "output_type": "stream",
     "text": [
      "/Users/mrefermat/git/FinancePhD/LiquidityMomentum/tsmom_model.py:258: FutureWarning: pd.rolling_mean is deprecated for DataFrame and will be removed in a future version, replace with \n",
      "\tDataFrame.rolling(window=100000000,min_periods=3,center=False).mean()\n",
      "  \n",
      "/Users/mrefermat/git/FinancePhD/LiquidityMomentum/tsmom_model.py:258: FutureWarning: pd.rolling_std is deprecated for DataFrame and will be removed in a future version, replace with \n",
      "\tDataFrame.rolling(window=100000000,min_periods=3,center=False).std()\n",
      "  \n"
     ]
    }
   ],
   "source": [
    "data=calc_zscore_expanding_window(amihud.dropna(how='all'),3).dropna(how='all')\n",
    "sector_zscores={}\n",
    "d_map=sector_map(amihud)\n",
    "for sect in d_map.keys():\n",
    "    sector_zscores[sect]=data[d_map[sect]].dropna(how='all')\n",
    "sector_PC={}\n",
    "sector_variance_explained=pd.DataFrame()\n",
    "\n",
    "no_pc=3\n",
    "for sect in d_map.keys():\n",
    "    try: \n",
    "        PPCA=p.PPCA()\n",
    "        PPCA.fit(np.array(sector_zscores[sect]),d=no_pc)\n",
    "        sector_variance_explained[sect] = PPCA.var_exp\n",
    "        pcs=pd.DataFrame()\n",
    "        for i in range(0,no_pc,1):\n",
    "            x=pd.DataFrame(PPCA.C.T[i]*PPCA.data).sum(axis=1)\n",
    "            x.set_axis(labels=sector_zscores[sect].index,axis='index')\n",
    "            pcs[i]=x\n",
    "        sector_PC[sect] = pcs\n",
    "    except:\n",
    "        print(sect)"
   ]
  },
  {
   "cell_type": "markdown",
   "metadata": {},
   "source": [
    "# Expirimenting with annual portfolio sorts\n",
    "* PPCA common liquidity factor per asset\n",
    "* Median Amihud value\n",
    "* Whole market Amihud value\n",
    "\n",
    "However the strongest looks like the first one, but nothing is strongerly predictive.\n",
    "\n",
    "However there is a timing mismatch because this is using annual portfolio sorts"
   ]
  },
  {
   "cell_type": "code",
   "execution_count": 105,
   "metadata": {},
   "outputs": [
    {
     "name": "stdout",
     "output_type": "stream",
     "text": [
      "                      LinearFactorModel Estimation Summary                      \n",
      "================================================================================\n",
      "No. Test Portfolios:                  5   R-squared:                      0.2209\n",
      "No. Factors:                          4   J-statistic:                    1.4695\n",
      "No. Observations:                   203   P-value                         0.2254\n",
      "Date:                  Tue, Mar 20 2018   Distribution:                  chi2(1)\n",
      "Time:                          06:56:57                                         \n",
      "Cov. Estimator:                  kernel                                         \n",
      "                                                                                \n",
      "                                 Risk Premia Estimates                                  \n",
      "========================================================================================\n",
      "                      Parameter  Std. Err.     T-stat    P-value    Lower CI    Upper CI\n",
      "----------------------------------------------------------------------------------------\n",
      "Common Factor            0.4136     1.2526     0.3302     0.7412     -2.0413      2.8686\n",
      "Median Sector Amihud  4.968e-12  6.325e-11     0.0786     0.9374   -1.19e-10   1.289e-10\n",
      "Median total Amihud   3.772e-12   6.54e-11     0.0577     0.9540  -1.244e-10    1.32e-10\n",
      "Mkt-RF                  -0.0034     0.1832    -0.0184     0.9853     -0.3625      0.3558\n",
      "========================================================================================\n",
      "\n",
      "Covariance estimator:\n",
      "KernelCovariance, Kernel: bartlett, Bandwidth: 2\n",
      "See full_summary for complete results\n"
     ]
    }
   ],
   "source": [
    "sec='Equities'\n",
    "factor=pd.DataFrame()\n",
    "factor['Common Factor']=sector_PC[sec][0]\n",
    "factor['Median Sector Amihud']=amihud[d_map[sec]].median(axis=1).dropna()\n",
    "factor['Median total Amihud']=amihud.median(axis=1).dropna()\n",
    "factor['Mkt-RF']=FF['Mkt-RF']\n",
    "ind=sector_portfolio_sorts[sec].shift().dropna().index\n",
    "mod=LinearFactorModel(sector_portfolio_sorts[sec].shift().dropna(),factor.loc[ind])\n",
    "res=mod.fit(cov_type='kernel')\n",
    "print(res)"
   ]
  },
  {
   "cell_type": "markdown",
   "metadata": {},
   "source": [
    "# Monthly Amihud sorts"
   ]
  },
  {
   "cell_type": "code",
   "execution_count": null,
   "metadata": {},
   "outputs": [],
   "source": [
    "def fama_macbeth(portfolios,factors):\n",
    "    "
   ]
  },
  {
   "cell_type": "code",
   "execution_count": 124,
   "metadata": {},
   "outputs": [
    {
     "name": "stdout",
     "output_type": "stream",
     "text": [
      "                      LinearFactorModel Estimation Summary                      \n",
      "================================================================================\n",
      "No. Test Portfolios:                  5   R-squared:                      0.0587\n",
      "No. Factors:                          2   J-statistic:                    3.0724\n",
      "No. Observations:                   191   P-value                         0.3806\n",
      "Date:                  Tue, Mar 20 2018   Distribution:                  chi2(3)\n",
      "Time:                          07:05:08                                         \n",
      "Cov. Estimator:                  kernel                                         \n",
      "                                                                                \n",
      "                              Risk Premia Estimates                              \n",
      "=================================================================================\n",
      "               Parameter  Std. Err.     T-stat    P-value    Lower CI    Upper CI\n",
      "---------------------------------------------------------------------------------\n",
      "Common Factor    -1.8198     1.5467    -1.1765     0.2394     -4.8514      1.2118\n",
      "Mkt-RF            0.0057     0.0288     0.1971     0.8438     -0.0507      0.0620\n",
      "\n",
      "\n",
      "                                  0 Coefficients                                 \n",
      "=================================================================================\n",
      "               Parameter  Std. Err.     T-stat    P-value    Lower CI    Upper CI\n",
      "---------------------------------------------------------------------------------\n",
      "alpha            -0.0011     0.0016    -0.6427     1.4796     -0.0043      0.0022\n",
      "Common Factor    -0.0051     0.0024    -2.1429     1.9679     -0.0098     -0.0004\n",
      "Mkt-RF           -0.1368     0.0859    -1.5926     1.8887     -0.3051      0.0316\n",
      "\n",
      "\n",
      "                                  1 Coefficients                                 \n",
      "=================================================================================\n",
      "alpha             0.0010     0.0023     0.4571     0.6476     -0.0034      0.0055\n",
      "Common Factor    -0.0031     0.0015    -2.1044     1.9647     -0.0060     -0.0002\n",
      "Mkt-RF           -0.0610     0.0731    -0.8340     1.5957     -0.2043      0.0823\n",
      "\n",
      "\n",
      "                                  2 Coefficients                                 \n",
      "=================================================================================\n",
      "alpha            -0.0027     0.0024    -1.1225     1.7384     -0.0073      0.0020\n",
      "Common Factor    -0.0037     0.0017    -2.2260     1.9740     -0.0070     -0.0004\n",
      "Mkt-RF            0.0179     0.0799     0.2236     0.8230     -0.1388      0.1745\n",
      "\n",
      "\n",
      "                                  3 Coefficients                                 \n",
      "=================================================================================\n",
      "alpha             0.0012     0.0023     0.5279     0.5976     -0.0032      0.0056\n",
      "Common Factor    -0.0040     0.0019    -2.0727     1.9618     -0.0079     -0.0002\n",
      "Mkt-RF           -0.0218     0.1021    -0.2133     1.1689     -0.2220      0.1784\n",
      "\n",
      "\n",
      "                                  4 Coefficients                                 \n",
      "=================================================================================\n",
      "alpha             0.0020     0.0029     0.6864     0.4924     -0.0037      0.0078\n",
      "Common Factor    -0.0036     0.0022    -1.6423     1.8995     -0.0079      0.0007\n",
      "Mkt-RF           -0.0034     0.0978    -0.0343     1.0274     -0.1950      0.1883\n",
      "=================================================================================\n",
      "\n",
      "Covariance estimator:\n",
      "KernelCovariance, Kernel: bartlett, Bandwidth: 3\n",
      "See full_summary for complete results\n"
     ]
    }
   ],
   "source": [
    "results=pd.DataFrame()\n",
    "sec='Commodities'\n",
    "factor=pd.DataFrame()\n",
    "factor['Common Factor']=sector_PC[sec][0]\n",
    "#factor['Median Sector Amihud']=amihud[d_map[sec]].median(axis=1).dropna()\n",
    "#factor['Median total Amihud']=amihud.median(axis=1).dropna()\n",
    "factor['Mkt-RF']=FF['Mkt-RF']\n",
    "ind=mon_amihud[sec].shift().dropna().index\n",
    "mod=LinearFactorModel(mon_amihud[sec].shift().dropna(),factor.loc[ind])\n",
    "res=mod.fit(cov_type='kernel')\n",
    "print(res.full_summary)"
   ]
  },
  {
   "cell_type": "code",
   "execution_count": 120,
   "metadata": {},
   "outputs": [
    {
     "data": {
      "text/html": [
       "<div>\n",
       "<style>\n",
       "    .dataframe thead tr:only-child th {\n",
       "        text-align: right;\n",
       "    }\n",
       "\n",
       "    .dataframe thead th {\n",
       "        text-align: left;\n",
       "    }\n",
       "\n",
       "    .dataframe tbody tr th {\n",
       "        vertical-align: top;\n",
       "    }\n",
       "</style>\n",
       "<table border=\"1\" class=\"dataframe\">\n",
       "  <thead>\n",
       "    <tr style=\"text-align: right;\">\n",
       "      <th></th>\n",
       "      <th>alpha</th>\n",
       "      <th>Common Factor</th>\n",
       "      <th>Mkt-RF</th>\n",
       "    </tr>\n",
       "  </thead>\n",
       "  <tbody>\n",
       "    <tr>\n",
       "      <th>0</th>\n",
       "      <td>0.063488</td>\n",
       "      <td>4.336392</td>\n",
       "      <td>-1.285157</td>\n",
       "    </tr>\n",
       "    <tr>\n",
       "      <th>1</th>\n",
       "      <td>0.153032</td>\n",
       "      <td>6.703434</td>\n",
       "      <td>-0.222679</td>\n",
       "    </tr>\n",
       "    <tr>\n",
       "      <th>2</th>\n",
       "      <td>0.146646</td>\n",
       "      <td>7.598134</td>\n",
       "      <td>-0.920399</td>\n",
       "    </tr>\n",
       "    <tr>\n",
       "      <th>3</th>\n",
       "      <td>-0.121504</td>\n",
       "      <td>7.081953</td>\n",
       "      <td>-0.644481</td>\n",
       "    </tr>\n",
       "    <tr>\n",
       "      <th>4</th>\n",
       "      <td>-0.230162</td>\n",
       "      <td>6.554390</td>\n",
       "      <td>-0.598782</td>\n",
       "    </tr>\n",
       "  </tbody>\n",
       "</table>\n",
       "</div>"
      ],
      "text/plain": [
       "      alpha  Common Factor    Mkt-RF\n",
       "0  0.063488       4.336392 -1.285157\n",
       "1  0.153032       6.703434 -0.222679\n",
       "2  0.146646       7.598134 -0.920399\n",
       "3 -0.121504       7.081953 -0.644481\n",
       "4 -0.230162       6.554390 -0.598782"
      ]
     },
     "execution_count": 120,
     "metadata": {},
     "output_type": "execute_result"
    }
   ],
   "source": [
    "res.tstats"
   ]
  },
  {
   "cell_type": "code",
   "execution_count": 64,
   "metadata": {},
   "outputs": [],
   "source": [
    "mon_amihud=read_monthly(amihud=True)"
   ]
  },
  {
   "cell_type": "code",
   "execution_count": 115,
   "metadata": {},
   "outputs": [
    {
     "name": "stdout",
     "output_type": "stream",
     "text": [
      "                      LinearFactorModel Estimation Summary                      \n",
      "================================================================================\n",
      "No. Test Portfolios:                  5   R-squared:                      0.2248\n",
      "No. Factors:                          4   J-statistic:                    0.0121\n",
      "No. Observations:                   191   P-value                         0.9125\n",
      "Date:                  Tue, Mar 20 2018   Distribution:                  chi2(1)\n",
      "Time:                          07:00:18                                         \n",
      "Cov. Estimator:                  kernel                                         \n",
      "                                                                                \n",
      "                                 Risk Premia Estimates                                  \n",
      "========================================================================================\n",
      "                      Parameter  Std. Err.     T-stat    P-value    Lower CI    Upper CI\n",
      "----------------------------------------------------------------------------------------\n",
      "Common Factor            0.6371     0.6625     0.9616     0.3363     -0.6615      1.9357\n",
      "Median Sector Amihud  -9.39e-13  8.251e-12    -0.1138     0.9094  -1.711e-11   1.523e-11\n",
      "Median total Amihud  -1.029e-12  2.795e-11    -0.0368     0.9706   -5.58e-11   5.374e-11\n",
      "Mkt-RF                   0.0269     0.0543     0.4947     0.6208     -0.0795      0.1333\n",
      "========================================================================================\n",
      "\n",
      "Covariance estimator:\n",
      "KernelCovariance, Kernel: bartlett, Bandwidth: 4\n",
      "See full_summary for complete results\n"
     ]
    }
   ],
   "source": [
    "sec='Equities'\n",
    "factor=pd.DataFrame()\n",
    "factor['Common Factor']=sector_PC[sec][0]\n",
    "factor['Median Sector Amihud']=amihud[d_map[sec]].median(axis=1).dropna()\n",
    "factor['Median total Amihud']=amihud.median(axis=1).dropna()\n",
    "factor['Mkt-RF']=FF['Mkt-RF']\n",
    "ind=mon_amihud[sec].shift().dropna().index\n",
    "mod=LinearFactorModel(mon_amihud[sec].shift().dropna(),factor.loc[ind])\n",
    "res=mod.fit(cov_type='kernel')\n",
    "print(res)"
   ]
  },
  {
   "cell_type": "code",
   "execution_count": 72,
   "metadata": {},
   "outputs": [
    {
     "name": "stdout",
     "output_type": "stream",
     "text": [
      "                      LinearFactorModel Estimation Summary                      \n",
      "================================================================================\n",
      "No. Test Portfolios:                  5   R-squared:                      0.0524\n",
      "No. Factors:                          1   J-statistic:                    10.824\n",
      "No. Observations:                   211   P-value                         0.0286\n",
      "Date:                  Mon, Mar 19 2018   Distribution:                  chi2(4)\n",
      "Time:                          08:00:07                                         \n",
      "Cov. Estimator:                  kernel                                         \n",
      "                                                                                \n",
      "                            Risk Premia Estimates                             \n",
      "==============================================================================\n",
      "            Parameter  Std. Err.     T-stat    P-value    Lower CI    Upper CI\n",
      "------------------------------------------------------------------------------\n",
      "factor      -5.39e-12  5.375e-12    -1.0029     0.3159  -1.592e-11   5.144e-12\n",
      "==============================================================================\n",
      "\n",
      "Covariance estimator:\n",
      "KernelCovariance, Kernel: bartlett, Bandwidth: 7\n",
      "See full_summary for complete results\n"
     ]
    },
    {
     "name": "stderr",
     "output_type": "stream",
     "text": [
      "/Users/mrefermat/anaconda3/lib/python3.6/site-packages/linearmodels/utility.py:490: MissingValueWarning: \n",
      "Inputs contain missing values. Dropping rows with missing observations.\n",
      "  warnings.warn(missing_value_warning_msg, MissingValueWarning)\n"
     ]
    }
   ],
   "source": [
    "sec='Equities'\n",
    "#factor=sector_PC[sec][[0]]\n",
    "factor=amihud[d_map[sec]].median(axis=1).dropna()\n",
    "#factor=amihud.median(axis=1).dropna()\n",
    "ind=sector_portfolio_sorts[sec].shift().dropna().index\n",
    "mod=LinearFactorModel(sector_portfolio_sorts[sec].shift().dropna(),factor.loc[ind])\n",
    "res=mod.fit(cov_type='kernel')\n",
    "print(res)"
   ]
  },
  {
   "cell_type": "code",
   "execution_count": null,
   "metadata": {},
   "outputs": [],
   "source": []
  },
  {
   "cell_type": "markdown",
   "metadata": {},
   "source": [
    "# FHT method"
   ]
  },
  {
   "cell_type": "code",
   "execution_count": 73,
   "metadata": {},
   "outputs": [
    {
     "name": "stderr",
     "output_type": "stream",
     "text": [
      "/Users/mrefermat/git/FinancePhD/LiquidityMomentum/tsmom_model.py:268: FutureWarning: how in .resample() is deprecated\n",
      "the new syntax is .resample(...).count()\n",
      "  Z=(nonzero/x.resample(rule='m',how='count')).dropna()\n",
      "/Users/mrefermat/git/FinancePhD/LiquidityMomentum/tsmom_model.py:269: FutureWarning: how in .resample() is deprecated\n",
      "the new syntax is .resample(...).count()\n",
      "  data[c]=pd.Series(norm.cdf((1+Z)/2.),index=Z.index)*2*pd.rolling_std(x,12).resample(rule='m',how='last')\n",
      "/Users/mrefermat/git/FinancePhD/LiquidityMomentum/tsmom_model.py:270: FutureWarning: pd.rolling_std is deprecated for Series and will be removed in a future version, replace with \n",
      "\tSeries.rolling(window=12,center=False).std()\n",
      "  return data\n",
      "/Users/mrefermat/git/FinancePhD/LiquidityMomentum/tsmom_model.py:270: FutureWarning: how in .resample() is deprecated\n",
      "the new syntax is .resample(...).last()\n",
      "  return data\n",
      "/Users/mrefermat/git/FinancePhD/LiquidityMomentum/tsmom_model.py:258: FutureWarning: pd.rolling_mean is deprecated for DataFrame and will be removed in a future version, replace with \n",
      "\tDataFrame.rolling(window=100000000,min_periods=3,center=False).mean()\n",
      "  \n",
      "/Users/mrefermat/git/FinancePhD/LiquidityMomentum/tsmom_model.py:258: FutureWarning: pd.rolling_std is deprecated for DataFrame and will be removed in a future version, replace with \n",
      "\tDataFrame.rolling(window=100000000,min_periods=3,center=False).std()\n",
      "  \n"
     ]
    }
   ],
   "source": [
    "FHT=calculate_FHT(cleansed)\n",
    "data=calc_zscore_expanding_window(FHT.dropna(how='all'),3).dropna(how='all')\n",
    "sector_zscores={}\n",
    "d_map=sector_map(FHT)\n",
    "for sect in d_map.keys():\n",
    "    sector_zscores[sect]=data[d_map[sect]].dropna(how='all')"
   ]
  },
  {
   "cell_type": "code",
   "execution_count": 77,
   "metadata": {},
   "outputs": [
    {
     "name": "stderr",
     "output_type": "stream",
     "text": [
      "/Users/mrefermat/git/FinancePhD/LiquidityMomentum/tsmom_model.py:223: FutureWarning: how in .resample() is deprecated\n",
      "the new syntax is .resample(...).median()\n",
      "  rtns = price_data.resample(rule='m',how='last')[mkts].pct_change()[str(y+1)].mean(axis=1)\n",
      "/Users/mrefermat/git/FinancePhD/LiquidityMomentum/tsmom_model.py:224: FutureWarning: how in .resample() is deprecated\n",
      "the new syntax is .resample(...).last()\n",
      "  deciles[str(i)]=deciles[str(i)].append(rtns)\n"
     ]
    }
   ],
   "source": [
    "sector_portfolio_sorts_FHT={}\n",
    "for s in sector_zscores.keys():\n",
    "    sector_portfolio_sorts_FHT[s]=quantile_portfolios_annual(sector_zscores[s],cleansed,5)"
   ]
  },
  {
   "cell_type": "code",
   "execution_count": 76,
   "metadata": {},
   "outputs": [
    {
     "name": "stderr",
     "output_type": "stream",
     "text": [
      "/Users/mrefermat/git/FinancePhD/LiquidityMomentum/tsmom_model.py:258: FutureWarning: pd.rolling_mean is deprecated for DataFrame and will be removed in a future version, replace with \n",
      "\tDataFrame.rolling(window=100000000,min_periods=3,center=False).mean()\n",
      "  \n",
      "/Users/mrefermat/git/FinancePhD/LiquidityMomentum/tsmom_model.py:258: FutureWarning: pd.rolling_std is deprecated for DataFrame and will be removed in a future version, replace with \n",
      "\tDataFrame.rolling(window=100000000,min_periods=3,center=False).std()\n",
      "  \n"
     ]
    }
   ],
   "source": [
    "data=calc_zscore_expanding_window(FHT.dropna(how='all'),3).dropna(how='all')\n",
    "sector_zscores={}\n",
    "d_map=sector_map(amihud)\n",
    "for sect in d_map.keys():\n",
    "    sector_zscores[sect]=data[d_map[sect]].dropna(how='all')\n",
    "sector_PC_FHT={}\n",
    "sector_variance_explained=pd.DataFrame()\n",
    "\n",
    "no_pc=3\n",
    "for sect in d_map.keys():\n",
    "    try: \n",
    "        PPCA=p.PPCA()\n",
    "        PPCA.fit(np.array(sector_zscores[sect]),d=no_pc)\n",
    "        sector_variance_explained[sect] = PPCA.var_exp\n",
    "        pcs=pd.DataFrame()\n",
    "        for i in range(0,no_pc,1):\n",
    "            x=pd.DataFrame(PPCA.C.T[i]*PPCA.data).sum(axis=1)\n",
    "            x.set_axis(labels=sector_zscores[sect].index,axis='index')\n",
    "            pcs[i]=x\n",
    "        sector_PC_FHT[sect] = pcs\n",
    "    except:\n",
    "        print(sect)"
   ]
  },
  {
   "cell_type": "markdown",
   "metadata": {},
   "source": [
    "# Using Anual sorts"
   ]
  },
  {
   "cell_type": "code",
   "execution_count": 81,
   "metadata": {},
   "outputs": [
    {
     "name": "stdout",
     "output_type": "stream",
     "text": [
      "                      LinearFactorModel Estimation Summary                      \n",
      "================================================================================\n",
      "No. Test Portfolios:                  5   R-squared:                      0.0016\n",
      "No. Factors:                          1   J-statistic:                    15.214\n",
      "No. Observations:                   300   P-value                         0.0043\n",
      "Date:                  Mon, Mar 19 2018   Distribution:                  chi2(4)\n",
      "Time:                          08:04:57                                         \n",
      "Cov. Estimator:                  kernel                                         \n",
      "                                                                                \n",
      "                            Risk Premia Estimates                             \n",
      "==============================================================================\n",
      "            Parameter  Std. Err.     T-stat    P-value    Lower CI    Upper CI\n",
      "------------------------------------------------------------------------------\n",
      "0             -1.6010     6.2357    -0.2568     0.7974     -13.823      10.621\n",
      "==============================================================================\n",
      "\n",
      "Covariance estimator:\n",
      "KernelCovariance, Kernel: bartlett, Bandwidth: 18\n",
      "See full_summary for complete results\n"
     ]
    }
   ],
   "source": [
    "sec='Fixed Income'\n",
    "factor=sector_PC_FHT[sec][[0]]\n",
    "#factor=amihud[d_map[sec]].median(axis=1).dropna()\n",
    "#factor=FHT.median(axis=1).dropna()\n",
    "ind=sector_portfolio_sorts[sec].shift().dropna().index\n",
    "mod=LinearFactorModel(sector_portfolio_sorts_FHT[sec].shift().dropna(),factor.loc[ind])\n",
    "res=mod.fit(cov_type='kernel')\n",
    "print(res)"
   ]
  },
  {
   "cell_type": "markdown",
   "metadata": {},
   "source": [
    "# Using Monthly"
   ]
  },
  {
   "cell_type": "code",
   "execution_count": 84,
   "metadata": {},
   "outputs": [],
   "source": [
    "FHT_mon=read_monthly(amihud=False)"
   ]
  },
  {
   "cell_type": "code",
   "execution_count": 88,
   "metadata": {},
   "outputs": [
    {
     "name": "stdout",
     "output_type": "stream",
     "text": [
      "                      LinearFactorModel Estimation Summary                      \n",
      "================================================================================\n",
      "No. Test Portfolios:                  5   R-squared:                      0.0540\n",
      "No. Factors:                          1   J-statistic:                    4.3057\n",
      "No. Observations:                   299   P-value                         0.3662\n",
      "Date:                  Mon, Mar 19 2018   Distribution:                  chi2(4)\n",
      "Time:                          08:07:23                                         \n",
      "Cov. Estimator:                  kernel                                         \n",
      "                                                                                \n",
      "                            Risk Premia Estimates                             \n",
      "==============================================================================\n",
      "            Parameter  Std. Err.     T-stat    P-value    Lower CI    Upper CI\n",
      "------------------------------------------------------------------------------\n",
      "0              2.0258     0.9981     2.0296     0.0424      0.0696      3.9820\n",
      "==============================================================================\n",
      "\n",
      "Covariance estimator:\n",
      "KernelCovariance, Kernel: bartlett, Bandwidth: 3\n",
      "See full_summary for complete results\n"
     ]
    }
   ],
   "source": [
    "sec='Equities'\n",
    "factor=sector_PC_FHT[sec][[0]]\n",
    "#factor=amihud[d_map[sec]].median(axis=1).dropna()\n",
    "#factor=FHT.median(axis=1).dropna()\n",
    "ind=FHT_mon[sec].shift().dropna().index\n",
    "mod=LinearFactorModel(FHT_mon[sec].shift().dropna(),factor.loc[ind])\n",
    "res=mod.fit(cov_type='kernel')\n",
    "print(res)"
   ]
  }
 ],
 "metadata": {
  "kernelspec": {
   "display_name": "Python 3",
   "language": "python",
   "name": "python3"
  },
  "language_info": {
   "codemirror_mode": {
    "name": "ipython",
    "version": 3
   },
   "file_extension": ".py",
   "mimetype": "text/x-python",
   "name": "python",
   "nbconvert_exporter": "python",
   "pygments_lexer": "ipython3",
   "version": "3.6.3"
  }
 },
 "nbformat": 4,
 "nbformat_minor": 2
}
