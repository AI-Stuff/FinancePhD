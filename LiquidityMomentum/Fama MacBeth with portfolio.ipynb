{
 "cells": [
  {
   "cell_type": "code",
   "execution_count": 1,
   "metadata": {},
   "outputs": [],
   "source": [
    "%matplotlib inline\n",
    "import pandas as pd\n",
    "import seaborn as sns\n",
    "from tsmom_model import *\n",
    "import PPCA_MR3 as p\n",
    "import numpy as np\n",
    "from datetime import datetime\n",
    "from linearmodels.asset_pricing import LinearFactorModel"
   ]
  },
  {
   "cell_type": "code",
   "execution_count": 2,
   "metadata": {},
   "outputs": [],
   "source": [
    "import pylab\n",
    "sns.set(font_scale=3)\n",
    "pylab.rcParams['figure.figsize'] = (24, 18)"
   ]
  },
  {
   "cell_type": "code",
   "execution_count": 3,
   "metadata": {},
   "outputs": [
    {
     "name": "stderr",
     "output_type": "stream",
     "text": [
      "/Users/mrefermat/git/FinancePhD/LiquidityMomentum/tsmom_model.py:159: FutureWarning: how in .resample() is deprecated\n",
      "the new syntax is .resample(...).last()\n",
      "  price = clean_up_columns(data)\n",
      "/Users/mrefermat/git/FinancePhD/LiquidityMomentum/tsmom_model.py:161: FutureWarning: how in .resample() is deprecated\n",
      "the new syntax is .resample(...).last()\n",
      "  df=pd.DataFrame()\n"
     ]
    }
   ],
   "source": [
    "cleansed=load_amihud_markets_price()"
   ]
  },
  {
   "cell_type": "code",
   "execution_count": 4,
   "metadata": {},
   "outputs": [
    {
     "name": "stderr",
     "output_type": "stream",
     "text": [
      "/Users/mrefermat/git/FinancePhD/LiquidityMomentum/tsmom_model.py:43: FutureWarning: how in .resample() is deprecated\n",
      "the new syntax is .resample(...).mean()\n",
      "  v2 = clean_up_columns(data)\n",
      "/Users/mrefermat/git/FinancePhD/LiquidityMomentum/tsmom_model.py:45: FutureWarning: how in .resample() is deprecated\n",
      "the new syntax is .resample(...).sum()\n",
      "  volume=pd.DataFrame()\n",
      "/Users/mrefermat/git/FinancePhD/LiquidityMomentum/tsmom_model.py:47: FutureWarning: pd.rolling_mean is deprecated for DataFrame and will be removed in a future version, replace with \n",
      "\tDataFrame.rolling(window=250,min_periods=100,center=False).mean()\n",
      "  for x in v2.columns:\n",
      "/Users/mrefermat/git/FinancePhD/LiquidityMomentum/tsmom_model.py:47: FutureWarning: how in .resample() is deprecated\n",
      "the new syntax is .resample(...).mean()\n",
      "  for x in v2.columns:\n",
      "/Users/mrefermat/git/FinancePhD/LiquidityMomentum/tsmom_model.py:50: FutureWarning: pd.rolling_mean is deprecated for Series and will be removed in a future version, replace with \n",
      "\tSeries.rolling(window=250,min_periods=50,center=False).mean()\n",
      "  return volume.dropna(how='all')\n",
      "/Users/mrefermat/git/FinancePhD/LiquidityMomentum/tsmom_model.py:50: FutureWarning: how in .resample() is deprecated\n",
      "the new syntax is .resample(...).mean()\n",
      "  return volume.dropna(how='all')\n",
      "/Users/mrefermat/git/FinancePhD/LiquidityMomentum/tsmom_model.py:77: FutureWarning: how in .resample() is deprecated\n",
      "the new syntax is .resample(...).last()\n",
      "  px=cleansed.resample(rule='d',how='last')\n",
      "/Users/mrefermat/git/FinancePhD/LiquidityMomentum/tsmom_model.py:78: FutureWarning: how in .resample() is deprecated\n",
      "the new syntax is .resample(...).last()\n",
      "  total_vol=pd.DataFrame()\n",
      "/Users/mrefermat/git/FinancePhD/LiquidityMomentum/tsmom_model.py:86: FutureWarning: how in .resample() is deprecated\n",
      "the new syntax is .resample(...).mean()\n",
      "  return x.replace([np.inf, -np.inf,0], np.nan)\n"
     ]
    }
   ],
   "source": [
    "amihud=calculate_amihud_liquidity(cleansed)[:'2016'] "
   ]
  },
  {
   "cell_type": "markdown",
   "metadata": {},
   "source": [
    "# Presentation to be like \"Time Varying Liquidity and Momentum Profits (2015) paper\n",
    "\n",
    "Rank by deciles, HML (8,9,10) - (1,2,3).  Save monthly returns (equal (risk?) weighted) and if you want to annualized then resample.\n",
    "\n",
    "\n",
    "Then correlation matrix \n",
    "* Overall market vol?\n",
    "* Market illiquidity (median Amihud through time series)\n"
   ]
  },
  {
   "cell_type": "markdown",
   "metadata": {},
   "source": [
    "# Amihud (2002) Annual portfolio sorts"
   ]
  },
  {
   "cell_type": "code",
   "execution_count": 5,
   "metadata": {},
   "outputs": [
    {
     "name": "stderr",
     "output_type": "stream",
     "text": [
      "/Users/mrefermat/git/FinancePhD/LiquidityMomentum/tsmom_model.py:258: FutureWarning: pd.rolling_mean is deprecated for DataFrame and will be removed in a future version, replace with \n",
      "\tDataFrame.rolling(window=100000000,min_periods=3,center=False).mean()\n",
      "  \n",
      "/Users/mrefermat/git/FinancePhD/LiquidityMomentum/tsmom_model.py:258: FutureWarning: pd.rolling_std is deprecated for DataFrame and will be removed in a future version, replace with \n",
      "\tDataFrame.rolling(window=100000000,min_periods=3,center=False).std()\n",
      "  \n"
     ]
    }
   ],
   "source": [
    "data=calc_zscore_expanding_window(amihud.dropna(how='all'),3).dropna(how='all')\n",
    "sector_zscores={}\n",
    "d_map=sector_map(amihud)\n",
    "for sect in d_map.keys():\n",
    "    sector_zscores[sect]=data[d_map[sect]].dropna(how='all')"
   ]
  },
  {
   "cell_type": "code",
   "execution_count": 6,
   "metadata": {},
   "outputs": [
    {
     "name": "stderr",
     "output_type": "stream",
     "text": [
      "/Users/mrefermat/git/FinancePhD/LiquidityMomentum/tsmom_model.py:223: FutureWarning: how in .resample() is deprecated\n",
      "the new syntax is .resample(...).median()\n",
      "  rtns = price_data.resample(rule='m',how='last')[mkts].pct_change()[str(y+1)].mean(axis=1)\n",
      "/Users/mrefermat/git/FinancePhD/LiquidityMomentum/tsmom_model.py:224: FutureWarning: how in .resample() is deprecated\n",
      "the new syntax is .resample(...).last()\n",
      "  deciles[str(i)]=deciles[str(i)].append(rtns)\n"
     ]
    }
   ],
   "source": [
    "sector_portfolio_sorts={}\n",
    "for s in sector_zscores.keys():\n",
    "    sector_portfolio_sorts[s]=quantile_portfolios_annual(sector_zscores[s],cleansed,5)"
   ]
  },
  {
   "cell_type": "code",
   "execution_count": 12,
   "metadata": {},
   "outputs": [],
   "source": []
  },
  {
   "cell_type": "code",
   "execution_count": 13,
   "metadata": {},
   "outputs": [
    {
     "name": "stderr",
     "output_type": "stream",
     "text": [
      "/Users/mrefermat/git/FinancePhD/LiquidityMomentum/tsmom_model.py:258: FutureWarning: pd.rolling_mean is deprecated for DataFrame and will be removed in a future version, replace with \n",
      "\tDataFrame.rolling(window=100000000,min_periods=3,center=False).mean()\n",
      "  \n",
      "/Users/mrefermat/git/FinancePhD/LiquidityMomentum/tsmom_model.py:258: FutureWarning: pd.rolling_std is deprecated for DataFrame and will be removed in a future version, replace with \n",
      "\tDataFrame.rolling(window=100000000,min_periods=3,center=False).std()\n",
      "  \n"
     ]
    }
   ],
   "source": [
    "data=calc_zscore_expanding_window(amihud.dropna(how='all'),3).dropna(how='all')\n",
    "sector_zscores={}\n",
    "d_map=sector_map(amihud)\n",
    "for sect in d_map.keys():\n",
    "    sector_zscores[sect]=data[d_map[sect]].dropna(how='all')\n",
    "sector_PC={}\n",
    "sector_variance_explained=pd.DataFrame()\n",
    "\n",
    "no_pc=3\n",
    "for sect in d_map.keys():\n",
    "    try: \n",
    "        PPCA=p.PPCA()\n",
    "        PPCA.fit(np.array(sector_zscores[sect]),d=no_pc)\n",
    "        sector_variance_explained[sect] = PPCA.var_exp\n",
    "        pcs=pd.DataFrame()\n",
    "        for i in range(0,no_pc,1):\n",
    "            x=pd.DataFrame(PPCA.C.T[i]*PPCA.data).sum(axis=1)\n",
    "            x.set_axis(labels=sector_zscores[sect].index,axis='index')\n",
    "            pcs[i]=x\n",
    "        sector_PC[sect] = pcs\n",
    "    except:\n",
    "        print(sect)"
   ]
  },
  {
   "cell_type": "markdown",
   "metadata": {},
   "source": [
    "# Expirimenting with annual portfolio sorts\n",
    "* PPCA common liquidity factor per asset\n",
    "* Median Amihud value\n",
    "* Whole market Amihud value\n",
    "\n",
    "However the strongest looks like the first one, but nothing is strongerly predictive.\n",
    "\n",
    "However there is a timing mismatch because this is using annual portfolio sorts"
   ]
  },
  {
   "cell_type": "code",
   "execution_count": 61,
   "metadata": {},
   "outputs": [
    {
     "name": "stdout",
     "output_type": "stream",
     "text": [
      "                      LinearFactorModel Estimation Summary                      \n",
      "================================================================================\n",
      "No. Test Portfolios:                  5   R-squared:                      0.0017\n",
      "No. Factors:                          1   J-statistic:                    10.268\n",
      "No. Observations:                   203   P-value                         0.0361\n",
      "Date:                  Mon, Mar 19 2018   Distribution:                  chi2(4)\n",
      "Time:                          07:55:01                                         \n",
      "Cov. Estimator:                  kernel                                         \n",
      "                                                                                \n",
      "                            Risk Premia Estimates                             \n",
      "==============================================================================\n",
      "            Parameter  Std. Err.     T-stat    P-value    Lower CI    Upper CI\n",
      "------------------------------------------------------------------------------\n",
      "factor      8.591e-12  1.744e-10     0.0493     0.9607  -3.332e-10   3.504e-10\n",
      "==============================================================================\n",
      "\n",
      "Covariance estimator:\n",
      "KernelCovariance, Kernel: bartlett, Bandwidth: 7\n",
      "See full_summary for complete results\n"
     ]
    }
   ],
   "source": [
    "sec='Commodities'\n",
    "#factor=sector_PC[sec][[0]]\n",
    "#factor=amihud[d_map[sec]].median(axis=1).dropna()\n",
    "factor=amihud.median(axis=1).dropna()\n",
    "ind=sector_portfolio_sorts[sec].shift().dropna().index\n",
    "mod=LinearFactorModel(sector_portfolio_sorts[sec].shift().dropna(),factor.loc[ind])\n",
    "res=mod.fit(cov_type='kernel')\n",
    "print(res)"
   ]
  },
  {
   "cell_type": "markdown",
   "metadata": {},
   "source": [
    "# Expirimenting with monthly portfolio sorts\n",
    "* PPCA common liquidity factor per asset\n",
    "* Median Amihud value\n",
    "* Whole market Amihud value\n",
    "\n",
    "However the strongest looks like the first one, but nothing is strongerly predictive.\n",
    "\n"
   ]
  },
  {
   "cell_type": "code",
   "execution_count": 64,
   "metadata": {},
   "outputs": [],
   "source": [
    "mon_amihud=read_monthly(amihud=True)"
   ]
  },
  {
   "cell_type": "code",
   "execution_count": 72,
   "metadata": {},
   "outputs": [
    {
     "name": "stdout",
     "output_type": "stream",
     "text": [
      "                      LinearFactorModel Estimation Summary                      \n",
      "================================================================================\n",
      "No. Test Portfolios:                  5   R-squared:                      0.0524\n",
      "No. Factors:                          1   J-statistic:                    10.824\n",
      "No. Observations:                   211   P-value                         0.0286\n",
      "Date:                  Mon, Mar 19 2018   Distribution:                  chi2(4)\n",
      "Time:                          08:00:07                                         \n",
      "Cov. Estimator:                  kernel                                         \n",
      "                                                                                \n",
      "                            Risk Premia Estimates                             \n",
      "==============================================================================\n",
      "            Parameter  Std. Err.     T-stat    P-value    Lower CI    Upper CI\n",
      "------------------------------------------------------------------------------\n",
      "factor      -5.39e-12  5.375e-12    -1.0029     0.3159  -1.592e-11   5.144e-12\n",
      "==============================================================================\n",
      "\n",
      "Covariance estimator:\n",
      "KernelCovariance, Kernel: bartlett, Bandwidth: 7\n",
      "See full_summary for complete results\n"
     ]
    },
    {
     "name": "stderr",
     "output_type": "stream",
     "text": [
      "/Users/mrefermat/anaconda3/lib/python3.6/site-packages/linearmodels/utility.py:490: MissingValueWarning: \n",
      "Inputs contain missing values. Dropping rows with missing observations.\n",
      "  warnings.warn(missing_value_warning_msg, MissingValueWarning)\n"
     ]
    }
   ],
   "source": [
    "sec='Equities'\n",
    "#factor=sector_PC[sec][[0]]\n",
    "factor=amihud[d_map[sec]].median(axis=1).dropna()\n",
    "#factor=amihud.median(axis=1).dropna()\n",
    "ind=sector_portfolio_sorts[sec].shift().dropna().index\n",
    "mod=LinearFactorModel(sector_portfolio_sorts[sec].shift().dropna(),factor.loc[ind])\n",
    "res=mod.fit(cov_type='kernel')\n",
    "print(res)"
   ]
  },
  {
   "cell_type": "code",
   "execution_count": null,
   "metadata": {},
   "outputs": [],
   "source": []
  },
  {
   "cell_type": "markdown",
   "metadata": {},
   "source": [
    "# FHT method"
   ]
  },
  {
   "cell_type": "code",
   "execution_count": 73,
   "metadata": {},
   "outputs": [
    {
     "name": "stderr",
     "output_type": "stream",
     "text": [
      "/Users/mrefermat/git/FinancePhD/LiquidityMomentum/tsmom_model.py:268: FutureWarning: how in .resample() is deprecated\n",
      "the new syntax is .resample(...).count()\n",
      "  Z=(nonzero/x.resample(rule='m',how='count')).dropna()\n",
      "/Users/mrefermat/git/FinancePhD/LiquidityMomentum/tsmom_model.py:269: FutureWarning: how in .resample() is deprecated\n",
      "the new syntax is .resample(...).count()\n",
      "  data[c]=pd.Series(norm.cdf((1+Z)/2.),index=Z.index)*2*pd.rolling_std(x,12).resample(rule='m',how='last')\n",
      "/Users/mrefermat/git/FinancePhD/LiquidityMomentum/tsmom_model.py:270: FutureWarning: pd.rolling_std is deprecated for Series and will be removed in a future version, replace with \n",
      "\tSeries.rolling(window=12,center=False).std()\n",
      "  return data\n",
      "/Users/mrefermat/git/FinancePhD/LiquidityMomentum/tsmom_model.py:270: FutureWarning: how in .resample() is deprecated\n",
      "the new syntax is .resample(...).last()\n",
      "  return data\n",
      "/Users/mrefermat/git/FinancePhD/LiquidityMomentum/tsmom_model.py:258: FutureWarning: pd.rolling_mean is deprecated for DataFrame and will be removed in a future version, replace with \n",
      "\tDataFrame.rolling(window=100000000,min_periods=3,center=False).mean()\n",
      "  \n",
      "/Users/mrefermat/git/FinancePhD/LiquidityMomentum/tsmom_model.py:258: FutureWarning: pd.rolling_std is deprecated for DataFrame and will be removed in a future version, replace with \n",
      "\tDataFrame.rolling(window=100000000,min_periods=3,center=False).std()\n",
      "  \n"
     ]
    }
   ],
   "source": [
    "FHT=calculate_FHT(cleansed)\n",
    "data=calc_zscore_expanding_window(FHT.dropna(how='all'),3).dropna(how='all')\n",
    "sector_zscores={}\n",
    "d_map=sector_map(FHT)\n",
    "for sect in d_map.keys():\n",
    "    sector_zscores[sect]=data[d_map[sect]].dropna(how='all')"
   ]
  },
  {
   "cell_type": "code",
   "execution_count": 77,
   "metadata": {},
   "outputs": [
    {
     "name": "stderr",
     "output_type": "stream",
     "text": [
      "/Users/mrefermat/git/FinancePhD/LiquidityMomentum/tsmom_model.py:223: FutureWarning: how in .resample() is deprecated\n",
      "the new syntax is .resample(...).median()\n",
      "  rtns = price_data.resample(rule='m',how='last')[mkts].pct_change()[str(y+1)].mean(axis=1)\n",
      "/Users/mrefermat/git/FinancePhD/LiquidityMomentum/tsmom_model.py:224: FutureWarning: how in .resample() is deprecated\n",
      "the new syntax is .resample(...).last()\n",
      "  deciles[str(i)]=deciles[str(i)].append(rtns)\n"
     ]
    }
   ],
   "source": [
    "sector_portfolio_sorts_FHT={}\n",
    "for s in sector_zscores.keys():\n",
    "    sector_portfolio_sorts_FHT[s]=quantile_portfolios_annual(sector_zscores[s],cleansed,5)"
   ]
  },
  {
   "cell_type": "code",
   "execution_count": 76,
   "metadata": {},
   "outputs": [
    {
     "name": "stderr",
     "output_type": "stream",
     "text": [
      "/Users/mrefermat/git/FinancePhD/LiquidityMomentum/tsmom_model.py:258: FutureWarning: pd.rolling_mean is deprecated for DataFrame and will be removed in a future version, replace with \n",
      "\tDataFrame.rolling(window=100000000,min_periods=3,center=False).mean()\n",
      "  \n",
      "/Users/mrefermat/git/FinancePhD/LiquidityMomentum/tsmom_model.py:258: FutureWarning: pd.rolling_std is deprecated for DataFrame and will be removed in a future version, replace with \n",
      "\tDataFrame.rolling(window=100000000,min_periods=3,center=False).std()\n",
      "  \n"
     ]
    }
   ],
   "source": [
    "data=calc_zscore_expanding_window(FHT.dropna(how='all'),3).dropna(how='all')\n",
    "sector_zscores={}\n",
    "d_map=sector_map(amihud)\n",
    "for sect in d_map.keys():\n",
    "    sector_zscores[sect]=data[d_map[sect]].dropna(how='all')\n",
    "sector_PC_FHT={}\n",
    "sector_variance_explained=pd.DataFrame()\n",
    "\n",
    "no_pc=3\n",
    "for sect in d_map.keys():\n",
    "    try: \n",
    "        PPCA=p.PPCA()\n",
    "        PPCA.fit(np.array(sector_zscores[sect]),d=no_pc)\n",
    "        sector_variance_explained[sect] = PPCA.var_exp\n",
    "        pcs=pd.DataFrame()\n",
    "        for i in range(0,no_pc,1):\n",
    "            x=pd.DataFrame(PPCA.C.T[i]*PPCA.data).sum(axis=1)\n",
    "            x.set_axis(labels=sector_zscores[sect].index,axis='index')\n",
    "            pcs[i]=x\n",
    "        sector_PC_FHT[sect] = pcs\n",
    "    except:\n",
    "        print(sect)"
   ]
  },
  {
   "cell_type": "markdown",
   "metadata": {},
   "source": [
    "# Using Anual sorts"
   ]
  },
  {
   "cell_type": "code",
   "execution_count": 81,
   "metadata": {},
   "outputs": [
    {
     "name": "stdout",
     "output_type": "stream",
     "text": [
      "                      LinearFactorModel Estimation Summary                      \n",
      "================================================================================\n",
      "No. Test Portfolios:                  5   R-squared:                      0.0016\n",
      "No. Factors:                          1   J-statistic:                    15.214\n",
      "No. Observations:                   300   P-value                         0.0043\n",
      "Date:                  Mon, Mar 19 2018   Distribution:                  chi2(4)\n",
      "Time:                          08:04:57                                         \n",
      "Cov. Estimator:                  kernel                                         \n",
      "                                                                                \n",
      "                            Risk Premia Estimates                             \n",
      "==============================================================================\n",
      "            Parameter  Std. Err.     T-stat    P-value    Lower CI    Upper CI\n",
      "------------------------------------------------------------------------------\n",
      "0             -1.6010     6.2357    -0.2568     0.7974     -13.823      10.621\n",
      "==============================================================================\n",
      "\n",
      "Covariance estimator:\n",
      "KernelCovariance, Kernel: bartlett, Bandwidth: 18\n",
      "See full_summary for complete results\n"
     ]
    }
   ],
   "source": [
    "sec='Fixed Income'\n",
    "factor=sector_PC_FHT[sec][[0]]\n",
    "#factor=amihud[d_map[sec]].median(axis=1).dropna()\n",
    "#factor=FHT.median(axis=1).dropna()\n",
    "ind=sector_portfolio_sorts[sec].shift().dropna().index\n",
    "mod=LinearFactorModel(sector_portfolio_sorts_FHT[sec].shift().dropna(),factor.loc[ind])\n",
    "res=mod.fit(cov_type='kernel')\n",
    "print(res)"
   ]
  },
  {
   "cell_type": "markdown",
   "metadata": {},
   "source": [
    "#Using Monthly"
   ]
  },
  {
   "cell_type": "code",
   "execution_count": 84,
   "metadata": {},
   "outputs": [],
   "source": [
    "FHT_mon=read_monthly(amihud=False)"
   ]
  },
  {
   "cell_type": "code",
   "execution_count": 88,
   "metadata": {},
   "outputs": [
    {
     "name": "stdout",
     "output_type": "stream",
     "text": [
      "                      LinearFactorModel Estimation Summary                      \n",
      "================================================================================\n",
      "No. Test Portfolios:                  5   R-squared:                      0.0540\n",
      "No. Factors:                          1   J-statistic:                    4.3057\n",
      "No. Observations:                   299   P-value                         0.3662\n",
      "Date:                  Mon, Mar 19 2018   Distribution:                  chi2(4)\n",
      "Time:                          08:07:23                                         \n",
      "Cov. Estimator:                  kernel                                         \n",
      "                                                                                \n",
      "                            Risk Premia Estimates                             \n",
      "==============================================================================\n",
      "            Parameter  Std. Err.     T-stat    P-value    Lower CI    Upper CI\n",
      "------------------------------------------------------------------------------\n",
      "0              2.0258     0.9981     2.0296     0.0424      0.0696      3.9820\n",
      "==============================================================================\n",
      "\n",
      "Covariance estimator:\n",
      "KernelCovariance, Kernel: bartlett, Bandwidth: 3\n",
      "See full_summary for complete results\n"
     ]
    }
   ],
   "source": [
    "sec='Equities'\n",
    "factor=sector_PC_FHT[sec][[0]]\n",
    "#factor=amihud[d_map[sec]].median(axis=1).dropna()\n",
    "#factor=FHT.median(axis=1).dropna()\n",
    "ind=FHT_mon[sec].shift().dropna().index\n",
    "mod=LinearFactorModel(FHT_mon[sec].shift().dropna(),factor.loc[ind])\n",
    "res=mod.fit(cov_type='kernel')\n",
    "print(res)"
   ]
  }
 ],
 "metadata": {
  "kernelspec": {
   "display_name": "Python 3",
   "language": "python",
   "name": "python3"
  },
  "language_info": {
   "codemirror_mode": {
    "name": "ipython",
    "version": 2
   },
   "file_extension": ".py",
   "mimetype": "text/x-python",
   "name": "python",
   "nbconvert_exporter": "python",
   "pygments_lexer": "ipython2",
   "version": "2.7.12"
  }
 },
 "nbformat": 4,
 "nbformat_minor": 2
}
