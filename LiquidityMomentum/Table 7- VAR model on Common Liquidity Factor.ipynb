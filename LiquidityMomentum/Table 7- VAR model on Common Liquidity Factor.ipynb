{
 "cells": [
  {
   "cell_type": "code",
   "execution_count": 1,
   "metadata": {},
   "outputs": [
    {
     "name": "stderr",
     "output_type": "stream",
     "text": [
      "/Users/mrefermat/anaconda/lib/python2.7/site-packages/IPython/utils/traitlets.py:5: UserWarning: IPython.utils.traitlets has moved to a top-level traitlets package.\n",
      "  warn(\"IPython.utils.traitlets has moved to a top-level traitlets package.\")\n",
      "/Users/mrefermat/anaconda/lib/python2.7/site-packages/IPython/kernel/__init__.py:13: ShimWarning: The `IPython.kernel` package has been deprecated since IPython 4.0.You should import from ipykernel or jupyter_client instead.\n",
      "  \"You should import from ipykernel or jupyter_client instead.\", ShimWarning)\n"
     ]
    }
   ],
   "source": [
    "%matplotlib inline\n",
    "import math\n",
    "import pandas as pd\n",
    "from tsmom_model import *\n",
    "import numpy as np\n",
    "from datetime import datetime\n",
    "import statsmodels.tsa.vector_ar.var_model as VAR\n",
    "import PPCA_MR as p\n",
    "import statsmodels.api as sm"
   ]
  },
  {
   "cell_type": "code",
   "execution_count": 2,
   "metadata": {
    "collapsed": true
   },
   "outputs": [],
   "source": [
    "import pylab\n",
    "sns.set(font_scale=2)\n",
    "pylab.rcParams['figure.figsize'] = (24, 18)"
   ]
  },
  {
   "cell_type": "markdown",
   "metadata": {},
   "source": [
    "# Hand cleansed\n",
    "Hand cleaned to removed duplicates"
   ]
  },
  {
   "cell_type": "code",
   "execution_count": 3,
   "metadata": {},
   "outputs": [
    {
     "name": "stderr",
     "output_type": "stream",
     "text": [
      "tsmom_model.py:158: FutureWarning: how in .resample() is deprecated\n",
      "the new syntax is .resample(...).last()\n",
      "  data=pd.read_csv('./Price.csv',index_col=0,parse_dates=['Date']).resample(rule='d',how='last')\n",
      "tsmom_model.py:160: FutureWarning: how in .resample() is deprecated\n",
      "the new syntax is .resample(...).last()\n",
      "  qd=pd.read_csv('./liquid_contracts.csv',index_col=0,parse_dates=['Date']).resample(rule='d',how='last')\n"
     ]
    }
   ],
   "source": [
    "cleansed=load_amihud_markets_price()"
   ]
  },
  {
   "cell_type": "markdown",
   "metadata": {},
   "source": [
    "# Amihud methodology\n",
    "\n",
    "Amihud (2002) developed the illiquidity measure expressed by:\n",
    "\n",
    "$$ Amihud =\\frac{1}{N} \\sum \\frac{|r_t|}{\\text{dvol}_t} $$\n",
    "\n",
    "where $r_t$ is the return on day $t$ and $Volume_t$ is the dollar volume on day $t$. \n",
    "\n",
    "The benefit of taking the daily return is to weight the move by change of price and the volume.\n"
   ]
  },
  {
   "cell_type": "code",
   "execution_count": 4,
   "metadata": {},
   "outputs": [
    {
     "name": "stderr",
     "output_type": "stream",
     "text": [
      "tsmom_model.py:42: FutureWarning: how in .resample() is deprecated\n",
      "the new syntax is .resample(...).mean()\n",
      "  data=pd.read_csv('./Volume.csv',index_col=0,parse_dates=['Date']).resample(rule='d',how='mean')\n",
      "tsmom_model.py:44: FutureWarning: how in .resample() is deprecated\n",
      "the new syntax is .resample(...).sum()\n",
      "  v=pd.read_csv('./volume_data.csv',index_col=0,parse_dates=['Date']).resample(rule='d',how='sum')\n",
      "tsmom_model.py:46: FutureWarning: pd.rolling_mean is deprecated for DataFrame and will be removed in a future version, replace with \n",
      "\tDataFrame.rolling(min_periods=100,window=250,center=False).mean()\n",
      "  volume=pd.rolling_mean(v,250,min_periods=100).resample(rule='d',how='mean')[:'2016']\n",
      "tsmom_model.py:46: FutureWarning: how in .resample() is deprecated\n",
      "the new syntax is .resample(...).mean()\n",
      "  volume=pd.rolling_mean(v,250,min_periods=100).resample(rule='d',how='mean')[:'2016']\n",
      "tsmom_model.py:49: FutureWarning: pd.rolling_mean is deprecated for Series and will be removed in a future version, replace with \n",
      "\tSeries.rolling(min_periods=50,window=250,center=False).mean()\n",
      "  volume[name]=pd.rolling_mean(v2[x],250,min_periods=50).resample(rule='d',how='mean')\n",
      "tsmom_model.py:49: FutureWarning: how in .resample() is deprecated\n",
      "the new syntax is .resample(...).mean()\n",
      "  volume[name]=pd.rolling_mean(v2[x],250,min_periods=50).resample(rule='d',how='mean')\n",
      "tsmom_model.py:76: FutureWarning: how in .resample() is deprecated\n",
      "the new syntax is .resample(...).last()\n",
      "  fx=fx.resample(rule='d',how='last')\n",
      "tsmom_model.py:77: FutureWarning: how in .resample() is deprecated\n",
      "the new syntax is .resample(...).last()\n",
      "  px=cleansed.resample(rule='d',how='last')\n",
      "tsmom_model.py:85: FutureWarning: how in .resample() is deprecated\n",
      "the new syntax is .resample(...).mean()\n",
      "  x= (cleansed.pct_change().abs()/ total_vol).resample(rule='m',how='mean')\n"
     ]
    }
   ],
   "source": [
    "amihud=calculate_amihud_liquidity(cleansed)[:'2016'] "
   ]
  },
  {
   "cell_type": "markdown",
   "metadata": {},
   "source": [
    "# Academic papers\n",
    "Based on Illin, A., Raiko, T. 2010 paper called \"Practical Approaches to Principal Component Analysis in the Presence of Missing Values\"\n",
    "\n",
    "Tipping and Bishop (1999) introducted probablistic formulation of PCA (PPCA)\n",
    "\n",
    "\n",
    "Use a flavor of Probabilistic PCA that is robust to missing data (see Ilin and Raiko 2010). Rather than the vanilla one-shot SVD, PPCA uses an iterative EM procedure/fixed point algorithm. From an initial guess, it’ll alternatively interpolate missing data and update the components until convergence.\n",
    "\n",
    "On a side note, PPCA interpolates using information from all series, making it a multivariate interpolator. Be careful though, fitting the model to too many components will likely lead to overfitting problems in the interpolated data.\n",
    "\n",
    "Also note that I am using the standardization that is mentioned in Korajecyk and Sadka (2008) of expanding zscores\n"
   ]
  },
  {
   "cell_type": "code",
   "execution_count": 5,
   "metadata": {},
   "outputs": [
    {
     "name": "stderr",
     "output_type": "stream",
     "text": [
      "tsmom_model.py:273: FutureWarning: pd.rolling_mean is deprecated for DataFrame and will be removed in a future version, replace with \n",
      "\tDataFrame.rolling(min_periods=3,window=100000000,center=False).mean()\n",
      "  return (df-pd.rolling_mean(df,100000000,min_periods=min_per))/pd.rolling_std(df,100000000,min_periods=min_per)\n",
      "tsmom_model.py:273: FutureWarning: pd.rolling_std is deprecated for DataFrame and will be removed in a future version, replace with \n",
      "\tDataFrame.rolling(min_periods=3,window=100000000,center=False).std()\n",
      "  return (df-pd.rolling_mean(df,100000000,min_periods=min_per))/pd.rolling_std(df,100000000,min_periods=min_per)\n"
     ]
    }
   ],
   "source": [
    "#data=calc_zscore_ew(amihud.dropna(how='all')).dropna(how='all')\n",
    "data=calc_zscore_expanding_window(amihud.dropna(how='all'),3).dropna(how='all')"
   ]
  },
  {
   "cell_type": "code",
   "execution_count": 6,
   "metadata": {
    "collapsed": true
   },
   "outputs": [],
   "source": [
    "sector_zscores={}\n",
    "d_map=sector_map(amihud)\n",
    "for sect in d_map.keys():\n",
    "    sector_zscores[sect]=data[d_map[sect]].dropna(how='all')"
   ]
  },
  {
   "cell_type": "code",
   "execution_count": 7,
   "metadata": {},
   "outputs": [
    {
     "name": "stderr",
     "output_type": "stream",
     "text": [
      "/Users/mrefermat/anaconda/lib/python2.7/site-packages/ipykernel_launcher.py:13: FutureWarning: set_axis currently defaults to operating inplace.\n",
      "This will change in a future version of pandas, use inplace=True to avoid this warning.\n",
      "  del sys.path[0]\n"
     ]
    }
   ],
   "source": [
    "sector_PC={}\n",
    "sector_variance_explained=pd.DataFrame()\n",
    "\n",
    "no_pc=3\n",
    "for sect in d_map.keys():\n",
    "    try: \n",
    "        PPCA=p.PPCA()\n",
    "        PPCA.fit(np.array(sector_zscores[sect]),d=no_pc)\n",
    "        sector_variance_explained[sect] = PPCA.var_exp\n",
    "        pcs=pd.DataFrame()\n",
    "        for i in range(0,no_pc,1):\n",
    "            x=pd.DataFrame(PPCA.C.T[i]*PPCA.data).sum(axis=1)\n",
    "            x.set_axis(sector_zscores[sect].index)\n",
    "            pcs[i]=x\n",
    "        sector_PC[sect] = pcs\n",
    "    except:\n",
    "        print sect"
   ]
  },
  {
   "cell_type": "code",
   "execution_count": 8,
   "metadata": {},
   "outputs": [
    {
     "name": "stderr",
     "output_type": "stream",
     "text": [
      "/Users/mrefermat/anaconda/lib/python2.7/site-packages/ipykernel_launcher.py:7: FutureWarning: set_axis currently defaults to operating inplace.\n",
      "This will change in a future version of pandas, use inplace=True to avoid this warning.\n",
      "  import sys\n"
     ]
    }
   ],
   "source": [
    "PPCA=p.PPCA()\n",
    "PPCA.fit(np.array(data),d=no_pc)\n",
    "sector_variance_explained[sect] = PPCA.var_exp\n",
    "pcs=pd.DataFrame()\n",
    "for i in range(0,no_pc,1):\n",
    "    x=pd.DataFrame(PPCA.C.T[i]*PPCA.data).sum(axis=1)\n",
    "    x.set_axis(sector_zscores[sect].index)\n",
    "    pcs[i]=x\n",
    "sector_PC['All Market'] = pcs"
   ]
  },
  {
   "cell_type": "code",
   "execution_count": 9,
   "metadata": {},
   "outputs": [],
   "source": [
    "prin_factors=pd.DataFrame()\n",
    "for sector in sector_PC.keys():\n",
    "    prin_factors['Amihud '+sector]=sector_PC[sector].mean(axis=1)"
   ]
  },
  {
   "cell_type": "code",
   "execution_count": 10,
   "metadata": {},
   "outputs": [],
   "source": [
    "res = VAR.VAR(endog=prin_factors).fit()"
   ]
  },
  {
   "cell_type": "code",
   "execution_count": 11,
   "metadata": {},
   "outputs": [
    {
     "name": "stdout",
     "output_type": "stream",
     "text": [
      "  Summary of Regression Results   \n",
      "==================================\n",
      "Model:                         VAR\n",
      "Method:                        OLS\n",
      "Date:           Sat, 19, May, 2018\n",
      "Time:                     07:12:13\n",
      "--------------------------------------------------------------------\n",
      "No. of Equations:         7.00000    BIC:                   -7.53956\n",
      "Nobs:                     208.000    HQIC:                  -8.07479\n",
      "Log likelihood:          -1132.41    FPE:                0.000216513\n",
      "AIC:                     -8.43813    Det(Omega_mle):     0.000166246\n",
      "--------------------------------------------------------------------\n",
      "Results for equation Amihud Agriculturals\n",
      "==========================================================================================\n",
      "                             coefficient       std. error           t-stat            prob\n",
      "------------------------------------------------------------------------------------------\n",
      "const                           0.143024         0.103016            1.388           0.167\n",
      "L1.Amihud Agriculturals         0.611368         0.048873           12.509           0.000\n",
      "L1.Amihud Currencies            0.266920         0.063672            4.192           0.000\n",
      "L1.Amihud Energies              0.165668         0.073160            2.264           0.025\n",
      "L1.Amihud Equities              0.102701         0.054955            1.869           0.063\n",
      "L1.Amihud Metals               -0.255370         0.083302           -3.066           0.002\n",
      "L1.Amihud All Market           -0.021215         0.048732           -0.435           0.664\n",
      "L1.Amihud Fixed Income          0.112887         0.059543            1.896           0.059\n",
      "==========================================================================================\n",
      "\n",
      "Results for equation Amihud Currencies\n",
      "==========================================================================================\n",
      "                             coefficient       std. error           t-stat            prob\n",
      "------------------------------------------------------------------------------------------\n",
      "const                           0.010132         0.057607            0.176           0.861\n",
      "L1.Amihud Agriculturals        -0.050166         0.027330           -1.836           0.068\n",
      "L1.Amihud Currencies            0.939264         0.035606           26.379           0.000\n",
      "L1.Amihud Energies             -0.023974         0.040912           -0.586           0.559\n",
      "L1.Amihud Equities              0.032296         0.030731            1.051           0.295\n",
      "L1.Amihud Metals                0.040708         0.046583            0.874           0.383\n",
      "L1.Amihud All Market            0.046485         0.027251            1.706           0.090\n",
      "L1.Amihud Fixed Income         -0.003128         0.033297           -0.094           0.925\n",
      "==========================================================================================\n",
      "\n",
      "Results for equation Amihud Energies\n",
      "==========================================================================================\n",
      "                             coefficient       std. error           t-stat            prob\n",
      "------------------------------------------------------------------------------------------\n",
      "const                           0.222775         0.071829            3.101           0.002\n",
      "L1.Amihud Agriculturals         0.083558         0.034077            2.452           0.015\n",
      "L1.Amihud Currencies            0.106874         0.044396            2.407           0.017\n",
      "L1.Amihud Energies              0.675953         0.051012           13.251           0.000\n",
      "L1.Amihud Equities             -0.025812         0.038318           -0.674           0.501\n",
      "L1.Amihud Metals               -0.059447         0.058083           -1.023           0.307\n",
      "L1.Amihud All Market           -0.056755         0.033979           -1.670           0.096\n",
      "L1.Amihud Fixed Income         -0.084197         0.041516           -2.028           0.044\n",
      "==========================================================================================\n",
      "\n",
      "Results for equation Amihud Equities\n",
      "==========================================================================================\n",
      "                             coefficient       std. error           t-stat            prob\n",
      "------------------------------------------------------------------------------------------\n",
      "const                          -0.129037         0.119913           -1.076           0.283\n",
      "L1.Amihud Agriculturals         0.070003         0.056889            1.231           0.220\n",
      "L1.Amihud Currencies           -0.153067         0.074116           -2.065           0.040\n",
      "L1.Amihud Energies             -0.026956         0.085161           -0.317           0.752\n",
      "L1.Amihud Equities              0.636628         0.063970            9.952           0.000\n",
      "L1.Amihud Metals                0.116362         0.096965            1.200           0.232\n",
      "L1.Amihud All Market           -0.066367         0.056725           -1.170           0.243\n",
      "L1.Amihud Fixed Income          0.135226         0.069309            1.951           0.052\n",
      "==========================================================================================\n",
      "\n",
      "Results for equation Amihud Metals\n",
      "==========================================================================================\n",
      "                             coefficient       std. error           t-stat            prob\n",
      "------------------------------------------------------------------------------------------\n",
      "const                           0.269252         0.080774            3.333           0.001\n",
      "L1.Amihud Agriculturals         0.043603         0.038321            1.138           0.257\n",
      "L1.Amihud Currencies            0.045878         0.049925            0.919           0.359\n",
      "L1.Amihud Energies              0.021952         0.057365            0.383           0.702\n",
      "L1.Amihud Equities             -0.020493         0.043090           -0.476           0.635\n",
      "L1.Amihud Metals                0.651751         0.065317            9.978           0.000\n",
      "L1.Amihud All Market           -0.126893         0.038211           -3.321           0.001\n",
      "L1.Amihud Fixed Income          0.037058         0.046687            0.794           0.428\n",
      "==========================================================================================\n",
      "\n",
      "Results for equation Amihud All Market\n",
      "==========================================================================================\n",
      "                             coefficient       std. error           t-stat            prob\n",
      "------------------------------------------------------------------------------------------\n",
      "const                           0.342487         0.112072            3.056           0.003\n",
      "L1.Amihud Agriculturals        -0.131845         0.053169           -2.480           0.014\n",
      "L1.Amihud Currencies            0.221966         0.069270            3.204           0.002\n",
      "L1.Amihud Energies             -0.019951         0.079592           -0.251           0.802\n",
      "L1.Amihud Equities              0.053583         0.059787            0.896           0.371\n",
      "L1.Amihud Metals               -0.269313         0.090625           -2.972           0.003\n",
      "L1.Amihud All Market            0.847742         0.053016           15.990           0.000\n",
      "L1.Amihud Fixed Income         -0.112601         0.064777           -1.738           0.084\n",
      "==========================================================================================\n",
      "\n",
      "Results for equation Amihud Fixed Income\n",
      "==========================================================================================\n",
      "                             coefficient       std. error           t-stat            prob\n",
      "------------------------------------------------------------------------------------------\n",
      "const                          -0.151771         0.120338           -1.261           0.209\n",
      "L1.Amihud Agriculturals         0.091271         0.057090            1.599           0.111\n",
      "L1.Amihud Currencies            0.217575         0.074378            2.925           0.004\n",
      "L1.Amihud Energies             -0.058465         0.085462           -0.684           0.495\n",
      "L1.Amihud Equities             -0.052914         0.064196           -0.824           0.411\n",
      "L1.Amihud Metals               -0.106404         0.097308           -1.093           0.276\n",
      "L1.Amihud All Market           -0.069795         0.056926           -1.226           0.222\n",
      "L1.Amihud Fixed Income          0.244412         0.069554            3.514           0.001\n",
      "==========================================================================================\n",
      "\n",
      "Correlation matrix of residuals\n",
      "                        Amihud Agriculturals  Amihud Currencies  Amihud Energies  Amihud Equities  Amihud Metals  Amihud All Market  Amihud Fixed Income\n",
      "Amihud Agriculturals                1.000000          -0.075470        -0.059663        -0.093416      -0.222429           0.032632             0.127649\n",
      "Amihud Currencies                  -0.075470           1.000000         0.084893        -0.278946       0.055989           0.308643             0.055781\n",
      "Amihud Energies                    -0.059663           0.084893         1.000000        -0.203282       0.058964           0.093856             0.091322\n",
      "Amihud Equities                    -0.093416          -0.278946        -0.203282         1.000000       0.077745          -0.504810            -0.218332\n",
      "Amihud Metals                      -0.222429           0.055989         0.058964         0.077745       1.000000          -0.302032            -0.014372\n",
      "Amihud All Market                   0.032632           0.308643         0.093856        -0.504810      -0.302032           1.000000             0.121192\n",
      "Amihud Fixed Income                 0.127649           0.055781         0.091322        -0.218332      -0.014372           0.121192             1.000000\n",
      "\n",
      "\n",
      "\n"
     ]
    }
   ],
   "source": [
    "print res.summary()"
   ]
  },
  {
   "cell_type": "markdown",
   "metadata": {},
   "source": [
    "# FHT method"
   ]
  },
  {
   "cell_type": "code",
   "execution_count": 12,
   "metadata": {},
   "outputs": [
    {
     "name": "stderr",
     "output_type": "stream",
     "text": [
      "tsmom_model.py:283: FutureWarning: how in .resample() is deprecated\n",
      "the new syntax is .resample(...).count()\n",
      "  nonzero=x[x==0].resample(rule='m',how='count')\n",
      "tsmom_model.py:284: FutureWarning: how in .resample() is deprecated\n",
      "the new syntax is .resample(...).count()\n",
      "  Z=(nonzero/x.resample(rule='m',how='count')).dropna()\n",
      "tsmom_model.py:285: FutureWarning: pd.rolling_std is deprecated for Series and will be removed in a future version, replace with \n",
      "\tSeries.rolling(window=12,center=False).std()\n",
      "  data[c]=pd.Series(norm.cdf((1+Z)/2.),index=Z.index)*2*pd.rolling_std(x,12).resample(rule='m',how='last')\n",
      "tsmom_model.py:285: FutureWarning: how in .resample() is deprecated\n",
      "the new syntax is .resample(...).last()\n",
      "  data[c]=pd.Series(norm.cdf((1+Z)/2.),index=Z.index)*2*pd.rolling_std(x,12).resample(rule='m',how='last')\n"
     ]
    }
   ],
   "source": [
    "FHT=calculate_FHT(cleansed)"
   ]
  },
  {
   "cell_type": "code",
   "execution_count": 13,
   "metadata": {
    "collapsed": true
   },
   "outputs": [],
   "source": [
    "data=calc_zscore_expanding_window(FHT.dropna(how='all'),3).dropna(how='all')"
   ]
  },
  {
   "cell_type": "code",
   "execution_count": 14,
   "metadata": {
    "collapsed": true
   },
   "outputs": [],
   "source": [
    "sector_zscores={}\n",
    "d_map=sector_map(amihud)\n",
    "for sect in d_map.keys():\n",
    "    sector_zscores[sect]=data[d_map[sect]].dropna(how='all')"
   ]
  },
  {
   "cell_type": "code",
   "execution_count": 15,
   "metadata": {},
   "outputs": [
    {
     "name": "stderr",
     "output_type": "stream",
     "text": [
      "/Users/mrefermat/anaconda/lib/python2.7/site-packages/ipykernel_launcher.py:13: FutureWarning: set_axis currently defaults to operating inplace.\n",
      "This will change in a future version of pandas, use inplace=True to avoid this warning.\n",
      "  del sys.path[0]\n"
     ]
    }
   ],
   "source": [
    "sector_PC={}\n",
    "sector_variance_explained=pd.DataFrame()\n",
    "\n",
    "no_pc=3\n",
    "for sect in d_map.keys():\n",
    "    try: \n",
    "        PPCA=p.PPCA()\n",
    "        PPCA.fit(np.array(sector_zscores[sect]),d=no_pc)\n",
    "        sector_variance_explained[sect] = PPCA.var_exp\n",
    "        pcs=pd.DataFrame()\n",
    "        for i in range(0,no_pc,1):\n",
    "            x=pd.DataFrame(PPCA.C.T[i]*PPCA.data).sum(axis=1)\n",
    "            x.set_axis(sector_zscores[sect].index)\n",
    "            pcs[i]=x\n",
    "        sector_PC[sect] = pcs\n",
    "    except:\n",
    "        print sect"
   ]
  },
  {
   "cell_type": "code",
   "execution_count": 16,
   "metadata": {},
   "outputs": [],
   "source": [
    "prin_factors_FHT=pd.DataFrame()\n",
    "for sector in sector_PC.keys():\n",
    "    prin_factors_FHT[sector]=sector_PC[sector].mean(axis=1)"
   ]
  },
  {
   "cell_type": "code",
   "execution_count": 19,
   "metadata": {},
   "outputs": [
    {
     "name": "stdout",
     "output_type": "stream",
     "text": [
      "  Summary of Regression Results   \n",
      "==================================\n",
      "Model:                         VAR\n",
      "Method:                        OLS\n",
      "Date:           Sat, 12, May, 2018\n",
      "Time:                     07:49:58\n",
      "--------------------------------------------------------------------\n",
      "No. of Equations:         4.00000    BIC:                  0.0105671\n",
      "Nobs:                     204.000    HQIC:                 -0.183147\n",
      "Log likelihood:          -1105.75    FPE:                   0.730008\n",
      "AIC:                    -0.314739    Det(Omega_mle):        0.662618\n",
      "--------------------------------------------------------------------\n",
      "Results for equation Commodities\n",
      "==================================================================================\n",
      "                     coefficient       std. error           t-stat            prob\n",
      "----------------------------------------------------------------------------------\n",
      "const                   0.510698         0.146959            3.475           0.001\n",
      "L1.Commodities          0.425542         0.065682            6.479           0.000\n",
      "L1.Equities            -0.045113         0.077122           -0.585           0.559\n",
      "L1.Currencies          -0.021365         0.102308           -0.209           0.835\n",
      "L1.Fixed Income        -0.318427         0.132420           -2.405           0.017\n",
      "==================================================================================\n",
      "\n",
      "Results for equation Equities\n",
      "==================================================================================\n",
      "                     coefficient       std. error           t-stat            prob\n",
      "----------------------------------------------------------------------------------\n",
      "const                  -0.235769         0.147007           -1.604           0.110\n",
      "L1.Commodities         -0.148654         0.065703           -2.263           0.025\n",
      "L1.Equities             0.332954         0.077147            4.316           0.000\n",
      "L1.Currencies          -0.151949         0.102341           -1.485           0.139\n",
      "L1.Fixed Income         0.112614         0.132463            0.850           0.396\n",
      "==================================================================================\n",
      "\n",
      "Results for equation Currencies\n",
      "==================================================================================\n",
      "                     coefficient       std. error           t-stat            prob\n",
      "----------------------------------------------------------------------------------\n",
      "const                   0.063662         0.102904            0.619           0.537\n",
      "L1.Commodities          0.006553         0.045992            0.142           0.887\n",
      "L1.Equities            -0.066969         0.054002           -1.240           0.216\n",
      "L1.Currencies           0.132907         0.071638            1.855           0.065\n",
      "L1.Fixed Income        -0.016792         0.092724           -0.181           0.856\n",
      "==================================================================================\n",
      "\n",
      "Results for equation Fixed Income\n",
      "==================================================================================\n",
      "                     coefficient       std. error           t-stat            prob\n",
      "----------------------------------------------------------------------------------\n",
      "const                   0.709853         0.084282            8.422           0.000\n",
      "L1.Commodities         -0.108519         0.037669           -2.881           0.004\n",
      "L1.Equities             0.102373         0.044229            2.315           0.022\n",
      "L1.Currencies          -0.106946         0.058674           -1.823           0.070\n",
      "L1.Fixed Income         0.140121         0.075943            1.845           0.067\n",
      "==================================================================================\n",
      "\n",
      "Correlation matrix of residuals\n",
      "                Commodities  Equities  Currencies  Fixed Income\n",
      "Commodities        1.000000 -0.238356    0.053638     -0.135960\n",
      "Equities          -0.238356  1.000000    0.249829      0.340367\n",
      "Currencies         0.053638  0.249829    1.000000     -0.132930\n",
      "Fixed Income      -0.135960  0.340367   -0.132930      1.000000\n",
      "\n",
      "\n",
      "\n"
     ]
    }
   ],
   "source": [
    "resFHT = VAR.VAR(endog=prin_factors_FHT['2000':]).fit()\n",
    "print resFHT.summary()"
   ]
  }
 ],
 "metadata": {
  "kernelspec": {
   "display_name": "Python 2",
   "language": "python",
   "name": "python2"
  },
  "language_info": {
   "codemirror_mode": {
    "name": "ipython",
    "version": 2
   },
   "file_extension": ".py",
   "mimetype": "text/x-python",
   "name": "python",
   "nbconvert_exporter": "python",
   "pygments_lexer": "ipython2",
   "version": "2.7.12"
  }
 },
 "nbformat": 4,
 "nbformat_minor": 2
}
