{
 "cells": [
  {
   "cell_type": "code",
   "execution_count": 12,
   "metadata": {},
   "outputs": [],
   "source": [
    "%matplotlib inline\n",
    "import math\n",
    "import pandas as pd\n",
    "from tsmom_model import *\n",
    "import numpy as np\n",
    "from datetime import datetime\n",
    "import statsmodels.tsa.vector_ar.var_model as VAR\n",
    "import PPCA_MR as p\n",
    "import statsmodels.api as sm"
   ]
  },
  {
   "cell_type": "code",
   "execution_count": 13,
   "metadata": {
    "collapsed": true
   },
   "outputs": [],
   "source": [
    "import pylab\n",
    "sns.set(font_scale=2)\n",
    "pylab.rcParams['figure.figsize'] = (24, 18)"
   ]
  },
  {
   "cell_type": "markdown",
   "metadata": {},
   "source": [
    "# Hand cleansed\n",
    "Hand cleaned to removed duplicates"
   ]
  },
  {
   "cell_type": "code",
   "execution_count": 14,
   "metadata": {},
   "outputs": [],
   "source": [
    "cleansed=load_amihud_markets_price()"
   ]
  },
  {
   "cell_type": "markdown",
   "metadata": {},
   "source": [
    "# Amihud methodology\n",
    "\n",
    "Amihud (2002) developed the illiquidity measure expressed by:\n",
    "\n",
    "$$ Amihud =\\frac{1}{N} \\sum \\frac{|r_t|}{\\text{dvol}_t} $$\n",
    "\n",
    "where $r_t$ is the return on day $t$ and $Volume_t$ is the dollar volume on day $t$. \n",
    "\n",
    "The benefit of taking the daily return is to weight the move by change of price and the volume.\n"
   ]
  },
  {
   "cell_type": "code",
   "execution_count": 15,
   "metadata": {},
   "outputs": [],
   "source": [
    "amihud=calculate_amihud_liquidity(cleansed)[:'2016'] "
   ]
  },
  {
   "cell_type": "markdown",
   "metadata": {},
   "source": [
    "# Academic papers\n",
    "Based on Illin, A., Raiko, T. 2010 paper called \"Practical Approaches to Principal Component Analysis in the Presence of Missing Values\"\n",
    "\n",
    "Tipping and Bishop (1999) introducted probablistic formulation of PCA (PPCA)\n",
    "\n",
    "\n",
    "Use a flavor of Probabilistic PCA that is robust to missing data (see Ilin and Raiko 2010). Rather than the vanilla one-shot SVD, PPCA uses an iterative EM procedure/fixed point algorithm. From an initial guess, it’ll alternatively interpolate missing data and update the components until convergence.\n",
    "\n",
    "On a side note, PPCA interpolates using information from all series, making it a multivariate interpolator. Be careful though, fitting the model to too many components will likely lead to overfitting problems in the interpolated data.\n",
    "\n",
    "Also note that I am using the standardization that is mentioned in Korajecyk and Sadka (2008) of expanding zscores\n"
   ]
  },
  {
   "cell_type": "code",
   "execution_count": 16,
   "metadata": {},
   "outputs": [],
   "source": [
    "#data=calc_zscore_ew(amihud.dropna(how='all')).dropna(how='all')\n",
    "data=calc_zscore_expanding_window(amihud.dropna(how='all'),3).dropna(how='all')"
   ]
  },
  {
   "cell_type": "code",
   "execution_count": 17,
   "metadata": {
    "collapsed": true
   },
   "outputs": [],
   "source": [
    "sector_zscores={}\n",
    "d_map=sector_map(amihud)\n",
    "for sect in d_map.keys():\n",
    "    sector_zscores[sect]=data[d_map[sect]].dropna(how='all')"
   ]
  },
  {
   "cell_type": "code",
   "execution_count": 18,
   "metadata": {},
   "outputs": [
    {
     "name": "stderr",
     "output_type": "stream",
     "text": [
      "/Users/mrefermat/anaconda/lib/python2.7/site-packages/ipykernel_launcher.py:13: FutureWarning: set_axis currently defaults to operating inplace.\n",
      "This will change in a future version of pandas, use inplace=True to avoid this warning.\n",
      "  del sys.path[0]\n"
     ]
    }
   ],
   "source": [
    "sector_PC={}\n",
    "sector_variance_explained=pd.DataFrame()\n",
    "\n",
    "no_pc=3\n",
    "for sect in d_map.keys():\n",
    "    try: \n",
    "        PPCA=p.PPCA()\n",
    "        PPCA.fit(np.array(sector_zscores[sect]),d=no_pc)\n",
    "        sector_variance_explained[sect] = PPCA.var_exp\n",
    "        pcs=pd.DataFrame()\n",
    "        for i in range(0,no_pc,1):\n",
    "            x=pd.DataFrame(PPCA.C.T[i]*PPCA.data).sum(axis=1)\n",
    "            x.set_axis(sector_zscores[sect].index)\n",
    "            pcs[i]=x\n",
    "        sector_PC[sect] = pcs\n",
    "    except:\n",
    "        print sect"
   ]
  },
  {
   "cell_type": "code",
   "execution_count": 19,
   "metadata": {},
   "outputs": [
    {
     "name": "stderr",
     "output_type": "stream",
     "text": [
      "/Users/mrefermat/anaconda/lib/python2.7/site-packages/ipykernel_launcher.py:8: FutureWarning: set_axis currently defaults to operating inplace.\n",
      "This will change in a future version of pandas, use inplace=True to avoid this warning.\n",
      "  \n"
     ]
    }
   ],
   "source": [
    "no_fx = [i for i in data.columns if i not in d_map['Currencies']]\n",
    "PPCA=p.PPCA()\n",
    "PPCA.fit(np.array(data[no_fx]),d=no_pc)\n",
    "sector_variance_explained[sect] = PPCA.var_exp\n",
    "pcs=pd.DataFrame()\n",
    "for i in range(0,no_pc,1):\n",
    "    x=pd.DataFrame(PPCA.C.T[i]*PPCA.data).sum(axis=1)\n",
    "    x.set_axis(sector_zscores[sect].index)\n",
    "    pcs[i]=x\n",
    "sector_PC['Total'] = pcs"
   ]
  },
  {
   "cell_type": "code",
   "execution_count": 20,
   "metadata": {},
   "outputs": [],
   "source": [
    "prin_factors=pd.DataFrame()\n",
    "for sector in  ['Agriculturals',\n",
    "                 'Energies',\n",
    "                 'Equities',\n",
    "                 'Metals',\n",
    "                 'Fixed Income',\n",
    "                 'Total']:\n",
    "    prin_factors['Amihud '+sector]=sector_PC[sector].mean(axis=1)"
   ]
  },
  {
   "cell_type": "code",
   "execution_count": 21,
   "metadata": {},
   "outputs": [],
   "source": [
    "res = VAR.VAR(endog=prin_factors).fit()"
   ]
  },
  {
   "cell_type": "code",
   "execution_count": 22,
   "metadata": {},
   "outputs": [
    {
     "name": "stdout",
     "output_type": "stream",
     "text": [
      "  Summary of Regression Results   \n",
      "==================================\n",
      "Model:                         VAR\n",
      "Method:                        OLS\n",
      "Date:           Sat, 19, May, 2018\n",
      "Time:                     13:18:56\n",
      "--------------------------------------------------------------------\n",
      "No. of Equations:         6.00000    BIC:                   -6.58698\n",
      "Nobs:                     208.000    HQIC:                  -6.98840\n",
      "Log likelihood:          -973.701    FPE:                0.000702580\n",
      "AIC:                     -7.26090    Det(Omega_mle):     0.000576030\n",
      "--------------------------------------------------------------------\n",
      "Results for equation Amihud Agriculturals\n",
      "==========================================================================================\n",
      "                             coefficient       std. error           t-stat            prob\n",
      "------------------------------------------------------------------------------------------\n",
      "const                           0.340452         0.111744            3.047           0.003\n",
      "L1.Amihud Agriculturals         0.819492         0.045768           17.905           0.000\n",
      "L1.Amihud Energies             -0.010542         0.067529           -0.156           0.876\n",
      "L1.Amihud Equities             -0.078876         0.072228           -1.092           0.276\n",
      "L1.Amihud Metals               -0.162815         0.096212           -1.692           0.092\n",
      "L1.Amihud Fixed Income          0.037058         0.059228            0.626           0.532\n",
      "L1.Amihud Total                -0.037262         0.067428           -0.553           0.581\n",
      "==========================================================================================\n",
      "\n",
      "Results for equation Amihud Energies\n",
      "==========================================================================================\n",
      "                             coefficient       std. error           t-stat            prob\n",
      "------------------------------------------------------------------------------------------\n",
      "const                           0.287428         0.095964            2.995           0.003\n",
      "L1.Amihud Agriculturals         0.039086         0.039305            0.994           0.321\n",
      "L1.Amihud Energies              0.581036         0.057993           10.019           0.000\n",
      "L1.Amihud Equities              0.113036         0.062029            1.822           0.070\n",
      "L1.Amihud Metals                0.052841         0.082626            0.640           0.523\n",
      "L1.Amihud Fixed Income          0.113645         0.050864            2.234           0.027\n",
      "L1.Amihud Total                -0.067066         0.057906           -1.158           0.248\n",
      "==========================================================================================\n",
      "\n",
      "Results for equation Amihud Equities\n",
      "==========================================================================================\n",
      "                             coefficient       std. error           t-stat            prob\n",
      "------------------------------------------------------------------------------------------\n",
      "const                           0.001757         0.114010            0.015           0.988\n",
      "L1.Amihud Agriculturals        -0.161317         0.046696           -3.455           0.001\n",
      "L1.Amihud Energies              0.094838         0.068898            1.376           0.170\n",
      "L1.Amihud Equities              0.601362         0.073693            8.160           0.000\n",
      "L1.Amihud Metals                0.002426         0.098163            0.025           0.980\n",
      "L1.Amihud Fixed Income         -0.012755         0.060428           -0.211           0.833\n",
      "L1.Amihud Total                 0.185530         0.068795            2.697           0.008\n",
      "==========================================================================================\n",
      "\n",
      "Results for equation Amihud Metals\n",
      "==========================================================================================\n",
      "                             coefficient       std. error           t-stat            prob\n",
      "------------------------------------------------------------------------------------------\n",
      "const                           0.056117         0.085494            0.656           0.512\n",
      "L1.Amihud Agriculturals         0.029270         0.035017            0.836           0.404\n",
      "L1.Amihud Energies              0.015715         0.051666            0.304           0.761\n",
      "L1.Amihud Equities             -0.032450         0.055261           -0.587           0.558\n",
      "L1.Amihud Metals                0.568706         0.073611            7.726           0.000\n",
      "L1.Amihud Fixed Income         -0.153262         0.045314           -3.382           0.001\n",
      "L1.Amihud Total                -0.112805         0.051588           -2.187           0.030\n",
      "==========================================================================================\n",
      "\n",
      "Results for equation Amihud Fixed Income\n",
      "==========================================================================================\n",
      "                             coefficient       std. error           t-stat            prob\n",
      "------------------------------------------------------------------------------------------\n",
      "const                          -0.486132         0.110451           -4.401           0.000\n",
      "L1.Amihud Agriculturals        -0.062591         0.045239           -1.384           0.168\n",
      "L1.Amihud Energies              0.118855         0.066748            1.781           0.076\n",
      "L1.Amihud Equities             -0.154516         0.071392           -2.164           0.032\n",
      "L1.Amihud Metals               -0.025730         0.095099           -0.271           0.787\n",
      "L1.Amihud Fixed Income          0.631067         0.058542           10.780           0.000\n",
      "L1.Amihud Total                 0.084794         0.066647            1.272           0.205\n",
      "==========================================================================================\n",
      "\n",
      "Results for equation Amihud Total\n",
      "==========================================================================================\n",
      "                             coefficient       std. error           t-stat            prob\n",
      "------------------------------------------------------------------------------------------\n",
      "const                           0.392831         0.141875            2.769           0.006\n",
      "L1.Amihud Agriculturals        -0.061046         0.058109           -1.051           0.295\n",
      "L1.Amihud Energies              0.061672         0.085738            0.719           0.473\n",
      "L1.Amihud Equities              0.017907         0.091704            0.195           0.845\n",
      "L1.Amihud Metals               -0.272709         0.122155           -2.232           0.027\n",
      "L1.Amihud Fixed Income          0.117551         0.075198            1.563           0.120\n",
      "L1.Amihud Total                 0.787283         0.085609            9.196           0.000\n",
      "==========================================================================================\n",
      "\n",
      "Correlation matrix of residuals\n",
      "                        Amihud Agriculturals  Amihud Energies  Amihud Equities  Amihud Metals  Amihud Fixed Income  Amihud Total\n",
      "Amihud Agriculturals                1.000000        -0.050168         0.152055      -0.068740             0.130239      0.368583\n",
      "Amihud Energies                    -0.050168         1.000000        -0.168053       0.075141             0.136036     -0.240668\n",
      "Amihud Equities                     0.152055        -0.168053         1.000000      -0.180850             0.037107      0.647540\n",
      "Amihud Metals                      -0.068740         0.075141        -0.180850       1.000000            -0.170701     -0.469949\n",
      "Amihud Fixed Income                 0.130239         0.136036         0.037107      -0.170701             1.000000     -0.006238\n",
      "Amihud Total                        0.368583        -0.240668         0.647540      -0.469949            -0.006238      1.000000\n",
      "\n",
      "\n",
      "\n"
     ]
    }
   ],
   "source": [
    "print res.summary()"
   ]
  },
  {
   "cell_type": "markdown",
   "metadata": {},
   "source": [
    "# FHT method"
   ]
  },
  {
   "cell_type": "code",
   "execution_count": 36,
   "metadata": {},
   "outputs": [],
   "source": [
    "FHT=calculate_FHT(cleansed)"
   ]
  },
  {
   "cell_type": "code",
   "execution_count": 37,
   "metadata": {
    "collapsed": true
   },
   "outputs": [],
   "source": [
    "data=calc_zscore_expanding_window(FHT.dropna(how='all'),3).dropna(how='all')"
   ]
  },
  {
   "cell_type": "code",
   "execution_count": 38,
   "metadata": {
    "collapsed": true
   },
   "outputs": [],
   "source": [
    "sector_zscores={}\n",
    "d_map=sector_map(amihud)\n",
    "for sect in d_map.keys():\n",
    "    sector_zscores[sect]=data[d_map[sect]].dropna(how='all')"
   ]
  },
  {
   "cell_type": "code",
   "execution_count": 39,
   "metadata": {},
   "outputs": [
    {
     "name": "stderr",
     "output_type": "stream",
     "text": [
      "/Users/mrefermat/anaconda/lib/python2.7/site-packages/ipykernel_launcher.py:13: FutureWarning: set_axis currently defaults to operating inplace.\n",
      "This will change in a future version of pandas, use inplace=True to avoid this warning.\n",
      "  del sys.path[0]\n"
     ]
    }
   ],
   "source": [
    "sector_PC={}\n",
    "sector_variance_explained=pd.DataFrame()\n",
    "\n",
    "no_pc=3\n",
    "for sect in d_map.keys():\n",
    "    try: \n",
    "        PPCA=p.PPCA()\n",
    "        PPCA.fit(np.array(sector_zscores[sect]),d=no_pc)\n",
    "        sector_variance_explained[sect] = PPCA.var_exp\n",
    "        pcs=pd.DataFrame()\n",
    "        for i in range(0,no_pc,1):\n",
    "            x=pd.DataFrame(PPCA.C.T[i]*PPCA.data).sum(axis=1)\n",
    "            x.set_axis(sector_zscores[sect].index)\n",
    "            pcs[i]=x\n",
    "        sector_PC[sect] = pcs\n",
    "    except:\n",
    "        print sect"
   ]
  },
  {
   "cell_type": "code",
   "execution_count": 40,
   "metadata": {},
   "outputs": [
    {
     "name": "stderr",
     "output_type": "stream",
     "text": [
      "/Users/mrefermat/anaconda/lib/python2.7/site-packages/ipykernel_launcher.py:7: FutureWarning: set_axis currently defaults to operating inplace.\n",
      "This will change in a future version of pandas, use inplace=True to avoid this warning.\n",
      "  import sys\n"
     ]
    }
   ],
   "source": [
    "PPCA=p.PPCA()\n",
    "PPCA.fit(np.array(data),d=no_pc)\n",
    "sector_variance_explained[sect] = PPCA.var_exp\n",
    "pcs=pd.DataFrame()\n",
    "for i in range(0,no_pc,1):\n",
    "    x=pd.DataFrame(PPCA.C.T[i]*PPCA.data).sum(axis=1)\n",
    "    x.set_axis(sector_zscores[sect].index)\n",
    "    pcs[i]=x\n",
    "sector_PC['Total'] = pcs\n"
   ]
  },
  {
   "cell_type": "code",
   "execution_count": 41,
   "metadata": {},
   "outputs": [],
   "source": [
    "prin_factors_FHT=pd.DataFrame()\n",
    "for sector in sector_PC.keys():\n",
    "    prin_factors_FHT[sector]=sector_PC[sector].mean(axis=1)"
   ]
  },
  {
   "cell_type": "code",
   "execution_count": 42,
   "metadata": {},
   "outputs": [
    {
     "name": "stdout",
     "output_type": "stream",
     "text": [
      "  Summary of Regression Results   \n",
      "==================================\n",
      "Model:                         VAR\n",
      "Method:                        OLS\n",
      "Date:           Sat, 19, May, 2018\n",
      "Time:                     13:22:16\n",
      "--------------------------------------------------------------------\n",
      "No. of Equations:         7.00000    BIC:                   -1.91222\n",
      "Nobs:                     204.000    HQIC:                  -2.45462\n",
      "Log likelihood:          -1682.29    FPE:                  0.0594395\n",
      "AIC:                     -2.82308    Det(Omega_mle):       0.0454083\n",
      "--------------------------------------------------------------------\n",
      "Results for equation Agriculturals\n",
      "===================================================================================\n",
      "                      coefficient       std. error           t-stat            prob\n",
      "-----------------------------------------------------------------------------------\n",
      "const                   -0.232511         0.088295           -2.633           0.009\n",
      "L1.Agriculturals         0.360961         0.071676            5.036           0.000\n",
      "L1.Currencies            0.042838         0.125075            0.342           0.732\n",
      "L1.Energies             -0.009019         0.083658           -0.108           0.914\n",
      "L1.Equities              0.005980         0.116197            0.051           0.959\n",
      "L1.Metals                0.122592         0.060306            2.033           0.043\n",
      "L1.Fixed Income          0.321246         0.109194            2.942           0.004\n",
      "L1.Total                -0.028987         0.077152           -0.376           0.708\n",
      "===================================================================================\n",
      "\n",
      "Results for equation Currencies\n",
      "===================================================================================\n",
      "                      coefficient       std. error           t-stat            prob\n",
      "-----------------------------------------------------------------------------------\n",
      "const                   -0.022583         0.082895           -0.272           0.786\n",
      "L1.Agriculturals        -0.095252         0.067292           -1.415           0.159\n",
      "L1.Currencies            0.084596         0.117425            0.720           0.472\n",
      "L1.Energies              0.214870         0.078541            2.736           0.007\n",
      "L1.Equities              0.109272         0.109090            1.002           0.318\n",
      "L1.Metals                0.029252         0.056617            0.517           0.606\n",
      "L1.Fixed Income         -0.028744         0.102515           -0.280           0.779\n",
      "L1.Total                 0.039166         0.072433            0.541           0.589\n",
      "===================================================================================\n",
      "\n",
      "Results for equation Energies\n",
      "===================================================================================\n",
      "                      coefficient       std. error           t-stat            prob\n",
      "-----------------------------------------------------------------------------------\n",
      "const                   -0.074507         0.069923           -1.066           0.288\n",
      "L1.Agriculturals        -0.049270         0.056761           -0.868           0.386\n",
      "L1.Currencies            0.097412         0.099049            0.983           0.327\n",
      "L1.Energies              0.450941         0.066250            6.807           0.000\n",
      "L1.Equities              0.000308         0.092018            0.003           0.997\n",
      "L1.Metals               -0.026344         0.047757           -0.552           0.582\n",
      "L1.Fixed Income          0.091242         0.086472            1.055           0.293\n",
      "L1.Total                -0.060881         0.061098           -0.996           0.320\n",
      "===================================================================================\n",
      "\n",
      "Results for equation Equities\n",
      "===================================================================================\n",
      "                      coefficient       std. error           t-stat            prob\n",
      "-----------------------------------------------------------------------------------\n",
      "const                    0.144797         0.105788            1.369           0.173\n",
      "L1.Agriculturals        -0.060793         0.085876           -0.708           0.480\n",
      "L1.Currencies           -0.080963         0.149853           -0.540           0.590\n",
      "L1.Energies              0.055508         0.100231            0.554           0.580\n",
      "L1.Equities              0.439169         0.139217            3.155           0.002\n",
      "L1.Metals                0.064092         0.072253            0.887           0.376\n",
      "L1.Fixed Income          0.136726         0.130826            1.045           0.297\n",
      "L1.Total                 0.117791         0.092436            1.274           0.204\n",
      "===================================================================================\n",
      "\n",
      "Results for equation Metals\n",
      "===================================================================================\n",
      "                      coefficient       std. error           t-stat            prob\n",
      "-----------------------------------------------------------------------------------\n",
      "const                   -0.239284         0.087863           -2.723           0.007\n",
      "L1.Agriculturals        -0.083634         0.071325           -1.173           0.242\n",
      "L1.Currencies            0.036005         0.124462            0.289           0.773\n",
      "L1.Energies             -0.065070         0.083248           -0.782           0.435\n",
      "L1.Equities             -0.170733         0.115627           -1.477           0.141\n",
      "L1.Metals                0.602627         0.060010           10.042           0.000\n",
      "L1.Fixed Income          0.274360         0.108659            2.525           0.012\n",
      "L1.Total                 0.073116         0.076774            0.952           0.342\n",
      "===================================================================================\n",
      "\n",
      "Results for equation Fixed Income\n",
      "===================================================================================\n",
      "                      coefficient       std. error           t-stat            prob\n",
      "-----------------------------------------------------------------------------------\n",
      "const                    0.481540         0.070196            6.860           0.000\n",
      "L1.Agriculturals         0.087467         0.056983            1.535           0.126\n",
      "L1.Currencies           -0.016983         0.099435           -0.171           0.865\n",
      "L1.Energies              0.037525         0.066509            0.564           0.573\n",
      "L1.Equities              0.116467         0.092378            1.261           0.209\n",
      "L1.Metals                0.066895         0.047944            1.395           0.165\n",
      "L1.Fixed Income          0.091797         0.086810            1.057           0.292\n",
      "L1.Total                 0.035345         0.061336            0.576           0.565\n",
      "===================================================================================\n",
      "\n",
      "Results for equation Total\n",
      "===================================================================================\n",
      "                      coefficient       std. error           t-stat            prob\n",
      "-----------------------------------------------------------------------------------\n",
      "const                    0.293360         0.161171            1.820           0.070\n",
      "L1.Agriculturals         0.090381         0.130834            0.691           0.491\n",
      "L1.Currencies           -0.034728         0.228306           -0.152           0.879\n",
      "L1.Energies             -0.283011         0.152706           -1.853           0.065\n",
      "L1.Equities              0.280497         0.212101            1.322           0.188\n",
      "L1.Metals                0.062071         0.110080            0.564           0.573\n",
      "L1.Fixed Income          0.253554         0.199318            1.272           0.205\n",
      "L1.Total                 0.314373         0.140830            2.232           0.027\n",
      "===================================================================================\n",
      "\n",
      "Correlation matrix of residuals\n",
      "                 Agriculturals  Currencies  Energies  Equities    Metals  Fixed Income     Total\n",
      "Agriculturals         1.000000    0.155233 -0.212911  0.351713  0.173039      0.318207  0.345819\n",
      "Currencies            0.155233    1.000000 -0.135693  0.439046  0.005961      0.164650 -0.227335\n",
      "Energies             -0.212911   -0.135693  1.000000 -0.339935 -0.171048     -0.106590 -0.301380\n",
      "Equities              0.351713    0.439046 -0.339935  1.000000  0.236013      0.449528  0.625556\n",
      "Metals                0.173039    0.005961 -0.171048  0.236013  1.000000      0.014926  0.202023\n",
      "Fixed Income          0.318207    0.164650 -0.106590  0.449528  0.014926      1.000000  0.479994\n",
      "Total                 0.345819   -0.227335 -0.301380  0.625556  0.202023      0.479994  1.000000\n",
      "\n",
      "\n",
      "\n"
     ]
    }
   ],
   "source": [
    "resFHT = VAR.VAR(endog=prin_factors_FHT['2000':]).fit()\n",
    "print resFHT.summary()"
   ]
  },
  {
   "cell_type": "code",
   "execution_count": null,
   "metadata": {},
   "outputs": [],
   "source": []
  },
  {
   "cell_type": "code",
   "execution_count": null,
   "metadata": {},
   "outputs": [],
   "source": []
  }
 ],
 "metadata": {
  "kernelspec": {
   "display_name": "Python 2",
   "language": "python",
   "name": "python2"
  },
  "language_info": {
   "codemirror_mode": {
    "name": "ipython",
    "version": 2
   },
   "file_extension": ".py",
   "mimetype": "text/x-python",
   "name": "python",
   "nbconvert_exporter": "python",
   "pygments_lexer": "ipython2",
   "version": "2.7.12"
  }
 },
 "nbformat": 4,
 "nbformat_minor": 2
}
