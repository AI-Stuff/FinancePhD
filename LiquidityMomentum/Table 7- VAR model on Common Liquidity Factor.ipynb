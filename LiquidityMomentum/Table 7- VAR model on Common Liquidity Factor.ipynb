{
 "cells": [
  {
   "cell_type": "code",
   "execution_count": 1,
   "metadata": {},
   "outputs": [
    {
     "name": "stderr",
     "output_type": "stream",
     "text": [
      "/Users/mrefermat/anaconda/lib/python2.7/site-packages/IPython/utils/traitlets.py:5: UserWarning: IPython.utils.traitlets has moved to a top-level traitlets package.\n",
      "  warn(\"IPython.utils.traitlets has moved to a top-level traitlets package.\")\n",
      "/Users/mrefermat/anaconda/lib/python2.7/site-packages/IPython/kernel/__init__.py:13: ShimWarning: The `IPython.kernel` package has been deprecated since IPython 4.0.You should import from ipykernel or jupyter_client instead.\n",
      "  \"You should import from ipykernel or jupyter_client instead.\", ShimWarning)\n"
     ]
    }
   ],
   "source": [
    "%matplotlib inline\n",
    "import math\n",
    "import pandas as pd\n",
    "from tsmom_model import *\n",
    "import numpy as np\n",
    "from datetime import datetime\n",
    "import statsmodels.tsa.vector_ar.var_model as VAR\n",
    "import PPCA_MR as p\n",
    "import statsmodels.api as sm"
   ]
  },
  {
   "cell_type": "code",
   "execution_count": 2,
   "metadata": {
    "collapsed": true
   },
   "outputs": [],
   "source": [
    "import pylab\n",
    "sns.set(font_scale=2)\n",
    "pylab.rcParams['figure.figsize'] = (24, 18)"
   ]
  },
  {
   "cell_type": "markdown",
   "metadata": {},
   "source": [
    "# Hand cleansed\n",
    "Hand cleaned to removed duplicates"
   ]
  },
  {
   "cell_type": "code",
   "execution_count": 3,
   "metadata": {},
   "outputs": [
    {
     "name": "stderr",
     "output_type": "stream",
     "text": [
      "tsmom_model.py:158: FutureWarning: how in .resample() is deprecated\n",
      "the new syntax is .resample(...).last()\n",
      "  data=pd.read_csv('./Price.csv',index_col=0,parse_dates=['Date']).resample(rule='d',how='last')\n",
      "tsmom_model.py:160: FutureWarning: how in .resample() is deprecated\n",
      "the new syntax is .resample(...).last()\n",
      "  qd=pd.read_csv('./liquid_contracts.csv',index_col=0,parse_dates=['Date']).resample(rule='d',how='last')\n"
     ]
    }
   ],
   "source": [
    "cleansed=load_amihud_markets_price()"
   ]
  },
  {
   "cell_type": "markdown",
   "metadata": {},
   "source": [
    "# Amihud methodology\n",
    "\n",
    "Amihud (2002) developed the illiquidity measure expressed by:\n",
    "\n",
    "$$ Amihud =\\frac{1}{N} \\sum \\frac{|r_t|}{\\text{dvol}_t} $$\n",
    "\n",
    "where $r_t$ is the return on day $t$ and $Volume_t$ is the dollar volume on day $t$. \n",
    "\n",
    "The benefit of taking the daily return is to weight the move by change of price and the volume.\n"
   ]
  },
  {
   "cell_type": "code",
   "execution_count": 4,
   "metadata": {},
   "outputs": [
    {
     "name": "stderr",
     "output_type": "stream",
     "text": [
      "tsmom_model.py:42: FutureWarning: how in .resample() is deprecated\n",
      "the new syntax is .resample(...).mean()\n",
      "  data=pd.read_csv('./Volume.csv',index_col=0,parse_dates=['Date']).resample(rule='d',how='mean')\n",
      "tsmom_model.py:44: FutureWarning: how in .resample() is deprecated\n",
      "the new syntax is .resample(...).sum()\n",
      "  v=pd.read_csv('./volume_data.csv',index_col=0,parse_dates=['Date']).resample(rule='d',how='sum')\n",
      "tsmom_model.py:46: FutureWarning: pd.rolling_mean is deprecated for DataFrame and will be removed in a future version, replace with \n",
      "\tDataFrame.rolling(min_periods=100,window=250,center=False).mean()\n",
      "  volume=pd.rolling_mean(v,250,min_periods=100).resample(rule='d',how='mean')[:'2016']\n",
      "tsmom_model.py:46: FutureWarning: how in .resample() is deprecated\n",
      "the new syntax is .resample(...).mean()\n",
      "  volume=pd.rolling_mean(v,250,min_periods=100).resample(rule='d',how='mean')[:'2016']\n",
      "tsmom_model.py:49: FutureWarning: pd.rolling_mean is deprecated for Series and will be removed in a future version, replace with \n",
      "\tSeries.rolling(min_periods=50,window=250,center=False).mean()\n",
      "  volume[name]=pd.rolling_mean(v2[x],250,min_periods=50).resample(rule='d',how='mean')\n",
      "tsmom_model.py:49: FutureWarning: how in .resample() is deprecated\n",
      "the new syntax is .resample(...).mean()\n",
      "  volume[name]=pd.rolling_mean(v2[x],250,min_periods=50).resample(rule='d',how='mean')\n",
      "tsmom_model.py:76: FutureWarning: how in .resample() is deprecated\n",
      "the new syntax is .resample(...).last()\n",
      "  fx=fx.resample(rule='d',how='last')\n",
      "tsmom_model.py:77: FutureWarning: how in .resample() is deprecated\n",
      "the new syntax is .resample(...).last()\n",
      "  px=cleansed.resample(rule='d',how='last')\n",
      "tsmom_model.py:85: FutureWarning: how in .resample() is deprecated\n",
      "the new syntax is .resample(...).mean()\n",
      "  x= (cleansed.pct_change().abs()/ total_vol).resample(rule='m',how='mean')\n"
     ]
    }
   ],
   "source": [
    "amihud=calculate_amihud_liquidity(cleansed)[:'2016'] "
   ]
  },
  {
   "cell_type": "markdown",
   "metadata": {},
   "source": [
    "# Academic papers\n",
    "Based on Illin, A., Raiko, T. 2010 paper called \"Practical Approaches to Principal Component Analysis in the Presence of Missing Values\"\n",
    "\n",
    "Tipping and Bishop (1999) introducted probablistic formulation of PCA (PPCA)\n",
    "\n",
    "\n",
    "Use a flavor of Probabilistic PCA that is robust to missing data (see Ilin and Raiko 2010). Rather than the vanilla one-shot SVD, PPCA uses an iterative EM procedure/fixed point algorithm. From an initial guess, it’ll alternatively interpolate missing data and update the components until convergence.\n",
    "\n",
    "On a side note, PPCA interpolates using information from all series, making it a multivariate interpolator. Be careful though, fitting the model to too many components will likely lead to overfitting problems in the interpolated data.\n",
    "\n",
    "Also note that I am using the standardization that is mentioned in Korajecyk and Sadka (2008) of expanding zscores\n"
   ]
  },
  {
   "cell_type": "code",
   "execution_count": 5,
   "metadata": {},
   "outputs": [
    {
     "name": "stderr",
     "output_type": "stream",
     "text": [
      "tsmom_model.py:273: FutureWarning: pd.rolling_mean is deprecated for DataFrame and will be removed in a future version, replace with \n",
      "\tDataFrame.rolling(min_periods=3,window=100000000,center=False).mean()\n",
      "  return (df-pd.rolling_mean(df,100000000,min_periods=min_per))/pd.rolling_std(df,100000000,min_periods=min_per)\n",
      "tsmom_model.py:273: FutureWarning: pd.rolling_std is deprecated for DataFrame and will be removed in a future version, replace with \n",
      "\tDataFrame.rolling(min_periods=3,window=100000000,center=False).std()\n",
      "  return (df-pd.rolling_mean(df,100000000,min_periods=min_per))/pd.rolling_std(df,100000000,min_periods=min_per)\n"
     ]
    }
   ],
   "source": [
    "#data=calc_zscore_ew(amihud.dropna(how='all')).dropna(how='all')\n",
    "data=calc_zscore_expanding_window(amihud.dropna(how='all'),3).dropna(how='all')"
   ]
  },
  {
   "cell_type": "code",
   "execution_count": 6,
   "metadata": {
    "collapsed": true
   },
   "outputs": [],
   "source": [
    "sector_zscores={}\n",
    "d_map=sector_map(amihud)\n",
    "for sect in d_map.keys():\n",
    "    sector_zscores[sect]=data[d_map[sect]].dropna(how='all')"
   ]
  },
  {
   "cell_type": "code",
   "execution_count": 7,
   "metadata": {},
   "outputs": [
    {
     "name": "stderr",
     "output_type": "stream",
     "text": [
      "/Users/mrefermat/anaconda/lib/python2.7/site-packages/ipykernel_launcher.py:13: FutureWarning: set_axis currently defaults to operating inplace.\n",
      "This will change in a future version of pandas, use inplace=True to avoid this warning.\n",
      "  del sys.path[0]\n"
     ]
    }
   ],
   "source": [
    "sector_PC={}\n",
    "sector_variance_explained=pd.DataFrame()\n",
    "\n",
    "no_pc=3\n",
    "for sect in d_map.keys():\n",
    "    try: \n",
    "        PPCA=p.PPCA()\n",
    "        PPCA.fit(np.array(sector_zscores[sect]),d=no_pc)\n",
    "        sector_variance_explained[sect] = PPCA.var_exp\n",
    "        pcs=pd.DataFrame()\n",
    "        for i in range(0,no_pc,1):\n",
    "            x=pd.DataFrame(PPCA.C.T[i]*PPCA.data).sum(axis=1)\n",
    "            x.set_axis(sector_zscores[sect].index)\n",
    "            pcs[i]=x\n",
    "        sector_PC[sect] = pcs\n",
    "    except:\n",
    "        print sect"
   ]
  },
  {
   "cell_type": "code",
   "execution_count": 8,
   "metadata": {},
   "outputs": [
    {
     "name": "stderr",
     "output_type": "stream",
     "text": [
      "/Users/mrefermat/anaconda/lib/python2.7/site-packages/ipykernel_launcher.py:7: FutureWarning: set_axis currently defaults to operating inplace.\n",
      "This will change in a future version of pandas, use inplace=True to avoid this warning.\n",
      "  import sys\n"
     ]
    }
   ],
   "source": [
    "PPCA=p.PPCA()\n",
    "PPCA.fit(np.array(data),d=no_pc)\n",
    "sector_variance_explained[sect] = PPCA.var_exp\n",
    "pcs=pd.DataFrame()\n",
    "for i in range(0,no_pc,1):\n",
    "    x=pd.DataFrame(PPCA.C.T[i]*PPCA.data).sum(axis=1)\n",
    "    x.set_axis(sector_zscores[sect].index)\n",
    "    pcs[i]=x\n",
    "sector_PC['All Market'] = pcs"
   ]
  },
  {
   "cell_type": "code",
   "execution_count": 9,
   "metadata": {},
   "outputs": [],
   "source": [
    "prin_factors=pd.DataFrame()\n",
    "for sector in sector_PC.keys():\n",
    "    prin_factors['Amihud '+sector]=sector_PC[sector].mean(axis=1)"
   ]
  },
  {
   "cell_type": "code",
   "execution_count": 10,
   "metadata": {},
   "outputs": [],
   "source": [
    "res = VAR.VAR(endog=prin_factors).fit()"
   ]
  },
  {
   "cell_type": "code",
   "execution_count": 11,
   "metadata": {},
   "outputs": [
    {
     "name": "stdout",
     "output_type": "stream",
     "text": [
      "  Summary of Regression Results   \n",
      "==================================\n",
      "Model:                         VAR\n",
      "Method:                        OLS\n",
      "Date:           Sat, 12, May, 2018\n",
      "Time:                     07:47:54\n",
      "--------------------------------------------------------------------\n",
      "No. of Equations:         5.00000    BIC:                   -5.70304\n",
      "Nobs:                     208.000    HQIC:                  -5.98977\n",
      "Log likelihood:          -802.517    FPE:                 0.00206148\n",
      "AIC:                     -6.18441    Det(Omega_mle):      0.00178824\n",
      "--------------------------------------------------------------------\n",
      "Results for equation Amihud Commodities\n",
      "=========================================================================================\n",
      "                            coefficient       std. error           t-stat            prob\n",
      "-----------------------------------------------------------------------------------------\n",
      "const                         -0.167068         0.115175           -1.451           0.148\n",
      "L1.Amihud Commodities          0.780191         0.039786           19.609           0.000\n",
      "L1.Amihud Equities             0.068725         0.066127            1.039           0.300\n",
      "L1.Amihud Currencies          -0.246168         0.062585           -3.933           0.000\n",
      "L1.Amihud All Market          -0.094467         0.053070           -1.780           0.077\n",
      "L1.Amihud Fixed Income         0.108266         0.074948            1.445           0.150\n",
      "=========================================================================================\n",
      "\n",
      "Results for equation Amihud Equities\n",
      "=========================================================================================\n",
      "                            coefficient       std. error           t-stat            prob\n",
      "-----------------------------------------------------------------------------------------\n",
      "const                          0.135961         0.117191            1.160           0.247\n",
      "L1.Amihud Commodities         -0.011755         0.040483           -0.290           0.772\n",
      "L1.Amihud Equities             0.730542         0.067284           10.858           0.000\n",
      "L1.Amihud Currencies           0.062021         0.063681            0.974           0.331\n",
      "L1.Amihud All Market           0.093518         0.053999            1.732           0.085\n",
      "L1.Amihud Fixed Income        -0.022784         0.076259           -0.299           0.765\n",
      "=========================================================================================\n",
      "\n",
      "Results for equation Amihud Currencies\n",
      "=========================================================================================\n",
      "                            coefficient       std. error           t-stat            prob\n",
      "-----------------------------------------------------------------------------------------\n",
      "const                          0.158238         0.069371            2.281           0.024\n",
      "L1.Amihud Commodities          0.036391         0.023964            1.519           0.130\n",
      "L1.Amihud Equities             0.025604         0.039829            0.643           0.521\n",
      "L1.Amihud Currencies           0.917753         0.037696           24.346           0.000\n",
      "L1.Amihud All Market          -0.014196         0.031965           -0.444           0.657\n",
      "L1.Amihud Fixed Income        -0.076259         0.045142           -1.689           0.093\n",
      "=========================================================================================\n",
      "\n",
      "Results for equation Amihud All Market\n",
      "=========================================================================================\n",
      "                            coefficient       std. error           t-stat            prob\n",
      "-----------------------------------------------------------------------------------------\n",
      "const                          0.457425         0.124239            3.682           0.000\n",
      "L1.Amihud Commodities         -0.011161         0.042918           -0.260           0.795\n",
      "L1.Amihud Equities             0.009052         0.071331            0.127           0.899\n",
      "L1.Amihud Currencies          -0.138923         0.067511           -2.058           0.041\n",
      "L1.Amihud All Market           0.938105         0.057247           16.387           0.000\n",
      "L1.Amihud Fixed Income        -0.193235         0.080846           -2.390           0.018\n",
      "=========================================================================================\n",
      "\n",
      "Results for equation Amihud Fixed Income\n",
      "=========================================================================================\n",
      "                            coefficient       std. error           t-stat            prob\n",
      "-----------------------------------------------------------------------------------------\n",
      "const                          0.527610         0.112733            4.680           0.000\n",
      "L1.Amihud Commodities          0.054783         0.038943            1.407           0.161\n",
      "L1.Amihud Equities             0.011212         0.064725            0.173           0.863\n",
      "L1.Amihud Currencies          -0.111792         0.061258           -1.825           0.069\n",
      "L1.Amihud All Market           0.097419         0.051944            1.875           0.062\n",
      "L1.Amihud Fixed Income         0.379103         0.073358            5.168           0.000\n",
      "=========================================================================================\n",
      "\n",
      "Correlation matrix of residuals\n",
      "                       Amihud Commodities  Amihud Equities  Amihud Currencies  Amihud All Market  Amihud Fixed Income\n",
      "Amihud Commodities               1.000000         0.099834          -0.056792           0.050802             0.133022\n",
      "Amihud Equities                  0.099834         1.000000           0.124415           0.677810             0.165235\n",
      "Amihud Currencies               -0.056792         0.124415           1.000000           0.093952             0.137788\n",
      "Amihud All Market                0.050802         0.677810           0.093952           1.000000             0.463856\n",
      "Amihud Fixed Income              0.133022         0.165235           0.137788           0.463856             1.000000\n",
      "\n",
      "\n",
      "\n"
     ]
    }
   ],
   "source": [
    "print res.summary()"
   ]
  },
  {
   "cell_type": "code",
   "execution_count": null,
   "metadata": {},
   "outputs": [],
   "source": []
  },
  {
   "cell_type": "code",
   "execution_count": null,
   "metadata": {},
   "outputs": [],
   "source": []
  },
  {
   "cell_type": "code",
   "execution_count": null,
   "metadata": {},
   "outputs": [],
   "source": []
  },
  {
   "cell_type": "code",
   "execution_count": null,
   "metadata": {},
   "outputs": [],
   "source": []
  },
  {
   "cell_type": "code",
   "execution_count": null,
   "metadata": {},
   "outputs": [],
   "source": []
  },
  {
   "cell_type": "code",
   "execution_count": null,
   "metadata": {},
   "outputs": [],
   "source": []
  },
  {
   "cell_type": "code",
   "execution_count": null,
   "metadata": {},
   "outputs": [],
   "source": []
  },
  {
   "cell_type": "markdown",
   "metadata": {},
   "source": [
    "# Canonical Correlations of common factors\n",
    "\n",
    "The sample includes XXX markets across YY asset classes.  Source: Reuters and Quandl."
   ]
  },
  {
   "cell_type": "code",
   "execution_count": 9,
   "metadata": {
    "collapsed": true
   },
   "outputs": [],
   "source": [
    "\n",
    "    "
   ]
  },
  {
   "cell_type": "markdown",
   "metadata": {},
   "source": [
    "# FHT method"
   ]
  },
  {
   "cell_type": "code",
   "execution_count": 12,
   "metadata": {},
   "outputs": [
    {
     "name": "stderr",
     "output_type": "stream",
     "text": [
      "tsmom_model.py:283: FutureWarning: how in .resample() is deprecated\n",
      "the new syntax is .resample(...).count()\n",
      "  nonzero=x[x==0].resample(rule='m',how='count')\n",
      "tsmom_model.py:284: FutureWarning: how in .resample() is deprecated\n",
      "the new syntax is .resample(...).count()\n",
      "  Z=(nonzero/x.resample(rule='m',how='count')).dropna()\n",
      "tsmom_model.py:285: FutureWarning: pd.rolling_std is deprecated for Series and will be removed in a future version, replace with \n",
      "\tSeries.rolling(window=12,center=False).std()\n",
      "  data[c]=pd.Series(norm.cdf((1+Z)/2.),index=Z.index)*2*pd.rolling_std(x,12).resample(rule='m',how='last')\n",
      "tsmom_model.py:285: FutureWarning: how in .resample() is deprecated\n",
      "the new syntax is .resample(...).last()\n",
      "  data[c]=pd.Series(norm.cdf((1+Z)/2.),index=Z.index)*2*pd.rolling_std(x,12).resample(rule='m',how='last')\n"
     ]
    }
   ],
   "source": [
    "FHT=calculate_FHT(cleansed)"
   ]
  },
  {
   "cell_type": "code",
   "execution_count": 13,
   "metadata": {
    "collapsed": true
   },
   "outputs": [],
   "source": [
    "data=calc_zscore_expanding_window(FHT.dropna(how='all'),3).dropna(how='all')"
   ]
  },
  {
   "cell_type": "code",
   "execution_count": 14,
   "metadata": {
    "collapsed": true
   },
   "outputs": [],
   "source": [
    "sector_zscores={}\n",
    "d_map=sector_map(amihud)\n",
    "for sect in d_map.keys():\n",
    "    sector_zscores[sect]=data[d_map[sect]].dropna(how='all')"
   ]
  },
  {
   "cell_type": "code",
   "execution_count": 15,
   "metadata": {},
   "outputs": [
    {
     "name": "stderr",
     "output_type": "stream",
     "text": [
      "/Users/mrefermat/anaconda/lib/python2.7/site-packages/ipykernel_launcher.py:13: FutureWarning: set_axis currently defaults to operating inplace.\n",
      "This will change in a future version of pandas, use inplace=True to avoid this warning.\n",
      "  del sys.path[0]\n"
     ]
    }
   ],
   "source": [
    "sector_PC={}\n",
    "sector_variance_explained=pd.DataFrame()\n",
    "\n",
    "no_pc=3\n",
    "for sect in d_map.keys():\n",
    "    try: \n",
    "        PPCA=p.PPCA()\n",
    "        PPCA.fit(np.array(sector_zscores[sect]),d=no_pc)\n",
    "        sector_variance_explained[sect] = PPCA.var_exp\n",
    "        pcs=pd.DataFrame()\n",
    "        for i in range(0,no_pc,1):\n",
    "            x=pd.DataFrame(PPCA.C.T[i]*PPCA.data).sum(axis=1)\n",
    "            x.set_axis(sector_zscores[sect].index)\n",
    "            pcs[i]=x\n",
    "        sector_PC[sect] = pcs\n",
    "    except:\n",
    "        print sect"
   ]
  },
  {
   "cell_type": "code",
   "execution_count": 16,
   "metadata": {},
   "outputs": [],
   "source": [
    "prin_factors_FHT=pd.DataFrame()\n",
    "for sector in sector_PC.keys():\n",
    "    prin_factors_FHT[sector]=sector_PC[sector].mean(axis=1)"
   ]
  },
  {
   "cell_type": "code",
   "execution_count": 19,
   "metadata": {},
   "outputs": [
    {
     "name": "stdout",
     "output_type": "stream",
     "text": [
      "  Summary of Regression Results   \n",
      "==================================\n",
      "Model:                         VAR\n",
      "Method:                        OLS\n",
      "Date:           Sat, 12, May, 2018\n",
      "Time:                     07:49:58\n",
      "--------------------------------------------------------------------\n",
      "No. of Equations:         4.00000    BIC:                  0.0105671\n",
      "Nobs:                     204.000    HQIC:                 -0.183147\n",
      "Log likelihood:          -1105.75    FPE:                   0.730008\n",
      "AIC:                    -0.314739    Det(Omega_mle):        0.662618\n",
      "--------------------------------------------------------------------\n",
      "Results for equation Commodities\n",
      "==================================================================================\n",
      "                     coefficient       std. error           t-stat            prob\n",
      "----------------------------------------------------------------------------------\n",
      "const                   0.510698         0.146959            3.475           0.001\n",
      "L1.Commodities          0.425542         0.065682            6.479           0.000\n",
      "L1.Equities            -0.045113         0.077122           -0.585           0.559\n",
      "L1.Currencies          -0.021365         0.102308           -0.209           0.835\n",
      "L1.Fixed Income        -0.318427         0.132420           -2.405           0.017\n",
      "==================================================================================\n",
      "\n",
      "Results for equation Equities\n",
      "==================================================================================\n",
      "                     coefficient       std. error           t-stat            prob\n",
      "----------------------------------------------------------------------------------\n",
      "const                  -0.235769         0.147007           -1.604           0.110\n",
      "L1.Commodities         -0.148654         0.065703           -2.263           0.025\n",
      "L1.Equities             0.332954         0.077147            4.316           0.000\n",
      "L1.Currencies          -0.151949         0.102341           -1.485           0.139\n",
      "L1.Fixed Income         0.112614         0.132463            0.850           0.396\n",
      "==================================================================================\n",
      "\n",
      "Results for equation Currencies\n",
      "==================================================================================\n",
      "                     coefficient       std. error           t-stat            prob\n",
      "----------------------------------------------------------------------------------\n",
      "const                   0.063662         0.102904            0.619           0.537\n",
      "L1.Commodities          0.006553         0.045992            0.142           0.887\n",
      "L1.Equities            -0.066969         0.054002           -1.240           0.216\n",
      "L1.Currencies           0.132907         0.071638            1.855           0.065\n",
      "L1.Fixed Income        -0.016792         0.092724           -0.181           0.856\n",
      "==================================================================================\n",
      "\n",
      "Results for equation Fixed Income\n",
      "==================================================================================\n",
      "                     coefficient       std. error           t-stat            prob\n",
      "----------------------------------------------------------------------------------\n",
      "const                   0.709853         0.084282            8.422           0.000\n",
      "L1.Commodities         -0.108519         0.037669           -2.881           0.004\n",
      "L1.Equities             0.102373         0.044229            2.315           0.022\n",
      "L1.Currencies          -0.106946         0.058674           -1.823           0.070\n",
      "L1.Fixed Income         0.140121         0.075943            1.845           0.067\n",
      "==================================================================================\n",
      "\n",
      "Correlation matrix of residuals\n",
      "                Commodities  Equities  Currencies  Fixed Income\n",
      "Commodities        1.000000 -0.238356    0.053638     -0.135960\n",
      "Equities          -0.238356  1.000000    0.249829      0.340367\n",
      "Currencies         0.053638  0.249829    1.000000     -0.132930\n",
      "Fixed Income      -0.135960  0.340367   -0.132930      1.000000\n",
      "\n",
      "\n",
      "\n"
     ]
    }
   ],
   "source": [
    "resFHT = VAR.VAR(endog=prin_factors_FHT['2000':]).fit()\n",
    "print resFHT.summary()"
   ]
  }
 ],
 "metadata": {
  "kernelspec": {
   "display_name": "Python 2",
   "language": "python",
   "name": "python2"
  },
  "language_info": {
   "codemirror_mode": {
    "name": "ipython",
    "version": 2
   },
   "file_extension": ".py",
   "mimetype": "text/x-python",
   "name": "python",
   "nbconvert_exporter": "python",
   "pygments_lexer": "ipython2",
   "version": "2.7.12"
  }
 },
 "nbformat": 4,
 "nbformat_minor": 2
}
