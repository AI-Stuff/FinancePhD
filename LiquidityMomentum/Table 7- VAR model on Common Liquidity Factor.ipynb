{
 "cells": [
  {
   "cell_type": "code",
   "execution_count": 1,
   "metadata": {},
   "outputs": [
    {
     "name": "stderr",
     "output_type": "stream",
     "text": [
      "/Users/mrefermat/anaconda/lib/python2.7/site-packages/IPython/utils/traitlets.py:5: UserWarning: IPython.utils.traitlets has moved to a top-level traitlets package.\n",
      "  warn(\"IPython.utils.traitlets has moved to a top-level traitlets package.\")\n",
      "/Users/mrefermat/anaconda/lib/python2.7/site-packages/IPython/kernel/__init__.py:13: ShimWarning: The `IPython.kernel` package has been deprecated since IPython 4.0.You should import from ipykernel or jupyter_client instead.\n",
      "  \"You should import from ipykernel or jupyter_client instead.\", ShimWarning)\n"
     ]
    }
   ],
   "source": [
    "%matplotlib inline\n",
    "import math\n",
    "import pandas as pd\n",
    "from tsmom_model import *\n",
    "import numpy as np\n",
    "from datetime import datetime\n",
    "import statsmodels.tsa.vector_ar.var_model as VAR\n",
    "import PPCA_MR as p\n",
    "import statsmodels.api as sm"
   ]
  },
  {
   "cell_type": "code",
   "execution_count": 2,
   "metadata": {
    "collapsed": true
   },
   "outputs": [],
   "source": [
    "import pylab\n",
    "sns.set(font_scale=2)\n",
    "pylab.rcParams['figure.figsize'] = (24, 18)"
   ]
  },
  {
   "cell_type": "markdown",
   "metadata": {},
   "source": [
    "# Hand cleansed\n",
    "Hand cleaned to removed duplicates"
   ]
  },
  {
   "cell_type": "code",
   "execution_count": 3,
   "metadata": {},
   "outputs": [
    {
     "name": "stderr",
     "output_type": "stream",
     "text": [
      "tsmom_model.py:158: FutureWarning: how in .resample() is deprecated\n",
      "the new syntax is .resample(...).last()\n",
      "  data=pd.read_csv('./Price.csv',index_col=0,parse_dates=['Date']).resample(rule='d',how='last')\n",
      "tsmom_model.py:160: FutureWarning: how in .resample() is deprecated\n",
      "the new syntax is .resample(...).last()\n",
      "  qd=pd.read_csv('./liquid_contracts.csv',index_col=0,parse_dates=['Date']).resample(rule='d',how='last')\n"
     ]
    }
   ],
   "source": [
    "cleansed=load_amihud_markets_price()"
   ]
  },
  {
   "cell_type": "markdown",
   "metadata": {},
   "source": [
    "# Amihud methodology\n",
    "\n",
    "Amihud (2002) developed the illiquidity measure expressed by:\n",
    "\n",
    "$$ Amihud =\\frac{1}{N} \\sum \\frac{|r_t|}{\\text{dvol}_t} $$\n",
    "\n",
    "where $r_t$ is the return on day $t$ and $Volume_t$ is the dollar volume on day $t$. \n",
    "\n",
    "The benefit of taking the daily return is to weight the move by change of price and the volume.\n"
   ]
  },
  {
   "cell_type": "code",
   "execution_count": 4,
   "metadata": {},
   "outputs": [
    {
     "name": "stderr",
     "output_type": "stream",
     "text": [
      "tsmom_model.py:42: FutureWarning: how in .resample() is deprecated\n",
      "the new syntax is .resample(...).mean()\n",
      "  data=pd.read_csv('./Volume.csv',index_col=0,parse_dates=['Date']).resample(rule='d',how='mean')\n",
      "tsmom_model.py:44: FutureWarning: how in .resample() is deprecated\n",
      "the new syntax is .resample(...).sum()\n",
      "  v=pd.read_csv('./volume_data.csv',index_col=0,parse_dates=['Date']).resample(rule='d',how='sum')\n",
      "tsmom_model.py:46: FutureWarning: pd.rolling_mean is deprecated for DataFrame and will be removed in a future version, replace with \n",
      "\tDataFrame.rolling(min_periods=100,window=250,center=False).mean()\n",
      "  volume=pd.rolling_mean(v,250,min_periods=100).resample(rule='d',how='mean')[:'2016']\n",
      "tsmom_model.py:46: FutureWarning: how in .resample() is deprecated\n",
      "the new syntax is .resample(...).mean()\n",
      "  volume=pd.rolling_mean(v,250,min_periods=100).resample(rule='d',how='mean')[:'2016']\n",
      "tsmom_model.py:49: FutureWarning: pd.rolling_mean is deprecated for Series and will be removed in a future version, replace with \n",
      "\tSeries.rolling(min_periods=50,window=250,center=False).mean()\n",
      "  volume[name]=pd.rolling_mean(v2[x],250,min_periods=50).resample(rule='d',how='mean')\n",
      "tsmom_model.py:49: FutureWarning: how in .resample() is deprecated\n",
      "the new syntax is .resample(...).mean()\n",
      "  volume[name]=pd.rolling_mean(v2[x],250,min_periods=50).resample(rule='d',how='mean')\n",
      "tsmom_model.py:76: FutureWarning: how in .resample() is deprecated\n",
      "the new syntax is .resample(...).last()\n",
      "  fx=fx.resample(rule='d',how='last')\n",
      "tsmom_model.py:77: FutureWarning: how in .resample() is deprecated\n",
      "the new syntax is .resample(...).last()\n",
      "  px=cleansed.resample(rule='d',how='last')\n",
      "tsmom_model.py:85: FutureWarning: how in .resample() is deprecated\n",
      "the new syntax is .resample(...).mean()\n",
      "  x= (cleansed.pct_change().abs()/ total_vol).resample(rule='m',how='mean')\n"
     ]
    }
   ],
   "source": [
    "amihud=calculate_amihud_liquidity(cleansed)[:'2016'] "
   ]
  },
  {
   "cell_type": "markdown",
   "metadata": {},
   "source": [
    "# Academic papers\n",
    "Based on Illin, A., Raiko, T. 2010 paper called \"Practical Approaches to Principal Component Analysis in the Presence of Missing Values\"\n",
    "\n",
    "Tipping and Bishop (1999) introducted probablistic formulation of PCA (PPCA)\n",
    "\n",
    "\n",
    "Use a flavor of Probabilistic PCA that is robust to missing data (see Ilin and Raiko 2010). Rather than the vanilla one-shot SVD, PPCA uses an iterative EM procedure/fixed point algorithm. From an initial guess, it’ll alternatively interpolate missing data and update the components until convergence.\n",
    "\n",
    "On a side note, PPCA interpolates using information from all series, making it a multivariate interpolator. Be careful though, fitting the model to too many components will likely lead to overfitting problems in the interpolated data.\n",
    "\n",
    "Also note that I am using the standardization that is mentioned in Korajecyk and Sadka (2008) of expanding zscores\n"
   ]
  },
  {
   "cell_type": "code",
   "execution_count": 5,
   "metadata": {},
   "outputs": [
    {
     "name": "stderr",
     "output_type": "stream",
     "text": [
      "tsmom_model.py:273: FutureWarning: pd.rolling_mean is deprecated for DataFrame and will be removed in a future version, replace with \n",
      "\tDataFrame.rolling(min_periods=3,window=100000000,center=False).mean()\n",
      "  return (df-pd.rolling_mean(df,100000000,min_periods=min_per))/pd.rolling_std(df,100000000,min_periods=min_per)\n",
      "tsmom_model.py:273: FutureWarning: pd.rolling_std is deprecated for DataFrame and will be removed in a future version, replace with \n",
      "\tDataFrame.rolling(min_periods=3,window=100000000,center=False).std()\n",
      "  return (df-pd.rolling_mean(df,100000000,min_periods=min_per))/pd.rolling_std(df,100000000,min_periods=min_per)\n"
     ]
    }
   ],
   "source": [
    "#data=calc_zscore_ew(amihud.dropna(how='all')).dropna(how='all')\n",
    "data=calc_zscore_expanding_window(amihud.dropna(how='all'),3).dropna(how='all')"
   ]
  },
  {
   "cell_type": "code",
   "execution_count": 6,
   "metadata": {
    "collapsed": true
   },
   "outputs": [],
   "source": [
    "sector_zscores={}\n",
    "d_map=sector_map(amihud)\n",
    "for sect in d_map.keys():\n",
    "    sector_zscores[sect]=data[d_map[sect]].dropna(how='all')"
   ]
  },
  {
   "cell_type": "code",
   "execution_count": 42,
   "metadata": {},
   "outputs": [
    {
     "name": "stderr",
     "output_type": "stream",
     "text": [
      "/Users/mrefermat/anaconda/lib/python2.7/site-packages/ipykernel_launcher.py:13: FutureWarning: set_axis currently defaults to operating inplace.\n",
      "This will change in a future version of pandas, use inplace=True to avoid this warning.\n",
      "  del sys.path[0]\n"
     ]
    }
   ],
   "source": [
    "sector_PC={}\n",
    "sector_variance_explained=pd.DataFrame()\n",
    "\n",
    "no_pc=3\n",
    "for sect in d_map.keys():\n",
    "    try: \n",
    "        PPCA=p.PPCA()\n",
    "        PPCA.fit(np.array(sector_zscores[sect]),d=no_pc)\n",
    "        sector_variance_explained[sect] = PPCA.var_exp\n",
    "        pcs=pd.DataFrame()\n",
    "        for i in range(0,no_pc,1):\n",
    "            x=pd.DataFrame(PPCA.C.T[i]*PPCA.data).sum(axis=1)\n",
    "            x.set_axis(sector_zscores[sect].index)\n",
    "            pcs[i]=x\n",
    "        sector_PC[sect] = pcs\n",
    "    except:\n",
    "        print sect"
   ]
  },
  {
   "cell_type": "code",
   "execution_count": 43,
   "metadata": {},
   "outputs": [
    {
     "name": "stderr",
     "output_type": "stream",
     "text": [
      "/Users/mrefermat/anaconda/lib/python2.7/site-packages/ipykernel_launcher.py:8: FutureWarning: set_axis currently defaults to operating inplace.\n",
      "This will change in a future version of pandas, use inplace=True to avoid this warning.\n",
      "  \n"
     ]
    }
   ],
   "source": [
    "no_fx = [i for i in data.columns if i not in d_map['Currencies']]\n",
    "PPCA=p.PPCA()\n",
    "PPCA.fit(np.array(data[no_fx]),d=no_pc)\n",
    "sector_variance_explained[sect] = PPCA.var_exp\n",
    "pcs=pd.DataFrame()\n",
    "for i in range(0,no_pc,1):\n",
    "    x=pd.DataFrame(PPCA.C.T[i]*PPCA.data).sum(axis=1)\n",
    "    x.set_axis(sector_zscores[sect].index)\n",
    "    pcs[i]=x\n",
    "sector_PC['Total'] = pcs"
   ]
  },
  {
   "cell_type": "code",
   "execution_count": 44,
   "metadata": {},
   "outputs": [],
   "source": [
    "prin_factors=pd.DataFrame()\n",
    "for sector in  ['Agriculturals',\n",
    "                 'Energies',\n",
    "                 'Equities',\n",
    "                 'Metals',\n",
    "                 'Fixed Income',\n",
    "                 'Total']:\n",
    "    prin_factors['Amihud '+sector]=sector_PC[sector].mean(axis=1)"
   ]
  },
  {
   "cell_type": "code",
   "execution_count": 45,
   "metadata": {},
   "outputs": [],
   "source": [
    "res = VAR.VAR(endog=prin_factors)"
   ]
  },
  {
   "cell_type": "code",
   "execution_count": 46,
   "metadata": {},
   "outputs": [
    {
     "name": "stdout",
     "output_type": "stream",
     "text": [
      "                 VAR Order Selection                  \n",
      "======================================================\n",
      "            aic          bic          fpe         hqic\n",
      "------------------------------------------------------\n",
      "0       -0.1426     -0.04190       0.8671      -0.1018\n",
      "1       -8.320*      -7.615*   0.0002436*      -8.035*\n",
      "2        -8.306       -6.997    0.0002474       -7.776\n",
      "3        -8.293       -6.379    0.0002513       -7.518\n",
      "4        -8.143       -5.626    0.0002931       -7.124\n",
      "5        -8.065       -4.944    0.0003194       -6.801\n",
      "6        -7.916       -4.190    0.0003753       -6.407\n",
      "7        -7.750       -3.420    0.0004500       -5.997\n",
      "8        -7.695       -2.760    0.0004862       -5.697\n",
      "9        -7.635       -2.096    0.0005309       -5.393\n",
      "10       -7.591       -1.448    0.0005752       -5.104\n",
      "11       -7.455      -0.7076    0.0006891       -4.723\n",
      "12       -7.314      0.03791    0.0008382       -4.337\n",
      "13       -7.405       0.5507    0.0008173       -4.184\n",
      "14       -7.334        1.226    0.0009498       -3.868\n",
      "======================================================\n",
      "* Minimum\n",
      "\n"
     ]
    },
    {
     "data": {
      "text/plain": [
       "{'aic': 1, 'bic': 1, 'fpe': 1, 'hqic': 1}"
      ]
     },
     "execution_count": 46,
     "metadata": {},
     "output_type": "execute_result"
    }
   ],
   "source": [
    "res.select_order(14)"
   ]
  },
  {
   "cell_type": "code",
   "execution_count": 47,
   "metadata": {},
   "outputs": [],
   "source": [
    "x=res.fit()"
   ]
  },
  {
   "cell_type": "code",
   "execution_count": 57,
   "metadata": {},
   "outputs": [
    {
     "name": "stdout",
     "output_type": "stream",
     "text": [
      "Granger causality f-test\n",
      "==============================================================\n",
      "   Test statistic   Critical Value          p-value         df\n",
      "--------------------------------------------------------------\n",
      "       545.996723         3.849181            0.000  (1, 1206)\n",
      "==============================================================\n",
      "H_0: ['Amihud Total'] do not Granger-cause Amihud Total\n",
      "Conclusion: reject H_0 at 5.00% significance level\n"
     ]
    }
   ],
   "source": [
    "test=x.test_causality('Amihud Total','Amihud Total')"
   ]
  },
  {
   "cell_type": "code",
   "execution_count": 59,
   "metadata": {},
   "outputs": [
    {
     "data": {
      "text/plain": [
       "6.5374832709925606e-100"
      ]
     },
     "execution_count": 59,
     "metadata": {},
     "output_type": "execute_result"
    }
   ],
   "source": [
    "test.values()[4]"
   ]
  },
  {
   "cell_type": "code",
   "execution_count": 60,
   "metadata": {},
   "outputs": [
    {
     "name": "stdout",
     "output_type": "stream",
     "text": [
      "Granger causality f-test\n",
      "==============================================================\n",
      "   Test statistic   Critical Value          p-value         df\n",
      "--------------------------------------------------------------\n",
      "       464.363009         3.849181            0.000  (1, 1206)\n",
      "==============================================================\n",
      "H_0: ['Amihud Agriculturals'] do not Granger-cause Amihud Agriculturals\n",
      "Conclusion: reject H_0 at 5.00% significance level\n",
      "Granger causality f-test\n",
      "==============================================================\n",
      "   Test statistic   Critical Value          p-value         df\n",
      "--------------------------------------------------------------\n",
      "         0.003255         3.849181            0.955  (1, 1206)\n",
      "==============================================================\n",
      "H_0: ['Amihud Energies'] do not Granger-cause Amihud Agriculturals\n",
      "Conclusion: fail to reject H_0 at 5.00% significance level\n",
      "Granger causality f-test\n",
      "==============================================================\n",
      "   Test statistic   Critical Value          p-value         df\n",
      "--------------------------------------------------------------\n",
      "         0.142471         3.849181            0.706  (1, 1206)\n",
      "==============================================================\n",
      "H_0: ['Amihud Equities'] do not Granger-cause Amihud Agriculturals\n",
      "Conclusion: fail to reject H_0 at 5.00% significance level\n",
      "Granger causality f-test\n",
      "==============================================================\n",
      "   Test statistic   Critical Value          p-value         df\n",
      "--------------------------------------------------------------\n",
      "         0.985070         3.849181            0.321  (1, 1206)\n",
      "==============================================================\n",
      "H_0: ['Amihud Metals'] do not Granger-cause Amihud Agriculturals\n",
      "Conclusion: fail to reject H_0 at 5.00% significance level\n",
      "Granger causality f-test\n",
      "==============================================================\n",
      "   Test statistic   Critical Value          p-value         df\n",
      "--------------------------------------------------------------\n",
      "         1.364269         3.849181            0.243  (1, 1206)\n",
      "==============================================================\n",
      "H_0: ['Amihud Fixed Income'] do not Granger-cause Amihud Agriculturals\n",
      "Conclusion: fail to reject H_0 at 5.00% significance level\n",
      "Granger causality f-test\n",
      "==============================================================\n",
      "   Test statistic   Critical Value          p-value         df\n",
      "--------------------------------------------------------------\n",
      "         0.349198         3.849181            0.555  (1, 1206)\n",
      "==============================================================\n",
      "H_0: ['Amihud Total'] do not Granger-cause Amihud Agriculturals\n",
      "Conclusion: fail to reject H_0 at 5.00% significance level\n",
      "Granger causality f-test\n",
      "==============================================================\n",
      "   Test statistic   Critical Value          p-value         df\n",
      "--------------------------------------------------------------\n",
      "         1.963772         3.849181            0.161  (1, 1206)\n",
      "==============================================================\n",
      "H_0: ['Amihud Agriculturals'] do not Granger-cause Amihud Energies\n",
      "Conclusion: fail to reject H_0 at 5.00% significance level\n",
      "Granger causality f-test\n",
      "==============================================================\n",
      "   Test statistic   Critical Value          p-value         df\n",
      "--------------------------------------------------------------\n",
      "       177.978364         3.849181            0.000  (1, 1206)\n",
      "==============================================================\n",
      "H_0: ['Amihud Energies'] do not Granger-cause Amihud Energies\n",
      "Conclusion: reject H_0 at 5.00% significance level\n",
      "Granger causality f-test\n",
      "==============================================================\n",
      "   Test statistic   Critical Value          p-value         df\n",
      "--------------------------------------------------------------\n",
      "         1.419244         3.849181            0.234  (1, 1206)\n",
      "==============================================================\n",
      "H_0: ['Amihud Equities'] do not Granger-cause Amihud Energies\n",
      "Conclusion: fail to reject H_0 at 5.00% significance level\n",
      "Granger causality f-test\n",
      "==============================================================\n",
      "   Test statistic   Critical Value          p-value         df\n",
      "--------------------------------------------------------------\n",
      "         0.010769         3.849181            0.917  (1, 1206)\n",
      "==============================================================\n",
      "H_0: ['Amihud Metals'] do not Granger-cause Amihud Energies\n",
      "Conclusion: fail to reject H_0 at 5.00% significance level\n",
      "Granger causality f-test\n",
      "==============================================================\n",
      "   Test statistic   Critical Value          p-value         df\n",
      "--------------------------------------------------------------\n",
      "         3.955389         3.849181            0.047  (1, 1206)\n",
      "==============================================================\n",
      "H_0: ['Amihud Fixed Income'] do not Granger-cause Amihud Energies\n",
      "Conclusion: reject H_0 at 5.00% significance level\n",
      "Granger causality f-test\n",
      "==============================================================\n",
      "   Test statistic   Critical Value          p-value         df\n",
      "--------------------------------------------------------------\n",
      "         0.472039         3.849181            0.492  (1, 1206)\n",
      "==============================================================\n",
      "H_0: ['Amihud Total'] do not Granger-cause Amihud Energies\n",
      "Conclusion: fail to reject H_0 at 5.00% significance level\n",
      "Granger causality f-test\n",
      "==============================================================\n",
      "   Test statistic   Critical Value          p-value         df\n",
      "--------------------------------------------------------------\n",
      "         0.025292         3.849181            0.874  (1, 1206)\n",
      "==============================================================\n",
      "H_0: ['Amihud Agriculturals'] do not Granger-cause Amihud Equities\n",
      "Conclusion: fail to reject H_0 at 5.00% significance level\n",
      "Granger causality f-test\n",
      "==============================================================\n",
      "   Test statistic   Critical Value          p-value         df\n",
      "--------------------------------------------------------------\n",
      "         1.156516         3.849181            0.282  (1, 1206)\n",
      "==============================================================\n",
      "H_0: ['Amihud Energies'] do not Granger-cause Amihud Equities\n",
      "Conclusion: fail to reject H_0 at 5.00% significance level\n",
      "Granger causality f-test\n",
      "==============================================================\n",
      "   Test statistic   Critical Value          p-value         df\n",
      "--------------------------------------------------------------\n",
      "       946.525051         3.849181            0.000  (1, 1206)\n",
      "==============================================================\n",
      "H_0: ['Amihud Equities'] do not Granger-cause Amihud Equities\n",
      "Conclusion: reject H_0 at 5.00% significance level\n",
      "Granger causality f-test\n",
      "==============================================================\n",
      "   Test statistic   Critical Value          p-value         df\n",
      "--------------------------------------------------------------\n",
      "         0.973645         3.849181            0.324  (1, 1206)\n",
      "==============================================================\n",
      "H_0: ['Amihud Metals'] do not Granger-cause Amihud Equities\n",
      "Conclusion: fail to reject H_0 at 5.00% significance level\n",
      "Granger causality f-test\n",
      "==============================================================\n",
      "   Test statistic   Critical Value          p-value         df\n",
      "--------------------------------------------------------------\n",
      "         0.083879         3.849181            0.772  (1, 1206)\n",
      "==============================================================\n",
      "H_0: ['Amihud Fixed Income'] do not Granger-cause Amihud Equities\n",
      "Conclusion: fail to reject H_0 at 5.00% significance level\n",
      "Granger causality f-test\n",
      "==============================================================\n",
      "   Test statistic   Critical Value          p-value         df\n",
      "--------------------------------------------------------------\n",
      "         0.084452         3.849181            0.771  (1, 1206)\n",
      "==============================================================\n",
      "H_0: ['Amihud Total'] do not Granger-cause Amihud Equities\n",
      "Conclusion: fail to reject H_0 at 5.00% significance level\n",
      "Granger causality f-test\n",
      "==============================================================\n",
      "   Test statistic   Critical Value          p-value         df\n",
      "--------------------------------------------------------------\n",
      "         0.625696         3.849181            0.429  (1, 1206)\n",
      "==============================================================\n",
      "H_0: ['Amihud Agriculturals'] do not Granger-cause Amihud Metals\n",
      "Conclusion: fail to reject H_0 at 5.00% significance level\n",
      "Granger causality f-test\n",
      "==============================================================\n",
      "   Test statistic   Critical Value          p-value         df\n",
      "--------------------------------------------------------------\n",
      "         0.109611         3.849181            0.741  (1, 1206)\n",
      "==============================================================\n",
      "H_0: ['Amihud Energies'] do not Granger-cause Amihud Metals\n",
      "Conclusion: fail to reject H_0 at 5.00% significance level\n",
      "Granger causality f-test\n",
      "==============================================================\n",
      "   Test statistic   Critical Value          p-value         df\n",
      "--------------------------------------------------------------\n",
      "         0.056016         3.849181            0.813  (1, 1206)\n",
      "==============================================================\n",
      "H_0: ['Amihud Equities'] do not Granger-cause Amihud Metals\n",
      "Conclusion: fail to reject H_0 at 5.00% significance level\n",
      "Granger causality f-test\n",
      "==============================================================\n",
      "   Test statistic   Critical Value          p-value         df\n",
      "--------------------------------------------------------------\n",
      "       176.314363         3.849181            0.000  (1, 1206)\n",
      "==============================================================\n",
      "H_0: ['Amihud Metals'] do not Granger-cause Amihud Metals\n",
      "Conclusion: reject H_0 at 5.00% significance level\n",
      "Granger causality f-test\n",
      "==============================================================\n",
      "   Test statistic   Critical Value          p-value         df\n",
      "--------------------------------------------------------------\n",
      "         0.593586         3.849181            0.441  (1, 1206)\n",
      "==============================================================\n",
      "H_0: ['Amihud Fixed Income'] do not Granger-cause Amihud Metals\n",
      "Conclusion: fail to reject H_0 at 5.00% significance level\n",
      "Granger causality f-test\n",
      "==============================================================\n",
      "   Test statistic   Critical Value          p-value         df\n",
      "--------------------------------------------------------------\n",
      "         6.118124         3.849181            0.014  (1, 1206)\n",
      "==============================================================\n",
      "H_0: ['Amihud Total'] do not Granger-cause Amihud Metals\n",
      "Conclusion: reject H_0 at 5.00% significance level\n",
      "Granger causality f-test\n",
      "==============================================================\n",
      "   Test statistic   Critical Value          p-value         df\n",
      "--------------------------------------------------------------\n",
      "         0.165777         3.849181            0.684  (1, 1206)\n",
      "==============================================================\n",
      "H_0: ['Amihud Agriculturals'] do not Granger-cause Amihud Fixed Income\n",
      "Conclusion: fail to reject H_0 at 5.00% significance level\n",
      "Granger causality f-test\n",
      "==============================================================\n",
      "   Test statistic   Critical Value          p-value         df\n",
      "--------------------------------------------------------------\n",
      "         0.119115         3.849181            0.730  (1, 1206)\n",
      "==============================================================\n",
      "H_0: ['Amihud Energies'] do not Granger-cause Amihud Fixed Income\n",
      "Conclusion: fail to reject H_0 at 5.00% significance level\n",
      "Granger causality f-test\n",
      "==============================================================\n",
      "   Test statistic   Critical Value          p-value         df\n",
      "--------------------------------------------------------------\n",
      "         3.044694         3.849181            0.081  (1, 1206)\n",
      "==============================================================\n",
      "H_0: ['Amihud Equities'] do not Granger-cause Amihud Fixed Income\n",
      "Conclusion: fail to reject H_0 at 5.00% significance level\n",
      "Granger causality f-test\n",
      "==============================================================\n",
      "   Test statistic   Critical Value          p-value         df\n",
      "--------------------------------------------------------------\n",
      "         1.037633         3.849181            0.309  (1, 1206)\n",
      "==============================================================\n",
      "H_0: ['Amihud Metals'] do not Granger-cause Amihud Fixed Income\n",
      "Conclusion: fail to reject H_0 at 5.00% significance level\n",
      "Granger causality f-test\n",
      "==============================================================\n",
      "   Test statistic   Critical Value          p-value         df\n",
      "--------------------------------------------------------------\n",
      "       631.718960         3.849181            0.000  (1, 1206)\n",
      "==============================================================\n",
      "H_0: ['Amihud Fixed Income'] do not Granger-cause Amihud Fixed Income\n",
      "Conclusion: reject H_0 at 5.00% significance level\n",
      "Granger causality f-test\n",
      "==============================================================\n",
      "   Test statistic   Critical Value          p-value         df\n",
      "--------------------------------------------------------------\n",
      "         0.034643         3.849181            0.852  (1, 1206)\n",
      "==============================================================\n",
      "H_0: ['Amihud Total'] do not Granger-cause Amihud Fixed Income\n",
      "Conclusion: fail to reject H_0 at 5.00% significance level\n",
      "Granger causality f-test\n",
      "==============================================================\n",
      "   Test statistic   Critical Value          p-value         df\n",
      "--------------------------------------------------------------\n",
      "         0.007152         3.849181            0.933  (1, 1206)\n",
      "==============================================================\n",
      "H_0: ['Amihud Agriculturals'] do not Granger-cause Amihud Total\n",
      "Conclusion: fail to reject H_0 at 5.00% significance level\n",
      "Granger causality f-test\n",
      "==============================================================\n",
      "   Test statistic   Critical Value          p-value         df\n",
      "--------------------------------------------------------------\n",
      "         1.090153         3.849181            0.297  (1, 1206)\n",
      "==============================================================\n",
      "H_0: ['Amihud Energies'] do not Granger-cause Amihud Total\n",
      "Conclusion: fail to reject H_0 at 5.00% significance level\n",
      "Granger causality f-test\n",
      "==============================================================\n",
      "   Test statistic   Critical Value          p-value         df\n",
      "--------------------------------------------------------------\n",
      "         1.492713         3.849181            0.222  (1, 1206)\n",
      "==============================================================\n",
      "H_0: ['Amihud Equities'] do not Granger-cause Amihud Total\n",
      "Conclusion: fail to reject H_0 at 5.00% significance level\n",
      "Granger causality f-test\n",
      "==============================================================\n",
      "   Test statistic   Critical Value          p-value         df\n",
      "--------------------------------------------------------------\n",
      "         0.770458         3.849181            0.380  (1, 1206)\n",
      "==============================================================\n",
      "H_0: ['Amihud Metals'] do not Granger-cause Amihud Total\n",
      "Conclusion: fail to reject H_0 at 5.00% significance level\n",
      "Granger causality f-test\n",
      "==============================================================\n",
      "   Test statistic   Critical Value          p-value         df\n",
      "--------------------------------------------------------------\n",
      "         0.017506         3.849181            0.895  (1, 1206)\n",
      "==============================================================\n",
      "H_0: ['Amihud Fixed Income'] do not Granger-cause Amihud Total\n",
      "Conclusion: fail to reject H_0 at 5.00% significance level\n",
      "Granger causality f-test\n",
      "==============================================================\n",
      "   Test statistic   Critical Value          p-value         df\n",
      "--------------------------------------------------------------\n",
      "       545.996723         3.849181            0.000  (1, 1206)\n",
      "==============================================================\n",
      "H_0: ['Amihud Total'] do not Granger-cause Amihud Total\n",
      "Conclusion: reject H_0 at 5.00% significance level\n"
     ]
    }
   ],
   "source": [
    "pvalues=pd.DataFrame()\n",
    "for col in x.tvalues.columns:\n",
    "    s=pd.Series()\n",
    "    for col2 in x.tvalues.columns:\n",
    "        s[col2]=x.test_causality(col,col2).values()[4]\n",
    "    pvalues[col]=s\n",
    "    "
   ]
  },
  {
   "cell_type": "code",
   "execution_count": 80,
   "metadata": {},
   "outputs": [
    {
     "name": "stdout",
     "output_type": "stream",
     "text": [
      "\\begin{tabular}{lrrrrrr}\n",
      "\\toprule\n",
      "{} &  Amihud Agriculturals &  Amihud Energies &  Amihud Equities &  Amihud Metals &  Amihud Fixed Income &  Amihud Total \\\\\n",
      "\\midrule\n",
      "Amihud Agriculturals &                 0.000 &            0.955 &            0.706 &          0.321 &                0.243 &         0.555 \\\\\n",
      "Amihud Energies      &                 0.161 &            0.000 &            0.234 &          0.917 &                0.047 &         0.492 \\\\\n",
      "Amihud Equities      &                 0.874 &            0.282 &            0.000 &          0.324 &                0.772 &         0.771 \\\\\n",
      "Amihud Metals        &                 0.429 &            0.741 &            0.813 &          0.000 &                0.441 &         0.014 \\\\\n",
      "Amihud Fixed Income  &                 0.684 &            0.730 &            0.081 &          0.309 &                0.000 &         0.852 \\\\\n",
      "Amihud Total         &                 0.933 &            0.297 &            0.222 &          0.380 &                0.895 &         0.000 \\\\\n",
      "\\bottomrule\n",
      "\\end{tabular}\n",
      "\n"
     ]
    }
   ],
   "source": [
    "print pvalues.round(3).T.to_latex()"
   ]
  },
  {
   "cell_type": "code",
   "execution_count": 85,
   "metadata": {},
   "outputs": [
    {
     "data": {
      "text/html": [
       "<div>\n",
       "<style scoped>\n",
       "    .dataframe tbody tr th:only-of-type {\n",
       "        vertical-align: middle;\n",
       "    }\n",
       "\n",
       "    .dataframe tbody tr th {\n",
       "        vertical-align: top;\n",
       "    }\n",
       "\n",
       "    .dataframe thead th {\n",
       "        text-align: right;\n",
       "    }\n",
       "</style>\n",
       "<table border=\"1\" class=\"dataframe\">\n",
       "  <thead>\n",
       "    <tr style=\"text-align: right;\">\n",
       "      <th></th>\n",
       "      <th>const</th>\n",
       "      <th>L1.Amihud Agriculturals</th>\n",
       "      <th>L1.Amihud Energies</th>\n",
       "      <th>L1.Amihud Equities</th>\n",
       "      <th>L1.Amihud Metals</th>\n",
       "      <th>L1.Amihud Fixed Income</th>\n",
       "      <th>L1.Amihud Total</th>\n",
       "    </tr>\n",
       "  </thead>\n",
       "  <tbody>\n",
       "    <tr>\n",
       "      <th>Amihud Agriculturals</th>\n",
       "      <td>0.00</td>\n",
       "      <td>21.55</td>\n",
       "      <td>-0.06</td>\n",
       "      <td>0.38</td>\n",
       "      <td>0.99</td>\n",
       "      <td>-1.17</td>\n",
       "      <td>0.59</td>\n",
       "    </tr>\n",
       "    <tr>\n",
       "      <th>Amihud Energies</th>\n",
       "      <td>0.98</td>\n",
       "      <td>-1.40</td>\n",
       "      <td>13.34</td>\n",
       "      <td>1.19</td>\n",
       "      <td>0.10</td>\n",
       "      <td>1.99</td>\n",
       "      <td>0.69</td>\n",
       "    </tr>\n",
       "    <tr>\n",
       "      <th>Amihud Equities</th>\n",
       "      <td>2.02</td>\n",
       "      <td>0.16</td>\n",
       "      <td>1.08</td>\n",
       "      <td>30.77</td>\n",
       "      <td>0.99</td>\n",
       "      <td>-0.29</td>\n",
       "      <td>-0.29</td>\n",
       "    </tr>\n",
       "    <tr>\n",
       "      <th>Amihud Metals</th>\n",
       "      <td>-1.08</td>\n",
       "      <td>0.79</td>\n",
       "      <td>-0.33</td>\n",
       "      <td>0.24</td>\n",
       "      <td>13.28</td>\n",
       "      <td>-0.77</td>\n",
       "      <td>-2.47</td>\n",
       "    </tr>\n",
       "    <tr>\n",
       "      <th>Amihud Fixed Income</th>\n",
       "      <td>-2.73</td>\n",
       "      <td>-0.41</td>\n",
       "      <td>0.35</td>\n",
       "      <td>1.74</td>\n",
       "      <td>1.02</td>\n",
       "      <td>25.13</td>\n",
       "      <td>0.19</td>\n",
       "    </tr>\n",
       "    <tr>\n",
       "      <th>Amihud Total</th>\n",
       "      <td>0.99</td>\n",
       "      <td>0.08</td>\n",
       "      <td>1.04</td>\n",
       "      <td>-1.22</td>\n",
       "      <td>0.88</td>\n",
       "      <td>0.13</td>\n",
       "      <td>23.37</td>\n",
       "    </tr>\n",
       "  </tbody>\n",
       "</table>\n",
       "</div>"
      ],
      "text/plain": [
       "                      const  L1.Amihud Agriculturals  L1.Amihud Energies  \\\n",
       "Amihud Agriculturals   0.00                    21.55               -0.06   \n",
       "Amihud Energies        0.98                    -1.40               13.34   \n",
       "Amihud Equities        2.02                     0.16                1.08   \n",
       "Amihud Metals         -1.08                     0.79               -0.33   \n",
       "Amihud Fixed Income   -2.73                    -0.41                0.35   \n",
       "Amihud Total           0.99                     0.08                1.04   \n",
       "\n",
       "                      L1.Amihud Equities  L1.Amihud Metals  \\\n",
       "Amihud Agriculturals                0.38              0.99   \n",
       "Amihud Energies                     1.19              0.10   \n",
       "Amihud Equities                    30.77              0.99   \n",
       "Amihud Metals                       0.24             13.28   \n",
       "Amihud Fixed Income                 1.74              1.02   \n",
       "Amihud Total                       -1.22              0.88   \n",
       "\n",
       "                      L1.Amihud Fixed Income  L1.Amihud Total  \n",
       "Amihud Agriculturals                   -1.17             0.59  \n",
       "Amihud Energies                         1.99             0.69  \n",
       "Amihud Equities                        -0.29            -0.29  \n",
       "Amihud Metals                          -0.77            -2.47  \n",
       "Amihud Fixed Income                    25.13             0.19  \n",
       "Amihud Total                            0.13            23.37  "
      ]
     },
     "execution_count": 85,
     "metadata": {},
     "output_type": "execute_result"
    }
   ],
   "source": [
    "x.tvalues.T.round(2)"
   ]
  },
  {
   "cell_type": "code",
   "execution_count": 77,
   "metadata": {},
   "outputs": [],
   "source": [
    "columns=[ u'L1.Amihud Agriculturals', u'L1.Amihud Energies',\n",
    "       u'L1.Amihud Equities', u'L1.Amihud Metals', u'L1.Amihud Fixed Income',\n",
    "       u'L1.Amihud Total']"
   ]
  },
  {
   "cell_type": "code",
   "execution_count": 78,
   "metadata": {},
   "outputs": [
    {
     "name": "stdout",
     "output_type": "stream",
     "text": [
      "\\begin{tabular}{lrrrrrr}\n",
      "\\toprule\n",
      "{} &  L1.Amihud Agriculturals &  L1.Amihud Energies &  L1.Amihud Equities &  L1.Amihud Metals &  L1.Amihud Fixed Income &  L1.Amihud Total \\\\\n",
      "\\midrule\n",
      "Amihud Agriculturals &                    0.858 &              -0.005 &               0.016 &             0.066 &                  -0.062 &            0.019 \\\\\n",
      "Amihud Energies      &                   -0.036 &               0.709 &               0.032 &             0.004 &                   0.067 &            0.014 \\\\\n",
      "Amihud Equities      &                    0.004 &               0.063 &               0.908 &             0.046 &                  -0.011 &           -0.007 \\\\\n",
      "Amihud Metals        &                    0.026 &              -0.023 &               0.008 &             0.736 &                  -0.034 &           -0.066 \\\\\n",
      "Amihud Fixed Income  &                   -0.011 &               0.019 &               0.047 &             0.044 &                   0.868 &            0.004 \\\\\n",
      "Amihud Total         &                    0.004 &               0.110 &              -0.064 &             0.073 &                   0.009 &            0.939 \\\\\n",
      "\\bottomrule\n",
      "\\end{tabular}\n",
      "\n"
     ]
    }
   ],
   "source": [
    "print x.params.T[columns].round(3).to_latex()"
   ]
  },
  {
   "cell_type": "code",
   "execution_count": 50,
   "metadata": {},
   "outputs": [
    {
     "name": "stdout",
     "output_type": "stream",
     "text": [
      "  Summary of Regression Results   \n",
      "==================================\n",
      "Model:                         VAR\n",
      "Method:                        OLS\n",
      "Date:           Tue, 22, May, 2018\n",
      "Time:                     10:17:11\n",
      "--------------------------------------------------------------------\n",
      "No. of Equations:         6.00000    BIC:                   -7.64329\n",
      "Nobs:                     208.000    HQIC:                  -8.04471\n",
      "Log likelihood:          -863.845    FPE:                0.000244313\n",
      "AIC:                     -8.31721    Det(Omega_mle):     0.000200307\n",
      "--------------------------------------------------------------------\n",
      "Results for equation Amihud Agriculturals\n",
      "==========================================================================================\n",
      "                             coefficient       std. error           t-stat            prob\n",
      "------------------------------------------------------------------------------------------\n",
      "const                           0.000069         0.105357            0.001           0.999\n",
      "L1.Amihud Agriculturals         0.858325         0.039831           21.549           0.000\n",
      "L1.Amihud Energies             -0.004732         0.082948           -0.057           0.955\n",
      "L1.Amihud Equities              0.015682         0.041547            0.377           0.706\n",
      "L1.Amihud Metals                0.065587         0.066082            0.993           0.322\n",
      "L1.Amihud Fixed Income         -0.061783         0.052896           -1.168           0.244\n",
      "L1.Amihud Total                 0.018754         0.031737            0.591           0.555\n",
      "==========================================================================================\n",
      "\n",
      "Results for equation Amihud Energies\n",
      "==========================================================================================\n",
      "                             coefficient       std. error           t-stat            prob\n",
      "------------------------------------------------------------------------------------------\n",
      "const                           0.065985         0.067480            0.978           0.329\n",
      "L1.Amihud Agriculturals        -0.035750         0.025511           -1.401           0.163\n",
      "L1.Amihud Energies              0.708763         0.053127           13.341           0.000\n",
      "L1.Amihud Equities              0.031702         0.026611            1.191           0.235\n",
      "L1.Amihud Metals                0.004392         0.042325            0.104           0.917\n",
      "L1.Amihud Fixed Income          0.067379         0.033879            1.989           0.048\n",
      "L1.Amihud Total                 0.013966         0.020327            0.687           0.493\n",
      "==========================================================================================\n",
      "\n",
      "Results for equation Amihud Equities\n",
      "==========================================================================================\n",
      "                             coefficient       std. error           t-stat            prob\n",
      "------------------------------------------------------------------------------------------\n",
      "const                           0.151091         0.074831            2.019           0.045\n",
      "L1.Amihud Agriculturals         0.004499         0.028291            0.159           0.874\n",
      "L1.Amihud Energies              0.063358         0.058915            1.075           0.283\n",
      "L1.Amihud Equities              0.907880         0.029510           30.766           0.000\n",
      "L1.Amihud Metals                0.046313         0.046936            0.987           0.325\n",
      "L1.Amihud Fixed Income         -0.010881         0.037570           -0.290           0.772\n",
      "L1.Amihud Total                -0.006551         0.022542           -0.291           0.772\n",
      "==========================================================================================\n",
      "\n",
      "Results for equation Amihud Metals\n",
      "==========================================================================================\n",
      "                             coefficient       std. error           t-stat            prob\n",
      "------------------------------------------------------------------------------------------\n",
      "const                          -0.095909         0.088410           -1.085           0.279\n",
      "L1.Amihud Agriculturals         0.026439         0.033424            0.791           0.430\n",
      "L1.Amihud Energies             -0.023045         0.069605           -0.331           0.741\n",
      "L1.Amihud Equities              0.008252         0.034864            0.237           0.813\n",
      "L1.Amihud Metals                0.736315         0.055452           13.278           0.000\n",
      "L1.Amihud Fixed Income         -0.034198         0.044387           -0.770           0.442\n",
      "L1.Amihud Total                -0.065874         0.026632           -2.473           0.014\n",
      "==========================================================================================\n",
      "\n",
      "Results for equation Amihud Fixed Income\n",
      "==========================================================================================\n",
      "                             coefficient       std. error           t-stat            prob\n",
      "------------------------------------------------------------------------------------------\n",
      "const                          -0.188165         0.068808           -2.735           0.007\n",
      "L1.Amihud Agriculturals        -0.010592         0.026014           -0.407           0.684\n",
      "L1.Amihud Energies              0.018697         0.054173            0.345           0.730\n",
      "L1.Amihud Equities              0.047347         0.027134            1.745           0.083\n",
      "L1.Amihud Metals                0.043962         0.043158            1.019           0.310\n",
      "L1.Amihud Fixed Income          0.868279         0.034546           25.134           0.000\n",
      "L1.Amihud Total                 0.003858         0.020727            0.186           0.853\n",
      "==========================================================================================\n",
      "\n",
      "Results for equation Amihud Total\n",
      "==========================================================================================\n",
      "                             coefficient       std. error           t-stat            prob\n",
      "------------------------------------------------------------------------------------------\n",
      "const                           0.131538         0.133419            0.986           0.325\n",
      "L1.Amihud Agriculturals         0.004266         0.050440            0.085           0.933\n",
      "L1.Amihud Energies              0.109674         0.105042            1.044           0.298\n",
      "L1.Amihud Equities             -0.064281         0.052613           -1.222           0.223\n",
      "L1.Amihud Metals                0.073453         0.083683            0.878           0.381\n",
      "L1.Amihud Fixed Income          0.008863         0.066985            0.132           0.895\n",
      "L1.Amihud Total                 0.939115         0.040191           23.367           0.000\n",
      "==========================================================================================\n",
      "\n",
      "Correlation matrix of residuals\n",
      "                        Amihud Agriculturals  Amihud Energies  Amihud Equities  Amihud Metals  Amihud Fixed Income  Amihud Total\n",
      "Amihud Agriculturals                1.000000        -0.224035         0.022955       0.007605             0.076021      0.253268\n",
      "Amihud Energies                    -0.224035         1.000000         0.084190      -0.017052             0.143774     -0.128213\n",
      "Amihud Equities                     0.022955         0.084190         1.000000       0.192417            -0.007291     -0.120011\n",
      "Amihud Metals                       0.007605        -0.017052         0.192417       1.000000            -0.110968     -0.512642\n",
      "Amihud Fixed Income                 0.076021         0.143774        -0.007291      -0.110968             1.000000      0.052021\n",
      "Amihud Total                        0.253268        -0.128213        -0.120011      -0.512642             0.052021      1.000000\n",
      "\n",
      "\n",
      "\n"
     ]
    }
   ],
   "source": [
    "print res.fit(1).summary()"
   ]
  },
  {
   "cell_type": "markdown",
   "metadata": {},
   "source": [
    "# FHT method"
   ]
  },
  {
   "cell_type": "code",
   "execution_count": 86,
   "metadata": {},
   "outputs": [
    {
     "name": "stderr",
     "output_type": "stream",
     "text": [
      "tsmom_model.py:283: FutureWarning: how in .resample() is deprecated\n",
      "the new syntax is .resample(...).count()\n",
      "  nonzero=x[x==0].resample(rule='m',how='count')\n",
      "tsmom_model.py:284: FutureWarning: how in .resample() is deprecated\n",
      "the new syntax is .resample(...).count()\n",
      "  Z=(nonzero/x.resample(rule='m',how='count')).dropna()\n",
      "tsmom_model.py:285: FutureWarning: pd.rolling_std is deprecated for Series and will be removed in a future version, replace with \n",
      "\tSeries.rolling(window=12,center=False).std()\n",
      "  data[c]=pd.Series(norm.cdf((1+Z)/2.),index=Z.index)*2*pd.rolling_std(x,12).resample(rule='m',how='last')\n",
      "tsmom_model.py:285: FutureWarning: how in .resample() is deprecated\n",
      "the new syntax is .resample(...).last()\n",
      "  data[c]=pd.Series(norm.cdf((1+Z)/2.),index=Z.index)*2*pd.rolling_std(x,12).resample(rule='m',how='last')\n"
     ]
    }
   ],
   "source": [
    "FHT=calculate_FHT(cleansed)"
   ]
  },
  {
   "cell_type": "code",
   "execution_count": 87,
   "metadata": {
    "collapsed": true
   },
   "outputs": [],
   "source": [
    "data=calc_zscore_expanding_window(FHT.dropna(how='all'),3).dropna(how='all')"
   ]
  },
  {
   "cell_type": "code",
   "execution_count": 88,
   "metadata": {
    "collapsed": true
   },
   "outputs": [],
   "source": [
    "sector_zscores={}\n",
    "d_map=sector_map(amihud)\n",
    "for sect in d_map.keys():\n",
    "    sector_zscores[sect]=data[d_map[sect]].dropna(how='all')"
   ]
  },
  {
   "cell_type": "code",
   "execution_count": 89,
   "metadata": {},
   "outputs": [
    {
     "name": "stderr",
     "output_type": "stream",
     "text": [
      "/Users/mrefermat/anaconda/lib/python2.7/site-packages/ipykernel_launcher.py:13: FutureWarning: set_axis currently defaults to operating inplace.\n",
      "This will change in a future version of pandas, use inplace=True to avoid this warning.\n",
      "  del sys.path[0]\n"
     ]
    }
   ],
   "source": [
    "sector_PC={}\n",
    "sector_variance_explained=pd.DataFrame()\n",
    "\n",
    "no_pc=3\n",
    "for sect in d_map.keys():\n",
    "    try: \n",
    "        PPCA=p.PPCA()\n",
    "        PPCA.fit(np.array(sector_zscores[sect]),d=no_pc)\n",
    "        sector_variance_explained[sect] = PPCA.var_exp\n",
    "        pcs=pd.DataFrame()\n",
    "        for i in range(0,no_pc,1):\n",
    "            x=pd.DataFrame(PPCA.C.T[i]*PPCA.data).sum(axis=1)\n",
    "            x.set_axis(sector_zscores[sect].index)\n",
    "            pcs[i]=x\n",
    "        sector_PC[sect] = pcs\n",
    "    except:\n",
    "        print sect"
   ]
  },
  {
   "cell_type": "code",
   "execution_count": 90,
   "metadata": {},
   "outputs": [
    {
     "name": "stderr",
     "output_type": "stream",
     "text": [
      "/Users/mrefermat/anaconda/lib/python2.7/site-packages/ipykernel_launcher.py:7: FutureWarning: set_axis currently defaults to operating inplace.\n",
      "This will change in a future version of pandas, use inplace=True to avoid this warning.\n",
      "  import sys\n"
     ]
    }
   ],
   "source": [
    "PPCA=p.PPCA()\n",
    "PPCA.fit(np.array(data),d=no_pc)\n",
    "sector_variance_explained[sect] = PPCA.var_exp\n",
    "pcs=pd.DataFrame()\n",
    "for i in range(0,no_pc,1):\n",
    "    x=pd.DataFrame(PPCA.C.T[i]*PPCA.data).sum(axis=1)\n",
    "    x.set_axis(sector_zscores[sect].index)\n",
    "    pcs[i]=x\n",
    "sector_PC['Total'] = pcs\n"
   ]
  },
  {
   "cell_type": "code",
   "execution_count": 91,
   "metadata": {},
   "outputs": [],
   "source": [
    "prin_factors_FHT=pd.DataFrame()\n",
    "for sector in sector_PC.keys():\n",
    "    prin_factors_FHT[sector]=sector_PC[sector].mean(axis=1)"
   ]
  },
  {
   "cell_type": "code",
   "execution_count": 92,
   "metadata": {},
   "outputs": [],
   "source": [
    "resFHT = VAR.VAR(endog=prin_factors_FHT['2000':'2016'])"
   ]
  },
  {
   "cell_type": "code",
   "execution_count": 93,
   "metadata": {},
   "outputs": [
    {
     "name": "stdout",
     "output_type": "stream",
     "text": [
      "                 VAR Order Selection                  \n",
      "======================================================\n",
      "            aic          bic          fpe         hqic\n",
      "------------------------------------------------------\n",
      "0       -2.907*      -2.788*     0.05461*      -2.859*\n",
      "1        -2.742       -1.785      0.06446       -2.354\n",
      "2        -2.714      -0.9200      0.06640       -1.987\n",
      "3        -2.831      -0.1989      0.05940       -1.765\n",
      "4        -2.647       0.8223      0.07207       -1.242\n",
      "5        -2.712        1.594      0.06859      -0.9676\n",
      "6        -2.542        2.602      0.08323      -0.4583\n",
      "7        -2.322        3.659       0.1072       0.1007\n",
      "8        -2.065        4.753       0.1448       0.6968\n",
      "9        -1.838        5.818       0.1928        1.264\n",
      "10       -1.676        6.817       0.2441        1.764\n",
      "11       -1.448        7.883       0.3368        2.331\n",
      "12       -2.448        7.720       0.1392        1.671\n",
      "13       -2.564        8.441       0.1430        1.894\n",
      "14       -2.789        9.054       0.1360        2.008\n",
      "======================================================\n",
      "* Minimum\n",
      "\n"
     ]
    },
    {
     "data": {
      "text/plain": [
       "{'aic': 0, 'bic': 0, 'fpe': 0, 'hqic': 0}"
      ]
     },
     "execution_count": 93,
     "metadata": {},
     "output_type": "execute_result"
    }
   ],
   "source": [
    "resFHT.select_order(14)"
   ]
  },
  {
   "cell_type": "code",
   "execution_count": 119,
   "metadata": {},
   "outputs": [
    {
     "name": "stdout",
     "output_type": "stream",
     "text": [
      "  Summary of Regression Results   \n",
      "==================================\n",
      "Model:                         VAR\n",
      "Method:                        OLS\n",
      "Date:           Tue, 22, May, 2018\n",
      "Time:                     10:14:23\n",
      "--------------------------------------------------------------------\n",
      "No. of Equations:         7.00000    BIC:                   -1.30136\n",
      "Nobs:                     203.000    HQIC:                  -1.84558\n",
      "Log likelihood:          -1735.45    FPE:                   0.109147\n",
      "AIC:                     -2.21535    Det(Omega_mle):       0.0832734\n",
      "--------------------------------------------------------------------\n",
      "Results for equation Agriculturals\n",
      "===================================================================================\n",
      "                      coefficient       std. error           t-stat            prob\n",
      "-----------------------------------------------------------------------------------\n",
      "const                   -0.146670         0.122635           -1.196           0.233\n",
      "L1.Agriculturals         0.031401         0.116823            0.269           0.788\n",
      "L1.Currencies            0.038858         0.301583            0.129           0.898\n",
      "L1.Energies             -0.026966         0.180483           -0.149           0.881\n",
      "L1.Equities             -0.090629         0.208625           -0.434           0.664\n",
      "L1.Metals                0.147092         0.127799            1.151           0.251\n",
      "L1.Fixed Income          0.243996         0.189305            1.289           0.199\n",
      "L1.Total                 0.015618         0.115140            0.136           0.892\n",
      "===================================================================================\n",
      "\n",
      "Results for equation Currencies\n",
      "===================================================================================\n",
      "                      coefficient       std. error           t-stat            prob\n",
      "-----------------------------------------------------------------------------------\n",
      "const                    0.019478         0.066822            0.291           0.771\n",
      "L1.Agriculturals        -0.025660         0.063655           -0.403           0.687\n",
      "L1.Currencies            0.019488         0.164329            0.119           0.906\n",
      "L1.Energies             -0.044568         0.098343           -0.453           0.651\n",
      "L1.Equities             -0.112978         0.113677           -0.994           0.322\n",
      "L1.Metals               -0.002594         0.069636           -0.037           0.970\n",
      "L1.Fixed Income          0.092454         0.103150            0.896           0.371\n",
      "L1.Total                 0.093489         0.062738            1.490           0.138\n",
      "===================================================================================\n",
      "\n",
      "Results for equation Energies\n",
      "===================================================================================\n",
      "                      coefficient       std. error           t-stat            prob\n",
      "-----------------------------------------------------------------------------------\n",
      "const                   -0.132836         0.083288           -1.595           0.112\n",
      "L1.Agriculturals        -0.049869         0.079340           -0.629           0.530\n",
      "L1.Currencies           -0.098172         0.204821           -0.479           0.632\n",
      "L1.Energies              0.094631         0.122575            0.772           0.441\n",
      "L1.Equities             -0.099029         0.141688           -0.699           0.485\n",
      "L1.Metals                0.045490         0.086795            0.524           0.601\n",
      "L1.Fixed Income          0.034784         0.128567            0.271           0.787\n",
      "L1.Total                 0.058296         0.078197            0.745           0.457\n",
      "===================================================================================\n",
      "\n",
      "Results for equation Equities\n",
      "===================================================================================\n",
      "                      coefficient       std. error           t-stat            prob\n",
      "-----------------------------------------------------------------------------------\n",
      "const                    0.134330         0.115711            1.161           0.247\n",
      "L1.Agriculturals        -0.116815         0.110226           -1.060           0.291\n",
      "L1.Currencies           -0.219324         0.284554           -0.771           0.442\n",
      "L1.Energies              0.114172         0.170292            0.670           0.503\n",
      "L1.Equities             -0.148324         0.196845           -0.754           0.452\n",
      "L1.Metals               -0.036446         0.120583           -0.302           0.763\n",
      "L1.Fixed Income          0.090430         0.178616            0.506           0.613\n",
      "L1.Total                 0.192152         0.108639            1.769           0.079\n",
      "===================================================================================\n",
      "\n",
      "Results for equation Metals\n",
      "===================================================================================\n",
      "                      coefficient       std. error           t-stat            prob\n",
      "-----------------------------------------------------------------------------------\n",
      "const                   -0.222154         0.101243           -2.194           0.029\n",
      "L1.Agriculturals         0.024324         0.096445            0.252           0.801\n",
      "L1.Currencies           -0.069438         0.248977           -0.279           0.781\n",
      "L1.Energies             -0.049070         0.149001           -0.329           0.742\n",
      "L1.Equities             -0.148812         0.172234           -0.864           0.389\n",
      "L1.Metals                0.045522         0.105507            0.431           0.667\n",
      "L1.Fixed Income          0.091152         0.156284            0.583           0.560\n",
      "L1.Total                 0.093766         0.095055            0.986           0.325\n",
      "===================================================================================\n",
      "\n",
      "Results for equation Fixed Income\n",
      "===================================================================================\n",
      "                      coefficient       std. error           t-stat            prob\n",
      "-----------------------------------------------------------------------------------\n",
      "const                    0.051490         0.088242            0.584           0.560\n",
      "L1.Agriculturals         0.042232         0.084060            0.502           0.616\n",
      "L1.Currencies           -0.123322         0.217005           -0.568           0.570\n",
      "L1.Energies              0.057377         0.129867            0.442           0.659\n",
      "L1.Equities              0.069866         0.150117            0.465           0.642\n",
      "L1.Metals               -0.034841         0.091958           -0.379           0.705\n",
      "L1.Fixed Income         -0.092589         0.136215           -0.680           0.497\n",
      "L1.Total                -0.040066         0.082849           -0.484           0.629\n",
      "===================================================================================\n",
      "\n",
      "Results for equation Total\n",
      "===================================================================================\n",
      "                      coefficient       std. error           t-stat            prob\n",
      "-----------------------------------------------------------------------------------\n",
      "const                    0.160410         0.226945            0.707           0.481\n",
      "L1.Agriculturals        -0.185192         0.216189           -0.857           0.393\n",
      "L1.Currencies           -0.450045         0.558102           -0.806           0.421\n",
      "L1.Energies             -0.066389         0.333997           -0.199           0.843\n",
      "L1.Equities             -0.427155         0.386076           -1.106           0.270\n",
      "L1.Metals               -0.048244         0.236502           -0.204           0.839\n",
      "L1.Fixed Income          0.286247         0.350323            0.817           0.415\n",
      "L1.Total                 0.553448         0.213075            2.597           0.010\n",
      "===================================================================================\n",
      "\n",
      "Correlation matrix of residuals\n",
      "                 Agriculturals  Currencies  Energies  Equities    Metals  Fixed Income     Total\n",
      "Agriculturals         1.000000    0.663083  0.739062  0.673472  0.619524     -0.642504  0.697174\n",
      "Currencies            0.663083    1.000000  0.675082  0.724540  0.628266     -0.804090  0.811530\n",
      "Energies              0.739062    0.675082  1.000000  0.737090  0.558203     -0.626983  0.748503\n",
      "Equities              0.673472    0.724540  0.737090  1.000000  0.692038     -0.696616  0.911714\n",
      "Metals                0.619524    0.628266  0.558203  0.692038  1.000000     -0.606500  0.656880\n",
      "Fixed Income         -0.642504   -0.804090 -0.626983 -0.696616 -0.606500      1.000000 -0.661243\n",
      "Total                 0.697174    0.811530  0.748503  0.911714  0.656880     -0.661243  1.000000\n",
      "\n",
      "\n",
      "\n"
     ]
    }
   ],
   "source": [
    "print resFHT.fit(1).summary()"
   ]
  },
  {
   "cell_type": "code",
   "execution_count": null,
   "metadata": {},
   "outputs": [],
   "source": []
  }
 ],
 "metadata": {
  "kernelspec": {
   "display_name": "Python 2",
   "language": "python",
   "name": "python2"
  },
  "language_info": {
   "codemirror_mode": {
    "name": "ipython",
    "version": 2
   },
   "file_extension": ".py",
   "mimetype": "text/x-python",
   "name": "python",
   "nbconvert_exporter": "python",
   "pygments_lexer": "ipython2",
   "version": "2.7.12"
  }
 },
 "nbformat": 4,
 "nbformat_minor": 2
}
