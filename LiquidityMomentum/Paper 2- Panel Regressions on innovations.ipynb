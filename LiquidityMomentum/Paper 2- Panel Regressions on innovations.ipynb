{
 "cells": [
  {
   "cell_type": "code",
   "execution_count": 1,
   "metadata": {},
   "outputs": [
    {
     "name": "stderr",
     "output_type": "stream",
     "text": [
      "/Users/mrefermat/anaconda3/lib/python3.6/site-packages/statsmodels/compat/pandas.py:56: FutureWarning: The pandas.core.datetools module is deprecated and will be removed in a future version. Please use the pandas.tseries module instead.\n",
      "  from pandas.core import datetools\n"
     ]
    }
   ],
   "source": [
    "%matplotlib inline\n",
    "import math\n",
    "import pandas as pd\n",
    "from tsmom_model3 import *\n",
    "import numpy as np\n",
    "from datetime import datetime\n",
    "import linearmodels as lm\n",
    "import statsmodels.api as sm"
   ]
  },
  {
   "cell_type": "code",
   "execution_count": 2,
   "metadata": {
    "collapsed": true
   },
   "outputs": [],
   "source": [
    "import pylab\n",
    "sns.set(font_scale=2)\n",
    "pylab.rcParams['figure.figsize'] = (24, 18)"
   ]
  },
  {
   "cell_type": "markdown",
   "metadata": {},
   "source": [
    "# Hand cleansed\n",
    "Hand cleaned to removed duplicates"
   ]
  },
  {
   "cell_type": "code",
   "execution_count": 3,
   "metadata": {},
   "outputs": [
    {
     "name": "stderr",
     "output_type": "stream",
     "text": [
      "/Users/mrefermat/git/FinancePhD/LiquidityMomentum/tsmom_model3.py:36: FutureWarning: how in .resample() is deprecated\n",
      "the new syntax is .resample(...).last()\n",
      "  data=pd.read_csv('./Price.csv',index_col=0,parse_dates=['Date']).resample(rule='d',how='last')\n",
      "/Users/mrefermat/git/FinancePhD/LiquidityMomentum/tsmom_model3.py:38: FutureWarning: how in .resample() is deprecated\n",
      "the new syntax is .resample(...).last()\n",
      "  qd=pd.read_csv('./liquid_contracts.csv',index_col=0,parse_dates=['Date']).resample(rule='d',how='last')\n"
     ]
    }
   ],
   "source": [
    "cleansed=load_amihud_markets_price()"
   ]
  },
  {
   "cell_type": "markdown",
   "metadata": {},
   "source": [
    "# Amihud methodology\n",
    "\n",
    "Amihud (2002) developed the illiquidity measure expressed by:\n",
    "\n",
    "$$ Amihud =\\frac{1}{N} \\sum \\frac{|r_t|}{\\text{dvol}_t} $$\n",
    "\n",
    "where $r_t$ is the return on day $t$ and $Volume_t$ is the dollar volume on day $t$. \n",
    "\n",
    "The benefit of taking the daily return is to weight the move by change of price and the volume.\n"
   ]
  },
  {
   "cell_type": "code",
   "execution_count": 4,
   "metadata": {},
   "outputs": [
    {
     "name": "stderr",
     "output_type": "stream",
     "text": [
      "/Users/mrefermat/git/FinancePhD/LiquidityMomentum/tsmom_model3.py:25: FutureWarning: how in .resample() is deprecated\n",
      "the new syntax is .resample(...).mean()\n",
      "  data=pd.read_csv('./Volume.csv',index_col=0,parse_dates=['Date']).resample(rule='d',how='mean')\n",
      "/Users/mrefermat/git/FinancePhD/LiquidityMomentum/tsmom_model3.py:27: FutureWarning: how in .resample() is deprecated\n",
      "the new syntax is .resample(...).sum()\n",
      "  v=pd.read_csv('./volume_data.csv',index_col=0,parse_dates=['Date']).resample(rule='d',how='sum')\n",
      "/Users/mrefermat/git/FinancePhD/LiquidityMomentum/tsmom_model3.py:29: FutureWarning: pd.rolling_mean is deprecated for DataFrame and will be removed in a future version, replace with \n",
      "\tDataFrame.rolling(window=250,min_periods=100,center=False).mean()\n",
      "  volume=pd.rolling_mean(v,250,min_periods=100).resample(rule='d',how='mean')[:'2016']\n",
      "/Users/mrefermat/git/FinancePhD/LiquidityMomentum/tsmom_model3.py:29: FutureWarning: how in .resample() is deprecated\n",
      "the new syntax is .resample(...).mean()\n",
      "  volume=pd.rolling_mean(v,250,min_periods=100).resample(rule='d',how='mean')[:'2016']\n",
      "/Users/mrefermat/git/FinancePhD/LiquidityMomentum/tsmom_model3.py:32: FutureWarning: pd.rolling_mean is deprecated for Series and will be removed in a future version, replace with \n",
      "\tSeries.rolling(window=250,min_periods=50,center=False).mean()\n",
      "  volume[name]=pd.rolling_mean(v2[x],250,min_periods=50).resample(rule='d',how='mean')\n",
      "/Users/mrefermat/git/FinancePhD/LiquidityMomentum/tsmom_model3.py:32: FutureWarning: how in .resample() is deprecated\n",
      "the new syntax is .resample(...).mean()\n",
      "  volume[name]=pd.rolling_mean(v2[x],250,min_periods=50).resample(rule='d',how='mean')\n",
      "/Users/mrefermat/git/FinancePhD/LiquidityMomentum/tsmom_model3.py:89: FutureWarning: how in .resample() is deprecated\n",
      "the new syntax is .resample(...).last()\n",
      "  fx=fx.resample(rule='d',how='last')\n",
      "/Users/mrefermat/git/FinancePhD/LiquidityMomentum/tsmom_model3.py:90: FutureWarning: how in .resample() is deprecated\n",
      "the new syntax is .resample(...).last()\n",
      "  px=cleansed.resample(rule='d',how='last')\n",
      "/Users/mrefermat/git/FinancePhD/LiquidityMomentum/tsmom_model3.py:98: FutureWarning: how in .resample() is deprecated\n",
      "the new syntax is .resample(...).mean()\n",
      "  x= (cleansed.pct_change().abs()/ total_vol).resample(rule='m',how='mean')\n"
     ]
    }
   ],
   "source": [
    "amihud=calculate_amihud_liquidity(cleansed)[:'2016'] "
   ]
  },
  {
   "cell_type": "code",
   "execution_count": 5,
   "metadata": {
    "collapsed": true
   },
   "outputs": [],
   "source": [
    "sector_resid={}\n",
    "sector_rsq={}\n",
    "d_map=sector_map(amihud)\n",
    "for sect in d_map.keys():\n",
    "    sector_data={}\n",
    "    rsq=pd.Series()\n",
    "    for mkt in d_map[sect]:\n",
    "        ind2=amihud[mkt].dropna().index\n",
    "        ind=amihud[mkt].shift().loc[ind2].dropna().index\n",
    "        res=sm.OLS(amihud[mkt].shift().loc[ind],amihud[mkt].loc[ind]).fit()\n",
    "        sector_data[mkt]=res.resid\n",
    "        rsq[mkt]=res.rsquared\n",
    "    sector_resid[sect]=pd.DataFrame(sector_data)\n",
    "    sector_rsq[sect]=rsq.mean()\n"
   ]
  },
  {
   "cell_type": "code",
   "execution_count": 6,
   "metadata": {},
   "outputs": [],
   "source": [
    "sector_rtns={}\n",
    "d_map=sector_map(amihud)\n",
    "for sect in d_map.keys():\n",
    "    sector_rtns[sect]=cleansed[d_map[sect]].dropna(how='all')"
   ]
  },
  {
   "cell_type": "code",
   "execution_count": 34,
   "metadata": {},
   "outputs": [
    {
     "name": "stderr",
     "output_type": "stream",
     "text": [
      "/Users/mrefermat/anaconda3/lib/python3.6/site-packages/ipykernel_launcher.py:8: FutureWarning: how in .resample() is deprecated\n",
      "the new syntax is .resample(...).last()\n",
      "  \n",
      "/Users/mrefermat/anaconda3/lib/python3.6/site-packages/ipykernel_launcher.py:11: DeprecationWarning: \n",
      "Panel is deprecated and will be removed in a future version.\n",
      "The recommended way to represent these types of 3-dimensional data are with a MultiIndex on a DataFrame, via the Panel.to_frame() method\n",
      "Alternatively, you can use the xarray package http://xarray.pydata.org/en/stable/.\n",
      "Pandas provides a `.to_xarray()` method to help automate this conversion.\n",
      "\n",
      "  # This is added back by InteractiveShellApp.init_path()\n",
      "/Users/mrefermat/anaconda3/lib/python3.6/site-packages/ipykernel_launcher.py:12: DeprecationWarning: \n",
      "Panel is deprecated and will be removed in a future version.\n",
      "The recommended way to represent these types of 3-dimensional data are with a MultiIndex on a DataFrame, via the Panel.to_frame() method\n",
      "Alternatively, you can use the xarray package http://xarray.pydata.org/en/stable/.\n",
      "Pandas provides a `.to_xarray()` method to help automate this conversion.\n",
      "\n",
      "  if sys.path[0] == '':\n",
      "/Users/mrefermat/anaconda3/lib/python3.6/site-packages/linearmodels/utility.py:490: MissingValueWarning: \n",
      "Inputs contain missing values. Dropping rows with missing observations.\n",
      "  warnings.warn(missing_value_warning_msg, MissingValueWarning)\n"
     ]
    }
   ],
   "source": [
    "results_df=pd.DataFrame()\n",
    "for sect in sector_resid.keys():\n",
    "    c_matrix=[]\n",
    "    tstats=[]\n",
    "    for t in [0,1]:\n",
    "        for ent in [0,1]:\n",
    "            data=pd.DataFrame(sector_resid[sect].stack()) \n",
    "            px=pd.DataFrame(sector_rtns[sect].resample(rule='m',how='last').pct_change().shift().stack())\n",
    "            ind=data.index\n",
    "            px=px.loc[ind]\n",
    "            res=lm.PanelOLS(px.to_panel()[0],\n",
    "                    data.to_panel()[0], \n",
    "                    time_effects=t,\n",
    "                    entity_effects=ent).fit(cov_type='clustered',cluster_time=True)\n",
    "            c_matrix.append(res.params.Exog)\n",
    "            tstats.append(res.tstats.Exog)\n",
    "    results_df[sect]=pd.Series(c_matrix)/10000.0\n",
    "    results_df[sect + 'Tstats']=pd.Series(tstats)\n",
    "results_df=results_df.set_index([['None','Ent','Time','Ent and Time']])"
   ]
  },
  {
   "cell_type": "code",
   "execution_count": 35,
   "metadata": {},
   "outputs": [
    {
     "data": {
      "text/html": [
       "<div>\n",
       "<style>\n",
       "    .dataframe thead tr:only-child th {\n",
       "        text-align: right;\n",
       "    }\n",
       "\n",
       "    .dataframe thead th {\n",
       "        text-align: left;\n",
       "    }\n",
       "\n",
       "    .dataframe tbody tr th {\n",
       "        vertical-align: top;\n",
       "    }\n",
       "</style>\n",
       "<table border=\"1\" class=\"dataframe\">\n",
       "  <thead>\n",
       "    <tr style=\"text-align: right;\">\n",
       "      <th></th>\n",
       "      <th>None</th>\n",
       "      <th>Ent</th>\n",
       "      <th>Time</th>\n",
       "      <th>Ent and Time</th>\n",
       "    </tr>\n",
       "  </thead>\n",
       "  <tbody>\n",
       "    <tr>\n",
       "      <th>Equities</th>\n",
       "      <td>0.23</td>\n",
       "      <td>0.20</td>\n",
       "      <td>0.11</td>\n",
       "      <td>0.10</td>\n",
       "    </tr>\n",
       "    <tr>\n",
       "      <th>EquitiesTstats</th>\n",
       "      <td>2.01</td>\n",
       "      <td>1.66</td>\n",
       "      <td>2.96</td>\n",
       "      <td>2.73</td>\n",
       "    </tr>\n",
       "    <tr>\n",
       "      <th>Commodities</th>\n",
       "      <td>-1.32</td>\n",
       "      <td>-1.80</td>\n",
       "      <td>0.01</td>\n",
       "      <td>0.13</td>\n",
       "    </tr>\n",
       "    <tr>\n",
       "      <th>CommoditiesTstats</th>\n",
       "      <td>-0.27</td>\n",
       "      <td>-0.36</td>\n",
       "      <td>0.00</td>\n",
       "      <td>0.03</td>\n",
       "    </tr>\n",
       "    <tr>\n",
       "      <th>Currencies</th>\n",
       "      <td>-0.24</td>\n",
       "      <td>-0.24</td>\n",
       "      <td>-0.25</td>\n",
       "      <td>-0.25</td>\n",
       "    </tr>\n",
       "    <tr>\n",
       "      <th>CurrenciesTstats</th>\n",
       "      <td>-1.33</td>\n",
       "      <td>-1.31</td>\n",
       "      <td>-1.37</td>\n",
       "      <td>-1.19</td>\n",
       "    </tr>\n",
       "    <tr>\n",
       "      <th>Fixed Income</th>\n",
       "      <td>-1078.27</td>\n",
       "      <td>-1101.20</td>\n",
       "      <td>-541.79</td>\n",
       "      <td>-434.23</td>\n",
       "    </tr>\n",
       "    <tr>\n",
       "      <th>Fixed IncomeTstats</th>\n",
       "      <td>-1.35</td>\n",
       "      <td>-1.35</td>\n",
       "      <td>-0.52</td>\n",
       "      <td>-0.40</td>\n",
       "    </tr>\n",
       "  </tbody>\n",
       "</table>\n",
       "</div>"
      ],
      "text/plain": [
       "                       None      Ent    Time  Ent and Time\n",
       "Equities               0.23     0.20    0.11          0.10\n",
       "EquitiesTstats         2.01     1.66    2.96          2.73\n",
       "Commodities           -1.32    -1.80    0.01          0.13\n",
       "CommoditiesTstats     -0.27    -0.36    0.00          0.03\n",
       "Currencies            -0.24    -0.24   -0.25         -0.25\n",
       "CurrenciesTstats      -1.33    -1.31   -1.37         -1.19\n",
       "Fixed Income       -1078.27 -1101.20 -541.79       -434.23\n",
       "Fixed IncomeTstats    -1.35    -1.35   -0.52         -0.40"
      ]
     },
     "execution_count": 35,
     "metadata": {},
     "output_type": "execute_result"
    }
   ],
   "source": [
    "results_df.T.round(2)"
   ]
  },
  {
   "cell_type": "markdown",
   "metadata": {},
   "source": [
    "# FHT method"
   ]
  },
  {
   "cell_type": "code",
   "execution_count": 9,
   "metadata": {},
   "outputs": [
    {
     "name": "stderr",
     "output_type": "stream",
     "text": [
      "/Users/mrefermat/git/FinancePhD/LiquidityMomentum/tsmom_model3.py:53: FutureWarning: how in .resample() is deprecated\n",
      "the new syntax is .resample(...).count()\n",
      "  nonzero=x[x==0].resample(rule='m',how='count')\n",
      "/Users/mrefermat/git/FinancePhD/LiquidityMomentum/tsmom_model3.py:54: FutureWarning: how in .resample() is deprecated\n",
      "the new syntax is .resample(...).count()\n",
      "  Z=(nonzero/x.resample(rule='m',how='count')).dropna()\n",
      "/Users/mrefermat/git/FinancePhD/LiquidityMomentum/tsmom_model3.py:55: FutureWarning: pd.rolling_std is deprecated for Series and will be removed in a future version, replace with \n",
      "\tSeries.rolling(window=12,center=False).std()\n",
      "  data[c]=pd.Series(norm.cdf((1+Z)/2.),index=Z.index)*2*pd.rolling_std(x,12).resample(rule='m',how='last')\n",
      "/Users/mrefermat/git/FinancePhD/LiquidityMomentum/tsmom_model3.py:55: FutureWarning: how in .resample() is deprecated\n",
      "the new syntax is .resample(...).last()\n",
      "  data[c]=pd.Series(norm.cdf((1+Z)/2.),index=Z.index)*2*pd.rolling_std(x,12).resample(rule='m',how='last')\n"
     ]
    }
   ],
   "source": [
    "FHT=calculate_FHT(cleansed)"
   ]
  },
  {
   "cell_type": "code",
   "execution_count": 10,
   "metadata": {
    "collapsed": true
   },
   "outputs": [],
   "source": [
    "sector_resid_FHT={}\n",
    "sector_rsq_FHT={}\n",
    "d_map=sector_map(amihud)\n",
    "for sect in d_map.keys():\n",
    "    sector_data={}\n",
    "    rsq=pd.Series()\n",
    "    for mkt in d_map[sect]:\n",
    "        ind2=FHT[mkt].dropna().index\n",
    "        ind=FHT[mkt].shift().loc[ind2].dropna().index\n",
    "        res=sm.OLS(FHT[mkt].shift().loc[ind],FHT[mkt].loc[ind]).fit()\n",
    "        sector_data[mkt]=res.resid\n",
    "        rsq[mkt]=res.rsquared\n",
    "    sector_resid_FHT[sect]=pd.DataFrame(sector_data)\n",
    "    sector_rsq_FHT[sect]=rsq.mean()"
   ]
  },
  {
   "cell_type": "code",
   "execution_count": 11,
   "metadata": {},
   "outputs": [
    {
     "name": "stderr",
     "output_type": "stream",
     "text": [
      "/Users/mrefermat/anaconda3/lib/python3.6/site-packages/ipykernel_launcher.py:8: FutureWarning: how in .resample() is deprecated\n",
      "the new syntax is .resample(...).last()\n",
      "  \n",
      "/Users/mrefermat/anaconda3/lib/python3.6/site-packages/ipykernel_launcher.py:11: DeprecationWarning: \n",
      "Panel is deprecated and will be removed in a future version.\n",
      "The recommended way to represent these types of 3-dimensional data are with a MultiIndex on a DataFrame, via the Panel.to_frame() method\n",
      "Alternatively, you can use the xarray package http://xarray.pydata.org/en/stable/.\n",
      "Pandas provides a `.to_xarray()` method to help automate this conversion.\n",
      "\n",
      "  # This is added back by InteractiveShellApp.init_path()\n",
      "/Users/mrefermat/anaconda3/lib/python3.6/site-packages/ipykernel_launcher.py:12: DeprecationWarning: \n",
      "Panel is deprecated and will be removed in a future version.\n",
      "The recommended way to represent these types of 3-dimensional data are with a MultiIndex on a DataFrame, via the Panel.to_frame() method\n",
      "Alternatively, you can use the xarray package http://xarray.pydata.org/en/stable/.\n",
      "Pandas provides a `.to_xarray()` method to help automate this conversion.\n",
      "\n",
      "  if sys.path[0] == '':\n",
      "/Users/mrefermat/anaconda3/lib/python3.6/site-packages/linearmodels/utility.py:490: MissingValueWarning: \n",
      "Inputs contain missing values. Dropping rows with missing observations.\n",
      "  warnings.warn(missing_value_warning_msg, MissingValueWarning)\n"
     ]
    }
   ],
   "source": [
    "results_df_FHT=pd.DataFrame()\n",
    "for sect in sector_resid_FHT.keys():\n",
    "    c_matrix=[]\n",
    "    tstats=[]\n",
    "    for t in [0,1]:\n",
    "        for ent in [0,1]:\n",
    "            data=pd.DataFrame(sector_resid_FHT[sect].stack()) \n",
    "            px=pd.DataFrame(sector_rtns[sect].resample(rule='m',how='last').pct_change().shift().stack())\n",
    "            ind=data.index\n",
    "            px=px.loc[ind]\n",
    "            res=lm.PanelOLS(px.to_panel()[0],\n",
    "                    data.to_panel()[0], \n",
    "                    time_effects=t,\n",
    "                    entity_effects=ent).fit(cov_type='clustered',cluster_time=True)\n",
    "            c_matrix.append(res.params.Exog)\n",
    "            tstats.append(res.tstats.Exog)\n",
    "    results_df_FHT[sect]=pd.Series(c_matrix)*100\n",
    "    results_df_FHT[sect + 'Tstats']=pd.Series(tstats)\n",
    "results_df_FHT=results_df_FHT.set_index([['None','Ent','Time','Ent and Time']])"
   ]
  },
  {
   "cell_type": "code",
   "execution_count": 12,
   "metadata": {},
   "outputs": [
    {
     "data": {
      "text/html": [
       "<div>\n",
       "<style>\n",
       "    .dataframe thead tr:only-child th {\n",
       "        text-align: right;\n",
       "    }\n",
       "\n",
       "    .dataframe thead th {\n",
       "        text-align: left;\n",
       "    }\n",
       "\n",
       "    .dataframe tbody tr th {\n",
       "        vertical-align: top;\n",
       "    }\n",
       "</style>\n",
       "<table border=\"1\" class=\"dataframe\">\n",
       "  <thead>\n",
       "    <tr style=\"text-align: right;\">\n",
       "      <th></th>\n",
       "      <th>None</th>\n",
       "      <th>Ent</th>\n",
       "      <th>Time</th>\n",
       "      <th>Ent and Time</th>\n",
       "    </tr>\n",
       "  </thead>\n",
       "  <tbody>\n",
       "    <tr>\n",
       "      <th>Equities</th>\n",
       "      <td>44.30</td>\n",
       "      <td>33.83</td>\n",
       "      <td>74.70</td>\n",
       "      <td>71.50</td>\n",
       "    </tr>\n",
       "    <tr>\n",
       "      <th>EquitiesTstats</th>\n",
       "      <td>1.14</td>\n",
       "      <td>0.85</td>\n",
       "      <td>1.74</td>\n",
       "      <td>1.62</td>\n",
       "    </tr>\n",
       "    <tr>\n",
       "      <th>Commodities</th>\n",
       "      <td>-0.42</td>\n",
       "      <td>-0.50</td>\n",
       "      <td>-0.14</td>\n",
       "      <td>-0.17</td>\n",
       "    </tr>\n",
       "    <tr>\n",
       "      <th>CommoditiesTstats</th>\n",
       "      <td>-1.62</td>\n",
       "      <td>-2.35</td>\n",
       "      <td>-0.59</td>\n",
       "      <td>-0.73</td>\n",
       "    </tr>\n",
       "    <tr>\n",
       "      <th>Currencies</th>\n",
       "      <td>50.91</td>\n",
       "      <td>61.17</td>\n",
       "      <td>53.04</td>\n",
       "      <td>63.26</td>\n",
       "    </tr>\n",
       "    <tr>\n",
       "      <th>CurrenciesTstats</th>\n",
       "      <td>0.46</td>\n",
       "      <td>0.50</td>\n",
       "      <td>0.47</td>\n",
       "      <td>0.44</td>\n",
       "    </tr>\n",
       "    <tr>\n",
       "      <th>Fixed Income</th>\n",
       "      <td>-25.16</td>\n",
       "      <td>-36.86</td>\n",
       "      <td>-34.87</td>\n",
       "      <td>-40.38</td>\n",
       "    </tr>\n",
       "    <tr>\n",
       "      <th>Fixed IncomeTstats</th>\n",
       "      <td>-0.60</td>\n",
       "      <td>-0.84</td>\n",
       "      <td>-0.84</td>\n",
       "      <td>-0.92</td>\n",
       "    </tr>\n",
       "  </tbody>\n",
       "</table>\n",
       "</div>"
      ],
      "text/plain": [
       "                     None    Ent   Time  Ent and Time\n",
       "Equities            44.30  33.83  74.70         71.50\n",
       "EquitiesTstats       1.14   0.85   1.74          1.62\n",
       "Commodities         -0.42  -0.50  -0.14         -0.17\n",
       "CommoditiesTstats   -1.62  -2.35  -0.59         -0.73\n",
       "Currencies          50.91  61.17  53.04         63.26\n",
       "CurrenciesTstats     0.46   0.50   0.47          0.44\n",
       "Fixed Income       -25.16 -36.86 -34.87        -40.38\n",
       "Fixed IncomeTstats  -0.60  -0.84  -0.84         -0.92"
      ]
     },
     "execution_count": 12,
     "metadata": {},
     "output_type": "execute_result"
    }
   ],
   "source": [
    "results_df_FHT.T.round(2)"
   ]
  },
  {
   "cell_type": "markdown",
   "metadata": {},
   "source": [
    "# Presentation\n",
    "First rsquares of residuals"
   ]
  },
  {
   "cell_type": "code",
   "execution_count": 36,
   "metadata": {},
   "outputs": [
    {
     "name": "stdout",
     "output_type": "stream",
     "text": [
      "\\begin{tabular}{lrrrr}\n",
      "\\toprule\n",
      "{} &     None &      Ent &    Time &  Ent and Time \\\\\n",
      "\\midrule\n",
      "Equities           &     0.23 &     0.20 &    0.11 &          0.10 \\\\\n",
      "EquitiesTstats     &     2.01 &     1.66 &    2.96 &          2.73 \\\\\n",
      "Commodities        &    -1.32 &    -1.80 &    0.01 &          0.13 \\\\\n",
      "CommoditiesTstats  &    -0.27 &    -0.36 &    0.00 &          0.03 \\\\\n",
      "Currencies         &    -0.24 &    -0.24 &   -0.25 &         -0.25 \\\\\n",
      "CurrenciesTstats   &    -1.33 &    -1.31 &   -1.37 &         -1.19 \\\\\n",
      "Fixed Income       & -1078.27 & -1101.20 & -541.79 &       -434.23 \\\\\n",
      "Fixed IncomeTstats &    -1.35 &    -1.35 &   -0.52 &         -0.40 \\\\\n",
      "\\bottomrule\n",
      "\\end{tabular}\n",
      "\n"
     ]
    }
   ],
   "source": [
    "print(results_df.T.round(2).to_latex())"
   ]
  },
  {
   "cell_type": "code",
   "execution_count": 13,
   "metadata": {},
   "outputs": [
    {
     "name": "stdout",
     "output_type": "stream",
     "text": [
      "\\begin{tabular}{lrrrr}\n",
      "\\toprule\n",
      "{} &   None &    Ent &   Time &  Ent and Time \\\\\n",
      "\\midrule\n",
      "Equities           &  44.30 &  33.83 &  74.70 &         71.50 \\\\\n",
      "EquitiesTstats     &   1.14 &   0.85 &   1.74 &          1.62 \\\\\n",
      "Commodities        &  -0.42 &  -0.50 &  -0.14 &         -0.17 \\\\\n",
      "CommoditiesTstats  &  -1.62 &  -2.35 &  -0.59 &         -0.73 \\\\\n",
      "Currencies         &  50.91 &  61.17 &  53.04 &         63.26 \\\\\n",
      "CurrenciesTstats   &   0.46 &   0.50 &   0.47 &          0.44 \\\\\n",
      "Fixed Income       & -25.16 & -36.86 & -34.87 &        -40.38 \\\\\n",
      "Fixed IncomeTstats &  -0.60 &  -0.84 &  -0.84 &         -0.92 \\\\\n",
      "\\bottomrule\n",
      "\\end{tabular}\n",
      "\n"
     ]
    }
   ],
   "source": [
    "print(results_df_FHT.T.round(2).to_latex())"
   ]
  },
  {
   "cell_type": "code",
   "execution_count": null,
   "metadata": {},
   "outputs": [],
   "source": []
  }
 ],
 "metadata": {
  "kernelspec": {
   "display_name": "Python 3",
   "language": "python",
   "name": "python3"
  },
  "language_info": {
   "codemirror_mode": {
    "name": "ipython",
    "version": 3
   },
   "file_extension": ".py",
   "mimetype": "text/x-python",
   "name": "python",
   "nbconvert_exporter": "python",
   "pygments_lexer": "ipython3",
   "version": "3.6.3"
  }
 },
 "nbformat": 4,
 "nbformat_minor": 2
}
