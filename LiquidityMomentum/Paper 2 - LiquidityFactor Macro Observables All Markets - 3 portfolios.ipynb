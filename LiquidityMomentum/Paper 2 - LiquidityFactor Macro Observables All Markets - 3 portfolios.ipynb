{
 "cells": [
  {
   "cell_type": "code",
   "execution_count": 1,
   "metadata": {},
   "outputs": [
    {
     "name": "stderr",
     "output_type": "stream",
     "text": [
      "/Users/mrefermat/anaconda/lib/python2.7/site-packages/IPython/utils/traitlets.py:5: UserWarning: IPython.utils.traitlets has moved to a top-level traitlets package.\n",
      "  warn(\"IPython.utils.traitlets has moved to a top-level traitlets package.\")\n",
      "/Users/mrefermat/anaconda/lib/python2.7/site-packages/IPython/kernel/__init__.py:13: ShimWarning: The `IPython.kernel` package has been deprecated since IPython 4.0.You should import from ipykernel or jupyter_client instead.\n",
      "  \"You should import from ipykernel or jupyter_client instead.\", ShimWarning)\n"
     ]
    }
   ],
   "source": [
    "%matplotlib inline\n",
    "import pandas as pd\n",
    "import seaborn as sns\n",
    "import math\n",
    "from tsmom_model import *\n",
    "import numpy as np\n",
    "from datetime import datetime\n",
    "import statsmodels.api as sm"
   ]
  },
  {
   "cell_type": "code",
   "execution_count": 2,
   "metadata": {},
   "outputs": [],
   "source": [
    "import pylab\n",
    "sns.set(font_scale=3)\n",
    "pylab.rcParams['figure.figsize'] = (24, 18)"
   ]
  },
  {
   "cell_type": "code",
   "execution_count": 3,
   "metadata": {},
   "outputs": [
    {
     "name": "stderr",
     "output_type": "stream",
     "text": [
      "tsmom_model.py:422: FutureWarning: how in .resample() is deprecated\n",
      "the new syntax is .resample(...).last()\n",
      "  funding_liquidity['TED Spread']=ted.resample(rule='m',how='last')/100.\n",
      "tsmom_model.py:423: FutureWarning: how in .resample() is deprecated\n",
      "the new syntax is .resample(...).last()\n",
      "  funding_liquidity['LIBOR term repo']=libor_term_repo.resample(rule='m',how='last')/100.\n",
      "tsmom_model.py:427: FutureWarning: how in .resample() is deprecated\n",
      "the new syntax is .resample(...).last()\n",
      "  PS=pd.read_csv('PS.csv',index_col=0,parse_dates=True).resample(rule='m',how='last')\n",
      "tsmom_model.py:428: FutureWarning: how in .resample() is deprecated\n",
      "the new syntax is .resample(...).last()\n",
      "  us10y_zero=quandl.get('FED/SVENY',authtoken=token).SVENY10.resample(rule='d',how='last').dropna()\n",
      "tsmom_model.py:429: FutureWarning: how in .resample() is deprecated\n",
      "the new syntax is .resample(...).last()\n",
      "  yield10=quandl.get('USTREASURY/YIELD',authtoken=token)['10 YR'].resample(rule='d',how='last').dropna()\n",
      "tsmom_model.py:431: FutureWarning: how in .resample() is deprecated\n",
      "the new syntax is .resample(...).last()\n",
      "  market_liquidity['PS']=PS['Innovations in aggregate liquidity'].resample(rule='m',how='last')\n",
      "tsmom_model.py:432: FutureWarning: how in .resample() is deprecated\n",
      "the new syntax is .resample(...).last()\n",
      "  market_liquidity['On versus off the run Treasuries']=on_off.resample(rule='m',how='last')\n"
     ]
    }
   ],
   "source": [
    "funding_liquidity, market_liquidity = liquidity_observables()"
   ]
  },
  {
   "cell_type": "code",
   "execution_count": 4,
   "metadata": {},
   "outputs": [],
   "source": [
    "factors=get_all_factors(3)"
   ]
  },
  {
   "cell_type": "code",
   "execution_count": 5,
   "metadata": {},
   "outputs": [
    {
     "name": "stderr",
     "output_type": "stream",
     "text": [
      "/Users/mrefermat/anaconda/lib/python2.7/site-packages/ipykernel_launcher.py:7: FutureWarning: \n",
      "Passing list-likes to .loc or [] with any missing label will raise\n",
      "KeyError in the future, you can use .reindex() as an alternative.\n",
      "\n",
      "See the documentation here:\n",
      "http://pandas.pydata.org/pandas-docs/stable/indexing.html#deprecate-loc-reindex-listlike\n",
      "  import sys\n"
     ]
    }
   ],
   "source": [
    "results_df=pd.DataFrame()\n",
    "for reg_fact in funding_liquidity.columns:\n",
    "    results_param=[]\n",
    "    results_t=[]\n",
    "    for s in factors.columns:\n",
    "        ind2=funding_liquidity.diff()[reg_fact].dropna().index\n",
    "        ind=factors[s].loc[ind2].dropna().index\n",
    "        # Please make the fit robust \n",
    "        res=sm.OLS(factors[s].loc[ind],sm.add_constant(funding_liquidity.diff()[reg_fact]).loc[ind]).fit(cov_type='HAC',cov_kwds={'maxlags':1})\n",
    "        results_param.append(res.params[reg_fact])\n",
    "        results_t.append(res.tvalues[reg_fact])\n",
    "    results_df[reg_fact]=pd.Series(results_param)\n",
    "    results_df[reg_fact+'Tstats']=pd.Series(results_t)\n",
    "#results_df=results_df.set_index(factors.columns)"
   ]
  },
  {
   "cell_type": "code",
   "execution_count": 6,
   "metadata": {},
   "outputs": [
    {
     "data": {
      "text/html": [
       "<div>\n",
       "<style scoped>\n",
       "    .dataframe tbody tr th:only-of-type {\n",
       "        vertical-align: middle;\n",
       "    }\n",
       "\n",
       "    .dataframe tbody tr th {\n",
       "        vertical-align: top;\n",
       "    }\n",
       "\n",
       "    .dataframe thead th {\n",
       "        text-align: right;\n",
       "    }\n",
       "</style>\n",
       "<table border=\"1\" class=\"dataframe\">\n",
       "  <thead>\n",
       "    <tr style=\"text-align: right;\">\n",
       "      <th></th>\n",
       "      <th>0</th>\n",
       "      <th>1</th>\n",
       "      <th>2</th>\n",
       "      <th>3</th>\n",
       "    </tr>\n",
       "  </thead>\n",
       "  <tbody>\n",
       "    <tr>\n",
       "      <th>TED Spread</th>\n",
       "      <td>-0.88</td>\n",
       "      <td>-0.83</td>\n",
       "      <td>-0.60</td>\n",
       "      <td>-1.03</td>\n",
       "    </tr>\n",
       "    <tr>\n",
       "      <th>TED SpreadTstats</th>\n",
       "      <td>-1.89</td>\n",
       "      <td>-0.75</td>\n",
       "      <td>-0.97</td>\n",
       "      <td>-1.93</td>\n",
       "    </tr>\n",
       "    <tr>\n",
       "      <th>LIBOR term repo</th>\n",
       "      <td>0.41</td>\n",
       "      <td>0.48</td>\n",
       "      <td>0.49</td>\n",
       "      <td>-0.11</td>\n",
       "    </tr>\n",
       "    <tr>\n",
       "      <th>LIBOR term repoTstats</th>\n",
       "      <td>2.11</td>\n",
       "      <td>1.51</td>\n",
       "      <td>2.48</td>\n",
       "      <td>-0.94</td>\n",
       "    </tr>\n",
       "  </tbody>\n",
       "</table>\n",
       "</div>"
      ],
      "text/plain": [
       "                          0     1     2     3\n",
       "TED Spread            -0.88 -0.83 -0.60 -1.03\n",
       "TED SpreadTstats      -1.89 -0.75 -0.97 -1.93\n",
       "LIBOR term repo        0.41  0.48  0.49 -0.11\n",
       "LIBOR term repoTstats  2.11  1.51  2.48 -0.94"
      ]
     },
     "execution_count": 6,
     "metadata": {},
     "output_type": "execute_result"
    }
   ],
   "source": [
    "results_df.round(2).T"
   ]
  },
  {
   "cell_type": "code",
   "execution_count": 7,
   "metadata": {},
   "outputs": [
    {
     "name": "stderr",
     "output_type": "stream",
     "text": [
      "/Users/mrefermat/anaconda/lib/python2.7/site-packages/ipykernel_launcher.py:7: FutureWarning: \n",
      "Passing list-likes to .loc or [] with any missing label will raise\n",
      "KeyError in the future, you can use .reindex() as an alternative.\n",
      "\n",
      "See the documentation here:\n",
      "http://pandas.pydata.org/pandas-docs/stable/indexing.html#deprecate-loc-reindex-listlike\n",
      "  import sys\n"
     ]
    }
   ],
   "source": [
    "#results_df=pd.DataFrame()\n",
    "for reg_fact in market_liquidity.columns:\n",
    "    results_param=[]\n",
    "    results_t=[]\n",
    "    for s in factors.columns:\n",
    "        ind2=market_liquidity.diff()[reg_fact].dropna().index\n",
    "        ind=factors[s].loc[ind2].dropna().index\n",
    "        # Please make the fit robust \n",
    "        res=sm.OLS(factors[s].loc[ind],sm.add_constant(market_liquidity.diff()[reg_fact]).loc[ind]).fit(cov_type='HAC',cov_kwds={'maxlags':1})\n",
    "        results_param.append(res.params[reg_fact])\n",
    "        results_t.append(res.tvalues[reg_fact])\n",
    "    results_df[reg_fact]=pd.Series(results_param)\n",
    "    results_df[reg_fact+'Tstats']=pd.Series(results_t)\n",
    "results_df=results_df.set_index(factors.columns)"
   ]
  },
  {
   "cell_type": "code",
   "execution_count": 8,
   "metadata": {},
   "outputs": [
    {
     "data": {
      "text/html": [
       "<div>\n",
       "<style scoped>\n",
       "    .dataframe tbody tr th:only-of-type {\n",
       "        vertical-align: middle;\n",
       "    }\n",
       "\n",
       "    .dataframe tbody tr th {\n",
       "        vertical-align: top;\n",
       "    }\n",
       "\n",
       "    .dataframe thead th {\n",
       "        text-align: right;\n",
       "    }\n",
       "</style>\n",
       "<table border=\"1\" class=\"dataframe\">\n",
       "  <thead>\n",
       "    <tr style=\"text-align: right;\">\n",
       "      <th></th>\n",
       "      <th>TED Spread</th>\n",
       "      <th>TED SpreadTstats</th>\n",
       "      <th>LIBOR term repo</th>\n",
       "      <th>LIBOR term repoTstats</th>\n",
       "      <th>PS</th>\n",
       "      <th>PSTstats</th>\n",
       "      <th>On versus off the run Treasuries</th>\n",
       "      <th>On versus off the run TreasuriesTstats</th>\n",
       "    </tr>\n",
       "  </thead>\n",
       "  <tbody>\n",
       "    <tr>\n",
       "      <th>Amihud Monthly</th>\n",
       "      <td>-0.879314</td>\n",
       "      <td>-1.892913</td>\n",
       "      <td>0.408362</td>\n",
       "      <td>2.114939</td>\n",
       "      <td>0.002136</td>\n",
       "      <td>0.102938</td>\n",
       "      <td>-0.017477</td>\n",
       "      <td>-0.578873</td>\n",
       "    </tr>\n",
       "    <tr>\n",
       "      <th>FHT Monthly</th>\n",
       "      <td>-0.826584</td>\n",
       "      <td>-0.746422</td>\n",
       "      <td>0.475181</td>\n",
       "      <td>1.505960</td>\n",
       "      <td>0.009716</td>\n",
       "      <td>0.493023</td>\n",
       "      <td>-0.028403</td>\n",
       "      <td>-1.005903</td>\n",
       "    </tr>\n",
       "    <tr>\n",
       "      <th>Amihud Annual</th>\n",
       "      <td>-0.595745</td>\n",
       "      <td>-0.966307</td>\n",
       "      <td>0.486469</td>\n",
       "      <td>2.477186</td>\n",
       "      <td>0.021388</td>\n",
       "      <td>0.965974</td>\n",
       "      <td>0.031511</td>\n",
       "      <td>0.906252</td>\n",
       "    </tr>\n",
       "    <tr>\n",
       "      <th>FHT Annual</th>\n",
       "      <td>-1.027071</td>\n",
       "      <td>-1.929428</td>\n",
       "      <td>-0.107557</td>\n",
       "      <td>-0.940322</td>\n",
       "      <td>0.000705</td>\n",
       "      <td>0.039383</td>\n",
       "      <td>-0.060242</td>\n",
       "      <td>-2.155171</td>\n",
       "    </tr>\n",
       "  </tbody>\n",
       "</table>\n",
       "</div>"
      ],
      "text/plain": [
       "                TED Spread  TED SpreadTstats  LIBOR term repo  \\\n",
       "Amihud Monthly   -0.879314         -1.892913         0.408362   \n",
       "FHT Monthly      -0.826584         -0.746422         0.475181   \n",
       "Amihud Annual    -0.595745         -0.966307         0.486469   \n",
       "FHT Annual       -1.027071         -1.929428        -0.107557   \n",
       "\n",
       "                LIBOR term repoTstats        PS  PSTstats  \\\n",
       "Amihud Monthly               2.114939  0.002136  0.102938   \n",
       "FHT Monthly                  1.505960  0.009716  0.493023   \n",
       "Amihud Annual                2.477186  0.021388  0.965974   \n",
       "FHT Annual                  -0.940322  0.000705  0.039383   \n",
       "\n",
       "                On versus off the run Treasuries  \\\n",
       "Amihud Monthly                         -0.017477   \n",
       "FHT Monthly                            -0.028403   \n",
       "Amihud Annual                           0.031511   \n",
       "FHT Annual                             -0.060242   \n",
       "\n",
       "                On versus off the run TreasuriesTstats  \n",
       "Amihud Monthly                               -0.578873  \n",
       "FHT Monthly                                  -1.005903  \n",
       "Amihud Annual                                 0.906252  \n",
       "FHT Annual                                   -2.155171  "
      ]
     },
     "execution_count": 8,
     "metadata": {},
     "output_type": "execute_result"
    }
   ],
   "source": [
    "results_df"
   ]
  },
  {
   "cell_type": "code",
   "execution_count": 9,
   "metadata": {},
   "outputs": [
    {
     "name": "stdout",
     "output_type": "stream",
     "text": [
      "\\begin{tabular}{lrrrr}\n",
      "\\toprule\n",
      "{} &  Amihud Annual &  Amihud Monthly &  FHT Annual &  FHT Monthly \\\\\n",
      "\\midrule\n",
      "TED Spread                             &          -0.60 &           -0.88 &       -1.03 &        -0.83 \\\\\n",
      "TED SpreadTstats                       &          -0.97 &           -1.89 &       -1.93 &        -0.75 \\\\\n",
      "LIBOR term repo                        &           0.49 &            0.41 &       -0.11 &         0.48 \\\\\n",
      "LIBOR term repoTstats                  &           2.48 &            2.11 &       -0.94 &         1.51 \\\\\n",
      "PS                                     &           0.02 &            0.00 &        0.00 &         0.01 \\\\\n",
      "PSTstats                               &           0.97 &            0.10 &        0.04 &         0.49 \\\\\n",
      "On versus off the run Treasuries       &           0.03 &           -0.02 &       -0.06 &        -0.03 \\\\\n",
      "On versus off the run TreasuriesTstats &           0.91 &           -0.58 &       -2.16 &        -1.01 \\\\\n",
      "\\bottomrule\n",
      "\\end{tabular}\n",
      "\n"
     ]
    }
   ],
   "source": [
    "print results_df.T[[u'Amihud Annual', u'Amihud Monthly', u'FHT Annual', u'FHT Monthly']].round(2).to_latex()"
   ]
  },
  {
   "cell_type": "code",
   "execution_count": null,
   "metadata": {},
   "outputs": [],
   "source": []
  },
  {
   "cell_type": "code",
   "execution_count": 10,
   "metadata": {},
   "outputs": [
    {
     "name": "stderr",
     "output_type": "stream",
     "text": [
      "/Users/mrefermat/anaconda/lib/python2.7/site-packages/ipykernel_launcher.py:8: FutureWarning: \n",
      "Passing list-likes to .loc or [] with any missing label will raise\n",
      "KeyError in the future, you can use .reindex() as an alternative.\n",
      "\n",
      "See the documentation here:\n",
      "http://pandas.pydata.org/pandas-docs/stable/indexing.html#deprecate-loc-reindex-listlike\n",
      "  \n"
     ]
    }
   ],
   "source": [
    "# Doing each leg of the observable direclty\n",
    "#results_df=pd.DataFrame()\n",
    "for reg_fact in market_liquidity.columns:\n",
    "    results_param=[]\n",
    "    results_t=[]\n",
    "    for s in factors.columns:\n",
    "        ind2=market_liquidity.diff()[reg_fact].dropna().index\n",
    "        ind=factors[s].loc[ind2].dropna().index\n",
    "        # Please make the fit robust \n",
    "        res=sm.OLS(factors[s].loc[ind],sm.add_constant(market_liquidity.diff()[reg_fact]).loc[ind]).fit(cov_type='HAC',cov_kwds={'maxlags':1})\n",
    "        results_param.append(res.params[reg_fact])\n",
    "        results_t.append(res.tvalues[reg_fact])\n",
    "    results_df[reg_fact]=pd.Series(results_param)\n",
    "    results_df[reg_fact+'Tstats']=pd.Series(results_t)\n",
    "#results_df=results_df.set_index(factors.columns)#"
   ]
  },
  {
   "cell_type": "code",
   "execution_count": 11,
   "metadata": {},
   "outputs": [
    {
     "name": "stderr",
     "output_type": "stream",
     "text": [
      "/Users/mrefermat/anaconda/lib/python2.7/site-packages/ipykernel_launcher.py:2: FutureWarning: \n",
      "Passing list-likes to .loc or [] with any missing label will raise\n",
      "KeyError in the future, you can use .reindex() as an alternative.\n",
      "\n",
      "See the documentation here:\n",
      "http://pandas.pydata.org/pandas-docs/stable/indexing.html#deprecate-loc-reindex-listlike\n",
      "  \n"
     ]
    }
   ],
   "source": [
    "ind2=market_liquidity.diff().dropna().index\n",
    "ind=factors[s].loc[ind2].dropna().index\n",
    "# Please make the fit robust \n",
    "res=sm.OLS(factors[s].loc[ind],sm.add_constant(market_liquidity.diff()).loc[ind]).fit(cov_type='HAC',cov_kwds={'maxlags':1})\n",
    "#results_param.append(res.params[reg_fact])\n",
    "#results_t.append(res.tvalues[reg_fact])"
   ]
  },
  {
   "cell_type": "code",
   "execution_count": 12,
   "metadata": {},
   "outputs": [
    {
     "data": {
      "text/html": [
       "<table class=\"simpletable\">\n",
       "<caption>OLS Regression Results</caption>\n",
       "<tr>\n",
       "  <th>Dep. Variable:</th>       <td>FHT Annual</td>    <th>  R-squared:         </th> <td>   0.020</td>\n",
       "</tr>\n",
       "<tr>\n",
       "  <th>Model:</th>                   <td>OLS</td>       <th>  Adj. R-squared:    </th> <td>   0.010</td>\n",
       "</tr>\n",
       "<tr>\n",
       "  <th>Method:</th>             <td>Least Squares</td>  <th>  F-statistic:       </th> <td>   2.343</td>\n",
       "</tr>\n",
       "<tr>\n",
       "  <th>Date:</th>             <td>Thu, 06 Sep 2018</td> <th>  Prob (F-statistic):</th>  <td>0.0988</td> \n",
       "</tr>\n",
       "<tr>\n",
       "  <th>Time:</th>                 <td>14:48:55</td>     <th>  Log-Likelihood:    </th> <td>  458.71</td>\n",
       "</tr>\n",
       "<tr>\n",
       "  <th>No. Observations:</th>      <td>   192</td>      <th>  AIC:               </th> <td>  -911.4</td>\n",
       "</tr>\n",
       "<tr>\n",
       "  <th>Df Residuals:</th>          <td>   189</td>      <th>  BIC:               </th> <td>  -901.7</td>\n",
       "</tr>\n",
       "<tr>\n",
       "  <th>Df Model:</th>              <td>     2</td>      <th>                     </th>     <td> </td>   \n",
       "</tr>\n",
       "<tr>\n",
       "  <th>Covariance Type:</th>         <td>HAC</td>       <th>                     </th>     <td> </td>   \n",
       "</tr>\n",
       "</table>\n",
       "<table class=\"simpletable\">\n",
       "<tr>\n",
       "                  <td></td>                    <th>coef</th>     <th>std err</th>      <th>z</th>      <th>P>|z|</th>  <th>[0.025</th>    <th>0.975]</th>  \n",
       "</tr>\n",
       "<tr>\n",
       "  <th>const</th>                            <td>    0.0009</td> <td>    0.002</td> <td>    0.562</td> <td> 0.574</td> <td>   -0.002</td> <td>    0.004</td>\n",
       "</tr>\n",
       "<tr>\n",
       "  <th>PS</th>                               <td>    0.0019</td> <td>    0.018</td> <td>    0.107</td> <td> 0.915</td> <td>   -0.033</td> <td>    0.037</td>\n",
       "</tr>\n",
       "<tr>\n",
       "  <th>On versus off the run Treasuries</th> <td>   -0.0604</td> <td>    0.028</td> <td>   -2.162</td> <td> 0.031</td> <td>   -0.115</td> <td>   -0.006</td>\n",
       "</tr>\n",
       "</table>\n",
       "<table class=\"simpletable\">\n",
       "<tr>\n",
       "  <th>Omnibus:</th>       <td> 1.694</td> <th>  Durbin-Watson:     </th> <td>   2.093</td>\n",
       "</tr>\n",
       "<tr>\n",
       "  <th>Prob(Omnibus):</th> <td> 0.429</td> <th>  Jarque-Bera (JB):  </th> <td>   1.688</td>\n",
       "</tr>\n",
       "<tr>\n",
       "  <th>Skew:</th>          <td> 0.224</td> <th>  Prob(JB):          </th> <td>   0.430</td>\n",
       "</tr>\n",
       "<tr>\n",
       "  <th>Kurtosis:</th>      <td> 2.902</td> <th>  Cond. No.          </th> <td>    19.1</td>\n",
       "</tr>\n",
       "</table>"
      ],
      "text/plain": [
       "<class 'statsmodels.iolib.summary.Summary'>\n",
       "\"\"\"\n",
       "                            OLS Regression Results                            \n",
       "==============================================================================\n",
       "Dep. Variable:             FHT Annual   R-squared:                       0.020\n",
       "Model:                            OLS   Adj. R-squared:                  0.010\n",
       "Method:                 Least Squares   F-statistic:                     2.343\n",
       "Date:                Thu, 06 Sep 2018   Prob (F-statistic):             0.0988\n",
       "Time:                        14:48:55   Log-Likelihood:                 458.71\n",
       "No. Observations:                 192   AIC:                            -911.4\n",
       "Df Residuals:                     189   BIC:                            -901.7\n",
       "Df Model:                           2                                         \n",
       "Covariance Type:                  HAC                                         \n",
       "====================================================================================================\n",
       "                                       coef    std err          z      P>|z|      [0.025      0.975]\n",
       "----------------------------------------------------------------------------------------------------\n",
       "const                                0.0009      0.002      0.562      0.574      -0.002       0.004\n",
       "PS                                   0.0019      0.018      0.107      0.915      -0.033       0.037\n",
       "On versus off the run Treasuries    -0.0604      0.028     -2.162      0.031      -0.115      -0.006\n",
       "==============================================================================\n",
       "Omnibus:                        1.694   Durbin-Watson:                   2.093\n",
       "Prob(Omnibus):                  0.429   Jarque-Bera (JB):                1.688\n",
       "Skew:                           0.224   Prob(JB):                        0.430\n",
       "Kurtosis:                       2.902   Cond. No.                         19.1\n",
       "==============================================================================\n",
       "\n",
       "Warnings:\n",
       "[1] Standard Errors are heteroscedasticity and autocorrelation robust (HAC) using 1 lags and without small sample correction\n",
       "\"\"\""
      ]
     },
     "execution_count": 12,
     "metadata": {},
     "output_type": "execute_result"
    }
   ],
   "source": [
    "res.summary()"
   ]
  },
  {
   "cell_type": "code",
   "execution_count": null,
   "metadata": {},
   "outputs": [],
   "source": []
  },
  {
   "cell_type": "markdown",
   "metadata": {},
   "source": [
    "# Showing the results of all factors and betas"
   ]
  },
  {
   "cell_type": "code",
   "execution_count": 13,
   "metadata": {},
   "outputs": [
    {
     "name": "stderr",
     "output_type": "stream",
     "text": [
      "/Users/mrefermat/anaconda/lib/python2.7/site-packages/ipykernel_launcher.py:10: FutureWarning: \n",
      "Passing list-likes to .loc or [] with any missing label will raise\n",
      "KeyError in the future, you can use .reindex() as an alternative.\n",
      "\n",
      "See the documentation here:\n",
      "http://pandas.pydata.org/pandas-docs/stable/indexing.html#deprecate-loc-reindex-listlike\n",
      "  # Remove the CWD from sys.path while we load stuff.\n",
      "/Users/mrefermat/anaconda/lib/python2.7/site-packages/ipykernel_launcher.py:18: FutureWarning: \n",
      "Passing list-likes to .loc or [] with any missing label will raise\n",
      "KeyError in the future, you can use .reindex() as an alternative.\n",
      "\n",
      "See the documentation here:\n",
      "http://pandas.pydata.org/pandas-docs/stable/indexing.html#deprecate-loc-reindex-listlike\n",
      "/Users/mrefermat/anaconda/lib/python2.7/site-packages/ipykernel_launcher.py:26: FutureWarning: \n",
      "Passing list-likes to .loc or [] with any missing label will raise\n",
      "KeyError in the future, you can use .reindex() as an alternative.\n",
      "\n",
      "See the documentation here:\n",
      "http://pandas.pydata.org/pandas-docs/stable/indexing.html#deprecate-loc-reindex-listlike\n",
      "/Users/mrefermat/anaconda/lib/python2.7/site-packages/ipykernel_launcher.py:34: FutureWarning: \n",
      "Passing list-likes to .loc or [] with any missing label will raise\n",
      "KeyError in the future, you can use .reindex() as an alternative.\n",
      "\n",
      "See the documentation here:\n",
      "http://pandas.pydata.org/pandas-docs/stable/indexing.html#deprecate-loc-reindex-listlike\n",
      "/Users/mrefermat/anaconda/lib/python2.7/site-packages/ipykernel_launcher.py:42: FutureWarning: \n",
      "Passing list-likes to .loc or [] with any missing label will raise\n",
      "KeyError in the future, you can use .reindex() as an alternative.\n",
      "\n",
      "See the documentation here:\n",
      "http://pandas.pydata.org/pandas-docs/stable/indexing.html#deprecate-loc-reindex-listlike\n"
     ]
    },
    {
     "name": "stdout",
     "output_type": "stream",
     "text": [
      "Amihud Monthly\n",
      "\\begin{tabular}{lrrrrrrr}\n",
      "\\toprule\n",
      "{} &     0 &     1 &     2 &     3 &     4 &     5 &     6 \\\\\n",
      "\\midrule\n",
      "TED Spread                       & -0.28 &     &  0.79 &     &     &     &  0.66 \\\\\n",
      "LIBOR term repo                  &     &  0.58 &  0.98 &     &     &     &  0.96 \\\\\n",
      "PS                               &     &     &     &  0.01 &     &  0.01 & -0.01 \\\\\n",
      "On versus off the run Treasuries &     &     &     &     &  0.01 &  0.01 &  0.00 \\\\\n",
      "\\bottomrule\n",
      "\\end{tabular}\n",
      "\n",
      "\\begin{tabular}{lrrrrrrr}\n",
      "\\toprule\n",
      "{} &     0 &     1 &     2 &     3 &     4 &     5 &     6 \\\\\n",
      "\\midrule\n",
      "TED Spread                       & -0.74 &     &  1.62 &     &     &     &  1.08 \\\\\n",
      "LIBOR term repo                  &     &  2.49 &  2.58 &     &     &     &  2.50 \\\\\n",
      "PS                               &     &     &     &  0.36 &     &  0.48 & -0.30 \\\\\n",
      "On versus off the run Treasuries &     &     &     &     &  0.78 &  0.83 &  0.38 \\\\\n",
      "\\bottomrule\n",
      "\\end{tabular}\n",
      "\n",
      "FHT Monthly\n",
      "\\begin{tabular}{lrrrrrrr}\n",
      "\\toprule\n",
      "{} &    0 &     1 &     2 &     3 &     4 &     5 &     6 \\\\\n",
      "\\midrule\n",
      "TED Spread                       & -0.9 &     &  0.17 &     &     &     &  0.31 \\\\\n",
      "LIBOR term repo                  &    &  1.14 &  1.22 &     &     &     &  1.23 \\\\\n",
      "PS                               &    &     &     &  0.04 &     &  0.04 &  0.01 \\\\\n",
      "On versus off the run Treasuries &    &     &     &     & -0.01 & -0.01 & -0.00 \\\\\n",
      "\\bottomrule\n",
      "\\end{tabular}\n",
      "\n",
      "\\begin{tabular}{lrrrrrrr}\n",
      "\\toprule\n",
      "{} &     0 &     1 &     2 &     3 &    4 &     5 &     6 \\\\\n",
      "\\midrule\n",
      "TED Spread                       & -2.18 &     &  0.33 &     &    &     &  0.51 \\\\\n",
      "LIBOR term repo                  &     &  4.84 &  3.16 &     &    &     &  3.00 \\\\\n",
      "PS                               &     &     &     &  1.27 &    &  1.13 &  0.40 \\\\\n",
      "On versus off the run Treasuries &     &     &     &     & -1.3 & -1.11 & -0.33 \\\\\n",
      "\\bottomrule\n",
      "\\end{tabular}\n",
      "\n",
      "Amihud Annual\n",
      "\\begin{tabular}{lrrrrrrr}\n",
      "\\toprule\n",
      "{} &     0 &     1 &     2 &     3 &     4 &     5 &     6 \\\\\n",
      "\\midrule\n",
      "TED Spread                       & -0.28 &     &  0.34 &     &     &     &  0.65 \\\\\n",
      "LIBOR term repo                  &     &  0.43 &  0.60 &     &     &     &  0.69 \\\\\n",
      "PS                               &     &     &     &  0.02 &     &  0.02 & -0.00 \\\\\n",
      "On versus off the run Treasuries &     &     &     &     & -0.01 & -0.01 & -0.01 \\\\\n",
      "\\bottomrule\n",
      "\\end{tabular}\n",
      "\n",
      "\\begin{tabular}{lrrrrrrr}\n",
      "\\toprule\n",
      "{} &     0 &     1 &     2 &     3 &     4 &     5 &     6 \\\\\n",
      "\\midrule\n",
      "TED Spread                       & -0.72 &     &  0.49 &     &     &     &  0.92 \\\\\n",
      "LIBOR term repo                  &     &  1.99 &  1.47 &     &     &     &  1.59 \\\\\n",
      "PS                               &     &     &     &  0.72 &     &  0.60 & -0.02 \\\\\n",
      "On versus off the run Treasuries &     &     &     &     & -0.58 & -0.47 & -1.10 \\\\\n",
      "\\bottomrule\n",
      "\\end{tabular}\n",
      "\n",
      "FHT Annual\n",
      "\\begin{tabular}{lrrrrrrr}\n",
      "\\toprule\n",
      "{} &     0 &     1 &     2 &     3 &    4 &     5 &     6 \\\\\n",
      "\\midrule\n",
      "TED Spread                       &  0.17 &     &  0.26 &     &    &     &  0.25 \\\\\n",
      "LIBOR term repo                  &     & -0.02 &  0.11 &     &    &     &  0.18 \\\\\n",
      "PS                               &     &     &     &  0.01 &    &  0.01 & -0.04 \\\\\n",
      "On versus off the run Treasuries &     &     &     &     & -0.0 & -0.00 & -0.01 \\\\\n",
      "\\bottomrule\n",
      "\\end{tabular}\n",
      "\n",
      "\\begin{tabular}{lrrrrrrr}\n",
      "\\toprule\n",
      "{} &     0 &     1 &     2 &     3 &     4 &    5 &     6 \\\\\n",
      "\\midrule\n",
      "TED Spread                       &  0.55 &     &  0.54 &     &     &    &  0.46 \\\\\n",
      "LIBOR term repo                  &     & -0.14 &  0.44 &     &     &    &  0.72 \\\\\n",
      "PS                               &     &     &     &  0.61 &     &  0.6 & -1.28 \\\\\n",
      "On versus off the run Treasuries &     &     &     &     & -0.09 & -0.0 & -0.46 \\\\\n",
      "\\bottomrule\n",
      "\\end{tabular}\n",
      "\n"
     ]
    }
   ],
   "source": [
    "all_macro=market_liquidity.join(funding_liquidity)\n",
    "\n",
    "for s in factors.columns:\n",
    "\n",
    "    result_list=[]\n",
    "    t_list=[]\n",
    "\n",
    "    for reg_fact in funding_liquidity.columns:\n",
    "        ind2=funding_liquidity[reg_fact].dropna().index\n",
    "        ind=factors[s].loc[ind2].dropna().index\n",
    "        # Please make the fit robust \n",
    "        res=sm.OLS(factors[s].loc[ind],sm.add_constant(funding_liquidity[reg_fact]).loc[ind]).fit(cov_type='HAC',cov_kwds={'maxlags':1})\n",
    "        result_list.append(res.params)\n",
    "        t_list.append(res.tvalues)\n",
    "\n",
    "    # All funding funding macro data\n",
    "    ind2=funding_liquidity.dropna().index\n",
    "    ind=factors[s].loc[ind2].dropna().index\n",
    "    # Please make the fit robust \n",
    "    res=sm.OLS(factors[s].loc[ind],sm.add_constant(funding_liquidity).loc[ind]).fit(cov_type='HAC',cov_kwds={'maxlags':1})\n",
    "    result_list.append(res.params)\n",
    "    t_list.append(res.tvalues)\n",
    "\n",
    "    for reg_fact in market_liquidity.columns:\n",
    "        ind2=market_liquidity[reg_fact].dropna().index\n",
    "        ind=factors[s].loc[ind2].dropna().index\n",
    "        # Please make the fit robust \n",
    "        res=sm.OLS(factors[s].loc[ind],sm.add_constant(market_liquidity[reg_fact]).loc[ind]).fit(cov_type='HAC',cov_kwds={'maxlags':1})\n",
    "        result_list.append(res.params)\n",
    "        t_list.append(res.tvalues)\n",
    "\n",
    "    # All market funding macro data\n",
    "    ind2=market_liquidity.dropna().index\n",
    "    ind=factors[s].loc[ind2].dropna().index\n",
    "    # Please make the fit robust \n",
    "    res=sm.OLS(factors[s].loc[ind],sm.add_constant(market_liquidity).loc[ind]).fit(cov_type='HAC',cov_kwds={'maxlags':1})\n",
    "    result_list.append(res.params)\n",
    "    t_list.append(res.tvalues)\n",
    "\n",
    "    # All Macro\n",
    "    ind2=all_macro.dropna().index\n",
    "    ind=factors[s].loc[ind2].dropna().index\n",
    "    # Please make the fit robust \n",
    "    res=sm.OLS(factors[s].loc[ind],sm.add_constant(all_macro).loc[ind]).fit(cov_type='HAC',cov_kwds={'maxlags':1})\n",
    "    result_list.append(res.params)\n",
    "    t_list.append(res.tvalues)\n",
    "\n",
    "    print s\n",
    "    \n",
    "    print pd.DataFrame(result_list)[[ u'TED Spread',u'LIBOR term repo',\n",
    "                           u'PS', u'On versus off the run Treasuries']].T.round(2).to_latex().replace('NaN',' ')\n",
    "    print pd.DataFrame(t_list)[[ u'TED Spread',u'LIBOR term repo',\n",
    "                           u'PS', u'On versus off the run Treasuries']].T.round(2).to_latex().replace('NaN',' ')\n",
    "    "
   ]
  },
  {
   "cell_type": "code",
   "execution_count": 14,
   "metadata": {},
   "outputs": [
    {
     "name": "stdout",
     "output_type": "stream",
     "text": [
      "\\begin{tabular}{lrrrrrrr}\n",
      "\\toprule\n",
      "{} &     0 &     1 &     2 &     3 &    4 &     5 &     6 \\\\\n",
      "\\midrule\n",
      "TED Spread                       &  0.17 &   NaN &  0.26 &   NaN &  NaN &   NaN &  0.25 \\\\\n",
      "LIBOR term repo                  &   NaN & -0.02 &  0.11 &   NaN &  NaN &   NaN &  0.18 \\\\\n",
      "PS                               &   NaN &   NaN &   NaN &  0.01 &  NaN &  0.01 & -0.04 \\\\\n",
      "On versus off the run Treasuries &   NaN &   NaN &   NaN &   NaN & -0.0 & -0.00 & -0.01 \\\\\n",
      "\\bottomrule\n",
      "\\end{tabular}\n",
      "\n"
     ]
    }
   ],
   "source": [
    "print pd.DataFrame(result_list)[[ u'TED Spread',u'LIBOR term repo',\n",
    "                           u'PS', u'On versus off the run Treasuries']].T.round(2).to_latex()"
   ]
  },
  {
   "cell_type": "code",
   "execution_count": 15,
   "metadata": {},
   "outputs": [],
   "source": [
    "x= pd.DataFrame(t_list)[[ u'TED Spread',u'LIBOR term repo',\n",
    "                           u'PS', u'On versus off the run Treasuries']].T.round(2).to_latex()"
   ]
  },
  {
   "cell_type": "code",
   "execution_count": 16,
   "metadata": {},
   "outputs": [
    {
     "data": {
      "text/plain": [
       "u'\\\\begin{tabular}{lrrrrrrr}\\n\\\\toprule\\n{} &     0 &     1 &     2 &     3 &     4 &    5 &     6 \\\\\\\\\\n\\\\midrule\\nTED Spread                       &  0.55 &   NaN &  0.54 &   NaN &   NaN &  NaN &  0.46 \\\\\\\\\\nLIBOR term repo                  &   NaN & -0.14 &  0.44 &   NaN &   NaN &  NaN &  0.72 \\\\\\\\\\nPS                               &   NaN &   NaN &   NaN &  0.61 &   NaN &  0.6 & -1.28 \\\\\\\\\\nOn versus off the run Treasuries &   NaN &   NaN &   NaN &   NaN & -0.09 & -0.0 & -0.46 \\\\\\\\\\n\\\\bottomrule\\n\\\\end{tabular}\\n'"
      ]
     },
     "execution_count": 16,
     "metadata": {},
     "output_type": "execute_result"
    }
   ],
   "source": [
    "x"
   ]
  },
  {
   "cell_type": "code",
   "execution_count": 17,
   "metadata": {},
   "outputs": [],
   "source": [
    "results_param.append(res.params[reg_fact])\n",
    "results_t.append(res.tvalues[reg_fact])"
   ]
  },
  {
   "cell_type": "code",
   "execution_count": 18,
   "metadata": {},
   "outputs": [
    {
     "name": "stdout",
     "output_type": "stream",
     "text": [
      "                            OLS Regression Results                            \n",
      "==============================================================================\n",
      "Dep. Variable:             FHT Annual   R-squared:                       0.013\n",
      "Model:                            OLS   Adj. R-squared:                 -0.017\n",
      "Method:                 Least Squares   F-statistic:                    0.5714\n",
      "Date:                Thu, 06 Sep 2018   Prob (F-statistic):              0.684\n",
      "Time:                        14:49:02   Log-Likelihood:                 337.12\n",
      "No. Observations:                 133   AIC:                            -664.2\n",
      "Df Residuals:                     128   BIC:                            -649.8\n",
      "Df Model:                           4                                         \n",
      "Covariance Type:                  HAC                                         \n",
      "====================================================================================================\n",
      "                                       coef    std err          z      P>|z|      [0.025      0.975]\n",
      "----------------------------------------------------------------------------------------------------\n",
      "const                                0.0016      0.003      0.621      0.535      -0.004       0.007\n",
      "PS                                  -0.0371      0.029     -1.283      0.200      -0.094       0.020\n",
      "On versus off the run Treasuries    -0.0054      0.012     -0.463      0.643      -0.028       0.017\n",
      "TED Spread                           0.2523      0.543      0.464      0.642      -0.813       1.317\n",
      "LIBOR term repo                      0.1816      0.252      0.721      0.471      -0.312       0.675\n",
      "==============================================================================\n",
      "Omnibus:                        0.366   Durbin-Watson:                   2.183\n",
      "Prob(Omnibus):                  0.833   Jarque-Bera (JB):                0.504\n",
      "Skew:                           0.105   Prob(JB):                        0.777\n",
      "Kurtosis:                       2.784   Cond. No.                         375.\n",
      "==============================================================================\n",
      "\n",
      "Warnings:\n",
      "[1] Standard Errors are heteroscedasticity and autocorrelation robust (HAC) using 1 lags and without small sample correction\n"
     ]
    }
   ],
   "source": [
    "print res.summary()"
   ]
  },
  {
   "cell_type": "code",
   "execution_count": null,
   "metadata": {},
   "outputs": [],
   "source": []
  }
 ],
 "metadata": {
  "kernelspec": {
   "display_name": "Python 2",
   "language": "python",
   "name": "python2"
  },
  "language_info": {
   "codemirror_mode": {
    "name": "ipython",
    "version": 2
   },
   "file_extension": ".py",
   "mimetype": "text/x-python",
   "name": "python",
   "nbconvert_exporter": "python",
   "pygments_lexer": "ipython2",
   "version": "2.7.12"
  }
 },
 "nbformat": 4,
 "nbformat_minor": 2
}
