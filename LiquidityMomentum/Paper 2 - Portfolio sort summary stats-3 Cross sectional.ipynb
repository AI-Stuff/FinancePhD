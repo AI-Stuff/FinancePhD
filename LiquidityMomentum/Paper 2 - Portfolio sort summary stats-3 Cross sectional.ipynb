{
 "cells": [
  {
   "cell_type": "code",
   "execution_count": 1,
   "metadata": {},
   "outputs": [
    {
     "name": "stderr",
     "output_type": "stream",
     "text": [
      "/Users/mrefermat/anaconda/lib/python2.7/site-packages/IPython/utils/traitlets.py:5: UserWarning: IPython.utils.traitlets has moved to a top-level traitlets package.\n",
      "  warn(\"IPython.utils.traitlets has moved to a top-level traitlets package.\")\n",
      "/Users/mrefermat/anaconda/lib/python2.7/site-packages/IPython/kernel/__init__.py:13: ShimWarning: The `IPython.kernel` package has been deprecated since IPython 4.0.You should import from ipykernel or jupyter_client instead.\n",
      "  \"You should import from ipykernel or jupyter_client instead.\", ShimWarning)\n"
     ]
    }
   ],
   "source": [
    "%matplotlib inline\n",
    "import seaborn\n",
    "import quandl\n",
    "import pandas as pd\n",
    "import seaborn as sns\n",
    "import math\n",
    "from tsmom_model import *\n",
    "import numpy as np\n",
    "from datetime import datetime\n",
    "import statsmodels.formula.api as sm\n",
    "token=\"Us3wFmXGgAj_1cUtHAAR\""
   ]
  },
  {
   "cell_type": "code",
   "execution_count": 2,
   "metadata": {},
   "outputs": [],
   "source": [
    "import pylab\n",
    "sns.set(font_scale=3)\n",
    "pylab.rcParams['figure.figsize'] = (24, 18)"
   ]
  },
  {
   "cell_type": "code",
   "execution_count": 3,
   "metadata": {},
   "outputs": [
    {
     "name": "stderr",
     "output_type": "stream",
     "text": [
      "tsmom_model.py:160: FutureWarning: how in .resample() is deprecated\n",
      "the new syntax is .resample(...).last()\n",
      "  data=pd.read_csv('./Price.csv',index_col=0,parse_dates=['Date']).resample(rule='d',how='last')\n",
      "tsmom_model.py:162: FutureWarning: how in .resample() is deprecated\n",
      "the new syntax is .resample(...).last()\n",
      "  qd=pd.read_csv('./liquid_contracts.csv',index_col=0,parse_dates=['Date']).resample(rule='d',how='last')\n"
     ]
    }
   ],
   "source": [
    "cleansed=load_amihud_markets_price()"
   ]
  },
  {
   "cell_type": "code",
   "execution_count": 4,
   "metadata": {},
   "outputs": [
    {
     "name": "stderr",
     "output_type": "stream",
     "text": [
      "tsmom_model.py:44: FutureWarning: how in .resample() is deprecated\n",
      "the new syntax is .resample(...).mean()\n",
      "  data=pd.read_csv('./Volume.csv',index_col=0,parse_dates=['Date']).resample(rule='d',how='mean')\n",
      "tsmom_model.py:46: FutureWarning: how in .resample() is deprecated\n",
      "the new syntax is .resample(...).sum()\n",
      "  v=pd.read_csv('./volume_data.csv',index_col=0,parse_dates=['Date']).resample(rule='d',how='sum')\n",
      "tsmom_model.py:48: FutureWarning: pd.rolling_mean is deprecated for DataFrame and will be removed in a future version, replace with \n",
      "\tDataFrame.rolling(min_periods=100,window=250,center=False).mean()\n",
      "  volume=pd.rolling_mean(v,250,min_periods=100).resample(rule='d',how='mean')[:'2016']\n",
      "tsmom_model.py:48: FutureWarning: how in .resample() is deprecated\n",
      "the new syntax is .resample(...).mean()\n",
      "  volume=pd.rolling_mean(v,250,min_periods=100).resample(rule='d',how='mean')[:'2016']\n",
      "tsmom_model.py:51: FutureWarning: pd.rolling_mean is deprecated for Series and will be removed in a future version, replace with \n",
      "\tSeries.rolling(min_periods=50,window=250,center=False).mean()\n",
      "  volume[name]=pd.rolling_mean(v2[x],250,min_periods=50).resample(rule='d',how='mean')\n",
      "tsmom_model.py:51: FutureWarning: how in .resample() is deprecated\n",
      "the new syntax is .resample(...).mean()\n",
      "  volume[name]=pd.rolling_mean(v2[x],250,min_periods=50).resample(rule='d',how='mean')\n",
      "tsmom_model.py:78: FutureWarning: how in .resample() is deprecated\n",
      "the new syntax is .resample(...).last()\n",
      "  fx=fx.resample(rule='d',how='last')\n",
      "tsmom_model.py:79: FutureWarning: how in .resample() is deprecated\n",
      "the new syntax is .resample(...).last()\n",
      "  px=cleansed.resample(rule='d',how='last')\n",
      "tsmom_model.py:87: FutureWarning: how in .resample() is deprecated\n",
      "the new syntax is .resample(...).mean()\n",
      "  x= (cleansed.pct_change().abs()/ total_vol).resample(rule='m',how='mean')\n"
     ]
    }
   ],
   "source": [
    "amihud=calculate_amihud_liquidity(cleansed)[:'2016'] "
   ]
  },
  {
   "cell_type": "code",
   "execution_count": 5,
   "metadata": {},
   "outputs": [
    {
     "name": "stderr",
     "output_type": "stream",
     "text": [
      "/Users/mrefermat/anaconda/lib/python2.7/site-packages/ipykernel_launcher.py:4: FutureWarning: how in .resample() is deprecated\n",
      "the new syntax is .resample(...).last()\n",
      "  after removing the cwd from sys.path.\n"
     ]
    }
   ],
   "source": [
    "sector_rtns={}\n",
    "d_map=sector_map(amihud)\n",
    "for sect in d_map.keys():\n",
    "    sector_rtns[sect]=np.log(cleansed[d_map[sect]].resample(rule='m',how='last')).diff().dropna(how='all')"
   ]
  },
  {
   "cell_type": "markdown",
   "metadata": {},
   "source": [
    "# Presentation to be like \"Time Varying Liquidity and Momentum Profits (2015) paper\n",
    "\n",
    "Rank by deciles, HML (8,9,10) - (1,2,3).  Save monthly returns (equal (risk?) weighted) and if you want to annualized then resample.\n",
    "\n",
    "\n",
    "Then correlation matrix \n",
    "* Overall market vol?\n",
    "* Market illiquidity (median Amihud through time series)\n"
   ]
  },
  {
   "cell_type": "markdown",
   "metadata": {},
   "source": [
    "# Amihud (2002) Annual portfolio sorts"
   ]
  },
  {
   "cell_type": "code",
   "execution_count": 6,
   "metadata": {},
   "outputs": [],
   "source": [
    "sector_zscores=sector_XS_normalized(amihud)"
   ]
  },
  {
   "cell_type": "markdown",
   "metadata": {},
   "source": [
    "# Annual portfolio sorts"
   ]
  },
  {
   "cell_type": "code",
   "execution_count": 7,
   "metadata": {},
   "outputs": [
    {
     "name": "stderr",
     "output_type": "stream",
     "text": [
      "tsmom_model.py:240: FutureWarning: how in .resample() is deprecated\n",
      "the new syntax is .resample(...).median()\n",
      "  mkts=quantile_columns(rank_data.resample(rule='a',how='median'),year,number_of_buckets,i)\n",
      "tsmom_model.py:241: FutureWarning: how in .resample() is deprecated\n",
      "the new syntax is .resample(...).last()\n",
      "  rtns = price_data.resample(rule='m',how='last')[mkts].pct_change()[str(y+1)].mean(axis=1)\n"
     ]
    }
   ],
   "source": [
    "sector_portfolio_sorts={}\n",
    "for s in sector_zscores.keys():\n",
    "    sector_portfolio_sorts[s]=quantile_portfolios_annual(sector_zscores[s],cleansed,3)"
   ]
  },
  {
   "cell_type": "code",
   "execution_count": 8,
   "metadata": {},
   "outputs": [
    {
     "name": "stdout",
     "output_type": "stream",
     "text": [
      "Agriculturals\n"
     ]
    },
    {
     "name": "stderr",
     "output_type": "stream",
     "text": [
      "/Users/mrefermat/anaconda/lib/python2.7/site-packages/ipykernel_launcher.py:3: FutureWarning: how in .resample() is deprecated\n",
      "the new syntax is .resample(...).last()\n",
      "  This is separate from the ipykernel package so we can avoid doing imports until\n"
     ]
    },
    {
     "name": "stdout",
     "output_type": "stream",
     "text": [
      "\\begin{tabular}{lrrrr}\n",
      "\\toprule\n",
      "{} &      0 &      1 &      2 &  Factor \\\\\n",
      "\\midrule\n",
      "Monthly Return (in \\%)        &   0.77 &   0.64 &   0.96 &    0.20 \\\\\n",
      "Standard Deviation           &  18.88 &  13.53 &  16.41 &   16.68 \\\\\n",
      "Information Ratio            &   0.49 &   0.57 &   0.70 &    0.14 \\\\\n",
      "Skewness                     &   1.10 &  -0.49 &  -0.05 &   -0.43 \\\\\n",
      "Excess Kurtosis              &   7.48 &   2.57 &   0.50 &    3.00 \\\\\n",
      "CAPM Alpha Annualized (in \\%) &   4.85 &   4.65 &   7.99 &    3.14 \\\\\n",
      "CAPM Alpha Tstat             &   2.32 &   2.72 &   3.83 &    0.88 \\\\\n",
      "CAPM Beta (in \\%)             &   1.20 &   0.83 &   0.98 &   -0.22 \\\\\n",
      "CAPM Beta Tstat              &  12.17 &  16.74 &  22.59 &   -1.90 \\\\\n",
      "\\$R\\textasciicircum2\\$                        &   0.74 &   0.69 &   0.66 &    0.03 \\\\\n",
      "\\bottomrule\n",
      "\\end{tabular}\n",
      "\n",
      "All\n",
      "\\begin{tabular}{lrrrr}\n",
      "\\toprule\n",
      "{} &      0 &      1 &      2 &  Factor \\\\\n",
      "\\midrule\n",
      "Monthly Return (in \\%)        &   0.39 &   0.55 &   0.65 &    0.26 \\\\\n",
      "Standard Deviation           &  11.18 &   9.26 &   9.16 &    8.18 \\\\\n",
      "Information Ratio            &   0.42 &   0.71 &   0.86 &    0.39 \\\\\n",
      "Skewness                     &  -1.09 &  -0.22 &  -0.54 &    0.14 \\\\\n",
      "Excess Kurtosis              &   5.78 &   2.47 &   3.58 &    0.52 \\\\\n",
      "CAPM Alpha Annualized (in \\%) &   1.77 &   4.33 &   5.40 &    3.64 \\\\\n",
      "CAPM Alpha Tstat             &   1.32 &   3.23 &   6.15 &    1.95 \\\\\n",
      "CAPM Beta (in \\%)             &   1.14 &   0.89 &   0.96 &   -0.18 \\\\\n",
      "CAPM Beta Tstat              &  24.41 &  13.85 &  25.23 &   -2.75 \\\\\n",
      "\\$R\\textasciicircum2\\$                        &   0.76 &   0.67 &   0.80 &    0.03 \\\\\n",
      "\\bottomrule\n",
      "\\end{tabular}\n",
      "\n",
      "Currencies\n",
      "\\begin{tabular}{lrrrr}\n",
      "\\toprule\n",
      "{} &      0 &      1 &      2 &  Factor \\\\\n",
      "\\midrule\n",
      "Monthly Return (in \\%)        &  -0.29 &   0.04 &   0.16 &    0.44 \\\\\n",
      "Standard Deviation           &   9.94 &   7.85 &   5.73 &    8.36 \\\\\n",
      "Information Ratio            &  -0.35 &   0.06 &   0.33 &    0.63 \\\\\n",
      "Skewness                     &  -0.45 &   0.44 &   0.11 &   -0.18 \\\\\n",
      "Excess Kurtosis              &   2.07 &   3.04 &   4.48 &    1.03 \\\\\n",
      "CAPM Alpha Annualized (in \\%) &  -2.69 &   1.02 &   2.30 &    4.99 \\\\\n",
      "CAPM Alpha Tstat             &  -1.78 &   0.79 &   2.73 &    2.74 \\\\\n",
      "CAPM Beta (in \\%)             &   1.43 &   1.08 &   0.85 &   -0.59 \\\\\n",
      "CAPM Beta Tstat              &  14.55 &  11.20 &  12.73 &   -4.38 \\\\\n",
      "\\$R\\textasciicircum2\\$                        &   0.60 &   0.55 &   0.63 &    0.14 \\\\\n",
      "\\bottomrule\n",
      "\\end{tabular}\n",
      "\n",
      "Energies\n",
      "\\begin{tabular}{lrrrr}\n",
      "\\toprule\n",
      "{} &      0 &      1 &      2 &  Factor \\\\\n",
      "\\midrule\n",
      "Monthly Return (in \\%)        &   0.60 &   1.16 &   1.25 &    0.65 \\\\\n",
      "Standard Deviation           &  36.77 &  31.83 &  29.54 &   39.18 \\\\\n",
      "Information Ratio            &   0.20 &   0.44 &   0.51 &    0.20 \\\\\n",
      "Skewness                     &  -0.06 &   0.30 &   1.08 &   -0.22 \\\\\n",
      "Excess Kurtosis              &   3.02 &   1.37 &   4.07 &    4.43 \\\\\n",
      "CAPM Alpha Annualized (in \\%) &   1.40 &   8.64 &  10.41 &    9.02 \\\\\n",
      "CAPM Alpha Tstat             &   0.23 &   1.72 &   2.17 &    0.97 \\\\\n",
      "CAPM Beta (in \\%)             &   1.15 &   1.05 &   0.92 &   -0.24 \\\\\n",
      "CAPM Beta Tstat              &  14.87 &  12.49 &  11.77 &   -1.79 \\\\\n",
      "\\$R\\textasciicircum2\\$                        &   0.55 &   0.61 &   0.54 &    0.02 \\\\\n",
      "\\bottomrule\n",
      "\\end{tabular}\n",
      "\n",
      "Equities\n",
      "\\begin{tabular}{lrrrr}\n",
      "\\toprule\n",
      "{} &      0 &      1 &      2 &  Factor \\\\\n",
      "\\midrule\n",
      "Monthly Return (in \\%)        &   0.25 &   0.28 &   0.72 &    0.47 \\\\\n",
      "Standard Deviation           &  16.19 &  16.42 &  12.29 &   10.74 \\\\\n",
      "Information Ratio            &   0.19 &   0.21 &   0.70 &    0.52 \\\\\n",
      "Skewness                     &  -0.49 &  -0.75 &  -0.65 &    0.53 \\\\\n",
      "Excess Kurtosis              &   1.10 &   1.27 &   1.32 &    3.46 \\\\\n",
      "CAPM Alpha Annualized (in \\%) &   0.53 &   0.82 &   6.93 &    6.40 \\\\\n",
      "CAPM Alpha Tstat             &   0.51 &   0.76 &   4.66 &    2.83 \\\\\n",
      "CAPM Beta (in \\%)             &   1.08 &   1.10 &   0.74 &   -0.35 \\\\\n",
      "CAPM Beta Tstat              &  32.85 &  39.26 &  16.92 &   -5.31 \\\\\n",
      "\\$R\\textasciicircum2\\$                        &   0.93 &   0.93 &   0.74 &    0.21 \\\\\n",
      "\\bottomrule\n",
      "\\end{tabular}\n",
      "\n",
      "Metals\n",
      "\\begin{tabular}{lrrrr}\n",
      "\\toprule\n",
      "{} &      0 &      1 &      2 &  Factor \\\\\n",
      "\\midrule\n",
      "Monthly Return (in \\%)        &   0.62 &   0.83 &   0.55 &   -0.07 \\\\\n",
      "Standard Deviation           &  18.82 &  19.81 &  23.93 &   19.09 \\\\\n",
      "Information Ratio            &   0.40 &   0.51 &   0.28 &   -0.04 \\\\\n",
      "Skewness                     &  -0.63 &  -0.46 &  -0.28 &   -0.06 \\\\\n",
      "Excess Kurtosis              &   2.52 &   4.72 &   1.35 &    1.09 \\\\\n",
      "CAPM Alpha Annualized (in \\%) &   4.25 &   6.43 &   2.17 &   -2.08 \\\\\n",
      "CAPM Alpha Tstat             &   1.74 &   3.01 &   0.92 &   -0.48 \\\\\n",
      "CAPM Beta (in \\%)             &   0.84 &   0.93 &   1.16 &    0.32 \\\\\n",
      "CAPM Beta Tstat              &  17.50 &  16.95 &  22.11 &    3.76 \\\\\n",
      "\\$R\\textasciicircum2\\$                        &   0.70 &   0.78 &   0.83 &    0.09 \\\\\n",
      "\\bottomrule\n",
      "\\end{tabular}\n",
      "\n",
      "Fixed Income\n",
      "\\begin{tabular}{lrrrr}\n",
      "\\toprule\n",
      "{} &      0 &     1 &      2 &  Factor \\\\\n",
      "\\midrule\n",
      "Monthly Return (in \\%)        &   0.04 &  0.08 &   0.17 &    0.13 \\\\\n",
      "Standard Deviation           &   1.49 &  2.42 &   4.58 &    3.71 \\\\\n",
      "Information Ratio            &   0.32 &  0.41 &   0.44 &    0.41 \\\\\n",
      "Skewness                     &   0.44 & -0.51 &   0.34 &    0.04 \\\\\n",
      "Excess Kurtosis              &   2.63 &  4.31 &   2.22 &    2.66 \\\\\n",
      "CAPM Alpha Annualized (in \\%) &   0.01 &  0.27 &   0.34 &    0.33 \\\\\n",
      "CAPM Alpha Tstat             &   0.04 &  0.70 &   0.86 &    0.62 \\\\\n",
      "CAPM Beta (in \\%)             &   0.51 &  0.78 &   1.80 &    1.29 \\\\\n",
      "CAPM Beta Tstat              &  15.67 &  9.08 &  22.99 &   14.70 \\\\\n",
      "\\$R\\textasciicircum2\\$                        &   0.67 &  0.58 &   0.88 &    0.68 \\\\\n",
      "\\bottomrule\n",
      "\\end{tabular}\n",
      "\n"
     ]
    }
   ],
   "source": [
    "for sec in sector_portfolio_sorts.keys():\n",
    "    print(sec)\n",
    "    print(portfolio_sort_table(sector_portfolio_sorts[sec],np.log(cleansed.resample(rule='m',how='last')).diff().dropna(how='all'),d_map,sec).to_latex())\n"
   ]
  },
  {
   "cell_type": "markdown",
   "metadata": {},
   "source": [
    "# FHT Annual portfolio sorts"
   ]
  },
  {
   "cell_type": "code",
   "execution_count": 27,
   "metadata": {},
   "outputs": [],
   "source": [
    "FHT=calculate_FHT(cleansed)\n",
    "sector_zscores=sector_XS_normalized(FHT)"
   ]
  },
  {
   "cell_type": "code",
   "execution_count": 28,
   "metadata": {},
   "outputs": [],
   "source": [
    "sector_portfolio_sorts_FHT={}\n",
    "for s in sector_zscores.keys():\n",
    "    sector_portfolio_sorts_FHT[s]=quantile_portfolios_annual(sector_zscores[s].dropna(how='all'),cleansed,3)"
   ]
  },
  {
   "cell_type": "code",
   "execution_count": 29,
   "metadata": {},
   "outputs": [
    {
     "name": "stdout",
     "output_type": "stream",
     "text": [
      "Agriculturals\n"
     ]
    },
    {
     "name": "stderr",
     "output_type": "stream",
     "text": [
      "/Users/mrefermat/anaconda/lib/python2.7/site-packages/ipykernel_launcher.py:3: FutureWarning: how in .resample() is deprecated\n",
      "the new syntax is .resample(...).last()\n",
      "  This is separate from the ipykernel package so we can avoid doing imports until\n"
     ]
    },
    {
     "name": "stdout",
     "output_type": "stream",
     "text": [
      "\\begin{tabular}{lrrrr}\n",
      "\\toprule\n",
      "{} &      0 &      1 &      2 &  Factor \\\\\n",
      "\\midrule\n",
      "Monthly Return (in \\%)        &   0.34 &   0.62 &   0.64 &    0.30 \\\\\n",
      "Standard Deviation           &  13.53 &  15.97 &  17.52 &   17.94 \\\\\n",
      "Information Ratio            &   0.30 &   0.47 &   0.44 &    0.20 \\\\\n",
      "Skewness                     &  -0.09 &  -0.08 &   0.91 &    0.68 \\\\\n",
      "Excess Kurtosis              &   0.94 &   1.23 &   6.34 &    3.26 \\\\\n",
      "CAPM Alpha Annualized (in \\%) &   4.28 &   6.24 &   5.29 &    1.01 \\\\\n",
      "CAPM Alpha Tstat             &   2.18 &   3.36 &   2.06 &    0.26 \\\\\n",
      "CAPM Beta (in \\%)             &   0.84 &   1.09 &   1.13 &    0.29 \\\\\n",
      "CAPM Beta Tstat              &  16.42 &  20.87 &  12.41 &    2.46 \\\\\n",
      "\\$R\\textasciicircum2\\$                        &   0.64 &   0.78 &   0.66 &    0.04 \\\\\n",
      "\\bottomrule\n",
      "\\end{tabular}\n",
      "\n",
      "All\n",
      "\\begin{tabular}{lrrrr}\n",
      "\\toprule\n",
      "{} &      0 &      1 &      2 &  Factor \\\\\n",
      "\\midrule\n",
      "Monthly Return (in \\%)        &   0.26 &   0.55 &   0.61 &    0.35 \\\\\n",
      "Standard Deviation           &   6.11 &  10.50 &   9.46 &    7.64 \\\\\n",
      "Information Ratio            &   0.51 &   0.63 &   0.78 &    0.55 \\\\\n",
      "Skewness                     &  -0.97 &  -0.81 &  -0.28 &    0.06 \\\\\n",
      "Excess Kurtosis              &   5.47 &   5.92 &   1.44 &    0.96 \\\\\n",
      "CAPM Alpha Annualized (in \\%) &   1.58 &   5.06 &   4.02 &    2.44 \\\\\n",
      "CAPM Alpha Tstat             &   2.24 &   4.96 &   3.42 &    1.56 \\\\\n",
      "CAPM Beta (in \\%)             &   0.67 &   1.26 &   0.99 &    0.32 \\\\\n",
      "CAPM Beta Tstat              &  22.71 &  36.14 &  13.72 &    3.65 \\\\\n",
      "\\$R\\textasciicircum2\\$                        &   0.78 &   0.86 &   0.77 &    0.16 \\\\\n",
      "\\bottomrule\n",
      "\\end{tabular}\n",
      "\n",
      "Currencies\n",
      "\\begin{tabular}{lrrrr}\n",
      "\\toprule\n",
      "{} &     0 &      1 &      2 &  Factor \\\\\n",
      "\\midrule\n",
      "Monthly Return (in \\%)        & -0.16 &  -0.15 &   0.09 &    0.25 \\\\\n",
      "Standard Deviation           &  7.73 &   7.95 &   9.11 &   10.90 \\\\\n",
      "Information Ratio            & -0.25 &  -0.22 &   0.11 &    0.27 \\\\\n",
      "Skewness                     & -0.54 &  -0.23 &   0.12 &    0.08 \\\\\n",
      "Excess Kurtosis              &  2.05 &   1.28 &   1.50 &    2.47 \\\\\n",
      "CAPM Alpha Annualized (in \\%) & -1.42 &  -0.94 &   1.54 &    2.96 \\\\\n",
      "CAPM Alpha Tstat             & -0.83 &  -0.65 &   1.51 &    1.35 \\\\\n",
      "CAPM Beta (in \\%)             &  0.54 &   0.94 &   1.48 &    0.94 \\\\\n",
      "CAPM Beta Tstat              &  2.97 &  10.67 &  20.25 &    4.10 \\\\\n",
      "\\$R\\textasciicircum2\\$                        &  0.13 &   0.41 &   0.80 &    0.23 \\\\\n",
      "\\bottomrule\n",
      "\\end{tabular}\n",
      "\n",
      "Energies\n",
      "\\begin{tabular}{lrrrr}\n",
      "\\toprule\n",
      "{} &      0 &      1 &      2 &  Factor \\\\\n",
      "\\midrule\n",
      "Monthly Return (in \\%)        &   0.59 &   1.21 &   1.38 &    0.78 \\\\\n",
      "Standard Deviation           &  26.73 &  31.19 &  31.84 &   28.75 \\\\\n",
      "Information Ratio            &   0.27 &   0.47 &   0.52 &    0.33 \\\\\n",
      "Skewness                     &   0.42 &   0.70 &   0.23 &    0.41 \\\\\n",
      "Excess Kurtosis              &   2.16 &   4.51 &   0.62 &    1.01 \\\\\n",
      "CAPM Alpha Annualized (in \\%) &   3.55 &  11.28 &  12.03 &    8.48 \\\\\n",
      "CAPM Alpha Tstat             &   0.84 &   2.57 &   2.41 &    1.16 \\\\\n",
      "CAPM Beta (in \\%)             &   0.83 &   1.09 &   1.09 &    0.26 \\\\\n",
      "CAPM Beta Tstat              &  11.59 &  13.88 &  15.50 &    2.36 \\\\\n",
      "\\$R\\textasciicircum2\\$                        &   0.56 &   0.66 &   0.65 &    0.04 \\\\\n",
      "\\bottomrule\n",
      "\\end{tabular}\n",
      "\n",
      "Equities\n",
      "\\begin{tabular}{lrrrr}\n",
      "\\toprule\n",
      "{} &      0 &      1 &      2 &  Factor \\\\\n",
      "\\midrule\n",
      "Monthly Return (in \\%)        &   0.72 &   0.52 &   0.97 &    0.25 \\\\\n",
      "Standard Deviation           &  14.93 &  16.13 &  25.16 &   20.94 \\\\\n",
      "Information Ratio            &   0.58 &   0.39 &   0.46 &    0.14 \\\\\n",
      "Skewness                     &  -0.85 &  -0.58 &   0.41 &    0.60 \\\\\n",
      "Excess Kurtosis              &   3.47 &   0.70 &   5.26 &    9.28 \\\\\n",
      "CAPM Alpha Annualized (in \\%) &   2.28 &   2.04 &   2.97 &    0.69 \\\\\n",
      "CAPM Alpha Tstat             &   2.11 &   1.84 &   1.79 &    0.28 \\\\\n",
      "CAPM Beta (in \\%)             &   0.89 &   1.02 &   1.03 &    0.14 \\\\\n",
      "CAPM Beta Tstat              &  31.22 &  39.02 &  18.19 &    1.75 \\\\\n",
      "\\$R\\textasciicircum2\\$                        &   0.89 &   0.91 &   0.84 &    0.04 \\\\\n",
      "\\bottomrule\n",
      "\\end{tabular}\n",
      "\n",
      "Metals\n",
      "\\begin{tabular}{lrrrr}\n",
      "\\toprule\n",
      "{} &      0 &      1 &      2 &  Factor \\\\\n",
      "\\midrule\n",
      "Monthly Return (in \\%)        &   0.52 &   0.69 &   0.79 &    0.27 \\\\\n",
      "Standard Deviation           &  14.95 &  18.28 &  22.23 &   16.95 \\\\\n",
      "Information Ratio            &   0.42 &   0.45 &   0.43 &    0.19 \\\\\n",
      "Skewness                     &  -0.42 &  -0.43 &  -0.63 &   -0.29 \\\\\n",
      "Excess Kurtosis              &   1.74 &   2.48 &   4.29 &    2.54 \\\\\n",
      "CAPM Alpha Annualized (in \\%) &   6.74 &   6.85 &   2.95 &   -3.79 \\\\\n",
      "CAPM Alpha Tstat             &   2.99 &   3.10 &   1.18 &   -0.98 \\\\\n",
      "CAPM Beta (in \\%)             &   0.70 &   0.93 &   1.19 &    0.49 \\\\\n",
      "CAPM Beta Tstat              &  12.36 &  16.50 &  21.47 &    5.96 \\\\\n",
      "\\$R\\textasciicircum2\\$                        &   0.68 &   0.78 &   0.83 &    0.26 \\\\\n",
      "\\bottomrule\n",
      "\\end{tabular}\n",
      "\n",
      "Fixed Income\n",
      "\\begin{tabular}{lrrrr}\n",
      "\\toprule\n",
      "{} &     0 &      1 &      2 &  Factor \\\\\n",
      "\\midrule\n",
      "Monthly Return (in \\%)        &  0.01 &   0.08 &   0.13 &    0.12 \\\\\n",
      "Standard Deviation           &  0.85 &   2.12 &   5.32 &    5.09 \\\\\n",
      "Information Ratio            &  0.16 &   0.43 &   0.30 &    0.29 \\\\\n",
      "Skewness                     & -1.11 &  -0.05 &   0.06 &   -0.07 \\\\\n",
      "Excess Kurtosis              &  6.35 &   1.47 &   0.86 &    0.95 \\\\\n",
      "CAPM Alpha Annualized (in \\%) &  0.13 &   0.29 &   0.02 &   -0.11 \\\\\n",
      "CAPM Alpha Tstat             &  0.81 &   1.17 &   0.06 &   -0.28 \\\\\n",
      "CAPM Beta (in \\%)             &  0.09 &   0.60 &   2.26 &    2.17 \\\\\n",
      "CAPM Beta Tstat              &  3.55 &  16.01 &  59.44 &   39.98 \\\\\n",
      "\\$R\\textasciicircum2\\$                        &  0.12 &   0.69 &   0.96 &    0.93 \\\\\n",
      "\\bottomrule\n",
      "\\end{tabular}\n",
      "\n"
     ]
    }
   ],
   "source": [
    "for sec in sector_portfolio_sorts_FHT.keys():\n",
    "    print(sec)\n",
    "    print(portfolio_sort_table(sector_portfolio_sorts_FHT[sec],np.log(cleansed.resample(rule='m',how='last')).diff().dropna(how='all'),d_map,sec).to_latex())"
   ]
  },
  {
   "cell_type": "markdown",
   "metadata": {},
   "source": [
    "# Monthly portoflio sorts"
   ]
  },
  {
   "cell_type": "code",
   "execution_count": 25,
   "metadata": {},
   "outputs": [],
   "source": [
    "amihud_monthly = read_monthly(amihud=True,sorts=3,xs=True)"
   ]
  },
  {
   "cell_type": "code",
   "execution_count": 26,
   "metadata": {},
   "outputs": [
    {
     "name": "stdout",
     "output_type": "stream",
     "text": [
      "Agriculturals\n"
     ]
    },
    {
     "name": "stderr",
     "output_type": "stream",
     "text": [
      "/Users/mrefermat/anaconda/lib/python2.7/site-packages/ipykernel_launcher.py:4: FutureWarning: how in .resample() is deprecated\n",
      "the new syntax is .resample(...).last()\n",
      "  after removing the cwd from sys.path.\n"
     ]
    },
    {
     "name": "stdout",
     "output_type": "stream",
     "text": [
      "\\begin{tabular}{lrrrr}\n",
      "\\toprule\n",
      "{} &      0 &      1 &      2 &  Factor \\\\\n",
      "\\midrule\n",
      "Monthly Return (in \\%)        &   0.49 &   0.75 &   0.98 &    0.49 \\\\\n",
      "Standard Deviation           &  16.88 &  14.30 &  19.25 &   17.36 \\\\\n",
      "Information Ratio            &   0.35 &   0.63 &   0.61 &    0.34 \\\\\n",
      "Skewness                     &   0.09 &  -0.52 &   1.21 &    1.11 \\\\\n",
      "Excess Kurtosis              &   0.74 &   2.26 &   8.19 &    6.11 \\\\\n",
      "CAPM Alpha Annualized (in \\%) &   2.49 &   6.42 &   8.26 &    5.76 \\\\\n",
      "CAPM Alpha Tstat             &   1.30 &   2.88 &   3.08 &    1.45 \\\\\n",
      "CAPM Beta (in \\%)             &   1.07 &   0.82 &   1.11 &    0.04 \\\\\n",
      "CAPM Beta Tstat              &  18.59 &  13.58 &  12.85 &    0.36 \\\\\n",
      "\\$R\\textasciicircum2\\$                        &   0.77 &   0.63 &   0.64 &    0.00 \\\\\n",
      "\\bottomrule\n",
      "\\end{tabular}\n",
      "\n",
      "All\n",
      "\\begin{tabular}{lrrrr}\n",
      "\\toprule\n",
      "{} &      0 &      1 &      2 &  Factor \\\\\n",
      "\\midrule\n",
      "Monthly Return (in \\%)        &   0.39 &   0.34 &   0.65 &    0.26 \\\\\n",
      "Standard Deviation           &  10.78 &   9.68 &  10.00 &    9.06 \\\\\n",
      "Information Ratio            &   0.43 &   0.42 &   0.78 &    0.34 \\\\\n",
      "Skewness                     &  -0.78 &  -0.55 &  -0.13 &    0.77 \\\\\n",
      "Excess Kurtosis              &   3.62 &   2.71 &   4.55 &    3.87 \\\\\n",
      "CAPM Alpha Annualized (in \\%) &   2.68 &   2.27 &   5.91 &    3.23 \\\\\n",
      "CAPM Alpha Tstat             &   1.93 &   1.65 &   5.31 &    1.56 \\\\\n",
      "CAPM Beta (in \\%)             &   1.05 &   0.93 &   0.99 &   -0.06 \\\\\n",
      "CAPM Beta Tstat              &  19.83 &  13.76 &  22.11 &   -0.84 \\\\\n",
      "\\$R\\textasciicircum2\\$                        &   0.73 &   0.70 &   0.75 &    0.00 \\\\\n",
      "\\bottomrule\n",
      "\\end{tabular}\n",
      "\n",
      "Currencies\n",
      "\\begin{tabular}{lrrrr}\n",
      "\\toprule\n",
      "{} &     0 &     1 &     2 &  Factor \\\\\n",
      "\\midrule\n",
      "Monthly Return (in \\%)        & -0.07 &  0.07 &  0.12 &    0.19 \\\\\n",
      "Standard Deviation           &  9.43 &  7.39 &  6.11 &    8.96 \\\\\n",
      "Information Ratio            & -0.09 &  0.11 &  0.24 &    0.25 \\\\\n",
      "Skewness                     & -0.04 &  0.09 & -0.36 &   -0.51 \\\\\n",
      "Excess Kurtosis              &  1.28 &  0.38 &  8.19 &    1.66 \\\\\n",
      "CAPM Alpha Annualized (in \\%) & -0.33 &  1.19 &  1.78 &    2.11 \\\\\n",
      "CAPM Alpha Tstat             & -0.21 &  1.00 &  1.84 &    1.00 \\\\\n",
      "CAPM Beta (in \\%)             &  1.29 &  1.04 &  0.89 &   -0.40 \\\\\n",
      "CAPM Beta Tstat              &  8.88 &  7.98 &  8.82 &   -1.75 \\\\\n",
      "\\$R\\textasciicircum2\\$                        &  0.54 &  0.57 &  0.61 &    0.05 \\\\\n",
      "\\bottomrule\n",
      "\\end{tabular}\n",
      "\n",
      "Energies\n",
      "\\begin{tabular}{lrrrr}\n",
      "\\toprule\n",
      "{} &      0 &      1 &      2 &  Factor \\\\\n",
      "\\midrule\n",
      "Monthly Return (in \\%)        &   0.37 &   1.15 &   1.15 &    0.78 \\\\\n",
      "Standard Deviation           &  33.38 &  31.59 &  29.19 &   33.82 \\\\\n",
      "Information Ratio            &   0.13 &   0.44 &   0.47 &    0.28 \\\\\n",
      "Skewness                     &   0.18 &  -0.00 &   1.08 &   -0.09 \\\\\n",
      "Excess Kurtosis              &   1.29 &   1.26 &   4.22 &    0.94 \\\\\n",
      "CAPM Alpha Annualized (in \\%) &   2.27 &  11.89 &  12.06 &    9.79 \\\\\n",
      "CAPM Alpha Tstat             &   0.47 &   2.36 &   2.43 &    1.16 \\\\\n",
      "CAPM Beta (in \\%)             &   1.12 &   1.02 &   0.91 &   -0.21 \\\\\n",
      "CAPM Beta Tstat              &  14.38 &  11.84 &  10.20 &   -1.42 \\\\\n",
      "\\$R\\textasciicircum2\\$                        &   0.64 &   0.60 &   0.55 &    0.02 \\\\\n",
      "\\bottomrule\n",
      "\\end{tabular}\n",
      "\n",
      "Equities\n",
      "\\begin{tabular}{lrrrr}\n",
      "\\toprule\n",
      "{} &      0 &      1 &      2 &  Factor \\\\\n",
      "\\midrule\n",
      "Monthly Return (in \\%)        &   0.34 &   0.22 &   0.61 &    0.27 \\\\\n",
      "Standard Deviation           &  16.79 &  16.60 &  12.66 &   10.26 \\\\\n",
      "Information Ratio            &   0.24 &   0.16 &   0.58 &    0.32 \\\\\n",
      "Skewness                     &  -0.51 &  -0.68 &  -0.61 &    0.49 \\\\\n",
      "Excess Kurtosis              &   1.20 &   0.92 &   1.15 &    2.17 \\\\\n",
      "CAPM Alpha Annualized (in \\%) &   1.82 &   0.45 &   5.75 &    3.93 \\\\\n",
      "CAPM Alpha Tstat             &   1.48 &   0.38 &   4.04 &    1.69 \\\\\n",
      "CAPM Beta (in \\%)             &   1.09 &   1.08 &   0.77 &   -0.32 \\\\\n",
      "CAPM Beta Tstat              &  35.52 &  33.24 &  18.06 &   -5.10 \\\\\n",
      "\\$R\\textasciicircum2\\$                        &   0.92 &   0.92 &   0.80 &    0.21 \\\\\n",
      "\\bottomrule\n",
      "\\end{tabular}\n",
      "\n",
      "Metals\n",
      "\\begin{tabular}{lrrrr}\n",
      "\\toprule\n",
      "{} &      0 &      1 &      2 &  Factor \\\\\n",
      "\\midrule\n",
      "Monthly Return (in \\%)        &   0.53 &   0.44 &   0.62 &    0.09 \\\\\n",
      "Standard Deviation           &  19.38 &  18.57 &  24.62 &   19.73 \\\\\n",
      "Information Ratio            &   0.33 &   0.28 &   0.30 &    0.05 \\\\\n",
      "Skewness                     &  -0.31 &  -0.74 &  -0.04 &    0.23 \\\\\n",
      "Excess Kurtosis              &   4.91 &   2.19 &   1.72 &    3.78 \\\\\n",
      "CAPM Alpha Annualized (in \\%) &   4.03 &   2.87 &   4.23 &    0.20 \\\\\n",
      "CAPM Alpha Tstat             &   1.54 &   1.27 &   1.60 &    0.04 \\\\\n",
      "CAPM Beta (in \\%)             &   0.84 &   0.85 &   1.16 &    0.32 \\\\\n",
      "CAPM Beta Tstat              &  15.22 &  21.25 &  17.48 &    2.94 \\\\\n",
      "\\$R\\textasciicircum2\\$                        &   0.69 &   0.77 &   0.81 &    0.09 \\\\\n",
      "\\bottomrule\n",
      "\\end{tabular}\n",
      "\n",
      "Fixed Income\n",
      "\\begin{tabular}{lrrrr}\n",
      "\\toprule\n",
      "{} &     0 &      1 &      2 &  Factor \\\\\n",
      "\\midrule\n",
      "Monthly Return (in \\%)        &  0.04 &   0.13 &   0.18 &    0.14 \\\\\n",
      "Standard Deviation           &  1.38 &   2.60 &   4.57 &    3.94 \\\\\n",
      "Information Ratio            &  0.35 &   0.62 &   0.47 &    0.43 \\\\\n",
      "Skewness                     &  0.99 &   0.69 &   0.14 &    0.05 \\\\\n",
      "Excess Kurtosis              &  6.96 &   3.34 &   1.88 &    2.73 \\\\\n",
      "CAPM Alpha Annualized (in \\%) &  0.00 &   0.63 &   0.24 &    0.23 \\\\\n",
      "CAPM Alpha Tstat             &  0.01 &   1.86 &   0.57 &    0.41 \\\\\n",
      "CAPM Beta (in \\%)             &  0.45 &   0.93 &   1.80 &    1.36 \\\\\n",
      "CAPM Beta Tstat              &  9.91 &  13.03 &  21.10 &   11.31 \\\\\n",
      "\\$R\\textasciicircum2\\$                        &  0.58 &   0.70 &   0.86 &    0.65 \\\\\n",
      "\\bottomrule\n",
      "\\end{tabular}\n",
      "\n"
     ]
    }
   ],
   "source": [
    "for sec in amihud_monthly.keys():\n",
    "    print(sec)\n",
    "    #print(portfolio_sort_table(amihud_monthly[sec],sector_rtns[sec]).to_latex())\n",
    "    print(portfolio_sort_table(amihud_monthly[sec],np.log(cleansed.resample(rule='m',how='last')).diff().dropna(how='all'),d_map,sec).to_latex())"
   ]
  },
  {
   "cell_type": "markdown",
   "metadata": {},
   "source": [
    "# Monthly FHT"
   ]
  },
  {
   "cell_type": "code",
   "execution_count": 22,
   "metadata": {},
   "outputs": [],
   "source": [
    "FHT_monthly = read_monthly(amihud=False,sorts=3,xs=True)"
   ]
  },
  {
   "cell_type": "code",
   "execution_count": 23,
   "metadata": {},
   "outputs": [
    {
     "name": "stdout",
     "output_type": "stream",
     "text": [
      "Agriculturals\n"
     ]
    },
    {
     "name": "stderr",
     "output_type": "stream",
     "text": [
      "/Users/mrefermat/anaconda/lib/python2.7/site-packages/ipykernel_launcher.py:4: FutureWarning: how in .resample() is deprecated\n",
      "the new syntax is .resample(...).last()\n",
      "  after removing the cwd from sys.path.\n"
     ]
    },
    {
     "name": "stdout",
     "output_type": "stream",
     "text": [
      "\\begin{tabular}{lrrrr}\n",
      "\\toprule\n",
      "{} &      0 &      1 &      2 &  Factor \\\\\n",
      "\\midrule\n",
      "Monthly Return (in \\%)        &   0.93 &   0.45 &   0.36 &   -0.58 \\\\\n",
      "Standard Deviation           &  12.10 &  15.94 &  18.67 &   17.73 \\\\\n",
      "Information Ratio            &   0.92 &   0.34 &   0.23 &   -0.39 \\\\\n",
      "Skewness                     &   0.16 &  -0.22 &   1.07 &    0.94 \\\\\n",
      "Excess Kurtosis              &   1.35 &   0.74 &   7.29 &    5.66 \\\\\n",
      "CAPM Alpha Annualized (in \\%) &  10.36 &   5.41 &   1.28 &   -9.08 \\\\\n",
      "CAPM Alpha Tstat             &   4.78 &   2.74 &   0.54 &   -2.31 \\\\\n",
      "CAPM Beta (in \\%)             &   0.73 &   1.09 &   1.24 &    0.51 \\\\\n",
      "CAPM Beta Tstat              &  14.40 &  22.68 &  13.71 &    4.22 \\\\\n",
      "\\$R\\textasciicircum2\\$                        &   0.55 &   0.75 &   0.70 &    0.14 \\\\\n",
      "\\bottomrule\n",
      "\\end{tabular}\n",
      "\n",
      "All\n",
      "\\begin{tabular}{lrrrr}\n",
      "\\toprule\n",
      "{} &      0 &      1 &      2 &  Factor \\\\\n",
      "\\midrule\n",
      "Monthly Return (in \\%)        &   0.41 &   0.44 &   0.59 &    0.18 \\\\\n",
      "Standard Deviation           &   6.12 &   9.49 &  10.13 &    8.01 \\\\\n",
      "Information Ratio            &   0.80 &   0.56 &   0.70 &    0.28 \\\\\n",
      "Skewness                     &  -1.15 &  -0.71 &  -0.31 &    0.52 \\\\\n",
      "Excess Kurtosis              &   7.73 &   3.30 &   2.78 &    1.94 \\\\\n",
      "CAPM Alpha Annualized (in \\%) &   3.12 &   3.70 &   3.52 &    0.41 \\\\\n",
      "CAPM Alpha Tstat             &   4.20 &   4.01 &   3.52 &    0.28 \\\\\n",
      "CAPM Beta (in \\%)             &   0.69 &   1.12 &   1.08 &    0.39 \\\\\n",
      "CAPM Beta Tstat              &  22.65 &  21.20 &  23.31 &    5.71 \\\\\n",
      "\\$R\\textasciicircum2\\$                        &   0.78 &   0.86 &   0.83 &    0.23 \\\\\n",
      "\\bottomrule\n",
      "\\end{tabular}\n",
      "\n",
      "Currencies\n",
      "\\begin{tabular}{lrrrr}\n",
      "\\toprule\n",
      "{} &     0 &     1 &      2 &  Factor \\\\\n",
      "\\midrule\n",
      "Monthly Return (in \\%)        &  0.13 & -0.02 &   0.03 &   -0.10 \\\\\n",
      "Standard Deviation           &  7.19 &  7.17 &   8.48 &    9.33 \\\\\n",
      "Information Ratio            &  0.21 & -0.04 &   0.04 &   -0.13 \\\\\n",
      "Skewness                     & -0.12 & -0.18 &  -0.28 &   -0.50 \\\\\n",
      "Excess Kurtosis              &  2.95 &  0.90 &   3.04 &    3.83 \\\\\n",
      "CAPM Alpha Annualized (in \\%) &  2.34 & -0.18 &   0.87 &   -1.47 \\\\\n",
      "CAPM Alpha Tstat             &  1.49 & -0.12 &   0.87 &   -0.75 \\\\\n",
      "CAPM Beta (in \\%)             &  0.64 &  0.84 &   1.40 &    0.76 \\\\\n",
      "CAPM Beta Tstat              &  4.43 &  8.71 &  12.53 &    3.33 \\\\\n",
      "\\$R\\textasciicircum2\\$                        &  0.21 &  0.38 &   0.77 &    0.19 \\\\\n",
      "\\bottomrule\n",
      "\\end{tabular}\n",
      "\n",
      "Energies\n",
      "\\begin{tabular}{lrrrr}\n",
      "\\toprule\n",
      "{} &      0 &      1 &      2 &  Factor \\\\\n",
      "\\midrule\n",
      "Monthly Return (in \\%)        &   0.57 &   0.75 &   1.73 &    1.17 \\\\\n",
      "Standard Deviation           &  26.12 &  30.53 &  33.37 &   32.27 \\\\\n",
      "Information Ratio            &   0.26 &   0.29 &   0.62 &    0.43 \\\\\n",
      "Skewness                     &   0.23 &   0.65 &   0.43 &    0.29 \\\\\n",
      "Excess Kurtosis              &   1.66 &   3.06 &   1.20 &    2.42 \\\\\n",
      "CAPM Alpha Annualized (in \\%) &   2.82 &   5.30 &  18.33 &   15.51 \\\\\n",
      "CAPM Alpha Tstat             &   0.67 &   1.19 &   3.71 &    1.99 \\\\\n",
      "CAPM Beta (in \\%)             &   0.77 &   1.03 &   1.15 &    0.38 \\\\\n",
      "CAPM Beta Tstat              &  10.15 &  23.17 &  17.35 &    3.17 \\\\\n",
      "\\$R\\textasciicircum2\\$                        &   0.50 &   0.63 &   0.66 &    0.07 \\\\\n",
      "\\bottomrule\n",
      "\\end{tabular}\n",
      "\n",
      "Equities\n",
      "\\begin{tabular}{lrrrr}\n",
      "\\toprule\n",
      "{} &      0 &      1 &      2 &  Factor \\\\\n",
      "\\midrule\n",
      "Monthly Return (in \\%)        &   0.74 &   0.54 &   1.10 &    0.37 \\\\\n",
      "Standard Deviation           &  14.70 &  16.13 &  26.33 &   22.24 \\\\\n",
      "Information Ratio            &   0.60 &   0.40 &   0.50 &    0.20 \\\\\n",
      "Skewness                     &  -0.33 &  -0.81 &   0.77 &    0.73 \\\\\n",
      "Excess Kurtosis              &   1.51 &   1.77 &   5.54 &    9.27 \\\\\n",
      "CAPM Alpha Annualized (in \\%) &   1.56 &   2.82 &   2.54 &    0.97 \\\\\n",
      "CAPM Alpha Tstat             &   1.35 &   2.85 &   1.64 &    0.40 \\\\\n",
      "CAPM Beta (in \\%)             &   0.90 &   1.02 &   1.02 &    0.12 \\\\\n",
      "CAPM Beta Tstat              &  35.32 &  33.86 &  16.94 &    1.61 \\\\\n",
      "\\$R\\textasciicircum2\\$                        &   0.89 &   0.92 &   0.84 &    0.02 \\\\\n",
      "\\bottomrule\n",
      "\\end{tabular}\n",
      "\n",
      "Metals\n",
      "\\begin{tabular}{lrrrr}\n",
      "\\toprule\n",
      "{} &      0 &      1 &      2 &  Factor \\\\\n",
      "\\midrule\n",
      "Monthly Return (in \\%)        &   0.42 &   0.38 &   0.80 &    0.38 \\\\\n",
      "Standard Deviation           &  16.55 &  18.31 &  21.31 &   17.48 \\\\\n",
      "Information Ratio            &   0.31 &   0.25 &   0.45 &    0.26 \\\\\n",
      "Skewness                     &  -1.51 &  -0.21 &  -0.13 &    0.59 \\\\\n",
      "Excess Kurtosis              &  13.86 &   2.95 &   1.55 &    3.48 \\\\\n",
      "CAPM Alpha Annualized (in \\%) &   3.09 &   5.28 &   1.45 &   -1.63 \\\\\n",
      "CAPM Alpha Tstat             &   1.33 &   2.35 &   0.62 &   -0.40 \\\\\n",
      "CAPM Beta (in \\%)             &   0.80 &   0.91 &   1.14 &    0.34 \\\\\n",
      "CAPM Beta Tstat              &   9.93 &  18.21 &  15.82 &    2.36 \\\\\n",
      "\\$R\\textasciicircum2\\$                        &   0.72 &   0.76 &   0.82 &    0.12 \\\\\n",
      "\\bottomrule\n",
      "\\end{tabular}\n",
      "\n",
      "Fixed Income\n",
      "\\begin{tabular}{lrrrr}\n",
      "\\toprule\n",
      "{} &     0 &      1 &      2 &  Factor \\\\\n",
      "\\midrule\n",
      "Monthly Return (in \\%)        &  0.01 &   0.06 &   0.15 &    0.14 \\\\\n",
      "Standard Deviation           &  0.79 &   2.36 &   5.16 &    4.96 \\\\\n",
      "Information Ratio            &  0.21 &   0.31 &   0.36 &    0.34 \\\\\n",
      "Skewness                     & -0.66 &  -0.96 &   0.11 &   -0.03 \\\\\n",
      "Excess Kurtosis              &  7.85 &   7.26 &   0.82 &    0.84 \\\\\n",
      "CAPM Alpha Annualized (in \\%) &  0.10 &   0.09 &   0.16 &    0.06 \\\\\n",
      "CAPM Alpha Tstat             &  0.70 &   0.40 &   0.60 &    0.15 \\\\\n",
      "CAPM Beta (in \\%)             &  0.08 &   0.62 &   2.25 &    2.17 \\\\\n",
      "CAPM Beta Tstat              &  2.61 &  18.48 &  60.48 &   36.95 \\\\\n",
      "\\$R\\textasciicircum2\\$                        &  0.10 &   0.70 &   0.96 &    0.93 \\\\\n",
      "\\bottomrule\n",
      "\\end{tabular}\n",
      "\n"
     ]
    }
   ],
   "source": [
    "for sec in FHT_monthly.keys():\n",
    "    print(sec)\n",
    "    #print(portfolio_sort_table(FHT_monthly[sec],sector_rtns[sec]).to_latex())\n",
    "    print(portfolio_sort_table(FHT_monthly[sec],np.log(cleansed.resample(rule='m',how='last')).diff().dropna(how='all'),d_map,sec).to_latex())\n",
    "\n"
   ]
  },
  {
   "cell_type": "code",
   "execution_count": 30,
   "metadata": {},
   "outputs": [],
   "source": [
    "# Spanning Test\n"
   ]
  },
  {
   "cell_type": "code",
   "execution_count": null,
   "metadata": {},
   "outputs": [],
   "source": []
  }
 ],
 "metadata": {
  "kernelspec": {
   "display_name": "Python 2",
   "language": "python",
   "name": "python2"
  },
  "language_info": {
   "codemirror_mode": {
    "name": "ipython",
    "version": 2
   },
   "file_extension": ".py",
   "mimetype": "text/x-python",
   "name": "python",
   "nbconvert_exporter": "python",
   "pygments_lexer": "ipython2",
   "version": "2.7.12"
  }
 },
 "nbformat": 4,
 "nbformat_minor": 2
}
