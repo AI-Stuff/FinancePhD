{
 "cells": [
  {
   "cell_type": "code",
   "execution_count": 1,
   "metadata": {},
   "outputs": [
    {
     "name": "stderr",
     "output_type": "stream",
     "text": [
      "/Users/mrefermat/anaconda3/lib/python3.6/site-packages/statsmodels/compat/pandas.py:56: FutureWarning: The pandas.core.datetools module is deprecated and will be removed in a future version. Please use the pandas.tseries module instead.\n",
      "  from pandas.core import datetools\n"
     ]
    }
   ],
   "source": [
    "%matplotlib inline\n",
    "import math\n",
    "import pandas as pd\n",
    "from tsmom_model import *\n",
    "import numpy as np\n",
    "from datetime import datetime\n",
    "import PPCA_MR3 as p\n",
    "from linearmodels.asset_pricing import LinearFactorModel\n",
    "import statsmodels.api as sm"
   ]
  },
  {
   "cell_type": "code",
   "execution_count": 2,
   "metadata": {
    "collapsed": true
   },
   "outputs": [],
   "source": [
    "import pylab\n",
    "sns.set(font_scale=2)\n",
    "pylab.rcParams['figure.figsize'] = (24, 18)"
   ]
  },
  {
   "cell_type": "markdown",
   "metadata": {},
   "source": [
    "# Hand cleansed\n",
    "Hand cleaned to removed duplicates"
   ]
  },
  {
   "cell_type": "code",
   "execution_count": 3,
   "metadata": {},
   "outputs": [
    {
     "name": "stderr",
     "output_type": "stream",
     "text": [
      "/Users/mrefermat/git/FinancePhD/LiquidityMomentum/tsmom_model.py:160: FutureWarning: how in .resample() is deprecated\n",
      "the new syntax is .resample(...).last()\n",
      "  data=pd.read_csv('./Price.csv',index_col=0,parse_dates=['Date']).resample(rule='d',how='last')\n",
      "/Users/mrefermat/git/FinancePhD/LiquidityMomentum/tsmom_model.py:162: FutureWarning: how in .resample() is deprecated\n",
      "the new syntax is .resample(...).last()\n",
      "  qd=pd.read_csv('./liquid_contracts.csv',index_col=0,parse_dates=['Date']).resample(rule='d',how='last')\n"
     ]
    }
   ],
   "source": [
    "cleansed=load_amihud_markets_price()"
   ]
  },
  {
   "cell_type": "markdown",
   "metadata": {},
   "source": [
    "# Amihud methodology\n",
    "\n",
    "Amihud (2002) developed the illiquidity measure expressed by:\n",
    "\n",
    "$$ Amihud =\\frac{1}{N} \\sum \\frac{|r_t|}{\\text{dvol}_t} $$\n",
    "\n",
    "where $r_t$ is the return on day $t$ and $Volume_t$ is the dollar volume on day $t$. \n",
    "\n",
    "The benefit of taking the daily return is to weight the move by change of price and the volume.\n"
   ]
  },
  {
   "cell_type": "code",
   "execution_count": 4,
   "metadata": {},
   "outputs": [
    {
     "name": "stderr",
     "output_type": "stream",
     "text": [
      "/Users/mrefermat/git/FinancePhD/LiquidityMomentum/tsmom_model.py:44: FutureWarning: how in .resample() is deprecated\n",
      "the new syntax is .resample(...).mean()\n",
      "  data=pd.read_csv('./Volume.csv',index_col=0,parse_dates=['Date']).resample(rule='d',how='mean')\n",
      "/Users/mrefermat/git/FinancePhD/LiquidityMomentum/tsmom_model.py:46: FutureWarning: how in .resample() is deprecated\n",
      "the new syntax is .resample(...).sum()\n",
      "  v=pd.read_csv('./volume_data.csv',index_col=0,parse_dates=['Date']).resample(rule='d',how='sum')\n",
      "/Users/mrefermat/git/FinancePhD/LiquidityMomentum/tsmom_model.py:48: FutureWarning: pd.rolling_mean is deprecated for DataFrame and will be removed in a future version, replace with \n",
      "\tDataFrame.rolling(window=250,min_periods=100,center=False).mean()\n",
      "  volume=pd.rolling_mean(v,250,min_periods=100).resample(rule='d',how='mean')[:'2016']\n",
      "/Users/mrefermat/git/FinancePhD/LiquidityMomentum/tsmom_model.py:48: FutureWarning: how in .resample() is deprecated\n",
      "the new syntax is .resample(...).mean()\n",
      "  volume=pd.rolling_mean(v,250,min_periods=100).resample(rule='d',how='mean')[:'2016']\n",
      "/Users/mrefermat/git/FinancePhD/LiquidityMomentum/tsmom_model.py:51: FutureWarning: pd.rolling_mean is deprecated for Series and will be removed in a future version, replace with \n",
      "\tSeries.rolling(window=250,min_periods=50,center=False).mean()\n",
      "  volume[name]=pd.rolling_mean(v2[x],250,min_periods=50).resample(rule='d',how='mean')\n",
      "/Users/mrefermat/git/FinancePhD/LiquidityMomentum/tsmom_model.py:51: FutureWarning: how in .resample() is deprecated\n",
      "the new syntax is .resample(...).mean()\n",
      "  volume[name]=pd.rolling_mean(v2[x],250,min_periods=50).resample(rule='d',how='mean')\n",
      "/Users/mrefermat/git/FinancePhD/LiquidityMomentum/tsmom_model.py:78: FutureWarning: how in .resample() is deprecated\n",
      "the new syntax is .resample(...).last()\n",
      "  fx=fx.resample(rule='d',how='last')\n",
      "/Users/mrefermat/git/FinancePhD/LiquidityMomentum/tsmom_model.py:79: FutureWarning: how in .resample() is deprecated\n",
      "the new syntax is .resample(...).last()\n",
      "  px=cleansed.resample(rule='d',how='last')\n",
      "/Users/mrefermat/git/FinancePhD/LiquidityMomentum/tsmom_model.py:87: FutureWarning: how in .resample() is deprecated\n",
      "the new syntax is .resample(...).mean()\n",
      "  x= (cleansed.pct_change().abs()/ total_vol).resample(rule='m',how='mean')\n"
     ]
    }
   ],
   "source": [
    "amihud=calculate_amihud_liquidity(cleansed)[:'2016'] "
   ]
  },
  {
   "cell_type": "markdown",
   "metadata": {},
   "source": [
    "# Academic papers\n",
    "Based on Illin, A., Raiko, T. 2010 paper called \"Practical Approaches to Principal Component Analysis in the Presence of Missing Values\"\n",
    "\n",
    "Tipping and Bishop (1999) introducted probablistic formulation of PCA (PPCA)\n",
    "\n",
    "\n",
    "Use a flavor of Probabilistic PCA that is robust to missing data (see Ilin and Raiko 2010). Rather than the vanilla one-shot SVD, PPCA uses an iterative EM procedure/fixed point algorithm. From an initial guess, it’ll alternatively interpolate missing data and update the components until convergence.\n",
    "\n",
    "On a side note, PPCA interpolates using information from all series, making it a multivariate interpolator. Be careful though, fitting the model to too many components will likely lead to overfitting problems in the interpolated data.\n",
    "\n",
    "Also note that I am using the standardization that is mentioned in Korajecyk and Sadka (2008) of expanding zscores\n"
   ]
  },
  {
   "cell_type": "code",
   "execution_count": 42,
   "metadata": {},
   "outputs": [
    {
     "name": "stderr",
     "output_type": "stream",
     "text": [
      "/Users/mrefermat/git/FinancePhD/LiquidityMomentum/tsmom_model.py:275: FutureWarning: pd.rolling_mean is deprecated for DataFrame and will be removed in a future version, replace with \n",
      "\tDataFrame.rolling(window=100000000,min_periods=3,center=False).mean()\n",
      "  return (df-pd.rolling_mean(df,100000000,min_periods=min_per))/pd.rolling_std(df,100000000,min_periods=min_per)\n",
      "/Users/mrefermat/git/FinancePhD/LiquidityMomentum/tsmom_model.py:275: FutureWarning: pd.rolling_std is deprecated for DataFrame and will be removed in a future version, replace with \n",
      "\tDataFrame.rolling(window=100000000,min_periods=3,center=False).std()\n",
      "  return (df-pd.rolling_mean(df,100000000,min_periods=min_per))/pd.rolling_std(df,100000000,min_periods=min_per)\n"
     ]
    }
   ],
   "source": [
    "data=calc_zscore_expanding_window(amihud.dropna(how='all'),3).dropna(how='all')\n",
    "sector_zscores={}\n",
    "d_map=sector_map(amihud)\n",
    "for sect in d_map.keys():\n",
    "    sector_zscores[sect]=data[d_map[sect]].dropna(how='all')"
   ]
  },
  {
   "cell_type": "code",
   "execution_count": 43,
   "metadata": {},
   "outputs": [
    {
     "name": "stderr",
     "output_type": "stream",
     "text": [
      "/Users/mrefermat/anaconda3/lib/python3.6/site-packages/ipykernel_launcher.py:4: FutureWarning: how in .resample() is deprecated\n",
      "the new syntax is .resample(...).last()\n",
      "  after removing the cwd from sys.path.\n",
      "/Users/mrefermat/anaconda3/lib/python3.6/site-packages/ipykernel_launcher.py:5: FutureWarning: how in .resample() is deprecated\n",
      "the new syntax is .resample(...).last()\n",
      "  \"\"\"\n"
     ]
    }
   ],
   "source": [
    "sector_rtns={}\n",
    "d_map=sector_map(amihud)\n",
    "for sect in d_map.keys():\n",
    "    sector_rtns[sect]=np.log(cleansed[d_map[sect]].resample(rule='m',how='last')).diff().dropna(how='all')\n",
    "sector_rtns['All']=np.log(cleansed.resample(rule='m',how='last')).diff().dropna(how='all')"
   ]
  },
  {
   "cell_type": "code",
   "execution_count": 44,
   "metadata": {
    "collapsed": true
   },
   "outputs": [],
   "source": [
    "sector_PC={}\n",
    "sector_variance_explained=pd.DataFrame()\n",
    "\n",
    "no_pc=3\n",
    "for sect in d_map.keys():\n",
    "    try: \n",
    "        PPCA=p.PPCA()\n",
    "        PPCA.fit(np.array(sector_zscores[sect]),d=no_pc)\n",
    "        sector_variance_explained[sect] = PPCA.var_exp\n",
    "        pcs=pd.DataFrame()\n",
    "        for i in range(0,no_pc,1):\n",
    "            x=pd.DataFrame(PPCA.C.T[i]*PPCA.data).sum(axis=1)\n",
    "            x.set_axis(labels=sector_zscores[sect].index,axis='index')\n",
    "            pcs[i]=x\n",
    "        sector_PC[sect] = pcs\n",
    "    except:\n",
    "        print(sect)"
   ]
  },
  {
   "cell_type": "code",
   "execution_count": 45,
   "metadata": {},
   "outputs": [],
   "source": [
    "no_fx = [i for i in data.columns if i not in d_map['Currencies']]\n",
    "PPCA=p.PPCA()\n",
    "PPCA.fit(np.array(data[no_fx]),d=no_pc)\n",
    "sector_variance_explained[sect] = PPCA.var_exp\n",
    "pcs=pd.DataFrame()\n",
    "for i in range(0,no_pc,1):\n",
    "    x=pd.DataFrame(PPCA.C.T[i]*PPCA.data).sum(axis=1)\n",
    "    x.set_axis(labels=sector_zscores[sect].index,axis=0)\n",
    "    pcs[i]=x\n",
    "sector_PC['All'] = pcs"
   ]
  },
  {
   "cell_type": "code",
   "execution_count": 46,
   "metadata": {},
   "outputs": [
    {
     "name": "stderr",
     "output_type": "stream",
     "text": [
      "/Users/mrefermat/git/FinancePhD/LiquidityMomentum/tsmom_model.py:240: FutureWarning: how in .resample() is deprecated\n",
      "the new syntax is .resample(...).median()\n",
      "  mkts=quantile_columns(rank_data.resample(rule='a',how='median'),year,number_of_buckets,i)\n",
      "/Users/mrefermat/git/FinancePhD/LiquidityMomentum/tsmom_model.py:241: FutureWarning: how in .resample() is deprecated\n",
      "the new syntax is .resample(...).last()\n",
      "  rtns = price_data.resample(rule='m',how='last')[mkts].pct_change()[str(y+1)].mean(axis=1)\n"
     ]
    }
   ],
   "source": [
    "sector_portfolio_sorts={}\n",
    "for s in sector_zscores.keys():\n",
    "    sector_portfolio_sorts[s]=quantile_portfolios_annual(sector_zscores[s],cleansed,2)\n",
    "sector_portfolio_sorts['All']=quantile_portfolios_annual(data,cleansed,2)"
   ]
  },
  {
   "cell_type": "code",
   "execution_count": 47,
   "metadata": {},
   "outputs": [],
   "source": [
    "priced_factors=pd.DataFrame()\n",
    "for s in sector_portfolio_sorts.keys():\n",
    "    priced_factors[s]=sector_portfolio_sorts[s]['1']-sector_portfolio_sorts[s]['0']\n",
    "portfolios=pd.DataFrame()\n",
    "for s in sector_portfolio_sorts.keys():\n",
    "    portfolios[s+' Low']=sector_portfolio_sorts[s]['0']\n",
    "    portfolios[s+' High']=sector_portfolio_sorts[s]['1']"
   ]
  },
  {
   "cell_type": "code",
   "execution_count": 48,
   "metadata": {},
   "outputs": [],
   "source": [
    "total_common_factor=pd.DataFrame()\n",
    "for s in sector_PC.keys():\n",
    "    total_common_factor[s]=sector_PC[s].sum(axis=1)"
   ]
  },
  {
   "cell_type": "code",
   "execution_count": null,
   "metadata": {},
   "outputs": [],
   "source": []
  },
  {
   "cell_type": "code",
   "execution_count": 49,
   "metadata": {},
   "outputs": [
    {
     "data": {
      "text/html": [
       "<div>\n",
       "<style>\n",
       "    .dataframe thead tr:only-child th {\n",
       "        text-align: right;\n",
       "    }\n",
       "\n",
       "    .dataframe thead th {\n",
       "        text-align: left;\n",
       "    }\n",
       "\n",
       "    .dataframe tbody tr th {\n",
       "        vertical-align: top;\n",
       "    }\n",
       "</style>\n",
       "<table border=\"1\" class=\"dataframe\">\n",
       "  <thead>\n",
       "    <tr style=\"text-align: right;\">\n",
       "      <th></th>\n",
       "      <th>VAL</th>\n",
       "      <th>MOM</th>\n",
       "      <th>Total Common Factor</th>\n",
       "      <th>Sector Market Portfolio</th>\n",
       "      <th>Momentum</th>\n",
       "      <th>Value</th>\n",
       "    </tr>\n",
       "    <tr>\n",
       "      <th>DATE</th>\n",
       "      <th></th>\n",
       "      <th></th>\n",
       "      <th></th>\n",
       "      <th></th>\n",
       "      <th></th>\n",
       "      <th></th>\n",
       "    </tr>\n",
       "  </thead>\n",
       "  <tbody>\n",
       "    <tr>\n",
       "      <th>1972-01-31</th>\n",
       "      <td>0.010065</td>\n",
       "      <td>-0.012955</td>\n",
       "      <td>NaN</td>\n",
       "      <td>NaN</td>\n",
       "      <td>-0.012955</td>\n",
       "      <td>0.010065</td>\n",
       "    </tr>\n",
       "    <tr>\n",
       "      <th>1972-02-29</th>\n",
       "      <td>-0.037528</td>\n",
       "      <td>0.038530</td>\n",
       "      <td>NaN</td>\n",
       "      <td>NaN</td>\n",
       "      <td>0.038530</td>\n",
       "      <td>-0.037528</td>\n",
       "    </tr>\n",
       "    <tr>\n",
       "      <th>1972-03-31</th>\n",
       "      <td>0.053548</td>\n",
       "      <td>-0.042824</td>\n",
       "      <td>NaN</td>\n",
       "      <td>NaN</td>\n",
       "      <td>-0.042824</td>\n",
       "      <td>0.053548</td>\n",
       "    </tr>\n",
       "    <tr>\n",
       "      <th>1972-04-30</th>\n",
       "      <td>0.007434</td>\n",
       "      <td>0.010658</td>\n",
       "      <td>NaN</td>\n",
       "      <td>NaN</td>\n",
       "      <td>0.010658</td>\n",
       "      <td>0.007434</td>\n",
       "    </tr>\n",
       "    <tr>\n",
       "      <th>1972-05-31</th>\n",
       "      <td>-0.019909</td>\n",
       "      <td>0.007096</td>\n",
       "      <td>NaN</td>\n",
       "      <td>NaN</td>\n",
       "      <td>0.007096</td>\n",
       "      <td>-0.019909</td>\n",
       "    </tr>\n",
       "  </tbody>\n",
       "</table>\n",
       "</div>"
      ],
      "text/plain": [
       "                 VAL       MOM  Total Common Factor  Sector Market Portfolio  \\\n",
       "DATE                                                                           \n",
       "1972-01-31  0.010065 -0.012955                  NaN                      NaN   \n",
       "1972-02-29 -0.037528  0.038530                  NaN                      NaN   \n",
       "1972-03-31  0.053548 -0.042824                  NaN                      NaN   \n",
       "1972-04-30  0.007434  0.010658                  NaN                      NaN   \n",
       "1972-05-31 -0.019909  0.007096                  NaN                      NaN   \n",
       "\n",
       "            Momentum     Value  \n",
       "DATE                            \n",
       "1972-01-31 -0.012955  0.010065  \n",
       "1972-02-29  0.038530 -0.037528  \n",
       "1972-03-31 -0.042824  0.053548  \n",
       "1972-04-30  0.010658  0.007434  \n",
       "1972-05-31  0.007096 -0.019909  "
      ]
     },
     "execution_count": 49,
     "metadata": {},
     "output_type": "execute_result"
    }
   ],
   "source": [
    "factor.head()"
   ]
  },
  {
   "cell_type": "code",
   "execution_count": null,
   "metadata": {},
   "outputs": [],
   "source": []
  },
  {
   "cell_type": "code",
   "execution_count": 50,
   "metadata": {},
   "outputs": [
    {
     "name": "stdout",
     "output_type": "stream",
     "text": [
      "                      LinearFactorModel Estimation Summary                      \n",
      "================================================================================\n",
      "No. Test Portfolios:                 14   R-squared:                      0.4321\n",
      "No. Factors:                          4   J-statistic:                    46.164\n",
      "No. Observations:                   192   P-value                         0.0000\n",
      "Date:                  Mon, Jul 09 2018   Distribution:                 chi2(10)\n",
      "Time:                          16:41:40                                         \n",
      "Cov. Estimator:                  kernel                                         \n",
      "                                                                                \n",
      "                                   Risk Premia Estimates                                   \n",
      "===========================================================================================\n",
      "                         Parameter  Std. Err.     T-stat    P-value    Lower CI    Upper CI\n",
      "-------------------------------------------------------------------------------------------\n",
      "Total Common Factor         0.0015     0.0053     0.2792     0.7801     -0.0089      0.0119\n",
      "Sector Market Portfolio     0.0051     0.0024     2.0953     0.0361      0.0003      0.0098\n",
      "Momentum                    0.0025     0.0116     0.2163     0.8287     -0.0202      0.0252\n",
      "Value                       0.0022     0.0090     0.2464     0.8054     -0.0155      0.0199\n",
      "\n",
      "\n",
      "                                 Equities Low Coefficients                                 \n",
      "===========================================================================================\n",
      "                         Parameter  Std. Err.     T-stat    P-value    Lower CI    Upper CI\n",
      "-------------------------------------------------------------------------------------------\n",
      "alpha                       0.0004     0.0038     0.1033     0.9178     -0.0070      0.0078\n",
      "Total Common Factor         0.8155     0.5412     1.5068     0.1319     -0.2453      1.8763\n",
      "Sector Market Portfolio     1.0925     0.0939     11.635     0.0000      0.9085      1.2765\n",
      "Momentum                   -0.7428     0.1584    -4.6886     2.0000     -1.0533     -0.4323\n",
      "Value                      -0.1465     0.2501    -0.5855     1.4418     -0.6367      0.3438\n",
      "\n",
      "\n",
      "                                 Equities High Coefficients                                \n",
      "===========================================================================================\n",
      "alpha                      -0.0005     0.0036    -0.1408     1.1119     -0.0076      0.0066\n",
      "Total Common Factor         1.1139     0.5115     2.1777     0.0294      0.1114      2.1164\n",
      "Sector Market Portfolio     0.9693     0.0838     11.564     0.0000      0.8050      1.1336\n",
      "Momentum                   -0.5275     0.1661    -3.1757     1.9985     -0.8530     -0.2019\n",
      "Value                       0.3581     0.2701     1.3257     0.1849     -0.1713      0.8875\n",
      "\n",
      "\n",
      "                               Agriculturals Low Coefficients                              \n",
      "===========================================================================================\n",
      "alpha                      -0.0008     0.0023    -0.3356     1.2628     -0.0052      0.0037\n",
      "Total Common Factor        -0.9187     0.5098    -1.8022     1.9285     -1.9178      0.0804\n",
      "Sector Market Portfolio     1.3845     0.0974     14.208     0.0000      1.1935      1.5755\n",
      "Momentum                    0.3155     0.1292     2.4412     0.0146      0.0622      0.5688\n",
      "Value                       0.1409     0.1848     0.7628     0.4456     -0.2212      0.5031\n",
      "\n",
      "\n",
      "                              Agriculturals High Coefficients                              \n",
      "===========================================================================================\n",
      "alpha                       0.0038     0.0024     1.5599     0.1188     -0.0010      0.0086\n",
      "Total Common Factor        -0.8536     0.2736    -3.1204     1.9982     -1.3898     -0.3175\n",
      "Sector Market Portfolio     1.3326     0.0881     15.133     0.0000      1.1600      1.5052\n",
      "Momentum                    0.2543     0.1134     2.2426     0.0249      0.0321      0.4766\n",
      "Value                       0.2228     0.1985     1.1224     0.2617     -0.1663      0.6119\n",
      "\n",
      "\n",
      "                                Currencies Low Coefficients                                \n",
      "===========================================================================================\n",
      "alpha                      -0.0028     0.0013    -2.1904     1.9715     -0.0053     -0.0003\n",
      "Total Common Factor        -0.3111     0.1640    -1.8973     1.9422     -0.6325      0.0103\n",
      "Sector Market Portfolio     0.4672     0.0690     6.7722     0.0000      0.3320      0.6024\n",
      "Momentum                    0.0676     0.0637     1.0602     0.2891     -0.0574      0.1925\n",
      "Value                       0.1165     0.1065     1.0934     0.2742     -0.0923      0.3252\n",
      "\n",
      "\n",
      "                                Currencies High Coefficients                               \n",
      "===========================================================================================\n",
      "alpha                      -0.0017     0.0019    -0.9006     1.6322     -0.0053      0.0020\n",
      "Total Common Factor        -0.2765     0.1931    -1.4319     1.8478     -0.6550      0.1020\n",
      "Sector Market Portfolio     0.4938     0.0808     6.1096     0.0000      0.3354      0.6522\n",
      "Momentum                   -0.0246     0.1063    -0.2314     1.1830     -0.2330      0.1838\n",
      "Value                       0.1158     0.1370     0.8455     0.3978     -0.1527      0.3843\n",
      "\n",
      "\n",
      "                               Fixed Income Low Coefficients                               \n",
      "===========================================================================================\n",
      "alpha                       0.0007     0.0013     0.5332     0.5939     -0.0018      0.0031\n",
      "Total Common Factor        -0.2213     0.1294    -1.7109     1.9129     -0.4748      0.0322\n",
      "Sector Market Portfolio     0.0415     0.0322     1.2886     0.1975     -0.0216      0.1047\n",
      "Momentum                    0.0474     0.0318     1.4922     0.1357     -0.0149      0.1097\n",
      "Value                      -0.0716     0.0466    -1.5357     1.8754     -0.1631      0.0198\n",
      "\n",
      "\n",
      "                               Fixed Income High Coefficients                              \n",
      "===========================================================================================\n",
      "alpha                       0.0018     0.0013     1.4440     0.1487     -0.0007      0.0043\n",
      "Total Common Factor        -0.1095     0.1080    -1.0145     1.6897     -0.3212      0.1021\n",
      "Sector Market Portfolio    -0.0895     0.0210    -4.2726     2.0000     -0.1306     -0.0485\n",
      "Momentum                    0.0181     0.0322     0.5640     0.5728     -0.0449      0.0812\n",
      "Value                      -0.0909     0.0549    -1.6557     1.9022     -0.1986      0.0167\n",
      "\n",
      "\n",
      "                                  Metals Low Coefficients                                  \n",
      "===========================================================================================\n",
      "alpha                       0.0003     0.0027     0.1194     0.9049     -0.0049      0.0055\n",
      "Total Common Factor        -0.7833     0.4568    -1.7145     1.9136     -1.6787      0.1122\n",
      "Sector Market Portfolio     1.4851     0.0881     16.849     0.0000      1.3124      1.6579\n",
      "Momentum                    0.2255     0.1060     2.1264     0.0335      0.0176      0.4333\n",
      "Value                      -0.1794     0.2274    -0.7889     1.5698     -0.6252      0.2663\n",
      "\n",
      "\n",
      "                                  Metals High Coefficients                                 \n",
      "===========================================================================================\n",
      "alpha                      -0.0026     0.0043    -0.5978     1.4500     -0.0111      0.0059\n",
      "Total Common Factor        -0.4041     0.6359    -0.6355     1.4749     -1.6505      0.8422\n",
      "Sector Market Portfolio     1.7500     0.1640     10.672     0.0000      1.4286      2.0714\n",
      "Momentum                    0.2303     0.1362     1.6909     0.0909     -0.0367      0.4973\n",
      "Value                      -0.4295     0.2655    -1.6174     1.8942     -0.9499      0.0909\n",
      "\n",
      "\n",
      "                                 Energies Low Coefficients                                 \n",
      "===========================================================================================\n",
      "alpha                      -0.0025     0.0026    -0.9806     1.6732     -0.0076      0.0025\n",
      "Total Common Factor         0.8358     1.0712     0.7803     0.4352     -1.2637      2.9354\n",
      "Sector Market Portfolio     1.6832     0.1914     8.7944     0.0000      1.3081      2.0584\n",
      "Momentum                    0.3481     0.3697     0.9414     0.3465     -0.3766      1.0727\n",
      "Value                      -0.6036     0.6297    -0.9585     1.6622     -1.8378      0.6307\n",
      "\n",
      "\n",
      "                                 Energies High Coefficients                                \n",
      "===========================================================================================\n",
      "alpha                       0.0039     0.0040     0.9775     0.3283     -0.0039      0.0117\n",
      "Total Common Factor         0.7866     1.2759     0.6165     0.5376     -1.7142      3.2874\n",
      "Sector Market Portfolio     1.4594     0.1714     8.5158     0.0000      1.1235      1.7953\n",
      "Momentum                    0.2022     0.2821     0.7166     0.4736     -0.3508      0.7552\n",
      "Value                      -0.6394     0.4972    -1.2861     1.8016     -1.6139      0.3351\n",
      "\n",
      "\n",
      "                                    All Low Coefficients                                   \n",
      "===========================================================================================\n",
      "alpha                      -0.0002     0.0019    -0.0960     1.0765     -0.0039      0.0035\n",
      "Total Common Factor        -0.2519     0.1268    -1.9866     1.9530     -0.5004     -0.0034\n",
      "Sector Market Portfolio     1.0218     0.0265     38.577     0.0000      0.9699      1.0737\n",
      "Momentum                   -0.0037     0.0426    -0.0862     1.0687     -0.0873      0.0799\n",
      "Value                      -0.1169     0.0592    -1.9747     1.9517     -0.2328     -0.0009\n",
      "\n",
      "\n",
      "                                   All High Coefficients                                   \n",
      "===========================================================================================\n",
      "alpha                       0.0012     0.0017     0.6700     0.5028     -0.0022      0.0046\n",
      "Total Common Factor         0.0329     0.1316     0.2499     0.8026     -0.2250      0.2908\n",
      "Sector Market Portfolio     0.9949     0.0505     19.703     0.0000      0.8959      1.0939\n",
      "Momentum                   -0.0028     0.0493    -0.0571     1.0455     -0.0995      0.0938\n",
      "Value                       0.0930     0.0719     1.2932     0.1959     -0.0480      0.2340\n",
      "===========================================================================================\n",
      "\n",
      "Covariance estimator:\n",
      "KernelCovariance, Kernel: bartlett, Bandwidth: 6\n",
      "See full_summary for complete results\n"
     ]
    },
    {
     "name": "stderr",
     "output_type": "stream",
     "text": [
      "/Users/mrefermat/anaconda3/lib/python3.6/site-packages/linearmodels/utility.py:490: MissingValueWarning: \n",
      "Inputs contain missing values. Dropping rows with missing observations.\n",
      "  warnings.warn(missing_value_warning_msg, MissingValueWarning)\n"
     ]
    }
   ],
   "source": [
    "sec='All'\n",
    "ind=total_common_factor[sec]['2000':'2016'].index\n",
    "factor=pd.DataFrame()\n",
    "factor=get_aqr_factors(sec).dropna()\n",
    "factor['Total Common Factor']=total_common_factor[sec]/1000.\n",
    "factor['Sector Market Portfolio']=sector_rtns[sec].mean(axis=1)\n",
    "factor['Momentum']=get_aqr_factors('All')['MOM']\n",
    "factor['Value']=get_aqr_factors('All')['VAL']\n",
    "mod=LinearFactorModel(portfolios.loc[ind],\n",
    "                      factor.loc[ind][['Total Common Factor','Sector Market Portfolio','Momentum','Value']])\n",
    "res=mod.fit(cov_type='kernel')\n",
    "print(res.full_summary)"
   ]
  },
  {
   "cell_type": "code",
   "execution_count": 51,
   "metadata": {},
   "outputs": [],
   "source": [
    "results=pd.DataFrame()\n",
    "results['Liquidity Factor']=res.risk_premia*100\n",
    "results['Tstats']=res.risk_premia_tstats\n",
    "print(results.round(2).to_latex())"
   ]
  },
  {
   "cell_type": "code",
   "execution_count": 52,
   "metadata": {},
   "outputs": [
    {
     "name": "stdout",
     "output_type": "stream",
     "text": [
      "\\begin{tabular}{lrr}\n",
      "\\toprule\n",
      "{} &  Liquidity Factor &  Tstats \\\\\n",
      "\\midrule\n",
      "Total Common Factor     &              0.15 &    0.28 \\\\\n",
      "Sector Market Portfolio &              0.51 &    2.10 \\\\\n",
      "Momentum                &              0.25 &    0.22 \\\\\n",
      "Value                   &              0.22 &    0.25 \\\\\n",
      "\\bottomrule\n",
      "\\end{tabular}\n",
      "\n"
     ]
    }
   ],
   "source": [
    "print(results.round(2).to_latex())"
   ]
  },
  {
   "cell_type": "code",
   "execution_count": 55,
   "metadata": {},
   "outputs": [],
   "source": [
    "a=res.params\n",
    "b=res.tstats"
   ]
  },
  {
   "cell_type": "code",
   "execution_count": null,
   "metadata": {},
   "outputs": [],
   "source": []
  },
  {
   "cell_type": "code",
   "execution_count": 59,
   "metadata": {},
   "outputs": [
    {
     "name": "stdout",
     "output_type": "stream",
     "text": [
      "\\begin{tabular}{lrrrrr}\n",
      "\\toprule\n",
      "{} &  alpha &  Total Common Factor &  Sector Market Portfolio &  Momentum &  Value \\\\\n",
      "\\midrule\n",
      "Equities Low       &   0.10 &                 1.51 &                    11.63 &     -4.69 &  -0.59 \\\\\n",
      "Equities High      &  -0.14 &                 2.18 &                    11.56 &     -3.18 &   1.33 \\\\\n",
      "Agriculturals Low  &  -0.34 &                -1.80 &                    14.21 &      2.44 &   0.76 \\\\\n",
      "Agriculturals High &   1.56 &                -3.12 &                    15.13 &      2.24 &   1.12 \\\\\n",
      "Currencies Low     &  -2.19 &                -1.90 &                     6.77 &      1.06 &   1.09 \\\\\n",
      "Currencies High    &  -0.90 &                -1.43 &                     6.11 &     -0.23 &   0.85 \\\\\n",
      "Fixed Income Low   &   0.53 &                -1.71 &                     1.29 &      1.49 &  -1.54 \\\\\n",
      "Fixed Income High  &   1.44 &                -1.01 &                    -4.27 &      0.56 &  -1.66 \\\\\n",
      "Metals Low         &   0.12 &                -1.71 &                    16.85 &      2.13 &  -0.79 \\\\\n",
      "Metals High        &  -0.60 &                -0.64 &                    10.67 &      1.69 &  -1.62 \\\\\n",
      "Energies Low       &  -0.98 &                 0.78 &                     8.79 &      0.94 &  -0.96 \\\\\n",
      "Energies High      &   0.98 &                 0.62 &                     8.52 &      0.72 &  -1.29 \\\\\n",
      "All Low            &  -0.10 &                -1.99 &                    38.58 &     -0.09 &  -1.97 \\\\\n",
      "All High           &   0.67 &                 0.25 &                    19.70 &     -0.06 &   1.29 \\\\\n",
      "\\bottomrule\n",
      "\\end{tabular}\n",
      "\n"
     ]
    }
   ],
   "source": [
    "print(b.round(2).to_latex())"
   ]
  },
  {
   "cell_type": "code",
   "execution_count": null,
   "metadata": {},
   "outputs": [],
   "source": []
  },
  {
   "cell_type": "code",
   "execution_count": null,
   "metadata": {},
   "outputs": [],
   "source": []
  },
  {
   "cell_type": "code",
   "execution_count": null,
   "metadata": {},
   "outputs": [],
   "source": []
  },
  {
   "cell_type": "code",
   "execution_count": null,
   "metadata": {},
   "outputs": [],
   "source": []
  },
  {
   "cell_type": "markdown",
   "metadata": {},
   "source": [
    "# FHT"
   ]
  },
  {
   "cell_type": "code",
   "execution_count": 60,
   "metadata": {},
   "outputs": [
    {
     "name": "stderr",
     "output_type": "stream",
     "text": [
      "/Users/mrefermat/git/FinancePhD/LiquidityMomentum/tsmom_model.py:285: FutureWarning: how in .resample() is deprecated\n",
      "the new syntax is .resample(...).count()\n",
      "  nonzero=x[x==0].resample(rule='m',how='count')\n",
      "/Users/mrefermat/git/FinancePhD/LiquidityMomentum/tsmom_model.py:286: FutureWarning: how in .resample() is deprecated\n",
      "the new syntax is .resample(...).count()\n",
      "  Z=(nonzero/x.resample(rule='m',how='count')).dropna()\n",
      "/Users/mrefermat/git/FinancePhD/LiquidityMomentum/tsmom_model.py:287: FutureWarning: pd.rolling_std is deprecated for Series and will be removed in a future version, replace with \n",
      "\tSeries.rolling(window=12,center=False).std()\n",
      "  data[c]=pd.Series(norm.cdf((1+Z)/2.),index=Z.index)*2*pd.rolling_std(x,12).resample(rule='m',how='last')\n",
      "/Users/mrefermat/git/FinancePhD/LiquidityMomentum/tsmom_model.py:287: FutureWarning: how in .resample() is deprecated\n",
      "the new syntax is .resample(...).last()\n",
      "  data[c]=pd.Series(norm.cdf((1+Z)/2.),index=Z.index)*2*pd.rolling_std(x,12).resample(rule='m',how='last')\n"
     ]
    }
   ],
   "source": [
    "FHT=calculate_FHT(cleansed)"
   ]
  },
  {
   "cell_type": "code",
   "execution_count": 61,
   "metadata": {},
   "outputs": [
    {
     "name": "stderr",
     "output_type": "stream",
     "text": [
      "/Users/mrefermat/git/FinancePhD/LiquidityMomentum/tsmom_model.py:275: FutureWarning: pd.rolling_mean is deprecated for DataFrame and will be removed in a future version, replace with \n",
      "\tDataFrame.rolling(window=100000000,min_periods=3,center=False).mean()\n",
      "  return (df-pd.rolling_mean(df,100000000,min_periods=min_per))/pd.rolling_std(df,100000000,min_periods=min_per)\n",
      "/Users/mrefermat/git/FinancePhD/LiquidityMomentum/tsmom_model.py:275: FutureWarning: pd.rolling_std is deprecated for DataFrame and will be removed in a future version, replace with \n",
      "\tDataFrame.rolling(window=100000000,min_periods=3,center=False).std()\n",
      "  return (df-pd.rolling_mean(df,100000000,min_periods=min_per))/pd.rolling_std(df,100000000,min_periods=min_per)\n"
     ]
    }
   ],
   "source": [
    "data=calc_zscore_expanding_window(FHT.dropna(how='all'),3).dropna(how='all')\n",
    "sector_zscores={}\n",
    "d_map=sector_map(amihud)\n",
    "for sect in d_map.keys():\n",
    "    sector_zscores[sect]=data[d_map[sect]].dropna(how='all')\n",
    "sector_PC_FHT={}\n",
    "sector_variance_explained=pd.DataFrame()\n",
    "\n",
    "no_pc=3\n",
    "for sect in d_map.keys():\n",
    "    try: \n",
    "        PPCA=p.PPCA()\n",
    "        PPCA.fit(np.array(sector_zscores[sect]),d=no_pc)\n",
    "        sector_variance_explained[sect] = PPCA.var_exp\n",
    "        pcs=pd.DataFrame()\n",
    "        for i in range(0,no_pc,1):\n",
    "            x=pd.DataFrame(PPCA.C.T[i]*PPCA.data).sum(axis=1)\n",
    "            x.set_axis(labels=sector_zscores[sect].index,axis='index')\n",
    "            pcs[i]=x\n",
    "        sector_PC_FHT[sect] = pcs\n",
    "    except:\n",
    "        print(sect)"
   ]
  },
  {
   "cell_type": "code",
   "execution_count": 62,
   "metadata": {},
   "outputs": [],
   "source": [
    "PPCA=p.PPCA()\n",
    "PPCA.fit(np.array(data),d=no_pc)\n",
    "sector_variance_explained[sect] = PPCA.var_exp\n",
    "pcs=pd.DataFrame()\n",
    "for i in range(0,no_pc,1):\n",
    "    x=pd.DataFrame(PPCA.C.T[i]*PPCA.data).sum(axis=1)\n",
    "    x.set_axis(labels=sector_zscores[sect].index,axis=0)\n",
    "    pcs[i]=x\n",
    "sector_PC['All'] = pcs"
   ]
  },
  {
   "cell_type": "code",
   "execution_count": null,
   "metadata": {},
   "outputs": [],
   "source": []
  },
  {
   "cell_type": "code",
   "execution_count": null,
   "metadata": {},
   "outputs": [],
   "source": []
  },
  {
   "cell_type": "code",
   "execution_count": 63,
   "metadata": {},
   "outputs": [
    {
     "name": "stderr",
     "output_type": "stream",
     "text": [
      "/Users/mrefermat/git/FinancePhD/LiquidityMomentum/tsmom_model.py:240: FutureWarning: how in .resample() is deprecated\n",
      "the new syntax is .resample(...).median()\n",
      "  mkts=quantile_columns(rank_data.resample(rule='a',how='median'),year,number_of_buckets,i)\n",
      "/Users/mrefermat/git/FinancePhD/LiquidityMomentum/tsmom_model.py:241: FutureWarning: how in .resample() is deprecated\n",
      "the new syntax is .resample(...).last()\n",
      "  rtns = price_data.resample(rule='m',how='last')[mkts].pct_change()[str(y+1)].mean(axis=1)\n"
     ]
    }
   ],
   "source": [
    "sector_portfolio_sorts={}\n",
    "for s in sector_zscores.keys():\n",
    "    sector_portfolio_sorts[s]=quantile_portfolios_annual(sector_zscores[s],cleansed,2)\n",
    "sector_portfolio_sorts['All']=quantile_portfolios_annual(data,cleansed,2)"
   ]
  },
  {
   "cell_type": "code",
   "execution_count": 64,
   "metadata": {},
   "outputs": [],
   "source": [
    "priced_factors=pd.DataFrame()\n",
    "for s in sector_portfolio_sorts.keys():\n",
    "    priced_factors[s]=sector_portfolio_sorts[s]['1']-sector_portfolio_sorts[s]['0']\n",
    "portfolios=pd.DataFrame()\n",
    "for s in sector_portfolio_sorts.keys():\n",
    "    portfolios[s+' Low']=sector_portfolio_sorts[s]['0']\n",
    "    portfolios[s+' High']=sector_portfolio_sorts[s]['1']"
   ]
  },
  {
   "cell_type": "code",
   "execution_count": null,
   "metadata": {},
   "outputs": [],
   "source": []
  },
  {
   "cell_type": "code",
   "execution_count": 65,
   "metadata": {},
   "outputs": [],
   "source": [
    "total_common_factor=pd.DataFrame()\n",
    "for s in sector_PC.keys():\n",
    "    total_common_factor[s]=sector_PC[s].sum(axis=1)"
   ]
  },
  {
   "cell_type": "code",
   "execution_count": 66,
   "metadata": {},
   "outputs": [
    {
     "name": "stdout",
     "output_type": "stream",
     "text": [
      "                      LinearFactorModel Estimation Summary                      \n",
      "================================================================================\n",
      "No. Test Portfolios:                 14   R-squared:                      0.4209\n",
      "No. Factors:                          4   J-statistic:                    36.502\n",
      "No. Observations:                   204   P-value                         0.0001\n",
      "Date:                  Mon, Jul 09 2018   Distribution:                 chi2(10)\n",
      "Time:                          16:51:18                                         \n",
      "Cov. Estimator:                  kernel                                         \n",
      "                                                                                \n",
      "                                   Risk Premia Estimates                                   \n",
      "===========================================================================================\n",
      "                         Parameter  Std. Err.     T-stat    P-value    Lower CI    Upper CI\n",
      "-------------------------------------------------------------------------------------------\n",
      "Total Common Factor         0.0010     0.0021     0.4662     0.6411     -0.0032      0.0052\n",
      "Sector Market Portfolio     0.0050     0.0023     2.1572     0.0310      0.0005      0.0095\n",
      "Momentum                    0.0048     0.0068     0.7094     0.4781     -0.0085      0.0181\n",
      "Value                      -0.0038     0.0047    -0.8131     0.4162     -0.0130      0.0054\n",
      "\n",
      "\n",
      "                                 Equities Low Coefficients                                 \n",
      "===========================================================================================\n",
      "                         Parameter  Std. Err.     T-stat    P-value    Lower CI    Upper CI\n",
      "-------------------------------------------------------------------------------------------\n",
      "alpha                      -0.0008     0.0013    -0.6414     1.4787     -0.0033      0.0017\n",
      "Total Common Factor         0.9209     0.3563     2.5844     0.0098      0.2225      1.6192\n",
      "Sector Market Portfolio     1.0663     0.1003     10.633     0.0000      0.8698      1.2629\n",
      "Momentum                   -0.5372     0.1654    -3.2474     1.9988     -0.8615     -0.2130\n",
      "Value                      -0.3149     0.2201    -1.4304     1.8474     -0.7464      0.1166\n",
      "\n",
      "\n",
      "                                 Equities High Coefficients                                \n",
      "===========================================================================================\n",
      "alpha                       0.0006     0.0011     0.5094     0.6104     -0.0017      0.0028\n",
      "Total Common Factor         0.7362     0.3327     2.2129     0.0269      0.0841      1.3883\n",
      "Sector Market Portfolio     0.8574     0.1115     7.6884     0.0000      0.6388      1.0759\n",
      "Momentum                   -0.8301     0.1969    -4.2154     2.0000     -1.2161     -0.4442\n",
      "Value                      -0.5901     0.2570    -2.2962     1.9783     -1.0937     -0.0864\n",
      "\n",
      "\n",
      "                               Agriculturals Low Coefficients                              \n",
      "===========================================================================================\n",
      "alpha                       0.0002     0.0018     0.1276     0.8985     -0.0033      0.0038\n",
      "Total Common Factor        -0.2034     0.2555    -0.7960     1.5740     -0.7042      0.2974\n",
      "Sector Market Portfolio     1.3222     0.0832     15.884     0.0000      1.1591      1.4854\n",
      "Momentum                    0.3581     0.1180     3.0337     0.0024      0.1268      0.5895\n",
      "Value                       0.3332     0.1383     2.4085     0.0160      0.0621      0.6044\n",
      "\n",
      "\n",
      "                              Agriculturals High Coefficients                              \n",
      "===========================================================================================\n",
      "alpha                       0.0035     0.0020     1.7915     0.0732     -0.0003      0.0073\n",
      "Total Common Factor        -1.0131     0.3095    -3.2734     1.9989     -1.6197     -0.4065\n",
      "Sector Market Portfolio     1.3888     0.0995     13.964     0.0000      1.1939      1.5837\n",
      "Momentum                    0.2458     0.1238     1.9854     0.0471      0.0031      0.4884\n",
      "Value                       0.4889     0.1502     3.2546     0.0011      0.1945      0.7833\n",
      "\n",
      "\n",
      "                                Currencies Low Coefficients                                \n",
      "===========================================================================================\n",
      "alpha                      -0.0031     0.0013    -2.4227     1.9846     -0.0056     -0.0006\n",
      "Total Common Factor         0.0604     0.2020     0.2990     0.7650     -0.3355      0.4563\n",
      "Sector Market Portfolio     0.3902     0.0755     5.1646     0.0000      0.2421      0.5382\n",
      "Momentum                   -0.0387     0.0786    -0.4921     1.3774     -0.1928      0.1154\n",
      "Value                      -0.0670     0.0896    -0.7471     1.5450     -0.2427      0.1087\n",
      "\n",
      "\n",
      "                                Currencies High Coefficients                               \n",
      "===========================================================================================\n",
      "alpha                      -0.0017     0.0014    -1.2809     1.7998     -0.0044      0.0009\n",
      "Total Common Factor        -0.4515     0.2005    -2.2517     1.9757     -0.8444     -0.0585\n",
      "Sector Market Portfolio     0.4944     0.0640     7.7241     0.0000      0.3689      0.6198\n",
      "Momentum                    0.0049     0.0978     0.0500     0.9602     -0.1867      0.1965\n",
      "Value                       0.1026     0.0859     1.1948     0.2322     -0.0657      0.2710\n",
      "\n",
      "\n",
      "                               Fixed Income Low Coefficients                               \n",
      "===========================================================================================\n",
      "alpha                       0.0002     0.0003     0.6770     0.4984     -0.0004      0.0009\n",
      "Total Common Factor        -0.1281     0.0564    -2.2700     1.9768     -0.2387     -0.0175\n",
      "Sector Market Portfolio     0.0072     0.0192     0.3732     0.7090     -0.0304      0.0447\n",
      "Momentum                    0.0180     0.0187     0.9621     0.3360     -0.0187      0.0547\n",
      "Value                       0.0045     0.0207     0.2193     0.8264     -0.0360      0.0451\n",
      "\n",
      "\n",
      "                               Fixed Income High Coefficients                              \n",
      "===========================================================================================\n",
      "alpha                       0.0014     0.0007     1.8903     0.0587  -5.185e-05      0.0029\n",
      "Total Common Factor        -0.2151     0.1579    -1.3624     1.8269     -0.5246      0.0943\n",
      "Sector Market Portfolio    -0.0247     0.0332    -0.7439     1.5430     -0.0897      0.0403\n",
      "Momentum                    0.0604     0.0456     1.3250     0.1852     -0.0289      0.1497\n",
      "Value                      -0.0514     0.0566    -0.9074     1.6358     -0.1623      0.0596\n",
      "\n",
      "\n",
      "                                  Metals Low Coefficients                                  \n",
      "===========================================================================================\n",
      "alpha                      -0.0012     0.0030    -0.3967     1.3084     -0.0071      0.0047\n",
      "Total Common Factor        -0.9894     0.5055    -1.9573     1.9497     -1.9802      0.0013\n",
      "Sector Market Portfolio     1.7446     0.1066     16.367     0.0000      1.5357      1.9535\n",
      "Momentum                    0.4482     0.1361     3.2928     0.0010      0.1814      0.7151\n",
      "Value                      -0.0752     0.2956    -0.2542     1.2007     -0.6546      0.5043\n",
      "\n",
      "\n",
      "                                  Metals High Coefficients                                 \n",
      "===========================================================================================\n",
      "alpha                      -0.0028     0.0019    -1.5115     1.8693     -0.0065      0.0008\n",
      "Total Common Factor        -1.4578     0.4234    -3.4430     1.9994     -2.2877     -0.6279\n",
      "Sector Market Portfolio     1.6544     0.1217     13.594     0.0000      1.4158      1.8929\n",
      "Momentum                    0.0394     0.1493     0.2637     0.7920     -0.2533      0.3320\n",
      "Value                      -0.3238     0.2246    -1.4414     1.8505     -0.7641      0.1165\n",
      "\n",
      "\n",
      "                                 Energies Low Coefficients                                 \n",
      "===========================================================================================\n",
      "alpha                      -0.0021     0.0024    -0.8752     1.6185     -0.0067      0.0026\n",
      "Total Common Factor         0.2066     1.0363     0.1994     0.8420     -1.8245      2.2377\n",
      "Sector Market Portfolio     1.8236     0.1650     11.050     0.0000      1.5002      2.1471\n",
      "Momentum                    0.6068     0.2604     2.3299     0.0198      0.0963      1.1172\n",
      "Value                       0.0674     0.3827     0.1760     0.8603     -0.6827      0.8174\n",
      "\n",
      "\n",
      "                                 Energies High Coefficients                                \n",
      "===========================================================================================\n",
      "alpha                       0.0046     0.0031     1.4864     0.1372     -0.0015      0.0107\n",
      "Total Common Factor        -0.2167     0.7414    -0.2923     1.2300     -1.6699      1.2365\n",
      "Sector Market Portfolio     1.5431     0.1887     8.1782     0.0000      1.1733      1.9130\n",
      "Momentum                    0.1895     0.2898     0.6540     0.5131     -0.3784      0.7574\n",
      "Value                      -0.5319     0.3276    -1.6234     1.8955     -1.1740      0.1103\n",
      "\n",
      "\n",
      "                                    All Low Coefficients                                   \n",
      "===========================================================================================\n",
      "alpha                   -1.051e-05     0.0009    -0.0123     1.0098     -0.0017      0.0017\n",
      "Total Common Factor         0.0315     0.0705     0.4473     0.6546     -0.1066      0.1697\n",
      "Sector Market Portfolio     0.9325     0.0281     33.155     0.0000      0.8774      0.9876\n",
      "Momentum                    0.1167     0.0351     3.3251     0.0009      0.0479      0.1855\n",
      "Value                       0.1100     0.0525     2.0944     0.0362      0.0071      0.2130\n",
      "\n",
      "\n",
      "                                   All High Coefficients                                   \n",
      "===========================================================================================\n",
      "alpha                       0.0007     0.0007     1.0023     0.3162     -0.0007      0.0021\n",
      "Total Common Factor        -0.3221     0.0810    -3.9771     1.9999     -0.4808     -0.1634\n",
      "Sector Market Portfolio     1.0522     0.0397     26.525     0.0000      0.9745      1.1300\n",
      "Momentum                   -0.0986     0.0393    -2.5091     1.9879     -0.1756     -0.0216\n",
      "Value                      -0.1179     0.0493    -2.3924     1.9833     -0.2145     -0.0213\n",
      "===========================================================================================\n",
      "\n",
      "Covariance estimator:\n",
      "KernelCovariance, Kernel: bartlett, Bandwidth: 6\n",
      "See full_summary for complete results\n"
     ]
    }
   ],
   "source": [
    "sec='All'\n",
    "ind=total_common_factor[sec]['2000':'2016'].index\n",
    "factor=pd.DataFrame()\n",
    "factor=get_aqr_factors(sec).dropna()\n",
    "factor['Total Common Factor']=total_common_factor[sec]/1000.\n",
    "factor['Sector Market Portfolio']=sector_rtns[sec].mean(axis=1)\n",
    "\n",
    "factor['Momentum']=get_aqr_factors('All')['MOM']\n",
    "factor['Value']=get_aqr_factors('All')['VAL']\n",
    "mod=LinearFactorModel(portfolios.loc[ind],\n",
    "                      factor.loc[ind][['Total Common Factor','Sector Market Portfolio','Momentum','Value']])\n",
    "#mod=LinearFactorModel(portfolios.loc[ind],\n",
    " #                     factor.loc[ind][['Total Common Factor','Sector Market Portfolio']])\n",
    "res=mod.fit(cov_type='kernel')\n",
    "print(res.full_summary)"
   ]
  },
  {
   "cell_type": "code",
   "execution_count": 67,
   "metadata": {},
   "outputs": [],
   "source": [
    "results['FHT Annual']=res.risk_premia*100\n",
    "results['Tstats2']=res.risk_premia_tstats"
   ]
  },
  {
   "cell_type": "code",
   "execution_count": 68,
   "metadata": {},
   "outputs": [
    {
     "data": {
      "text/html": [
       "<div>\n",
       "<style>\n",
       "    .dataframe thead tr:only-child th {\n",
       "        text-align: right;\n",
       "    }\n",
       "\n",
       "    .dataframe thead th {\n",
       "        text-align: left;\n",
       "    }\n",
       "\n",
       "    .dataframe tbody tr th {\n",
       "        vertical-align: top;\n",
       "    }\n",
       "</style>\n",
       "<table border=\"1\" class=\"dataframe\">\n",
       "  <thead>\n",
       "    <tr style=\"text-align: right;\">\n",
       "      <th></th>\n",
       "      <th>Liquidity Factor</th>\n",
       "      <th>Tstats</th>\n",
       "      <th>FHT Annual</th>\n",
       "      <th>Tstats2</th>\n",
       "    </tr>\n",
       "  </thead>\n",
       "  <tbody>\n",
       "    <tr>\n",
       "      <th>Total Common Factor</th>\n",
       "      <td>0.15</td>\n",
       "      <td>0.28</td>\n",
       "      <td>0.10</td>\n",
       "      <td>0.47</td>\n",
       "    </tr>\n",
       "    <tr>\n",
       "      <th>Sector Market Portfolio</th>\n",
       "      <td>0.51</td>\n",
       "      <td>2.10</td>\n",
       "      <td>0.50</td>\n",
       "      <td>2.16</td>\n",
       "    </tr>\n",
       "    <tr>\n",
       "      <th>Momentum</th>\n",
       "      <td>0.25</td>\n",
       "      <td>0.22</td>\n",
       "      <td>0.48</td>\n",
       "      <td>0.71</td>\n",
       "    </tr>\n",
       "    <tr>\n",
       "      <th>Value</th>\n",
       "      <td>0.22</td>\n",
       "      <td>0.25</td>\n",
       "      <td>-0.38</td>\n",
       "      <td>-0.81</td>\n",
       "    </tr>\n",
       "  </tbody>\n",
       "</table>\n",
       "</div>"
      ],
      "text/plain": [
       "                         Liquidity Factor  Tstats  FHT Annual  Tstats2\n",
       "Total Common Factor                  0.15    0.28        0.10     0.47\n",
       "Sector Market Portfolio              0.51    2.10        0.50     2.16\n",
       "Momentum                             0.25    0.22        0.48     0.71\n",
       "Value                                0.22    0.25       -0.38    -0.81"
      ]
     },
     "execution_count": 68,
     "metadata": {},
     "output_type": "execute_result"
    }
   ],
   "source": [
    "results.round(2)"
   ]
  },
  {
   "cell_type": "code",
   "execution_count": 69,
   "metadata": {},
   "outputs": [
    {
     "name": "stdout",
     "output_type": "stream",
     "text": [
      "\\begin{tabular}{lrrrrr}\n",
      "\\toprule\n",
      "{} &  alpha &  Total Common Factor &  Sector Market Portfolio &  Momentum &  Value \\\\\n",
      "\\midrule\n",
      "Equities Low       &  -0.64 &                 2.58 &                    10.63 &     -3.25 &  -1.43 \\\\\n",
      "Equities High      &   0.51 &                 2.21 &                     7.69 &     -4.22 &  -2.30 \\\\\n",
      "Agriculturals Low  &   0.13 &                -0.80 &                    15.88 &      3.03 &   2.41 \\\\\n",
      "Agriculturals High &   1.79 &                -3.27 &                    13.96 &      1.99 &   3.25 \\\\\n",
      "Currencies Low     &  -2.42 &                 0.30 &                     5.16 &     -0.49 &  -0.75 \\\\\n",
      "Currencies High    &  -1.28 &                -2.25 &                     7.72 &      0.05 &   1.19 \\\\\n",
      "Fixed Income Low   &   0.68 &                -2.27 &                     0.37 &      0.96 &   0.22 \\\\\n",
      "Fixed Income High  &   1.89 &                -1.36 &                    -0.74 &      1.32 &  -0.91 \\\\\n",
      "Metals Low         &  -0.40 &                -1.96 &                    16.37 &      3.29 &  -0.25 \\\\\n",
      "Metals High        &  -1.51 &                -3.44 &                    13.59 &      0.26 &  -1.44 \\\\\n",
      "Energies Low       &  -0.88 &                 0.20 &                    11.05 &      2.33 &   0.18 \\\\\n",
      "Energies High      &   1.49 &                -0.29 &                     8.18 &      0.65 &  -1.62 \\\\\n",
      "All Low            &  -0.01 &                 0.45 &                    33.16 &      3.33 &   2.09 \\\\\n",
      "All High           &   1.00 &                -3.98 &                    26.52 &     -2.51 &  -2.39 \\\\\n",
      "\\bottomrule\n",
      "\\end{tabular}\n",
      "\n"
     ]
    }
   ],
   "source": [
    "print(res.tstats.round(2).to_latex())"
   ]
  },
  {
   "cell_type": "code",
   "execution_count": 70,
   "metadata": {},
   "outputs": [
    {
     "name": "stdout",
     "output_type": "stream",
     "text": [
      "\\begin{tabular}{lrrrrr}\n",
      "\\toprule\n",
      "{} &  alpha &  Total Common Factor &  Sector Market Portfolio &  Momentum &  Value \\\\\n",
      "\\midrule\n",
      "Equities Low       &   -0.0 &                 0.92 &                     1.07 &     -0.54 &  -0.31 \\\\\n",
      "Equities High      &    0.0 &                 0.74 &                     0.86 &     -0.83 &  -0.59 \\\\\n",
      "Agriculturals Low  &    0.0 &                -0.20 &                     1.32 &      0.36 &   0.33 \\\\\n",
      "Agriculturals High &    0.0 &                -1.01 &                     1.39 &      0.25 &   0.49 \\\\\n",
      "Currencies Low     &   -0.0 &                 0.06 &                     0.39 &     -0.04 &  -0.07 \\\\\n",
      "Currencies High    &   -0.0 &                -0.45 &                     0.49 &      0.00 &   0.10 \\\\\n",
      "Fixed Income Low   &    0.0 &                -0.13 &                     0.01 &      0.02 &   0.00 \\\\\n",
      "Fixed Income High  &    0.0 &                -0.22 &                    -0.02 &      0.06 &  -0.05 \\\\\n",
      "Metals Low         &   -0.0 &                -0.99 &                     1.74 &      0.45 &  -0.08 \\\\\n",
      "Metals High        &   -0.0 &                -1.46 &                     1.65 &      0.04 &  -0.32 \\\\\n",
      "Energies Low       &   -0.0 &                 0.21 &                     1.82 &      0.61 &   0.07 \\\\\n",
      "Energies High      &    0.0 &                -0.22 &                     1.54 &      0.19 &  -0.53 \\\\\n",
      "All Low            &   -0.0 &                 0.03 &                     0.93 &      0.12 &   0.11 \\\\\n",
      "All High           &    0.0 &                -0.32 &                     1.05 &     -0.10 &  -0.12 \\\\\n",
      "\\bottomrule\n",
      "\\end{tabular}\n",
      "\n"
     ]
    }
   ],
   "source": [
    "print(res.params.round(2).to_latex())"
   ]
  },
  {
   "cell_type": "code",
   "execution_count": 72,
   "metadata": {},
   "outputs": [
    {
     "name": "stdout",
     "output_type": "stream",
     "text": [
      "\\begin{tabular}{lrr}\n",
      "\\toprule\n",
      "{} &  Liquidity Factor &  Tstats \\\\\n",
      "\\midrule\n",
      "Total Common Factor     &              0.10 &    0.47 \\\\\n",
      "Sector Market Portfolio &              0.50 &    2.16 \\\\\n",
      "Momentum                &              0.48 &    0.71 \\\\\n",
      "Value                   &             -0.38 &   -0.81 \\\\\n",
      "\\bottomrule\n",
      "\\end{tabular}\n",
      "\n"
     ]
    }
   ],
   "source": [
    "\n",
    "results=pd.DataFrame()\n",
    "results['Liquidity Factor']=res.risk_premia*100\n",
    "results['Tstats']=res.risk_premia_tstats\n",
    "print(results.round(2).to_latex())"
   ]
  },
  {
   "cell_type": "code",
   "execution_count": 22,
   "metadata": {},
   "outputs": [
    {
     "name": "stderr",
     "output_type": "stream",
     "text": [
      "/Users/mrefermat/anaconda3/lib/python3.6/site-packages/linearmodels/utility.py:490: MissingValueWarning: \n",
      "Inputs contain missing values. Dropping rows with missing observations.\n",
      "  warnings.warn(missing_value_warning_msg, MissingValueWarning)\n"
     ]
    }
   ],
   "source": [
    "from linearmodels.asset_pricing import LinearFactorModelGMM\n",
    "mod=LinearFactorModelGMM(sector_rtns[sec].loc[ind],sector_PC[sec][0])"
   ]
  },
  {
   "cell_type": "code",
   "execution_count": 23,
   "metadata": {},
   "outputs": [
    {
     "name": "stdout",
     "output_type": "stream",
     "text": [
      "                    LinearFactorModelGMM Estimation Summary                     \n",
      "================================================================================\n",
      "No. Test Portfolios:                 28   R-squared:                  -1.378e+07\n",
      "No. Factors:                          1   J-statistic:                 -1.66e+20\n",
      "No. Observations:                    53   P-value                         1.0000\n",
      "Date:                  Thu, May 31 2018   Distribution:                 chi2(27)\n",
      "Time:                          06:34:51                                         \n",
      "Cov. Estimator:                  kernel                                         \n",
      "                                                                                \n",
      "                            Risk Premia Estimates                             \n",
      "==============================================================================\n",
      "            Parameter  Std. Err.     T-stat    P-value    Lower CI    Upper CI\n",
      "------------------------------------------------------------------------------\n",
      "factor        -137.01     41.197    -3.3257     0.0009     -217.75     -56.264\n",
      "==============================================================================\n",
      "\n",
      "Covariance estimator:\n",
      "KernelCovariance, Kernel: bartlett, Bandwidth: 8\n",
      "See full_summary for complete results\n"
     ]
    }
   ],
   "source": [
    "res = mod.fit(cov_type='kernel', kernel='bartlett', disp=0)\n",
    "print(res)"
   ]
  },
  {
   "cell_type": "code",
   "execution_count": 24,
   "metadata": {},
   "outputs": [
    {
     "name": "stdout",
     "output_type": "stream",
     "text": [
      "Iteration: 0, Objective: -2.0468072446818114e+27\n",
      "Warning: Desired error not necessarily achieved due to precision loss.\n",
      "         Current function value: -2046807244681811382006448128.000000\n",
      "         Iterations: 1\n",
      "         Function evaluations: 1739\n",
      "         Gradient evaluations: 54\n",
      "Iteration: 0, Objective: 25452034914419.758\n",
      "Optimization terminated successfully.\n",
      "         Current function value: -7955459326391378813980732607433088188757944827904.000000\n",
      "         Iterations: 2\n",
      "         Function evaluations: 416\n",
      "         Gradient evaluations: 13\n",
      "Iteration: 0, Objective: 6.812958485828795e+34\n",
      "Warning: Desired error not necessarily achieved due to precision loss.\n",
      "         Current function value: -3982923168325853428992010790895616.000000\n",
      "         Iterations: 4\n",
      "         Function evaluations: 3788\n",
      "         Gradient evaluations: 118\n",
      "Iteration: 0, Objective: 5.359043869257105e+34\n",
      "Warning: Desired error not necessarily achieved due to precision loss.\n",
      "         Current function value: 52664213649380644073926352594534400.000000\n",
      "         Iterations: 3\n",
      "         Function evaluations: 3372\n",
      "         Gradient evaluations: 105\n",
      "Iteration: 0, Objective: 4.00995480473324e+34\n",
      "Warning: Desired error not necessarily achieved due to precision loss.\n",
      "         Current function value: 33563137696111281936571594214211584.000000\n",
      "         Iterations: 2\n",
      "         Function evaluations: 3340\n",
      "         Gradient evaluations: 104\n",
      "Iteration: 0, Objective: 6.609171845547973e+34\n",
      "Warning: Desired error not necessarily achieved due to precision loss.\n",
      "         Current function value: 66091718455479729142889405212524544.000000\n",
      "         Iterations: 1\n",
      "         Function evaluations: 2923\n",
      "         Gradient evaluations: 91\n",
      "Warning: Desired error not necessarily achieved due to precision loss.\n",
      "         Current function value: 64758352875814698644389619740704768.000000\n",
      "         Iterations: 0\n",
      "         Function evaluations: 2892\n",
      "         Gradient evaluations: 90\n",
      "Warning: Desired error not necessarily achieved due to precision loss.\n",
      "         Current function value: 64758352875814698644389619740704768.000000\n",
      "         Iterations: 0\n",
      "         Function evaluations: 2892\n",
      "         Gradient evaluations: 90\n",
      "                    LinearFactorModelGMM Estimation Summary                     \n",
      "================================================================================\n",
      "No. Test Portfolios:                 28   R-squared:                  -2.458e+20\n",
      "No. Factors:                          1   J-statistic:                 6.476e+34\n",
      "No. Observations:                    53   P-value                         0.0000\n",
      "Date:                  Thu, May 31 2018   Distribution:                 chi2(27)\n",
      "Time:                          06:34:59                                         \n",
      "Cov. Estimator:                  robust                                         \n",
      "                                                                                \n",
      "                            Risk Premia Estimates                             \n",
      "==============================================================================\n",
      "            Parameter  Std. Err.     T-stat    P-value    Lower CI    Upper CI\n",
      "------------------------------------------------------------------------------\n",
      "factor     -2.821e+08     0.0495 -5.699e+09     0.0000  -2.821e+08  -2.821e+08\n",
      "==============================================================================\n",
      "\n",
      "Covariance estimator:\n",
      "HeteroskedasticCovariance\n",
      "See full_summary for complete results\n"
     ]
    }
   ],
   "source": [
    "res = mod.fit(steps=10, disp=25)\n",
    "print(res)"
   ]
  },
  {
   "cell_type": "code",
   "execution_count": null,
   "metadata": {},
   "outputs": [],
   "source": []
  },
  {
   "cell_type": "code",
   "execution_count": 25,
   "metadata": {},
   "outputs": [
    {
     "name": "stdout",
     "output_type": "stream",
     "text": [
      "                    LinearFactorModelGMM Estimation Summary                     \n",
      "================================================================================\n",
      "No. Test Portfolios:                 28   R-squared:                  -2.458e+20\n",
      "No. Factors:                          1   J-statistic:                 6.476e+34\n",
      "No. Observations:                    53   P-value                         0.0000\n",
      "Date:                  Thu, May 31 2018   Distribution:                 chi2(27)\n",
      "Time:                          06:34:59                                         \n",
      "Cov. Estimator:                  robust                                         \n",
      "                                                                                \n",
      "                            Risk Premia Estimates                             \n",
      "==============================================================================\n",
      "            Parameter  Std. Err.     T-stat    P-value    Lower CI    Upper CI\n",
      "------------------------------------------------------------------------------\n",
      "factor     -2.821e+08     0.0495 -5.699e+09     0.0000  -2.821e+08  -2.821e+08\n",
      "\n",
      "\n",
      "                          AEX-AEX INDEX Coefficients                          \n",
      "==============================================================================\n",
      "            Parameter  Std. Err.     T-stat    P-value    Lower CI    Upper CI\n",
      "------------------------------------------------------------------------------\n",
      "alpha      -1.369e+18  1.881e+17    -7.2801     2.0000  -1.738e+18  -1.001e+18\n",
      "factor     -6.899e+08  3.251e+16 -2.122e-08     1.0000  -6.371e+16   6.371e+16\n",
      "\n",
      "\n",
      "                        BMF-BOVESPA INDEX Coefficients                        \n",
      "==============================================================================\n",
      "alpha       2.367e+17   1.53e+17     1.5466     0.1220  -6.325e+16   5.366e+17\n",
      "factor      1.192e+08  1.885e+15  6.326e-08     1.0000  -3.694e+15   3.694e+15\n",
      "\n",
      "\n",
      "                             CAC 40  Coefficients                             \n",
      "==============================================================================\n",
      "alpha       1.114e+18   3.31e+17     3.3651     0.0008   4.652e+17   1.763e+18\n",
      "factor      5.612e+08  8.778e+16  6.393e-09     1.0000  -1.721e+17   1.721e+17\n",
      "\n",
      "\n",
      "                          CFE-VIX INDEX Coefficients                          \n",
      "==============================================================================\n",
      "alpha      -1.372e+16  5.932e+16    -0.2313     1.1829    -1.3e+17   1.026e+17\n",
      "factor     -6.912e+06  3.372e+17  -2.05e-11     1.0000  -6.609e+17   6.609e+17\n",
      "\n",
      "\n",
      "                     CME-MINI S&P 500 INDEX Coefficients                      \n",
      "==============================================================================\n",
      "alpha        2.41e+18  4.615e+17     5.2216     0.0000   1.505e+18   3.315e+18\n",
      "factor      1.214e+09  1.498e+17  8.106e-09     1.0000  -2.936e+17   2.936e+17\n",
      "\n",
      "\n",
      "                   CME-NIKKEI 225 INDEX COMB. Coefficients                    \n",
      "==============================================================================\n",
      "alpha       6.391e+17  8.595e+16     7.4354     0.0000   4.706e+17   8.075e+17\n",
      "factor      3.219e+08  7.625e+16  4.222e-09     1.0000  -1.494e+17   1.494e+17\n",
      "\n",
      "\n",
      "                               DAX Coefficients                               \n",
      "==============================================================================\n",
      "alpha       4.319e+17  1.276e+17     3.3846     0.0007   1.818e+17    6.82e+17\n",
      "factor      2.176e+08  2.967e+16  7.333e-09     1.0000  -5.815e+16   5.815e+16\n",
      "\n",
      "\n",
      "                            Dow Jones Coefficients                            \n",
      "==============================================================================\n",
      "alpha      -2.455e+18  1.836e+17    -13.372     2.0000  -2.815e+18  -2.095e+18\n",
      "factor     -1.237e+09  8.365e+16 -1.478e-08     1.0000  -1.639e+17   1.639e+17\n",
      "\n",
      "\n",
      "                     EUREX-DJ EURO STOXX 50 Coefficients                      \n",
      "==============================================================================\n",
      "alpha       -3.36e+18  3.694e+16    -90.959     2.0000  -3.432e+18  -3.288e+18\n",
      "factor     -1.693e+09  5.608e+17 -3.018e-09     1.0000  -1.099e+18   1.099e+18\n",
      "\n",
      "\n",
      "                            EUREX-SMI Coefficients                            \n",
      "==============================================================================\n",
      "alpha       -1.09e+18  1.627e+17    -6.7006     2.0000  -1.409e+18  -7.715e+17\n",
      "factor     -5.493e+08  1.643e+17 -3.344e-09     1.0000  -3.219e+17   3.219e+17\n",
      "\n",
      "\n",
      "                       HKFE-H SHARES INDEX Coefficients                       \n",
      "==============================================================================\n",
      "alpha       6.257e+17  1.765e+17     3.5459     0.0004   2.799e+17   9.716e+17\n",
      "factor      3.152e+08  5.243e+16  6.013e-09     1.0000  -1.028e+17   1.028e+17\n",
      "\n",
      "\n",
      "                          IDEM-FTSE MIB Coefficients                          \n",
      "==============================================================================\n",
      "alpha       5.551e+17  3.401e+17     1.6323     0.1026  -1.114e+17   1.222e+18\n",
      "factor      2.796e+08  6.963e+16  4.016e-09     1.0000  -1.365e+17   1.365e+17\n",
      "\n",
      "\n",
      "                       KSE-KOSPI 200 INDEX Coefficients                       \n",
      "==============================================================================\n",
      "alpha       -9.29e+17  9.704e+16    -9.5726     2.0000  -1.119e+18  -7.388e+17\n",
      "factor      -4.68e+08  9.192e+16 -5.091e-09     1.0000  -1.802e+17   1.802e+17\n",
      "\n",
      "\n",
      "                     ME-S&P CANADA 60 INDEX Coefficients                      \n",
      "==============================================================================\n",
      "alpha        2.16e+17  2.482e+16     8.7038     0.0000   1.674e+17   2.646e+17\n",
      "factor      1.088e+08  2.329e+17  4.672e-10     1.0000  -4.565e+17   4.565e+17\n",
      "\n",
      "\n",
      "                     MEFF-IBEX 35 PLUS INDEX Coefficients                     \n",
      "==============================================================================\n",
      "alpha       1.336e+18     0.0172  7.768e+19     0.0000   1.336e+18   1.336e+18\n",
      "factor      6.733e+08     0.0030  2.265e+11     0.0000   6.733e+08   6.733e+08\n",
      "\n",
      "\n",
      "                        MEXDER-IPC INDEX Coefficients                         \n",
      "==============================================================================\n",
      "alpha       -6.09e+17     0.0140 -4.352e+19     2.0000   -6.09e+17   -6.09e+17\n",
      "factor     -3.068e+08     0.0002  -1.78e+12     2.0000  -3.068e+08  -3.068e+08\n",
      "\n",
      "\n",
      "                             Nasdaq Coefficients                              \n",
      "==============================================================================\n",
      "alpha      -2.689e+17     0.0303 -8.883e+18     2.0000  -2.689e+17  -2.689e+17\n",
      "factor     -1.355e+08     0.0080 -1.688e+10     2.0000  -1.355e+08  -1.355e+08\n",
      "\n",
      "\n",
      "                        OMX-OMXS30 INDEX Coefficients                         \n",
      "==============================================================================\n",
      "alpha       4.083e+18     0.0054  7.525e+20     0.0000   4.083e+18   4.083e+18\n",
      "factor      2.057e+09     0.0308  6.669e+10     0.0000   2.057e+09   2.057e+09\n",
      "\n",
      "\n",
      "                         OSLO-OBX INDEX Coefficients                          \n",
      "==============================================================================\n",
      "alpha       1.185e+18     0.0422  2.807e+19     0.0000   1.185e+18   1.185e+18\n",
      "factor      5.968e+08     0.0137  4.357e+10     0.0000   5.968e+08   5.968e+08\n",
      "\n",
      "\n",
      "                          Russell 2000 Coefficients                           \n",
      "==============================================================================\n",
      "alpha      -1.196e+18     0.0079 -1.521e+20     2.0000  -1.196e+18  -1.196e+18\n",
      "factor     -6.024e+08     0.0070 -8.639e+10     2.0000  -6.024e+08  -6.024e+08\n",
      "\n",
      "\n",
      "                         S&P MidCap 400 Coefficients                          \n",
      "==============================================================================\n",
      "alpha       1.285e+18     0.0117  1.101e+20     0.0000   1.285e+18   1.285e+18\n",
      "factor      6.472e+08     0.0027  2.385e+11     0.0000   6.472e+08   6.472e+08\n",
      "\n",
      "\n",
      "                    SAFEX-INDUSTRIAL 25 INDEX Coefficients                    \n",
      "==============================================================================\n",
      "alpha      -3.817e+17     0.0168 -2.273e+19     2.0000  -3.817e+17  -3.817e+17\n",
      "factor     -1.923e+08     0.0077 -2.513e+10     2.0000  -1.923e+08  -1.923e+08\n",
      "\n",
      "\n",
      "                        SFE-SPI 200 INDEX Coefficients                        \n",
      "==============================================================================\n",
      "alpha      -2.476e+18     0.0034 -7.328e+20     2.0000  -2.476e+18  -2.476e+18\n",
      "factor     -1.247e+09     0.0513 -2.432e+10     2.0000  -1.247e+09  -1.247e+09\n",
      "\n",
      "\n",
      "                     SGX DT-MSCI SING. INDEX Coefficients                     \n",
      "==============================================================================\n",
      "alpha      -5.069e+17     0.0149 -3.406e+19     2.0000  -5.069e+17  -5.069e+17\n",
      "factor     -2.554e+08     0.0150   -1.7e+10     2.0000  -2.554e+08  -2.554e+08\n",
      "\n",
      "\n",
      "                     SGX DT-MSCI TAIWAN ETS Coefficients                      \n",
      "==============================================================================\n",
      "alpha      -7.065e+17     0.0161 -4.378e+19     2.0000  -7.065e+17  -7.065e+17\n",
      "factor     -3.559e+08     0.0048 -7.423e+10     2.0000  -3.559e+08  -3.559e+08\n",
      "\n",
      "\n",
      "                      SGX DT-NIKKEI 225 ETS Coefficients                      \n",
      "==============================================================================\n",
      "alpha       6.692e+17     0.0311  2.152e+19     0.0000   6.692e+17   6.692e+17\n",
      "factor      3.371e+08     0.0064  5.294e+10     0.0000   3.371e+08   3.371e+08\n",
      "\n",
      "\n",
      "                   SGX DT-NIKKEI STOCK AVG DIV Coefficients                   \n",
      "==============================================================================\n",
      "alpha      -1.807e+17     0.0089 -2.036e+19     2.0000  -1.807e+17  -1.807e+17\n",
      "factor     -9.101e+07     0.0084 -1.083e+10     2.0000  -9.101e+07  -9.101e+07\n",
      "\n",
      "\n",
      "                         TSE-TOPIX INDEX Coefficients                         \n",
      "==============================================================================\n",
      "alpha      -1.696e+18     0.0023 -7.471e+20     2.0000  -1.696e+18  -1.696e+18\n",
      "factor     -8.541e+08     0.0213  -4.01e+10     2.0000  -8.541e+08  -8.541e+08\n",
      "==============================================================================\n",
      "\n",
      "Covariance estimator:\n",
      "HeteroskedasticCovariance\n",
      "See full_summary for complete results\n"
     ]
    }
   ],
   "source": [
    "print(res.full_summary)"
   ]
  },
  {
   "cell_type": "markdown",
   "metadata": {},
   "source": [
    "# FHT method"
   ]
  },
  {
   "cell_type": "code",
   "execution_count": 143,
   "metadata": {},
   "outputs": [
    {
     "name": "stderr",
     "output_type": "stream",
     "text": [
      "/Users/mrefermat/git/FinancePhD/LiquidityMomentum/tsmom_model3.py:53: FutureWarning: how in .resample() is deprecated\n",
      "the new syntax is .resample(...).count()\n",
      "  nonzero=x[x==0].resample(rule='m',how='count')\n",
      "/Users/mrefermat/git/FinancePhD/LiquidityMomentum/tsmom_model3.py:54: FutureWarning: how in .resample() is deprecated\n",
      "the new syntax is .resample(...).count()\n",
      "  Z=(nonzero/x.resample(rule='m',how='count')).dropna()\n",
      "/Users/mrefermat/git/FinancePhD/LiquidityMomentum/tsmom_model3.py:55: FutureWarning: pd.rolling_std is deprecated for Series and will be removed in a future version, replace with \n",
      "\tSeries.rolling(window=12,center=False).std()\n",
      "  data[c]=pd.Series(norm.cdf((1+Z)/2.),index=Z.index)*2*pd.rolling_std(x,12).resample(rule='m',how='last')\n",
      "/Users/mrefermat/git/FinancePhD/LiquidityMomentum/tsmom_model3.py:55: FutureWarning: how in .resample() is deprecated\n",
      "the new syntax is .resample(...).last()\n",
      "  data[c]=pd.Series(norm.cdf((1+Z)/2.),index=Z.index)*2*pd.rolling_std(x,12).resample(rule='m',how='last')\n"
     ]
    }
   ],
   "source": [
    "FHT=calculate_FHT(cleansed)"
   ]
  },
  {
   "cell_type": "code",
   "execution_count": 146,
   "metadata": {},
   "outputs": [
    {
     "name": "stderr",
     "output_type": "stream",
     "text": [
      "/Users/mrefermat/git/FinancePhD/LiquidityMomentum/tsmom_model3.py:71: FutureWarning: pd.rolling_mean is deprecated for DataFrame and will be removed in a future version, replace with \n",
      "\tDataFrame.rolling(window=100000000,min_periods=3,center=False).mean()\n",
      "  return (df-pd.rolling_mean(df,100000000,min_periods=min_per))/pd.rolling_std(df,100000000,min_periods=min_per)\n",
      "/Users/mrefermat/git/FinancePhD/LiquidityMomentum/tsmom_model3.py:71: FutureWarning: pd.rolling_std is deprecated for DataFrame and will be removed in a future version, replace with \n",
      "\tDataFrame.rolling(window=100000000,min_periods=3,center=False).std()\n",
      "  return (df-pd.rolling_mean(df,100000000,min_periods=min_per))/pd.rolling_std(df,100000000,min_periods=min_per)\n"
     ]
    }
   ],
   "source": [
    "data=calc_zscore_expanding_window(FHT.dropna(how='all'),3).dropna(how='all')\n",
    "sector_zscores={}\n",
    "d_map=sector_map(amihud)\n",
    "for sect in d_map.keys():\n",
    "    sector_zscores[sect]=data[d_map[sect]].dropna(how='all')\n",
    "sector_PC_FHT={}\n",
    "sector_variance_explained=pd.DataFrame()\n",
    "\n",
    "no_pc=3\n",
    "for sect in d_map.keys():\n",
    "    try: \n",
    "        PPCA=p.PPCA()\n",
    "        PPCA.fit(np.array(sector_zscores[sect]),d=no_pc)\n",
    "        sector_variance_explained[sect] = PPCA.var_exp\n",
    "        pcs=pd.DataFrame()\n",
    "        for i in range(0,no_pc,1):\n",
    "            x=pd.DataFrame(PPCA.C.T[i]*PPCA.data).sum(axis=1)\n",
    "            x.set_axis(labels=sector_zscores[sect].index,axis='index')\n",
    "            pcs[i]=x\n",
    "        sector_PC_FHT[sect] = pcs\n",
    "    except:\n",
    "        print(sect)"
   ]
  },
  {
   "cell_type": "markdown",
   "metadata": {},
   "source": [
    "# Presentation\n",
    "First rsquares of residuals"
   ]
  },
  {
   "cell_type": "code",
   "execution_count": 127,
   "metadata": {},
   "outputs": [
    {
     "name": "stderr",
     "output_type": "stream",
     "text": [
      "/Users/mrefermat/anaconda3/lib/python3.6/site-packages/ipykernel_launcher.py:1: FutureWarning: how in .resample() is deprecated\n",
      "the new syntax is .resample(...).sum()\n",
      "  \"\"\"Entry point for launching an IPython kernel.\n"
     ]
    }
   ],
   "source": [
    "FF=pd.read_csv('FF.csv',parse_dates=['Date'],index_col=0).resample(rule='m',how='sum')/100."
   ]
  },
  {
   "cell_type": "code",
   "execution_count": 130,
   "metadata": {},
   "outputs": [
    {
     "data": {
      "text/plain": [
       "Index(['Mkt-RF', 'SMB', 'HML', 'RF'], dtype='object')"
      ]
     },
     "execution_count": 130,
     "metadata": {},
     "output_type": "execute_result"
    }
   ],
   "source": [
    "FF.columns"
   ]
  },
  {
   "cell_type": "code",
   "execution_count": 147,
   "metadata": {},
   "outputs": [
    {
     "name": "stderr",
     "output_type": "stream",
     "text": [
      "/Users/mrefermat/anaconda3/lib/python3.6/site-packages/ipykernel_launcher.py:3: SettingWithCopyWarning: \n",
      "A value is trying to be set on a copy of a slice from a DataFrame.\n",
      "Try using .loc[row_indexer,col_indexer] = value instead\n",
      "\n",
      "See the caveats in the documentation: http://pandas.pydata.org/pandas-docs/stable/indexing.html#indexing-view-versus-copy\n",
      "  This is separate from the ipykernel package so we can avoid doing imports until\n"
     ]
    }
   ],
   "source": [
    "temp=pd.DataFrame()\n",
    "temp=sector_PC_FHT[sec][[0]]\n",
    "temp['Mkt-RF']=FF['Mkt-RF']"
   ]
  },
  {
   "cell_type": "code",
   "execution_count": 153,
   "metadata": {},
   "outputs": [
    {
     "name": "stdout",
     "output_type": "stream",
     "text": [
      "                      LinearFactorModel Estimation Summary                      \n",
      "================================================================================\n",
      "No. Test Portfolios:                 26   R-squared:                      0.1178\n",
      "No. Factors:                          2   J-statistic:                    235.81\n",
      "No. Observations:                    46   P-value                         0.0000\n",
      "Date:                  Sun, Mar 18 2018   Distribution:                 chi2(24)\n",
      "Time:                          16:11:04                                         \n",
      "Cov. Estimator:                  kernel                                         \n",
      "                                                                                \n",
      "                            Risk Premia Estimates                             \n",
      "==============================================================================\n",
      "            Parameter  Std. Err.     T-stat    P-value    Lower CI    Upper CI\n",
      "------------------------------------------------------------------------------\n",
      "0              0.2476     1.0627     0.2330     0.8157     -1.8352      2.3305\n",
      "Mkt-RF         0.0021     0.0107     0.1961     0.8445     -0.0188      0.0230\n",
      "\n",
      "\n",
      "                   CBT-10 YRS US T-NOTE COMP. Coefficients                    \n",
      "==============================================================================\n",
      "            Parameter  Std. Err.     T-stat    P-value    Lower CI    Upper CI\n",
      "------------------------------------------------------------------------------\n",
      "alpha         -0.0021     0.0011    -1.8823     1.9402     -0.0043   8.779e-05\n",
      "0             -0.0015     0.0010    -1.5327     1.8747     -0.0034      0.0004\n",
      "Mkt-RF        -0.0827     0.0701    -1.1792     1.7617     -0.2202      0.0548\n",
      "\n",
      "\n",
      "                   CBT-2 YEAR US T-NOTE COMP. Coefficients                    \n",
      "==============================================================================\n",
      "alpha         -0.0002     0.0002    -0.9578     1.6619     -0.0007      0.0002\n",
      "0             -0.0003     0.0001    -2.0921     1.9636     -0.0006  -1.884e-05\n",
      "Mkt-RF         0.0032     0.0097     0.3278     0.7431     -0.0159      0.0222\n",
      "\n",
      "\n",
      "                    CBT-30 YR US T-BOND COMP Coefficients                     \n",
      "==============================================================================\n",
      "alpha         -0.0006     0.0023    -0.2868     1.2257     -0.0051      0.0038\n",
      "0             -0.0023     0.0023    -1.0043     1.6848     -0.0067      0.0022\n",
      "Mkt-RF        -0.2376     0.1773    -1.3403     1.8198     -0.5851      0.1099\n",
      "\n",
      "\n",
      "                   CBT-5 YEAR US T-NOTE COMP. Coefficients                    \n",
      "==============================================================================\n",
      "alpha         -0.0010     0.0007    -1.4443     1.8513     -0.0023      0.0004\n",
      "0             -0.0010     0.0005    -1.8673     1.9381     -0.0020    4.74e-05\n",
      "Mkt-RF        -0.0249     0.0335    -0.7435     1.5428     -0.0905      0.0407\n",
      "\n",
      "\n",
      "                   CME-3 MTH EURODOLLAR COMP. Coefficients                    \n",
      "==============================================================================\n",
      "alpha         -0.0001     0.0001    -0.9680     1.6670     -0.0003      0.0001\n",
      "0          -6.092e-05  3.189e-05    -1.9100     1.9439     -0.0001   1.594e-06\n",
      "Mkt-RF         0.0035     0.0016     2.2321     0.0256      0.0004      0.0066\n",
      "\n",
      "\n",
      "                         CME-EURO COMP. Coefficients                          \n",
      "==============================================================================\n",
      "alpha         -0.0007     0.0017    -0.4288     1.3319     -0.0041      0.0027\n",
      "0             -0.0021     0.0010    -2.0077     1.9553     -0.0041  -4.904e-05\n",
      "Mkt-RF         0.3073     0.1590     1.9326     0.0533     -0.0044      0.6190\n",
      "\n",
      "\n",
      "                      CME-SWISS FRANC COMP. Coefficients                      \n",
      "==============================================================================\n",
      "alpha         -0.0017     0.0017    -0.9790     1.6724     -0.0051      0.0017\n",
      "0             -0.0022     0.0010    -2.1963     1.9719     -0.0041     -0.0002\n",
      "Mkt-RF         0.2841     0.1572     1.8077     0.0707     -0.0239      0.5921\n",
      "\n",
      "\n",
      "                         EUREX-EURO BOBL Coefficients                         \n",
      "==============================================================================\n",
      "alpha          0.0007     0.0008     0.8611     0.3892     -0.0009      0.0022\n",
      "0             -0.0003     0.0006    -0.5715     1.4323     -0.0014      0.0008\n",
      "Mkt-RF        -0.0526     0.0618    -0.8516     1.6056     -0.1738      0.0685\n",
      "\n",
      "\n",
      "                         EUREX-EURO BTP Coefficients                          \n",
      "==============================================================================\n",
      "alpha          0.0033     0.0031     1.0604     0.2889     -0.0028      0.0093\n",
      "0             -0.0014     0.0015    -0.9754     1.6706     -0.0043      0.0015\n",
      "Mkt-RF         0.2442     0.0814     3.0009     0.0027      0.0847      0.4037\n",
      "\n",
      "\n",
      "                         EUREX-EURO BUXL Coefficients                         \n",
      "==============================================================================\n",
      "alpha          0.0020     0.0015     1.2909     0.1967     -0.0010      0.0049\n",
      "0             -0.0047     0.0047    -1.0016     1.6835     -0.0138      0.0045\n",
      "Mkt-RF        -0.0793     0.4033    -0.1966     1.1559     -0.8698      0.7112\n",
      "\n",
      "\n",
      "                        EUREX-EURO SCHATZ Coefficients                        \n",
      "==============================================================================\n",
      "alpha          0.0002     0.0001     1.4253     0.1541  -7.586e-05      0.0005\n",
      "0           -5.11e-05   8.11e-05    -0.6301     1.4714     -0.0002      0.0001\n",
      "Mkt-RF        -0.0080     0.0110    -0.7337     1.5369     -0.0295      0.0134\n",
      "\n",
      "\n",
      "                       EUREX-LONG EURO OAT Coefficients                       \n",
      "==============================================================================\n",
      "alpha          0.0022     0.0018     1.2370     0.2161     -0.0013      0.0057\n",
      "0             -0.0003     0.0014    -0.2424     1.1915     -0.0030      0.0024\n",
      "Mkt-RF        -0.0848     0.1560    -0.5435     1.4132     -0.3906      0.2210\n",
      "\n",
      "\n",
      "                        EUREX-SWISS CONF Coefficients                         \n",
      "==============================================================================\n",
      "alpha         -0.0006     0.0019    -0.3210     1.2518     -0.0043      0.0031\n",
      "0             -0.0029     0.0013    -2.2428     1.9751     -0.0055     -0.0004\n",
      "Mkt-RF         0.0895     0.0901     0.9928     0.3208     -0.0872      0.2662\n",
      "\n",
      "\n",
      "                            EuroSwiss Coefficients                            \n",
      "==============================================================================\n",
      "alpha       2.177e-05     0.0001     0.1935     0.8466     -0.0002      0.0002\n",
      "0             -0.0001  5.613e-05    -2.3827     1.9828     -0.0002  -2.373e-05\n",
      "Mkt-RF         0.0044     0.0027     1.6236     0.1045     -0.0009      0.0098\n",
      "\n",
      "\n",
      "                          Federal Funds Coefficients                          \n",
      "==============================================================================\n",
      "alpha      -8.424e-05  6.203e-05    -1.3579     1.8255     -0.0002   3.735e-05\n",
      "0          -1.175e-06  1.795e-05    -0.0655     1.0522  -3.636e-05   3.401e-05\n",
      "Mkt-RF         0.0031     0.0016     1.9261     0.0541  -5.488e-05      0.0063\n",
      "\n",
      "\n",
      "                       LIFFE-3MTH STERLING Coefficients                       \n",
      "==============================================================================\n",
      "alpha          0.0001  9.159e-05     1.6141     0.1065  -3.168e-05      0.0003\n",
      "0            2.66e-05  2.415e-05     1.1017     0.2706  -2.072e-05   7.393e-05\n",
      "Mkt-RF        -0.0011     0.0018    -0.6099     1.4581     -0.0046      0.0024\n",
      "\n",
      "\n",
      "                         LIFFE-LONG GILT Coefficients                         \n",
      "==============================================================================\n",
      "alpha       -7.51e-05     0.0013    -0.0582     1.0464     -0.0026      0.0025\n",
      "0             -0.0024     0.0017    -1.3901     1.8355     -0.0058      0.0010\n",
      "Mkt-RF        -0.0883     0.1571    -0.5619     1.4258     -0.3961      0.2196\n",
      "\n",
      "\n",
      "                        LIFFE-SHORT GILT Coefficients                         \n",
      "==============================================================================\n",
      "alpha          0.0003     0.0005     0.5241     0.6002     -0.0007      0.0013\n",
      "0          -2.777e-05     0.0002    -0.1273     1.1013     -0.0005      0.0004\n",
      "Mkt-RF        -0.0153     0.0170    -0.8975     1.6305     -0.0486      0.0181\n",
      "\n",
      "\n",
      "                    ME-10Y CANADIAN GOVT BOND Coefficients                    \n",
      "==============================================================================\n",
      "alpha         -0.0010     0.0015    -0.6490     1.4837     -0.0040      0.0020\n",
      "0             -0.0024     0.0011    -2.1463     1.9682     -0.0046     -0.0002\n",
      "Mkt-RF        -0.0084     0.0744    -0.1128     1.0898     -0.1542      0.1374\n",
      "\n",
      "\n",
      "                     ME-BANK ACCEPT. 90 DAY Coefficients                      \n",
      "==============================================================================\n",
      "alpha       9.318e-05     0.0001     0.7530     0.4514     -0.0001      0.0003\n",
      "0           -6.99e-05  5.358e-05    -1.3046     1.8080     -0.0002   3.512e-05\n",
      "Mkt-RF         0.0031     0.0040     0.7862     0.4318     -0.0047      0.0110\n",
      "\n",
      "\n",
      "                    SFE-30 DAY INTERBANK CASH Coefficients                    \n",
      "==============================================================================\n",
      "alpha          0.0006     0.0002     3.9416     0.0001      0.0003      0.0009\n",
      "0           7.685e-05  5.004e-05     1.5357     0.1246  -2.123e-05      0.0002\n",
      "Mkt-RF        -0.0106     0.0069    -1.5373     1.8758     -0.0241      0.0029\n",
      "\n",
      "\n",
      "                     SFE-AUST 10 YEAR T-BOND Coefficients                     \n",
      "==============================================================================\n",
      "alpha         -0.0001     0.0001    -0.8073     1.5805     -0.0004      0.0002\n",
      "0             -0.0002     0.0001    -1.6633     1.9037     -0.0005   4.067e-05\n",
      "Mkt-RF        -0.0096     0.0181    -0.5318     1.4051     -0.0451      0.0259\n",
      "\n",
      "\n",
      "                   SFE-AUST 90 DAY BANK BILLS Coefficients                    \n",
      "==============================================================================\n",
      "alpha          0.0004     0.0002     2.3732     0.0176   7.234e-05      0.0008\n",
      "0          -1.414e-05  5.948e-05    -0.2377     1.1879     -0.0001      0.0001\n",
      "Mkt-RF        -0.0064     0.0101    -0.6345     1.4742     -0.0263      0.0134\n",
      "\n",
      "\n",
      "                    SFE-NZ 90 DAY BANK BILLS Coefficients                     \n",
      "==============================================================================\n",
      "alpha          0.0002     0.0003     0.7187     0.4723     -0.0003      0.0007\n",
      "0          -9.771e-05  6.047e-05    -1.6159     1.8939     -0.0002   2.081e-05\n",
      "Mkt-RF        -0.0054     0.0081    -0.6668     1.4951     -0.0214      0.0105\n",
      "\n",
      "\n",
      "                    TIFFE-3 MTH EUROYEN TIBOR Coefficients                    \n",
      "==============================================================================\n",
      "alpha       5.497e-05  2.172e-05     2.5305     0.0114    1.24e-05   9.755e-05\n",
      "0          -5.494e-06  9.553e-06    -0.5751     1.4348  -2.422e-05   1.323e-05\n",
      "Mkt-RF         0.0004     0.0005     0.8681     0.3853     -0.0005      0.0013\n",
      "\n",
      "\n",
      "                       TSE-10 YEAR T-BOND Coefficients                        \n",
      "==============================================================================\n",
      "alpha          0.0007     0.0006     1.1165     0.2642     -0.0005      0.0020\n",
      "0             -0.0006     0.0003    -2.3514     1.9813     -0.0011     -0.0001\n",
      "Mkt-RF        -0.0118     0.0205    -0.5748     1.4346     -0.0520      0.0284\n",
      "==============================================================================\n",
      "\n",
      "Covariance estimator:\n",
      "KernelCovariance, Kernel: bartlett, Bandwidth: 4\n",
      "See full_summary for complete results\n"
     ]
    },
    {
     "name": "stderr",
     "output_type": "stream",
     "text": [
      "/Users/mrefermat/anaconda3/lib/python3.6/site-packages/linearmodels/utility.py:490: MissingValueWarning: \n",
      "Inputs contain missing values. Dropping rows with missing observations.\n",
      "  warnings.warn(missing_value_warning_msg, MissingValueWarning)\n"
     ]
    }
   ],
   "source": [
    "sec='Fixed Income'\n",
    "ind=sector_PC[sec][0].index\n",
    "mod=LinearFactorModel(sector_rtns[sec].loc[ind],temp)\n",
    "res=mod.fit(cov_type='kernel')\n",
    "print(res.full_summary)"
   ]
  },
  {
   "cell_type": "code",
   "execution_count": 159,
   "metadata": {},
   "outputs": [
    {
     "name": "stderr",
     "output_type": "stream",
     "text": [
      "/Users/mrefermat/anaconda3/lib/python3.6/site-packages/ipykernel_launcher.py:1: FutureWarning: how in .resample() is deprecated\n",
      "the new syntax is .resample(...).last()\n",
      "  \"\"\"Entry point for launching an IPython kernel.\n"
     ]
    },
    {
     "data": {
      "text/plain": [
       "<matplotlib.axes._subplots.AxesSubplot at 0x1167a7860>"
      ]
     },
     "execution_count": 159,
     "metadata": {},
     "output_type": "execute_result"
    },
    {
     "data": {
      "image/png": "[encoded data removed]",
      "text/plain": [
       "<matplotlib.figure.Figure at 0x1167c90b8>"
      ]
     },
     "metadata": {},
     "output_type": "display_data"
    }
   ],
   "source": [
    "cleansed.resample(rule='m',how='last').pct_change().median(axis=1).cumsum().dropna().plot()"
   ]
  },
  {
   "cell_type": "code",
   "execution_count": 163,
   "metadata": {},
   "outputs": [
    {
     "data": {
      "text/plain": [
       "<matplotlib.axes._subplots.AxesSubplot at 0x1c25190ba8>"
      ]
     },
     "execution_count": 163,
     "metadata": {},
     "output_type": "execute_result"
    },
    {
     "data": {
      "image/png": "[encoded data removed]",
      "text/plain": [
       "<matplotlib.figure.Figure at 0x1c2519ba20>"
      ]
     },
     "metadata": {},
     "output_type": "display_data"
    }
   ],
   "source": [
    "sector_rtns['Commodities'].median(axis=1).cumsum().plot()"
   ]
  },
  {
   "cell_type": "code",
   "execution_count": null,
   "metadata": {},
   "outputs": [],
   "source": []
  }
 ],
 "metadata": {
  "kernelspec": {
   "display_name": "Python 3",
   "language": "python",
   "name": "python3"
  },
  "language_info": {
   "codemirror_mode": {
    "name": "ipython",
    "version": 3
   },
   "file_extension": ".py",
   "mimetype": "text/x-python",
   "name": "python",
   "nbconvert_exporter": "python",
   "pygments_lexer": "ipython3",
   "version": "3.6.3"
  }
 },
 "nbformat": 4,
 "nbformat_minor": 2
}
