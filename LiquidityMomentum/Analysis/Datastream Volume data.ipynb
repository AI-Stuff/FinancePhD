{
 "cells": [
  {
   "cell_type": "code",
   "execution_count": 9,
   "metadata": {
    "collapsed": false
   },
   "outputs": [],
   "source": [
    "%matplotlib inline\n",
    "import seaborn\n",
    "import quandl\n",
    "import pandas as pd\n",
    "import seaborn as sns\n",
    "from datetime import datetime\n",
    "token=\"Us3wFmXGgAj_1cUtHAAR\"\n",
    "\n",
    "import pylab\n",
    "pylab.rcParams['figure.figsize'] = (24, 18)"
   ]
  },
  {
   "cell_type": "code",
   "execution_count": 10,
   "metadata": {
    "collapsed": true
   },
   "outputs": [],
   "source": [
    "def clean_up_columns(data):\n",
    "    df=pd.DataFrame()\n",
    "    for old_name in data.columns:\n",
    "        new_name = old_name.split('TRc1')[0][:-1]\n",
    "        df[new_name]=data[old_name]\n",
    "    return df"
   ]
  },
  {
   "cell_type": "code",
   "execution_count": 14,
   "metadata": {
    "collapsed": false
   },
   "outputs": [
    {
     "name": "stderr",
     "output_type": "stream",
     "text": [
      "/Users/mrefermat/anaconda/lib/python2.7/site-packages/IPython/kernel/__main__.py:1: FutureWarning: how in .resample() is deprecated\n",
      "the new syntax is .resample(...).last()\n",
      "  if __name__ == '__main__':\n",
      "/Users/mrefermat/anaconda/lib/python2.7/site-packages/IPython/kernel/__main__.py:3: FutureWarning: how in .resample() is deprecated\n",
      "the new syntax is .resample(...).mean()\n",
      "  app.launch_new_instance()\n"
     ]
    }
   ],
   "source": [
    "data=pd.read_csv('Price.csv',index_col=0,parse_dates=['Date']).resample(rule='m',how='last')\n",
    "price = clean_up_columns(data)\n",
    "data=pd.read_csv('Volume.csv',index_col=0,parse_dates=['Date']).resample(rule='m',how='mean')\n",
    "vol = clean_up_columns(data)"
   ]
  },
  {
   "cell_type": "code",
   "execution_count": 15,
   "metadata": {
    "collapsed": false
   },
   "outputs": [
    {
     "name": "stdout",
     "output_type": "stream",
     "text": [
      "AEX-AEX INDEX\n",
      "MEXDER-10YR BOND\n",
      "ME-BANK ACCEPT. 90 DAY\n",
      "CBT-SOYABEAN OIL COMP.\n",
      "ME-10Y CANADIAN GOVT BOND\n",
      "NYM-LIGHT CRUDE OIL\n",
      "ZCE-RAPESEED MEAL\n",
      "DCE-PLYWOOD\n",
      "DCE-EGG\n",
      "BMF-US DOLLAR\n",
      "CME-3 MTH EURODOLLAR COMP.\n",
      "NORDPOOL-ENO QTR\n",
      "EEX-MONTHLY PEAKLOAD\n",
      "LIFFE-10Y E SWAPNOTE\n",
      "LIFFE-2YR E SWAPNOTE\n",
      "EUREX-EURO BTP\n",
      "ENDEX-TTF GAS BASE LOAD\n",
      "ENDEX-TTF GAS BASE LOAD QTR\n",
      "ENDEX-TTF GAS BASE LOAD SEASON\n"
     ]
    }
   ],
   "source": [
    "for p in price.columns:\n",
    "     if p not in vol.columns:\n",
    "            print p"
   ]
  },
  {
   "cell_type": "code",
   "execution_count": 16,
   "metadata": {
    "collapsed": false
   },
   "outputs": [
    {
     "name": "stdout",
     "output_type": "stream",
     "text": [
      "CME-AUSTRALIAN DOLLR COMP.\n",
      "CME-BRAZILIAN REAL COMP.\n",
      "BMF-CORN CASH\n",
      "CME-CANADIAN DOLLAR COMP.\n",
      "CFFEX-CSI 300 INDEX\n",
      "ZCE-RAPESEED OIL\n",
      "CSCE-COTTON #2\n",
      "ZCE-THERMAL COAL\n",
      "DCE-POLYPROPYLENE\n",
      "DCE-COKING COAL\n",
      "DCE-PVC\n",
      "CME-1MTH EURODOLLAR COMP\n",
      "NORDPOOL-ENO YEAR\n",
      "EEX-MONTHLY BASELOAD\n",
      "EEX-QUARTERLY PEAK LOAD\n",
      "MONEP-CAC 40 INDEX\n",
      "EUREX-DAX INDEX\n",
      "LIFFE-3MTH EUROSWISS\n",
      "LIFFE-FTSE EUROTOP 100\n",
      "EUREX-EURO STOXX 50 IND DIV\n",
      "LIFFE-SHORT EUROYEN TIBOR\n",
      "CBT-30 DAY FED FUNDS COMP\n",
      "LIFFE-FTSE 100 INDEX\n",
      "EUREX-EURO BUND\n",
      "LIFFE-FTSE 250 INDEX\n",
      "WSE-WIG 20\n",
      "TGE-RAW SUGAR\n",
      "LME-ALUMINIUM\n",
      "LME-COPPER\n",
      "LME-NICKEL\n",
      "CME-MEXICAN PESO COMP.\n",
      "LME-LEAD\n",
      "LME-TIN\n",
      "CME-NONFAT DRY MILK COMP.\n",
      "SGX DT-EURODOLLAR\n",
      "SHFE-LEAD\n",
      "SHFE-STEEL REBAR\n",
      "NYFE-RUSSELL 2000 MINI\n",
      "ICE-DUTCH TTF GAS SEASON\n"
     ]
    }
   ],
   "source": [
    "for p in vol.columns:\n",
    "     if p not in price.columns:\n",
    "            print p"
   ]
  },
  {
   "cell_type": "markdown",
   "metadata": {},
   "source": [
    "To do:\n",
    "    Find out why this volume data is missing\n",
    "    Check the volume data to see if it is also spikey and/or missing data\n",
    "    "
   ]
  },
  {
   "cell_type": "code",
   "execution_count": 17,
   "metadata": {
    "collapsed": false
   },
   "outputs": [
    {
     "data": {
      "text/plain": [
       "126"
      ]
     },
     "execution_count": 17,
     "metadata": {},
     "output_type": "execute_result"
    }
   ],
   "source": [
    "price.count().count()"
   ]
  },
  {
   "cell_type": "code",
   "execution_count": 18,
   "metadata": {
    "collapsed": false
   },
   "outputs": [
    {
     "data": {
      "text/plain": [
       "146"
      ]
     },
     "execution_count": 18,
     "metadata": {},
     "output_type": "execute_result"
    }
   ],
   "source": [
    "vol.count().count()"
   ]
  },
  {
   "cell_type": "code",
   "execution_count": 31,
   "metadata": {
    "collapsed": false
   },
   "outputs": [
    {
     "data": {
      "text/plain": [
       "CME-NONFAT DRY MILK COMP.        7.821674\n",
       "TGE-ROBUSTA COFFEE              20.103571\n",
       "EEX-YEARLY PEAKLOAD             25.831748\n",
       "TOCOM-SILVER                    30.569748\n",
       "EEX-QUARTERLY PEAK LOAD         37.308329\n",
       "TOCOM-PALLADIUM                 38.594205\n",
       "SGX DT-NIKKEI STOCK AVG DIV     49.525523\n",
       "ICE-DUTCH TTF GAS SEASON        51.359705\n",
       "EEX-MONTHLY BASELOAD            64.325367\n",
       "NORDPOOL-ENO YEAR               84.467634\n",
       "BMF-SOYBEAN                     90.573807\n",
       "TGE-ARABICA COFFEE              94.534830\n",
       "CME-MILK CLASS III GLOBEX      123.522585\n",
       "EEX-QUARTERLY BASE LOAD        149.074324\n",
       "LIFFE-FTSE 250 INDEX           155.513882\n",
       "ZCE-NONGLUTINOUS RICE          197.748174\n",
       "LIFFE-FTSE EUROTOP 100         197.767349\n",
       "NORDPOOL-ENO                   209.196997\n",
       "NYM-PALLADIUM                  244.807480\n",
       "TOCOM-PLATINUM                 248.015490\n",
       "TGE-NON GMO SOYBEAN            256.978648\n",
       "TGE-AZUKI (RED BEAN)           267.957461\n",
       "CBT-ROUGH RICE                 279.984209\n",
       "LIFFE-SHORT EUROYEN TIBOR      287.071449\n",
       "TGE-CORN                       338.069982\n",
       "TOCOM-RUBBER                   375.231838\n",
       "CME-BRAZILIAN REAL COMP.       426.399740\n",
       "TGE-SOYBEANS                   438.618720\n",
       "TOCOM-GOLD                     459.822517\n",
       "BMF-ARABICA COFFEE             472.786873\n",
       "dtype: float64"
      ]
     },
     "execution_count": 31,
     "metadata": {},
     "output_type": "execute_result"
    }
   ],
   "source": [
    "vol.mean()[(vol.mean()/500) <1].sort_values()"
   ]
  },
  {
   "cell_type": "code",
   "execution_count": null,
   "metadata": {
    "collapsed": true
   },
   "outputs": [],
   "source": []
  }
 ],
 "metadata": {
  "kernelspec": {
   "display_name": "Python 2",
   "language": "python",
   "name": "python2"
  },
  "language_info": {
   "codemirror_mode": {
    "name": "ipython",
    "version": 2
   },
   "file_extension": ".py",
   "mimetype": "text/x-python",
   "name": "python",
   "nbconvert_exporter": "python",
   "pygments_lexer": "ipython2",
   "version": "2.7.12"
  }
 },
 "nbformat": 4,
 "nbformat_minor": 0
}
