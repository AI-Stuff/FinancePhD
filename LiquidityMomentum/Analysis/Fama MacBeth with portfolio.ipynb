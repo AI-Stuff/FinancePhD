{
 "cells": [
  {
   "cell_type": "markdown",
   "metadata": {},
   "source": [
    "# Notice about this Fama Macbeth cross sectional regression\n",
    "This method here uses total common factor as the risk premia and not the factor portfolio against the test portfolios instead of the assets"
   ]
  },
  {
   "cell_type": "code",
   "execution_count": 1,
   "metadata": {},
   "outputs": [],
   "source": [
    "%matplotlib inline\n",
    "import pandas as pd\n",
    "import seaborn as sns\n",
    "from tsmom_model import *\n",
    "import PPCA_MR3 as p\n",
    "import numpy as np\n",
    "from datetime import datetime\n",
    "from linearmodels.asset_pricing import LinearFactorModel"
   ]
  },
  {
   "cell_type": "code",
   "execution_count": 2,
   "metadata": {},
   "outputs": [],
   "source": [
    "import pylab\n",
    "sns.set(font_scale=3)\n",
    "pylab.rcParams['figure.figsize'] = (24, 18)"
   ]
  },
  {
   "cell_type": "code",
   "execution_count": 3,
   "metadata": {},
   "outputs": [
    {
     "name": "stderr",
     "output_type": "stream",
     "text": [
      "/Users/mrefermat/git/FinancePhD/LiquidityMomentum/tsmom_model.py:158: FutureWarning: how in .resample() is deprecated\n",
      "the new syntax is .resample(...).last()\n",
      "  data=pd.read_csv('./Price.csv',index_col=0,parse_dates=['Date']).resample(rule='d',how='last')\n",
      "/Users/mrefermat/git/FinancePhD/LiquidityMomentum/tsmom_model.py:160: FutureWarning: how in .resample() is deprecated\n",
      "the new syntax is .resample(...).last()\n",
      "  qd=pd.read_csv('./liquid_contracts.csv',index_col=0,parse_dates=['Date']).resample(rule='d',how='last')\n"
     ]
    }
   ],
   "source": [
    "cleansed=load_amihud_markets_price()"
   ]
  },
  {
   "cell_type": "code",
   "execution_count": 4,
   "metadata": {},
   "outputs": [
    {
     "name": "stderr",
     "output_type": "stream",
     "text": [
      "/Users/mrefermat/git/FinancePhD/LiquidityMomentum/tsmom_model.py:42: FutureWarning: how in .resample() is deprecated\n",
      "the new syntax is .resample(...).mean()\n",
      "  data=pd.read_csv('./Volume.csv',index_col=0,parse_dates=['Date']).resample(rule='d',how='mean')\n",
      "/Users/mrefermat/git/FinancePhD/LiquidityMomentum/tsmom_model.py:44: FutureWarning: how in .resample() is deprecated\n",
      "the new syntax is .resample(...).sum()\n",
      "  v=pd.read_csv('./volume_data.csv',index_col=0,parse_dates=['Date']).resample(rule='d',how='sum')\n",
      "/Users/mrefermat/git/FinancePhD/LiquidityMomentum/tsmom_model.py:46: FutureWarning: pd.rolling_mean is deprecated for DataFrame and will be removed in a future version, replace with \n",
      "\tDataFrame.rolling(window=250,min_periods=100,center=False).mean()\n",
      "  volume=pd.rolling_mean(v,250,min_periods=100).resample(rule='d',how='mean')[:'2016']\n",
      "/Users/mrefermat/git/FinancePhD/LiquidityMomentum/tsmom_model.py:46: FutureWarning: how in .resample() is deprecated\n",
      "the new syntax is .resample(...).mean()\n",
      "  volume=pd.rolling_mean(v,250,min_periods=100).resample(rule='d',how='mean')[:'2016']\n",
      "/Users/mrefermat/git/FinancePhD/LiquidityMomentum/tsmom_model.py:49: FutureWarning: pd.rolling_mean is deprecated for Series and will be removed in a future version, replace with \n",
      "\tSeries.rolling(window=250,min_periods=50,center=False).mean()\n",
      "  volume[name]=pd.rolling_mean(v2[x],250,min_periods=50).resample(rule='d',how='mean')\n",
      "/Users/mrefermat/git/FinancePhD/LiquidityMomentum/tsmom_model.py:49: FutureWarning: how in .resample() is deprecated\n",
      "the new syntax is .resample(...).mean()\n",
      "  volume[name]=pd.rolling_mean(v2[x],250,min_periods=50).resample(rule='d',how='mean')\n",
      "/Users/mrefermat/git/FinancePhD/LiquidityMomentum/tsmom_model.py:76: FutureWarning: how in .resample() is deprecated\n",
      "the new syntax is .resample(...).last()\n",
      "  fx=fx.resample(rule='d',how='last')\n",
      "/Users/mrefermat/git/FinancePhD/LiquidityMomentum/tsmom_model.py:77: FutureWarning: how in .resample() is deprecated\n",
      "the new syntax is .resample(...).last()\n",
      "  px=cleansed.resample(rule='d',how='last')\n",
      "/Users/mrefermat/git/FinancePhD/LiquidityMomentum/tsmom_model.py:85: FutureWarning: how in .resample() is deprecated\n",
      "the new syntax is .resample(...).mean()\n",
      "  x= (cleansed.pct_change().abs()/ total_vol).resample(rule='m',how='mean')\n"
     ]
    }
   ],
   "source": [
    "amihud=calculate_amihud_liquidity(cleansed)[:'2016'] "
   ]
  },
  {
   "cell_type": "markdown",
   "metadata": {},
   "source": [
    "# Amihud (2002) Annual portfolio sorts"
   ]
  },
  {
   "cell_type": "code",
   "execution_count": 5,
   "metadata": {},
   "outputs": [
    {
     "name": "stderr",
     "output_type": "stream",
     "text": [
      "/Users/mrefermat/git/FinancePhD/LiquidityMomentum/tsmom_model.py:273: FutureWarning: pd.rolling_mean is deprecated for DataFrame and will be removed in a future version, replace with \n",
      "\tDataFrame.rolling(window=100000000,min_periods=3,center=False).mean()\n",
      "  return (df-pd.rolling_mean(df,100000000,min_periods=min_per))/pd.rolling_std(df,100000000,min_periods=min_per)\n",
      "/Users/mrefermat/git/FinancePhD/LiquidityMomentum/tsmom_model.py:273: FutureWarning: pd.rolling_std is deprecated for DataFrame and will be removed in a future version, replace with \n",
      "\tDataFrame.rolling(window=100000000,min_periods=3,center=False).std()\n",
      "  return (df-pd.rolling_mean(df,100000000,min_periods=min_per))/pd.rolling_std(df,100000000,min_periods=min_per)\n"
     ]
    }
   ],
   "source": [
    "data=calc_zscore_expanding_window(amihud.dropna(how='all'),3).dropna(how='all')\n",
    "sector_zscores={}\n",
    "d_map=sector_map(amihud)\n",
    "for sect in d_map.keys():\n",
    "    sector_zscores[sect]=data[d_map[sect]].dropna(how='all')"
   ]
  },
  {
   "cell_type": "code",
   "execution_count": 6,
   "metadata": {},
   "outputs": [
    {
     "name": "stderr",
     "output_type": "stream",
     "text": [
      "/Users/mrefermat/git/FinancePhD/LiquidityMomentum/tsmom_model.py:238: FutureWarning: how in .resample() is deprecated\n",
      "the new syntax is .resample(...).median()\n",
      "  mkts=quantile_columns(rank_data.resample(rule='a',how='median'),year,number_of_buckets,i)\n",
      "/Users/mrefermat/git/FinancePhD/LiquidityMomentum/tsmom_model.py:239: FutureWarning: how in .resample() is deprecated\n",
      "the new syntax is .resample(...).last()\n",
      "  rtns = price_data.resample(rule='m',how='last')[mkts].pct_change()[str(y+1)].mean(axis=1)\n"
     ]
    }
   ],
   "source": [
    "sector_portfolio_sorts={}\n",
    "for s in sector_zscores.keys():\n",
    "    sector_portfolio_sorts[s]=quantile_portfolios_annual(sector_zscores[s],cleansed,3)"
   ]
  },
  {
   "cell_type": "code",
   "execution_count": 7,
   "metadata": {},
   "outputs": [
    {
     "name": "stderr",
     "output_type": "stream",
     "text": [
      "/Users/mrefermat/anaconda3/lib/python3.6/site-packages/ipykernel_launcher.py:1: FutureWarning: how in .resample() is deprecated\n",
      "the new syntax is .resample(...).sum()\n",
      "  \"\"\"Entry point for launching an IPython kernel.\n"
     ]
    }
   ],
   "source": [
    "FF=pd.read_csv('FF.csv',parse_dates=['Date'],index_col=0).resample(rule='m',how='sum')/100."
   ]
  },
  {
   "cell_type": "code",
   "execution_count": 8,
   "metadata": {},
   "outputs": [
    {
     "name": "stderr",
     "output_type": "stream",
     "text": [
      "/Users/mrefermat/anaconda3/lib/python3.6/site-packages/ipykernel_launcher.py:4: FutureWarning: how in .resample() is deprecated\n",
      "the new syntax is .resample(...).last()\n",
      "  after removing the cwd from sys.path.\n"
     ]
    }
   ],
   "source": [
    "sector_rtns={}\n",
    "d_map=sector_map(amihud)\n",
    "for sect in d_map.keys():\n",
    "    sector_rtns[sect]=np.log(cleansed[d_map[sect]].resample(rule='m',how='last')).diff().dropna(how='all')"
   ]
  },
  {
   "cell_type": "code",
   "execution_count": 10,
   "metadata": {},
   "outputs": [
    {
     "name": "stderr",
     "output_type": "stream",
     "text": [
      "/Users/mrefermat/git/FinancePhD/LiquidityMomentum/tsmom_model.py:273: FutureWarning: pd.rolling_mean is deprecated for DataFrame and will be removed in a future version, replace with \n",
      "\tDataFrame.rolling(window=100000000,min_periods=3,center=False).mean()\n",
      "  return (df-pd.rolling_mean(df,100000000,min_periods=min_per))/pd.rolling_std(df,100000000,min_periods=min_per)\n",
      "/Users/mrefermat/git/FinancePhD/LiquidityMomentum/tsmom_model.py:273: FutureWarning: pd.rolling_std is deprecated for DataFrame and will be removed in a future version, replace with \n",
      "\tDataFrame.rolling(window=100000000,min_periods=3,center=False).std()\n",
      "  return (df-pd.rolling_mean(df,100000000,min_periods=min_per))/pd.rolling_std(df,100000000,min_periods=min_per)\n"
     ]
    }
   ],
   "source": [
    "data=calc_zscore_expanding_window(amihud.dropna(how='all'),3).dropna(how='all')\n",
    "no_pc=3\n",
    "PPCA=p.PPCA()\n",
    "PPCA.fit(np.array(data),d=no_pc)\n",
    "pcs=pd.DataFrame()\n",
    "for i in range(0,no_pc,1):\n",
    "    x=pd.DataFrame(PPCA.C.T[i]*PPCA.data).sum(axis=1)\n",
    "    x.set_axis(labels=data.index,axis='index')\n",
    "    pcs[i]=x\n",
    "sector_PC = pcs"
   ]
  },
  {
   "cell_type": "markdown",
   "metadata": {},
   "source": [
    "# Expirimenting with annual portfolio sorts\n",
    "* PPCA common liquidity factor per asset\n",
    "* Median Amihud value\n",
    "* Whole market Amihud value\n",
    "\n",
    "However the strongest looks like the first one, but nothing is strongerly predictive.\n",
    "\n",
    "However there is a timing mismatch because this is using annual portfolio sorts"
   ]
  },
  {
   "cell_type": "code",
   "execution_count": 11,
   "metadata": {},
   "outputs": [],
   "source": [
    "final_res=pd.DataFrame()"
   ]
  },
  {
   "cell_type": "code",
   "execution_count": 12,
   "metadata": {},
   "outputs": [],
   "source": [
    "portfolios=pd.DataFrame()\n",
    "for sec in ['Equities', 'Commodities', 'Fixed Income']:\n",
    "    for i in sector_portfolio_sorts[sec].columns:\n",
    "        portfolios[sec + \" \"+ str(i)]=sector_portfolio_sorts[sec][i]"
   ]
  },
  {
   "cell_type": "code",
   "execution_count": 14,
   "metadata": {},
   "outputs": [
    {
     "name": "stdout",
     "output_type": "stream",
     "text": [
      "                      LinearFactorModel Estimation Summary                      \n",
      "================================================================================\n",
      "No. Test Portfolios:                  9   R-squared:                      0.5843\n",
      "No. Factors:                          4   J-statistic:                    6.8138\n",
      "No. Observations:                   204   P-value                         0.2349\n",
      "Date:                  Tue, Apr 03 2018   Distribution:                  chi2(5)\n",
      "Time:                          19:31:18                                         \n",
      "Cov. Estimator:                  kernel                                         \n",
      "                                                                                \n",
      "                            Risk Premia Estimates                             \n",
      "==============================================================================\n",
      "            Parameter  Std. Err.     T-stat    P-value    Lower CI    Upper CI\n",
      "------------------------------------------------------------------------------\n",
      "VAL            0.0014     0.0089     0.1564     0.8757     -0.0160      0.0187\n",
      "MOM           -0.0035     0.0137    -0.2552     0.7986     -0.0304      0.0234\n",
      "MKT            0.0053     0.0023     2.2939     0.0218      0.0008      0.0099\n",
      "Liquidity      3.3315     7.9603     0.4185     0.6756     -12.270      18.933\n",
      "==============================================================================\n",
      "\n",
      "Covariance estimator:\n",
      "KernelCovariance, Kernel: bartlett, Bandwidth: 10\n",
      "See full_summary for complete results\n"
     ]
    },
    {
     "name": "stderr",
     "output_type": "stream",
     "text": [
      "/Users/mrefermat/anaconda3/lib/python3.6/site-packages/ipykernel_launcher.py:10: FutureWarning: how in .resample() is deprecated\n",
      "the new syntax is .resample(...).last()\n",
      "  # Remove the CWD from sys.path while we load stuff.\n"
     ]
    }
   ],
   "source": [
    "portfolios=pd.DataFrame()\n",
    "for sec in ['Equities', 'Commodities', 'Fixed Income']:\n",
    "    for i in sector_portfolio_sorts[sec].columns:\n",
    "        portfolios[sec + \" \"+ str(i)]=sector_portfolio_sorts[sec][i]\n",
    "        \n",
    "ind=portfolios.index\n",
    "factor=pd.DataFrame()\n",
    "factor=get_aqr_factors('GLOBAL').loc[ind]\n",
    "#factor=pd.DataFrame()\n",
    "factor['MKT']=cleansed.resample(rule='m',how='last').pct_change().mean(axis=1).loc[ind]\n",
    "factor['Liquidity']=sector_PC.sum(axis=1).loc[ind]\n",
    "mod=LinearFactorModel(portfolios.dropna(),factor.loc[ind])\n",
    "res=mod.fit(cov_type='kernel')\n",
    "final_res['A-A beta']=res.risk_premia\n",
    "final_res['A-A tstat']=res.risk_premia_tstats\n",
    "print(res)"
   ]
  },
  {
   "cell_type": "markdown",
   "metadata": {},
   "source": [
    "# Monthly Amihud sorts"
   ]
  },
  {
   "cell_type": "code",
   "execution_count": 15,
   "metadata": {},
   "outputs": [],
   "source": [
    "mon_amihud=read_monthly(amihud=True)"
   ]
  },
  {
   "cell_type": "code",
   "execution_count": 17,
   "metadata": {},
   "outputs": [
    {
     "name": "stdout",
     "output_type": "stream",
     "text": [
      "                      LinearFactorModel Estimation Summary                      \n",
      "================================================================================\n",
      "No. Test Portfolios:                  9   R-squared:                      0.5869\n",
      "No. Factors:                          4   J-statistic:                    12.703\n",
      "No. Observations:                   192   P-value                         0.0263\n",
      "Date:                  Tue, Apr 03 2018   Distribution:                  chi2(5)\n",
      "Time:                          19:31:31                                         \n",
      "Cov. Estimator:                  kernel                                         \n",
      "                                                                                \n",
      "                            Risk Premia Estimates                             \n",
      "==============================================================================\n",
      "            Parameter  Std. Err.     T-stat    P-value    Lower CI    Upper CI\n",
      "------------------------------------------------------------------------------\n",
      "VAL           -0.0016     0.0052    -0.3085     0.7577     -0.0117      0.0085\n",
      "MOM            0.0016     0.0065     0.2466     0.8053     -0.0112      0.0144\n",
      "MKT            0.0044     0.0024     1.8437     0.0652     -0.0003      0.0090\n",
      "Liquidity      0.5524     1.7949     0.3077     0.7583     -2.9656      4.0703\n",
      "==============================================================================\n",
      "\n",
      "Covariance estimator:\n",
      "KernelCovariance, Kernel: bartlett, Bandwidth: 7\n",
      "See full_summary for complete results\n"
     ]
    },
    {
     "name": "stderr",
     "output_type": "stream",
     "text": [
      "/Users/mrefermat/anaconda3/lib/python3.6/site-packages/ipykernel_launcher.py:10: FutureWarning: how in .resample() is deprecated\n",
      "the new syntax is .resample(...).last()\n",
      "  # Remove the CWD from sys.path while we load stuff.\n"
     ]
    }
   ],
   "source": [
    "portfolios=pd.DataFrame()\n",
    "for sec in ['Equities', 'Commodities', 'Fixed Income']:\n",
    "    for i in mon_amihud[sec].columns:\n",
    "        portfolios[sec + \" \"+ str(i)]=mon_amihud[sec][i]\n",
    "        \n",
    "ind=portfolios.index\n",
    "factor=pd.DataFrame()\n",
    "factor=get_aqr_factors('GLOBAL').loc[ind]\n",
    "#factor=pd.DataFrame()\n",
    "factor['MKT']=cleansed.resample(rule='m',how='last').pct_change().mean(axis=1).loc[ind]\n",
    "factor['Liquidity']=sector_PC.sum(axis=1).loc[ind]\n",
    "#factor['Median Sector Amihud']=amihud[d_map[sec]].median(axis=1).dropna()\n",
    "#factor['Median total Amihud']=amihud.median(axis=1).dropna()\n",
    "#factor['Mkt-RF']=FF['Mkt-RF']\n",
    "mod=LinearFactorModel(portfolios.dropna(),factor.loc[ind])\n",
    "res=mod.fit(cov_type='kernel')\n",
    "final_res['A-M beta']=res.risk_premia\n",
    "final_res['A-M tstat']=res.risk_premia_tstats\n",
    "print(res)"
   ]
  },
  {
   "cell_type": "markdown",
   "metadata": {},
   "source": [
    "# FHT method"
   ]
  },
  {
   "cell_type": "code",
   "execution_count": 18,
   "metadata": {},
   "outputs": [
    {
     "name": "stderr",
     "output_type": "stream",
     "text": [
      "/Users/mrefermat/git/FinancePhD/LiquidityMomentum/tsmom_model.py:283: FutureWarning: how in .resample() is deprecated\n",
      "the new syntax is .resample(...).count()\n",
      "  nonzero=x[x==0].resample(rule='m',how='count')\n",
      "/Users/mrefermat/git/FinancePhD/LiquidityMomentum/tsmom_model.py:284: FutureWarning: how in .resample() is deprecated\n",
      "the new syntax is .resample(...).count()\n",
      "  Z=(nonzero/x.resample(rule='m',how='count')).dropna()\n",
      "/Users/mrefermat/git/FinancePhD/LiquidityMomentum/tsmom_model.py:285: FutureWarning: pd.rolling_std is deprecated for Series and will be removed in a future version, replace with \n",
      "\tSeries.rolling(window=12,center=False).std()\n",
      "  data[c]=pd.Series(norm.cdf((1+Z)/2.),index=Z.index)*2*pd.rolling_std(x,12).resample(rule='m',how='last')\n",
      "/Users/mrefermat/git/FinancePhD/LiquidityMomentum/tsmom_model.py:285: FutureWarning: how in .resample() is deprecated\n",
      "the new syntax is .resample(...).last()\n",
      "  data[c]=pd.Series(norm.cdf((1+Z)/2.),index=Z.index)*2*pd.rolling_std(x,12).resample(rule='m',how='last')\n",
      "/Users/mrefermat/git/FinancePhD/LiquidityMomentum/tsmom_model.py:273: FutureWarning: pd.rolling_mean is deprecated for DataFrame and will be removed in a future version, replace with \n",
      "\tDataFrame.rolling(window=100000000,min_periods=3,center=False).mean()\n",
      "  return (df-pd.rolling_mean(df,100000000,min_periods=min_per))/pd.rolling_std(df,100000000,min_periods=min_per)\n",
      "/Users/mrefermat/git/FinancePhD/LiquidityMomentum/tsmom_model.py:273: FutureWarning: pd.rolling_std is deprecated for DataFrame and will be removed in a future version, replace with \n",
      "\tDataFrame.rolling(window=100000000,min_periods=3,center=False).std()\n",
      "  return (df-pd.rolling_mean(df,100000000,min_periods=min_per))/pd.rolling_std(df,100000000,min_periods=min_per)\n"
     ]
    }
   ],
   "source": [
    "FHT=calculate_FHT(cleansed)\n",
    "data=calc_zscore_expanding_window(FHT.dropna(how='all'),3).dropna(how='all')\n",
    "sector_zscores={}\n",
    "d_map=sector_map(FHT)\n",
    "for sect in d_map.keys():\n",
    "    sector_zscores[sect]=data[d_map[sect]].dropna(how='all')"
   ]
  },
  {
   "cell_type": "code",
   "execution_count": 19,
   "metadata": {},
   "outputs": [
    {
     "name": "stderr",
     "output_type": "stream",
     "text": [
      "/Users/mrefermat/git/FinancePhD/LiquidityMomentum/tsmom_model.py:238: FutureWarning: how in .resample() is deprecated\n",
      "the new syntax is .resample(...).median()\n",
      "  mkts=quantile_columns(rank_data.resample(rule='a',how='median'),year,number_of_buckets,i)\n",
      "/Users/mrefermat/git/FinancePhD/LiquidityMomentum/tsmom_model.py:239: FutureWarning: how in .resample() is deprecated\n",
      "the new syntax is .resample(...).last()\n",
      "  rtns = price_data.resample(rule='m',how='last')[mkts].pct_change()[str(y+1)].mean(axis=1)\n"
     ]
    }
   ],
   "source": [
    "sector_portfolio_sorts_FHT={}\n",
    "for s in sector_zscores.keys():\n",
    "    sector_portfolio_sorts_FHT[s]=quantile_portfolios_annual(sector_zscores[s],cleansed,5)"
   ]
  },
  {
   "cell_type": "code",
   "execution_count": 20,
   "metadata": {},
   "outputs": [
    {
     "name": "stderr",
     "output_type": "stream",
     "text": [
      "/Users/mrefermat/git/FinancePhD/LiquidityMomentum/tsmom_model.py:273: FutureWarning: pd.rolling_mean is deprecated for DataFrame and will be removed in a future version, replace with \n",
      "\tDataFrame.rolling(window=100000000,min_periods=3,center=False).mean()\n",
      "  return (df-pd.rolling_mean(df,100000000,min_periods=min_per))/pd.rolling_std(df,100000000,min_periods=min_per)\n",
      "/Users/mrefermat/git/FinancePhD/LiquidityMomentum/tsmom_model.py:273: FutureWarning: pd.rolling_std is deprecated for DataFrame and will be removed in a future version, replace with \n",
      "\tDataFrame.rolling(window=100000000,min_periods=3,center=False).std()\n",
      "  return (df-pd.rolling_mean(df,100000000,min_periods=min_per))/pd.rolling_std(df,100000000,min_periods=min_per)\n"
     ]
    }
   ],
   "source": [
    "data=calc_zscore_expanding_window(FHT.dropna(how='all'),3).dropna(how='all')\n",
    "\n",
    "no_pc=3\n",
    "PPCA=p.PPCA()\n",
    "PPCA.fit(np.array(data),d=no_pc)\n",
    "pcs=pd.DataFrame()\n",
    "for i in range(0,no_pc,1):\n",
    "    x=pd.DataFrame(PPCA.C.T[i]*PPCA.data).sum(axis=1)\n",
    "    x.set_axis(labels=data.index,axis='index')\n",
    "    pcs[i]=x\n",
    "sector_PC = pcs"
   ]
  },
  {
   "cell_type": "markdown",
   "metadata": {},
   "source": [
    "# Using Anual sorts"
   ]
  },
  {
   "cell_type": "code",
   "execution_count": 21,
   "metadata": {},
   "outputs": [
    {
     "name": "stdout",
     "output_type": "stream",
     "text": [
      "                      LinearFactorModel Estimation Summary                      \n",
      "================================================================================\n",
      "No. Test Portfolios:                  9   R-squared:                      0.3986\n",
      "No. Factors:                          4   J-statistic:                    3.5810\n",
      "No. Observations:                   301   P-value                         0.6112\n",
      "Date:                  Tue, Apr 03 2018   Distribution:                  chi2(5)\n",
      "Time:                          19:32:21                                         \n",
      "Cov. Estimator:                  kernel                                         \n",
      "                                                                                \n",
      "                            Risk Premia Estimates                             \n",
      "==============================================================================\n",
      "            Parameter  Std. Err.     T-stat    P-value    Lower CI    Upper CI\n",
      "------------------------------------------------------------------------------\n",
      "VAL           -0.0055     0.0861    -0.0637     0.9492     -0.1742      0.1632\n",
      "MOM            0.0035     0.0816     0.0430     0.9657     -0.1564      0.1634\n",
      "MKT            0.0048     0.0027     1.7649     0.0776     -0.0005      0.0102\n",
      "Liquidity     -0.7368     17.113    -0.0431     0.9657     -34.277      32.804\n",
      "==============================================================================\n",
      "\n",
      "Covariance estimator:\n",
      "KernelCovariance, Kernel: bartlett, Bandwidth: 3\n",
      "See full_summary for complete results\n"
     ]
    },
    {
     "name": "stderr",
     "output_type": "stream",
     "text": [
      "/Users/mrefermat/anaconda3/lib/python3.6/site-packages/ipykernel_launcher.py:10: FutureWarning: how in .resample() is deprecated\n",
      "the new syntax is .resample(...).last()\n",
      "  # Remove the CWD from sys.path while we load stuff.\n"
     ]
    }
   ],
   "source": [
    "portfolios=pd.DataFrame()\n",
    "for sec in ['Equities', 'Commodities', 'Fixed Income']:\n",
    "    for i in mon_amihud[sec].columns:\n",
    "        portfolios[sec + \" \"+ str(i)]=sector_portfolio_sorts_FHT[sec][i]\n",
    "        \n",
    "ind=portfolios.index\n",
    "factor=pd.DataFrame()\n",
    "factor=get_aqr_factors('GLOBAL').loc[ind]\n",
    "#factor=pd.DataFrame()\n",
    "factor['MKT']=cleansed.resample(rule='m',how='last').pct_change().mean(axis=1).loc[ind]\n",
    "factor['Liquidity']=sector_PC.sum(axis=1).loc[ind]\n",
    "mod=LinearFactorModel(portfolios.dropna(),factor.loc[ind])\n",
    "res=mod.fit(cov_type='kernel')\n",
    "final_res['F-A beta']=res.risk_premia\n",
    "final_res['F-A tstat']=res.risk_premia_tstats\n",
    "print(res)"
   ]
  },
  {
   "cell_type": "markdown",
   "metadata": {},
   "source": [
    "# Using Monthly"
   ]
  },
  {
   "cell_type": "code",
   "execution_count": 22,
   "metadata": {},
   "outputs": [],
   "source": [
    "FHT_mon=read_monthly(amihud=False)"
   ]
  },
  {
   "cell_type": "code",
   "execution_count": 24,
   "metadata": {},
   "outputs": [
    {
     "name": "stdout",
     "output_type": "stream",
     "text": [
      "                      LinearFactorModel Estimation Summary                      \n",
      "================================================================================\n",
      "No. Test Portfolios:                  9   R-squared:                      0.4083\n",
      "No. Factors:                          4   J-statistic:                    7.7004\n",
      "No. Observations:                   300   P-value                         0.1735\n",
      "Date:                  Tue, Apr 03 2018   Distribution:                  chi2(5)\n",
      "Time:                          19:32:22                                         \n",
      "Cov. Estimator:                  kernel                                         \n",
      "                                                                                \n",
      "                            Risk Premia Estimates                             \n",
      "==============================================================================\n",
      "            Parameter  Std. Err.     T-stat    P-value    Lower CI    Upper CI\n",
      "------------------------------------------------------------------------------\n",
      "VAL            0.0102     0.0352     0.2892     0.7724     -0.0587      0.0791\n",
      "MOM           -0.0078     0.0291    -0.2692     0.7878     -0.0649      0.0492\n",
      "MKT            0.0051     0.0017     3.0804     0.0021      0.0019      0.0084\n",
      "Liquidity      1.6358     4.6662     0.3506     0.7259     -7.5098      10.781\n",
      "==============================================================================\n",
      "\n",
      "Covariance estimator:\n",
      "KernelCovariance, Kernel: bartlett, Bandwidth: 10\n",
      "See full_summary for complete results\n"
     ]
    },
    {
     "name": "stderr",
     "output_type": "stream",
     "text": [
      "/Users/mrefermat/anaconda3/lib/python3.6/site-packages/ipykernel_launcher.py:10: FutureWarning: how in .resample() is deprecated\n",
      "the new syntax is .resample(...).last()\n",
      "  # Remove the CWD from sys.path while we load stuff.\n"
     ]
    }
   ],
   "source": [
    "portfolios=pd.DataFrame()\n",
    "for sec in ['Equities', 'Commodities', 'Fixed Income']:\n",
    "    for i in mon_amihud[sec].columns:\n",
    "        portfolios[sec + \" \"+ str(i)]=FHT_mon[sec][i]\n",
    "        \n",
    "ind=portfolios.index\n",
    "factor=pd.DataFrame()\n",
    "factor=get_aqr_factors('GLOBAL').loc[ind]\n",
    "#factor=pd.DataFrame()\n",
    "factor['MKT']=cleansed.resample(rule='m',how='last').pct_change().mean(axis=1).loc[ind]\n",
    "factor['Liquidity']=sector_PC.sum(axis=1).loc[ind]\n",
    "mod=LinearFactorModel(portfolios.dropna(),factor.loc[ind])\n",
    "res=mod.fit(cov_type='kernel')\n",
    "final_res['F-M beta']=res.risk_premia\n",
    "final_res['F-M tstat']=res.risk_premia_tstats\n",
    "print(res)"
   ]
  },
  {
   "cell_type": "code",
   "execution_count": 28,
   "metadata": {},
   "outputs": [
    {
     "name": "stdout",
     "output_type": "stream",
     "text": [
      "\\begin{tabular}{lrrrr}\n",
      "\\toprule\n",
      "{} &   VAL &   MOM &   MKT &  Liquidity \\\\\n",
      "\\midrule\n",
      "A-A beta  &  0.00 & -0.00 &  0.01 &       3.33 \\\\\n",
      "A-A tstat &  0.16 & -0.26 &  2.29 &       0.42 \\\\\n",
      "A-M beta  & -0.00 &  0.00 &  0.00 &       0.55 \\\\\n",
      "A-M tstat & -0.31 &  0.25 &  1.84 &       0.31 \\\\\n",
      "F-A beta  & -0.01 &  0.00 &  0.00 &      -0.74 \\\\\n",
      "F-A tstat & -0.06 &  0.04 &  1.76 &      -0.04 \\\\\n",
      "F-M beta  &  0.01 & -0.01 &  0.01 &       1.64 \\\\\n",
      "F-M tstat &  0.29 & -0.27 &  3.08 &       0.35 \\\\\n",
      "\\bottomrule\n",
      "\\end{tabular}\n",
      "\n"
     ]
    }
   ],
   "source": [
    "print(final_res.round(2).T.to_latex())"
   ]
  },
  {
   "cell_type": "code",
   "execution_count": null,
   "metadata": {},
   "outputs": [],
   "source": []
  }
 ],
 "metadata": {
  "kernelspec": {
   "display_name": "Python 3",
   "language": "python",
   "name": "python3"
  },
  "language_info": {
   "codemirror_mode": {
    "name": "ipython",
    "version": 3
   },
   "file_extension": ".py",
   "mimetype": "text/x-python",
   "name": "python",
   "nbconvert_exporter": "python",
   "pygments_lexer": "ipython3",
   "version": "3.6.3"
  }
 },
 "nbformat": 4,
 "nbformat_minor": 2
}
