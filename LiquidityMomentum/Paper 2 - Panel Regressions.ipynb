{
 "cells": [
  {
   "cell_type": "code",
   "execution_count": 1,
   "metadata": {},
   "outputs": [],
   "source": [
    "%matplotlib inline\n",
    "import pandas as pd\n",
    "import seaborn as sns\n",
    "import math\n",
    "import linearmodels as lm\n",
    "from tsmom_model import *\n",
    "import numpy as np\n",
    "from datetime import datetime\n",
    "from linearmodels.asset_pricing import LinearFactorModel\n",
    "import statsmodels.formula.api as sm\n",
    "token=\"Us3wFmXGgAj_1cUtHAAR\""
   ]
  },
  {
   "cell_type": "code",
   "execution_count": 2,
   "metadata": {},
   "outputs": [],
   "source": [
    "import pylab\n",
    "sns.set(font_scale=3)\n",
    "pylab.rcParams['figure.figsize'] = (24, 18)"
   ]
  },
  {
   "cell_type": "code",
   "execution_count": 3,
   "metadata": {},
   "outputs": [
    {
     "name": "stderr",
     "output_type": "stream",
     "text": [
      "/Users/mrefermat/git/FinancePhD/LiquidityMomentum/tsmom_model.py:158: FutureWarning: how in .resample() is deprecated\n",
      "the new syntax is .resample(...).last()\n",
      "  data=pd.read_csv('./Price.csv',index_col=0,parse_dates=['Date']).resample(rule='d',how='last')\n",
      "/Users/mrefermat/git/FinancePhD/LiquidityMomentum/tsmom_model.py:160: FutureWarning: how in .resample() is deprecated\n",
      "the new syntax is .resample(...).last()\n",
      "  qd=pd.read_csv('./liquid_contracts.csv',index_col=0,parse_dates=['Date']).resample(rule='d',how='last')\n"
     ]
    }
   ],
   "source": [
    "cleansed=load_amihud_markets_price()"
   ]
  },
  {
   "cell_type": "code",
   "execution_count": 4,
   "metadata": {},
   "outputs": [
    {
     "name": "stderr",
     "output_type": "stream",
     "text": [
      "/Users/mrefermat/git/FinancePhD/LiquidityMomentum/tsmom_model.py:42: FutureWarning: how in .resample() is deprecated\n",
      "the new syntax is .resample(...).mean()\n",
      "  data=pd.read_csv('./Volume.csv',index_col=0,parse_dates=['Date']).resample(rule='d',how='mean')\n",
      "/Users/mrefermat/git/FinancePhD/LiquidityMomentum/tsmom_model.py:44: FutureWarning: how in .resample() is deprecated\n",
      "the new syntax is .resample(...).sum()\n",
      "  v=pd.read_csv('./volume_data.csv',index_col=0,parse_dates=['Date']).resample(rule='d',how='sum')\n",
      "/Users/mrefermat/git/FinancePhD/LiquidityMomentum/tsmom_model.py:46: FutureWarning: pd.rolling_mean is deprecated for DataFrame and will be removed in a future version, replace with \n",
      "\tDataFrame.rolling(window=250,min_periods=100,center=False).mean()\n",
      "  volume=pd.rolling_mean(v,250,min_periods=100).resample(rule='d',how='mean')[:'2016']\n",
      "/Users/mrefermat/git/FinancePhD/LiquidityMomentum/tsmom_model.py:46: FutureWarning: how in .resample() is deprecated\n",
      "the new syntax is .resample(...).mean()\n",
      "  volume=pd.rolling_mean(v,250,min_periods=100).resample(rule='d',how='mean')[:'2016']\n",
      "/Users/mrefermat/git/FinancePhD/LiquidityMomentum/tsmom_model.py:49: FutureWarning: pd.rolling_mean is deprecated for Series and will be removed in a future version, replace with \n",
      "\tSeries.rolling(window=250,min_periods=50,center=False).mean()\n",
      "  volume[name]=pd.rolling_mean(v2[x],250,min_periods=50).resample(rule='d',how='mean')\n",
      "/Users/mrefermat/git/FinancePhD/LiquidityMomentum/tsmom_model.py:49: FutureWarning: how in .resample() is deprecated\n",
      "the new syntax is .resample(...).mean()\n",
      "  volume[name]=pd.rolling_mean(v2[x],250,min_periods=50).resample(rule='d',how='mean')\n",
      "/Users/mrefermat/git/FinancePhD/LiquidityMomentum/tsmom_model.py:76: FutureWarning: how in .resample() is deprecated\n",
      "the new syntax is .resample(...).last()\n",
      "  fx=fx.resample(rule='d',how='last')\n",
      "/Users/mrefermat/git/FinancePhD/LiquidityMomentum/tsmom_model.py:77: FutureWarning: how in .resample() is deprecated\n",
      "the new syntax is .resample(...).last()\n",
      "  px=cleansed.resample(rule='d',how='last')\n",
      "/Users/mrefermat/git/FinancePhD/LiquidityMomentum/tsmom_model.py:85: FutureWarning: how in .resample() is deprecated\n",
      "the new syntax is .resample(...).mean()\n",
      "  x= (cleansed.pct_change().abs()/ total_vol).resample(rule='m',how='mean')\n"
     ]
    }
   ],
   "source": [
    "amihud=calculate_amihud_liquidity(cleansed)[:'2016'] "
   ]
  },
  {
   "cell_type": "markdown",
   "metadata": {},
   "source": [
    "# Linear Factor Model for Non-traded Factors\n",
    "\n",
    "Requires a two step process as proposed by Fama Macbeth (1973?).  Since the liquidity measures are not traded we need to run the below to get the factor loadings, $\\beta_i$ to the non traded factor:\n",
    "\n",
    "$$r_{it}^e =c_i + \\beta_if_t + \\varepsilon_{it}$$\n",
    "\n",
    "where $c_i$ is a throw away contant which demeans the factor.  \n"
   ]
  },
  {
   "cell_type": "code",
   "execution_count": 5,
   "metadata": {},
   "outputs": [
    {
     "name": "stderr",
     "output_type": "stream",
     "text": [
      "/Users/mrefermat/git/FinancePhD/LiquidityMomentum/tsmom_model.py:273: FutureWarning: pd.rolling_mean is deprecated for DataFrame and will be removed in a future version, replace with \n",
      "\tDataFrame.rolling(window=100000000,min_periods=3,center=False).mean()\n",
      "  return (df-pd.rolling_mean(df,100000000,min_periods=min_per))/pd.rolling_std(df,100000000,min_periods=min_per)\n",
      "/Users/mrefermat/git/FinancePhD/LiquidityMomentum/tsmom_model.py:273: FutureWarning: pd.rolling_std is deprecated for DataFrame and will be removed in a future version, replace with \n",
      "\tDataFrame.rolling(window=100000000,min_periods=3,center=False).std()\n",
      "  return (df-pd.rolling_mean(df,100000000,min_periods=min_per))/pd.rolling_std(df,100000000,min_periods=min_per)\n"
     ]
    }
   ],
   "source": [
    "data=calc_zscore_expanding_window(amihud.dropna(how='all'),3).dropna(how='all')\n",
    "sector_zscores={}\n",
    "sector_rtns={}\n",
    "d_map=sector_map(amihud)\n",
    "for sect in d_map.keys():\n",
    "    sector_zscores[sect]=data[d_map[sect]].dropna(how='all')\n",
    "    sector_rtns[sect]=cleansed[d_map[sect]].dropna(how='all')"
   ]
  },
  {
   "cell_type": "code",
   "execution_count": 6,
   "metadata": {},
   "outputs": [
    {
     "name": "stderr",
     "output_type": "stream",
     "text": [
      "/Users/mrefermat/anaconda3/lib/python3.6/site-packages/ipykernel_launcher.py:8: FutureWarning: how in .resample() is deprecated\n",
      "the new syntax is .resample(...).last()\n",
      "  \n",
      "/Users/mrefermat/anaconda3/lib/python3.6/site-packages/ipykernel_launcher.py:11: DeprecationWarning: \n",
      "Panel is deprecated and will be removed in a future version.\n",
      "The recommended way to represent these types of 3-dimensional data are with a MultiIndex on a DataFrame, via the Panel.to_frame() method\n",
      "Alternatively, you can use the xarray package http://xarray.pydata.org/en/stable/.\n",
      "Pandas provides a `.to_xarray()` method to help automate this conversion.\n",
      "\n",
      "  # This is added back by InteractiveShellApp.init_path()\n",
      "/Users/mrefermat/anaconda3/lib/python3.6/site-packages/ipykernel_launcher.py:12: DeprecationWarning: \n",
      "Panel is deprecated and will be removed in a future version.\n",
      "The recommended way to represent these types of 3-dimensional data are with a MultiIndex on a DataFrame, via the Panel.to_frame() method\n",
      "Alternatively, you can use the xarray package http://xarray.pydata.org/en/stable/.\n",
      "Pandas provides a `.to_xarray()` method to help automate this conversion.\n",
      "\n",
      "  if sys.path[0] == '':\n",
      "/Users/mrefermat/anaconda3/lib/python3.6/site-packages/linearmodels/utility.py:490: MissingValueWarning: \n",
      "Inputs contain missing values. Dropping rows with missing observations.\n",
      "  warnings.warn(missing_value_warning_msg, MissingValueWarning)\n"
     ]
    }
   ],
   "source": [
    "results_df=pd.DataFrame()\n",
    "for sect in sector_zscores.keys():\n",
    "    c_matrix=[]\n",
    "    tstats=[]\n",
    "    for t in [0,1]:\n",
    "        for ent in [0,1]:\n",
    "            data=pd.DataFrame(sector_zscores[sect].stack()) \n",
    "            px=pd.DataFrame(sector_rtns[sect].resample(rule='m',how='last').pct_change().shift().stack())\n",
    "            ind=data.index\n",
    "            px=px.loc[ind]\n",
    "            res=lm.PanelOLS(px.to_panel()[0],\n",
    "                    data.to_panel()[0], \n",
    "                    time_effects=t,\n",
    "                    entity_effects=ent).fit(cov_type='clustered',cluster_time=True)\n",
    "            c_matrix.append(res.params.Exog)\n",
    "            tstats.append(res.tstats.Exog)\n",
    "    results_df[sect]=pd.Series(c_matrix)*100\n",
    "    results_df[sect + 'Tstats']=pd.Series(tstats)\n",
    "results_df=results_df.set_index([['None','Ent','Time','Ent and Time']])"
   ]
  },
  {
   "cell_type": "code",
   "execution_count": 8,
   "metadata": {},
   "outputs": [
    {
     "data": {
      "text/html": [
       "<div>\n",
       "<style>\n",
       "    .dataframe thead tr:only-child th {\n",
       "        text-align: right;\n",
       "    }\n",
       "\n",
       "    .dataframe thead th {\n",
       "        text-align: left;\n",
       "    }\n",
       "\n",
       "    .dataframe tbody tr th {\n",
       "        vertical-align: top;\n",
       "    }\n",
       "</style>\n",
       "<table border=\"1\" class=\"dataframe\">\n",
       "  <thead>\n",
       "    <tr style=\"text-align: right;\">\n",
       "      <th></th>\n",
       "      <th>None</th>\n",
       "      <th>Ent</th>\n",
       "      <th>Time</th>\n",
       "      <th>Ent and Time</th>\n",
       "    </tr>\n",
       "  </thead>\n",
       "  <tbody>\n",
       "    <tr>\n",
       "      <th>Equities</th>\n",
       "      <td>-1.29</td>\n",
       "      <td>-1.69</td>\n",
       "      <td>-0.37</td>\n",
       "      <td>-0.55</td>\n",
       "    </tr>\n",
       "    <tr>\n",
       "      <th>EquitiesTstats</th>\n",
       "      <td>-8.61</td>\n",
       "      <td>-7.41</td>\n",
       "      <td>-3.75</td>\n",
       "      <td>-4.41</td>\n",
       "    </tr>\n",
       "    <tr>\n",
       "      <th>Agriculturals</th>\n",
       "      <td>-1.15</td>\n",
       "      <td>-1.40</td>\n",
       "      <td>-0.83</td>\n",
       "      <td>-1.12</td>\n",
       "    </tr>\n",
       "    <tr>\n",
       "      <th>AgriculturalsTstats</th>\n",
       "      <td>-7.41</td>\n",
       "      <td>-6.90</td>\n",
       "      <td>-5.88</td>\n",
       "      <td>-6.57</td>\n",
       "    </tr>\n",
       "    <tr>\n",
       "      <th>Currencies</th>\n",
       "      <td>-0.24</td>\n",
       "      <td>-0.25</td>\n",
       "      <td>-0.16</td>\n",
       "      <td>-0.15</td>\n",
       "    </tr>\n",
       "    <tr>\n",
       "      <th>CurrenciesTstats</th>\n",
       "      <td>-2.50</td>\n",
       "      <td>-2.38</td>\n",
       "      <td>-2.11</td>\n",
       "      <td>-1.75</td>\n",
       "    </tr>\n",
       "    <tr>\n",
       "      <th>Fixed Income</th>\n",
       "      <td>-0.04</td>\n",
       "      <td>0.01</td>\n",
       "      <td>-0.04</td>\n",
       "      <td>-0.04</td>\n",
       "    </tr>\n",
       "    <tr>\n",
       "      <th>Fixed IncomeTstats</th>\n",
       "      <td>-1.02</td>\n",
       "      <td>0.26</td>\n",
       "      <td>-1.07</td>\n",
       "      <td>-1.10</td>\n",
       "    </tr>\n",
       "    <tr>\n",
       "      <th>Metals</th>\n",
       "      <td>-0.89</td>\n",
       "      <td>-0.89</td>\n",
       "      <td>-0.43</td>\n",
       "      <td>-0.50</td>\n",
       "    </tr>\n",
       "    <tr>\n",
       "      <th>MetalsTstats</th>\n",
       "      <td>-3.16</td>\n",
       "      <td>-2.46</td>\n",
       "      <td>-1.98</td>\n",
       "      <td>-2.16</td>\n",
       "    </tr>\n",
       "    <tr>\n",
       "      <th>Energies</th>\n",
       "      <td>-1.86</td>\n",
       "      <td>-2.15</td>\n",
       "      <td>-1.22</td>\n",
       "      <td>-1.77</td>\n",
       "    </tr>\n",
       "    <tr>\n",
       "      <th>EnergiesTstats</th>\n",
       "      <td>-5.45</td>\n",
       "      <td>-4.46</td>\n",
       "      <td>-3.69</td>\n",
       "      <td>-4.18</td>\n",
       "    </tr>\n",
       "  </tbody>\n",
       "</table>\n",
       "</div>"
      ],
      "text/plain": [
       "                     None   Ent  Time  Ent and Time\n",
       "Equities            -1.29 -1.69 -0.37         -0.55\n",
       "EquitiesTstats      -8.61 -7.41 -3.75         -4.41\n",
       "Agriculturals       -1.15 -1.40 -0.83         -1.12\n",
       "AgriculturalsTstats -7.41 -6.90 -5.88         -6.57\n",
       "Currencies          -0.24 -0.25 -0.16         -0.15\n",
       "CurrenciesTstats    -2.50 -2.38 -2.11         -1.75\n",
       "Fixed Income        -0.04  0.01 -0.04         -0.04\n",
       "Fixed IncomeTstats  -1.02  0.26 -1.07         -1.10\n",
       "Metals              -0.89 -0.89 -0.43         -0.50\n",
       "MetalsTstats        -3.16 -2.46 -1.98         -2.16\n",
       "Energies            -1.86 -2.15 -1.22         -1.77\n",
       "EnergiesTstats      -5.45 -4.46 -3.69         -4.18"
      ]
     },
     "execution_count": 8,
     "metadata": {},
     "output_type": "execute_result"
    }
   ],
   "source": [
    "results_df.T.round(2)"
   ]
  },
  {
   "cell_type": "code",
   "execution_count": 9,
   "metadata": {},
   "outputs": [
    {
     "name": "stdout",
     "output_type": "stream",
     "text": [
      "\\begin{tabular}{lrrrr}\n",
      "\\toprule\n",
      "{} &  None &   Ent &  Time &  Ent and Time \\\\\n",
      "\\midrule\n",
      "Equities            & -1.29 & -1.69 & -0.37 &         -0.55 \\\\\n",
      "EquitiesTstats      & -8.61 & -7.41 & -3.75 &         -4.41 \\\\\n",
      "Agriculturals       & -1.15 & -1.40 & -0.83 &         -1.12 \\\\\n",
      "AgriculturalsTstats & -7.41 & -6.90 & -5.88 &         -6.57 \\\\\n",
      "Currencies          & -0.24 & -0.25 & -0.16 &         -0.15 \\\\\n",
      "CurrenciesTstats    & -2.50 & -2.38 & -2.11 &         -1.75 \\\\\n",
      "Fixed Income        & -0.04 &  0.01 & -0.04 &         -0.04 \\\\\n",
      "Fixed IncomeTstats  & -1.02 &  0.26 & -1.07 &         -1.10 \\\\\n",
      "Metals              & -0.89 & -0.89 & -0.43 &         -0.50 \\\\\n",
      "MetalsTstats        & -3.16 & -2.46 & -1.98 &         -2.16 \\\\\n",
      "Energies            & -1.86 & -2.15 & -1.22 &         -1.77 \\\\\n",
      "EnergiesTstats      & -5.45 & -4.46 & -3.69 &         -4.18 \\\\\n",
      "\\bottomrule\n",
      "\\end{tabular}\n",
      "\n"
     ]
    }
   ],
   "source": [
    "print(results_df.T.round(2).to_latex())"
   ]
  },
  {
   "cell_type": "markdown",
   "metadata": {},
   "source": [
    "# FHT Annual portfolio sorts"
   ]
  },
  {
   "cell_type": "code",
   "execution_count": 10,
   "metadata": {},
   "outputs": [
    {
     "name": "stderr",
     "output_type": "stream",
     "text": [
      "/Users/mrefermat/git/FinancePhD/LiquidityMomentum/tsmom_model.py:283: FutureWarning: how in .resample() is deprecated\n",
      "the new syntax is .resample(...).count()\n",
      "  nonzero=x[x==0].resample(rule='m',how='count')\n",
      "/Users/mrefermat/git/FinancePhD/LiquidityMomentum/tsmom_model.py:284: FutureWarning: how in .resample() is deprecated\n",
      "the new syntax is .resample(...).count()\n",
      "  Z=(nonzero/x.resample(rule='m',how='count')).dropna()\n",
      "/Users/mrefermat/git/FinancePhD/LiquidityMomentum/tsmom_model.py:285: FutureWarning: pd.rolling_std is deprecated for Series and will be removed in a future version, replace with \n",
      "\tSeries.rolling(window=12,center=False).std()\n",
      "  data[c]=pd.Series(norm.cdf((1+Z)/2.),index=Z.index)*2*pd.rolling_std(x,12).resample(rule='m',how='last')\n",
      "/Users/mrefermat/git/FinancePhD/LiquidityMomentum/tsmom_model.py:285: FutureWarning: how in .resample() is deprecated\n",
      "the new syntax is .resample(...).last()\n",
      "  data[c]=pd.Series(norm.cdf((1+Z)/2.),index=Z.index)*2*pd.rolling_std(x,12).resample(rule='m',how='last')\n",
      "/Users/mrefermat/git/FinancePhD/LiquidityMomentum/tsmom_model.py:273: FutureWarning: pd.rolling_mean is deprecated for DataFrame and will be removed in a future version, replace with \n",
      "\tDataFrame.rolling(window=100000000,min_periods=3,center=False).mean()\n",
      "  return (df-pd.rolling_mean(df,100000000,min_periods=min_per))/pd.rolling_std(df,100000000,min_periods=min_per)\n",
      "/Users/mrefermat/git/FinancePhD/LiquidityMomentum/tsmom_model.py:273: FutureWarning: pd.rolling_std is deprecated for DataFrame and will be removed in a future version, replace with \n",
      "\tDataFrame.rolling(window=100000000,min_periods=3,center=False).std()\n",
      "  return (df-pd.rolling_mean(df,100000000,min_periods=min_per))/pd.rolling_std(df,100000000,min_periods=min_per)\n"
     ]
    }
   ],
   "source": [
    "FHT=calculate_FHT(cleansed)\n",
    "data=calc_zscore_expanding_window(FHT.dropna(how='all'),3).dropna(how='all')\n",
    "sector_zscores_FHT={}\n",
    "d_map=sector_map(FHT)\n",
    "for sect in d_map.keys():\n",
    "    sector_zscores_FHT[sect]=data[d_map[sect]].dropna(how='all')"
   ]
  },
  {
   "cell_type": "code",
   "execution_count": 11,
   "metadata": {},
   "outputs": [
    {
     "name": "stderr",
     "output_type": "stream",
     "text": [
      "/Users/mrefermat/anaconda3/lib/python3.6/site-packages/ipykernel_launcher.py:8: FutureWarning: how in .resample() is deprecated\n",
      "the new syntax is .resample(...).last()\n",
      "  \n",
      "/Users/mrefermat/anaconda3/lib/python3.6/site-packages/ipykernel_launcher.py:11: DeprecationWarning: \n",
      "Panel is deprecated and will be removed in a future version.\n",
      "The recommended way to represent these types of 3-dimensional data are with a MultiIndex on a DataFrame, via the Panel.to_frame() method\n",
      "Alternatively, you can use the xarray package http://xarray.pydata.org/en/stable/.\n",
      "Pandas provides a `.to_xarray()` method to help automate this conversion.\n",
      "\n",
      "  # This is added back by InteractiveShellApp.init_path()\n",
      "/Users/mrefermat/anaconda3/lib/python3.6/site-packages/ipykernel_launcher.py:12: DeprecationWarning: \n",
      "Panel is deprecated and will be removed in a future version.\n",
      "The recommended way to represent these types of 3-dimensional data are with a MultiIndex on a DataFrame, via the Panel.to_frame() method\n",
      "Alternatively, you can use the xarray package http://xarray.pydata.org/en/stable/.\n",
      "Pandas provides a `.to_xarray()` method to help automate this conversion.\n",
      "\n",
      "  if sys.path[0] == '':\n",
      "/Users/mrefermat/anaconda3/lib/python3.6/site-packages/linearmodels/utility.py:490: MissingValueWarning: \n",
      "Inputs contain missing values. Dropping rows with missing observations.\n",
      "  warnings.warn(missing_value_warning_msg, MissingValueWarning)\n"
     ]
    }
   ],
   "source": [
    "results_df_FHT=pd.DataFrame()\n",
    "for sect in sector_zscores.keys():\n",
    "    c_matrix=[]\n",
    "    tstats=[]\n",
    "    for t in [0,1]:\n",
    "        for ent in [0,1]:\n",
    "            data=pd.DataFrame(sector_zscores_FHT[sect].stack()) \n",
    "            px=pd.DataFrame(sector_rtns[sect].resample(rule='m',how='last').pct_change().shift().stack())\n",
    "            ind=data.index\n",
    "            px=px.loc[ind]\n",
    "            res=lm.PanelOLS(px.to_panel()[0],\n",
    "                    data.to_panel()[0], \n",
    "                    time_effects=t,\n",
    "                    entity_effects=ent).fit(cov_type='clustered',cluster_time=True)\n",
    "            c_matrix.append(res.params.Exog)\n",
    "            tstats.append(res.tstats.Exog)\n",
    "    results_df_FHT[sect]=pd.Series(c_matrix)*100\n",
    "    results_df_FHT[sect + 'Tstats']=pd.Series(tstats)\n",
    "results_df_FHT=results_df_FHT.set_index([['None','Ent','Time','Ent and Time']])"
   ]
  },
  {
   "cell_type": "code",
   "execution_count": 12,
   "metadata": {},
   "outputs": [
    {
     "data": {
      "text/html": [
       "<div>\n",
       "<style>\n",
       "    .dataframe thead tr:only-child th {\n",
       "        text-align: right;\n",
       "    }\n",
       "\n",
       "    .dataframe thead th {\n",
       "        text-align: left;\n",
       "    }\n",
       "\n",
       "    .dataframe tbody tr th {\n",
       "        vertical-align: top;\n",
       "    }\n",
       "</style>\n",
       "<table border=\"1\" class=\"dataframe\">\n",
       "  <thead>\n",
       "    <tr style=\"text-align: right;\">\n",
       "      <th></th>\n",
       "      <th>None</th>\n",
       "      <th>Ent</th>\n",
       "      <th>Time</th>\n",
       "      <th>Ent and Time</th>\n",
       "    </tr>\n",
       "  </thead>\n",
       "  <tbody>\n",
       "    <tr>\n",
       "      <th>Equities</th>\n",
       "      <td>-1.29</td>\n",
       "      <td>-1.29</td>\n",
       "      <td>-0.40</td>\n",
       "      <td>-0.36</td>\n",
       "    </tr>\n",
       "    <tr>\n",
       "      <th>EquitiesTstats</th>\n",
       "      <td>-5.62</td>\n",
       "      <td>-4.88</td>\n",
       "      <td>-2.47</td>\n",
       "      <td>-1.92</td>\n",
       "    </tr>\n",
       "    <tr>\n",
       "      <th>Agriculturals</th>\n",
       "      <td>-0.53</td>\n",
       "      <td>-0.58</td>\n",
       "      <td>-0.43</td>\n",
       "      <td>-0.43</td>\n",
       "    </tr>\n",
       "    <tr>\n",
       "      <th>AgriculturalsTstats</th>\n",
       "      <td>-2.47</td>\n",
       "      <td>-2.71</td>\n",
       "      <td>-2.79</td>\n",
       "      <td>-2.81</td>\n",
       "    </tr>\n",
       "    <tr>\n",
       "      <th>Currencies</th>\n",
       "      <td>-0.27</td>\n",
       "      <td>-0.28</td>\n",
       "      <td>-0.16</td>\n",
       "      <td>-0.18</td>\n",
       "    </tr>\n",
       "    <tr>\n",
       "      <th>CurrenciesTstats</th>\n",
       "      <td>-2.24</td>\n",
       "      <td>-2.34</td>\n",
       "      <td>-1.46</td>\n",
       "      <td>-1.56</td>\n",
       "    </tr>\n",
       "    <tr>\n",
       "      <th>Fixed Income</th>\n",
       "      <td>0.00</td>\n",
       "      <td>0.01</td>\n",
       "      <td>0.01</td>\n",
       "      <td>-0.01</td>\n",
       "    </tr>\n",
       "    <tr>\n",
       "      <th>Fixed IncomeTstats</th>\n",
       "      <td>0.15</td>\n",
       "      <td>0.29</td>\n",
       "      <td>0.24</td>\n",
       "      <td>-0.41</td>\n",
       "    </tr>\n",
       "    <tr>\n",
       "      <th>Metals</th>\n",
       "      <td>0.25</td>\n",
       "      <td>0.17</td>\n",
       "      <td>0.29</td>\n",
       "      <td>0.29</td>\n",
       "    </tr>\n",
       "    <tr>\n",
       "      <th>MetalsTstats</th>\n",
       "      <td>0.84</td>\n",
       "      <td>0.59</td>\n",
       "      <td>2.21</td>\n",
       "      <td>2.07</td>\n",
       "    </tr>\n",
       "    <tr>\n",
       "      <th>Energies</th>\n",
       "      <td>-0.37</td>\n",
       "      <td>-0.43</td>\n",
       "      <td>-0.10</td>\n",
       "      <td>-0.07</td>\n",
       "    </tr>\n",
       "    <tr>\n",
       "      <th>EnergiesTstats</th>\n",
       "      <td>-1.07</td>\n",
       "      <td>-1.23</td>\n",
       "      <td>-0.39</td>\n",
       "      <td>-0.25</td>\n",
       "    </tr>\n",
       "  </tbody>\n",
       "</table>\n",
       "</div>"
      ],
      "text/plain": [
       "                     None   Ent  Time  Ent and Time\n",
       "Equities            -1.29 -1.29 -0.40         -0.36\n",
       "EquitiesTstats      -5.62 -4.88 -2.47         -1.92\n",
       "Agriculturals       -0.53 -0.58 -0.43         -0.43\n",
       "AgriculturalsTstats -2.47 -2.71 -2.79         -2.81\n",
       "Currencies          -0.27 -0.28 -0.16         -0.18\n",
       "CurrenciesTstats    -2.24 -2.34 -1.46         -1.56\n",
       "Fixed Income         0.00  0.01  0.01         -0.01\n",
       "Fixed IncomeTstats   0.15  0.29  0.24         -0.41\n",
       "Metals               0.25  0.17  0.29          0.29\n",
       "MetalsTstats         0.84  0.59  2.21          2.07\n",
       "Energies            -0.37 -0.43 -0.10         -0.07\n",
       "EnergiesTstats      -1.07 -1.23 -0.39         -0.25"
      ]
     },
     "execution_count": 12,
     "metadata": {},
     "output_type": "execute_result"
    }
   ],
   "source": [
    "results_df_FHT.T.round(2)"
   ]
  },
  {
   "cell_type": "code",
   "execution_count": 13,
   "metadata": {},
   "outputs": [
    {
     "name": "stdout",
     "output_type": "stream",
     "text": [
      "\\begin{tabular}{lrrrr}\n",
      "\\toprule\n",
      "{} &  None &   Ent &  Time &  Ent and Time \\\\\n",
      "\\midrule\n",
      "Equities            & -1.29 & -1.29 & -0.40 &         -0.36 \\\\\n",
      "EquitiesTstats      & -5.62 & -4.88 & -2.47 &         -1.92 \\\\\n",
      "Agriculturals       & -0.53 & -0.58 & -0.43 &         -0.43 \\\\\n",
      "AgriculturalsTstats & -2.47 & -2.71 & -2.79 &         -2.81 \\\\\n",
      "Currencies          & -0.27 & -0.28 & -0.16 &         -0.18 \\\\\n",
      "CurrenciesTstats    & -2.24 & -2.34 & -1.46 &         -1.56 \\\\\n",
      "Fixed Income        &  0.00 &  0.01 &  0.01 &         -0.01 \\\\\n",
      "Fixed IncomeTstats  &  0.15 &  0.29 &  0.24 &         -0.41 \\\\\n",
      "Metals              &  0.25 &  0.17 &  0.29 &          0.29 \\\\\n",
      "MetalsTstats        &  0.84 &  0.59 &  2.21 &          2.07 \\\\\n",
      "Energies            & -0.37 & -0.43 & -0.10 &         -0.07 \\\\\n",
      "EnergiesTstats      & -1.07 & -1.23 & -0.39 &         -0.25 \\\\\n",
      "\\bottomrule\n",
      "\\end{tabular}\n",
      "\n"
     ]
    }
   ],
   "source": [
    "print(results_df_FHT.T.round(2).to_latex())"
   ]
  }
 ],
 "metadata": {
  "kernelspec": {
   "display_name": "Python 3",
   "language": "python",
   "name": "python3"
  },
  "language_info": {
   "codemirror_mode": {
    "name": "ipython",
    "version": 3
   },
   "file_extension": ".py",
   "mimetype": "text/x-python",
   "name": "python",
   "nbconvert_exporter": "python",
   "pygments_lexer": "ipython3",
   "version": "3.6.3"
  }
 },
 "nbformat": 4,
 "nbformat_minor": 2
}
