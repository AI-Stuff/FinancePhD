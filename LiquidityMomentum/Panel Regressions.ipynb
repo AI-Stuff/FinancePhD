{
 "cells": [
  {
   "cell_type": "code",
   "execution_count": 5,
   "metadata": {},
   "outputs": [],
   "source": [
    "%matplotlib inline\n",
    "import pandas as pd\n",
    "import seaborn as sns\n",
    "import math\n",
    "import linearmodels as lm\n",
    "from tsmom_model3 import *\n",
    "import numpy as np\n",
    "from datetime import datetime\n",
    "import statsmodels.formula.api as sm\n",
    "token=\"Us3wFmXGgAj_1cUtHAAR\""
   ]
  },
  {
   "cell_type": "code",
   "execution_count": 6,
   "metadata": {},
   "outputs": [],
   "source": [
    "import pylab\n",
    "sns.set(font_scale=3)\n",
    "pylab.rcParams['figure.figsize'] = (24, 18)"
   ]
  },
  {
   "cell_type": "code",
   "execution_count": 7,
   "metadata": {},
   "outputs": [
    {
     "name": "stderr",
     "output_type": "stream",
     "text": [
      "/Users/mrefermat/git/FinancePhD/LiquidityMomentum/tsmom_model3.py:36: FutureWarning: how in .resample() is deprecated\n",
      "the new syntax is .resample(...).last()\n",
      "  data=pd.read_csv('./Price.csv',index_col=0,parse_dates=['Date']).resample(rule='d',how='last')\n",
      "/Users/mrefermat/git/FinancePhD/LiquidityMomentum/tsmom_model3.py:38: FutureWarning: how in .resample() is deprecated\n",
      "the new syntax is .resample(...).last()\n",
      "  qd=pd.read_csv('./liquid_contracts.csv',index_col=0,parse_dates=['Date']).resample(rule='d',how='last')\n"
     ]
    }
   ],
   "source": [
    "cleansed=load_amihud_markets_price()"
   ]
  },
  {
   "cell_type": "code",
   "execution_count": 8,
   "metadata": {},
   "outputs": [
    {
     "name": "stderr",
     "output_type": "stream",
     "text": [
      "/Users/mrefermat/git/FinancePhD/LiquidityMomentum/tsmom_model3.py:25: FutureWarning: how in .resample() is deprecated\n",
      "the new syntax is .resample(...).mean()\n",
      "  data=pd.read_csv('./Volume.csv',index_col=0,parse_dates=['Date']).resample(rule='d',how='mean')\n",
      "/Users/mrefermat/git/FinancePhD/LiquidityMomentum/tsmom_model3.py:27: FutureWarning: how in .resample() is deprecated\n",
      "the new syntax is .resample(...).sum()\n",
      "  v=pd.read_csv('./volume_data.csv',index_col=0,parse_dates=['Date']).resample(rule='d',how='sum')\n",
      "/Users/mrefermat/git/FinancePhD/LiquidityMomentum/tsmom_model3.py:29: FutureWarning: pd.rolling_mean is deprecated for DataFrame and will be removed in a future version, replace with \n",
      "\tDataFrame.rolling(window=250,min_periods=100,center=False).mean()\n",
      "  volume=pd.rolling_mean(v,250,min_periods=100).resample(rule='d',how='mean')[:'2016']\n",
      "/Users/mrefermat/git/FinancePhD/LiquidityMomentum/tsmom_model3.py:29: FutureWarning: how in .resample() is deprecated\n",
      "the new syntax is .resample(...).mean()\n",
      "  volume=pd.rolling_mean(v,250,min_periods=100).resample(rule='d',how='mean')[:'2016']\n",
      "/Users/mrefermat/git/FinancePhD/LiquidityMomentum/tsmom_model3.py:32: FutureWarning: pd.rolling_mean is deprecated for Series and will be removed in a future version, replace with \n",
      "\tSeries.rolling(window=250,min_periods=50,center=False).mean()\n",
      "  volume[name]=pd.rolling_mean(v2[x],250,min_periods=50).resample(rule='d',how='mean')\n",
      "/Users/mrefermat/git/FinancePhD/LiquidityMomentum/tsmom_model3.py:32: FutureWarning: how in .resample() is deprecated\n",
      "the new syntax is .resample(...).mean()\n",
      "  volume[name]=pd.rolling_mean(v2[x],250,min_periods=50).resample(rule='d',how='mean')\n",
      "/Users/mrefermat/git/FinancePhD/LiquidityMomentum/tsmom_model3.py:89: FutureWarning: how in .resample() is deprecated\n",
      "the new syntax is .resample(...).last()\n",
      "  fx=fx.resample(rule='d',how='last')\n",
      "/Users/mrefermat/git/FinancePhD/LiquidityMomentum/tsmom_model3.py:90: FutureWarning: how in .resample() is deprecated\n",
      "the new syntax is .resample(...).last()\n",
      "  px=cleansed.resample(rule='d',how='last')\n",
      "/Users/mrefermat/git/FinancePhD/LiquidityMomentum/tsmom_model3.py:98: FutureWarning: how in .resample() is deprecated\n",
      "the new syntax is .resample(...).mean()\n",
      "  x= (cleansed.pct_change().abs()/ total_vol).resample(rule='m',how='mean')\n"
     ]
    }
   ],
   "source": [
    "amihud=calculate_amihud_liquidity(cleansed)[:'2016'] "
   ]
  },
  {
   "cell_type": "markdown",
   "metadata": {},
   "source": [
    "# Panel OLS regression\n",
    "\n",
    "To see if the liquidity values are predictive I run the following regression\n",
    "\n",
    "$$ r_{t+1}^i = a^i + b_t + cL_t^i + \\varepsilon_{t+1}^i $$\n"
   ]
  },
  {
   "cell_type": "markdown",
   "metadata": {},
   "source": [
    "where:\n",
    "* $\\alpha_i$ is entity effects\n",
    "* $b_t$ is time effects\n",
    "* $L_t^i$ is the liquidity measure for the $i$th asset"
   ]
  },
  {
   "cell_type": "code",
   "execution_count": 21,
   "metadata": {},
   "outputs": [
    {
     "name": "stderr",
     "output_type": "stream",
     "text": [
      "/Users/mrefermat/git/FinancePhD/LiquidityMomentum/tsmom_model3.py:71: FutureWarning: pd.rolling_mean is deprecated for DataFrame and will be removed in a future version, replace with \n",
      "\tDataFrame.rolling(window=100000000,min_periods=3,center=False).mean()\n",
      "  return (df-pd.rolling_mean(df,100000000,min_periods=min_per))/pd.rolling_std(df,100000000,min_periods=min_per)\n",
      "/Users/mrefermat/git/FinancePhD/LiquidityMomentum/tsmom_model3.py:71: FutureWarning: pd.rolling_std is deprecated for DataFrame and will be removed in a future version, replace with \n",
      "\tDataFrame.rolling(window=100000000,min_periods=3,center=False).std()\n",
      "  return (df-pd.rolling_mean(df,100000000,min_periods=min_per))/pd.rolling_std(df,100000000,min_periods=min_per)\n"
     ]
    }
   ],
   "source": [
    "data=calc_zscore_expanding_window(amihud.dropna(how='all'),3).dropna(how='all')\n",
    "sector_zscores={}\n",
    "sector_rtns={}\n",
    "d_map=sector_map(amihud)\n",
    "for sect in d_map.keys():\n",
    "    sector_zscores[sect]=data[d_map[sect]].dropna(how='all')\n",
    "    sector_rtns[sect]=cleansed[d_map[sect]].dropna(how='all')"
   ]
  },
  {
   "cell_type": "code",
   "execution_count": 85,
   "metadata": {},
   "outputs": [
    {
     "name": "stderr",
     "output_type": "stream",
     "text": [
      "/Users/mrefermat/anaconda3/lib/python3.6/site-packages/ipykernel_launcher.py:2: FutureWarning: how in .resample() is deprecated\n",
      "the new syntax is .resample(...).last()\n",
      "  \n"
     ]
    }
   ],
   "source": [
    "data=pd.DataFrame(sector_zscores['Equities'].stack())\n",
    "px=pd.DataFrame(sector_rtns['Equities'].resample(rule='m',how='last').pct_change().shift().stack())\n",
    "ind=data.index\n",
    "px=px.loc[ind]"
   ]
  },
  {
   "cell_type": "code",
   "execution_count": 101,
   "metadata": {},
   "outputs": [
    {
     "name": "stderr",
     "output_type": "stream",
     "text": [
      "/Users/mrefermat/anaconda3/lib/python3.6/site-packages/ipykernel_launcher.py:2: DeprecationWarning: \n",
      "Panel is deprecated and will be removed in a future version.\n",
      "The recommended way to represent these types of 3-dimensional data are with a MultiIndex on a DataFrame, via the Panel.to_frame() method\n",
      "Alternatively, you can use the xarray package http://xarray.pydata.org/en/stable/.\n",
      "Pandas provides a `.to_xarray()` method to help automate this conversion.\n",
      "\n",
      "  \n",
      "/Users/mrefermat/anaconda3/lib/python3.6/site-packages/ipykernel_launcher.py:3: DeprecationWarning: \n",
      "Panel is deprecated and will be removed in a future version.\n",
      "The recommended way to represent these types of 3-dimensional data are with a MultiIndex on a DataFrame, via the Panel.to_frame() method\n",
      "Alternatively, you can use the xarray package http://xarray.pydata.org/en/stable/.\n",
      "Pandas provides a `.to_xarray()` method to help automate this conversion.\n",
      "\n",
      "  This is separate from the ipykernel package so we can avoid doing imports until\n"
     ]
    }
   ],
   "source": [
    "ind=data.index\n",
    "res=lm.PanelOLS(px.to_panel()[0],\n",
    "                data.to_panel()[0], \n",
    "                time_effects=False,\n",
    "                entity_effects=False).fit(cov_type='clustered',cluster_time=True)"
   ]
  },
  {
   "cell_type": "code",
   "execution_count": 102,
   "metadata": {},
   "outputs": [
    {
     "name": "stdout",
     "output_type": "stream",
     "text": [
      "                          PanelOLS Estimation Summary                           \n",
      "================================================================================\n",
      "Dep. Variable:                    Dep   R-squared:                        0.0380\n",
      "Estimator:                   PanelOLS   R-squared (Between):             -0.2297\n",
      "No. Observations:                4861   R-squared (Within):               0.0411\n",
      "Date:                Sat, Mar 10 2018   R-squared (Overall):              0.0380\n",
      "Time:                        08:36:29   Log-likelihood                    6447.4\n",
      "Cov. Estimator:             Clustered                                           \n",
      "                                        F-statistic:                      191.86\n",
      "Entities:                          28   P-value                           0.0000\n",
      "Avg Obs:                       173.61   Distribution:                  F(1,4860)\n",
      "Min Obs:                       27.000                                           \n",
      "Max Obs:                       209.00   F-statistic (robust):             74.080\n",
      "                                        P-value                           0.0000\n",
      "Time periods:                     209   Distribution:                  F(1,4860)\n",
      "Avg Obs:                       23.258                                           \n",
      "Min Obs:                       13.000                                           \n",
      "Max Obs:                       27.000                                           \n",
      "                                                                                \n",
      "                             Parameter Estimates                              \n",
      "==============================================================================\n",
      "            Parameter  Std. Err.     T-stat    P-value    Lower CI    Upper CI\n",
      "------------------------------------------------------------------------------\n",
      "Exog          -0.0129     0.0015    -8.6070     0.0000     -0.0159     -0.0100\n",
      "==============================================================================\n",
      "\n",
      "\n"
     ]
    }
   ],
   "source": [
    "print(res)"
   ]
  },
  {
   "cell_type": "code",
   "execution_count": null,
   "metadata": {},
   "outputs": [],
   "source": []
  },
  {
   "cell_type": "code",
   "execution_count": null,
   "metadata": {},
   "outputs": [],
   "source": []
  },
  {
   "cell_type": "markdown",
   "metadata": {},
   "source": [
    "# FHT Annual portfolio sorts"
   ]
  },
  {
   "cell_type": "code",
   "execution_count": null,
   "metadata": {},
   "outputs": [],
   "source": [
    "FHT=calculate_FHT(cleansed)\n",
    "data=calc_zscore_expanding_window(FHT.dropna(how='all'),3).dropna(how='all')\n",
    "sector_zscores={}\n",
    "d_map=sector_map(FHT)\n",
    "for sect in d_map.keys():\n",
    "    sector_zscores[sect]=data[d_map[sect]].dropna(how='all')"
   ]
  },
  {
   "cell_type": "code",
   "execution_count": 21,
   "metadata": {},
   "outputs": [],
   "source": [
    "sector_portfolio_sorts={}\n",
    "for s in sector_zscores.keys():\n",
    "    sector_portfolio_sorts[s]=quantile_portfolios_annual(sector_zscores[s],cleansed,5)"
   ]
  }
 ],
 "metadata": {
  "kernelspec": {
   "display_name": "Python 3",
   "language": "python",
   "name": "python3"
  },
  "language_info": {
   "codemirror_mode": {
    "name": "ipython",
    "version": 3
   },
   "file_extension": ".py",
   "mimetype": "text/x-python",
   "name": "python",
   "nbconvert_exporter": "python",
   "pygments_lexer": "ipython3",
   "version": "3.6.3"
  }
 },
 "nbformat": 4,
 "nbformat_minor": 2
}
