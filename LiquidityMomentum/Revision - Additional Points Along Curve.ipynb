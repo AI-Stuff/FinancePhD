{
 "cells": [
  {
   "cell_type": "code",
   "execution_count": 1,
   "metadata": {},
   "outputs": [
    {
     "name": "stderr",
     "output_type": "stream",
     "text": [
      "/Users/mrefermat/anaconda/lib/python2.7/site-packages/IPython/utils/traitlets.py:5: UserWarning: IPython.utils.traitlets has moved to a top-level traitlets package.\n",
      "  warn(\"IPython.utils.traitlets has moved to a top-level traitlets package.\")\n",
      "/Users/mrefermat/anaconda/lib/python2.7/site-packages/IPython/kernel/__init__.py:13: ShimWarning: The `IPython.kernel` package has been deprecated since IPython 4.0.You should import from ipykernel or jupyter_client instead.\n",
      "  \"You should import from ipykernel or jupyter_client instead.\", ShimWarning)\n"
     ]
    }
   ],
   "source": [
    "%matplotlib inline\n",
    "import math\n",
    "import pandas as pd\n",
    "from tsmom_model import *\n",
    "import numpy as np\n",
    "from datetime import datetime\n",
    "import matplotlib.pyplot as plt\n",
    "import quandl as q\n",
    "token=\"Us3wFmXGgAj_1cUtHAAR\""
   ]
  },
  {
   "cell_type": "code",
   "execution_count": 2,
   "metadata": {},
   "outputs": [],
   "source": [
    "import pylab\n",
    "sns.set(font_scale=2)\n",
    "pylab.rcParams['figure.figsize'] = (24, 18)"
   ]
  },
  {
   "cell_type": "markdown",
   "metadata": {},
   "source": [
    "# Hand cleansed\n",
    "Hand cleaned to removed duplicates"
   ]
  },
  {
   "cell_type": "code",
   "execution_count": 3,
   "metadata": {},
   "outputs": [
    {
     "name": "stderr",
     "output_type": "stream",
     "text": [
      "tsmom_model.py:160: FutureWarning: how in .resample() is deprecated\n",
      "the new syntax is .resample(...).last()\n",
      "  data=pd.read_csv('./Price.csv',index_col=0,parse_dates=['Date']).resample(rule='d',how='last')\n",
      "tsmom_model.py:162: FutureWarning: how in .resample() is deprecated\n",
      "the new syntax is .resample(...).last()\n",
      "  qd=pd.read_csv('./liquid_contracts.csv',index_col=0,parse_dates=['Date']).resample(rule='d',how='last')\n"
     ]
    }
   ],
   "source": [
    "cleansed=load_amihud_markets_price()"
   ]
  },
  {
   "cell_type": "code",
   "execution_count": 28,
   "metadata": {},
   "outputs": [],
   "source": [
    "d_map=sector_map(cleansed)"
   ]
  },
  {
   "cell_type": "code",
   "execution_count": 29,
   "metadata": {},
   "outputs": [
    {
     "data": {
      "text/plain": [
       "['Agriculturals',\n",
       " 'Currencies',\n",
       " 'Energies',\n",
       " 'Equities',\n",
       " 'Metals',\n",
       " 'Fixed Income']"
      ]
     },
     "execution_count": 29,
     "metadata": {},
     "output_type": "execute_result"
    }
   ],
   "source": [
    "d_map.keys()"
   ]
  },
  {
   "cell_type": "code",
   "execution_count": 30,
   "metadata": {},
   "outputs": [],
   "source": [
    "x=d_map['Agriculturals']+d_map['Metals']+d_map['Energies']"
   ]
  },
  {
   "cell_type": "code",
   "execution_count": 36,
   "metadata": {},
   "outputs": [],
   "source": [
    "commodity_markets={\n",
    "        'Corn':'CHRIS/CME_C',\n",
    "        'CBT-ROUGH RICE':'CHRIS/CME_RR',\n",
    "        'CBT-SOYABEAN MEAL':'CHRIS/CME_SM',\n",
    "        'CBT-SOYABEANS':'CHRIS/CME_S',\n",
    "        'CBT-WHEAT C.01 DEA':'CHRIS/CME_W',\n",
    "        'CME-LEAN HOGS COMP.':'CHRIS/CME_LN',\n",
    "        'CME-LIVE CATTLE COMP.':'CHRIS/CME_LC',\n",
    "        'CME-LUMBER':'CHRIS/CME_LB',\n",
    "        'CME-MILK CLASS III GLOBEX':'CHRIS/CME_DA',\n",
    "        'Corn':'CHRIS/CME_C',\n",
    "        'Cotton':'CHRIS/ICE_CT',\n",
    "        'CSCE-COCOA':'CHRIS/ICE_CC',\n",
    "        'CSCE-COFFEE C':'CHRIS/ICE_KC',\n",
    "        'CSCE-SUGAR #11':'CHRIS/ICE_SB',\n",
    "        'Feeder Cattle':'CHRIS/CME_FC',\n",
    "        'ICE CANADA-CANOLA':'CHRIS/ICE_RS',\n",
    "        'LIFFE-COCOA':'CHRIS/LIFFE_C',\n",
    "        'LIFFE-ROBUSTA COFFEE REVISED':'CHRIS/LIFFE_RC',\n",
    "        'LIFFE-WHITE SUGAR':'CHRIS/LIFFE_W',\n",
    "        'Milling Wheat':'CHRIS/LIFFE_EBM',\n",
    "        'NYCE-(FCOJ-A) ORANGE JUICE':'CHRIS/ICE_OJ',\n",
    "        'Soybean Oil':'CHRIS/CME_BO',\n",
    "        'CMX-GOLD 100 OZ':'CHRIS/CME_GC',\n",
    "        'CMX-HIGH GRADE COPPER':'CHRIS/CME_HG',\n",
    "        'CMX-SILVER 5000 OZ':'CHRIS/CME_SI',\n",
    "        'NYM-PLATINUM':'CHRIS/CME_PL',\n",
    "        'SHFE-ALUMINIUM':'CHRIS/SHFE_AL',\n",
    "        'SHFE-COPPER':'CHRIS/SHFE_CU',\n",
    "        'SHFE-GOLD':'CHRIS/SHFE_AU',\n",
    "        'SHFE-SILVER':'CHRIS/SHFE_AG',\n",
    "        'SHFE-ZINC':'CHRIS/SHFE_ZN',\n",
    "        'Ethanol (Chicago2)':'CHRIS/CME_EH',\n",
    "        'ICE-BRENT CRUDE OIL':'CHRIS/ICE_B',\n",
    "        'ICE-GAS OIL':'CHRIS/ICE_G',\n",
    "        'NYM-LIGHT CRUDE OIL':'CHRIS/ICE_T',\n",
    "        'NYM-NATURAL GAS':'CHRIS/CME_NG1',\n",
    "        'NYM-NY HARBOR ULSD':'CHRIS/CME_HO',\n",
    "        'RBOB Gasoline':'CHRIS/ICE_N',\n",
    "        'UK Natural Gas':'CHRIS/ICE_M'}"
   ]
  },
  {
   "cell_type": "code",
   "execution_count": null,
   "metadata": {},
   "outputs": [],
   "source": []
  },
  {
   "cell_type": "code",
   "execution_count": null,
   "metadata": {},
   "outputs": [],
   "source": [
    "q.quandl.get('FRED/TEDRATE',authtoken=token).Value"
   ]
  },
  {
   "cell_type": "code",
   "execution_count": null,
   "metadata": {},
   "outputs": [],
   "source": []
  }
 ],
 "metadata": {
  "kernelspec": {
   "display_name": "Python 2",
   "language": "python",
   "name": "python2"
  },
  "language_info": {
   "codemirror_mode": {
    "name": "ipython",
    "version": 2
   },
   "file_extension": ".py",
   "mimetype": "text/x-python",
   "name": "python",
   "nbconvert_exporter": "python",
   "pygments_lexer": "ipython2",
   "version": "2.7.12"
  }
 },
 "nbformat": 4,
 "nbformat_minor": 4
}
