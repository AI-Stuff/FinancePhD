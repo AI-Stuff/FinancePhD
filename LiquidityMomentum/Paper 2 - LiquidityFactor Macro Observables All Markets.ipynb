{
 "cells": [
  {
   "cell_type": "code",
   "execution_count": 4,
   "metadata": {},
   "outputs": [],
   "source": [
    "%matplotlib inline\n",
    "import pandas as pd\n",
    "import seaborn as sns\n",
    "import math\n",
    "from tsmom_model import *\n",
    "import numpy as np\n",
    "from datetime import datetime\n",
    "import statsmodels.api as sm"
   ]
  },
  {
   "cell_type": "code",
   "execution_count": 5,
   "metadata": {},
   "outputs": [],
   "source": [
    "import pylab\n",
    "sns.set(font_scale=3)\n",
    "pylab.rcParams['figure.figsize'] = (24, 18)"
   ]
  },
  {
   "cell_type": "code",
   "execution_count": 6,
   "metadata": {},
   "outputs": [],
   "source": [
    "funding_liquidity, market_liquidity = liquidity_observables()"
   ]
  },
  {
   "cell_type": "code",
   "execution_count": 7,
   "metadata": {},
   "outputs": [],
   "source": [
    "factors=get_all_factors()"
   ]
  },
  {
   "cell_type": "code",
   "execution_count": 8,
   "metadata": {},
   "outputs": [
    {
     "name": "stderr",
     "output_type": "stream",
     "text": [
      "/Users/mrefermat/anaconda/lib/python2.7/site-packages/ipykernel_launcher.py:7: FutureWarning: \n",
      "Passing list-likes to .loc or [] with any missing label will raise\n",
      "KeyError in the future, you can use .reindex() as an alternative.\n",
      "\n",
      "See the documentation here:\n",
      "http://pandas.pydata.org/pandas-docs/stable/indexing.html#deprecate-loc-reindex-listlike\n",
      "  import sys\n"
     ]
    }
   ],
   "source": [
    "results_df=pd.DataFrame()\n",
    "for reg_fact in funding_liquidity.columns:\n",
    "    results_param=[]\n",
    "    results_t=[]\n",
    "    for s in factors.columns:\n",
    "        ind2=funding_liquidity.diff()[reg_fact].dropna().index\n",
    "        ind=factors[s].loc[ind2].dropna().index\n",
    "        # Please make the fit robust \n",
    "        res=sm.OLS(factors[s].loc[ind],sm.add_constant(funding_liquidity.diff()[reg_fact]).loc[ind]).fit(cov_type='HAC',cov_kwds={'maxlags':1})\n",
    "        results_param.append(res.params[reg_fact])\n",
    "        results_t.append(res.tvalues[reg_fact])\n",
    "    results_df[reg_fact]=pd.Series(results_param)\n",
    "    results_df[reg_fact+'Tstats']=pd.Series(results_t)\n",
    "#results_df=results_df.set_index(factors.columns)"
   ]
  },
  {
   "cell_type": "code",
   "execution_count": 9,
   "metadata": {},
   "outputs": [
    {
     "data": {
      "text/html": [
       "<div>\n",
       "<style scoped>\n",
       "    .dataframe tbody tr th:only-of-type {\n",
       "        vertical-align: middle;\n",
       "    }\n",
       "\n",
       "    .dataframe tbody tr th {\n",
       "        vertical-align: top;\n",
       "    }\n",
       "\n",
       "    .dataframe thead th {\n",
       "        text-align: right;\n",
       "    }\n",
       "</style>\n",
       "<table border=\"1\" class=\"dataframe\">\n",
       "  <thead>\n",
       "    <tr style=\"text-align: right;\">\n",
       "      <th></th>\n",
       "      <th>0</th>\n",
       "      <th>1</th>\n",
       "      <th>2</th>\n",
       "      <th>3</th>\n",
       "    </tr>\n",
       "  </thead>\n",
       "  <tbody>\n",
       "    <tr>\n",
       "      <th>TED Spread</th>\n",
       "      <td>-0.23</td>\n",
       "      <td>-1.17</td>\n",
       "      <td>-0.34</td>\n",
       "      <td>-0.76</td>\n",
       "    </tr>\n",
       "    <tr>\n",
       "      <th>TED SpreadTstats</th>\n",
       "      <td>-0.63</td>\n",
       "      <td>-2.69</td>\n",
       "      <td>-0.95</td>\n",
       "      <td>-0.95</td>\n",
       "    </tr>\n",
       "    <tr>\n",
       "      <th>LIBOR term repo</th>\n",
       "      <td>0.26</td>\n",
       "      <td>0.09</td>\n",
       "      <td>0.25</td>\n",
       "      <td>0.38</td>\n",
       "    </tr>\n",
       "    <tr>\n",
       "      <th>LIBOR term repoTstats</th>\n",
       "      <td>2.04</td>\n",
       "      <td>1.33</td>\n",
       "      <td>1.96</td>\n",
       "      <td>1.69</td>\n",
       "    </tr>\n",
       "  </tbody>\n",
       "</table>\n",
       "</div>"
      ],
      "text/plain": [
       "                          0     1     2     3\n",
       "TED Spread            -0.23 -1.17 -0.34 -0.76\n",
       "TED SpreadTstats      -0.63 -2.69 -0.95 -0.95\n",
       "LIBOR term repo        0.26  0.09  0.25  0.38\n",
       "LIBOR term repoTstats  2.04  1.33  1.96  1.69"
      ]
     },
     "execution_count": 9,
     "metadata": {},
     "output_type": "execute_result"
    }
   ],
   "source": [
    "results_df.round(2).T"
   ]
  },
  {
   "cell_type": "code",
   "execution_count": 10,
   "metadata": {},
   "outputs": [
    {
     "name": "stderr",
     "output_type": "stream",
     "text": [
      "/Users/mrefermat/anaconda/lib/python2.7/site-packages/ipykernel_launcher.py:7: FutureWarning: \n",
      "Passing list-likes to .loc or [] with any missing label will raise\n",
      "KeyError in the future, you can use .reindex() as an alternative.\n",
      "\n",
      "See the documentation here:\n",
      "http://pandas.pydata.org/pandas-docs/stable/indexing.html#deprecate-loc-reindex-listlike\n",
      "  import sys\n"
     ]
    }
   ],
   "source": [
    "#results_df=pd.DataFrame()\n",
    "for reg_fact in market_liquidity.columns:\n",
    "    results_param=[]\n",
    "    results_t=[]\n",
    "    for s in factors.columns:\n",
    "        ind2=market_liquidity.diff()[reg_fact].dropna().index\n",
    "        ind=factors[s].loc[ind2].dropna().index\n",
    "        # Please make the fit robust \n",
    "        res=sm.OLS(factors[s].loc[ind],sm.add_constant(market_liquidity.diff()[reg_fact]).loc[ind]).fit(cov_type='HAC',cov_kwds={'maxlags':1})\n",
    "        results_param.append(res.params[reg_fact])\n",
    "        results_t.append(res.tvalues[reg_fact])\n",
    "    results_df[reg_fact]=pd.Series(results_param)\n",
    "    results_df[reg_fact+'Tstats']=pd.Series(results_t)\n",
    "results_df=results_df.set_index(factors.columns)"
   ]
  },
  {
   "cell_type": "code",
   "execution_count": 13,
   "metadata": {},
   "outputs": [
    {
     "data": {
      "text/html": [
       "<div>\n",
       "<style scoped>\n",
       "    .dataframe tbody tr th:only-of-type {\n",
       "        vertical-align: middle;\n",
       "    }\n",
       "\n",
       "    .dataframe tbody tr th {\n",
       "        vertical-align: top;\n",
       "    }\n",
       "\n",
       "    .dataframe thead th {\n",
       "        text-align: right;\n",
       "    }\n",
       "</style>\n",
       "<table border=\"1\" class=\"dataframe\">\n",
       "  <thead>\n",
       "    <tr style=\"text-align: right;\">\n",
       "      <th></th>\n",
       "      <th>TED Spread</th>\n",
       "      <th>TED SpreadTstats</th>\n",
       "      <th>LIBOR term repo</th>\n",
       "      <th>LIBOR term repoTstats</th>\n",
       "      <th>PS</th>\n",
       "      <th>PSTstats</th>\n",
       "      <th>On versus off the run Treasuries</th>\n",
       "      <th>On versus off the run TreasuriesTstats</th>\n",
       "    </tr>\n",
       "  </thead>\n",
       "  <tbody>\n",
       "    <tr>\n",
       "      <th>Amihud Annual</th>\n",
       "      <td>-0.227588</td>\n",
       "      <td>-0.628912</td>\n",
       "      <td>0.257041</td>\n",
       "      <td>2.038465</td>\n",
       "      <td>0.007031</td>\n",
       "      <td>0.542952</td>\n",
       "      <td>0.015909</td>\n",
       "      <td>0.753777</td>\n",
       "    </tr>\n",
       "    <tr>\n",
       "      <th>FHT Annual</th>\n",
       "      <td>-1.171923</td>\n",
       "      <td>-2.686925</td>\n",
       "      <td>0.089636</td>\n",
       "      <td>1.328174</td>\n",
       "      <td>0.006048</td>\n",
       "      <td>0.472648</td>\n",
       "      <td>-0.030785</td>\n",
       "      <td>-1.442293</td>\n",
       "    </tr>\n",
       "    <tr>\n",
       "      <th>Amihud Monthly</th>\n",
       "      <td>-0.336889</td>\n",
       "      <td>-0.952641</td>\n",
       "      <td>0.251962</td>\n",
       "      <td>1.959129</td>\n",
       "      <td>0.007705</td>\n",
       "      <td>0.576968</td>\n",
       "      <td>0.013985</td>\n",
       "      <td>0.587987</td>\n",
       "    </tr>\n",
       "    <tr>\n",
       "      <th>FHT Monthly</th>\n",
       "      <td>-0.755558</td>\n",
       "      <td>-0.947249</td>\n",
       "      <td>0.378527</td>\n",
       "      <td>1.686416</td>\n",
       "      <td>0.005011</td>\n",
       "      <td>0.344675</td>\n",
       "      <td>-0.031137</td>\n",
       "      <td>-1.561628</td>\n",
       "    </tr>\n",
       "  </tbody>\n",
       "</table>\n",
       "</div>"
      ],
      "text/plain": [
       "                TED Spread  TED SpreadTstats  LIBOR term repo  \\\n",
       "Amihud Annual    -0.227588         -0.628912         0.257041   \n",
       "FHT Annual       -1.171923         -2.686925         0.089636   \n",
       "Amihud Monthly   -0.336889         -0.952641         0.251962   \n",
       "FHT Monthly      -0.755558         -0.947249         0.378527   \n",
       "\n",
       "                LIBOR term repoTstats        PS  PSTstats  \\\n",
       "Amihud Annual                2.038465  0.007031  0.542952   \n",
       "FHT Annual                   1.328174  0.006048  0.472648   \n",
       "Amihud Monthly               1.959129  0.007705  0.576968   \n",
       "FHT Monthly                  1.686416  0.005011  0.344675   \n",
       "\n",
       "                On versus off the run Treasuries  \\\n",
       "Amihud Annual                           0.015909   \n",
       "FHT Annual                             -0.030785   \n",
       "Amihud Monthly                          0.013985   \n",
       "FHT Monthly                            -0.031137   \n",
       "\n",
       "                On versus off the run TreasuriesTstats  \n",
       "Amihud Annual                                 0.753777  \n",
       "FHT Annual                                   -1.442293  \n",
       "Amihud Monthly                                0.587987  \n",
       "FHT Monthly                                  -1.561628  "
      ]
     },
     "execution_count": 13,
     "metadata": {},
     "output_type": "execute_result"
    }
   ],
   "source": [
    "results_df"
   ]
  },
  {
   "cell_type": "code",
   "execution_count": 12,
   "metadata": {},
   "outputs": [
    {
     "name": "stdout",
     "output_type": "stream",
     "text": [
      "\\begin{tabular}{lrrrr}\n",
      "\\toprule\n",
      "{} &  Amihud Annual &  Amihud Monthly &  FHT Annual &  FHT Monthly \\\\\n",
      "\\midrule\n",
      "TED Spread                             &          -0.23 &           -0.34 &       -1.17 &        -0.76 \\\\\n",
      "TED SpreadTstats                       &          -0.63 &           -0.95 &       -2.69 &        -0.95 \\\\\n",
      "LIBOR term repo                        &           0.26 &            0.25 &        0.09 &         0.38 \\\\\n",
      "LIBOR term repoTstats                  &           2.04 &            1.96 &        1.33 &         1.69 \\\\\n",
      "PS                                     &           0.01 &            0.01 &        0.01 &         0.01 \\\\\n",
      "PSTstats                               &           0.54 &            0.58 &        0.47 &         0.34 \\\\\n",
      "On versus off the run Treasuries       &           0.02 &            0.01 &       -0.03 &        -0.03 \\\\\n",
      "On versus off the run TreasuriesTstats &           0.75 &            0.59 &       -1.44 &        -1.56 \\\\\n",
      "\\bottomrule\n",
      "\\end{tabular}\n",
      "\n"
     ]
    }
   ],
   "source": [
    "print results_df.T[[u'Amihud Annual', u'Amihud Monthly', u'FHT Annual', u'FHT Monthly']].round(2).to_latex()"
   ]
  },
  {
   "cell_type": "code",
   "execution_count": null,
   "metadata": {},
   "outputs": [],
   "source": []
  },
  {
   "cell_type": "code",
   "execution_count": null,
   "metadata": {},
   "outputs": [],
   "source": [
    "# Doing each leg of the observable direclty\n",
    "#results_df=pd.DataFrame()\n",
    "for reg_fact in market_liquidity.columns:\n",
    "    results_param=[]\n",
    "    results_t=[]\n",
    "    for s in factors.columns:\n",
    "        ind2=market_liquidity.diff()[reg_fact].dropna().index\n",
    "        ind=factors[s].loc[ind2].dropna().index\n",
    "        # Please make the fit robust \n",
    "        res=sm.OLS(factors[s].loc[ind],sm.add_constant(market_liquidity.diff()[reg_fact]).loc[ind]).fit(cov_type='HAC',cov_kwds={'maxlags':1})\n",
    "        results_param.append(res.params[reg_fact])\n",
    "        results_t.append(res.tvalues[reg_fact])\n",
    "    results_df[reg_fact]=pd.Series(results_param)\n",
    "    results_df[reg_fact+'Tstats']=pd.Series(results_t)\n",
    "#results_df=results_df.set_index(factors.columns)#"
   ]
  },
  {
   "cell_type": "code",
   "execution_count": 14,
   "metadata": {},
   "outputs": [
    {
     "name": "stderr",
     "output_type": "stream",
     "text": [
      "/Users/mrefermat/anaconda/lib/python2.7/site-packages/ipykernel_launcher.py:2: FutureWarning: \n",
      "Passing list-likes to .loc or [] with any missing label will raise\n",
      "KeyError in the future, you can use .reindex() as an alternative.\n",
      "\n",
      "See the documentation here:\n",
      "http://pandas.pydata.org/pandas-docs/stable/indexing.html#deprecate-loc-reindex-listlike\n",
      "  \n"
     ]
    }
   ],
   "source": [
    "ind2=market_liquidity.diff().dropna().index\n",
    "ind=factors[s].loc[ind2].dropna().index\n",
    "# Please make the fit robust \n",
    "res=sm.OLS(factors[s].loc[ind],sm.add_constant(market_liquidity.diff()).loc[ind]).fit(cov_type='HAC',cov_kwds={'maxlags':1})\n",
    "#results_param.append(res.params[reg_fact])\n",
    "#results_t.append(res.tvalues[reg_fact])"
   ]
  },
  {
   "cell_type": "code",
   "execution_count": 15,
   "metadata": {},
   "outputs": [
    {
     "data": {
      "text/html": [
       "<table class=\"simpletable\">\n",
       "<caption>OLS Regression Results</caption>\n",
       "<tr>\n",
       "  <th>Dep. Variable:</th>       <td>FHT Monthly</td>   <th>  R-squared:         </th> <td>   0.009</td>\n",
       "</tr>\n",
       "<tr>\n",
       "  <th>Model:</th>                   <td>OLS</td>       <th>  Adj. R-squared:    </th> <td>  -0.001</td>\n",
       "</tr>\n",
       "<tr>\n",
       "  <th>Method:</th>             <td>Least Squares</td>  <th>  F-statistic:       </th> <td>   1.228</td>\n",
       "</tr>\n",
       "<tr>\n",
       "  <th>Date:</th>             <td>Mon, 30 Jul 2018</td> <th>  Prob (F-statistic):</th>  <td> 0.295</td> \n",
       "</tr>\n",
       "<tr>\n",
       "  <th>Time:</th>                 <td>17:02:05</td>     <th>  Log-Likelihood:    </th> <td>  529.04</td>\n",
       "</tr>\n",
       "<tr>\n",
       "  <th>No. Observations:</th>      <td>   204</td>      <th>  AIC:               </th> <td>  -1052.</td>\n",
       "</tr>\n",
       "<tr>\n",
       "  <th>Df Residuals:</th>          <td>   201</td>      <th>  BIC:               </th> <td>  -1042.</td>\n",
       "</tr>\n",
       "<tr>\n",
       "  <th>Df Model:</th>              <td>     2</td>      <th>                     </th>     <td> </td>   \n",
       "</tr>\n",
       "<tr>\n",
       "  <th>Covariance Type:</th>         <td>HAC</td>       <th>                     </th>     <td> </td>   \n",
       "</tr>\n",
       "</table>\n",
       "<table class=\"simpletable\">\n",
       "<tr>\n",
       "                  <td></td>                    <th>coef</th>     <th>std err</th>      <th>z</th>      <th>P>|z|</th>  <th>[0.025</th>    <th>0.975]</th>  \n",
       "</tr>\n",
       "<tr>\n",
       "  <th>const</th>                            <td>   -0.0003</td> <td>    0.001</td> <td>   -0.267</td> <td> 0.789</td> <td>   -0.003</td> <td>    0.002</td>\n",
       "</tr>\n",
       "<tr>\n",
       "  <th>PS</th>                               <td>    0.0053</td> <td>    0.014</td> <td>    0.365</td> <td> 0.715</td> <td>   -0.023</td> <td>    0.034</td>\n",
       "</tr>\n",
       "<tr>\n",
       "  <th>On versus off the run Treasuries</th> <td>   -0.0313</td> <td>    0.020</td> <td>   -1.567</td> <td> 0.117</td> <td>   -0.070</td> <td>    0.008</td>\n",
       "</tr>\n",
       "</table>\n",
       "<table class=\"simpletable\">\n",
       "<tr>\n",
       "  <th>Omnibus:</th>       <td> 1.581</td> <th>  Durbin-Watson:     </th> <td>   2.041</td>\n",
       "</tr>\n",
       "<tr>\n",
       "  <th>Prob(Omnibus):</th> <td> 0.454</td> <th>  Jarque-Bera (JB):  </th> <td>   1.471</td>\n",
       "</tr>\n",
       "<tr>\n",
       "  <th>Skew:</th>          <td>-0.208</td> <th>  Prob(JB):          </th> <td>   0.479</td>\n",
       "</tr>\n",
       "<tr>\n",
       "  <th>Kurtosis:</th>      <td> 2.987</td> <th>  Cond. No.          </th> <td>    18.5</td>\n",
       "</tr>\n",
       "</table>"
      ],
      "text/plain": [
       "<class 'statsmodels.iolib.summary.Summary'>\n",
       "\"\"\"\n",
       "                            OLS Regression Results                            \n",
       "==============================================================================\n",
       "Dep. Variable:            FHT Monthly   R-squared:                       0.009\n",
       "Model:                            OLS   Adj. R-squared:                 -0.001\n",
       "Method:                 Least Squares   F-statistic:                     1.228\n",
       "Date:                Mon, 30 Jul 2018   Prob (F-statistic):              0.295\n",
       "Time:                        17:02:05   Log-Likelihood:                 529.04\n",
       "No. Observations:                 204   AIC:                            -1052.\n",
       "Df Residuals:                     201   BIC:                            -1042.\n",
       "Df Model:                           2                                         \n",
       "Covariance Type:                  HAC                                         \n",
       "====================================================================================================\n",
       "                                       coef    std err          z      P>|z|      [0.025      0.975]\n",
       "----------------------------------------------------------------------------------------------------\n",
       "const                               -0.0003      0.001     -0.267      0.789      -0.003       0.002\n",
       "PS                                   0.0053      0.014      0.365      0.715      -0.023       0.034\n",
       "On versus off the run Treasuries    -0.0313      0.020     -1.567      0.117      -0.070       0.008\n",
       "==============================================================================\n",
       "Omnibus:                        1.581   Durbin-Watson:                   2.041\n",
       "Prob(Omnibus):                  0.454   Jarque-Bera (JB):                1.471\n",
       "Skew:                          -0.208   Prob(JB):                        0.479\n",
       "Kurtosis:                       2.987   Cond. No.                         18.5\n",
       "==============================================================================\n",
       "\n",
       "Warnings:\n",
       "[1] Standard Errors are heteroscedasticity and autocorrelation robust (HAC) using 1 lags and without small sample correction\n",
       "\"\"\""
      ]
     },
     "execution_count": 15,
     "metadata": {},
     "output_type": "execute_result"
    }
   ],
   "source": [
    "res.summary()"
   ]
  },
  {
   "cell_type": "code",
   "execution_count": 50,
   "metadata": {},
   "outputs": [],
   "source": []
  },
  {
   "cell_type": "markdown",
   "metadata": {},
   "source": [
    "# Showing the results of all factors and betas"
   ]
  },
  {
   "cell_type": "code",
   "execution_count": 80,
   "metadata": {},
   "outputs": [
    {
     "name": "stderr",
     "output_type": "stream",
     "text": [
      "/Users/mrefermat/anaconda/lib/python2.7/site-packages/ipykernel_launcher.py:10: FutureWarning: \n",
      "Passing list-likes to .loc or [] with any missing label will raise\n",
      "KeyError in the future, you can use .reindex() as an alternative.\n",
      "\n",
      "See the documentation here:\n",
      "http://pandas.pydata.org/pandas-docs/stable/indexing.html#deprecate-loc-reindex-listlike\n",
      "  # Remove the CWD from sys.path while we load stuff.\n",
      "/Users/mrefermat/anaconda/lib/python2.7/site-packages/ipykernel_launcher.py:26: FutureWarning: \n",
      "Passing list-likes to .loc or [] with any missing label will raise\n",
      "KeyError in the future, you can use .reindex() as an alternative.\n",
      "\n",
      "See the documentation here:\n",
      "http://pandas.pydata.org/pandas-docs/stable/indexing.html#deprecate-loc-reindex-listlike\n",
      "/Users/mrefermat/anaconda/lib/python2.7/site-packages/ipykernel_launcher.py:34: FutureWarning: \n",
      "Passing list-likes to .loc or [] with any missing label will raise\n",
      "KeyError in the future, you can use .reindex() as an alternative.\n",
      "\n",
      "See the documentation here:\n",
      "http://pandas.pydata.org/pandas-docs/stable/indexing.html#deprecate-loc-reindex-listlike\n"
     ]
    },
    {
     "name": "stdout",
     "output_type": "stream",
     "text": [
      "Amihud Annual\n",
      "\\begin{tabular}{lrrrrrrr}\n",
      "\\toprule\n",
      "{} &     0 &     1 &     2 &    3 &    4 &    5 &     6 \\\\\n",
      "\\midrule\n",
      "TED Spread                       & -0.04 &     &  0.30 &    &    &    &  0.30 \\\\\n",
      "LIBOR term repo                  &     &  0.17 &  0.31 &    &    &    &  0.36 \\\\\n",
      "PS                               &     &     &     &  0.0 &    &  0.0 & -0.03 \\\\\n",
      "On versus off the run Treasuries &     &     &     &    & -0.0 & -0.0 & -0.00 \\\\\n",
      "\\bottomrule\n",
      "\\end{tabular}\n",
      "\n",
      "\\begin{tabular}{lrrrrrrr}\n",
      "\\toprule\n",
      "{} &     0 &     1 &     2 &     3 &     4 &     5 &     6 \\\\\n",
      "\\midrule\n",
      "TED Spread                       & -0.14 &     &  0.71 &     &     &     &  0.66 \\\\\n",
      "LIBOR term repo                  &     &  0.97 &  1.08 &     &     &     &  1.12 \\\\\n",
      "PS                               &     &     &     &  0.17 &     &  0.16 & -0.93 \\\\\n",
      "On versus off the run Treasuries &     &     &     &     & -0.05 & -0.03 & -0.54 \\\\\n",
      "\\bottomrule\n",
      "\\end{tabular}\n",
      "\n",
      "FHT Annual\n",
      "\\begin{tabular}{lrrrrrrr}\n",
      "\\toprule\n",
      "{} &     0 &     1 &     2 &     3 &    4 &     5 &     6 \\\\\n",
      "\\midrule\n",
      "TED Spread                       &  0.26 &     &  0.46 &     &    &     &  0.46 \\\\\n",
      "LIBOR term repo                  &     & -0.01 &  0.21 &     &    &     &  0.23 \\\\\n",
      "PS                               &     &     &     &  0.01 &    &  0.01 & -0.01 \\\\\n",
      "On versus off the run Treasuries &     &     &     &     &  0.0 &  0.00 & -0.00 \\\\\n",
      "\\bottomrule\n",
      "\\end{tabular}\n",
      "\n",
      "\\begin{tabular}{lrrrrrrr}\n",
      "\\toprule\n",
      "{} &     0 &     1 &     2 &     3 &     4 &     5 &     6 \\\\\n",
      "\\midrule\n",
      "TED Spread                       &  1.22 &     &  1.53 &     &     &     &  1.28 \\\\\n",
      "LIBOR term repo                  &     & -0.08 &  1.24 &     &     &     &  1.24 \\\\\n",
      "PS                               &     &     &     &  0.68 &     &  0.71 & -0.46 \\\\\n",
      "On versus off the run Treasuries &     &     &     &     &  0.14 &  0.23 & -0.24 \\\\\n",
      "\\bottomrule\n",
      "\\end{tabular}\n",
      "\n",
      "Amihud Monthly\n",
      "\\begin{tabular}{lrrrrrrr}\n",
      "\\toprule\n",
      "{} &     0 &    1 &     2 &    3 &    4 &     5 &     6 \\\\\n",
      "\\midrule\n",
      "TED Spread                       & -0.04 &    &  0.18 &    &    &     &  0.13 \\\\\n",
      "LIBOR term repo                  &     &  0.1 &  0.19 &    &    &     &  0.22 \\\\\n",
      "PS                               &     &    &     &  0.0 &    &  0.01 & -0.02 \\\\\n",
      "On versus off the run Treasuries &     &    &     &    &  0.0 &  0.00 & -0.00 \\\\\n",
      "\\bottomrule\n",
      "\\end{tabular}\n",
      "\n",
      "\\begin{tabular}{lrrrrrrr}\n",
      "\\toprule\n",
      "{} &     0 &     1 &     2 &     3 &     4 &     5 &     6 \\\\\n",
      "\\midrule\n",
      "TED Spread                       & -0.17 &     &  0.39 &     &     &     &  0.27 \\\\\n",
      "LIBOR term repo                  &     &  0.63 &  0.63 &     &     &     &  0.66 \\\\\n",
      "PS                               &     &     &     &  0.28 &     &  0.32 & -0.72 \\\\\n",
      "On versus off the run Treasuries &     &     &     &     &  0.19 &  0.23 & -0.11 \\\\\n",
      "\\bottomrule\n",
      "\\end{tabular}\n",
      "\n",
      "FHT Monthly\n",
      "\\begin{tabular}{lrrrrrrr}\n",
      "\\toprule\n",
      "{} &     0 &     1 &     2 &     3 &     4 &     5 &     6 \\\\\n",
      "\\midrule\n",
      "TED Spread                       & -0.77 &     & -0.04 &     &     &     & -0.09 \\\\\n",
      "LIBOR term repo                  &     &  0.87 &  0.85 &     &     &     &  0.83 \\\\\n",
      "PS                               &     &     &     &  0.03 &     &  0.02 &  0.01 \\\\\n",
      "On versus off the run Treasuries &     &     &     &     & -0.01 & -0.01 &  0.00 \\\\\n",
      "\\bottomrule\n",
      "\\end{tabular}\n",
      "\n",
      "\\begin{tabular}{lrrrrrrr}\n",
      "\\toprule\n",
      "{} &     0 &     1 &     2 &    3 &     4 &     5 &     6 \\\\\n",
      "\\midrule\n",
      "TED Spread                       & -2.71 &     & -0.12 &    &     &     & -0.21 \\\\\n",
      "LIBOR term repo                  &     &  5.75 &  3.37 &    &     &     &  3.12 \\\\\n",
      "PS                               &     &     &     &  1.1 &     &  0.99 &  0.21 \\\\\n",
      "On versus off the run Treasuries &     &     &     &    & -0.94 & -0.75 &  0.38 \\\\\n",
      "\\bottomrule\n",
      "\\end{tabular}\n",
      "\n"
     ]
    }
   ],
   "source": [
    "all_macro=market_liquidity.join(funding_liquidity)\n",
    "\n",
    "for s in factors.columns:\n",
    "\n",
    "    result_list=[]\n",
    "    t_list=[]\n",
    "\n",
    "    for reg_fact in funding_liquidity.columns:\n",
    "        ind2=funding_liquidity[reg_fact].dropna().index\n",
    "        ind=factors[s].loc[ind2].dropna().index\n",
    "        # Please make the fit robust \n",
    "        res=sm.OLS(factors[s].loc[ind],sm.add_constant(funding_liquidity[reg_fact]).loc[ind]).fit(cov_type='HAC',cov_kwds={'maxlags':1})\n",
    "        result_list.append(res.params)\n",
    "        t_list.append(res.tvalues)\n",
    "\n",
    "    # All funding funding macro data\n",
    "    ind2=funding_liquidity.dropna().index\n",
    "    ind=factors[s].loc[ind2].dropna().index\n",
    "    # Please make the fit robust \n",
    "    res=sm.OLS(factors[s].loc[ind],sm.add_constant(funding_liquidity).loc[ind]).fit(cov_type='HAC',cov_kwds={'maxlags':1})\n",
    "    result_list.append(res.params)\n",
    "    t_list.append(res.tvalues)\n",
    "\n",
    "    for reg_fact in market_liquidity.columns:\n",
    "        ind2=market_liquidity[reg_fact].dropna().index\n",
    "        ind=factors[s].loc[ind2].dropna().index\n",
    "        # Please make the fit robust \n",
    "        res=sm.OLS(factors[s].loc[ind],sm.add_constant(market_liquidity[reg_fact]).loc[ind]).fit(cov_type='HAC',cov_kwds={'maxlags':1})\n",
    "        result_list.append(res.params)\n",
    "        t_list.append(res.tvalues)\n",
    "\n",
    "    # All market funding macro data\n",
    "    ind2=market_liquidity.dropna().index\n",
    "    ind=factors[s].loc[ind2].dropna().index\n",
    "    # Please make the fit robust \n",
    "    res=sm.OLS(factors[s].loc[ind],sm.add_constant(market_liquidity).loc[ind]).fit(cov_type='HAC',cov_kwds={'maxlags':1})\n",
    "    result_list.append(res.params)\n",
    "    t_list.append(res.tvalues)\n",
    "\n",
    "    # All Macro\n",
    "    ind2=all_macro.dropna().index\n",
    "    ind=factors[s].loc[ind2].dropna().index\n",
    "    # Please make the fit robust \n",
    "    res=sm.OLS(factors[s].loc[ind],sm.add_constant(all_macro).loc[ind]).fit(cov_type='HAC',cov_kwds={'maxlags':1})\n",
    "    result_list.append(res.params)\n",
    "    t_list.append(res.tvalues)\n",
    "\n",
    "    print s\n",
    "    \n",
    "    print pd.DataFrame(result_list)[[ u'TED Spread',u'LIBOR term repo',\n",
    "                           u'PS', u'On versus off the run Treasuries']].T.round(2).to_latex().replace('NaN',' ')\n",
    "    print pd.DataFrame(t_list)[[ u'TED Spread',u'LIBOR term repo',\n",
    "                           u'PS', u'On versus off the run Treasuries']].T.round(2).to_latex().replace('NaN',' ')\n",
    "    "
   ]
  },
  {
   "cell_type": "code",
   "execution_count": 72,
   "metadata": {},
   "outputs": [
    {
     "name": "stdout",
     "output_type": "stream",
     "text": [
      "\\begin{tabular}{lrrrrrrr}\n",
      "\\toprule\n",
      "{} &     0 &     1 &     2 &     3 &     4 &     5 &     6 \\\\\n",
      "\\midrule\n",
      "TED Spread                       & -0.23 &   NaN &  0.23 &   NaN &   NaN &   NaN &  0.03 \\\\\n",
      "LIBOR term repo                  &   NaN &  0.26 &  0.30 &   NaN &   NaN &   NaN &  0.22 \\\\\n",
      "PS                               &   NaN &   NaN &   NaN &  0.01 &   NaN &  0.01 & -0.00 \\\\\n",
      "On versus off the run Treasuries &   NaN &   NaN &   NaN &   NaN &  0.02 &  0.02 &  0.02 \\\\\n",
      "\\bottomrule\n",
      "\\end{tabular}\n",
      "\n"
     ]
    }
   ],
   "source": [
    "print pd.DataFrame(result_list)[[ u'TED Spread',u'LIBOR term repo',\n",
    "                           u'PS', u'On versus off the run Treasuries']].T.round(2).to_latex()"
   ]
  },
  {
   "cell_type": "code",
   "execution_count": 77,
   "metadata": {},
   "outputs": [],
   "source": [
    "x= pd.DataFrame(t_list)[[ u'TED Spread',u'LIBOR term repo',\n",
    "                           u'PS', u'On versus off the run Treasuries']].T.round(2).to_latex()"
   ]
  },
  {
   "cell_type": "code",
   "execution_count": 79,
   "metadata": {},
   "outputs": [
    {
     "data": {
      "text/plain": [
       "u'\\\\begin{tabular}{lrrrrrrr}\\n\\\\toprule\\n{} &     0 &     1 &     2 &    3 &     4 &     5 &     6 \\\\\\\\\\n\\\\midrule\\nTED Spread                       & -2.71 &     & -0.12 &    &     &     & -0.21 \\\\\\\\\\nLIBOR term repo                  &     &  5.75 &  3.37 &    &     &     &  3.12 \\\\\\\\\\nPS                               &     &     &     &  1.1 &     &  0.99 &  0.21 \\\\\\\\\\nOn versus off the run Treasuries &     &     &     &    & -0.94 & -0.75 &  0.38 \\\\\\\\\\n\\\\bottomrule\\n\\\\end{tabular}\\n'"
      ]
     },
     "execution_count": 79,
     "metadata": {},
     "output_type": "execute_result"
    }
   ],
   "source": [
    "x"
   ]
  },
  {
   "cell_type": "code",
   "execution_count": 30,
   "metadata": {},
   "outputs": [],
   "source": [
    "results_param.append(res.params[reg_fact])\n",
    "results_t.append(res.tvalues[reg_fact])"
   ]
  },
  {
   "cell_type": "code",
   "execution_count": 35,
   "metadata": {},
   "outputs": [
    {
     "name": "stdout",
     "output_type": "stream",
     "text": [
      "                            OLS Regression Results                            \n",
      "==============================================================================\n",
      "Dep. Variable:          Amihud Annual   R-squared:                       0.004\n",
      "Model:                            OLS   Adj. R-squared:                 -0.006\n",
      "Method:                 Least Squares   F-statistic:                    0.4178\n",
      "Date:                Fri, 03 Aug 2018   Prob (F-statistic):              0.659\n",
      "Time:                        12:13:36   Log-Likelihood:                 547.30\n",
      "No. Observations:                 204   AIC:                            -1089.\n",
      "Df Residuals:                     201   BIC:                            -1079.\n",
      "Df Model:                           2                                         \n",
      "Covariance Type:                  HAC                                         \n",
      "====================================================================================================\n",
      "                                       coef    std err          z      P>|z|      [0.025      0.975]\n",
      "----------------------------------------------------------------------------------------------------\n",
      "const                                0.0018      0.001      1.598      0.110      -0.000       0.004\n",
      "PS                                   0.0069      0.013      0.540      0.589      -0.018       0.032\n",
      "On versus off the run Treasuries     0.0157      0.021      0.760      0.447      -0.025       0.056\n",
      "==============================================================================\n",
      "Omnibus:                        5.438   Durbin-Watson:                   2.205\n",
      "Prob(Omnibus):                  0.066   Jarque-Bera (JB):                7.406\n",
      "Skew:                           0.116   Prob(JB):                       0.0246\n",
      "Kurtosis:                       3.904   Cond. No.                         18.5\n",
      "==============================================================================\n",
      "\n",
      "Warnings:\n",
      "[1] Standard Errors are heteroscedasticity and autocorrelation robust (HAC) using 1 lags and without small sample correction\n"
     ]
    }
   ],
   "source": [
    "print res.summary()"
   ]
  }
 ],
 "metadata": {
  "kernelspec": {
   "display_name": "Python 2",
   "language": "python",
   "name": "python2"
  },
  "language_info": {
   "codemirror_mode": {
    "name": "ipython",
    "version": 2
   },
   "file_extension": ".py",
   "mimetype": "text/x-python",
   "name": "python",
   "nbconvert_exporter": "python",
   "pygments_lexer": "ipython2",
   "version": "2.7.12"
  }
 },
 "nbformat": 4,
 "nbformat_minor": 2
}
