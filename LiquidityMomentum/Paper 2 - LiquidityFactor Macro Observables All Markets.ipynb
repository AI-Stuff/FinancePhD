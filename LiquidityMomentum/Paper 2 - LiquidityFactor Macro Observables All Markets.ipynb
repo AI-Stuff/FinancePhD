{
 "cells": [
  {
   "cell_type": "code",
   "execution_count": 2,
   "metadata": {},
   "outputs": [],
   "source": [
    "%matplotlib inline\n",
    "import pandas as pd\n",
    "import seaborn as sns\n",
    "import math\n",
    "from tsmom_model import *\n",
    "import numpy as np\n",
    "from datetime import datetime\n",
    "import statsmodels.api as sm"
   ]
  },
  {
   "cell_type": "code",
   "execution_count": 3,
   "metadata": {},
   "outputs": [],
   "source": [
    "import pylab\n",
    "sns.set(font_scale=3)\n",
    "pylab.rcParams['figure.figsize'] = (24, 18)"
   ]
  },
  {
   "cell_type": "code",
   "execution_count": 4,
   "metadata": {},
   "outputs": [
    {
     "name": "stderr",
     "output_type": "stream",
     "text": [
      "tsmom_model.py:412: FutureWarning: how in .resample() is deprecated\n",
      "the new syntax is .resample(...).last()\n",
      "  funding_liquidity['TED Spread']=ted.resample(rule='m',how='last')/100.\n",
      "tsmom_model.py:413: FutureWarning: how in .resample() is deprecated\n",
      "the new syntax is .resample(...).last()\n",
      "  funding_liquidity['LIBOR term repo']=libor_term_repo.resample(rule='m',how='last')/100.\n",
      "tsmom_model.py:417: FutureWarning: how in .resample() is deprecated\n",
      "the new syntax is .resample(...).last()\n",
      "  PS=pd.read_csv('PS.csv',index_col=0,parse_dates=True).resample(rule='m',how='last')\n",
      "tsmom_model.py:418: FutureWarning: how in .resample() is deprecated\n",
      "the new syntax is .resample(...).last()\n",
      "  us10y_zero=quandl.get('FED/SVENY',authtoken=token).SVENY10.resample(rule='d',how='last').dropna()\n",
      "tsmom_model.py:419: FutureWarning: how in .resample() is deprecated\n",
      "the new syntax is .resample(...).last()\n",
      "  yield10=quandl.get('USTREASURY/YIELD',authtoken=token)['10 YR'].resample(rule='d',how='last').dropna()\n",
      "tsmom_model.py:421: FutureWarning: how in .resample() is deprecated\n",
      "the new syntax is .resample(...).last()\n",
      "  market_liquidity['PS']=PS['Innovations in aggregate liquidity'].resample(rule='m',how='last')\n",
      "tsmom_model.py:422: FutureWarning: how in .resample() is deprecated\n",
      "the new syntax is .resample(...).last()\n",
      "  market_liquidity['On versus off the run Treasuries']=on_off.resample(rule='m',how='last')\n"
     ]
    }
   ],
   "source": [
    "funding_liquidity, market_liquidity = liquidity_observables()"
   ]
  },
  {
   "cell_type": "code",
   "execution_count": 8,
   "metadata": {},
   "outputs": [],
   "source": [
    "factors=get_all_factors()"
   ]
  },
  {
   "cell_type": "code",
   "execution_count": null,
   "metadata": {},
   "outputs": [],
   "source": []
  },
  {
   "cell_type": "code",
   "execution_count": 15,
   "metadata": {},
   "outputs": [
    {
     "name": "stderr",
     "output_type": "stream",
     "text": [
      "/Users/mrefermat/anaconda/lib/python2.7/site-packages/ipykernel_launcher.py:7: FutureWarning: \n",
      "Passing list-likes to .loc or [] with any missing label will raise\n",
      "KeyError in the future, you can use .reindex() as an alternative.\n",
      "\n",
      "See the documentation here:\n",
      "http://pandas.pydata.org/pandas-docs/stable/indexing.html#deprecate-loc-reindex-listlike\n",
      "  import sys\n"
     ]
    }
   ],
   "source": [
    "results_df=pd.DataFrame()\n",
    "for reg_fact in funding_liquidity.columns:\n",
    "    results_param=[]\n",
    "    results_t=[]\n",
    "    for s in factors.columns:\n",
    "        ind2=funding_liquidity.diff()[reg_fact].dropna().index\n",
    "        ind=factors[s].loc[ind2].dropna().index\n",
    "        # Please make the fit robust \n",
    "        res=sm.OLS(factors[s].loc[ind],sm.add_constant(funding_liquidity.diff()[reg_fact]).loc[ind]).fit(cov_type='HAC',cov_kwds={'maxlags':1})\n",
    "        results_param.append(res.params[reg_fact])\n",
    "        results_t.append(res.tvalues[reg_fact])\n",
    "    results_df[reg_fact]=pd.Series(results_param)\n",
    "    results_df[reg_fact+'Tstats']=pd.Series(results_t)\n",
    "results_df=results_df.set_index(factors.columns)"
   ]
  },
  {
   "cell_type": "code",
   "execution_count": 17,
   "metadata": {},
   "outputs": [
    {
     "data": {
      "text/html": [
       "<div>\n",
       "<style scoped>\n",
       "    .dataframe tbody tr th:only-of-type {\n",
       "        vertical-align: middle;\n",
       "    }\n",
       "\n",
       "    .dataframe tbody tr th {\n",
       "        vertical-align: top;\n",
       "    }\n",
       "\n",
       "    .dataframe thead th {\n",
       "        text-align: right;\n",
       "    }\n",
       "</style>\n",
       "<table border=\"1\" class=\"dataframe\">\n",
       "  <thead>\n",
       "    <tr style=\"text-align: right;\">\n",
       "      <th></th>\n",
       "      <th>Amihud Annual</th>\n",
       "      <th>FHT Annual</th>\n",
       "      <th>Amihud Monthly</th>\n",
       "      <th>FHT Monthly</th>\n",
       "    </tr>\n",
       "  </thead>\n",
       "  <tbody>\n",
       "    <tr>\n",
       "      <th>TED Spread</th>\n",
       "      <td>-0.23</td>\n",
       "      <td>-1.17</td>\n",
       "      <td>-0.34</td>\n",
       "      <td>-0.76</td>\n",
       "    </tr>\n",
       "    <tr>\n",
       "      <th>TED SpreadTstats</th>\n",
       "      <td>-0.63</td>\n",
       "      <td>-2.69</td>\n",
       "      <td>-0.95</td>\n",
       "      <td>-0.95</td>\n",
       "    </tr>\n",
       "    <tr>\n",
       "      <th>LIBOR term repo</th>\n",
       "      <td>0.26</td>\n",
       "      <td>0.09</td>\n",
       "      <td>0.25</td>\n",
       "      <td>0.38</td>\n",
       "    </tr>\n",
       "    <tr>\n",
       "      <th>LIBOR term repoTstats</th>\n",
       "      <td>2.04</td>\n",
       "      <td>1.33</td>\n",
       "      <td>1.96</td>\n",
       "      <td>1.69</td>\n",
       "    </tr>\n",
       "  </tbody>\n",
       "</table>\n",
       "</div>"
      ],
      "text/plain": [
       "                       Amihud Annual  FHT Annual  Amihud Monthly  FHT Monthly\n",
       "TED Spread                     -0.23       -1.17           -0.34        -0.76\n",
       "TED SpreadTstats               -0.63       -2.69           -0.95        -0.95\n",
       "LIBOR term repo                 0.26        0.09            0.25         0.38\n",
       "LIBOR term repoTstats           2.04        1.33            1.96         1.69"
      ]
     },
     "execution_count": 17,
     "metadata": {},
     "output_type": "execute_result"
    }
   ],
   "source": [
    "results_df.round(2).T"
   ]
  },
  {
   "cell_type": "code",
   "execution_count": null,
   "metadata": {},
   "outputs": [],
   "source": []
  },
  {
   "cell_type": "code",
   "execution_count": null,
   "metadata": {},
   "outputs": [],
   "source": []
  },
  {
   "cell_type": "code",
   "execution_count": null,
   "metadata": {},
   "outputs": [],
   "source": []
  },
  {
   "cell_type": "code",
   "execution_count": null,
   "metadata": {},
   "outputs": [],
   "source": []
  },
  {
   "cell_type": "code",
   "execution_count": 68,
   "metadata": {},
   "outputs": [
    {
     "name": "stderr",
     "output_type": "stream",
     "text": [
      "/Users/mrefermat/anaconda/lib/python2.7/site-packages/ipykernel_launcher.py:7: FutureWarning: \n",
      "Passing list-likes to .loc or [] with any missing label will raise\n",
      "KeyError in the future, you can use .reindex() as an alternative.\n",
      "\n",
      "See the documentation here:\n",
      "http://pandas.pydata.org/pandas-docs/stable/indexing.html#deprecate-loc-reindex-listlike\n",
      "  import sys\n"
     ]
    }
   ],
   "source": [
    "results_df=pd.DataFrame()\n",
    "for reg_fact in funding_liquidity.columns:\n",
    "    results_param=[]\n",
    "    results_t=[]\n",
    "    for s in factors.columns:\n",
    "        ind2=funding_liquidity.diff()[reg_fact].dropna().index\n",
    "        ind=factors[s].loc[ind2].dropna().index\n",
    "        # Please make the fit robust \n",
    "        res=sm.OLS(factors[s].loc[ind],sm.add_constant(funding_liquidity.diff()[reg_fact]).loc[ind]).fit(cov_type='HAC',cov_kwds={'maxlags':1})\n",
    "        results_param.append(res.params[reg_fact])\n",
    "        results_t.append(res.tvalues[reg_fact])\n",
    "    results_df[reg_fact]=pd.Series(results_param)\n",
    "    results_df[reg_fact+'Tstats']=pd.Series(results_t)\n"
   ]
  },
  {
   "cell_type": "code",
   "execution_count": 69,
   "metadata": {},
   "outputs": [
    {
     "data": {
      "text/html": [
       "<div>\n",
       "<style scoped>\n",
       "    .dataframe tbody tr th:only-of-type {\n",
       "        vertical-align: middle;\n",
       "    }\n",
       "\n",
       "    .dataframe tbody tr th {\n",
       "        vertical-align: top;\n",
       "    }\n",
       "\n",
       "    .dataframe thead th {\n",
       "        text-align: right;\n",
       "    }\n",
       "</style>\n",
       "<table border=\"1\" class=\"dataframe\">\n",
       "  <thead>\n",
       "    <tr style=\"text-align: right;\">\n",
       "      <th></th>\n",
       "      <th>TED Spread</th>\n",
       "      <th>TED SpreadTstats</th>\n",
       "      <th>LIBOR term repo</th>\n",
       "      <th>LIBOR term repoTstats</th>\n",
       "    </tr>\n",
       "  </thead>\n",
       "  <tbody>\n",
       "    <tr>\n",
       "      <th>0</th>\n",
       "      <td>-0.63</td>\n",
       "      <td>-0.41</td>\n",
       "      <td>0.49</td>\n",
       "      <td>1.50</td>\n",
       "    </tr>\n",
       "    <tr>\n",
       "      <th>1</th>\n",
       "      <td>-0.23</td>\n",
       "      <td>-0.63</td>\n",
       "      <td>0.26</td>\n",
       "      <td>2.04</td>\n",
       "    </tr>\n",
       "    <tr>\n",
       "      <th>2</th>\n",
       "      <td>-0.12</td>\n",
       "      <td>-0.21</td>\n",
       "      <td>-0.23</td>\n",
       "      <td>-3.48</td>\n",
       "    </tr>\n",
       "    <tr>\n",
       "      <th>3</th>\n",
       "      <td>2.03</td>\n",
       "      <td>0.72</td>\n",
       "      <td>0.76</td>\n",
       "      <td>2.14</td>\n",
       "    </tr>\n",
       "    <tr>\n",
       "      <th>4</th>\n",
       "      <td>1.07</td>\n",
       "      <td>1.89</td>\n",
       "      <td>0.26</td>\n",
       "      <td>0.82</td>\n",
       "    </tr>\n",
       "    <tr>\n",
       "      <th>5</th>\n",
       "      <td>-0.58</td>\n",
       "      <td>-0.71</td>\n",
       "      <td>-0.30</td>\n",
       "      <td>-0.97</td>\n",
       "    </tr>\n",
       "    <tr>\n",
       "      <th>6</th>\n",
       "      <td>0.16</td>\n",
       "      <td>0.50</td>\n",
       "      <td>0.11</td>\n",
       "      <td>0.91</td>\n",
       "    </tr>\n",
       "  </tbody>\n",
       "</table>\n",
       "</div>"
      ],
      "text/plain": [
       "   TED Spread  TED SpreadTstats  LIBOR term repo  LIBOR term repoTstats\n",
       "0       -0.63             -0.41             0.49                   1.50\n",
       "1       -0.23             -0.63             0.26                   2.04\n",
       "2       -0.12             -0.21            -0.23                  -3.48\n",
       "3        2.03              0.72             0.76                   2.14\n",
       "4        1.07              1.89             0.26                   0.82\n",
       "5       -0.58             -0.71            -0.30                  -0.97\n",
       "6        0.16              0.50             0.11                   0.91"
      ]
     },
     "execution_count": 69,
     "metadata": {},
     "output_type": "execute_result"
    }
   ],
   "source": [
    "results_df.round(2)"
   ]
  },
  {
   "cell_type": "code",
   "execution_count": 70,
   "metadata": {},
   "outputs": [
    {
     "name": "stderr",
     "output_type": "stream",
     "text": [
      "/Users/mrefermat/anaconda/lib/python2.7/site-packages/ipykernel_launcher.py:7: FutureWarning: \n",
      "Passing list-likes to .loc or [] with any missing label will raise\n",
      "KeyError in the future, you can use .reindex() as an alternative.\n",
      "\n",
      "See the documentation here:\n",
      "http://pandas.pydata.org/pandas-docs/stable/indexing.html#deprecate-loc-reindex-listlike\n",
      "  import sys\n",
      "/Users/mrefermat/anaconda/lib/python2.7/site-packages/ipykernel_launcher.py:14: FutureWarning: set_axis currently defaults to operating inplace.\n",
      "This will change in a future version of pandas, use inplace=True to avoid this warning.\n",
      "  \n"
     ]
    }
   ],
   "source": [
    "#results_df=pd.DataFrame()\n",
    "for reg_fact in market_liquidity.columns:\n",
    "    results_param=[]\n",
    "    results_t=[]\n",
    "    for s in factors.columns:\n",
    "        ind2=market_liquidity.diff()[reg_fact].dropna().index\n",
    "        ind=factors[s].loc[ind2].dropna().index\n",
    "        # Please make the fit robust \n",
    "        res=sm.OLS(factors[s].loc[ind],sm.add_constant(market_liquidity.diff()[reg_fact]).loc[ind]).fit(cov_type='HAC',cov_kwds={'maxlags':1})\n",
    "        results_param.append(res.params[reg_fact])\n",
    "        results_t.append(res.tvalues[reg_fact])\n",
    "    results_df[reg_fact]=pd.Series(results_param)\n",
    "    results_df[reg_fact+'Tstats']=pd.Series(results_t)\n",
    "results_df.set_axis(factors.columns)"
   ]
  },
  {
   "cell_type": "code",
   "execution_count": 19,
   "metadata": {},
   "outputs": [
    {
     "name": "stdout",
     "output_type": "stream",
     "text": [
      "\\begin{tabular}{lrrrr}\n",
      "\\toprule\n",
      "{} &  Amihud Annual &  FHT Annual &  Amihud Monthly &  FHT Monthly \\\\\n",
      "\\midrule\n",
      "TED Spread            &          -0.23 &       -1.17 &           -0.34 &        -0.76 \\\\\n",
      "TED SpreadTstats      &          -0.63 &       -2.69 &           -0.95 &        -0.95 \\\\\n",
      "LIBOR term repo       &           0.26 &        0.09 &            0.25 &         0.38 \\\\\n",
      "LIBOR term repoTstats &           2.04 &        1.33 &            1.96 &         1.69 \\\\\n",
      "\\bottomrule\n",
      "\\end{tabular}\n",
      "\n"
     ]
    }
   ],
   "source": [
    "print results_df.round(2).T.to_latex()"
   ]
  }
 ],
 "metadata": {
  "kernelspec": {
   "display_name": "Python 2",
   "language": "python",
   "name": "python2"
  },
  "language_info": {
   "codemirror_mode": {
    "name": "ipython",
    "version": 2
   },
   "file_extension": ".py",
   "mimetype": "text/x-python",
   "name": "python",
   "nbconvert_exporter": "python",
   "pygments_lexer": "ipython2",
   "version": "2.7.12"
  }
 },
 "nbformat": 4,
 "nbformat_minor": 2
}
