{
 "cells": [
  {
   "cell_type": "code",
   "execution_count": 1,
   "metadata": {},
   "outputs": [
    {
     "name": "stderr",
     "output_type": "stream",
     "text": [
      "/Users/mrefermat/anaconda/lib/python2.7/site-packages/IPython/utils/traitlets.py:5: UserWarning: IPython.utils.traitlets has moved to a top-level traitlets package.\n",
      "  warn(\"IPython.utils.traitlets has moved to a top-level traitlets package.\")\n",
      "/Users/mrefermat/anaconda/lib/python2.7/site-packages/IPython/kernel/__init__.py:13: ShimWarning: The `IPython.kernel` package has been deprecated since IPython 4.0.You should import from ipykernel or jupyter_client instead.\n",
      "  \"You should import from ipykernel or jupyter_client instead.\", ShimWarning)\n"
     ]
    }
   ],
   "source": [
    "%matplotlib inline\n",
    "import seaborn\n",
    "import quandl\n",
    "import pandas as pd\n",
    "import seaborn as sns\n",
    "import math\n",
    "from tsmom_model import *\n",
    "import numpy as np\n",
    "from datetime import datetime\n",
    "import statsmodels.formula.api as sm\n",
    "token=\"Us3wFmXGgAj_1cUtHAAR\""
   ]
  },
  {
   "cell_type": "code",
   "execution_count": 2,
   "metadata": {},
   "outputs": [],
   "source": [
    "import pylab\n",
    "sns.set(font_scale=3)\n",
    "pylab.rcParams['figure.figsize'] = (24, 18)"
   ]
  },
  {
   "cell_type": "code",
   "execution_count": 3,
   "metadata": {},
   "outputs": [
    {
     "name": "stderr",
     "output_type": "stream",
     "text": [
      "tsmom_model.py:160: FutureWarning: how in .resample() is deprecated\n",
      "the new syntax is .resample(...).last()\n",
      "  data=pd.read_csv('./Price.csv',index_col=0,parse_dates=['Date']).resample(rule='d',how='last')\n",
      "tsmom_model.py:162: FutureWarning: how in .resample() is deprecated\n",
      "the new syntax is .resample(...).last()\n",
      "  qd=pd.read_csv('./liquid_contracts.csv',index_col=0,parse_dates=['Date']).resample(rule='d',how='last')\n"
     ]
    }
   ],
   "source": [
    "cleansed=load_amihud_markets_price()"
   ]
  },
  {
   "cell_type": "code",
   "execution_count": 4,
   "metadata": {},
   "outputs": [
    {
     "name": "stderr",
     "output_type": "stream",
     "text": [
      "tsmom_model.py:44: FutureWarning: how in .resample() is deprecated\n",
      "the new syntax is .resample(...).mean()\n",
      "  data=pd.read_csv('./Volume.csv',index_col=0,parse_dates=['Date']).resample(rule='d',how='mean')\n",
      "tsmom_model.py:46: FutureWarning: how in .resample() is deprecated\n",
      "the new syntax is .resample(...).sum()\n",
      "  v=pd.read_csv('./volume_data.csv',index_col=0,parse_dates=['Date']).resample(rule='d',how='sum')\n",
      "tsmom_model.py:48: FutureWarning: pd.rolling_mean is deprecated for DataFrame and will be removed in a future version, replace with \n",
      "\tDataFrame.rolling(min_periods=100,window=250,center=False).mean()\n",
      "  volume=pd.rolling_mean(v,250,min_periods=100).resample(rule='d',how='mean')[:'2016']\n",
      "tsmom_model.py:48: FutureWarning: how in .resample() is deprecated\n",
      "the new syntax is .resample(...).mean()\n",
      "  volume=pd.rolling_mean(v,250,min_periods=100).resample(rule='d',how='mean')[:'2016']\n",
      "tsmom_model.py:51: FutureWarning: pd.rolling_mean is deprecated for Series and will be removed in a future version, replace with \n",
      "\tSeries.rolling(min_periods=50,window=250,center=False).mean()\n",
      "  volume[name]=pd.rolling_mean(v2[x],250,min_periods=50).resample(rule='d',how='mean')\n",
      "tsmom_model.py:51: FutureWarning: how in .resample() is deprecated\n",
      "the new syntax is .resample(...).mean()\n",
      "  volume[name]=pd.rolling_mean(v2[x],250,min_periods=50).resample(rule='d',how='mean')\n",
      "tsmom_model.py:78: FutureWarning: how in .resample() is deprecated\n",
      "the new syntax is .resample(...).last()\n",
      "  fx=fx.resample(rule='d',how='last')\n",
      "tsmom_model.py:79: FutureWarning: how in .resample() is deprecated\n",
      "the new syntax is .resample(...).last()\n",
      "  px=cleansed.resample(rule='d',how='last')\n",
      "tsmom_model.py:87: FutureWarning: how in .resample() is deprecated\n",
      "the new syntax is .resample(...).mean()\n",
      "  x= (cleansed.pct_change().abs()/ total_vol).resample(rule='m',how='mean')\n"
     ]
    }
   ],
   "source": [
    "amihud=calculate_amihud_liquidity(cleansed)[:'2016'] "
   ]
  },
  {
   "cell_type": "code",
   "execution_count": 7,
   "metadata": {},
   "outputs": [],
   "source": [
    "liquidity_factors=get_all_factors(3)"
   ]
  },
  {
   "cell_type": "code",
   "execution_count": 8,
   "metadata": {},
   "outputs": [
    {
     "name": "stderr",
     "output_type": "stream",
     "text": [
      "/Users/mrefermat/anaconda/lib/python2.7/site-packages/ipykernel_launcher.py:9: FutureWarning: how in .resample() is deprecated\n",
      "the new syntax is .resample(...).last()\n",
      "  if __name__ == '__main__':\n"
     ]
    }
   ],
   "source": [
    "final_res=pd.DataFrame()\n",
    "r2=pd.Series()\n",
    "rmse=pd.Series()\n",
    "alpha={}\n",
    "tstat={}\n",
    "for sec in liquidity_factors.columns:\n",
    "    ind=liquidity_factors.dropna().index\n",
    "    reges=get_aqr_factors('All').loc[ind]\n",
    "    reges['Market Return']=cleansed.resample(rule='m',how='last').pct_change().mean(axis=1).dropna()\n",
    "    reges['const']=1\n",
    "    #reges['TERM']=quandl.get('FRED/THREEFYTP10',authtoken=token).Value.resample(rule='m',how='last')\n",
    "    res=sm.OLS(liquidity_factors[sec].loc[ind],reges).fit(cov_type='HAC',cov_kwds={'maxlags':1})\n",
    "    final_res[sec]=res.params\n",
    "    final_res[sec+'Tstats']=res.tvalues\n",
    "    r2[sec]=res.rsquared\n",
    "    rmse[sec]=math.sqrt(res.mse_model)\n",
    "    \n"
   ]
  },
  {
   "cell_type": "code",
   "execution_count": 9,
   "metadata": {},
   "outputs": [
    {
     "data": {
      "text/html": [
       "<div>\n",
       "<style scoped>\n",
       "    .dataframe tbody tr th:only-of-type {\n",
       "        vertical-align: middle;\n",
       "    }\n",
       "\n",
       "    .dataframe tbody tr th {\n",
       "        vertical-align: top;\n",
       "    }\n",
       "\n",
       "    .dataframe thead th {\n",
       "        text-align: right;\n",
       "    }\n",
       "</style>\n",
       "<table border=\"1\" class=\"dataframe\">\n",
       "  <thead>\n",
       "    <tr style=\"text-align: right;\">\n",
       "      <th></th>\n",
       "      <th>const</th>\n",
       "      <th>Market Return</th>\n",
       "      <th>VAL</th>\n",
       "      <th>MOM</th>\n",
       "    </tr>\n",
       "  </thead>\n",
       "  <tbody>\n",
       "    <tr>\n",
       "      <th>Amihud Monthly</th>\n",
       "      <td>0.0019</td>\n",
       "      <td>0.0426</td>\n",
       "      <td>0.2912</td>\n",
       "      <td>-0.0853</td>\n",
       "    </tr>\n",
       "    <tr>\n",
       "      <th>Amihud MonthlyTstats</th>\n",
       "      <td>1.1913</td>\n",
       "      <td>0.5650</td>\n",
       "      <td>2.2499</td>\n",
       "      <td>-0.8242</td>\n",
       "    </tr>\n",
       "    <tr>\n",
       "      <th>FHT Monthly</th>\n",
       "      <td>-0.0003</td>\n",
       "      <td>0.2341</td>\n",
       "      <td>-0.0460</td>\n",
       "      <td>-0.1642</td>\n",
       "    </tr>\n",
       "    <tr>\n",
       "      <th>FHT MonthlyTstats</th>\n",
       "      <td>-0.1772</td>\n",
       "      <td>2.9385</td>\n",
       "      <td>-0.2836</td>\n",
       "      <td>-1.4496</td>\n",
       "    </tr>\n",
       "    <tr>\n",
       "      <th>Amihud Annual</th>\n",
       "      <td>0.0029</td>\n",
       "      <td>-0.0610</td>\n",
       "      <td>0.1743</td>\n",
       "      <td>0.0006</td>\n",
       "    </tr>\n",
       "    <tr>\n",
       "      <th>Amihud AnnualTstats</th>\n",
       "      <td>1.6905</td>\n",
       "      <td>-0.7611</td>\n",
       "      <td>1.1339</td>\n",
       "      <td>0.0054</td>\n",
       "    </tr>\n",
       "    <tr>\n",
       "      <th>FHT Annual</th>\n",
       "      <td>0.0022</td>\n",
       "      <td>0.1832</td>\n",
       "      <td>-0.4746</td>\n",
       "      <td>-0.3601</td>\n",
       "    </tr>\n",
       "    <tr>\n",
       "      <th>FHT AnnualTstats</th>\n",
       "      <td>1.3701</td>\n",
       "      <td>2.4756</td>\n",
       "      <td>-3.2220</td>\n",
       "      <td>-4.0660</td>\n",
       "    </tr>\n",
       "  </tbody>\n",
       "</table>\n",
       "</div>"
      ],
      "text/plain": [
       "                       const  Market Return     VAL     MOM\n",
       "Amihud Monthly        0.0019         0.0426  0.2912 -0.0853\n",
       "Amihud MonthlyTstats  1.1913         0.5650  2.2499 -0.8242\n",
       "FHT Monthly          -0.0003         0.2341 -0.0460 -0.1642\n",
       "FHT MonthlyTstats    -0.1772         2.9385 -0.2836 -1.4496\n",
       "Amihud Annual         0.0029        -0.0610  0.1743  0.0006\n",
       "Amihud AnnualTstats   1.6905        -0.7611  1.1339  0.0054\n",
       "FHT Annual            0.0022         0.1832 -0.4746 -0.3601\n",
       "FHT AnnualTstats      1.3701         2.4756 -3.2220 -4.0660"
      ]
     },
     "execution_count": 9,
     "metadata": {},
     "output_type": "execute_result"
    }
   ],
   "source": [
    "final_res.T.round(4)[['const', u'Market Return','VAL', u'MOM' ]]"
   ]
  },
  {
   "cell_type": "code",
   "execution_count": 10,
   "metadata": {},
   "outputs": [
    {
     "name": "stdout",
     "output_type": "stream",
     "text": [
      "\\begin{tabular}{lrrrr}\n",
      "\\toprule\n",
      "{} &  const &  Market Return &   VAL &   MOM \\\\\n",
      "\\midrule\n",
      "Amihud Monthly       &   0.00 &           0.04 &  0.29 & -0.09 \\\\\n",
      "Amihud MonthlyTstats &   1.19 &           0.57 &  2.25 & -0.82 \\\\\n",
      "FHT Monthly          &  -0.00 &           0.23 & -0.05 & -0.16 \\\\\n",
      "FHT MonthlyTstats    &  -0.18 &           2.94 & -0.28 & -1.45 \\\\\n",
      "Amihud Annual        &   0.00 &          -0.06 &  0.17 &  0.00 \\\\\n",
      "Amihud AnnualTstats  &   1.69 &          -0.76 &  1.13 &  0.01 \\\\\n",
      "FHT Annual           &   0.00 &           0.18 & -0.47 & -0.36 \\\\\n",
      "FHT AnnualTstats     &   1.37 &           2.48 & -3.22 & -4.07 \\\\\n",
      "\\bottomrule\n",
      "\\end{tabular}\n",
      "\n"
     ]
    }
   ],
   "source": [
    "print final_res.T.round(2)[['const', u'Market Return','VAL', u'MOM' ]].to_latex()"
   ]
  },
  {
   "cell_type": "code",
   "execution_count": 11,
   "metadata": {},
   "outputs": [
    {
     "data": {
      "text/plain": [
       "Amihud Monthly     4.98\n",
       "FHT Monthly        8.77\n",
       "Amihud Annual      1.53\n",
       "FHT Annual        15.56\n",
       "dtype: float64"
      ]
     },
     "execution_count": 11,
     "metadata": {},
     "output_type": "execute_result"
    }
   ],
   "source": [
    "(r2*100).round(2)"
   ]
  },
  {
   "cell_type": "code",
   "execution_count": 12,
   "metadata": {},
   "outputs": [
    {
     "data": {
      "text/plain": [
       "Amihud Monthly    0.041\n",
       "FHT Monthly       0.056\n",
       "Amihud Annual     0.022\n",
       "FHT Annual        0.068\n",
       "dtype: float64"
      ]
     },
     "execution_count": 12,
     "metadata": {},
     "output_type": "execute_result"
    }
   ],
   "source": [
    "rmse.round(3)"
   ]
  },
  {
   "cell_type": "code",
   "execution_count": null,
   "metadata": {},
   "outputs": [],
   "source": []
  }
 ],
 "metadata": {
  "kernelspec": {
   "display_name": "Python 2",
   "language": "python",
   "name": "python2"
  },
  "language_info": {
   "codemirror_mode": {
    "name": "ipython",
    "version": 2
   },
   "file_extension": ".py",
   "mimetype": "text/x-python",
   "name": "python",
   "nbconvert_exporter": "python",
   "pygments_lexer": "ipython2",
   "version": "2.7.12"
  }
 },
 "nbformat": 4,
 "nbformat_minor": 2
}
