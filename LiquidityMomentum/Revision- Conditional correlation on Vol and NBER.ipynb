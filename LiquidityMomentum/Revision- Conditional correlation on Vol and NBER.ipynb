{
 "cells": [
  {
   "cell_type": "code",
   "execution_count": 1,
   "metadata": {},
   "outputs": [
    {
     "name": "stderr",
     "output_type": "stream",
     "text": [
      "/Users/mrefermat/anaconda/lib/python2.7/site-packages/IPython/utils/traitlets.py:5: UserWarning: IPython.utils.traitlets has moved to a top-level traitlets package.\n",
      "  warn(\"IPython.utils.traitlets has moved to a top-level traitlets package.\")\n",
      "/Users/mrefermat/anaconda/lib/python2.7/site-packages/IPython/kernel/__init__.py:13: ShimWarning: The `IPython.kernel` package has been deprecated since IPython 4.0.You should import from ipykernel or jupyter_client instead.\n",
      "  \"You should import from ipykernel or jupyter_client instead.\", ShimWarning)\n"
     ]
    }
   ],
   "source": [
    "%matplotlib inline\n",
    "import math\n",
    "import pandas as pd\n",
    "from tsmom_model import *\n",
    "import numpy as np\n",
    "from datetime import datetime\n",
    "import PPCA_MR as p\n",
    "import statsmodels.api as sm"
   ]
  },
  {
   "cell_type": "code",
   "execution_count": 2,
   "metadata": {},
   "outputs": [],
   "source": [
    "import pylab\n",
    "sns.set(font_scale=2)\n",
    "pylab.rcParams['figure.figsize'] = (24, 18)"
   ]
  },
  {
   "cell_type": "markdown",
   "metadata": {},
   "source": [
    "# Hand cleansed\n",
    "Hand cleaned to removed duplicates"
   ]
  },
  {
   "cell_type": "code",
   "execution_count": 3,
   "metadata": {},
   "outputs": [
    {
     "name": "stderr",
     "output_type": "stream",
     "text": [
      "tsmom_model.py:160: FutureWarning: how in .resample() is deprecated\n",
      "the new syntax is .resample(...).last()\n",
      "  data=pd.read_csv('./Price.csv',index_col=0,parse_dates=['Date']).resample(rule='d',how='last')\n",
      "tsmom_model.py:162: FutureWarning: how in .resample() is deprecated\n",
      "the new syntax is .resample(...).last()\n",
      "  qd=pd.read_csv('./liquid_contracts.csv',index_col=0,parse_dates=['Date']).resample(rule='d',how='last')\n"
     ]
    }
   ],
   "source": [
    "cleansed=load_amihud_markets_price()"
   ]
  },
  {
   "cell_type": "markdown",
   "metadata": {},
   "source": [
    "# Amihud methodology\n",
    "\n",
    "Amihud (2002) developed the illiquidity measure expressed by:\n",
    "\n",
    "$$ Amihud =\\frac{1}{N} \\sum \\frac{|r_t|}{\\text{dvol}_t} $$\n",
    "\n",
    "where $r_t$ is the return on day $t$ and $Volume_t$ is the dollar volume on day $t$. \n",
    "\n",
    "The benefit of taking the daily return is to weight the move by change of price and the volume.\n"
   ]
  },
  {
   "cell_type": "code",
   "execution_count": 4,
   "metadata": {},
   "outputs": [
    {
     "name": "stderr",
     "output_type": "stream",
     "text": [
      "tsmom_model.py:44: FutureWarning: how in .resample() is deprecated\n",
      "the new syntax is .resample(...).mean()\n",
      "  data=pd.read_csv('./Volume.csv',index_col=0,parse_dates=['Date']).resample(rule='d',how='mean')\n",
      "tsmom_model.py:46: FutureWarning: how in .resample() is deprecated\n",
      "the new syntax is .resample(...).sum()\n",
      "  v=pd.read_csv('./volume_data.csv',index_col=0,parse_dates=['Date']).resample(rule='d',how='sum')\n",
      "tsmom_model.py:48: FutureWarning: pd.rolling_mean is deprecated for DataFrame and will be removed in a future version, replace with \n",
      "\tDataFrame.rolling(min_periods=100,window=250,center=False).mean()\n",
      "  volume=pd.rolling_mean(v,250,min_periods=100).resample(rule='d',how='mean')[:'2016']\n",
      "tsmom_model.py:48: FutureWarning: how in .resample() is deprecated\n",
      "the new syntax is .resample(...).mean()\n",
      "  volume=pd.rolling_mean(v,250,min_periods=100).resample(rule='d',how='mean')[:'2016']\n",
      "tsmom_model.py:51: FutureWarning: pd.rolling_mean is deprecated for Series and will be removed in a future version, replace with \n",
      "\tSeries.rolling(min_periods=50,window=250,center=False).mean()\n",
      "  volume[name]=pd.rolling_mean(v2[x],250,min_periods=50).resample(rule='d',how='mean')\n",
      "tsmom_model.py:51: FutureWarning: how in .resample() is deprecated\n",
      "the new syntax is .resample(...).mean()\n",
      "  volume[name]=pd.rolling_mean(v2[x],250,min_periods=50).resample(rule='d',how='mean')\n",
      "tsmom_model.py:78: FutureWarning: how in .resample() is deprecated\n",
      "the new syntax is .resample(...).last()\n",
      "  fx=fx.resample(rule='d',how='last')\n",
      "tsmom_model.py:79: FutureWarning: how in .resample() is deprecated\n",
      "the new syntax is .resample(...).last()\n",
      "  px=cleansed.resample(rule='d',how='last')\n",
      "tsmom_model.py:87: FutureWarning: how in .resample() is deprecated\n",
      "the new syntax is .resample(...).mean()\n",
      "  x= (cleansed.pct_change().abs()/ total_vol).resample(rule='m',how='mean')\n"
     ]
    }
   ],
   "source": [
    "amihud=calculate_amihud_liquidity(cleansed)[:'2016'] "
   ]
  },
  {
   "cell_type": "markdown",
   "metadata": {},
   "source": [
    "# Academic papers\n",
    "Based on Illin, A., Raiko, T. 2010 paper called \"Practical Approaches to Principal Component Analysis in the Presence of Missing Values\"\n",
    "\n",
    "Tipping and Bishop (1999) introducted probablistic formulation of PCA (PPCA)\n",
    "\n",
    "\n",
    "Use a flavor of Probabilistic PCA that is robust to missing data (see Ilin and Raiko 2010). Rather than the vanilla one-shot SVD, PPCA uses an iterative EM procedure/fixed point algorithm. From an initial guess, it’ll alternatively interpolate missing data and update the components until convergence.\n",
    "\n",
    "On a side note, PPCA interpolates using information from all series, making it a multivariate interpolator. Be careful though, fitting the model to too many components will likely lead to overfitting problems in the interpolated data.\n",
    "\n",
    "Also note that I am using the standardization that is mentioned in Korajecyk and Sadka (2008) of expanding zscores\n"
   ]
  },
  {
   "cell_type": "code",
   "execution_count": 5,
   "metadata": {},
   "outputs": [
    {
     "name": "stderr",
     "output_type": "stream",
     "text": [
      "tsmom_model.py:399: FutureWarning: pd.rolling_mean is deprecated for DataFrame and will be removed in a future version, replace with \n",
      "\tDataFrame.rolling(min_periods=3,window=100000000,center=False).mean()\n",
      "  return (df-pd.rolling_mean(df,100000000,min_periods=min_per))/pd.rolling_std(df,100000000,min_periods=min_per)\n",
      "tsmom_model.py:399: FutureWarning: pd.rolling_std is deprecated for DataFrame and will be removed in a future version, replace with \n",
      "\tDataFrame.rolling(min_periods=3,window=100000000,center=False).std()\n",
      "  return (df-pd.rolling_mean(df,100000000,min_periods=min_per))/pd.rolling_std(df,100000000,min_periods=min_per)\n"
     ]
    }
   ],
   "source": [
    "#data=calc_zscore_ew(amihud.dropna(how='all')).dropna(how='all')\n",
    "data=calc_zscore_expanding_window(amihud.dropna(how='all'),3).dropna(how='all')"
   ]
  },
  {
   "cell_type": "code",
   "execution_count": 6,
   "metadata": {},
   "outputs": [],
   "source": [
    "sector_zscores={}\n",
    "d_map=sector_map(amihud)\n",
    "for sect in d_map.keys():\n",
    "    sector_zscores[sect]=data[d_map[sect]].dropna(how='all')"
   ]
  },
  {
   "cell_type": "code",
   "execution_count": 7,
   "metadata": {},
   "outputs": [
    {
     "name": "stderr",
     "output_type": "stream",
     "text": [
      "/Users/mrefermat/anaconda/lib/python2.7/site-packages/ipykernel_launcher.py:13: FutureWarning: set_axis currently defaults to operating inplace.\n",
      "This will change in a future version of pandas, use inplace=True to avoid this warning.\n",
      "  del sys.path[0]\n"
     ]
    }
   ],
   "source": [
    "sector_PC={}\n",
    "sector_variance_explained=pd.DataFrame()\n",
    "\n",
    "no_pc=3\n",
    "for sect in d_map.keys():\n",
    "    try: \n",
    "        PPCA=p.PPCA()\n",
    "        PPCA.fit(np.array(sector_zscores[sect]),d=no_pc)\n",
    "        sector_variance_explained[sect] = PPCA.var_exp\n",
    "        pcs=pd.DataFrame()\n",
    "        for i in range(0,no_pc,1):\n",
    "            x=pd.DataFrame(PPCA.C.T[i]*PPCA.data).sum(axis=1)\n",
    "            x.set_axis(sector_zscores[sect].index)\n",
    "            pcs[i]=x\n",
    "        sector_PC[sect] = pcs\n",
    "    except:\n",
    "        print sect"
   ]
  },
  {
   "cell_type": "code",
   "execution_count": 8,
   "metadata": {},
   "outputs": [
    {
     "name": "stderr",
     "output_type": "stream",
     "text": [
      "/Users/mrefermat/anaconda/lib/python2.7/site-packages/ipykernel_launcher.py:8: FutureWarning: set_axis currently defaults to operating inplace.\n",
      "This will change in a future version of pandas, use inplace=True to avoid this warning.\n",
      "  \n"
     ]
    }
   ],
   "source": [
    "no_fx = [i for i in data.columns if i not in d_map['Currencies']]\n",
    "PPCA=p.PPCA()\n",
    "PPCA.fit(np.array(data[no_fx]),d=no_pc)\n",
    "sector_variance_explained[sect] = PPCA.var_exp\n",
    "pcs=pd.DataFrame()\n",
    "for i in range(0,no_pc,1):\n",
    "    x=pd.DataFrame(PPCA.C.T[i]*PPCA.data).sum(axis=1)\n",
    "    x.set_axis(sector_zscores[sect].index)\n",
    "    pcs[i]=x\n",
    "sector_PC['Total'] = pcs"
   ]
  },
  {
   "cell_type": "code",
   "execution_count": 36,
   "metadata": {},
   "outputs": [],
   "source": [
    "totalFactor=pd.DataFrame()\n",
    "for s in ['Agriculturals',\n",
    " 'Energies',\n",
    " 'Equities',\n",
    " 'Metals',\n",
    " 'Fixed Income',\n",
    " 'Total']:\n",
    "    totalFactor[s]=sector_PC[s].mean(axis=1)"
   ]
  },
  {
   "cell_type": "markdown",
   "metadata": {},
   "source": [
    "# Conditional correlation on crisis\n",
    "\n"
   ]
  },
  {
   "cell_type": "code",
   "execution_count": 26,
   "metadata": {},
   "outputs": [],
   "source": [
    "vix_full=pd.read_csv('vix.csv',parse_dates=['date'],index_col=0)"
   ]
  },
  {
   "cell_type": "code",
   "execution_count": 27,
   "metadata": {},
   "outputs": [],
   "source": [
    "vix=vix_full['2000':'2016']"
   ]
  },
  {
   "cell_type": "code",
   "execution_count": 59,
   "metadata": {},
   "outputs": [
    {
     "data": {
      "text/html": [
       "<div>\n",
       "<style scoped>\n",
       "    .dataframe tbody tr th:only-of-type {\n",
       "        vertical-align: middle;\n",
       "    }\n",
       "\n",
       "    .dataframe tbody tr th {\n",
       "        vertical-align: top;\n",
       "    }\n",
       "\n",
       "    .dataframe thead th {\n",
       "        text-align: right;\n",
       "    }\n",
       "</style>\n",
       "<table border=\"1\" class=\"dataframe\">\n",
       "  <thead>\n",
       "    <tr style=\"text-align: right;\">\n",
       "      <th></th>\n",
       "      <th>Agriculturals</th>\n",
       "      <th>Energies</th>\n",
       "      <th>Equities</th>\n",
       "      <th>Metals</th>\n",
       "      <th>Fixed Income</th>\n",
       "      <th>Total</th>\n",
       "    </tr>\n",
       "  </thead>\n",
       "  <tbody>\n",
       "    <tr>\n",
       "      <th>Agriculturals</th>\n",
       "      <td>1.00</td>\n",
       "      <td>0.39</td>\n",
       "      <td>0.34</td>\n",
       "      <td>0.48</td>\n",
       "      <td>0.31</td>\n",
       "      <td>0.38</td>\n",
       "    </tr>\n",
       "    <tr>\n",
       "      <th>Energies</th>\n",
       "      <td>0.39</td>\n",
       "      <td>1.00</td>\n",
       "      <td>0.43</td>\n",
       "      <td>0.34</td>\n",
       "      <td>0.51</td>\n",
       "      <td>0.53</td>\n",
       "    </tr>\n",
       "    <tr>\n",
       "      <th>Equities</th>\n",
       "      <td>0.34</td>\n",
       "      <td>0.43</td>\n",
       "      <td>1.00</td>\n",
       "      <td>0.53</td>\n",
       "      <td>0.48</td>\n",
       "      <td>0.88</td>\n",
       "    </tr>\n",
       "    <tr>\n",
       "      <th>Metals</th>\n",
       "      <td>0.48</td>\n",
       "      <td>0.34</td>\n",
       "      <td>0.53</td>\n",
       "      <td>1.00</td>\n",
       "      <td>0.44</td>\n",
       "      <td>0.56</td>\n",
       "    </tr>\n",
       "    <tr>\n",
       "      <th>Fixed Income</th>\n",
       "      <td>0.31</td>\n",
       "      <td>0.51</td>\n",
       "      <td>0.48</td>\n",
       "      <td>0.44</td>\n",
       "      <td>1.00</td>\n",
       "      <td>0.47</td>\n",
       "    </tr>\n",
       "    <tr>\n",
       "      <th>Total</th>\n",
       "      <td>0.38</td>\n",
       "      <td>0.53</td>\n",
       "      <td>0.88</td>\n",
       "      <td>0.56</td>\n",
       "      <td>0.47</td>\n",
       "      <td>1.00</td>\n",
       "    </tr>\n",
       "  </tbody>\n",
       "</table>\n",
       "</div>"
      ],
      "text/plain": [
       "               Agriculturals  Energies  Equities  Metals  Fixed Income  Total\n",
       "Agriculturals           1.00      0.39      0.34    0.48          0.31   0.38\n",
       "Energies                0.39      1.00      0.43    0.34          0.51   0.53\n",
       "Equities                0.34      0.43      1.00    0.53          0.48   0.88\n",
       "Metals                  0.48      0.34      0.53    1.00          0.44   0.56\n",
       "Fixed Income            0.31      0.51      0.48    0.44          1.00   0.47\n",
       "Total                   0.38      0.53      0.88    0.56          0.47   1.00"
      ]
     },
     "execution_count": 59,
     "metadata": {},
     "output_type": "execute_result"
    }
   ],
   "source": [
    "# Above median vix\n",
    "ind=vix[vix>vix.median()].index\n",
    "totalFactor.ix[ind].corr().round(2).abs()"
   ]
  },
  {
   "cell_type": "code",
   "execution_count": 65,
   "metadata": {},
   "outputs": [
    {
     "name": "stdout",
     "output_type": "stream",
     "text": [
      "\\begin{tabular}{lrrrrrr}\n",
      "\\toprule\n",
      "{} &  Agriculturals &  Energies &  Equities &  Metals &  Fixed Income &  Total \\\\\n",
      "\\midrule\n",
      "Agriculturals &           1.00 &      0.05 &      0.05 &    0.01 &          0.02 &   0.03 \\\\\n",
      "Energies      &           0.05 &      1.00 &      0.14 &    0.14 &          0.33 &   0.01 \\\\\n",
      "Equities      &           0.05 &      0.14 &      1.00 &    0.20 &          0.37 &   0.76 \\\\\n",
      "Metals        &           0.01 &      0.14 &      0.20 &    1.00 &          0.26 &   0.28 \\\\\n",
      "Fixed Income  &           0.02 &      0.33 &      0.37 &    0.26 &          1.00 &   0.20 \\\\\n",
      "Total         &           0.03 &      0.01 &      0.76 &    0.28 &          0.20 &   1.00 \\\\\n",
      "\\bottomrule\n",
      "\\end{tabular}\n",
      "\n"
     ]
    }
   ],
   "source": [
    "print totalFactor.ix[ind].corr().round(2).abs().to_latex()"
   ]
  },
  {
   "cell_type": "code",
   "execution_count": 60,
   "metadata": {},
   "outputs": [
    {
     "data": {
      "text/html": [
       "<div>\n",
       "<style scoped>\n",
       "    .dataframe tbody tr th:only-of-type {\n",
       "        vertical-align: middle;\n",
       "    }\n",
       "\n",
       "    .dataframe tbody tr th {\n",
       "        vertical-align: top;\n",
       "    }\n",
       "\n",
       "    .dataframe thead th {\n",
       "        text-align: right;\n",
       "    }\n",
       "</style>\n",
       "<table border=\"1\" class=\"dataframe\">\n",
       "  <thead>\n",
       "    <tr style=\"text-align: right;\">\n",
       "      <th></th>\n",
       "      <th>Agriculturals</th>\n",
       "      <th>Energies</th>\n",
       "      <th>Equities</th>\n",
       "      <th>Metals</th>\n",
       "      <th>Fixed Income</th>\n",
       "      <th>Total</th>\n",
       "    </tr>\n",
       "  </thead>\n",
       "  <tbody>\n",
       "    <tr>\n",
       "      <th>Agriculturals</th>\n",
       "      <td>1.00</td>\n",
       "      <td>0.05</td>\n",
       "      <td>0.05</td>\n",
       "      <td>0.01</td>\n",
       "      <td>0.02</td>\n",
       "      <td>0.03</td>\n",
       "    </tr>\n",
       "    <tr>\n",
       "      <th>Energies</th>\n",
       "      <td>0.05</td>\n",
       "      <td>1.00</td>\n",
       "      <td>0.14</td>\n",
       "      <td>0.14</td>\n",
       "      <td>0.33</td>\n",
       "      <td>0.01</td>\n",
       "    </tr>\n",
       "    <tr>\n",
       "      <th>Equities</th>\n",
       "      <td>0.05</td>\n",
       "      <td>0.14</td>\n",
       "      <td>1.00</td>\n",
       "      <td>0.20</td>\n",
       "      <td>0.37</td>\n",
       "      <td>0.76</td>\n",
       "    </tr>\n",
       "    <tr>\n",
       "      <th>Metals</th>\n",
       "      <td>0.01</td>\n",
       "      <td>0.14</td>\n",
       "      <td>0.20</td>\n",
       "      <td>1.00</td>\n",
       "      <td>0.26</td>\n",
       "      <td>0.28</td>\n",
       "    </tr>\n",
       "    <tr>\n",
       "      <th>Fixed Income</th>\n",
       "      <td>0.02</td>\n",
       "      <td>0.33</td>\n",
       "      <td>0.37</td>\n",
       "      <td>0.26</td>\n",
       "      <td>1.00</td>\n",
       "      <td>0.20</td>\n",
       "    </tr>\n",
       "    <tr>\n",
       "      <th>Total</th>\n",
       "      <td>0.03</td>\n",
       "      <td>0.01</td>\n",
       "      <td>0.76</td>\n",
       "      <td>0.28</td>\n",
       "      <td>0.20</td>\n",
       "      <td>1.00</td>\n",
       "    </tr>\n",
       "  </tbody>\n",
       "</table>\n",
       "</div>"
      ],
      "text/plain": [
       "               Agriculturals  Energies  Equities  Metals  Fixed Income  Total\n",
       "Agriculturals           1.00      0.05      0.05    0.01          0.02   0.03\n",
       "Energies                0.05      1.00      0.14    0.14          0.33   0.01\n",
       "Equities                0.05      0.14      1.00    0.20          0.37   0.76\n",
       "Metals                  0.01      0.14      0.20    1.00          0.26   0.28\n",
       "Fixed Income            0.02      0.33      0.37    0.26          1.00   0.20\n",
       "Total                   0.03      0.01      0.76    0.28          0.20   1.00"
      ]
     },
     "execution_count": 60,
     "metadata": {},
     "output_type": "execute_result"
    }
   ],
   "source": [
    "# Below median vix\n",
    "ind=vix[vix<=vix.median()].index\n",
    "totalFactor.ix[ind].corr().round(2).abs()"
   ]
  },
  {
   "cell_type": "code",
   "execution_count": 66,
   "metadata": {},
   "outputs": [
    {
     "name": "stdout",
     "output_type": "stream",
     "text": [
      "\\begin{tabular}{lrrrrrr}\n",
      "\\toprule\n",
      "{} &  Agriculturals &  Energies &  Equities &  Metals &  Fixed Income &  Total \\\\\n",
      "\\midrule\n",
      "Agriculturals &           1.00 &      0.05 &      0.05 &    0.01 &          0.02 &   0.03 \\\\\n",
      "Energies      &           0.05 &      1.00 &      0.14 &    0.14 &          0.33 &   0.01 \\\\\n",
      "Equities      &           0.05 &      0.14 &      1.00 &    0.20 &          0.37 &   0.76 \\\\\n",
      "Metals        &           0.01 &      0.14 &      0.20 &    1.00 &          0.26 &   0.28 \\\\\n",
      "Fixed Income  &           0.02 &      0.33 &      0.37 &    0.26 &          1.00 &   0.20 \\\\\n",
      "Total         &           0.03 &      0.01 &      0.76 &    0.28 &          0.20 &   1.00 \\\\\n",
      "\\bottomrule\n",
      "\\end{tabular}\n",
      "\n"
     ]
    }
   ],
   "source": [
    "print totalFactor.ix[ind].corr().round(2).abs().to_latex()"
   ]
  },
  {
   "cell_type": "markdown",
   "metadata": {},
   "source": [
    "# FHT method"
   ]
  },
  {
   "cell_type": "code",
   "execution_count": 47,
   "metadata": {},
   "outputs": [],
   "source": [
    "FHT=calculate_FHT(cleansed)"
   ]
  },
  {
   "cell_type": "code",
   "execution_count": 48,
   "metadata": {},
   "outputs": [],
   "source": [
    "data=calc_zscore_expanding_window(FHT.dropna(how='all'),3).dropna(how='all')"
   ]
  },
  {
   "cell_type": "code",
   "execution_count": 49,
   "metadata": {},
   "outputs": [],
   "source": [
    "sector_zscores={}\n",
    "d_map=sector_map(amihud)\n",
    "for sect in d_map.keys():\n",
    "    sector_zscores[sect]=data[d_map[sect]].dropna(how='all')"
   ]
  },
  {
   "cell_type": "code",
   "execution_count": 50,
   "metadata": {},
   "outputs": [
    {
     "name": "stderr",
     "output_type": "stream",
     "text": [
      "/Users/mrefermat/anaconda/lib/python2.7/site-packages/ipykernel_launcher.py:13: FutureWarning: set_axis currently defaults to operating inplace.\n",
      "This will change in a future version of pandas, use inplace=True to avoid this warning.\n",
      "  del sys.path[0]\n"
     ]
    }
   ],
   "source": [
    "sector_PC={}\n",
    "sector_variance_explained=pd.DataFrame()\n",
    "\n",
    "no_pc=3\n",
    "for sect in d_map.keys():\n",
    "    try: \n",
    "        PPCA=p.PPCA()\n",
    "        PPCA.fit(np.array(sector_zscores[sect]),d=no_pc)\n",
    "        sector_variance_explained[sect] = PPCA.var_exp\n",
    "        pcs=pd.DataFrame()\n",
    "        for i in range(0,no_pc,1):\n",
    "            x=pd.DataFrame(PPCA.C.T[i]*PPCA.data).sum(axis=1)\n",
    "            x.set_axis(sector_zscores[sect].index)\n",
    "            pcs[i]=x\n",
    "        sector_PC[sect] = pcs\n",
    "    except:\n",
    "        print sect"
   ]
  },
  {
   "cell_type": "code",
   "execution_count": 51,
   "metadata": {},
   "outputs": [
    {
     "name": "stderr",
     "output_type": "stream",
     "text": [
      "/Users/mrefermat/anaconda/lib/python2.7/site-packages/ipykernel_launcher.py:7: FutureWarning: set_axis currently defaults to operating inplace.\n",
      "This will change in a future version of pandas, use inplace=True to avoid this warning.\n",
      "  import sys\n"
     ]
    }
   ],
   "source": [
    "PPCA=p.PPCA()\n",
    "PPCA.fit(np.array(data),d=no_pc)\n",
    "sector_variance_explained[sect] = PPCA.var_exp\n",
    "pcs=pd.DataFrame()\n",
    "for i in range(0,no_pc,1):\n",
    "    x=pd.DataFrame(PPCA.C.T[i]*PPCA.data).sum(axis=1)\n",
    "    x.set_axis(sector_zscores[sect].index)\n",
    "    pcs[i]=x\n",
    "sector_PC['Total'] = pcs\n"
   ]
  },
  {
   "cell_type": "code",
   "execution_count": 55,
   "metadata": {},
   "outputs": [],
   "source": [
    "totalFactor_FHT=pd.DataFrame()\n",
    "for s in ['Agriculturals','Currencies',\n",
    " 'Energies',\n",
    " 'Equities',\n",
    " 'Metals',\n",
    " 'Fixed Income',\n",
    " 'Total']:\n",
    "    totalFactor_FHT[s]=sector_PC[s].mean(axis=1)"
   ]
  },
  {
   "cell_type": "code",
   "execution_count": 67,
   "metadata": {},
   "outputs": [
    {
     "data": {
      "text/html": [
       "<div>\n",
       "<style scoped>\n",
       "    .dataframe tbody tr th:only-of-type {\n",
       "        vertical-align: middle;\n",
       "    }\n",
       "\n",
       "    .dataframe tbody tr th {\n",
       "        vertical-align: top;\n",
       "    }\n",
       "\n",
       "    .dataframe thead th {\n",
       "        text-align: right;\n",
       "    }\n",
       "</style>\n",
       "<table border=\"1\" class=\"dataframe\">\n",
       "  <thead>\n",
       "    <tr style=\"text-align: right;\">\n",
       "      <th></th>\n",
       "      <th>Agriculturals</th>\n",
       "      <th>Currencies</th>\n",
       "      <th>Energies</th>\n",
       "      <th>Equities</th>\n",
       "      <th>Metals</th>\n",
       "      <th>Fixed Income</th>\n",
       "      <th>Total</th>\n",
       "    </tr>\n",
       "  </thead>\n",
       "  <tbody>\n",
       "    <tr>\n",
       "      <th>Agriculturals</th>\n",
       "      <td>1.00</td>\n",
       "      <td>0.26</td>\n",
       "      <td>0.30</td>\n",
       "      <td>0.34</td>\n",
       "      <td>0.13</td>\n",
       "      <td>0.22</td>\n",
       "      <td>0.52</td>\n",
       "    </tr>\n",
       "    <tr>\n",
       "      <th>Currencies</th>\n",
       "      <td>0.26</td>\n",
       "      <td>1.00</td>\n",
       "      <td>0.27</td>\n",
       "      <td>0.46</td>\n",
       "      <td>0.40</td>\n",
       "      <td>0.85</td>\n",
       "      <td>0.75</td>\n",
       "    </tr>\n",
       "    <tr>\n",
       "      <th>Energies</th>\n",
       "      <td>0.30</td>\n",
       "      <td>0.27</td>\n",
       "      <td>1.00</td>\n",
       "      <td>0.42</td>\n",
       "      <td>0.24</td>\n",
       "      <td>0.21</td>\n",
       "      <td>0.56</td>\n",
       "    </tr>\n",
       "    <tr>\n",
       "      <th>Equities</th>\n",
       "      <td>0.34</td>\n",
       "      <td>0.46</td>\n",
       "      <td>0.42</td>\n",
       "      <td>1.00</td>\n",
       "      <td>0.46</td>\n",
       "      <td>0.57</td>\n",
       "      <td>0.80</td>\n",
       "    </tr>\n",
       "    <tr>\n",
       "      <th>Metals</th>\n",
       "      <td>0.13</td>\n",
       "      <td>0.40</td>\n",
       "      <td>0.24</td>\n",
       "      <td>0.46</td>\n",
       "      <td>1.00</td>\n",
       "      <td>0.49</td>\n",
       "      <td>0.51</td>\n",
       "    </tr>\n",
       "    <tr>\n",
       "      <th>Fixed Income</th>\n",
       "      <td>0.22</td>\n",
       "      <td>0.85</td>\n",
       "      <td>0.21</td>\n",
       "      <td>0.57</td>\n",
       "      <td>0.49</td>\n",
       "      <td>1.00</td>\n",
       "      <td>0.77</td>\n",
       "    </tr>\n",
       "    <tr>\n",
       "      <th>Total</th>\n",
       "      <td>0.52</td>\n",
       "      <td>0.75</td>\n",
       "      <td>0.56</td>\n",
       "      <td>0.80</td>\n",
       "      <td>0.51</td>\n",
       "      <td>0.77</td>\n",
       "      <td>1.00</td>\n",
       "    </tr>\n",
       "  </tbody>\n",
       "</table>\n",
       "</div>"
      ],
      "text/plain": [
       "               Agriculturals  Currencies  Energies  Equities  Metals  \\\n",
       "Agriculturals           1.00        0.26      0.30      0.34    0.13   \n",
       "Currencies              0.26        1.00      0.27      0.46    0.40   \n",
       "Energies                0.30        0.27      1.00      0.42    0.24   \n",
       "Equities                0.34        0.46      0.42      1.00    0.46   \n",
       "Metals                  0.13        0.40      0.24      0.46    1.00   \n",
       "Fixed Income            0.22        0.85      0.21      0.57    0.49   \n",
       "Total                   0.52        0.75      0.56      0.80    0.51   \n",
       "\n",
       "               Fixed Income  Total  \n",
       "Agriculturals          0.22   0.52  \n",
       "Currencies             0.85   0.75  \n",
       "Energies               0.21   0.56  \n",
       "Equities               0.57   0.80  \n",
       "Metals                 0.49   0.51  \n",
       "Fixed Income           1.00   0.77  \n",
       "Total                  0.77   1.00  "
      ]
     },
     "execution_count": 67,
     "metadata": {},
     "output_type": "execute_result"
    }
   ],
   "source": [
    "# Above median vix\n",
    "ind=vix[vix>vix.median()].index\n",
    "totalFactor_FHT.ix[ind].corr().round(2).abs()"
   ]
  },
  {
   "cell_type": "code",
   "execution_count": 68,
   "metadata": {},
   "outputs": [
    {
     "name": "stdout",
     "output_type": "stream",
     "text": [
      "\\begin{tabular}{lrrrrrrr}\n",
      "\\toprule\n",
      "{} &  Agriculturals &  Currencies &  Energies &  Equities &  Metals &  Fixed Income &  Total \\\\\n",
      "\\midrule\n",
      "Agriculturals &           1.00 &        0.26 &      0.30 &      0.34 &    0.13 &          0.22 &   0.52 \\\\\n",
      "Currencies    &           0.26 &        1.00 &      0.27 &      0.46 &    0.40 &          0.85 &   0.75 \\\\\n",
      "Energies      &           0.30 &        0.27 &      1.00 &      0.42 &    0.24 &          0.21 &   0.56 \\\\\n",
      "Equities      &           0.34 &        0.46 &      0.42 &      1.00 &    0.46 &          0.57 &   0.80 \\\\\n",
      "Metals        &           0.13 &        0.40 &      0.24 &      0.46 &    1.00 &          0.49 &   0.51 \\\\\n",
      "Fixed Income  &           0.22 &        0.85 &      0.21 &      0.57 &    0.49 &          1.00 &   0.77 \\\\\n",
      "Total         &           0.52 &        0.75 &      0.56 &      0.80 &    0.51 &          0.77 &   1.00 \\\\\n",
      "\\bottomrule\n",
      "\\end{tabular}\n",
      "\n"
     ]
    }
   ],
   "source": [
    "print totalFactor_FHT.ix[ind].corr().round(2).abs().to_latex()"
   ]
  },
  {
   "cell_type": "code",
   "execution_count": 69,
   "metadata": {},
   "outputs": [
    {
     "data": {
      "text/html": [
       "<div>\n",
       "<style scoped>\n",
       "    .dataframe tbody tr th:only-of-type {\n",
       "        vertical-align: middle;\n",
       "    }\n",
       "\n",
       "    .dataframe tbody tr th {\n",
       "        vertical-align: top;\n",
       "    }\n",
       "\n",
       "    .dataframe thead th {\n",
       "        text-align: right;\n",
       "    }\n",
       "</style>\n",
       "<table border=\"1\" class=\"dataframe\">\n",
       "  <thead>\n",
       "    <tr style=\"text-align: right;\">\n",
       "      <th></th>\n",
       "      <th>Agriculturals</th>\n",
       "      <th>Currencies</th>\n",
       "      <th>Energies</th>\n",
       "      <th>Equities</th>\n",
       "      <th>Metals</th>\n",
       "      <th>Fixed Income</th>\n",
       "      <th>Total</th>\n",
       "    </tr>\n",
       "  </thead>\n",
       "  <tbody>\n",
       "    <tr>\n",
       "      <th>Agriculturals</th>\n",
       "      <td>1.00</td>\n",
       "      <td>0.31</td>\n",
       "      <td>0.21</td>\n",
       "      <td>0.05</td>\n",
       "      <td>0.13</td>\n",
       "      <td>0.16</td>\n",
       "      <td>0.51</td>\n",
       "    </tr>\n",
       "    <tr>\n",
       "      <th>Currencies</th>\n",
       "      <td>0.31</td>\n",
       "      <td>1.00</td>\n",
       "      <td>0.29</td>\n",
       "      <td>0.27</td>\n",
       "      <td>0.21</td>\n",
       "      <td>0.68</td>\n",
       "      <td>0.82</td>\n",
       "    </tr>\n",
       "    <tr>\n",
       "      <th>Energies</th>\n",
       "      <td>0.21</td>\n",
       "      <td>0.29</td>\n",
       "      <td>1.00</td>\n",
       "      <td>0.17</td>\n",
       "      <td>0.36</td>\n",
       "      <td>0.22</td>\n",
       "      <td>0.41</td>\n",
       "    </tr>\n",
       "    <tr>\n",
       "      <th>Equities</th>\n",
       "      <td>0.05</td>\n",
       "      <td>0.27</td>\n",
       "      <td>0.17</td>\n",
       "      <td>1.00</td>\n",
       "      <td>0.27</td>\n",
       "      <td>0.37</td>\n",
       "      <td>0.40</td>\n",
       "    </tr>\n",
       "    <tr>\n",
       "      <th>Metals</th>\n",
       "      <td>0.13</td>\n",
       "      <td>0.21</td>\n",
       "      <td>0.36</td>\n",
       "      <td>0.27</td>\n",
       "      <td>1.00</td>\n",
       "      <td>0.16</td>\n",
       "      <td>0.22</td>\n",
       "    </tr>\n",
       "    <tr>\n",
       "      <th>Fixed Income</th>\n",
       "      <td>0.16</td>\n",
       "      <td>0.68</td>\n",
       "      <td>0.22</td>\n",
       "      <td>0.37</td>\n",
       "      <td>0.16</td>\n",
       "      <td>1.00</td>\n",
       "      <td>0.68</td>\n",
       "    </tr>\n",
       "    <tr>\n",
       "      <th>Total</th>\n",
       "      <td>0.51</td>\n",
       "      <td>0.82</td>\n",
       "      <td>0.41</td>\n",
       "      <td>0.40</td>\n",
       "      <td>0.22</td>\n",
       "      <td>0.68</td>\n",
       "      <td>1.00</td>\n",
       "    </tr>\n",
       "  </tbody>\n",
       "</table>\n",
       "</div>"
      ],
      "text/plain": [
       "               Agriculturals  Currencies  Energies  Equities  Metals  \\\n",
       "Agriculturals           1.00        0.31      0.21      0.05    0.13   \n",
       "Currencies              0.31        1.00      0.29      0.27    0.21   \n",
       "Energies                0.21        0.29      1.00      0.17    0.36   \n",
       "Equities                0.05        0.27      0.17      1.00    0.27   \n",
       "Metals                  0.13        0.21      0.36      0.27    1.00   \n",
       "Fixed Income            0.16        0.68      0.22      0.37    0.16   \n",
       "Total                   0.51        0.82      0.41      0.40    0.22   \n",
       "\n",
       "               Fixed Income  Total  \n",
       "Agriculturals          0.16   0.51  \n",
       "Currencies             0.68   0.82  \n",
       "Energies               0.22   0.41  \n",
       "Equities               0.37   0.40  \n",
       "Metals                 0.16   0.22  \n",
       "Fixed Income           1.00   0.68  \n",
       "Total                  0.68   1.00  "
      ]
     },
     "execution_count": 69,
     "metadata": {},
     "output_type": "execute_result"
    }
   ],
   "source": [
    "# Below median vix\n",
    "ind=vix[vix<=vix.median()].index\n",
    "totalFactor_FHT.ix[ind].corr().round(2).abs()"
   ]
  },
  {
   "cell_type": "code",
   "execution_count": 70,
   "metadata": {},
   "outputs": [
    {
     "name": "stdout",
     "output_type": "stream",
     "text": [
      "\\begin{tabular}{lrrrrrrr}\n",
      "\\toprule\n",
      "{} &  Agriculturals &  Currencies &  Energies &  Equities &  Metals &  Fixed Income &  Total \\\\\n",
      "\\midrule\n",
      "Agriculturals &           1.00 &        0.31 &      0.21 &      0.05 &    0.13 &          0.16 &   0.51 \\\\\n",
      "Currencies    &           0.31 &        1.00 &      0.29 &      0.27 &    0.21 &          0.68 &   0.82 \\\\\n",
      "Energies      &           0.21 &        0.29 &      1.00 &      0.17 &    0.36 &          0.22 &   0.41 \\\\\n",
      "Equities      &           0.05 &        0.27 &      0.17 &      1.00 &    0.27 &          0.37 &   0.40 \\\\\n",
      "Metals        &           0.13 &        0.21 &      0.36 &      0.27 &    1.00 &          0.16 &   0.22 \\\\\n",
      "Fixed Income  &           0.16 &        0.68 &      0.22 &      0.37 &    0.16 &          1.00 &   0.68 \\\\\n",
      "Total         &           0.51 &        0.82 &      0.41 &      0.40 &    0.22 &          0.68 &   1.00 \\\\\n",
      "\\bottomrule\n",
      "\\end{tabular}\n",
      "\n"
     ]
    }
   ],
   "source": [
    "print totalFactor_FHT.ix[ind].corr().round(2).abs().to_latex()"
   ]
  },
  {
   "cell_type": "code",
   "execution_count": null,
   "metadata": {},
   "outputs": [],
   "source": []
  },
  {
   "cell_type": "code",
   "execution_count": null,
   "metadata": {},
   "outputs": [],
   "source": []
  },
  {
   "cell_type": "markdown",
   "metadata": {},
   "source": [
    "# Presentation"
   ]
  },
  {
   "cell_type": "code",
   "execution_count": null,
   "metadata": {},
   "outputs": [],
   "source": []
  },
  {
   "cell_type": "code",
   "execution_count": null,
   "metadata": {},
   "outputs": [],
   "source": []
  },
  {
   "cell_type": "code",
   "execution_count": null,
   "metadata": {},
   "outputs": [],
   "source": []
  },
  {
   "cell_type": "code",
   "execution_count": null,
   "metadata": {},
   "outputs": [],
   "source": []
  },
  {
   "cell_type": "code",
   "execution_count": null,
   "metadata": {},
   "outputs": [],
   "source": []
  }
 ],
 "metadata": {
  "kernelspec": {
   "display_name": "Python 2",
   "language": "python",
   "name": "python2"
  },
  "language_info": {
   "codemirror_mode": {
    "name": "ipython",
    "version": 2
   },
   "file_extension": ".py",
   "mimetype": "text/x-python",
   "name": "python",
   "nbconvert_exporter": "python",
   "pygments_lexer": "ipython2",
   "version": "2.7.12"
  }
 },
 "nbformat": 4,
 "nbformat_minor": 4
}
