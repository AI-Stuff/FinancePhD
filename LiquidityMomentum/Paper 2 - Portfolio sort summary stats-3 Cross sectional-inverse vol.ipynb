{
 "cells": [
  {
   "cell_type": "code",
   "execution_count": 1,
   "metadata": {},
   "outputs": [
    {
     "name": "stderr",
     "output_type": "stream",
     "text": [
      "/Users/mrefermat/anaconda/lib/python2.7/site-packages/IPython/utils/traitlets.py:5: UserWarning: IPython.utils.traitlets has moved to a top-level traitlets package.\n",
      "  warn(\"IPython.utils.traitlets has moved to a top-level traitlets package.\")\n",
      "/Users/mrefermat/anaconda/lib/python2.7/site-packages/IPython/kernel/__init__.py:13: ShimWarning: The `IPython.kernel` package has been deprecated since IPython 4.0.You should import from ipykernel or jupyter_client instead.\n",
      "  \"You should import from ipykernel or jupyter_client instead.\", ShimWarning)\n"
     ]
    }
   ],
   "source": [
    "%matplotlib inline\n",
    "import seaborn\n",
    "import quandl\n",
    "import pandas as pd\n",
    "import seaborn as sns\n",
    "import math\n",
    "from tsmom_model import *\n",
    "import numpy as np\n",
    "from datetime import datetime\n",
    "import statsmodels.formula.api as sm\n",
    "token=\"Us3wFmXGgAj_1cUtHAAR\""
   ]
  },
  {
   "cell_type": "code",
   "execution_count": 2,
   "metadata": {},
   "outputs": [],
   "source": [
    "import pylab\n",
    "sns.set(font_scale=3)\n",
    "pylab.rcParams['figure.figsize'] = (24, 18)"
   ]
  },
  {
   "cell_type": "code",
   "execution_count": 3,
   "metadata": {},
   "outputs": [
    {
     "name": "stderr",
     "output_type": "stream",
     "text": [
      "tsmom_model.py:160: FutureWarning: how in .resample() is deprecated\n",
      "the new syntax is .resample(...).last()\n",
      "  data=pd.read_csv('./Price.csv',index_col=0,parse_dates=['Date']).resample(rule='d',how='last')\n",
      "tsmom_model.py:162: FutureWarning: how in .resample() is deprecated\n",
      "the new syntax is .resample(...).last()\n",
      "  qd=pd.read_csv('./liquid_contracts.csv',index_col=0,parse_dates=['Date']).resample(rule='d',how='last')\n"
     ]
    }
   ],
   "source": [
    "cleansed=load_amihud_markets_price()"
   ]
  },
  {
   "cell_type": "code",
   "execution_count": 4,
   "metadata": {},
   "outputs": [
    {
     "name": "stderr",
     "output_type": "stream",
     "text": [
      "tsmom_model.py:44: FutureWarning: how in .resample() is deprecated\n",
      "the new syntax is .resample(...).mean()\n",
      "  data=pd.read_csv('./Volume.csv',index_col=0,parse_dates=['Date']).resample(rule='d',how='mean')\n",
      "tsmom_model.py:46: FutureWarning: how in .resample() is deprecated\n",
      "the new syntax is .resample(...).sum()\n",
      "  v=pd.read_csv('./volume_data.csv',index_col=0,parse_dates=['Date']).resample(rule='d',how='sum')\n",
      "tsmom_model.py:48: FutureWarning: pd.rolling_mean is deprecated for DataFrame and will be removed in a future version, replace with \n",
      "\tDataFrame.rolling(min_periods=100,window=250,center=False).mean()\n",
      "  volume=pd.rolling_mean(v,250,min_periods=100).resample(rule='d',how='mean')[:'2016']\n",
      "tsmom_model.py:48: FutureWarning: how in .resample() is deprecated\n",
      "the new syntax is .resample(...).mean()\n",
      "  volume=pd.rolling_mean(v,250,min_periods=100).resample(rule='d',how='mean')[:'2016']\n",
      "tsmom_model.py:51: FutureWarning: pd.rolling_mean is deprecated for Series and will be removed in a future version, replace with \n",
      "\tSeries.rolling(min_periods=50,window=250,center=False).mean()\n",
      "  volume[name]=pd.rolling_mean(v2[x],250,min_periods=50).resample(rule='d',how='mean')\n",
      "tsmom_model.py:51: FutureWarning: how in .resample() is deprecated\n",
      "the new syntax is .resample(...).mean()\n",
      "  volume[name]=pd.rolling_mean(v2[x],250,min_periods=50).resample(rule='d',how='mean')\n",
      "tsmom_model.py:78: FutureWarning: how in .resample() is deprecated\n",
      "the new syntax is .resample(...).last()\n",
      "  fx=fx.resample(rule='d',how='last')\n",
      "tsmom_model.py:79: FutureWarning: how in .resample() is deprecated\n",
      "the new syntax is .resample(...).last()\n",
      "  px=cleansed.resample(rule='d',how='last')\n",
      "tsmom_model.py:87: FutureWarning: how in .resample() is deprecated\n",
      "the new syntax is .resample(...).mean()\n",
      "  x= (cleansed.pct_change().abs()/ total_vol).resample(rule='m',how='mean')\n"
     ]
    }
   ],
   "source": [
    "amihud=calculate_amihud_liquidity(cleansed)[:'2016'] "
   ]
  },
  {
   "cell_type": "code",
   "execution_count": 5,
   "metadata": {},
   "outputs": [
    {
     "name": "stderr",
     "output_type": "stream",
     "text": [
      "/Users/mrefermat/anaconda/lib/python2.7/site-packages/ipykernel_launcher.py:4: FutureWarning: how in .resample() is deprecated\n",
      "the new syntax is .resample(...).last()\n",
      "  after removing the cwd from sys.path.\n"
     ]
    }
   ],
   "source": [
    "sector_rtns={}\n",
    "d_map=sector_map(amihud)\n",
    "for sect in d_map.keys():\n",
    "    sector_rtns[sect]=np.log(cleansed[d_map[sect]].resample(rule='m',how='last')).diff().dropna(how='all')"
   ]
  },
  {
   "cell_type": "markdown",
   "metadata": {},
   "source": [
    "# Presentation to be like \"Time Varying Liquidity and Momentum Profits (2015) paper\n",
    "\n",
    "Rank by deciles, HML (8,9,10) - (1,2,3).  Save monthly returns (equal (risk?) weighted) and if you want to annualized then resample.\n",
    "\n",
    "\n",
    "Then correlation matrix \n",
    "* Overall market vol?\n",
    "* Market illiquidity (median Amihud through time series)\n"
   ]
  },
  {
   "cell_type": "markdown",
   "metadata": {},
   "source": [
    "# Amihud (2002) Annual portfolio sorts"
   ]
  },
  {
   "cell_type": "code",
   "execution_count": 6,
   "metadata": {},
   "outputs": [],
   "source": [
    "sector_zscores=sector_XS_normalized(amihud)"
   ]
  },
  {
   "cell_type": "markdown",
   "metadata": {},
   "source": [
    "# Annual portfolio sorts"
   ]
  },
  {
   "cell_type": "code",
   "execution_count": 7,
   "metadata": {},
   "outputs": [
    {
     "name": "stderr",
     "output_type": "stream",
     "text": [
      "tsmom_model.py:249: FutureWarning: how in .resample() is deprecated\n",
      "the new syntax is .resample(...).last()\n",
      "  vol=pd.DataFrame.rolling(price_data.resample(rule='m',how='last').pct_change(),36).std().replace(0,1)\n",
      "tsmom_model.py:257: FutureWarning: how in .resample() is deprecated\n",
      "the new syntax is .resample(...).median()\n",
      "  mkts=quantile_columns(rank_data.resample(rule='a',how='median'),year,number_of_buckets,i)\n",
      "tsmom_model.py:261: FutureWarning: how in .resample() is deprecated\n",
      "the new syntax is .resample(...).last()\n",
      "  rtns = w.multiply(price_data.resample(rule='m',how='last')[mkts].pct_change()[str(y+1)]).sum(axis=1)\n"
     ]
    }
   ],
   "source": [
    "sector_portfolio_sorts={}\n",
    "for s in sector_zscores.keys():\n",
    "    sector_portfolio_sorts[s]=quantile_portfolios_annual_inverse_vol(sector_zscores[s],cleansed,3)"
   ]
  },
  {
   "cell_type": "code",
   "execution_count": 8,
   "metadata": {},
   "outputs": [
    {
     "name": "stdout",
     "output_type": "stream",
     "text": [
      "Agriculturals\n"
     ]
    },
    {
     "name": "stderr",
     "output_type": "stream",
     "text": [
      "/Users/mrefermat/anaconda/lib/python2.7/site-packages/ipykernel_launcher.py:3: FutureWarning: how in .resample() is deprecated\n",
      "the new syntax is .resample(...).last()\n",
      "  This is separate from the ipykernel package so we can avoid doing imports until\n"
     ]
    },
    {
     "name": "stdout",
     "output_type": "stream",
     "text": [
      "\\begin{tabular}{lrrrr}\n",
      "\\toprule\n",
      "{} &      0 &      1 &      2 &  Factor \\\\\n",
      "\\midrule\n",
      "Monthly Return (in \\%)        &   0.66 &   0.60 &   0.99 &    0.33 \\\\\n",
      "Standard Deviation           &  15.88 &  12.05 &  15.36 &   14.69 \\\\\n",
      "Information Ratio            &   0.50 &   0.60 &   0.77 &    0.27 \\\\\n",
      "Skewness                     &  -0.19 &  -0.55 &  -0.09 &    0.17 \\\\\n",
      "Excess Kurtosis              &   0.72 &   2.86 &   0.34 &   -0.02 \\\\\n",
      "CAPM Alpha Annualized (in \\%) &   4.24 &   4.54 &   8.60 &    4.36 \\\\\n",
      "CAPM Alpha Tstat             &   2.36 &   2.84 &   4.33 &    1.36 \\\\\n",
      "CAPM Beta (in \\%)             &   1.02 &   0.74 &   0.90 &   -0.12 \\\\\n",
      "CAPM Beta Tstat              &  19.83 &  16.48 &  21.37 &   -1.60 \\\\\n",
      "\\$R\\textasciicircum2\\$                        &   0.76 &   0.69 &   0.63 &    0.01 \\\\\n",
      "\\bottomrule\n",
      "\\end{tabular}\n",
      "\n",
      "All\n",
      "\\begin{tabular}{lrrrr}\n",
      "\\toprule\n",
      "{} &      0 &     1 &      2 &  Factor \\\\\n",
      "\\midrule\n",
      "Monthly Return (in \\%)        &   0.17 &  0.39 &   0.42 &    0.26 \\\\\n",
      "Standard Deviation           &   8.06 &  5.19 &   5.51 &    5.90 \\\\\n",
      "Information Ratio            &   0.25 &  0.90 &   0.92 &    0.52 \\\\\n",
      "Skewness                     &  -1.74 &  0.06 &  -0.62 &    0.64 \\\\\n",
      "Excess Kurtosis              &  12.21 &  0.69 &   3.47 &    3.40 \\\\\n",
      "CAPM Alpha Annualized (in \\%) &   0.04 &  3.72 &   3.63 &    3.58 \\\\\n",
      "CAPM Alpha Tstat             &   0.03 &  3.62 &   6.47 &    2.59 \\\\\n",
      "CAPM Beta (in \\%)             &   0.77 &  0.37 &   0.58 &   -0.19 \\\\\n",
      "CAPM Beta Tstat              &  10.09 &  6.29 &  22.32 &   -2.08 \\\\\n",
      "\\$R\\textasciicircum2\\$                        &   0.66 &  0.37 &   0.80 &    0.07 \\\\\n",
      "\\bottomrule\n",
      "\\end{tabular}\n",
      "\n",
      "Currencies\n",
      "\\begin{tabular}{lrrrr}\n",
      "\\toprule\n",
      "{} &      0 &     1 &     2 &  Factor \\\\\n",
      "\\midrule\n",
      "Monthly Return (in \\%)        &  -0.30 &  0.10 &  0.21 &    0.51 \\\\\n",
      "Standard Deviation           &   9.93 &  7.94 &  5.08 &    9.22 \\\\\n",
      "Information Ratio            &  -0.37 &  0.15 &  0.49 &    0.67 \\\\\n",
      "Skewness                     &  -0.76 &  0.88 &  0.71 &    0.14 \\\\\n",
      "Excess Kurtosis              &   2.01 &  5.39 &  5.91 &    0.44 \\\\\n",
      "CAPM Alpha Annualized (in \\%) &  -2.97 &  1.72 &  2.78 &    5.75 \\\\\n",
      "CAPM Alpha Tstat             &  -1.83 &  1.23 &  2.81 &    3.06 \\\\\n",
      "CAPM Beta (in \\%)             &   1.30 &  1.00 &  0.55 &   -0.75 \\\\\n",
      "CAPM Beta Tstat              &  11.16 &  8.75 &  6.44 &   -4.76 \\\\\n",
      "\\$R\\textasciicircum2\\$                        &   0.50 &  0.46 &  0.34 &    0.19 \\\\\n",
      "\\bottomrule\n",
      "\\end{tabular}\n",
      "\n",
      "Energies\n",
      "\\begin{tabular}{lrrrr}\n",
      "\\toprule\n",
      "{} &      0 &      1 &      2 &  Factor \\\\\n",
      "\\midrule\n",
      "Monthly Return (in \\%)        &   0.56 &   1.00 &   1.72 &    1.16 \\\\\n",
      "Standard Deviation           &  35.51 &  31.65 &  42.31 &   50.01 \\\\\n",
      "Information Ratio            &   0.19 &   0.38 &   0.49 &    0.28 \\\\\n",
      "Skewness                     &  -0.11 &   0.40 &   4.35 &    3.02 \\\\\n",
      "Excess Kurtosis              &   3.38 &   2.43 &  37.73 &   29.01 \\\\\n",
      "CAPM Alpha Annualized (in \\%) &   1.15 &   6.76 &  16.31 &   15.16 \\\\\n",
      "CAPM Alpha Tstat             &   0.20 &   1.37 &   1.79 &    1.25 \\\\\n",
      "CAPM Beta (in \\%)             &   1.12 &   1.04 &   0.87 &   -0.25 \\\\\n",
      "CAPM Beta Tstat              &  15.46 &  10.36 &  10.49 &   -2.12 \\\\\n",
      "\\$R\\textasciicircum2\\$                        &   0.56 &   0.61 &   0.23 &    0.01 \\\\\n",
      "\\bottomrule\n",
      "\\end{tabular}\n",
      "\n",
      "Equities\n",
      "\\begin{tabular}{lrrrr}\n",
      "\\toprule\n",
      "{} &      0 &      1 &      2 &  Factor \\\\\n",
      "\\midrule\n",
      "Monthly Return (in \\%)        &   0.22 &   0.25 &   0.62 &    0.39 \\\\\n",
      "Standard Deviation           &  15.43 &  15.30 &  13.58 &    7.56 \\\\\n",
      "Information Ratio            &   0.17 &   0.20 &   0.54 &    0.62 \\\\\n",
      "Skewness                     &  -0.44 &  -0.80 &  -0.86 &   -0.33 \\\\\n",
      "Excess Kurtosis              &   1.15 &   1.33 &   1.42 &    2.60 \\\\\n",
      "CAPM Alpha Annualized (in \\%) &   0.27 &   0.67 &   5.31 &    5.04 \\\\\n",
      "CAPM Alpha Tstat             &   0.27 &   0.62 &   5.20 &    2.99 \\\\\n",
      "CAPM Beta (in \\%)             &   1.03 &   1.02 &   0.89 &   -0.13 \\\\\n",
      "CAPM Beta Tstat              &  30.09 &  36.89 &  32.56 &   -2.58 \\\\\n",
      "\\$R\\textasciicircum2\\$                        &   0.92 &   0.91 &   0.89 &    0.06 \\\\\n",
      "\\bottomrule\n",
      "\\end{tabular}\n",
      "\n",
      "Metals\n",
      "\\begin{tabular}{lrrrr}\n",
      "\\toprule\n",
      "{} &      0 &      1 &      2 &  Factor \\\\\n",
      "\\midrule\n",
      "Monthly Return (in \\%)        &   0.58 &   0.79 &   0.71 &    0.14 \\\\\n",
      "Standard Deviation           &  16.52 &  18.97 &  21.17 &   17.24 \\\\\n",
      "Information Ratio            &   0.42 &   0.50 &   0.40 &    0.09 \\\\\n",
      "Skewness                     &  -0.54 &  -0.23 &  -0.53 &   -0.13 \\\\\n",
      "Excess Kurtosis              &   2.24 &   6.18 &   2.02 &    0.89 \\\\\n",
      "CAPM Alpha Annualized (in \\%) &   4.16 &   6.02 &   4.55 &    0.39 \\\\\n",
      "CAPM Alpha Tstat             &   1.84 &   2.75 &   2.36 &    0.10 \\\\\n",
      "CAPM Beta (in \\%)             &   0.71 &   0.89 &   1.04 &    0.32 \\\\\n",
      "CAPM Beta Tstat              &  17.76 &  14.88 &  26.92 &    4.57 \\\\\n",
      "\\$R\\textasciicircum2\\$                        &   0.66 &   0.77 &   0.85 &    0.12 \\\\\n",
      "\\bottomrule\n",
      "\\end{tabular}\n",
      "\n",
      "Fixed Income\n",
      "\\begin{tabular}{lrrrr}\n",
      "\\toprule\n",
      "{} &      0 &     1 &      2 &  Factor \\\\\n",
      "\\midrule\n",
      "Monthly Return (in \\%)        &   0.04 &  0.12 &   0.10 &    0.06 \\\\\n",
      "Standard Deviation           &   1.85 &  2.86 &   3.65 &    2.84 \\\\\n",
      "Information Ratio            &   0.27 &  0.49 &   0.34 &    0.27 \\\\\n",
      "Skewness                     &   0.42 &  0.05 &  -0.18 &   -0.81 \\\\\n",
      "Excess Kurtosis              &   1.28 &  3.61 &   2.63 &    8.82 \\\\\n",
      "CAPM Alpha Annualized (in \\%) &  -0.04 &  0.62 &  -0.02 &    0.01 \\\\\n",
      "CAPM Alpha Tstat             &  -0.12 &  1.13 &  -0.06 &    0.02 \\\\\n",
      "CAPM Beta (in \\%)             &   0.57 &  0.84 &   1.39 &    0.81 \\\\\n",
      "CAPM Beta Tstat              &  12.46 &  8.26 &  18.74 &    8.63 \\\\\n",
      "\\$R\\textasciicircum2\\$                        &   0.54 &  0.49 &   0.82 &    0.46 \\\\\n",
      "\\bottomrule\n",
      "\\end{tabular}\n",
      "\n"
     ]
    }
   ],
   "source": [
    "for sec in sector_portfolio_sorts.keys():\n",
    "    print(sec)\n",
    "    print(portfolio_sort_table(sector_portfolio_sorts[sec],np.log(cleansed.resample(rule='m',how='last')).diff().dropna(how='all'),d_map,sec).to_latex())\n"
   ]
  },
  {
   "cell_type": "markdown",
   "metadata": {},
   "source": [
    "# FHT Annual portfolio sorts"
   ]
  },
  {
   "cell_type": "code",
   "execution_count": 9,
   "metadata": {},
   "outputs": [
    {
     "name": "stderr",
     "output_type": "stream",
     "text": [
      "tsmom_model.py:360: FutureWarning: how in .resample() is deprecated\n",
      "the new syntax is .resample(...).count()\n",
      "  nonzero=x[x==0].resample(rule='m',how='count')\n",
      "tsmom_model.py:361: FutureWarning: how in .resample() is deprecated\n",
      "the new syntax is .resample(...).count()\n",
      "  Z=(nonzero/x.resample(rule='m',how='count')).dropna()\n",
      "tsmom_model.py:362: FutureWarning: pd.rolling_std is deprecated for Series and will be removed in a future version, replace with \n",
      "\tSeries.rolling(window=12,center=False).std()\n",
      "  data[c]=pd.Series(norm.cdf((1+Z)/2.),index=Z.index)*2*pd.rolling_std(x,12).resample(rule='m',how='last')\n",
      "tsmom_model.py:362: FutureWarning: how in .resample() is deprecated\n",
      "the new syntax is .resample(...).last()\n",
      "  data[c]=pd.Series(norm.cdf((1+Z)/2.),index=Z.index)*2*pd.rolling_std(x,12).resample(rule='m',how='last')\n"
     ]
    }
   ],
   "source": [
    "FHT=calculate_FHT(cleansed)\n",
    "sector_zscores=sector_XS_normalized(FHT)"
   ]
  },
  {
   "cell_type": "code",
   "execution_count": 10,
   "metadata": {},
   "outputs": [],
   "source": [
    "sector_portfolio_sorts_FHT={}\n",
    "for s in sector_zscores.keys():\n",
    "    sector_portfolio_sorts_FHT[s]=quantile_portfolios_annual_inverse_vol(sector_zscores[s].dropna(how='all'),cleansed,3)"
   ]
  },
  {
   "cell_type": "code",
   "execution_count": 11,
   "metadata": {},
   "outputs": [
    {
     "name": "stdout",
     "output_type": "stream",
     "text": [
      "Agriculturals\n"
     ]
    },
    {
     "name": "stderr",
     "output_type": "stream",
     "text": [
      "/Users/mrefermat/anaconda/lib/python2.7/site-packages/ipykernel_launcher.py:3: FutureWarning: how in .resample() is deprecated\n",
      "the new syntax is .resample(...).last()\n",
      "  This is separate from the ipykernel package so we can avoid doing imports until\n"
     ]
    },
    {
     "name": "stdout",
     "output_type": "stream",
     "text": [
      "\\begin{tabular}{lrrrr}\n",
      "\\toprule\n",
      "{} &      0 &      1 &      2 &  Factor \\\\\n",
      "\\midrule\n",
      "Monthly Return (in \\%)        &   0.37 &   0.53 &   0.73 &    0.36 \\\\\n",
      "Standard Deviation           &  12.34 &  15.75 &  16.35 &   17.00 \\\\\n",
      "Information Ratio            &   0.36 &   0.40 &   0.53 &    0.25 \\\\\n",
      "Skewness                     &  -0.10 &  -0.09 &   0.08 &    0.27 \\\\\n",
      "Excess Kurtosis              &   0.86 &   1.37 &   1.31 &    0.70 \\\\\n",
      "CAPM Alpha Annualized (in \\%) &   4.66 &   6.28 &   5.52 &    0.86 \\\\\n",
      "CAPM Alpha Tstat             &   2.55 &   3.43 &   2.47 &    0.24 \\\\\n",
      "CAPM Beta (in \\%)             &   0.71 &   1.04 &   1.02 &    0.31 \\\\\n",
      "CAPM Beta Tstat              &  14.89 &  20.66 &  19.20 &    3.65 \\\\\n",
      "\\$R\\textasciicircum2\\$                        &   0.58 &   0.77 &   0.70 &    0.06 \\\\\n",
      "\\bottomrule\n",
      "\\end{tabular}\n",
      "\n",
      "All\n",
      "\\begin{tabular}{lrrrr}\n",
      "\\toprule\n",
      "{} &     0 &      1 &     2 &  Factor \\\\\n",
      "\\midrule\n",
      "Monthly Return (in \\%)        &  0.14 &   0.36 &  0.31 &    0.17 \\\\\n",
      "Standard Deviation           &  2.45 &   7.02 &  5.35 &    4.72 \\\\\n",
      "Information Ratio            &  0.68 &   0.61 &  0.69 &    0.43 \\\\\n",
      "Skewness                     &  0.07 &  -1.41 & -0.14 &   -0.13 \\\\\n",
      "Excess Kurtosis              &  1.91 &   9.77 &  0.76 &    0.62 \\\\\n",
      "CAPM Alpha Annualized (in \\%) &  1.38 &   2.78 &  2.93 &    1.55 \\\\\n",
      "CAPM Alpha Tstat             &  2.75 &   3.68 &  3.26 &    1.67 \\\\\n",
      "CAPM Beta (in \\%)             &  0.21 &   0.83 &  0.46 &    0.24 \\\\\n",
      "CAPM Beta Tstat              &  8.11 &  22.78 &  9.67 &    5.54 \\\\\n",
      "\\$R\\textasciicircum2\\$                        &  0.47 &   0.84 &  0.55 &    0.22 \\\\\n",
      "\\bottomrule\n",
      "\\end{tabular}\n",
      "\n",
      "Currencies\n",
      "\\begin{tabular}{lrrrr}\n",
      "\\toprule\n",
      "{} &     0 &      1 &      2 &  Factor \\\\\n",
      "\\midrule\n",
      "Monthly Return (in \\%)        & -0.09 &  -0.11 &   0.10 &    0.19 \\\\\n",
      "Standard Deviation           &  7.82 &   7.35 &   8.18 &   10.36 \\\\\n",
      "Information Ratio            & -0.14 &  -0.18 &   0.15 &    0.22 \\\\\n",
      "Skewness                     & -0.44 &  -0.65 &  -0.06 &   -0.25 \\\\\n",
      "Excess Kurtosis              &  2.20 &   2.15 &   1.26 &    1.91 \\\\\n",
      "CAPM Alpha Annualized (in \\%) & -0.62 &  -1.51 &   2.08 &    2.70 \\\\\n",
      "CAPM Alpha Tstat             & -0.35 &  -1.04 &   1.87 &    1.16 \\\\\n",
      "CAPM Beta (in \\%)             &  0.48 &   0.87 &   1.37 &    0.90 \\\\\n",
      "CAPM Beta Tstat              &  2.59 &  10.01 &  14.54 &    3.58 \\\\\n",
      "\\$R\\textasciicircum2\\$                        &  0.10 &   0.38 &   0.74 &    0.20 \\\\\n",
      "\\bottomrule\n",
      "\\end{tabular}\n",
      "\n",
      "Energies\n",
      "\\begin{tabular}{lrrrr}\n",
      "\\toprule\n",
      "{} &      0 &      1 &      2 &  Factor \\\\\n",
      "\\midrule\n",
      "Monthly Return (in \\%)        &   0.40 &   1.07 &   1.22 &    0.82 \\\\\n",
      "Standard Deviation           &  24.99 &  29.77 &  31.04 &   27.21 \\\\\n",
      "Information Ratio            &   0.19 &   0.43 &   0.47 &    0.36 \\\\\n",
      "Skewness                     &   0.52 &   0.10 &   0.53 &    0.27 \\\\\n",
      "Excess Kurtosis              &   2.41 &   1.66 &   2.18 &    1.64 \\\\\n",
      "CAPM Alpha Annualized (in \\%) &   0.69 &   8.86 &  11.97 &   11.27 \\\\\n",
      "CAPM Alpha Tstat             &   0.17 &   2.19 &   2.43 &    1.57 \\\\\n",
      "CAPM Beta (in \\%)             &   0.73 &   1.06 &   1.07 &    0.34 \\\\\n",
      "CAPM Beta Tstat              &  10.24 &  18.77 &  14.58 &    3.22 \\\\\n",
      "\\$R\\textasciicircum2\\$                        &   0.53 &   0.71 &   0.66 &    0.08 \\\\\n",
      "\\bottomrule\n",
      "\\end{tabular}\n",
      "\n",
      "Equities\n",
      "\\begin{tabular}{lrrrr}\n",
      "\\toprule\n",
      "{} &      0 &      1 &      2 &  Factor \\\\\n",
      "\\midrule\n",
      "Monthly Return (in \\%)        &   0.61 &   0.39 &   0.46 &   -0.14 \\\\\n",
      "Standard Deviation           &  14.66 &  16.73 &  18.56 &   13.49 \\\\\n",
      "Information Ratio            &   0.50 &   0.28 &   0.30 &   -0.13 \\\\\n",
      "Skewness                     &  -0.95 &  -0.45 &  -0.51 &   -0.15 \\\\\n",
      "Excess Kurtosis              &   4.79 &   0.84 &   1.18 &    3.15 \\\\\n",
      "CAPM Alpha Annualized (in \\%) &   2.05 &   1.36 &   2.35 &    0.30 \\\\\n",
      "CAPM Alpha Tstat             &   1.97 &   1.07 &   1.62 &    0.14 \\\\\n",
      "CAPM Beta (in \\%)             &   0.87 &   1.01 &   1.13 &    0.26 \\\\\n",
      "CAPM Beta Tstat              &  30.91 &  34.95 &  29.70 &    4.20 \\\\\n",
      "\\$R\\textasciicircum2\\$                        &   0.90 &   0.88 &   0.89 &    0.15 \\\\\n",
      "\\bottomrule\n",
      "\\end{tabular}\n",
      "\n",
      "Metals\n",
      "\\begin{tabular}{lrrrr}\n",
      "\\toprule\n",
      "{} &      0 &      1 &      2 &  Factor \\\\\n",
      "\\midrule\n",
      "Monthly Return (in \\%)        &   0.49 &   0.71 &   0.84 &    0.35 \\\\\n",
      "Standard Deviation           &  14.27 &  17.50 &  21.72 &   15.81 \\\\\n",
      "Information Ratio            &   0.41 &   0.49 &   0.47 &    0.27 \\\\\n",
      "Skewness                     &  -0.34 &  -0.45 &  -0.74 &   -0.33 \\\\\n",
      "Excess Kurtosis              &   1.25 &   1.74 &   4.90 &    2.11 \\\\\n",
      "CAPM Alpha Annualized (in \\%) &   6.07 &   7.87 &   4.67 &   -1.40 \\\\\n",
      "CAPM Alpha Tstat             &   3.05 &   3.86 &   2.04 &   -0.43 \\\\\n",
      "CAPM Beta (in \\%)             &   0.65 &   0.87 &   1.11 &    0.46 \\\\\n",
      "CAPM Beta Tstat              &  13.52 &  21.17 &  22.24 &    6.76 \\\\\n",
      "\\$R\\textasciicircum2\\$                        &   0.69 &   0.79 &   0.84 &    0.30 \\\\\n",
      "\\bottomrule\n",
      "\\end{tabular}\n",
      "\n",
      "Fixed Income\n",
      "\\begin{tabular}{lrrrr}\n",
      "\\toprule\n",
      "{} &      0 &      1 &      2 &  Factor \\\\\n",
      "\\midrule\n",
      "Monthly Return (in \\%)        &   0.00 &   0.08 &   0.12 &    0.12 \\\\\n",
      "Standard Deviation           &   1.94 &   2.08 &   5.06 &    4.95 \\\\\n",
      "Information Ratio            &   0.00 &   0.47 &   0.29 &    0.30 \\\\\n",
      "Skewness                     &  -2.21 &  -0.20 &   0.11 &   -0.00 \\\\\n",
      "Excess Kurtosis              &  24.60 &   3.07 &   0.61 &    0.38 \\\\\n",
      "CAPM Alpha Annualized (in \\%) &  -0.32 &   0.32 &  -0.09 &    0.23 \\\\\n",
      "CAPM Alpha Tstat             &  -0.54 &   1.21 &  -0.34 &    0.33 \\\\\n",
      "CAPM Beta (in \\%)             &   0.24 &   0.55 &   2.05 &    1.82 \\\\\n",
      "CAPM Beta Tstat              &   3.41 &  13.72 &  56.75 &   20.50 \\\\\n",
      "\\$R\\textasciicircum2\\$                        &   0.06 &   0.63 &   0.96 &    0.75 \\\\\n",
      "\\bottomrule\n",
      "\\end{tabular}\n",
      "\n"
     ]
    }
   ],
   "source": [
    "for sec in sector_portfolio_sorts_FHT.keys():\n",
    "    print(sec)\n",
    "    print(portfolio_sort_table(sector_portfolio_sorts_FHT[sec],np.log(cleansed.resample(rule='m',how='last')).diff().dropna(how='all'),d_map,sec).to_latex())"
   ]
  },
  {
   "cell_type": "markdown",
   "metadata": {},
   "source": [
    "# Monthly portoflio sorts"
   ]
  },
  {
   "cell_type": "code",
   "execution_count": 40,
   "metadata": {},
   "outputs": [],
   "source": [
    "amihud_monthly = read_monthly(amihud=True,sorts=3,xs=True,IV=True)"
   ]
  },
  {
   "cell_type": "code",
   "execution_count": 41,
   "metadata": {},
   "outputs": [
    {
     "name": "stdout",
     "output_type": "stream",
     "text": [
      "Agriculturals\n"
     ]
    },
    {
     "name": "stderr",
     "output_type": "stream",
     "text": [
      "/Users/mrefermat/anaconda/lib/python2.7/site-packages/ipykernel_launcher.py:4: FutureWarning: how in .resample() is deprecated\n",
      "the new syntax is .resample(...).last()\n",
      "  after removing the cwd from sys.path.\n"
     ]
    },
    {
     "name": "stdout",
     "output_type": "stream",
     "text": [
      "\\begin{tabular}{lrrrr}\n",
      "\\toprule\n",
      "{} &      0 &      1 &      2 &  Factor \\\\\n",
      "\\midrule\n",
      "Monthly Return (in \\%)        &   0.55 &   0.77 &   1.01 &    0.47 \\\\\n",
      "Standard Deviation           &  15.79 &  13.16 &  17.52 &   15.64 \\\\\n",
      "Information Ratio            &   0.42 &   0.70 &   0.69 &    0.36 \\\\\n",
      "Skewness                     &  -0.07 &  -0.57 &   0.48 &    0.45 \\\\\n",
      "Excess Kurtosis              &   0.81 &   2.65 &   3.93 &    2.16 \\\\\n",
      "CAPM Alpha Annualized (in \\%) &   3.49 &   6.82 &   8.89 &    5.41 \\\\\n",
      "CAPM Alpha Tstat             &   1.84 &   3.31 &   3.78 &    1.52 \\\\\n",
      "CAPM Beta (in \\%)             &   0.98 &   0.77 &   1.03 &    0.06 \\\\\n",
      "CAPM Beta Tstat              &  18.05 &  14.04 &  16.31 &    0.62 \\\\\n",
      "\\$R\\textasciicircum2\\$                        &   0.73 &   0.65 &   0.66 &    0.00 \\\\\n",
      "\\bottomrule\n",
      "\\end{tabular}\n",
      "\n",
      "All\n",
      "\\begin{tabular}{lrrrr}\n",
      "\\toprule\n",
      "{} &      0 &     1 &      2 &  Factor \\\\\n",
      "\\midrule\n",
      "Monthly Return (in \\%)        &   0.19 &  0.27 &   0.40 &    0.21 \\\\\n",
      "Standard Deviation           &   7.46 &  6.03 &   5.97 &    6.13 \\\\\n",
      "Information Ratio            &   0.31 &  0.54 &   0.80 &    0.40 \\\\\n",
      "Skewness                     &  -0.61 &  0.30 &  -0.92 &   -0.19 \\\\\n",
      "Excess Kurtosis              &   7.63 &  4.70 &   5.66 &    1.67 \\\\\n",
      "CAPM Alpha Annualized (in \\%) &   1.08 &  2.38 &   3.63 &    2.55 \\\\\n",
      "CAPM Alpha Tstat             &   0.85 &  1.94 &   5.72 &    1.72 \\\\\n",
      "CAPM Beta (in \\%)             &   0.64 &  0.45 &   0.61 &   -0.03 \\\\\n",
      "CAPM Beta Tstat              &  10.08 &  5.71 &  28.45 &   -0.48 \\\\\n",
      "\\$R\\textasciicircum2\\$                        &   0.57 &  0.42 &   0.79 &    0.00 \\\\\n",
      "\\bottomrule\n",
      "\\end{tabular}\n",
      "\n",
      "Currencies\n",
      "\\begin{tabular}{lrrrr}\n",
      "\\toprule\n",
      "{} &     0 &     1 &      2 &  Factor \\\\\n",
      "\\midrule\n",
      "Monthly Return (in \\%)        & -0.06 &  0.13 &   0.11 &    0.17 \\\\\n",
      "Standard Deviation           &  9.20 &  7.14 &   5.59 &    9.87 \\\\\n",
      "Information Ratio            & -0.07 &  0.21 &   0.23 &    0.20 \\\\\n",
      "Skewness                     & -0.25 &  0.10 &  -0.06 &   -0.85 \\\\\n",
      "Excess Kurtosis              &  1.08 &  0.41 &  10.11 &    4.55 \\\\\n",
      "CAPM Alpha Annualized (in \\%) & -0.31 &  1.89 &   1.55 &    1.86 \\\\\n",
      "CAPM Alpha Tstat             & -0.16 &  1.50 &   1.39 &    0.77 \\\\\n",
      "CAPM Beta (in \\%)             &  0.97 &  0.93 &   0.65 &   -0.31 \\\\\n",
      "CAPM Beta Tstat              &  4.06 &  6.34 &   5.37 &   -0.96 \\\\\n",
      "\\$R\\textasciicircum2\\$                        &  0.32 &  0.49 &   0.39 &    0.02 \\\\\n",
      "\\bottomrule\n",
      "\\end{tabular}\n",
      "\n",
      "Energies\n",
      "\\begin{tabular}{lrrrr}\n",
      "\\toprule\n",
      "{} &      0 &      1 &      2 &  Factor \\\\\n",
      "\\midrule\n",
      "Monthly Return (in \\%)        &   0.61 &   1.15 &   0.64 &    0.04 \\\\\n",
      "Standard Deviation           &  32.20 &  29.22 &  29.10 &   32.93 \\\\\n",
      "Information Ratio            &   0.23 &   0.47 &   0.27 &    0.01 \\\\\n",
      "Skewness                     &   0.14 &  -0.01 &   0.70 &   -0.24 \\\\\n",
      "Excess Kurtosis              &   1.30 &   1.44 &   3.03 &    1.02 \\\\\n",
      "CAPM Alpha Annualized (in \\%) &   5.22 &  12.06 &   6.15 &    0.93 \\\\\n",
      "CAPM Alpha Tstat             &   1.13 &   2.54 &   1.06 &    0.11 \\\\\n",
      "CAPM Beta (in \\%)             &   1.09 &   0.93 &   0.83 &   -0.26 \\\\\n",
      "CAPM Beta Tstat              &  16.23 &  10.02 &   8.56 &   -1.97 \\\\\n",
      "\\$R\\textasciicircum2\\$                        &   0.66 &   0.58 &   0.47 &    0.03 \\\\\n",
      "\\bottomrule\n",
      "\\end{tabular}\n",
      "\n",
      "Equities\n",
      "\\begin{tabular}{lrrrr}\n",
      "\\toprule\n",
      "{} &      0 &      1 &      2 &  Factor \\\\\n",
      "\\midrule\n",
      "Monthly Return (in \\%)        &   0.29 &   0.14 &   0.48 &    0.19 \\\\\n",
      "Standard Deviation           &  16.63 &  15.35 &  14.54 &    7.18 \\\\\n",
      "Information Ratio            &   0.21 &   0.11 &   0.39 &    0.32 \\\\\n",
      "Skewness                     &  -0.57 &  -0.65 &  -0.67 &   -0.76 \\\\\n",
      "Excess Kurtosis              &   1.35 &   0.92 &   0.47 &    2.79 \\\\\n",
      "CAPM Alpha Annualized (in \\%) &   1.21 &  -0.32 &   3.76 &    2.55 \\\\\n",
      "CAPM Alpha Tstat             &   1.07 &  -0.28 &   3.80 &    1.56 \\\\\n",
      "CAPM Beta (in \\%)             &   1.09 &   0.99 &   0.95 &   -0.14 \\\\\n",
      "CAPM Beta Tstat              &  35.80 &  30.94 &  37.62 &   -3.18 \\\\\n",
      "\\$R\\textasciicircum2\\$                        &   0.92 &   0.91 &   0.92 &    0.08 \\\\\n",
      "\\bottomrule\n",
      "\\end{tabular}\n",
      "\n",
      "Metals\n",
      "\\begin{tabular}{lrrrr}\n",
      "\\toprule\n",
      "{} &      0 &      1 &      2 &  Factor \\\\\n",
      "\\midrule\n",
      "Monthly Return (in \\%)        &   0.52 &   0.43 &   0.67 &    0.14 \\\\\n",
      "Standard Deviation           &  18.02 &  17.05 &  23.42 &   18.89 \\\\\n",
      "Information Ratio            &   0.35 &   0.30 &   0.34 &    0.09 \\\\\n",
      "Skewness                     &  -0.23 &  -0.64 &  -0.59 &   -0.49 \\\\\n",
      "Excess Kurtosis              &   4.67 &   1.54 &   3.01 &    6.71 \\\\\n",
      "CAPM Alpha Annualized (in \\%) &   4.19 &   3.00 &   4.95 &    0.76 \\\\\n",
      "CAPM Alpha Tstat             &   1.62 &   1.40 &   2.04 &    0.17 \\\\\n",
      "CAPM Beta (in \\%)             &   0.76 &   0.77 &   1.12 &    0.35 \\\\\n",
      "CAPM Beta Tstat              &  14.13 &  19.32 &  18.92 &    3.38 \\\\\n",
      "\\$R\\textasciicircum2\\$                        &   0.65 &   0.75 &   0.83 &    0.12 \\\\\n",
      "\\bottomrule\n",
      "\\end{tabular}\n",
      "\n",
      "Fixed Income\n",
      "\\begin{tabular}{lrrrr}\n",
      "\\toprule\n",
      "{} &      0 &     1 &      2 &  Factor \\\\\n",
      "\\midrule\n",
      "Monthly Return (in \\%)        &   0.04 &  0.12 &   0.16 &    0.12 \\\\\n",
      "Standard Deviation           &   1.83 &  2.72 &   4.10 &    3.35 \\\\\n",
      "Information Ratio            &   0.28 &  0.55 &   0.47 &    0.43 \\\\\n",
      "Skewness                     &   0.42 &  1.47 &   0.43 &    0.12 \\\\\n",
      "Excess Kurtosis              &   1.92 &  7.29 &   4.32 &    7.44 \\\\\n",
      "CAPM Alpha Annualized (in \\%) &  -0.08 &  0.57 &   0.26 &    0.34 \\\\\n",
      "CAPM Alpha Tstat             &  -0.23 &  1.40 &   0.62 &    0.57 \\\\\n",
      "CAPM Beta (in \\%)             &   0.55 &  0.86 &   1.58 &    1.02 \\\\\n",
      "CAPM Beta Tstat              &  11.43 &  8.57 &  14.92 &    7.92 \\\\\n",
      "\\$R\\textasciicircum2\\$                        &   0.50 &  0.55 &   0.81 &    0.51 \\\\\n",
      "\\bottomrule\n",
      "\\end{tabular}\n",
      "\n"
     ]
    }
   ],
   "source": [
    "for sec in amihud_monthly.keys():\n",
    "    print(sec)\n",
    "    #print(portfolio_sort_table(amihud_monthly[sec],sector_rtns[sec]).to_latex())\n",
    "    print(portfolio_sort_table(amihud_monthly[sec],np.log(cleansed.resample(rule='m',how='last')).diff().dropna(how='all'),d_map,sec).to_latex())"
   ]
  },
  {
   "cell_type": "markdown",
   "metadata": {},
   "source": [
    "# Monthly FHT"
   ]
  },
  {
   "cell_type": "code",
   "execution_count": 44,
   "metadata": {},
   "outputs": [],
   "source": [
    "FHT_monthly = read_monthly(amihud=False,sorts=3,xs=True,IV=True)"
   ]
  },
  {
   "cell_type": "code",
   "execution_count": 45,
   "metadata": {},
   "outputs": [
    {
     "name": "stdout",
     "output_type": "stream",
     "text": [
      "Agriculturals\n"
     ]
    },
    {
     "name": "stderr",
     "output_type": "stream",
     "text": [
      "/Users/mrefermat/anaconda/lib/python2.7/site-packages/ipykernel_launcher.py:4: FutureWarning: how in .resample() is deprecated\n",
      "the new syntax is .resample(...).last()\n",
      "  after removing the cwd from sys.path.\n"
     ]
    },
    {
     "name": "stdout",
     "output_type": "stream",
     "text": [
      "\\begin{tabular}{lrrrr}\n",
      "\\toprule\n",
      "{} &      0 &      1 &      2 &  Factor \\\\\n",
      "\\midrule\n",
      "Monthly Return (in \\%)        &   0.87 &   0.35 &   0.40 &   -0.47 \\\\\n",
      "Standard Deviation           &  11.86 &  15.83 &  18.06 &   17.46 \\\\\n",
      "Information Ratio            &   0.88 &   0.27 &   0.26 &   -0.33 \\\\\n",
      "Skewness                     &   0.14 &  -0.16 &   0.25 &    0.21 \\\\\n",
      "Excess Kurtosis              &   0.96 &   0.62 &   1.74 &    1.36 \\\\\n",
      "CAPM Alpha Annualized (in \\%) &   9.59 &   5.29 &   1.71 &   -7.88 \\\\\n",
      "CAPM Alpha Tstat             &   4.50 &   2.61 &   0.82 &   -2.19 \\\\\n",
      "CAPM Beta (in \\%)             &   0.66 &   1.06 &   1.17 &    0.51 \\\\\n",
      "CAPM Beta Tstat              &  13.06 &  21.66 &  21.69 &    5.71 \\\\\n",
      "\\$R\\textasciicircum2\\$                        &   0.51 &   0.72 &   0.75 &    0.17 \\\\\n",
      "\\bottomrule\n",
      "\\end{tabular}\n",
      "\n",
      "All\n",
      "\\begin{tabular}{lrrrr}\n",
      "\\toprule\n",
      "{} &      0 &      1 &      2 &  Factor \\\\\n",
      "\\midrule\n",
      "Monthly Return (in \\%)        &   0.15 &   0.28 &   0.33 &    0.18 \\\\\n",
      "Standard Deviation           &   3.15 &   5.41 &   5.72 &    4.87 \\\\\n",
      "Information Ratio            &   0.59 &   0.63 &   0.69 &    0.43 \\\\\n",
      "Skewness                     &  -0.72 &  -0.17 &  -0.57 &    0.01 \\\\\n",
      "Excess Kurtosis              &   5.94 &   1.46 &   2.84 &    0.48 \\\\\n",
      "CAPM Alpha Annualized (in \\%) &   1.35 &   2.94 &   2.68 &    1.34 \\\\\n",
      "CAPM Alpha Tstat             &   2.30 &   3.78 &   3.50 &    1.31 \\\\\n",
      "CAPM Beta (in \\%)             &   0.31 &   0.54 &   0.58 &    0.26 \\\\\n",
      "CAPM Beta Tstat              &  11.63 &  10.06 &  20.28 &    5.43 \\\\\n",
      "\\$R\\textasciicircum2\\$                        &   0.56 &   0.70 &   0.70 &    0.21 \\\\\n",
      "\\bottomrule\n",
      "\\end{tabular}\n",
      "\n",
      "Currencies\n",
      "\\begin{tabular}{lrrrr}\n",
      "\\toprule\n",
      "{} &     0 &     1 &     2 &  Factor \\\\\n",
      "\\midrule\n",
      "Monthly Return (in \\%)        &  0.16 &  0.00 &  0.07 &   -0.08 \\\\\n",
      "Standard Deviation           &  7.14 &  6.99 &  7.82 &    9.15 \\\\\n",
      "Information Ratio            &  0.26 &  0.01 &  0.11 &   -0.11 \\\\\n",
      "Skewness                     & -0.07 & -0.17 & -0.47 &   -0.62 \\\\\n",
      "Excess Kurtosis              &  3.30 &  1.11 &  4.78 &    4.60 \\\\\n",
      "CAPM Alpha Annualized (in \\%) &  2.59 &  0.30 &  1.39 &   -1.20 \\\\\n",
      "CAPM Alpha Tstat             &  1.50 &  0.19 &  1.24 &   -0.57 \\\\\n",
      "CAPM Beta (in \\%)             &  0.50 &  0.67 &  1.27 &    0.77 \\\\\n",
      "CAPM Beta Tstat              &  3.02 &  5.49 &  9.65 &    3.04 \\\\\n",
      "\\$R\\textasciicircum2\\$                        &  0.12 &  0.24 &  0.68 &    0.18 \\\\\n",
      "\\bottomrule\n",
      "\\end{tabular}\n",
      "\n",
      "Energies\n",
      "\\begin{tabular}{lrrrr}\n",
      "\\toprule\n",
      "{} &      0 &      1 &      2 &  Factor \\\\\n",
      "\\midrule\n",
      "Monthly Return (in \\%)        &   0.38 &   0.75 &   1.30 &    0.92 \\\\\n",
      "Standard Deviation           &  25.62 &  29.33 &  32.72 &   30.66 \\\\\n",
      "Information Ratio            &   0.18 &   0.31 &   0.48 &    0.36 \\\\\n",
      "Skewness                     &   0.26 &   0.33 &   0.39 &    0.38 \\\\\n",
      "Excess Kurtosis              &   1.61 &   1.24 &   2.03 &    3.10 \\\\\n",
      "CAPM Alpha Annualized (in \\%) &   0.58 &   4.77 &  15.78 &   15.20 \\\\\n",
      "CAPM Alpha Tstat             &   0.13 &   1.19 &   3.06 &    1.97 \\\\\n",
      "CAPM Beta (in \\%)             &   0.70 &   1.03 &   1.08 &    0.38 \\\\\n",
      "CAPM Beta Tstat              &   8.99 &  24.72 &  14.81 &    3.18 \\\\\n",
      "\\$R\\textasciicircum2\\$                        &   0.43 &   0.69 &   0.62 &    0.07 \\\\\n",
      "\\bottomrule\n",
      "\\end{tabular}\n",
      "\n",
      "Equities\n",
      "\\begin{tabular}{lrrrr}\n",
      "\\toprule\n",
      "{} &      0 &      1 &      2 &  Factor \\\\\n",
      "\\midrule\n",
      "Monthly Return (in \\%)        &   0.52 &   0.45 &   0.51 &   -0.02 \\\\\n",
      "Standard Deviation           &  14.30 &  16.43 &  19.51 &   14.18 \\\\\n",
      "Information Ratio            &   0.44 &   0.33 &   0.31 &   -0.01 \\\\\n",
      "Skewness                     &  -0.38 &  -1.01 &  -0.52 &   -0.07 \\\\\n",
      "Excess Kurtosis              &   1.78 &   2.97 &   2.25 &    2.20 \\\\\n",
      "CAPM Alpha Annualized (in \\%) &   0.66 &   2.26 &   1.07 &    0.40 \\\\\n",
      "CAPM Alpha Tstat             &   0.59 &   2.08 &   0.78 &    0.19 \\\\\n",
      "CAPM Beta (in \\%)             &   0.89 &   0.99 &   1.14 &    0.25 \\\\\n",
      "CAPM Beta Tstat              &  37.27 &  30.54 &  27.71 &    5.23 \\\\\n",
      "\\$R\\textasciicircum2\\$                        &   0.89 &   0.89 &   0.90 &    0.16 \\\\\n",
      "\\bottomrule\n",
      "\\end{tabular}\n",
      "\n",
      "Metals\n",
      "\\begin{tabular}{lrrrr}\n",
      "\\toprule\n",
      "{} &      0 &      1 &      2 &  Factor \\\\\n",
      "\\midrule\n",
      "Monthly Return (in \\%)        &   0.31 &   0.37 &   0.91 &    0.60 \\\\\n",
      "Standard Deviation           &  15.95 &  18.00 &  21.08 &   17.00 \\\\\n",
      "Information Ratio            &   0.23 &   0.25 &   0.52 &    0.42 \\\\\n",
      "Skewness                     &  -1.82 &  -0.14 &  -0.30 &    0.22 \\\\\n",
      "Excess Kurtosis              &  17.13 &   3.70 &   1.58 &    2.50 \\\\\n",
      "CAPM Alpha Annualized (in \\%) &   1.68 &   5.79 &   4.30 &    2.62 \\\\\n",
      "CAPM Alpha Tstat             &   0.65 &   2.70 &   1.91 &    0.63 \\\\\n",
      "CAPM Beta (in \\%)             &   0.74 &   0.90 &   1.09 &    0.36 \\\\\n",
      "CAPM Beta Tstat              &   8.30 &  18.76 &  17.43 &    2.46 \\\\\n",
      "\\$R\\textasciicircum2\\$                        &   0.67 &   0.77 &   0.83 &    0.14 \\\\\n",
      "\\bottomrule\n",
      "\\end{tabular}\n",
      "\n",
      "Fixed Income\n",
      "\\begin{tabular}{lrrrr}\n",
      "\\toprule\n",
      "{} &     0 &      1 &      2 &  Factor \\\\\n",
      "\\midrule\n",
      "Monthly Return (in \\%)        &  0.01 &   0.07 &   0.13 &    0.12 \\\\\n",
      "Standard Deviation           &  0.85 &   1.99 &   4.89 &    4.71 \\\\\n",
      "Information Ratio            &  0.12 &   0.44 &   0.31 &    0.31 \\\\\n",
      "Skewness                     &  0.55 &  -0.10 &   0.09 &   -0.06 \\\\\n",
      "Excess Kurtosis              &  8.94 &   2.86 &   1.09 &    0.85 \\\\\n",
      "CAPM Alpha Annualized (in \\%) & -0.01 &   0.16 &  -0.01 &    0.01 \\\\\n",
      "CAPM Alpha Tstat             & -0.09 &   0.66 &  -0.03 &    0.01 \\\\\n",
      "CAPM Beta (in \\%)             &  0.10 &   0.54 &   2.02 &    1.93 \\\\\n",
      "CAPM Beta Tstat              &  2.36 &  14.40 &  38.59 &   25.70 \\\\\n",
      "\\$R\\textasciicircum2\\$                        &  0.11 &   0.63 &   0.94 &    0.90 \\\\\n",
      "\\bottomrule\n",
      "\\end{tabular}\n",
      "\n"
     ]
    }
   ],
   "source": [
    "for sec in FHT_monthly.keys():\n",
    "    print(sec)\n",
    "    #print(portfolio_sort_table(FHT_monthly[sec],sector_rtns[sec]).to_latex())\n",
    "    print(portfolio_sort_table(FHT_monthly[sec],np.log(cleansed.resample(rule='m',how='last')).diff().dropna(how='all'),d_map,sec).to_latex())\n",
    "\n"
   ]
  },
  {
   "cell_type": "code",
   "execution_count": 30,
   "metadata": {},
   "outputs": [],
   "source": [
    "# Spanning Test\n"
   ]
  },
  {
   "cell_type": "code",
   "execution_count": null,
   "metadata": {},
   "outputs": [],
   "source": []
  }
 ],
 "metadata": {
  "kernelspec": {
   "display_name": "Python 2",
   "language": "python",
   "name": "python2"
  },
  "language_info": {
   "codemirror_mode": {
    "name": "ipython",
    "version": 2
   },
   "file_extension": ".py",
   "mimetype": "text/x-python",
   "name": "python",
   "nbconvert_exporter": "python",
   "pygments_lexer": "ipython2",
   "version": "2.7.12"
  }
 },
 "nbformat": 4,
 "nbformat_minor": 2
}
