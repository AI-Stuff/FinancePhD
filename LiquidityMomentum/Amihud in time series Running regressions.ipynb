{
 "cells": [
  {
   "cell_type": "code",
   "execution_count": null,
   "metadata": {
    "collapsed": false
   },
   "outputs": [],
   "source": [
    "%matplotlib inline\n",
    "import seaborn\n",
    "import quandl\n",
    "import pandas as pd\n",
    "import seaborn as sns\n",
    "import math\n",
    "from tsmom_model import *\n",
    "import numpy as np\n",
    "from datetime import datetime\n",
    "token=\"Us3wFmXGgAj_1cUtHAAR\"\n",
    "\n",
    "import pylab\n",
    "sns.set(font_scale=3)\n",
    "pylab.rcParams['figure.figsize'] = (24, 18)"
   ]
  },
  {
   "cell_type": "markdown",
   "metadata": {},
   "source": [
    "# Correlation approach to clense data\n",
    "Use pairwise correlation in order to decide which which markets are duplicates then use the one with the longer history. "
   ]
  },
  {
   "cell_type": "code",
   "execution_count": null,
   "metadata": {
    "collapsed": false
   },
   "outputs": [],
   "source": [
    "cleansed=cleansed_data()"
   ]
  },
  {
   "cell_type": "code",
   "execution_count": null,
   "metadata": {
    "collapsed": false
   },
   "outputs": [],
   "source": [
    "cleansed.count().count()"
   ]
  },
  {
   "cell_type": "markdown",
   "metadata": {},
   "source": [
    "# Amihud methodology\n",
    "\n",
    "Amihud (2002) developed the illiquidity measure expressed by:\n",
    "\n",
    "$$ Amihud = \\frac{|r_t|}{\\text{volume}_t} $$\n",
    "\n",
    "where $r_t$ is the return on day $t$ and $Volume_t$ is the dollar volume on day $t$. \n",
    "\n",
    "The benefit of taking the daily return is to weight the move by change of price and the volume.\n"
   ]
  },
  {
   "cell_type": "code",
   "execution_count": null,
   "metadata": {
    "collapsed": false
   },
   "outputs": [],
   "source": [
    "amihud=calculate_amihud_liquidity(cleansed)[:'2016'] "
   ]
  },
  {
   "cell_type": "code",
   "execution_count": null,
   "metadata": {
    "collapsed": false
   },
   "outputs": [],
   "source": [
    "amihud.median(axis=1).dropna().plot()"
   ]
  },
  {
   "cell_type": "code",
   "execution_count": null,
   "metadata": {
    "collapsed": false
   },
   "outputs": [],
   "source": [
    "df=pd.DataFrame()\n",
    "df['Amihud']=amihud.median(axis=1).dropna()\n",
    "df['LIBOR']=quandl.get('FRED/USDONTD156N').VALUE.resample(rule='m',how='last')\n",
    "df['FedFunds']=quandl.get('FRED/FEDFUNDS').Value.resample(rule='m',how='last')\n",
    "df['TED']=quandl.get('FRED/TEDRATE').Value.resample(rule='m',how='last')\n",
    "df['FinancialStress']=quandl.get('FRED/STLFSI').Value.resample(rule='m',how='last')\n",
    "df['NBER_Recessions']=quandl.get('FRED/USREC').Value.resample(rule='m',how='last')"
   ]
  },
  {
   "cell_type": "code",
   "execution_count": null,
   "metadata": {
    "collapsed": false
   },
   "outputs": [],
   "source": [
    "df.plot(secondary_y='Amihud')"
   ]
  },
  {
   "cell_type": "markdown",
   "metadata": {},
   "source": [
    "* Run regression on time series of Amihud \n",
    "* Break into recession and post recession periods\n",
    "* Get Currency variance model to copy their approach\n"
   ]
  },
  {
   "cell_type": "code",
   "execution_count": null,
   "metadata": {
    "collapsed": true
   },
   "outputs": [],
   "source": [
    "import statsmodels.formula.api as sm\n",
    "result = sm.ols(formula=\"Amihud ~ FinancialStress\", data=df).fit()"
   ]
  },
  {
   "cell_type": "code",
   "execution_count": null,
   "metadata": {
    "collapsed": false
   },
   "outputs": [],
   "source": [
    "result.summary()"
   ]
  },
  {
   "cell_type": "code",
   "execution_count": null,
   "metadata": {
    "collapsed": true
   },
   "outputs": [],
   "source": []
  }
 ],
 "metadata": {
  "kernelspec": {
   "display_name": "Python 2",
   "language": "python",
   "name": "python2"
  },
  "language_info": {
   "codemirror_mode": {
    "name": "ipython",
    "version": 2
   },
   "file_extension": ".py",
   "mimetype": "text/x-python",
   "name": "python",
   "nbconvert_exporter": "python",
   "pygments_lexer": "ipython2",
   "version": "2.7.12"
  }
 },
 "nbformat": 4,
 "nbformat_minor": 0
}
