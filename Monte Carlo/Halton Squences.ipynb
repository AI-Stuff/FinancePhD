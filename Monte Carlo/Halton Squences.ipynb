{
 "cells": [
  {
   "cell_type": "markdown",
   "metadata": {},
   "source": [
    "Halton Sequence\n",
    "* low-discrepancy sequence\n",
    "* https://laszukdawid.com/2017/02/04/halton-sequence-in-python/"
   ]
  },
  {
   "cell_type": "code",
   "execution_count": 4,
   "metadata": {
    "collapsed": true
   },
   "outputs": [],
   "source": [
    "def next_prime():\n",
    "    def is_prime(num):\n",
    "        \"Checks if num is a prime value\"\n",
    "        for i in range(2,int(num**0.5)+1):\n",
    "            if(num % i)==0: return False\n",
    "        return True\n",
    "    prime = 3\n",
    "    while(1):\n",
    "        if is_prime(prime):\n",
    "            yield prime\n",
    "        prime += 2\n",
    "def vdc(n, base=2):\n",
    "    vdc, denom = 0, 1\n",
    "    while n:\n",
    "        denom *= base\n",
    "        n, remainder = divmod(n, base)\n",
    "        vdc += remainder/float(denom)\n",
    "    return vdc\n",
    "\n",
    "def halton_sequence(size, dim):\n",
    "    seq = []\n",
    "    primeGen = next_prime()\n",
    "    next(primeGen)\n",
    "    for d in range(dim):\n",
    "        base = next(primeGen)\n",
    "        seq.append([vdc(i, base) for i in range(size)])\n",
    "    return seq"
   ]
  },
  {
   "cell_type": "code",
   "execution_count": 11,
   "metadata": {
    "collapsed": false
   },
   "outputs": [
    {
     "data": {
      "text/plain": [
       "[[0,\n",
       "  0.2,\n",
       "  0.4,\n",
       "  0.6,\n",
       "  0.8,\n",
       "  0.04,\n",
       "  0.24000000000000002,\n",
       "  0.44,\n",
       "  0.64,\n",
       "  0.8400000000000001],\n",
       " [0,\n",
       "  0.14285714285714285,\n",
       "  0.2857142857142857,\n",
       "  0.42857142857142855,\n",
       "  0.5714285714285714,\n",
       "  0.7142857142857143,\n",
       "  0.8571428571428571,\n",
       "  0.02040816326530612,\n",
       "  0.16326530612244897,\n",
       "  0.30612244897959184],\n",
       " [0,\n",
       "  0.09090909090909091,\n",
       "  0.18181818181818182,\n",
       "  0.2727272727272727,\n",
       "  0.36363636363636365,\n",
       "  0.45454545454545453,\n",
       "  0.5454545454545454,\n",
       "  0.6363636363636364,\n",
       "  0.7272727272727273,\n",
       "  0.8181818181818182]]"
      ]
     },
     "execution_count": 11,
     "metadata": {},
     "output_type": "execute_result"
    }
   ],
   "source": [
    "halton_sequence(10,3)"
   ]
  },
  {
   "cell_type": "code",
   "execution_count": null,
   "metadata": {
    "collapsed": true
   },
   "outputs": [],
   "source": []
  }
 ],
 "metadata": {
  "kernelspec": {
   "display_name": "Python 2",
   "language": "python",
   "name": "python2"
  },
  "language_info": {
   "codemirror_mode": {
    "name": "ipython",
    "version": 2
   },
   "file_extension": ".py",
   "mimetype": "text/x-python",
   "name": "python",
   "nbconvert_exporter": "python",
   "pygments_lexer": "ipython2",
   "version": "2.7.12"
  }
 },
 "nbformat": 4,
 "nbformat_minor": 0
}
