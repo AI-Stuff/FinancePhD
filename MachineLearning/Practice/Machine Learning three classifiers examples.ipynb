{
 "cells": [
  {
   "cell_type": "markdown",
   "metadata": {},
   "source": [
    "#Machine learning example\n",
    "https://keithselover.wordpress.com/2016/12/13/machine-learning-for-stock-market-prediction-global-indices/\n",
    "\n"
   ]
  },
  {
   "cell_type": "code",
   "execution_count": 8,
   "metadata": {
    "collapsed": true
   },
   "outputs": [],
   "source": [
    "%matplotlib inline\n",
    "import pylab\n",
    "import pandas as pd\n",
    "import pandas.io.data\n",
    "import numpy as np\n",
    "import quandl\n",
    "import sklearn\n",
    "import matplotlib.pyplot as plt; plt.rcdefaults()\n",
    "import numpy as np\n",
    "import matplotlib.pyplot as plt\n",
    "from sklearn import neighbors\n",
    "from sklearn.naive_bayes import GaussianNB\n",
    "from sklearn import linear_model\n",
    "from sklearn import metrics\n",
    "from sklearn import neighbors\n",
    "from sklearn import cross_validation\n",
    "pylab.rcParams['figure.figsize'] = (12, 8)"
   ]
  },
  {
   "cell_type": "code",
   "execution_count": 9,
   "metadata": {
    "collapsed": false
   },
   "outputs": [],
   "source": [
    "djia = quandl.get('YAHOO/INDEX_DJI', transformation=\"rdiff\")\n",
    "dax_f = quandl.get('CHRIS/EUREX_FDAX1', transformation=\"rdiff\")\n",
    "dax = quandl.get('YAHOO/INDEX_GDAXI', transformation=\"rdiff\")\n",
    "nk = quandl.get('YAHOO/INDEX_N225', transformation=\"rdiff\")\n",
    "sse = quandl.get('YAHOO/L_SSE', transformation=\"rdiff\")\n",
    "eur = quandl.get('FED/RXI_US_N_B_EU', transformation=\"rdiff\")\n",
    "aud = quandl.get('FED/RXI_US_N_B_AL', transformation=\"rdiff\")\n",
    "oil = quandl.get('CHRIS/ICE_B2', transformation=\"rdiff\")"
   ]
  },
  {
   "cell_type": "code",
   "execution_count": 10,
   "metadata": {
    "collapsed": false
   },
   "outputs": [],
   "source": [
    "start = '2000-1-1'\n",
    "end = '2013-1-1'\n",
    "ftse = pd.io.data.get_data_yahoo('^FTSE', start, end)\n",
    "ftse.Volume = ftse.Volume.astype(float)\n",
    "ftse = ftse.pct_change()"
   ]
  },
  {
   "cell_type": "code",
   "execution_count": 11,
   "metadata": {
    "collapsed": true
   },
   "outputs": [],
   "source": [
    "df = pd.DataFrame([djia['Adjusted Close'], dax_f.Settle, dax['Adjusted Close'],\n",
    "                   nk['Adjusted Close'], sse['Adjusted Close'], ftse['Adj Close'],\n",
    "                   eur.Value, aud.Value, oil.Settle],\n",
    "                 index = ['DJIA','DAX FUT','DAX', 'NK', 'SSE','FTSE','EUR','AUD','OIL']) \n",
    " \n",
    "df = df.transpose()\n",
    "df = df.loc['20000104':'20130101']\n",
    "df = df.dropna()"
   ]
  },
  {
   "cell_type": "code",
   "execution_count": 20,
   "metadata": {
    "collapsed": false
   },
   "outputs": [
    {
     "data": {
      "text/plain": [
       "<matplotlib.axes._subplots.AxesSubplot at 0x110a11c10>"
      ]
     },
     "execution_count": 20,
     "metadata": {},
     "output_type": "execute_result"
    }
   ],
   "source": [
    "df = pd.DataFrame([djia['Adjusted Close'], dax_f.Settle, dax['Adjusted Close'],\n",
    "                   nk['Adjusted Close'], sse['Adjusted Close'], ftse['Adj Close'],\n",
    "                   eur.Value, aud.Value, oil.Settle],\n",
    "                 index = ['DJIA','DAX FUT','DAX', 'NK', 'SSE','FTSE','EUR','AUD','OIL']) \n",
    "df.plot()"
   ]
  },
  {
   "cell_type": "code",
   "execution_count": 12,
   "metadata": {
    "collapsed": true
   },
   "outputs": [],
   "source": [
    "def trend(val):\n",
    "    if (val > 0):\n",
    "        return 1\n",
    "    elif (val <= 0):\n",
    "        return 0\n",
    " \n",
    "df['Move'] = df['DJIA'].apply(trend)\n",
    "df = df.dropna()"
   ]
  },
  {
   "cell_type": "code",
   "execution_count": 13,
   "metadata": {
    "collapsed": false
   },
   "outputs": [
    {
     "name": "stdout",
     "output_type": "stream",
     "text": [
      "DAX FUT\n",
      "0.746268656716\n",
      "0.717607973422\n",
      "DAX\n",
      "0.725111441308\n",
      "0.6926910299\n",
      "NK\n",
      "0.532507739938\n",
      "0.498338870432\n",
      "SSE\n",
      "0.601208459215\n",
      "0.56146179402\n",
      "FTSE\n",
      "0.707547169811\n",
      "0.691029900332\n",
      "EUR\n",
      "0.466876971609\n",
      "0.43853820598\n",
      "AUD\n",
      "0.576980568012\n",
      "0.529900332226\n",
      "OIL\n",
      "0.52743902439\n",
      "0.485049833887\n"
     ]
    }
   ],
   "source": [
    "labels = []\n",
    "scores = []\n",
    "Y = df['Move']\n",
    "for c in df.columns:\n",
    "    if (c != 'Move' and c!= 'DJIA'):\n",
    "        X = pd.DataFrame([df[c]]).transpose()\n",
    " \n",
    "        X_train = X[:int(len(X)*.8)]\n",
    "        Y_train = Y[:int(len(X)*.8)]\n",
    "        X_test = X[int(len(X)*.8):]\n",
    "        Y_test = Y[int(len(X)*.8):]\n",
    " \n",
    "        knn = neighbors.KNeighborsClassifier(n_neighbors=25)\n",
    "        knn.fit(X_train, Y_train)\n",
    "        predicted = knn.predict(X_test)\n",
    " \n",
    "        print(c)\n",
    "        print(metrics.f1_score(Y_test, predicted))\n",
    "        print(knn.score(X_test, Y_test))\n",
    "        labels.append(c)\n",
    "        scores.append(knn.score(X_test, Y_test))"
   ]
  },
  {
   "cell_type": "code",
   "execution_count": 14,
   "metadata": {
    "collapsed": false
   },
   "outputs": [
    {
     "data": {
      "image/png": "[encoded data removed]",
      "text/plain": [
       "<matplotlib.figure.Figure at 0x10fde48d0>"
      ]
     },
     "metadata": {},
     "output_type": "display_data"
    }
   ],
   "source": [
    "y_pos = np.arange(len(labels))\n",
    "plt.bar(y_pos, scores, align='center', alpha=0.5)\n",
    "plt.xticks(y_pos, labels)\n",
    "plt.ylabel('Scores')\n",
    " \n",
    "plt.show()"
   ]
  },
  {
   "cell_type": "markdown",
   "metadata": {},
   "source": [
    "#Logistic Regression"
   ]
  },
  {
   "cell_type": "code",
   "execution_count": 15,
   "metadata": {
    "collapsed": false
   },
   "outputs": [
    {
     "name": "stdout",
     "output_type": "stream",
     "text": [
      "0.768\n",
      "0.71096345515\n"
     ]
    }
   ],
   "source": [
    "X2 = df.copy()\n",
    "Y = df['Move']\n",
    "del X2['Move']\n",
    "del X2['DJIA']\n",
    " \n",
    "X_train = X2[:int(len(X2)*.8)]\n",
    "Y_train = Y[:int(len(X2)*.8)]\n",
    "X_test = X2[int(len(X2)*.8):]\n",
    "Y_test = Y[int(len(X2)*.8):]\n",
    " \n",
    "logit = linear_model.LogisticRegression(C=1)\n",
    "logit.fit(X_train, Y_train)\n",
    "predicted = logit.predict(X_test)\n",
    "print(metrics.f1_score(Y_test, predicted))\n",
    "print(logit.score(X_test,Y_test))"
   ]
  },
  {
   "cell_type": "markdown",
   "metadata": {},
   "source": [
    "#KNN "
   ]
  },
  {
   "cell_type": "code",
   "execution_count": 16,
   "metadata": {
    "collapsed": false
   },
   "outputs": [
    {
     "name": "stdout",
     "output_type": "stream",
     "text": [
      "0.751857355126\n",
      "0.722591362126\n"
     ]
    }
   ],
   "source": [
    "X2 = df.copy()\n",
    "Y = df['Move']\n",
    "del X2['Move']\n",
    "del X2['DJIA']\n",
    " \n",
    "X_train = X2[:int(len(X2)*.8)]\n",
    "Y_train = Y[:int(len(X2)*.8)]\n",
    "X_test = X2[int(len(X2)*.8):]\n",
    "Y_test = Y[int(len(X2)*.8):]\n",
    " \n",
    "knn = neighbors.KNeighborsClassifier(n_neighbors=25)\n",
    "knn.fit(X_train, Y_train)\n",
    "predicted = knn.predict(X_test)\n",
    "print(metrics.f1_score(Y_test, predicted))\n",
    "print(knn.score(X_test,Y_test))"
   ]
  },
  {
   "cell_type": "markdown",
   "metadata": {},
   "source": [
    "#Gaussian Naive Bayes"
   ]
  },
  {
   "cell_type": "code",
   "execution_count": 17,
   "metadata": {
    "collapsed": false
   },
   "outputs": [
    {
     "name": "stdout",
     "output_type": "stream",
     "text": [
      "0.765193370166\n",
      "0.717607973422\n"
     ]
    }
   ],
   "source": [
    "X2 = df.copy()\n",
    "Y = df['Move']\n",
    "del X2['Move']\n",
    "del X2['DJIA']\n",
    " \n",
    "X_train = X2[:int(len(X2)*.8)]\n",
    "Y_train = Y[:int(len(X2)*.8)]\n",
    "X_test = X2[int(len(X2)*.8):]\n",
    "Y_test = Y[int(len(X2)*.8):]\n",
    " \n",
    "clf = GaussianNB()\n",
    "clf.fit(X_train, Y_train)\n",
    "predicted = clf.predict(X_test)\n",
    "print(metrics.f1_score(Y_test, predicted))\n",
    "print(clf.score(X_test,Y_test))"
   ]
  },
  {
   "cell_type": "code",
   "execution_count": null,
   "metadata": {
    "collapsed": true
   },
   "outputs": [],
   "source": []
  }
 ],
 "metadata": {
  "kernelspec": {
   "display_name": "Python 2",
   "language": "python",
   "name": "python2"
  },
  "language_info": {
   "codemirror_mode": {
    "name": "ipython",
    "version": 2
   },
   "file_extension": ".py",
   "mimetype": "text/x-python",
   "name": "python",
   "nbconvert_exporter": "python",
   "pygments_lexer": "ipython2",
   "version": "2.7.12"
  }
 },
 "nbformat": 4,
 "nbformat_minor": 0
}
