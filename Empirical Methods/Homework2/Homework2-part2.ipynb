{
 "cells": [
  {
   "cell_type": "code",
   "execution_count": 1,
   "metadata": {
    "collapsed": false
   },
   "outputs": [
    {
     "name": "stdout",
     "output_type": "stream",
     "text": [
      "Populating the interactive namespace from numpy and matplotlib\n"
     ]
    }
   ],
   "source": [
    "import pandas as pd\n",
    "import seaborn as sns\n",
    "import statsmodels.api as sm\n",
    "%matplotlib inline\n",
    "%pylab inline\n",
    "pylab.rcParams['figure.figsize'] = (10, 6)\n",
    "\n",
    "dir = '/Users/mrefermat/git/FinancePhD/Empirical Methods/Homework2/'\n",
    "\n",
    "file1 = 'CRSPzero_yields.xls'\n",
    "file2 = 'GDPC1.xls'\n",
    "file3 = 'Factors(1).xlsx'\n",
    "file4 = 'FoF.xlsx'"
   ]
  },
  {
   "cell_type": "code",
   "execution_count": 2,
   "metadata": {
    "collapsed": false
   },
   "outputs": [],
   "source": [
    "yd=pd.read_excel(dir+file1,parse_dates=0,index_col=0).resample(rule='m',how='last')\n",
    "factors=pd.read_excel(dir+file3,parse_dates=0,header=4,index_col=0).resample(rule='m',how='last')\n",
    "FoF=pd.read_excel(dir+file4,parse_dates=0,index_col=0).resample(rule='m',how='last')"
   ]
  },
  {
   "cell_type": "code",
   "execution_count": 17,
   "metadata": {
    "collapsed": false
   },
   "outputs": [],
   "source": [
    "beta=pd.DataFrame()\n",
    "t_stats=pd.DataFrame()\n",
    "p_values=pd.DataFrame()\n",
    "r2= pd.Series()\n",
    "for f in FoF.columns:\n",
    "    df = pd.DataFrame()\n",
    "    df['Fund']=FoF[f].dropna()\n",
    "    if df.Fund.count() < 60:\n",
    "        continue\n",
    "    df=pd.concat([df,factors],axis=1, join='inner')\n",
    "    df['Alpha']=1\n",
    "    cols= factors.columns.tolist()\n",
    "    cols.append('Alpha')\n",
    "    res = sm.OLS(df.Fund,df[cols]).fit()\n",
    "    beta[f]=res.params\n",
    "    t_stats[f]=res.tvalues\n",
    "    p_values[f]=res.pvalues\n",
    "    r2[f]=res.rsquared"
   ]
  },
  {
   "cell_type": "code",
   "execution_count": 12,
   "metadata": {
    "collapsed": false
   },
   "outputs": [
    {
     "data": {
      "text/plain": [
       "Equity market factor       -3.444525\n",
       "Size Spread factor         -0.129837\n",
       "Bond market factor         31.532020\n",
       "Credit Spread factor     -177.341344\n",
       "PTFSBD                     -0.513888\n",
       "PTFSFX                      0.320623\n",
       "PTFSCOM                     0.578106\n",
       "Emerging Market factor     15.374006\n",
       "Alpha                       0.178637\n",
       "dtype: float64"
      ]
     },
     "execution_count": 12,
     "metadata": {},
     "output_type": "execute_result"
    }
   ],
   "source": [
    "beta.T.mean()"
   ]
  },
  {
   "cell_type": "code",
   "execution_count": 13,
   "metadata": {
    "collapsed": false
   },
   "outputs": [
    {
     "data": {
      "text/plain": [
       "Equity market factor     -0.545344\n",
       "Size Spread factor        0.064086\n",
       "Bond market factor        0.369178\n",
       "Credit Spread factor     -2.088642\n",
       "PTFSBD                   -0.533585\n",
       "PTFSFX                    0.291829\n",
       "PTFSCOM                   0.378025\n",
       "Emerging Market factor    4.045272\n",
       "Alpha                     1.936892\n",
       "dtype: float64"
      ]
     },
     "execution_count": 13,
     "metadata": {},
     "output_type": "execute_result"
    }
   ],
   "source": [
    "t_stats.T.mean()"
   ]
  },
  {
   "cell_type": "code",
   "execution_count": 23,
   "metadata": {
    "collapsed": false
   },
   "outputs": [
    {
     "data": {
      "text/plain": [
       "<matplotlib.axes._subplots.AxesSubplot at 0x10f464c90>"
      ]
     },
     "execution_count": 23,
     "metadata": {},
     "output_type": "execute_result"
    },
    {
     "data": {
      "image/png": "[encoded data removed]",
      "text/plain": [
       "<matplotlib.figure.Figure at 0x10def4710>"
      ]
     },
     "metadata": {},
     "output_type": "display_data"
    }
   ],
   "source": [
    "sns.distplot(p_values.T.Alpha)"
   ]
  },
  {
   "cell_type": "markdown",
   "metadata": {},
   "source": [
    "To estimate $\\pi_0$, we need to pick an threshold, $\\lambda_0$, and then work out the proportion of funds that above the threshold.  The formula for calculting $\\hat{\\pi_0}$ is:\n",
    "\n",
    "$$ \\hat{\\pi_0} = \\frac{\\hat{W}(\\lambda^*)}{M} \\frac{1}{1-\\lambda^*} $$\n",
    "\n",
    "We can apply a simple bootstrap procedure to minimize the estimated mean squared error (MSE) of $\\hat{\\pi_0}$ in order to select the best $\\lambda^*$.  Where $\\hat{W}(\\lambda^*)$ is the proportion with p values exceeding $\\lambda^*$."
   ]
  },
  {
   "cell_type": "code",
   "execution_count": 27,
   "metadata": {
    "collapsed": true
   },
   "outputs": [],
   "source": [
    "# Code from: http://nbviewer.jupyter.org/gist/aflaxman/6871948\n",
    "# randomly resamples Series and returns it\n",
    "def bootstrap_resample(X, n=None):\n",
    "    \"\"\" Bootstrap resample an array_like\n",
    "    Parameters\n",
    "    ----------\n",
    "    X : array_like\n",
    "      data to resample\n",
    "    n : int, optional\n",
    "      length of resampled array, equal to len(X) if n==None\n",
    "    Results\n",
    "    -------\n",
    "    returns X_resamples\n",
    "    \"\"\"\n",
    "    if isinstance(X, pd.Series):\n",
    "        X = X.copy()\n",
    "        X.index = range(len(X.index))\n",
    "    if n == None:\n",
    "        n = len(X)\n",
    "        \n",
    "    resample_i = np.floor(np.random.rand(n)*len(X)).astype(int)\n",
    "    X_resample = np.array(X[resample_i])  # TODO: write a test demonstrating why array() is important\n",
    "    return X_resample\n"
   ]
  },
  {
   "cell_type": "markdown",
   "metadata": {},
   "source": [
    "First calcuate $\\hat{\\pi_0}$ for each value of $\\lambda$ from 0.3 to 0.7 in increments of 0.05. in this equation:\n",
    "\n",
    "$$ \\hat{\\pi_0} = \\frac{\\hat{W}(\\lambda^*)}{M} \\frac{1}{1-\\lambda^*} $$"
   ]
  },
  {
   "cell_type": "code",
   "execution_count": 30,
   "metadata": {
    "collapsed": false
   },
   "outputs": [
    {
     "name": "stdout",
     "output_type": "stream",
     "text": [
      "Lambda*: 0.65\n",
      "Pi_0^hat: 0.550052978302\n"
     ]
    }
   ],
   "source": [
    "# Calculating lambda * and pi hat using bootstraping \n",
    "pv=p_values.T.Alpha\n",
    "min_pi_hat=1\n",
    "for lamb in [x / 100. for x in range(30,75,5)]:\n",
    "    if min_pi_hat > pv[pv>lamb].count() / float(pv.count()) * 1/(1-lamb):\n",
    "        min_pi_hat = pv[pv>lamb].count() / float(pv.count()) * 1/(1-lamb)\n",
    "\n",
    "d={}\n",
    "for lamb in [x / 100. for x in range(30,75,5)]:\n",
    "    l=[]\n",
    "    for x in range(0,1000):\n",
    "        bsr = bootstrap_resample(pv)\n",
    "        l.append(((bsr>lamb).sum() / float(len(bsr)) * 1/(1-lamb)-min_pi_hat)**2)\n",
    "    d[lamb]=np.mean(l)\n",
    "lambda_star=min(d, key=d.get)\n",
    "print 'Lambda*: '+ str(lambda_star)\n",
    "# Calculating pi hat using lambda *\n",
    "pi_hat = pv[pv>lambda_star].count() / float(pv.count()) * 1/(1-lambda_star)\n",
    "print 'Pi_0^hat: '+ str(pi_hat)"
   ]
  },
  {
   "cell_type": "code",
   "execution_count": null,
   "metadata": {
    "collapsed": true
   },
   "outputs": [],
   "source": []
  }
 ],
 "metadata": {
  "kernelspec": {
   "display_name": "Python 2",
   "language": "python",
   "name": "python2"
  },
  "language_info": {
   "codemirror_mode": {
    "name": "ipython",
    "version": 2
   },
   "file_extension": ".py",
   "mimetype": "text/x-python",
   "name": "python",
   "nbconvert_exporter": "python",
   "pygments_lexer": "ipython2",
   "version": "2.7.11"
  }
 },
 "nbformat": 4,
 "nbformat_minor": 0
}
