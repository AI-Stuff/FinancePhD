{
 "cells": [
  {
   "cell_type": "code",
   "execution_count": 1,
   "metadata": {
    "collapsed": false
   },
   "outputs": [
    {
     "name": "stdout",
     "output_type": "stream",
     "text": [
      "Populating the interactive namespace from numpy and matplotlib\n"
     ]
    }
   ],
   "source": [
    "import pandas as pd\n",
    "import seaborn as sns\n",
    "import statsmodels.api as sm\n",
    "%matplotlib inline\n",
    "%pylab inline\n",
    "pylab.rcParams['figure.figsize'] = (10, 6)\n",
    "\n",
    "dir = '/Users/mrefermat/git/FinancePhD/Empirical Methods/Homework2/'\n",
    "\n",
    "file1 = 'CRSPzero_yields.xls'\n",
    "file2 = 'GDPC1.xls'\n",
    "file3 = 'Factors(1).xlsx'\n",
    "file4 = 'FoF.xlsx'"
   ]
  },
  {
   "cell_type": "code",
   "execution_count": 2,
   "metadata": {
    "collapsed": false
   },
   "outputs": [],
   "source": [
    "yd=pd.read_excel(dir+file1,parse_dates=0,index_col=0).resample(rule='m',how='last')\n",
    "factors=pd.read_excel(dir+file3,parse_dates=0,header=4,index_col=0).resample(rule='m',how='last')\n",
    "FoF=pd.read_excel(dir+file4,parse_dates=0,index_col=0).resample(rule='m',how='last')"
   ]
  },
  {
   "cell_type": "code",
   "execution_count": 3,
   "metadata": {
    "collapsed": false
   },
   "outputs": [],
   "source": [
    "beta=pd.DataFrame()\n",
    "t_stats=pd.DataFrame()\n",
    "r2= pd.Series()\n",
    "for f in FoF.columns:\n",
    "    df = pd.DataFrame()\n",
    "    df['Fund']=FoF[f].dropna()\n",
    "    if df.Fund.count() < 60:\n",
    "        continue\n",
    "    df=pd.concat([df,factors],axis=1, join='inner')\n",
    "    df['Alpha']=1\n",
    "    cols= factors.columns.tolist()\n",
    "    cols.append('Alpha')\n",
    "    res = sm.OLS(df.Fund,df[cols]).fit()\n",
    "    beta[f]=res.params\n",
    "    t_stats[f]=res.tvalues\n",
    "    r2[f]=res.rsquared"
   ]
  },
  {
   "cell_type": "code",
   "execution_count": 4,
   "metadata": {
    "collapsed": false
   },
   "outputs": [
    {
     "data": {
      "text/plain": [
       "Equity market factor       -3.444525\n",
       "Size Spread factor         -0.129837\n",
       "Bond market factor         31.532020\n",
       "Credit Spread factor     -177.341344\n",
       "PTFSBD                     -0.513888\n",
       "PTFSFX                      0.320623\n",
       "PTFSCOM                     0.578106\n",
       "Emerging Market factor     15.374006\n",
       "Alpha                       0.178637\n",
       "dtype: float64"
      ]
     },
     "execution_count": 4,
     "metadata": {},
     "output_type": "execute_result"
    }
   ],
   "source": [
    "beta.T.mean()"
   ]
  },
  {
   "cell_type": "code",
   "execution_count": 5,
   "metadata": {
    "collapsed": false
   },
   "outputs": [
    {
     "data": {
      "text/plain": [
       "Equity market factor     -0.545344\n",
       "Size Spread factor        0.064086\n",
       "Bond market factor        0.369178\n",
       "Credit Spread factor     -2.088642\n",
       "PTFSBD                   -0.533585\n",
       "PTFSFX                    0.291829\n",
       "PTFSCOM                   0.378025\n",
       "Emerging Market factor    4.045272\n",
       "Alpha                     1.936892\n",
       "dtype: float64"
      ]
     },
     "execution_count": 5,
     "metadata": {},
     "output_type": "execute_result"
    }
   ],
   "source": [
    "t_stats.T.mean()"
   ]
  },
  {
   "cell_type": "code",
   "execution_count": null,
   "metadata": {
    "collapsed": true
   },
   "outputs": [],
   "source": []
  }
 ],
 "metadata": {
  "kernelspec": {
   "display_name": "Python 2",
   "language": "python",
   "name": "python2"
  },
  "language_info": {
   "codemirror_mode": {
    "name": "ipython",
    "version": 2
   },
   "file_extension": ".py",
   "mimetype": "text/x-python",
   "name": "python",
   "nbconvert_exporter": "python",
   "pygments_lexer": "ipython2",
   "version": "2.7.11"
  }
 },
 "nbformat": 4,
 "nbformat_minor": 0
}
