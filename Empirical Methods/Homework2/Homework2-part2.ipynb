{
 "cells": [
  {
   "cell_type": "code",
   "execution_count": 40,
   "metadata": {
    "collapsed": false
   },
   "outputs": [
    {
     "name": "stdout",
     "output_type": "stream",
     "text": [
      "Populating the interactive namespace from numpy and matplotlib\n"
     ]
    },
    {
     "name": "stderr",
     "output_type": "stream",
     "text": [
      "WARNING: pylab import has clobbered these variables: ['f', 'gamma', 'beta', 'pv']\n",
      "`%matplotlib` prevents importing * from pylab and numpy\n"
     ]
    }
   ],
   "source": [
    "import pandas as pd\n",
    "import seaborn as sns\n",
    "import statsmodels.api as sm\n",
    "from scipy import stats\n",
    "%matplotlib inline\n",
    "%pylab inline\n",
    "pylab.rcParams['figure.figsize'] = (10, 6)\n",
    "\n",
    "dir = '/Users/mrefermat/git/FinancePhD/Empirical Methods/Homework2/'\n",
    "\n",
    "file1 = 'CRSPzero_yields.xls'\n",
    "file2 = 'GDPC1.xls'\n",
    "file3 = 'Factors(1).xlsx'\n",
    "file4 = 'FoF.xlsx'\n",
    "file5 = 'tbill.csv'"
   ]
  },
  {
   "cell_type": "code",
   "execution_count": 58,
   "metadata": {
    "collapsed": false
   },
   "outputs": [],
   "source": [
    "tbill=pd.read_csv(dir+file5,parse_dates=0,index_col=0).resample(rule='m',how='last')\n",
    "factors=pd.read_excel(dir+file3,parse_dates=0,header=4,index_col=0).resample(rule='m',how='last')\n",
    "FoF=pd.read_excel(dir+file4,parse_dates=0,index_col=0).resample(rule='m',how='last')"
   ]
  },
  {
   "cell_type": "markdown",
   "metadata": {},
   "source": [
    "Since we use excess returns in the regression, we need to take away 30 day cash returns."
   ]
  },
  {
   "cell_type": "code",
   "execution_count": 59,
   "metadata": {
    "collapsed": false
   },
   "outputs": [],
   "source": [
    "FoF=FoF-tbill.t30ret*100"
   ]
  },
  {
   "cell_type": "code",
   "execution_count": 60,
   "metadata": {
    "collapsed": false
   },
   "outputs": [],
   "source": [
    "beta=pd.DataFrame()\n",
    "t_stats=pd.DataFrame()\n",
    "p_values=pd.DataFrame()\n",
    "r2= pd.Series()\n",
    "for f in FoF.columns:\n",
    "    df = pd.DataFrame()\n",
    "    df['Fund']=FoF[f].dropna()\n",
    "    if df.Fund.count() < 60:\n",
    "        continue\n",
    "    df=pd.concat([df,factors],axis=1, join='inner')\n",
    "    df['Alpha']=1\n",
    "    cols= factors.columns.tolist()\n",
    "    cols.append('Alpha')\n",
    "    res = sm.OLS(df.Fund,df[cols]).fit()\n",
    "    beta[f]=res.params\n",
    "    t_stats[f]=res.tvalues\n",
    "    p_values[f]=res.pvalues\n",
    "    r2[f]=res.rsquared"
   ]
  },
  {
   "cell_type": "code",
   "execution_count": 61,
   "metadata": {
    "collapsed": false
   },
   "outputs": [
    {
     "data": {
      "text/plain": [
       "Equity market factor       -3.441294\n",
       "Size Spread factor          0.394232\n",
       "Bond market factor         27.569260\n",
       "Credit Spread factor     -189.273722\n",
       "PTFSBD                     -0.390284\n",
       "PTFSFX                      0.282721\n",
       "PTFSCOM                     0.570708\n",
       "Emerging Market factor     15.179668\n",
       "Alpha                      -0.010674\n",
       "dtype: float64"
      ]
     },
     "execution_count": 61,
     "metadata": {},
     "output_type": "execute_result"
    }
   ],
   "source": [
    "beta.T.mean()"
   ]
  },
  {
   "cell_type": "code",
   "execution_count": 62,
   "metadata": {
    "collapsed": false
   },
   "outputs": [
    {
     "data": {
      "text/plain": [
       "Equity market factor     -0.551242\n",
       "Size Spread factor        0.160711\n",
       "Bond market factor        0.306786\n",
       "Credit Spread factor     -2.291481\n",
       "PTFSBD                   -0.432450\n",
       "PTFSFX                    0.245363\n",
       "PTFSCOM                   0.378847\n",
       "Emerging Market factor    4.043323\n",
       "Alpha                     0.606405\n",
       "dtype: float64"
      ]
     },
     "execution_count": 62,
     "metadata": {},
     "output_type": "execute_result"
    }
   ],
   "source": [
    "t_stats.T.mean()"
   ]
  },
  {
   "cell_type": "code",
   "execution_count": 63,
   "metadata": {
    "collapsed": false
   },
   "outputs": [
    {
     "data": {
      "text/plain": [
       "<matplotlib.axes._subplots.AxesSubplot at 0x12581f3d0>"
      ]
     },
     "execution_count": 63,
     "metadata": {},
     "output_type": "execute_result"
    },
    {
     "data": {
      "image/png": "[encoded data removed]",
      "text/plain": [
       "<matplotlib.figure.Figure at 0x1258dc550>"
      ]
     },
     "metadata": {},
     "output_type": "display_data"
    }
   ],
   "source": [
    "sns.distplot(beta.T.Alpha)"
   ]
  },
  {
   "cell_type": "markdown",
   "metadata": {},
   "source": [
    "# T stat distribution\n",
    "Note how high some of the alpha terms are"
   ]
  },
  {
   "cell_type": "code",
   "execution_count": 64,
   "metadata": {
    "collapsed": false
   },
   "outputs": [
    {
     "data": {
      "text/plain": [
       "<matplotlib.axes._subplots.AxesSubplot at 0x125460b90>"
      ]
     },
     "execution_count": 64,
     "metadata": {},
     "output_type": "execute_result"
    },
    {
     "data": {
      "image/png": "[encoded data removed]",
      "text/plain": [
       "<matplotlib.figure.Figure at 0x1257c7e90>"
      ]
     },
     "metadata": {},
     "output_type": "display_data"
    }
   ],
   "source": [
    "sns.distplot(t_stats.T.Alpha)"
   ]
  },
  {
   "cell_type": "markdown",
   "metadata": {},
   "source": [
    "# p value distribution"
   ]
  },
  {
   "cell_type": "code",
   "execution_count": 65,
   "metadata": {
    "collapsed": false
   },
   "outputs": [
    {
     "data": {
      "text/plain": [
       "<matplotlib.axes._subplots.AxesSubplot at 0x13310ef10>"
      ]
     },
     "execution_count": 65,
     "metadata": {},
     "output_type": "execute_result"
    },
    {
     "data": {
      "image/png": "[encoded data removed]",
      "text/plain": [
       "<matplotlib.figure.Figure at 0x11afc08d0>"
      ]
     },
     "metadata": {},
     "output_type": "display_data"
    }
   ],
   "source": [
    "sns.distplot(p_values.T.Alpha)"
   ]
  },
  {
   "cell_type": "markdown",
   "metadata": {},
   "source": [
    "To estimate $\\pi_0$, we need to pick an threshold, $\\lambda_0$, and then work out the proportion of funds that above the threshold.  The formula for calculting $\\hat{\\pi_0}$ is:\n",
    "\n",
    "$$ \\hat{\\pi_0} = \\frac{\\hat{W}(\\lambda^*)}{M} \\frac{1}{1-\\lambda^*} $$\n",
    "\n",
    "We can apply a simple bootstrap procedure to minimize the estimated mean squared error (MSE) of $\\hat{\\pi_0}$ in order to select the best $\\lambda^*$.  Where $\\hat{W}(\\lambda^*)$ is the proportion with p values exceeding $\\lambda^*$."
   ]
  },
  {
   "cell_type": "code",
   "execution_count": 66,
   "metadata": {
    "collapsed": true
   },
   "outputs": [],
   "source": [
    "# Code from: http://nbviewer.jupyter.org/gist/aflaxman/6871948\n",
    "# randomly resamples Series and returns it\n",
    "def bootstrap_resample(X, n=None):\n",
    "    \"\"\" Bootstrap resample an array_like\n",
    "    Parameters\n",
    "    ----------\n",
    "    X : array_like\n",
    "      data to resample\n",
    "    n : int, optional\n",
    "      length of resampled array, equal to len(X) if n==None\n",
    "    Results\n",
    "    -------\n",
    "    returns X_resamples\n",
    "    \"\"\"\n",
    "    if isinstance(X, pd.Series):\n",
    "        X = X.copy()\n",
    "        X.index = range(len(X.index))\n",
    "    if n == None:\n",
    "        n = len(X)\n",
    "        \n",
    "    resample_i = np.floor(np.random.rand(n)*len(X)).astype(int)\n",
    "    X_resample = np.array(X[resample_i])  # TODO: write a test demonstrating why array() is important\n",
    "    return X_resample\n"
   ]
  },
  {
   "cell_type": "markdown",
   "metadata": {},
   "source": [
    "First calcuate $\\hat{\\pi_0}$ for each value of $\\lambda$ from 0.3 to 0.7 in increments of 0.05. in this equation:\n",
    "\n",
    "$$ \\hat{\\pi_0} = \\frac{\\hat{W}(\\lambda^*)}{M} \\frac{1}{1-\\lambda^*} $$"
   ]
  },
  {
   "cell_type": "code",
   "execution_count": 67,
   "metadata": {
    "collapsed": false
   },
   "outputs": [
    {
     "name": "stdout",
     "output_type": "stream",
     "text": [
      "Lambda*: 0.55\n",
      "Pi_0^hat: 0.524561969257\n"
     ]
    }
   ],
   "source": [
    "# Calculating lambda * and pi hat using bootstraping \n",
    "pv=p_values.T.Alpha\n",
    "min_pi_hat=1\n",
    "for lamb in [x / 100. for x in range(30,75,5)]:\n",
    "    if min_pi_hat > pv[pv>lamb].count() / float(pv.count()) * 1/(1-lamb):\n",
    "        min_pi_hat = pv[pv>lamb].count() / float(pv.count()) * 1/(1-lamb)\n",
    "\n",
    "d={}\n",
    "for lamb in [x / 100. for x in range(30,75,5)]:\n",
    "    l=[]\n",
    "    for x in range(0,1000):\n",
    "        bsr = bootstrap_resample(pv)\n",
    "        l.append(((bsr>lamb).sum() / float(len(bsr)) * 1/(1-lamb)-min_pi_hat)**2)\n",
    "    d[lamb]=np.mean(l)\n",
    "lambda_star=min(d, key=d.get)\n",
    "print 'Lambda*: '+ str(lambda_star)\n",
    "# Calculating pi hat using lambda *\n",
    "pi_hat = pv[pv>lambda_star].count() / float(pv.count()) * 1/(1-lambda_star)\n",
    "print 'Pi_0^hat: '+ str(pi_hat)"
   ]
  },
  {
   "cell_type": "markdown",
   "metadata": {},
   "source": [
    "To determine the value for $\\gamma^*$, we use bootstrapping techniques to minimizes the estimated MSE of $\\hat{\\pi_A^-}(\\gamma).  \n",
    "\n",
    "$$ \\hat{MSE}^-(\\gamma) = \\frac{1}{1000}\\sum_{b=1}^{1000} \\left [ \\hat{\\pi}_A^{b-}(\\gamma) - \\max_{\\gamma}\\hat{\\pi}_A^-(\\gamma) \\right ]^2 $$\n",
    "\n",
    "where:\n",
    "\n",
    "$$ \\hat{\\pi}_A^- = \\hat{S}_\\gamma^- - \\hat{\\pi}_0 * \\gamma /2$$"
   ]
  },
  {
   "cell_type": "code",
   "execution_count": 68,
   "metadata": {
    "collapsed": false
   },
   "outputs": [
    {
     "name": "stdout",
     "output_type": "stream",
     "text": [
      "0.0080189186284\n",
      "0.00793292486295\n",
      "0.00945931419972\n",
      "0.00808341395249\n",
      "0.00638503708481\n",
      "0.00275180049446\n",
      "-0.000558959475438\n",
      "-0.00290228958401\n",
      "-0.00524561969257\n",
      "-0.00920133290336\n",
      "-0.0131570461142\n",
      "-0.0164678060841\n",
      "-0.0191336128131\n",
      "-0.0234118026443\n",
      "-0.0276899924755\n",
      "-0.0322906589272\n",
      "-0.0365688487585\n",
      "-0.0414919918306\n",
      "-0.0457701816618\n",
      "-0.0500483714931\n",
      "-0.0549715145652\n",
      "-0.0592497043964\n",
      "-0.0635278942277\n",
      "-0.0684510372998\n",
      "-0.072729227131\n",
      "-0.0763624637214\n",
      "-0.0803181769322\n"
     ]
    }
   ],
   "source": [
    "# Calculating gamma * via the bootstrapping methodology\n",
    "alpha_t_stat=t_stats.T.Alpha\n",
    "max_pi_hat=0\n",
    "for gamma in [x / 100. for x in range(1,55,2)]:\n",
    "    thres = stats.t.ppf(1-(gamma/200.),999)*-1   \n",
    "    signif=alpha_t_stat[alpha_t_stat<thres].count() / float(alpha_t_stat.count())\n",
    "    print signif-pi_hat*gamma/2.0\n",
    "    if max_pi_hat < signif-pi_hat*gamma/2.0:\n",
    "        max_pi_hat = signif-pi_hat*gamma/2.0\n",
    "        \n",
    "\n"
   ]
  },
  {
   "cell_type": "code",
   "execution_count": 69,
   "metadata": {
    "collapsed": false
   },
   "outputs": [
    {
     "data": {
      "text/plain": [
       "0.43502096098032894"
      ]
     },
     "execution_count": 69,
     "metadata": {},
     "output_type": "execute_result"
    }
   ],
   "source": [
    "beta.T.Alpha[alpha_t_stat>0].count()/float(alpha_t_stat.count())"
   ]
  }
 ],
 "metadata": {
  "kernelspec": {
   "display_name": "Python 2",
   "language": "python",
   "name": "python2"
  },
  "language_info": {
   "codemirror_mode": {
    "name": "ipython",
    "version": 2
   },
   "file_extension": ".py",
   "mimetype": "text/x-python",
   "name": "python",
   "nbconvert_exporter": "python",
   "pygments_lexer": "ipython2",
   "version": "2.7.11"
  }
 },
 "nbformat": 4,
 "nbformat_minor": 0
}
