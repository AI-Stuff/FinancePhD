{
 "cells": [
  {
   "cell_type": "code",
   "execution_count": 1,
   "metadata": {
    "collapsed": false
   },
   "outputs": [
    {
     "name": "stdout",
     "output_type": "stream",
     "text": [
      "Populating the interactive namespace from numpy and matplotlib\n"
     ]
    }
   ],
   "source": [
    "import pandas as pd\n",
    "import seaborn as sns\n",
    "import statsmodels.api as sm\n",
    "from scipy import stats\n",
    "%matplotlib inline\n",
    "%pylab inline\n",
    "pylab.rcParams['figure.figsize'] = (10, 6)\n",
    "\n",
    "dir = '/Users/mrefermat/git/FinancePhD/Empirical Methods/Homework2/'\n",
    "\n",
    "file1 = 'CRSPzero_yields.xls'\n",
    "file2 = 'GDPC1.xls'\n",
    "file3 = 'Factors(1).xlsx'\n",
    "file4 = 'FoF.xlsx'\n",
    "file5 = 'tbill.csv'"
   ]
  },
  {
   "cell_type": "code",
   "execution_count": 2,
   "metadata": {
    "collapsed": false
   },
   "outputs": [],
   "source": [
    "tbill=pd.read_csv(dir+file5,parse_dates=0,index_col=0).resample(rule='m',how='last')\n",
    "factors=pd.read_excel(dir+file3,parse_dates=0,header=4,index_col=0).resample(rule='m',how='last')\n",
    "FoF=pd.read_excel(dir+file4,parse_dates=0,index_col=0).resample(rule='m',how='last')"
   ]
  },
  {
   "cell_type": "markdown",
   "metadata": {},
   "source": [
    "Since we use excess returns in the regression, we need to take away 30 day cash returns."
   ]
  },
  {
   "cell_type": "code",
   "execution_count": 3,
   "metadata": {
    "collapsed": false
   },
   "outputs": [
    {
     "name": "stderr",
     "output_type": "stream",
     "text": [
      "/Users/mrefermat/anaconda/lib/python2.7/site-packages/pandas/core/frame.py:3200: FutureWarning: TimeSeries broadcasting along DataFrame index by default is deprecated. Please use DataFrame.<op> to explicitly broadcast arithmetic operations along the index\n",
      "  FutureWarning)\n"
     ]
    }
   ],
   "source": [
    "FoF=FoF-tbill.t30ret*100"
   ]
  },
  {
   "cell_type": "markdown",
   "metadata": {},
   "source": [
    "To calculate $\\alpha$ for each fund and it's relevent t-stat, I use the benhcmakr model of Fung and Hsieh (RFS, 2001):\n",
    "\n",
    "$$ rexc_{i,t} = \\alpha_i + \\beta_i^1SNPexc_t+B_i^2SML_t+\\beta_i^3MSCIem_t + \\beta_i^4RBD10_t + \\beta_+i^5BAAMBD10_t + \\beta_i^6PTFSBD_t + \\beta_i^7PTFSFX_t + \\beta_i^8PTFSCOM_t + \\varepsilon_{i,t} $$\n",
    "\n",
    "I selected funds with only five years of fund performance in line with BSW for two reasons.  First to match exactly their procedure, but secondly because 5 years allows for the fund to see many different types of market environments.  I don't want to select funds just because they happen to launch at the right time.  Of the FoF list of 6392 names I only get 3101 with at least 5 yeras of data (continous or not)."
   ]
  },
  {
   "cell_type": "code",
   "execution_count": 4,
   "metadata": {
    "collapsed": false
   },
   "outputs": [],
   "source": [
    "beta=pd.DataFrame()\n",
    "t_stats=pd.DataFrame()\n",
    "p_values=pd.DataFrame()\n",
    "r2= pd.Series()\n",
    "for f in FoF.columns:\n",
    "    df = pd.DataFrame()\n",
    "    df['Fund']=FoF[f].dropna()\n",
    "    if df.Fund.count() < 60:\n",
    "        continue\n",
    "    df=pd.concat([df,factors],axis=1, join='inner')\n",
    "    df['Alpha']=1\n",
    "    cols= factors.columns.tolist()\n",
    "    cols.append('Alpha')\n",
    "    res = sm.OLS(df.Fund,df[cols]).fit()\n",
    "    beta[f]=res.params\n",
    "    t_stats[f]=res.tvalues\n",
    "    p_values[f]=res.pvalues\n",
    "    r2[f]=res.rsquared"
   ]
  },
  {
   "cell_type": "code",
   "execution_count": 5,
   "metadata": {
    "collapsed": false
   },
   "outputs": [
    {
     "data": {
      "text/plain": [
       "Equity market factor       -3.441294\n",
       "Size Spread factor          0.394232\n",
       "Bond market factor         27.569260\n",
       "Credit Spread factor     -189.273722\n",
       "PTFSBD                     -0.390284\n",
       "PTFSFX                      0.282721\n",
       "PTFSCOM                     0.570708\n",
       "Emerging Market factor     15.179668\n",
       "Alpha                      -0.010674\n",
       "dtype: float64"
      ]
     },
     "execution_count": 5,
     "metadata": {},
     "output_type": "execute_result"
    }
   ],
   "source": [
    "beta.T.mean()"
   ]
  },
  {
   "cell_type": "code",
   "execution_count": 6,
   "metadata": {
    "collapsed": false
   },
   "outputs": [
    {
     "data": {
      "text/plain": [
       "Equity market factor     -0.551242\n",
       "Size Spread factor        0.160711\n",
       "Bond market factor        0.306786\n",
       "Credit Spread factor     -2.291481\n",
       "PTFSBD                   -0.432450\n",
       "PTFSFX                    0.245363\n",
       "PTFSCOM                   0.378847\n",
       "Emerging Market factor    4.043323\n",
       "Alpha                     0.606405\n",
       "dtype: float64"
      ]
     },
     "execution_count": 6,
     "metadata": {},
     "output_type": "execute_result"
    }
   ],
   "source": [
    "t_stats.T.mean()"
   ]
  },
  {
   "cell_type": "markdown",
   "metadata": {},
   "source": [
    "# $\\alpha$ and T stat distribution\n",
    "\n",
    "Note how high some of the alpha terms are"
   ]
  },
  {
   "cell_type": "code",
   "execution_count": 7,
   "metadata": {
    "collapsed": false
   },
   "outputs": [
    {
     "data": {
      "text/plain": [
       "<matplotlib.axes._subplots.AxesSubplot at 0x109a3b790>"
      ]
     },
     "execution_count": 7,
     "metadata": {},
     "output_type": "execute_result"
    },
    {
     "data": {
      "image/png": "[encoded data removed]",
      "text/plain": [
       "<matplotlib.figure.Figure at 0x10430f590>"
      ]
     },
     "metadata": {},
     "output_type": "display_data"
    }
   ],
   "source": [
    "sns.distplot(beta.T.Alpha)"
   ]
  },
  {
   "cell_type": "code",
   "execution_count": 8,
   "metadata": {
    "collapsed": false
   },
   "outputs": [
    {
     "data": {
      "text/plain": [
       "<matplotlib.axes._subplots.AxesSubplot at 0x10bf11b10>"
      ]
     },
     "execution_count": 8,
     "metadata": {},
     "output_type": "execute_result"
    },
    {
     "data": {
      "image/png": "[encoded data removed]",
      "text/plain": [
       "<matplotlib.figure.Figure at 0x103ee9d50>"
      ]
     },
     "metadata": {},
     "output_type": "display_data"
    }
   ],
   "source": [
    "sns.distplot(t_stats.T.Alpha)"
   ]
  },
  {
   "cell_type": "markdown",
   "metadata": {},
   "source": [
    "# Calculating $\\hat{\\pi_0}$ from p values"
   ]
  },
  {
   "cell_type": "code",
   "execution_count": 9,
   "metadata": {
    "collapsed": false
   },
   "outputs": [
    {
     "data": {
      "text/plain": [
       "<matplotlib.axes._subplots.AxesSubplot at 0x10f505050>"
      ]
     },
     "execution_count": 9,
     "metadata": {},
     "output_type": "execute_result"
    },
    {
     "data": {
      "image/png": "[encoded data removed]",
      "text/plain": [
       "<matplotlib.figure.Figure at 0x10e695590>"
      ]
     },
     "metadata": {},
     "output_type": "display_data"
    }
   ],
   "source": [
    "sns.distplot(p_values.T.Alpha)"
   ]
  },
  {
   "cell_type": "markdown",
   "metadata": {},
   "source": [
    "To estimate $\\pi_0$, we need to pick an threshold, $\\lambda_0$, and then work out the proportion of funds that above the threshold.  The formula for calculting $\\hat{\\pi_0}$ is:\n",
    "\n",
    "$$ \\hat{\\pi_0} = \\frac{\\hat{W}(\\lambda^*)}{M} \\frac{1}{1-\\lambda^*} $$\n",
    "\n",
    "We can apply a simple bootstrap procedure to minimize the estimated mean squared error (MSE) of $\\hat{\\pi_0}$ in order to select the best $\\lambda^*$.  Where $\\hat{W}(\\lambda^*)$ is the proportion with p values exceeding $\\lambda^*$."
   ]
  },
  {
   "cell_type": "code",
   "execution_count": 10,
   "metadata": {
    "collapsed": true
   },
   "outputs": [],
   "source": [
    "# Code from: http://nbviewer.jupyter.org/gist/aflaxman/6871948\n",
    "# randomly resamples Series and returns it\n",
    "def bootstrap_resample(X, n=None):\n",
    "    \"\"\" Bootstrap resample an array_like\n",
    "    Parameters\n",
    "    ----------\n",
    "    X : array_like\n",
    "      data to resample\n",
    "    n : int, optional\n",
    "      length of resampled array, equal to len(X) if n==None\n",
    "    Results\n",
    "    -------\n",
    "    returns X_resamples\n",
    "    \"\"\"\n",
    "    if isinstance(X, pd.Series):\n",
    "        X = X.copy()\n",
    "        X.index = range(len(X.index))\n",
    "    if n == None:\n",
    "        n = len(X)\n",
    "        \n",
    "    resample_i = np.floor(np.random.rand(n)*len(X)).astype(int)\n",
    "    X_resample = np.array(X[resample_i])  # TODO: write a test demonstrating why array() is important\n",
    "    return X_resample\n"
   ]
  },
  {
   "cell_type": "markdown",
   "metadata": {},
   "source": [
    "First calcuate $\\hat{\\pi_0}$ for each value of $\\lambda$ from 0.3 to 0.7 in increments of 0.05. in this equation:\n",
    "\n",
    "$$ \\hat{\\pi_0} = \\frac{\\hat{W}(\\lambda^*)}{M} \\frac{1}{1-\\lambda^*} $$"
   ]
  },
  {
   "cell_type": "code",
   "execution_count": 11,
   "metadata": {
    "collapsed": false
   },
   "outputs": [
    {
     "name": "stdout",
     "output_type": "stream",
     "text": [
      "Lambda*: 0.55\n",
      "Pi_0^hat: 0.524561969257\n"
     ]
    }
   ],
   "source": [
    "# Calculating lambda * and pi hat using bootstraping \n",
    "pv=p_values.T.Alpha\n",
    "min_pi_hat=1\n",
    "for lamb in [x / 100. for x in range(30,75,5)]:\n",
    "    if min_pi_hat > pv[pv>lamb].count() / float(pv.count()) * 1/(1-lamb):\n",
    "        min_pi_hat = pv[pv>lamb].count() / float(pv.count()) * 1/(1-lamb)\n",
    "\n",
    "d={}\n",
    "for lamb in [x / 100. for x in range(30,75,5)]:\n",
    "    l=[]\n",
    "    for x in range(0,1000):\n",
    "        bsr = bootstrap_resample(pv)\n",
    "        l.append(((bsr>lamb).sum() / float(len(bsr)) * 1/(1-lamb)-min_pi_hat)**2)\n",
    "    d[lamb]=np.mean(l)\n",
    "lambda_star=min(d, key=d.get)\n",
    "print 'Lambda*: '+ str(lambda_star)\n",
    "# Calculating pi hat using lambda *\n",
    "pi_hat = pv[pv>lambda_star].count() / float(pv.count()) * 1/(1-lambda_star)\n",
    "print 'Pi_0^hat: '+ str(pi_hat)"
   ]
  },
  {
   "cell_type": "markdown",
   "metadata": {},
   "source": [
    "# Calculating  $\\hat{\\pi_A^+}$ and $\\hat{\\pi_A^-}$ \n",
    "\n",
    "To determine the value for $\\hat{\\pi_A^+}$ and $\\hat{\\pi_A^-}$ we use a boostrap proceedure that minimizes the estimated MSE.  First off the formula we are trying to find is:\n",
    "\n",
    "$$ \\hat{\\pi_A^+} = \\hat{T}_{\\gamma^*}^+ = \\hat{S}_{\\gamma^*}^+ - \\hat{F}_{\\gamma^*}^+ = \\hat{S}_{\\gamma^*}^+ - \\hat{\\pi}_0*\\frac{{\\gamma^*}}{2} $$\n",
    "\n",
    "$$ \\hat{\\pi_A^-} = \\hat{T}_{\\gamma^*}^- = \\hat{S}_{\\gamma^*}^- - \\hat{F}_{\\gamma^*}^- = \\hat{S}_{\\gamma^*}^- - \\hat{\\pi}_0*\\frac{{\\gamma^*}}{2} $$\n",
    "\n",
    "Where $S$ is the proportion of significant funds above a threshold of $\\gamma^*$ and $F$ is the proportion of lucky or unlucky funds that are miscatogorized as per Storey (2002). Lastly, $T$ is the proportion of adjusted funds.  In order to find $\\gamma^*$, we use bootstrapping techniques to minimizes the estimated MSE of $\\hat{\\pi_A^-}(\\gamma)$.  \n",
    "\n",
    "$$ \\hat{MSE}^-(\\gamma) = \\frac{1}{1000}\\sum_{b=1}^{1000} \\left [ \\hat{\\pi}_A^{b-}(\\gamma) - \\max_{\\gamma}\\hat{\\pi}_A^-(\\gamma) \\right ]^2 $$\n",
    "\n"
   ]
  },
  {
   "cell_type": "code",
   "execution_count": 54,
   "metadata": {
    "collapsed": false
   },
   "outputs": [
    {
     "name": "stdout",
     "output_type": "stream",
     "text": [
      "Gamma*: 0.11\n",
      "Pi_0^hat_neg: 0.00275180049446\n"
     ]
    }
   ],
   "source": [
    "# Calculating gamma * via the bootstrapping methodology for pi_negative\n",
    "alpha_t_stat=t_stats.T.Alpha\n",
    "max_pi_hat=-5\n",
    "for gamma in [x / 100. for x in range(1,55,5)]:\n",
    "    thres = stats.t.ppf(1-(gamma/200.),999)*-1   \n",
    "    signif=alpha_t_stat[alpha_t_stat<thres].count() / float(alpha_t_stat.count())\n",
    "    if max_pi_hat < signif-pi_hat*gamma/2.0:\n",
    "        max_pi_hat = signif-pi_hat*gamma/2.0\n",
    "d={}\n",
    "for gamma in [x / 100. for x in range(1,55,5)]:\n",
    "    l=[]\n",
    "    for x in range(0,1000):\n",
    "        thres = stats.t.ppf(1-(gamma/200.),999)*-1   \n",
    "        bsr = bootstrap_resample(alpha_t_stat)\n",
    "        signif=len(bsr[bsr<thres]) / float(len(bsr))\n",
    "        luck=pi_hat*gamma/2.0\n",
    "        l.append((signif-luck) **2)\n",
    "    d[gamma]=np.mean(l)\n",
    "gamma_star=min(d, key=d.get)\n",
    "print 'Gamma*: '+ str(gamma_star)\n",
    "# Calculating pi hat_negative using gamma *\n",
    "thres = stats.t.ppf(1-(gamma_star/200.),999)*-1 \n",
    "pi_hat_neg=alpha_t_stat[alpha_t_stat<thres].count() / float(alpha_t_stat.count())- pi_hat*gamma_star/2.0\n",
    "print 'Pi_0^hat_neg: '+ str(pi_hat_neg)\n",
    "\n"
   ]
  },
  {
   "cell_type": "code",
   "execution_count": 55,
   "metadata": {
    "collapsed": false
   },
   "outputs": [
    {
     "name": "stdout",
     "output_type": "stream",
     "text": [
      "0.0857357841556\n",
      "Gamma*: 0.46\n",
      "Pi_0^hat_pos: -0.00294528646673\n"
     ]
    }
   ],
   "source": [
    "# Calculating gamma * via the bootstrapping methodology for pi_positive\n",
    "alpha_t_stat=t_stats.T.Alpha\n",
    "max_pi_hat=-5\n",
    "for gamma in [x / 100. for x in range(1,55,5)]:\n",
    "    thres = stats.t.ppf(1-(gamma/200.),999)   \n",
    "    signif=alpha_t_stat[alpha_t_stat>thres].count() / float(alpha_t_stat.count())\n",
    "    if max_pi_hat < signif-pi_hat*gamma/2.0:\n",
    "        max_pi_hat = signif-pi_hat*gamma/2.0\n",
    "        \n",
    "print max_pi_hat\n",
    "\n",
    "d_pos={}\n",
    "for gamma in [x / 100. for x in range(1,55,5)]:\n",
    "    l=[]\n",
    "    for x in range(0,1000):\n",
    "        thres = stats.t.ppf(1-(gamma/200.),999)   \n",
    "        bsr = bootstrap_resample(alpha_t_stat)\n",
    "        signif=len(bsr[bsr>thres]) / float(len(bsr))\n",
    "        luck=pi_hat*gamma/2.0\n",
    "        l.append((signif-luck) **2)\n",
    "    d_pos[gamma]=np.mean(l)\n",
    "gamma_star=min(d_pos, key=d_pos.get)\n",
    "print 'Gamma*: '+ str(gamma_star)\n",
    "# Calculating pi hat_negative using gamma *\n",
    "thres = stats.t.ppf(1-(gamma_star/200.),999)\n",
    "pi_hat_pos=alpha_t_stat[alpha_t_stat>thres].count() / float(alpha_t_stat.count())- pi_hat*gamma_star/2.0\n",
    "print 'Pi_0^hat_pos: '+ str(pi_hat_pos)"
   ]
  },
  {
   "cell_type": "code",
   "execution_count": 56,
   "metadata": {
    "collapsed": false
   },
   "outputs": [
    {
     "name": "stdout",
     "output_type": "stream",
     "text": [
      "Pi_0^hat_0: 52.4561969257\n",
      "Pi_0^hat_pos: 47.2686230248\n",
      "Pi_0^hat_neg: 0.275180049446\n"
     ]
    }
   ],
   "source": [
    "if min(d.values()) <min(d_pos.values()):\n",
    "    pi_hat_pos = 1-pi_hat- pi_hat_neg\n",
    "else:\n",
    "    pi_hat_neg = 1-pi_hat- pi_hat_pos\n",
    "\n",
    "print 'Pi_0^hat_0: '+ str(pi_hat*100)\n",
    "print 'Pi_0^hat_pos: '+ str(pi_hat_pos*100)\n",
    "print 'Pi_0^hat_neg: '+ str(pi_hat_neg*100)\n",
    "    "
   ]
  },
  {
   "cell_type": "markdown",
   "metadata": {
    "collapsed": false
   },
   "source": [
    "Things we need to do:\n",
    "\n",
    "Compile a table for multiple points of gamma with MSE numbers\n",
    "Not yet finished with the second regression yet\n",
    "Sensitivity to certain parameters\n",
    "Ferson and Chan need to understand method and code it up\n",
    "Concluding thoughts:\n",
    "    Are factors really betas?\n",
    "    Is alpha really alpha?\n",
    "    Tstat of alpha says more about consistances than actual outperformance\n",
    "    AHL is listed multiple times for the same fund but different currency share classes, I suspect the original data is not as clean as it could be\n",
    "    Calculate fund data during crisis"
   ]
  },
  {
   "cell_type": "markdown",
   "metadata": {
    "collapsed": true
   },
   "source": [
    "# Calculate the same data but excluding the Credit Crisis and GFC\n",
    "Hedge fund suffered in two areas during the GFC.  First the quant crisis of August 2007 as many quant equity funds unwound their positions it caused a massive reversal.  Secondly, most hedge fund techniques did not perform too well during the financial crisis.  In excluding these two numbers we see if the numbers went up.  We run same regression and still using 60 days up to H1 2007."
   ]
  },
  {
   "cell_type": "code",
   "execution_count": 71,
   "metadata": {
    "collapsed": true
   },
   "outputs": [],
   "source": [
    "beta=pd.DataFrame()\n",
    "t_stats=pd.DataFrame()\n",
    "p_values=pd.DataFrame()\n",
    "r2= pd.Series()\n",
    "for f in FoF.columns:\n",
    "    df = pd.DataFrame()\n",
    "    df['Fund']=FoF[f].dropna()['2005':]\n",
    "    if df.Fund.count() < 60:\n",
    "        continue\n",
    "    df=pd.concat([df,factors],axis=1, join='inner')\n",
    "    df['Alpha']=1\n",
    "    cols= factors.columns.tolist()\n",
    "    cols.append('Alpha')\n",
    "    res = sm.OLS(df.Fund,df[cols]).fit()\n",
    "    beta[f]=res.params\n",
    "    t_stats[f]=res.tvalues\n",
    "    p_values[f]=res.pvalues\n",
    "    r2[f]=res.rsquared"
   ]
  },
  {
   "cell_type": "code",
   "execution_count": 72,
   "metadata": {
    "collapsed": false
   },
   "outputs": [
    {
     "data": {
      "text/plain": [
       "Equity market factor      2187\n",
       "Size Spread factor        2187\n",
       "Bond market factor        2187\n",
       "Credit Spread factor      2187\n",
       "PTFSBD                    2187\n",
       "PTFSFX                    2187\n",
       "PTFSCOM                   2187\n",
       "Emerging Market factor    2187\n",
       "Alpha                     2187\n",
       "dtype: int64"
      ]
     },
     "execution_count": 72,
     "metadata": {},
     "output_type": "execute_result"
    }
   ],
   "source": [
    "beta.T.count()"
   ]
  },
  {
   "cell_type": "code",
   "execution_count": 73,
   "metadata": {
    "collapsed": false
   },
   "outputs": [
    {
     "data": {
      "text/plain": [
       "Equity market factor       -4.610839\n",
       "Size Spread factor         -2.504069\n",
       "Bond market factor        107.694833\n",
       "Credit Spread factor     -121.509336\n",
       "PTFSBD                     -0.152870\n",
       "PTFSFX                     -0.375411\n",
       "PTFSCOM                     0.762582\n",
       "Emerging Market factor     15.975190\n",
       "Alpha                      -0.057322\n",
       "dtype: float64"
      ]
     },
     "execution_count": 73,
     "metadata": {},
     "output_type": "execute_result"
    }
   ],
   "source": [
    "beta.T.mean()"
   ]
  },
  {
   "cell_type": "code",
   "execution_count": 74,
   "metadata": {
    "collapsed": false
   },
   "outputs": [
    {
     "data": {
      "text/plain": [
       "0.4621607463385154"
      ]
     },
     "execution_count": 74,
     "metadata": {},
     "output_type": "execute_result"
    }
   ],
   "source": [
    "t_stats.T.Alpha.mean()"
   ]
  },
  {
   "cell_type": "code",
   "execution_count": 75,
   "metadata": {
    "collapsed": false
   },
   "outputs": [
    {
     "data": {
      "text/plain": [
       "<matplotlib.axes._subplots.AxesSubplot at 0x10fe5ce90>"
      ]
     },
     "execution_count": 75,
     "metadata": {},
     "output_type": "execute_result"
    },
    {
     "data": {
      "image/png": "[encoded data removed]",
      "text/plain": [
       "<matplotlib.figure.Figure at 0x10ff11090>"
      ]
     },
     "metadata": {},
     "output_type": "display_data"
    }
   ],
   "source": [
    "sns.distplot(beta.T.Alpha)"
   ]
  },
  {
   "cell_type": "code",
   "execution_count": 76,
   "metadata": {
    "collapsed": false
   },
   "outputs": [
    {
     "data": {
      "text/plain": [
       "<matplotlib.axes._subplots.AxesSubplot at 0x1113f0590>"
      ]
     },
     "execution_count": 76,
     "metadata": {},
     "output_type": "execute_result"
    },
    {
     "data": {
      "image/png": "[encoded data removed]",
      "text/plain": [
       "<matplotlib.figure.Figure at 0x100735cd0>"
      ]
     },
     "metadata": {},
     "output_type": "display_data"
    }
   ],
   "source": [
    "sns.distplot(t_stats.T.Alpha)"
   ]
  },
  {
   "cell_type": "code",
   "execution_count": 77,
   "metadata": {
    "collapsed": false
   },
   "outputs": [
    {
     "name": "stdout",
     "output_type": "stream",
     "text": [
      "Lambda*: 0.65\n",
      "Pi_0^hat: 0.536939055458\n"
     ]
    }
   ],
   "source": [
    "# Calculating lambda * and pi hat using bootstraping \n",
    "pv=p_values.T.Alpha\n",
    "min_pi_hat=1\n",
    "for lamb in [x / 100. for x in range(30,75,5)]:\n",
    "    if min_pi_hat > pv[pv>lamb].count() / float(pv.count()) * 1/(1-lamb):\n",
    "        min_pi_hat = pv[pv>lamb].count() / float(pv.count()) * 1/(1-lamb)\n",
    "\n",
    "d={}\n",
    "for lamb in [x / 100. for x in range(30,75,5)]:\n",
    "    l=[]\n",
    "    for x in range(0,1000):\n",
    "        bsr = bootstrap_resample(pv)\n",
    "        l.append(((bsr>lamb).sum() / float(len(bsr)) * 1/(1-lamb)-min_pi_hat)**2)\n",
    "    d[lamb]=np.mean(l)\n",
    "lambda_star=min(d, key=d.get)\n",
    "print 'Lambda*: '+ str(lambda_star)\n",
    "# Calculating pi hat using lambda *\n",
    "pi_hat = pv[pv>lambda_star].count() / float(pv.count()) * 1/(1-lambda_star)\n",
    "print 'Pi_0^hat: '+ str(pi_hat)"
   ]
  },
  {
   "cell_type": "code",
   "execution_count": 78,
   "metadata": {
    "collapsed": false
   },
   "outputs": [
    {
     "name": "stdout",
     "output_type": "stream",
     "text": [
      "Gamma*: 0.06\n",
      "Pi_0^hat_neg: 0.00263897054021\n"
     ]
    }
   ],
   "source": [
    "# Calculating gamma * via the bootstrapping methodology for pi_negative\n",
    "alpha_t_stat=t_stats.T.Alpha\n",
    "max_pi_hat=-5\n",
    "for gamma in [x / 100. for x in range(1,55,5)]:\n",
    "    thres = stats.t.ppf(1-(gamma/200.),999)*-1   \n",
    "    signif=alpha_t_stat[alpha_t_stat<thres].count() / float(alpha_t_stat.count())\n",
    "    if max_pi_hat < signif-pi_hat*gamma/2.0:\n",
    "        max_pi_hat = signif-pi_hat*gamma/2.0\n",
    "d={}\n",
    "for gamma in [x / 100. for x in range(1,55,5)]:\n",
    "    l=[]\n",
    "    for x in range(0,1000):\n",
    "        thres = stats.t.ppf(1-(gamma/200.),999)*-1   \n",
    "        bsr = bootstrap_resample(alpha_t_stat)\n",
    "        signif=len(bsr[bsr<thres]) / float(len(bsr))\n",
    "        luck=pi_hat*gamma/2.0\n",
    "        l.append((signif-luck) **2)\n",
    "    d[gamma]=np.mean(l)\n",
    "gamma_star=min(d, key=d.get)\n",
    "print 'Gamma*: '+ str(gamma_star)\n",
    "# Calculating pi hat_negative using gamma *\n",
    "thres = stats.t.ppf(1-(gamma_star/200.),999)*-1 \n",
    "pi_hat_neg=alpha_t_stat[alpha_t_stat<thres].count() / float(alpha_t_stat.count())- pi_hat*gamma_star/2.0\n",
    "print 'Pi_0^hat_neg: '+ str(pi_hat_neg)"
   ]
  },
  {
   "cell_type": "code",
   "execution_count": 79,
   "metadata": {
    "collapsed": false
   },
   "outputs": [
    {
     "name": "stdout",
     "output_type": "stream",
     "text": [
      "0.0828205630675\n",
      "Gamma*: 0.36\n",
      "Pi_0^hat_pos: -0.0029133189627\n"
     ]
    }
   ],
   "source": [
    "# Calculating gamma * via the bootstrapping methodology for pi_positive\n",
    "alpha_t_stat=t_stats.T.Alpha\n",
    "max_pi_hat=-5\n",
    "for gamma in [x / 100. for x in range(1,55,5)]:\n",
    "    thres = stats.t.ppf(1-(gamma/200.),999)   \n",
    "    signif=alpha_t_stat[alpha_t_stat>thres].count() / float(alpha_t_stat.count())\n",
    "    if max_pi_hat < signif-pi_hat*gamma/2.0:\n",
    "        max_pi_hat = signif-pi_hat*gamma/2.0\n",
    "        \n",
    "print max_pi_hat\n",
    "\n",
    "d_pos={}\n",
    "for gamma in [x / 100. for x in range(1,55,5)]:\n",
    "    l=[]\n",
    "    for x in range(0,1000):\n",
    "        thres = stats.t.ppf(1-(gamma/200.),999)   \n",
    "        bsr = bootstrap_resample(alpha_t_stat)\n",
    "        signif=len(bsr[bsr>thres]) / float(len(bsr))\n",
    "        luck=pi_hat*gamma/2.0\n",
    "        l.append((signif-luck) **2)\n",
    "    d_pos[gamma]=np.mean(l)\n",
    "gamma_star=min(d_pos, key=d_pos.get)\n",
    "print 'Gamma*: '+ str(gamma_star)\n",
    "# Calculating pi hat_negative using gamma *\n",
    "thres = stats.t.ppf(1-(gamma_star/200.),999)\n",
    "pi_hat_pos=alpha_t_stat[alpha_t_stat>thres].count() / float(alpha_t_stat.count())- pi_hat*gamma_star/2.0\n",
    "print 'Pi_0^hat_pos: '+ str(pi_hat_pos)"
   ]
  },
  {
   "cell_type": "code",
   "execution_count": 80,
   "metadata": {
    "collapsed": false
   },
   "outputs": [
    {
     "name": "stdout",
     "output_type": "stream",
     "text": [
      "Pi_0^hat_0: 53.6939055458\n",
      "Pi_0^hat_pos: 46.0421974002\n",
      "Pi_0^hat_neg: 0.263897054021\n"
     ]
    }
   ],
   "source": [
    "if min(d.values()) <min(d_pos.values()):\n",
    "    pi_hat_pos = 1-pi_hat- pi_hat_neg\n",
    "else:\n",
    "    pi_hat_neg = 1-pi_hat- pi_hat_pos\n",
    "\n",
    "print 'Pi_0^hat_0: '+ str(pi_hat*100)\n",
    "print 'Pi_0^hat_pos: '+ str(pi_hat_pos*100)\n",
    "print 'Pi_0^hat_neg: '+ str(pi_hat_neg*100)"
   ]
  },
  {
   "cell_type": "code",
   "execution_count": null,
   "metadata": {
    "collapsed": true
   },
   "outputs": [],
   "source": []
  }
 ],
 "metadata": {
  "kernelspec": {
   "display_name": "Python 2",
   "language": "python",
   "name": "python2"
  },
  "language_info": {
   "codemirror_mode": {
    "name": "ipython",
    "version": 2
   },
   "file_extension": ".py",
   "mimetype": "text/x-python",
   "name": "python",
   "nbconvert_exporter": "python",
   "pygments_lexer": "ipython2",
   "version": "2.7.11"
  }
 },
 "nbformat": 4,
 "nbformat_minor": 0
}
