{
 "cells": [
  {
   "cell_type": "code",
   "execution_count": 1,
   "metadata": {
    "collapsed": false
   },
   "outputs": [
    {
     "name": "stdout",
     "output_type": "stream",
     "text": [
      "Populating the interactive namespace from numpy and matplotlib\n"
     ]
    }
   ],
   "source": [
    "import pandas as pd\n",
    "import seaborn as sns\n",
    "import statsmodels.api as sm\n",
    "from scipy import stats\n",
    "%matplotlib inline\n",
    "%pylab inline\n",
    "pylab.rcParams['figure.figsize'] = (10, 6)\n",
    "\n",
    "dir = '/Users/mrefermat/git/FinancePhD/Empirical Methods/Homework2/'\n",
    "\n",
    "file1 = 'CRSPzero_yields.xls'\n",
    "file2 = 'GDPC1.xls'\n",
    "file3 = 'Factors(1).xlsx'\n",
    "file4 = 'FoF.xlsx'\n",
    "file5 = 'tbill.csv'"
   ]
  },
  {
   "cell_type": "code",
   "execution_count": 2,
   "metadata": {
    "collapsed": true
   },
   "outputs": [],
   "source": [
    "# Code from: http://nbviewer.jupyter.org/gist/aflaxman/6871948\n",
    "# randomly resamples Series and returns it\n",
    "def bootstrap_resample(X, n=None):\n",
    "    \"\"\" Bootstrap resample an array_like\n",
    "    Parameters\n",
    "    ----------\n",
    "    X : array_like\n",
    "      data to resample\n",
    "    n : int, optional\n",
    "      length of resampled array, equal to len(X) if n==None\n",
    "    Results\n",
    "    -------\n",
    "    returns X_resamples\n",
    "    \"\"\"\n",
    "    if isinstance(X, pd.Series):\n",
    "        X = X.copy()\n",
    "        X.index = range(len(X.index))\n",
    "    if n == None:\n",
    "        n = len(X)\n",
    "        \n",
    "    resample_i = np.floor(np.random.rand(n)*len(X)).astype(int)\n",
    "    X_resample = np.array(X[resample_i])  # TODO: write a test demonstrating why array() is important\n",
    "    return X_resample\n"
   ]
  },
  {
   "cell_type": "code",
   "execution_count": 3,
   "metadata": {
    "collapsed": false
   },
   "outputs": [],
   "source": [
    "tbill=pd.read_csv(dir+file5,parse_dates=0,index_col=0).resample(rule='m',how='last')\n",
    "factors=pd.read_excel(dir+file3,parse_dates=0,header=4,index_col=0).resample(rule='m',how='last')\n",
    "FoF=pd.read_excel(dir+file4,parse_dates=0,index_col=0).resample(rule='m',how='last')"
   ]
  },
  {
   "cell_type": "markdown",
   "metadata": {},
   "source": [
    "Since we use excess returns in the regression, we need to take away 30 day cash returns."
   ]
  },
  {
   "cell_type": "code",
   "execution_count": 4,
   "metadata": {
    "collapsed": false,
    "scrolled": true
   },
   "outputs": [
    {
     "name": "stderr",
     "output_type": "stream",
     "text": [
      "/Users/mrefermat/anaconda/lib/python2.7/site-packages/pandas/core/frame.py:3200: FutureWarning: TimeSeries broadcasting along DataFrame index by default is deprecated. Please use DataFrame.<op> to explicitly broadcast arithmetic operations along the index\n",
      "  FutureWarning)\n"
     ]
    }
   ],
   "source": [
    "FoF=FoF-tbill.t30ret*100"
   ]
  },
  {
   "cell_type": "markdown",
   "metadata": {},
   "source": [
    "To calculate $\\alpha$ for each fund and it's relevent t-stat, I use the benhcmakr model of Fung and Hsieh (RFS, 2001):\n",
    "\n",
    "$$ rexc_{i,t} = \\alpha_i + \\beta_i^1SNPexc_t+B_i^2SML_t+\\beta_i^3MSCIem_t + \\beta_i^4RBD10_t + \\beta_+i^5BAAMBD10_t + \\beta_i^6PTFSBD_t + \\beta_i^7PTFSFX_t + \\beta_i^8PTFSCOM_t + \\varepsilon_{i,t} $$\n",
    "\n",
    "I selected funds with only five years of fund performance in line with BSW for two reasons.  First to match exactly their procedure, but secondly because 5 years allows for the fund to see many different types of market environments.  I don't want to select funds just because they happen to launch at the right time.  Of the FoF list of 6392 names I only get 3101 with at least 5 yeras of data (continous or not)."
   ]
  },
  {
   "cell_type": "code",
   "execution_count": 5,
   "metadata": {
    "collapsed": false
   },
   "outputs": [],
   "source": [
    "beta=pd.DataFrame()\n",
    "t_stats=pd.DataFrame()\n",
    "p_values=pd.DataFrame()\n",
    "r2= pd.Series()\n",
    "for f in FoF.columns:\n",
    "    df = pd.DataFrame()\n",
    "    df['Fund']=FoF[f].dropna()\n",
    "    if df.Fund.count() < 60:\n",
    "        continue\n",
    "    df=pd.concat([df,factors],axis=1, join='inner')\n",
    "    df['Alpha']=1\n",
    "    cols= factors.columns.tolist()\n",
    "    cols.append('Alpha')\n",
    "    res = sm.OLS(df.Fund,df[cols]).fit()\n",
    "    beta[f]=res.params\n",
    "    t_stats[f]=res.tvalues\n",
    "    p_values[f]=res.pvalues\n",
    "    r2[f]=res.rsquared"
   ]
  },
  {
   "cell_type": "code",
   "execution_count": 6,
   "metadata": {
    "collapsed": false
   },
   "outputs": [
    {
     "data": {
      "text/plain": [
       "Equity market factor       -3.441294\n",
       "Size Spread factor          0.394232\n",
       "Bond market factor         27.569260\n",
       "Credit Spread factor     -189.273722\n",
       "PTFSBD                     -0.390284\n",
       "PTFSFX                      0.282721\n",
       "PTFSCOM                     0.570708\n",
       "Emerging Market factor     15.179668\n",
       "Alpha                      -0.010674\n",
       "dtype: float64"
      ]
     },
     "execution_count": 6,
     "metadata": {},
     "output_type": "execute_result"
    }
   ],
   "source": [
    "beta.T.mean()"
   ]
  },
  {
   "cell_type": "code",
   "execution_count": 7,
   "metadata": {
    "collapsed": false
   },
   "outputs": [
    {
     "data": {
      "text/plain": [
       "Equity market factor     -0.551242\n",
       "Size Spread factor        0.160711\n",
       "Bond market factor        0.306786\n",
       "Credit Spread factor     -2.291481\n",
       "PTFSBD                   -0.432450\n",
       "PTFSFX                    0.245363\n",
       "PTFSCOM                   0.378847\n",
       "Emerging Market factor    4.043323\n",
       "Alpha                     0.606405\n",
       "dtype: float64"
      ]
     },
     "execution_count": 7,
     "metadata": {},
     "output_type": "execute_result"
    }
   ],
   "source": [
    "t_stats.T.mean()"
   ]
  },
  {
   "cell_type": "markdown",
   "metadata": {},
   "source": [
    "# $\\alpha$ and T stat distribution\n",
    "\n",
    "Note how high some of the alpha terms are"
   ]
  },
  {
   "cell_type": "code",
   "execution_count": 8,
   "metadata": {
    "collapsed": false
   },
   "outputs": [
    {
     "data": {
      "text/plain": [
       "<matplotlib.axes._subplots.AxesSubplot at 0x10ae3f790>"
      ]
     },
     "execution_count": 8,
     "metadata": {},
     "output_type": "execute_result"
    },
    {
     "data": {
      "image/png": "[encoded data removed]",
      "text/plain": [
       "<matplotlib.figure.Figure at 0x103ee9b90>"
      ]
     },
     "metadata": {},
     "output_type": "display_data"
    }
   ],
   "source": [
    "sns.distplot(beta.T.Alpha)"
   ]
  },
  {
   "cell_type": "markdown",
   "metadata": {},
   "source": [
    "# Model\n",
    "\n",
    "The model tries to understand a set of unknown parameters: $\\theta = [ \\pi_b, \\pi_g,\\alpha_b,\\alpha_g, \\beta_b, \\beta_g, \\delta_b, \\delta,g]$.  Where:\n",
    "\n",
    "$\\pi$ is the percentage of funds with high and low (negative) alpha\n",
    "\n",
    "$\\alpha$ is the expected alpha for higher and lower buckets of funds \n",
    "\n",
    "$\\beta$ is the fraction of the simulated t-ratios above a threshold t-ratio\n",
    "\n",
    "$\\delta$ is the confusion parameter is the fraction of funds below the lower threshold t-ratio where the fund is actually bucketed in the wrong catagory\n",
    "\n",
    "The first issue is coming up with the size of the test, $\\gamma/2$.\n",
    "\n",
    "# Step 1\n",
    "Create simulated data and find the values for $t_g$ and $t_b$ based on the $\\gamma/2$, which we will use 10%.  \n",
    "\n",
    "# Step 2\n",
    "Percentage funds above $t_g$ is equal to $\\beta_g$ and likewise for the bad funds.  But this is for $\\alpha_g>0$.\n"
   ]
  },
  {
   "cell_type": "code",
   "execution_count": 57,
   "metadata": {
    "collapsed": false
   },
   "outputs": [
    {
     "data": {
      "text/plain": [
       "0.79871591919409202"
      ]
     },
     "execution_count": 57,
     "metadata": {},
     "output_type": "execute_result"
    }
   ],
   "source": [
    "gamma = 10\n",
    "thres = stats.t.ppf(1-(gamma/200.),999)   \n",
    "beta.T.Alpha.mean()+ beta.T.Alpha.std()*thres"
   ]
  },
  {
   "cell_type": "code",
   "execution_count": 55,
   "metadata": {
    "collapsed": false
   },
   "outputs": [
    {
     "data": {
      "text/plain": [
       "(-1.2090566828297424, 0.22673327424977596)"
      ]
     },
     "execution_count": 55,
     "metadata": {},
     "output_type": "execute_result"
    }
   ],
   "source": [
    "stats.ttest_1samp(beta.T.Alpha , 0)"
   ]
  },
  {
   "cell_type": "code",
   "execution_count": 56,
   "metadata": {
    "collapsed": true
   },
   "outputs": [],
   "source": []
  },
  {
   "cell_type": "code",
   "execution_count": null,
   "metadata": {
    "collapsed": true
   },
   "outputs": [],
   "source": []
  }
 ],
 "metadata": {
  "kernelspec": {
   "display_name": "Python 2",
   "language": "python",
   "name": "python2"
  },
  "language_info": {
   "codemirror_mode": {
    "name": "ipython",
    "version": 2
   },
   "file_extension": ".py",
   "mimetype": "text/x-python",
   "name": "python",
   "nbconvert_exporter": "python",
   "pygments_lexer": "ipython2",
   "version": "2.7.11"
  }
 },
 "nbformat": 4,
 "nbformat_minor": 0
}
