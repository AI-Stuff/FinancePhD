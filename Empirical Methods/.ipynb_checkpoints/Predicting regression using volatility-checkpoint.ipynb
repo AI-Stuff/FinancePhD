{
 "cells": [
  {
   "cell_type": "code",
   "execution_count": 1,
   "metadata": {
    "collapsed": false
   },
   "outputs": [
    {
     "name": "stdout",
     "output_type": "stream",
     "text": [
      "Populating the interactive namespace from numpy and matplotlib\n"
     ]
    }
   ],
   "source": [
    "import pandas as pd\n",
    "import seaborn as sns\n",
    "import statsmodels.api as sm\n",
    "import statsmodels.formula.api as smf\n",
    "%matplotlib inline\n",
    "%pylab inline\n",
    "pylab.rcParams['figure.figsize'] = (10, 6)\n",
    "\n",
    "dir = '/Users/mrefermat/git/FinancePhD/Empirical Methods/'\n",
    "\n",
    "file1 = 'Copy of PredictorData2014.xlsx'\n",
    "file2 = 'measurestailrisk.xlsx'\n",
    "file3 = 'VRPtable.txt'"
   ]
  },
  {
   "cell_type": "code",
   "execution_count": 2,
   "metadata": {
    "collapsed": false
   },
   "outputs": [],
   "source": [
    "tail_data = pd.read_excel(dir+file2,parse_dates=[[0,1]],index_col=0).resample(rule='m',how='last')\n",
    "vol = pd.read_csv(dir+file3,delim_whitespace=True,parse_dates=[[0,1]],index_col=0).resample(rule='m',how='last')\n",
    "pred = pd.read_excel(dir+file1,sheetname='Monthly',parse_dates=[[0,1]],index_col=0).resample(rule='m',how='last')\n",
    "pred['dy']=pred.D12 / pred.Index\n",
    "pred['spread']=(pred.BAA-pred.AAA)"
   ]
  },
  {
   "cell_type": "markdown",
   "metadata": {},
   "source": [
    "For this first one I need to find the base case assuming an AR(6) since we are using monthly data.  From this case we can understand how much adding a predictor improves model.  Do to all of the shifting I use data starting from 1991.  Here is the base case regression:\n",
    "\n",
    "$$ \\sigma_t = \\alpha + \\sum_1^6 \\rho_{t,i} \\sigma_{t-i} + \\varepsilon_t $$"
   ]
  },
  {
   "cell_type": "markdown",
   "metadata": {},
   "source": [
    "For each of the volatility measures I will generate the following least squares regressions in order to find out how much predicitive power they are adding to the equation.  The regression just adds one factor (or all as in the case of the 'kitchen sink' approach).  \n",
    "$$ \\sigma_t = \\alpha + \\sum_1^6 \\rho_{t,i} \\sigma_{t-i}  + \\hat{\\beta_t} X + \\varepsilon_t $$"
   ]
  },
  {
   "cell_type": "code",
   "execution_count": 11,
   "metadata": {
    "collapsed": false
   },
   "outputs": [],
   "source": [
    "types_vol=['IV','RV','EVRP']\n",
    "r2_values=[]\n",
    "for v in types_vol:\n",
    "    X=pred[['Rfree','dy','spread']].shift()\n",
    "    X['T-1']=vol[v].shift()\n",
    "    X['T-2']=vol[v].shift(2)\n",
    "    X['T-3']=vol[v].shift(3)\n",
    "    X['T-4']=vol[v].shift(4)\n",
    "    X['T-5']=vol[v].shift(5)\n",
    "    X['T-6']=vol[v].shift(6)\n",
    "    ar6=['T-1','T-2','T-3','T-4','T-5','T-6']    \n",
    "    r= sm.OLS((vol[v])['1991':],X['1991':][ar6]).fit()\n",
    "    r2_values.append(r.rsquared)    \n",
    "base_r2 = pd.Series(r2_values,index=types_vol)"
   ]
  },
  {
   "cell_type": "code",
   "execution_count": 12,
   "metadata": {
    "collapsed": false
   },
   "outputs": [],
   "source": [
    "types_pred=['Rfree','dy','spread']\n",
    "r2={}\n",
    "beta={}\n",
    "for v in types_vol:\n",
    "    r2_values=[]\n",
    "    b_values=[]\n",
    "    X=pred[['Rfree','dy','spread']].shift()\n",
    "    X['T-1']=vol[v].shift()\n",
    "    X['T-2']=vol[v].shift(2)\n",
    "    X['T-3']=vol[v].shift(3)\n",
    "    X['T-4']=vol[v].shift(4)\n",
    "    X['T-5']=vol[v].shift(5)\n",
    "    X['T-6']=vol[v].shift(6)\n",
    "    ar6=['T-1','T-2','T-3','T-4','T-5','T-6']\n",
    "    for p in types_pred:\n",
    "        r= sm.OLS((vol[v])['1991':],X['1991':][ar6 +[p]]).fit()\n",
    "        r2_values.append(r.rsquared)\n",
    "        b_values.append(r.params[p])\n",
    "    r= sm.OLS((vol[v])['1991':],X['1991':][ar6 + types_pred]).fit()\n",
    "    r2_values.append(r.rsquared)                                       \n",
    "    r2[v] = pd.Series(r2_values,index=types_pred + ['Kitchen Sink'])\n",
    "    beta[v] = pd.Series(b_values,index=types_pred)                                       \n",
    "beta = pd.DataFrame(beta) \n",
    "r2 = pd.DataFrame(r2)\n",
    "improved_r2= r2-base_r2"
   ]
  },
  {
   "cell_type": "code",
   "execution_count": 13,
   "metadata": {
    "collapsed": false
   },
   "outputs": [
    {
     "data": {
      "text/plain": [
       "<matplotlib.axes._subplots.AxesSubplot at 0x10a9c8850>"
      ]
     },
     "execution_count": 13,
     "metadata": {},
     "output_type": "execute_result"
    },
    {
     "data": {
      "image/png": "[encoded data removed]",
      "text/plain": [
       "<matplotlib.figure.Figure at 0x10a9d0650>"
      ]
     },
     "metadata": {},
     "output_type": "display_data"
    }
   ],
   "source": [
    "x=r2.T\n",
    "x['Base']=base_r2\n",
    "x.plot(kind='bar', title='R^2 using the various predictors compared to the base case')"
   ]
  },
  {
   "cell_type": "code",
   "execution_count": 14,
   "metadata": {
    "collapsed": false
   },
   "outputs": [
    {
     "data": {
      "text/plain": [
       "<matplotlib.axes._subplots.AxesSubplot at 0x10ae45790>"
      ]
     },
     "execution_count": 14,
     "metadata": {},
     "output_type": "execute_result"
    },
    {
     "data": {
      "image/png": "[encoded data removed]",
      "text/plain": [
       "<matplotlib.figure.Figure at 0x10a9d0c10>"
      ]
     },
     "metadata": {},
     "output_type": "display_data"
    }
   ],
   "source": [
    "improved_r2.plot(kind='bar',title='Improved R^2')"
   ]
  },
  {
   "cell_type": "code",
   "execution_count": 15,
   "metadata": {
    "collapsed": false
   },
   "outputs": [
    {
     "data": {
      "text/plain": [
       "<matplotlib.axes._subplots.AxesSubplot at 0x10aecd110>"
      ]
     },
     "execution_count": 15,
     "metadata": {},
     "output_type": "execute_result"
    },
    {
     "data": {
      "image/png": "[encoded data removed]",
      "text/plain": [
       "<matplotlib.figure.Figure at 0x10aee2290>"
      ]
     },
     "metadata": {},
     "output_type": "display_data"
    }
   ],
   "source": [
    "beta.plot(kind='bar',title='Factor loadings')"
   ]
  },
  {
   "cell_type": "code",
   "execution_count": null,
   "metadata": {
    "collapsed": true
   },
   "outputs": [],
   "source": []
  }
 ],
 "metadata": {
  "kernelspec": {
   "display_name": "Python 2",
   "language": "python",
   "name": "python2"
  },
  "language_info": {
   "codemirror_mode": {
    "name": "ipython",
    "version": 2
   },
   "file_extension": ".py",
   "mimetype": "text/x-python",
   "name": "python",
   "nbconvert_exporter": "python",
   "pygments_lexer": "ipython2",
   "version": "2.7.11"
  }
 },
 "nbformat": 4,
 "nbformat_minor": 0
}
