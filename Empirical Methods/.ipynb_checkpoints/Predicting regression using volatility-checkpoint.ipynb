{
 "cells": [
  {
   "cell_type": "code",
   "execution_count": 2,
   "metadata": {
    "collapsed": false
   },
   "outputs": [
    {
     "name": "stdout",
     "output_type": "stream",
     "text": [
      "Populating the interactive namespace from numpy and matplotlib\n"
     ]
    }
   ],
   "source": [
    "import pandas as pd\n",
    "import seaborn as sns\n",
    "import statsmodels.api as sm\n",
    "import statsmodels.formula.api as smf\n",
    "%matplotlib inline\n",
    "%pylab inline\n",
    "pylab.rcParams['figure.figsize'] = (10, 6)\n",
    "\n",
    "dir = '/Users/mrefermat/git/FinancePhD/Empirical Methods/'\n",
    "\n",
    "file1 = 'Copy of PredictorData2014.xlsx'\n",
    "file2 = 'measurestailrisk.xlsx'\n",
    "file3 = 'VRPtable.txt'"
   ]
  },
  {
   "cell_type": "code",
   "execution_count": 3,
   "metadata": {
    "collapsed": false
   },
   "outputs": [],
   "source": [
    "tail_data = pd.read_excel(dir+file2,parse_dates=[[0,1]],index_col=0).resample(rule='m',how='last')\n",
    "vol = pd.read_csv(dir+file3,delim_whitespace=True,parse_dates=[[0,1]],index_col=0).resample(rule='m',how='last')\n",
    "pred = pd.read_excel(dir+file1,sheetname='Monthly',parse_dates=[[0,1]],index_col=0).resample(rule='m',how='last')\n",
    "pred['dy']=pred.D12 / pred.Index\n",
    "pred['spread']=(pred.BAA-pred.AAA)"
   ]
  },
  {
   "cell_type": "markdown",
   "metadata": {},
   "source": [
    "For this first one I need to find the base case assuming an AR(6) since we are using monthly data.  From this case we can understand how much adding a predictor improves model.  Do to all of the shifting I use data starting from 1991.  Here is the base case regression:\n",
    "\n",
    "$$ \\sigma_t = \\alpha + \\sum_1^6 \\rho_{t,i} \\sigma_{t-i} + \\varepsilon_t $$"
   ]
  },
  {
   "cell_type": "code",
   "execution_count": 83,
   "metadata": {
    "collapsed": false
   },
   "outputs": [],
   "source": [
    "X=pred[['Rfree','dy','spread']].shift()\n",
    "X['T-1']=vol.IV.shift()\n",
    "X['T-2']=vol.IV.shift(2)\n",
    "X['T-3']=vol.IV.shift(3)\n",
    "X['T-4']=vol.IV.shift(4)\n",
    "X['T-5']=vol.IV.shift(5)\n",
    "X['T-6']=vol.IV.shift(6)\n",
    "ar6=['T-1','T-2','T-3','T-4','T-5','T-6']"
   ]
  },
  {
   "cell_type": "code",
   "execution_count": 84,
   "metadata": {
    "collapsed": false
   },
   "outputs": [
    {
     "name": "stdout",
     "output_type": "stream",
     "text": [
      "                            OLS Regression Results                            \n",
      "==============================================================================\n",
      "Dep. Variable:                     IV   R-squared:                       0.846\n",
      "Model:                            OLS   Adj. R-squared:                  0.843\n",
      "Method:                 Least Squares   F-statistic:                     258.5\n",
      "Date:                Mon, 02 May 2016   Prob (F-statistic):          1.71e-111\n",
      "Time:                        20:14:59   Log-Likelihood:                -1274.3\n",
      "No. Observations:                 288   AIC:                             2561.\n",
      "Df Residuals:                     282   BIC:                             2583.\n",
      "Df Model:                           6                                         \n",
      "Covariance Type:            nonrobust                                         \n",
      "==============================================================================\n",
      "                 coef    std err          t      P>|t|      [95.0% Conf. Int.]\n",
      "------------------------------------------------------------------------------\n",
      "T-1            0.9947      0.059     16.724      0.000         0.878     1.112\n",
      "T-2           -0.3324      0.084     -3.980      0.000        -0.497    -0.168\n",
      "T-3            0.2111      0.085      2.478      0.014         0.043     0.379\n",
      "T-4            0.0441      0.085      0.518      0.605        -0.124     0.212\n",
      "T-5            0.0111      0.083      0.134      0.894        -0.152     0.174\n",
      "T-6            0.0042      0.059      0.071      0.943        -0.112     0.120\n",
      "==============================================================================\n",
      "Omnibus:                      237.529   Durbin-Watson:                   1.981\n",
      "Prob(Omnibus):                  0.000   Jarque-Bera (JB):             6131.997\n",
      "Skew:                           3.108   Prob(JB):                         0.00\n",
      "Kurtosis:                      24.734   Cond. No.                         12.9\n",
      "==============================================================================\n",
      "\n",
      "Warnings:\n",
      "[1] Standard Errors assume that the covariance matrix of the errors is correctly specified.\n"
     ]
    }
   ],
   "source": [
    "r= sm.OLS((vol.IV)['1991':],X['1991':][ar6]).fit()\n",
    "print r.summary()\n",
    "base_r2=r.rsquared"
   ]
  },
  {
   "cell_type": "markdown",
   "metadata": {},
   "source": [
    "For each of the volatility measures I will generate the following least squares regressions in order to find out how much predicitive power they are adding to the equation.  The regression just adds one factor (or all as in the case of the 'kitchen sink' approach).  \n",
    "$$ \\sigma_t = \\alpha + \\sum_1^6 \\rho_{t,i} \\sigma_{t-i}  + \\hat{\\beta_t} X + \\varepsilon_t $$"
   ]
  },
  {
   "cell_type": "code",
   "execution_count": 110,
   "metadata": {
    "collapsed": false
   },
   "outputs": [],
   "source": [
    "types_vol=['IV','RV','EVRP']\n",
    "r2_values=[]\n",
    "for v in types_vol:\n",
    "    r= sm.OLS((vol[v])['1991':],X['1991':][ar6]).fit()\n",
    "    r2_values.append(r.rsquared)    \n",
    "base_r2 = pd.Series(r2_values,index=types_vol)"
   ]
  },
  {
   "cell_type": "code",
   "execution_count": 129,
   "metadata": {
    "collapsed": false
   },
   "outputs": [],
   "source": [
    "types_pred=['Rfree','dy','spread']\n",
    "r2={}\n",
    "beta={}\n",
    "for v in types_vol:\n",
    "    r2_values=[]\n",
    "    b_values=[]\n",
    "    for p in types_pred:\n",
    "        r= sm.OLS((vol[v])['1991':],X['1991':][ar6 +[p]]).fit()\n",
    "        r2_values.append(r.rsquared)\n",
    "        b_values.append(r.params[p])\n",
    "    r= sm.OLS((vol[v])['1991':],X['1991':][ar6 + types_pred]).fit()\n",
    "    r2_values.append(r.rsquared)                                       \n",
    "    r2[v] = pd.Series(r2_values,index=types_pred + ['Kitchen Sink'])\n",
    "    beta[v] = pd.Series(b_values,index=types_pred)                                       \n",
    "beta = pd.DataFrame(beta) \n",
    "r2 = pd.DataFrame(r2)\n",
    "improved_r2= r2-base_r2"
   ]
  },
  {
   "cell_type": "code",
   "execution_count": 134,
   "metadata": {
    "collapsed": false
   },
   "outputs": [
    {
     "data": {
      "text/plain": [
       "<matplotlib.axes._subplots.AxesSubplot at 0x10be4b7d0>"
      ]
     },
     "execution_count": 134,
     "metadata": {},
     "output_type": "execute_result"
    },
    {
     "data": {
      "image/png": "[encoded data removed]",
      "text/plain": [
       "<matplotlib.figure.Figure at 0x10bfbccd0>"
      ]
     },
     "metadata": {},
     "output_type": "display_data"
    }
   ],
   "source": [
    "x=r2.T\n",
    "x['Base']=base_r2\n",
    "x.plot(kind='bar', title='R^2 using the various predictors compared to the base case')"
   ]
  },
  {
   "cell_type": "code",
   "execution_count": 135,
   "metadata": {
    "collapsed": false
   },
   "outputs": [
    {
     "data": {
      "text/plain": [
       "<matplotlib.axes._subplots.AxesSubplot at 0x10cc101d0>"
      ]
     },
     "execution_count": 135,
     "metadata": {},
     "output_type": "execute_result"
    },
    {
     "data": {
      "image/png": "[encoded data removed]",
      "text/plain": [
       "<matplotlib.figure.Figure at 0x10bfc8f50>"
      ]
     },
     "metadata": {},
     "output_type": "display_data"
    }
   ],
   "source": [
    "improved_r2.plot(kind='bar',title='Improved R^2')"
   ]
  },
  {
   "cell_type": "code",
   "execution_count": 136,
   "metadata": {
    "collapsed": false
   },
   "outputs": [
    {
     "data": {
      "text/plain": [
       "<matplotlib.axes._subplots.AxesSubplot at 0x10cddeb90>"
      ]
     },
     "execution_count": 136,
     "metadata": {},
     "output_type": "execute_result"
    },
    {
     "data": {
      "image/png": "[encoded data removed]",
      "text/plain": [
       "<matplotlib.figure.Figure at 0x10cdf1b10>"
      ]
     },
     "metadata": {},
     "output_type": "display_data"
    }
   ],
   "source": [
    "beta.plot(kind='bar',title='Factor loadings')"
   ]
  },
  {
   "cell_type": "code",
   "execution_count": null,
   "metadata": {
    "collapsed": true
   },
   "outputs": [],
   "source": []
  }
 ],
 "metadata": {
  "kernelspec": {
   "display_name": "Python 2",
   "language": "python",
   "name": "python2"
  },
  "language_info": {
   "codemirror_mode": {
    "name": "ipython",
    "version": 2
   },
   "file_extension": ".py",
   "mimetype": "text/x-python",
   "name": "python",
   "nbconvert_exporter": "python",
   "pygments_lexer": "ipython2",
   "version": "2.7.11"
  }
 },
 "nbformat": 4,
 "nbformat_minor": 0
}
