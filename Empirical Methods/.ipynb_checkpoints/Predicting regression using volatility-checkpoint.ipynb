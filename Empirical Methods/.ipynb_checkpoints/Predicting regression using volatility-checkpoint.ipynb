{
 "cells": [
  {
   "cell_type": "code",
   "execution_count": 102,
   "metadata": {
    "collapsed": false
   },
   "outputs": [
    {
     "name": "stdout",
     "output_type": "stream",
     "text": [
      "Populating the interactive namespace from numpy and matplotlib\n"
     ]
    }
   ],
   "source": [
    "import pandas as pd\n",
    "import seaborn as sns\n",
    "import statsmodels.api as sm\n",
    "import statsmodels.formula.api as smf\n",
    "%matplotlib inline\n",
    "%pylab inline\n",
    "pylab.rcParams['figure.figsize'] = (10, 6)\n",
    "\n",
    "dir = '/Users/mrefermat/git/FinancePhD/Empirical Methods/'\n",
    "\n",
    "file1 = 'Copy of PredictorData2014.xlsx'\n",
    "file2 = 'measurestailrisk.xlsx'\n",
    "file3 = 'VRPtable.txt'"
   ]
  },
  {
   "cell_type": "code",
   "execution_count": 115,
   "metadata": {
    "collapsed": false
   },
   "outputs": [],
   "source": [
    "tail_data = pd.read_excel(dir+file2,parse_dates=[[0,1]],index_col=0).resample(rule='m',how='last')\n",
    "vol = pd.read_csv(dir+file3,delim_whitespace=True,parse_dates=[[0,1]],index_col=0).resample(rule='m',how='last')\n",
    "pred = pd.read_excel(dir+file1,sheetname='Monthly',parse_dates=[[0,1]],index_col=0).resample(rule='m',how='last')\n",
    "pred['dy']=pred.D12 / pred.Index\n",
    "pred['spread']=(pred.BAA-pred.AAA)"
   ]
  },
  {
   "cell_type": "markdown",
   "metadata": {},
   "source": [
    "$$ \\sigma_t = \\alpha + \\rho_{t,1} \\sigma_{t-1} + \\rho_{t,2} \\sigma_{t-2} + \\beta_t X + \\varepsilon_t $$"
   ]
  },
  {
   "cell_type": "code",
   "execution_count": 165,
   "metadata": {
    "collapsed": false
   },
   "outputs": [
    {
     "data": {
      "text/plain": [
       "Year_Month\n",
       "1991-01-31    36.4357\n",
       "1991-02-28    37.5594\n",
       "1991-03-31    23.7445\n",
       "1991-04-30    27.7248\n",
       "1991-05-31    21.1471\n",
       "1991-06-30    31.8502\n",
       "1991-07-31    19.2027\n",
       "1991-08-31    17.4243\n",
       "1991-09-30    20.9352\n",
       "1991-10-31    19.9692\n",
       "1991-11-30    34.2056\n",
       "1991-12-31    31.0730\n",
       "1992-01-31    25.2300\n",
       "1992-02-29    23.1852\n",
       "1992-03-31    21.8160\n",
       "1992-04-30    20.0984\n",
       "1992-05-31    16.0083\n",
       "1992-06-30    14.8519\n",
       "1992-07-31    14.4541\n",
       "1992-08-31    15.3680\n",
       "1992-09-30    16.9932\n",
       "1992-10-31    21.7352\n",
       "1992-11-30    14.1050\n",
       "1992-12-31    13.1671\n",
       "1993-01-31    12.8547\n",
       "1993-02-28    14.4321\n",
       "1993-03-31    13.0834\n",
       "1993-04-30    12.8547\n",
       "1993-05-31    15.1201\n",
       "1993-06-30    10.5656\n",
       "               ...   \n",
       "2012-07-31    29.8621\n",
       "2012-08-31    25.4334\n",
       "2012-09-30    20.6194\n",
       "2012-10-31    28.8300\n",
       "2012-11-30    20.9881\n",
       "2012-12-31    27.0600\n",
       "2013-01-31    16.9932\n",
       "2013-02-28    20.0467\n",
       "2013-03-31    13.4408\n",
       "2013-04-30    15.2325\n",
       "2013-05-31    22.1408\n",
       "2013-06-30    23.6883\n",
       "2013-07-31    15.0752\n",
       "2013-08-31    24.1117\n",
       "2013-09-30    22.9633\n",
       "2013-10-31    15.7552\n",
       "2013-11-30    15.6408\n",
       "2013-12-31    15.6865\n",
       "2014-01-31    28.2440\n",
       "2014-02-28    16.3333\n",
       "2014-03-31    16.0545\n",
       "2014-04-30    14.9857\n",
       "2014-05-31    10.8300\n",
       "2014-06-30    11.1554\n",
       "2014-07-31    23.9419\n",
       "2014-08-31    11.9600\n",
       "2014-09-30    22.1680\n",
       "2014-10-31    16.4034\n",
       "2014-11-30    14.8074\n",
       "2014-12-31    30.7200\n",
       "Freq: M, Name: IV, dtype: float64"
      ]
     },
     "execution_count": 165,
     "metadata": {},
     "output_type": "execute_result"
    }
   ],
   "source": [
    "X=pred[['Rfree','dy','spread']].shift()\n",
    "X['T-1']=vol.IV.shift()\n",
    "X['T-2']=vol.IV.shift(2)\n",
    "vol.IV['1991':]"
   ]
  },
  {
   "cell_type": "code",
   "execution_count": 167,
   "metadata": {
    "collapsed": false
   },
   "outputs": [
    {
     "name": "stdout",
     "output_type": "stream",
     "text": [
      "                            OLS Regression Results                            \n",
      "==============================================================================\n",
      "Dep. Variable:                     IV   R-squared:                       0.851\n",
      "Model:                            OLS   Adj. R-squared:                  0.848\n",
      "Method:                 Least Squares   F-statistic:                     323.1\n",
      "Date:                Sat, 30 Apr 2016   Prob (F-statistic):          1.08e-114\n",
      "Time:                        06:51:23   Log-Likelihood:                -1269.8\n",
      "No. Observations:                 288   AIC:                             2550.\n",
      "Df Residuals:                     283   BIC:                             2568.\n",
      "Df Model:                           5                                         \n",
      "Covariance Type:            nonrobust                                         \n",
      "==============================================================================\n",
      "                 coef    std err          t      P>|t|      [95.0% Conf. Int.]\n",
      "------------------------------------------------------------------------------\n",
      "Rfree       1430.5985    665.605      2.149      0.032       120.434  2740.763\n",
      "dy          -477.1494    194.469     -2.454      0.015      -859.939   -94.360\n",
      "spread      2069.5646    464.982      4.451      0.000      1154.302  2984.827\n",
      "T-1            0.8909      0.059     15.176      0.000         0.775     1.006\n",
      "T-2           -0.2597      0.065     -4.015      0.000        -0.387    -0.132\n",
      "==============================================================================\n",
      "Omnibus:                      251.252   Durbin-Watson:                   1.926\n",
      "Prob(Omnibus):                  0.000   Jarque-Bera (JB):             6906.628\n",
      "Skew:                           3.369   Prob(JB):                         0.00\n",
      "Kurtosis:                      26.025   Cond. No.                     4.29e+04\n",
      "==============================================================================\n",
      "\n",
      "Warnings:\n",
      "[1] Standard Errors assume that the covariance matrix of the errors is correctly specified.\n",
      "[2] The condition number is large, 4.29e+04. This might indicate that there are\n",
      "strong multicollinearity or other numerical problems.\n"
     ]
    }
   ],
   "source": [
    "r= sm.OLS((vol.IV)['1991':],X['1991':]).fit()\n",
    "print r.summary()"
   ]
  },
  {
   "cell_type": "code",
   "execution_count": 135,
   "metadata": {
    "collapsed": false
   },
   "outputs": [],
   "source": [
    "X = pred[['Rfree','dy','spread']].shift()\n",
    "p_values = pd.DataFrame()\n",
    "types = ['IV','RV','EVRP']\n",
    "for v in types:\n",
    "    r= sm.OLS((vol.IV/100)['1990':],X['1990':]).fit()\n",
    "    p_values[v]=r.pvalues"
   ]
  },
  {
   "cell_type": "code",
   "execution_count": 136,
   "metadata": {
    "collapsed": false,
    "scrolled": true
   },
   "outputs": [
    {
     "data": {
      "text/html": [
       "<div>\n",
       "<table border=\"1\" class=\"dataframe\">\n",
       "  <thead>\n",
       "    <tr style=\"text-align: right;\">\n",
       "      <th></th>\n",
       "      <th>IV</th>\n",
       "      <th>RV</th>\n",
       "      <th>EVRP</th>\n",
       "    </tr>\n",
       "  </thead>\n",
       "  <tbody>\n",
       "    <tr>\n",
       "      <th>Rfree</th>\n",
       "      <td>3.479901e-04</td>\n",
       "      <td>3.479901e-04</td>\n",
       "      <td>3.479901e-04</td>\n",
       "    </tr>\n",
       "    <tr>\n",
       "      <th>dy</th>\n",
       "      <td>9.371457e-07</td>\n",
       "      <td>9.371457e-07</td>\n",
       "      <td>9.371457e-07</td>\n",
       "    </tr>\n",
       "    <tr>\n",
       "      <th>spread</th>\n",
       "      <td>4.335496e-36</td>\n",
       "      <td>4.335496e-36</td>\n",
       "      <td>4.335496e-36</td>\n",
       "    </tr>\n",
       "  </tbody>\n",
       "</table>\n",
       "</div>"
      ],
      "text/plain": [
       "                  IV            RV          EVRP\n",
       "Rfree   3.479901e-04  3.479901e-04  3.479901e-04\n",
       "dy      9.371457e-07  9.371457e-07  9.371457e-07\n",
       "spread  4.335496e-36  4.335496e-36  4.335496e-36"
      ]
     },
     "execution_count": 136,
     "metadata": {},
     "output_type": "execute_result"
    }
   ],
   "source": [
    "p_values"
   ]
  },
  {
   "cell_type": "code",
   "execution_count": null,
   "metadata": {
    "collapsed": true
   },
   "outputs": [],
   "source": []
  }
 ],
 "metadata": {
  "kernelspec": {
   "display_name": "Python 2",
   "language": "python",
   "name": "python2"
  },
  "language_info": {
   "codemirror_mode": {
    "name": "ipython",
    "version": 2
   },
   "file_extension": ".py",
   "mimetype": "text/x-python",
   "name": "python",
   "nbconvert_exporter": "python",
   "pygments_lexer": "ipython2",
   "version": "2.7.11"
  }
 },
 "nbformat": 4,
 "nbformat_minor": 0
}
