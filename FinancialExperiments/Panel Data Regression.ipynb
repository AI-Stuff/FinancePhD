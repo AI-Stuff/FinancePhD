{
 "cells": [
  {
   "cell_type": "markdown",
   "metadata": {},
   "source": [
    "# Examples of using panel and IV regressions\n",
    "Uses Kevin Shepards linearmodel package.  Must be run in python 3.  "
   ]
  },
  {
   "cell_type": "code",
   "execution_count": 1,
   "metadata": {
    "collapsed": true
   },
   "outputs": [],
   "source": [
    "import pandas as pd\n",
    "\n",
    "# Display 6 columns for viewing purposes\n",
    "pd.set_option('display.max_columns', 6)\n",
    "\n",
    "# Reduce decimal points to 2\n",
    "pd.options.display.float_format = '{:,.2f}'.format\n",
    "\n",
    "realwage = pd.read_csv('https://github.com/QuantEcon/QuantEcon.lectures.code/raw/master/pandas_panel/realwage.csv')"
   ]
  },
  {
   "cell_type": "code",
   "execution_count": 21,
   "metadata": {},
   "outputs": [],
   "source": [
    "import numpy as np\n",
    "from statsmodels.datasets import grunfeld\n",
    "data = grunfeld.load_pandas().data\n",
    "data.year = data.year.astype(np.int64)\n",
    "# MultiIndex, entity - time\n",
    "data = data.set_index(['firm','year'])\n",
    "from linearmodels import PanelOLS\n",
    "mod = PanelOLS(data.invest, data[['value','capital']],entity_effects=True)\n",
    "res = mod.fit(cov_type='clustered', cluster_entity=True)"
   ]
  },
  {
   "cell_type": "code",
   "execution_count": 22,
   "metadata": {},
   "outputs": [
    {
     "name": "stdout",
     "output_type": "stream",
     "text": [
      "                          PanelOLS Estimation Summary                           \n",
      "================================================================================\n",
      "Dep. Variable:                 invest   R-squared:                        0.7667\n",
      "Estimator:                   PanelOLS   R-squared (Between):              0.8223\n",
      "No. Observations:                 220   R-squared (Within):               0.7667\n",
      "Date:                Sat, Jan 27 2018   R-squared (Overall):              0.8132\n",
      "Time:                        10:31:50   Log-likelihood                   -1167.4\n",
      "Cov. Estimator:             Clustered                                           \n",
      "                                        F-statistic:                      340.08\n",
      "Entities:                          11   P-value                           0.0000\n",
      "Avg Obs:                       20.000   Distribution:                   F(2,207)\n",
      "Min Obs:                       20.000                                           \n",
      "Max Obs:                       20.000   F-statistic (robust):             31.490\n",
      "                                        P-value                           0.0000\n",
      "Time periods:                      20   Distribution:                   F(2,207)\n",
      "Avg Obs:                       11.000                                           \n",
      "Min Obs:                       11.000                                           \n",
      "Max Obs:                       11.000                                           \n",
      "                                                                                \n",
      "                             Parameter Estimates                              \n",
      "==============================================================================\n",
      "            Parameter  Std. Err.     T-stat    P-value    Lower CI    Upper CI\n",
      "------------------------------------------------------------------------------\n",
      "value          0.1101     0.0144     7.6453     0.0000      0.0817      0.1385\n",
      "capital        0.3100     0.0500     6.1970     0.0000      0.2114      0.4087\n",
      "==============================================================================\n",
      "\n",
      "F-test for Poolability: 49.207\n",
      "P-value: 0.0000\n",
      "Distribution: F(10,207)\n",
      "\n",
      "Included effects: Entity\n"
     ]
    }
   ],
   "source": [
    "print(res.summary)"
   ]
  },
  {
   "cell_type": "code",
   "execution_count": 23,
   "metadata": {},
   "outputs": [
    {
     "name": "stderr",
     "output_type": "stream",
     "text": [
      "/Users/mrefermat/anaconda3/lib/python3.6/site-packages/linearmodels/utility.py:490: MissingValueWarning: \n",
      "Inputs contain missing values. Dropping rows with missing observations.\n",
      "  warnings.warn(missing_value_warning_msg, MissingValueWarning)\n"
     ]
    }
   ],
   "source": [
    "import numpy as np\n",
    "from linearmodels.iv import IV2SLS\n",
    "from linearmodels.datasets import mroz\n",
    "data = mroz.load()\n",
    "mod = IV2SLS.from_formula('np.log(wage) ~ 1 + exper + exper ** 2 + [educ ~ motheduc + fatheduc]', data)"
   ]
  },
  {
   "cell_type": "code",
   "execution_count": 25,
   "metadata": {},
   "outputs": [],
   "source": [
    "res=mod.fit()"
   ]
  },
  {
   "cell_type": "code",
   "execution_count": 26,
   "metadata": {},
   "outputs": [
    {
     "name": "stdout",
     "output_type": "stream",
     "text": [
      "                          IV-2SLS Estimation Summary                          \n",
      "==============================================================================\n",
      "Dep. Variable:           np.log(wage)   R-squared:                      0.1298\n",
      "Estimator:                    IV-2SLS   Adj. R-squared:                 0.1257\n",
      "No. Observations:                 428   F-statistic:                    17.513\n",
      "Date:                Sat, Jan 27 2018   P-value (F-stat)                0.0002\n",
      "Time:                        10:32:49   Distribution:                  chi2(2)\n",
      "Cov. Estimator:                robust                                         \n",
      "                                                                              \n",
      "                             Parameter Estimates                              \n",
      "==============================================================================\n",
      "            Parameter  Std. Err.     T-stat    P-value    Lower CI    Upper CI\n",
      "------------------------------------------------------------------------------\n",
      "Intercept      0.1478     0.4277     0.3457     0.7296     -0.6905      0.9862\n",
      "exper          0.0155     0.0041     3.7578     0.0002      0.0074      0.0236\n",
      "educ           0.0664     0.0335     1.9839     0.0473      0.0008      0.1320\n",
      "==============================================================================\n",
      "\n",
      "Endogenous: educ\n",
      "Instruments: motheduc, fatheduc\n",
      "Robust Covariance (Heteroskedastic)\n",
      "Debiased: False\n"
     ]
    }
   ],
   "source": [
    "print(res.summary)"
   ]
  },
  {
   "cell_type": "code",
   "execution_count": 29,
   "metadata": {},
   "outputs": [
    {
     "data": {
      "text/plain": [
       "Index(['inlf', 'hours', 'kidslt6', 'kidsge6', 'age', 'educ', 'wage', 'repwage',\n",
       "       'hushrs', 'husage', 'huseduc', 'huswage', 'faminc', 'mtr', 'motheduc',\n",
       "       'fatheduc', 'unem', 'city', 'exper', 'nwifeinc', 'lwage', 'expersq'],\n",
       "      dtype='object')"
      ]
     },
     "execution_count": 29,
     "metadata": {},
     "output_type": "execute_result"
    }
   ],
   "source": [
    "data.columns"
   ]
  },
  {
   "cell_type": "code",
   "execution_count": null,
   "metadata": {
    "collapsed": true
   },
   "outputs": [],
   "source": []
  }
 ],
 "metadata": {
  "kernelspec": {
   "display_name": "Python 3",
   "language": "python",
   "name": "python3"
  },
  "language_info": {
   "codemirror_mode": {
    "name": "ipython",
    "version": 3
   },
   "file_extension": ".py",
   "mimetype": "text/x-python",
   "name": "python",
   "nbconvert_exporter": "python",
   "pygments_lexer": "ipython3",
   "version": "3.6.3"
  }
 },
 "nbformat": 4,
 "nbformat_minor": 1
}
