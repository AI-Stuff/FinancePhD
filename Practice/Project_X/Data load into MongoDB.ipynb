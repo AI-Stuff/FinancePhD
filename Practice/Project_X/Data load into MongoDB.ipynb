{
 "cells": [
  {
   "cell_type": "code",
   "execution_count": 19,
   "metadata": {
    "collapsed": false
   },
   "outputs": [],
   "source": [
    "%matplotlib inline\n",
    "import seaborn\n",
    "import quandl\n",
    "import pandas as pd\n",
    "import seaborn as sns\n",
    "from pymongo import MongoClient\n",
    "from datetime import datetime\n",
    "from arctic import Arctic\n",
    "import statsmodels.api as sm\n",
    "token=\"Us3wFmXGgAj_1cUtHAAR\"\n",
    "\n",
    "import pylab\n",
    "pylab.rcParams['figure.figsize'] = (24, 18)"
   ]
  },
  {
   "cell_type": "code",
   "execution_count": 20,
   "metadata": {
    "collapsed": false
   },
   "outputs": [
    {
     "name": "stderr",
     "output_type": "stream",
     "text": [
      "WARNING:arctic.store.version_store:Library created, but couldn't enable sharding: no such command: 'enablesharding', bad cmd: '{ enablesharding: \"arctic\" }'. This is OK if you're not 'admin'\n"
     ]
    }
   ],
   "source": [
    "# Using Arctic database to store\n",
    "store = Arctic('localhost')\n",
    "# Create the library - defaults to VersionStore\n",
    "store.initialize_library('FUTURES')\n",
    "# Access the library\n",
    "library = store['FUTURES']\n"
   ]
  },
  {
   "cell_type": "code",
   "execution_count": 15,
   "metadata": {
    "collapsed": false
   },
   "outputs": [
    {
     "data": {
      "text/plain": [
       "[u'FX', u'NASDAQ', u'FUTURES']"
      ]
     },
     "execution_count": 15,
     "metadata": {},
     "output_type": "execute_result"
    }
   ],
   "source": [
    "store."
   ]
  },
  {
   "cell_type": "code",
   "execution_count": 22,
   "metadata": {
    "collapsed": false
   },
   "outputs": [],
   "source": [
    "markets=pd.read_csv('contracts.csv',index_col=0)"
   ]
  },
  {
   "cell_type": "code",
   "execution_count": 23,
   "metadata": {
    "collapsed": false
   },
   "outputs": [
    {
     "name": "stdout",
     "output_type": "stream",
     "text": [
      "Too little volume: TecDAX\n",
      "CHRIS/EUREX_FTDX1\n",
      "Index([u'Open', u'High', u'Low', u'Settle', u'Volume',\n",
      "       u'Prev. Day Open Interest'],\n",
      "      dtype='object')\n",
      "CHRIS/CBOE_VX1\n",
      "Index([u'Open', u'High', u'Low', u'Close', u'Settle', u'Change',\n",
      "       u'Total Volume', u'EFP', u'Prev. Day Open Interest'],\n",
      "      dtype='object')\n",
      "Too little volume: Ibovespa\n",
      "CHRIS/CME_IBV1\n",
      "Index([u'Open', u'High', u'Low', u'Last', u'Change', u'Settle', u'Volume',\n",
      "       u'Previous Day Open Interest'],\n",
      "      dtype='object')\n",
      "Too little volume: Milk\n",
      "CHRIS/CME_DK1\n",
      "Index([u'Open', u'High', u'Low', u'Last', u'Change', u'Settle', u'Volume',\n",
      "       u'Previous Day Open Interest'],\n",
      "      dtype='object')\n",
      "Too little volume: Milling Wheat\n",
      "CHRIS/ICE_WA1\n",
      "Index([u'Open', u'High', u'Low', u'Settle', u'Change', u'Wave', u'Volume',\n",
      "       u'Prev. Day Open Interest', u'EFP Volume', u'EFS Volume',\n",
      "       u'Block Volume'],\n",
      "      dtype='object')\n",
      "Too little volume: BEL 20\n",
      "CHRIS/LIFFE_BXF1\n",
      "Index([u'Open', u'High', u'Low', u'Settle', u'Volume', u'Interest'], dtype='object')\n",
      "Too little volume: Singapore 180\n",
      "CHRIS/SGX_1MF1\n",
      "Index([u'Open', u'High', u'Low', u'Close', u'Settle', u'Volume',\n",
      "       u'Prev. Day Open Interest'],\n",
      "      dtype='object')\n",
      "Too little volume: Singapore 380\n",
      "CHRIS/SGX_3MF1\n",
      "Index([u'Open', u'High', u'Low', u'Close', u'Settle', u'Volume',\n",
      "       u'Prev. Day Open Interest'],\n",
      "      dtype='object')\n",
      "Too little volume: Termal Coal\n",
      "CHRIS/SGX_CFF1\n",
      "Index([u'Open', u'High', u'Low', u'Close', u'Settle', u'Volume',\n",
      "       u'Prev. Day Open Interest'],\n",
      "      dtype='object')\n",
      "CHRIS/ASX_AP1\n",
      "Index([u'Previous Settlement'], dtype='object')\n",
      "CHRIS/ASX_BB1\n",
      "Index([u'Previous Settlement'], dtype='object')\n",
      "CHRIS/ASX_IR1\n",
      "Index([u'Previous Settlement'], dtype='object')\n",
      "Too little volume: European 3.5% Fuel Oil Barges\n",
      "CHRIS/CME_BOB1\n",
      "Index([u'Open', u'High', u'Low', u'Last', u'Change', u'Settle', u'Volume',\n",
      "       u'Previous Day Open Interest'],\n",
      "      dtype='object')\n",
      "Too little volume: Ethanol\n",
      "CHRIS/CME_711\n",
      "Index([u'Open', u'High', u'Low', u'Last', u'Change', u'Settle', u'Volume',\n",
      "       u'Previous Day Open Interest'],\n",
      "      dtype='object')\n",
      "Too little volume: Butter\n",
      "CHRIS/CME_CB1\n",
      "Index([u'Open', u'High', u'Low', u'Last', u'Change', u'Settle', u'Volume',\n",
      "       u'Previous Day Open Interest'],\n",
      "      dtype='object')\n",
      "Too little volume: Cheese\n",
      "CHRIS/CME_CSC1\n",
      "Index([u'Open', u'High', u'Low', u'Last', u'Change', u'Settle', u'Volume',\n",
      "       u'Previous Day Open Interest'],\n",
      "      dtype='object')\n",
      "Too little volume: Ethanol (Chicago)\n",
      "CHRIS/CME_CU1\n",
      "Index([u'Open', u'High', u'Low', u'Last', u'Change', u'Settle', u'Volume',\n",
      "       u'Previous Day Open Interest'],\n",
      "      dtype='object')\n",
      "Too little volume: Milk Class 3\n",
      "CHRIS/CME_DA1\n",
      "Index([u'Open', u'High', u'Low', u'Last', u'Change', u'Settle', u'Volume',\n",
      "       u'Previous Day Open Interest'],\n",
      "      dtype='object')\n",
      "Too little volume: Ethanol (Chicago2)\n",
      "CHRIS/CME_EH1\n",
      "Index([u'Open', u'High', u'Low', u'Last', u'Change', u'Settle', u'Volume',\n",
      "       u'Previous Day Open Interest'],\n",
      "      dtype='object')\n",
      "Too little volume: Commodities Index\n",
      "CHRIS/CME_GI1\n",
      "Index([u'Open', u'High', u'Low', u'Last', u'Change', u'Settle', u'Volume',\n",
      "       u'Previous Day Open Interest'],\n",
      "      dtype='object')\n",
      "Too little volume: Lumber\n",
      "CHRIS/CME_LB1\n",
      "Index([u'Open', u'High', u'Low', u'Last', u'Change', u'Settle', u'Volume',\n",
      "       u'Previous Day Open Interest'],\n",
      "      dtype='object')\n",
      "Too little volume: AP14 Richards Bay\n",
      "CHRIS/CME_MFF1\n",
      "Index([u'Open', u'High', u'Low', u'Last', u'Change', u'Settle', u'Volume',\n",
      "       u'Previous Day Open Interest'],\n",
      "      dtype='object')\n",
      "Too little volume: API2 Coal\n",
      "CHRIS/CME_MTF1\n",
      "Index([u'Open', u'High', u'Low', u'Last', u'Change', u'Settle', u'Volume',\n",
      "       u'Previous Day Open Interest'],\n",
      "      dtype='object')\n",
      "Too little volume: Rough Rice\n",
      "CHRIS/CME_RR1\n",
      "Index([u'Open', u'High', u'Low', u'Last', u'Change', u'Settle', u'Volume',\n",
      "       u'Previous Day Open Interest'],\n",
      "      dtype='object')\n",
      "Too little volume: API 8 South China Coal\n",
      "CHRIS/CME_SSI1\n",
      "Index([u'Open', u'High', u'Low', u'Last', u'Change', u'Settle', u'Volume',\n",
      "       u'Previous Day Open Interest'],\n",
      "      dtype='object')\n"
     ]
    }
   ],
   "source": [
    "price_names=['Last','Settle','Last Price','Pre Settlement','Settlement Price',\n",
    "             'Close','Previous Settlement']\n",
    "df=pd.DataFrame()\n",
    "for index, row in markets.iterrows():\n",
    "    try:\n",
    "        m = row.Code\n",
    "        data=quandl.get(m, authtoken=token)\n",
    "        if data.max().Volume < 5000:\n",
    "            print 'Too little volume: ' + index\n",
    "            illiquid.append(m)\n",
    "        for p in price_names:\n",
    "            if p in data.columns:\n",
    "                data['Price']=data[p]\n",
    "                del data[p]\n",
    "        library.write(index, data, metadata={'source': 'Quandl'})\n",
    "    except:\n",
    "        print m\n",
    "        print quandl.get(m, authtoken=token).columns"
   ]
  },
  {
   "cell_type": "code",
   "execution_count": 24,
   "metadata": {
    "collapsed": true
   },
   "outputs": [],
   "source": [
    "fx_map={'AUD':'DEXUSAL',\n",
    "'BRL':'DEXBZUS',\n",
    "'GBP':'DEXUSUK',\n",
    "'CAD':'DEXCAUS',\n",
    "'CNY':'DEXCHUS',\n",
    "'DKK':'DEXDNUS',\n",
    "'EUR':'DEXUSEU',\n",
    "'HKD':'DEXHKUS',\n",
    "'INR':'DEXINUS',\n",
    "'JPY':'DEXJPUS',\n",
    "'MYR':'DEXMAUS',\n",
    "'MXN':'DEXMXUS',\n",
    "'TWD':'DEXTAUS',\n",
    "'NZD':'DEXUSNZ',\n",
    "'NOK':'DEXNOUS',\n",
    "'SGD':'DEXSIUS',\n",
    "'ZAR':'DEXSFUS',\n",
    "'KRW':'DEXKOUS',\n",
    "'LKR':'DEXSLUS',\n",
    "'SEK':'DEXSDUS',\n",
    "'CHF':'DEXSZUS',\n",
    "'THB':'DEXTHUS',\n",
    "'VEF':'DEXVZUS'}"
   ]
  },
  {
   "cell_type": "code",
   "execution_count": 25,
   "metadata": {
    "collapsed": false
   },
   "outputs": [
    {
     "name": "stderr",
     "output_type": "stream",
     "text": [
      "WARNING:arctic.store.version_store:Library created, but couldn't enable sharding: no such command: 'enablesharding', bad cmd: '{ enablesharding: \"arctic\" }'. This is OK if you're not 'admin'\n"
     ]
    }
   ],
   "source": [
    "# Create the library - defaults to VersionStore\n",
    "store.initialize_library('FX')\n",
    "# Access the library\n",
    "fx_lib = store['FX']\n",
    "for m,ticker in fx_map.items():\n",
    "    data=pd.DataFrame()\n",
    "    data['Price']=quandl.get(\"FRED/\" + ticker,authtoken=token).VALUE\n",
    "    library.write(m, data, metadata={'source': 'Quandl'})"
   ]
  },
  {
   "cell_type": "code",
   "execution_count": null,
   "metadata": {
    "collapsed": true
   },
   "outputs": [],
   "source": []
  }
 ],
 "metadata": {
  "kernelspec": {
   "display_name": "Python 2",
   "language": "python",
   "name": "python2"
  },
  "language_info": {
   "codemirror_mode": {
    "name": "ipython",
    "version": 2
   },
   "file_extension": ".py",
   "mimetype": "text/x-python",
   "name": "python",
   "nbconvert_exporter": "python",
   "pygments_lexer": "ipython2",
   "version": "2.7.12"
  }
 },
 "nbformat": 4,
 "nbformat_minor": 0
}
