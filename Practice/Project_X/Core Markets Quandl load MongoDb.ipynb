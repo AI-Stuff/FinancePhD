{
 "cells": [
  {
   "cell_type": "code",
   "execution_count": 2,
   "metadata": {
    "collapsed": false
   },
   "outputs": [
    {
     "name": "stderr",
     "output_type": "stream",
     "text": [
      ":0: FutureWarning: IPython widgets are experimental and may change in the future.\n"
     ]
    }
   ],
   "source": [
    "%matplotlib inline\n",
    "import seaborn\n",
    "import quandl\n",
    "import pandas as pd\n",
    "import seaborn as sns\n",
    "from pymongo import MongoClient\n",
    "from datetime import datetime\n",
    "from arctic import Arctic\n",
    "import statsmodels.api as sm\n",
    "token=\"Us3wFmXGgAj_1cUtHAAR\"\n",
    "\n",
    "import pylab\n",
    "pylab.rcParams['figure.figsize'] = (24, 18)"
   ]
  },
  {
   "cell_type": "code",
   "execution_count": 3,
   "metadata": {
    "collapsed": false
   },
   "outputs": [
    {
     "name": "stderr",
     "output_type": "stream",
     "text": [
      "WARNING:arctic.store.version_store:Library created, but couldn't enable sharding: no such command: 'enablesharding', bad cmd: '{ enablesharding: \"arctic\" }'. This is OK if you're not 'admin'\n"
     ]
    }
   ],
   "source": [
    "# Using Arctic database to store\n",
    "store = Arctic('localhost')\n",
    "# Create the library - defaults to VersionStore\n",
    "store.initialize_library('FUTURES')\n",
    "# Access the library\n",
    "library = store['FUTURES']"
   ]
  },
  {
   "cell_type": "code",
   "execution_count": 4,
   "metadata": {
    "collapsed": false
   },
   "outputs": [],
   "source": [
    "markets=pd.read_csv('contracts.csv',index_col=0)"
   ]
  },
  {
   "cell_type": "code",
   "execution_count": 20,
   "metadata": {
    "collapsed": false,
    "scrolled": false
   },
   "outputs": [
    {
     "name": "stdout",
     "output_type": "stream",
     "text": [
      "Too little volume: TecDAX\n",
      "CHRIS/CBOE_VX1\n",
      "Index([u'Open', u'High', u'Low', u'Close', u'Settle', u'Change',\n",
      "       u'Total Volume', u'EFP', u'Prev. Day Open Interest'],\n",
      "      dtype='object')\n",
      "Too little volume: Ibovespa\n",
      "Too little volume: Milk\n",
      "Too little volume: Milling Wheat\n",
      "Too little volume: BEL 20\n",
      "Too little volume: Singapore 180\n",
      "Too little volume: Singapore 380\n",
      "Too little volume: Termal Coal\n",
      "CHRIS/ASX_AP1\n",
      "Index([u'Previous Settlement'], dtype='object')\n",
      "CHRIS/ASX_BB1\n",
      "Index([u'Previous Settlement'], dtype='object')\n",
      "CHRIS/ASX_IR1\n",
      "Index([u'Previous Settlement'], dtype='object')\n",
      "Too little volume: European 3.5% Fuel Oil Barges\n",
      "Too little volume: Ethanol\n",
      "Too little volume: Butter\n",
      "Too little volume: Cheese\n",
      "Too little volume: Ethanol (Chicago)\n",
      "Too little volume: Milk Class 3\n",
      "Too little volume: Ethanol (Chicago2)\n",
      "Too little volume: Commodities Index\n",
      "Too little volume: Lumber\n",
      "Too little volume: AP14 Richards Bay\n",
      "Too little volume: API2 Coal\n",
      "Too little volume: Rough Rice\n",
      "Too little volume: API 8 South China Coal\n"
     ]
    }
   ],
   "source": [
    "price_names=['Last','Settle','Last Price','Pre Settlement','Settlement Price',\n",
    "             'Close','Previous Settlement']\n",
    "df=pd.DataFrame()\n",
    "for index, row in markets.iterrows():\n",
    "    try:\n",
    "        m = row.Code\n",
    "        data=quandl.get(m, authtoken=token)\n",
    "        if data.max().Volume < 5000:\n",
    "            print 'Too little volume: ' + index\n",
    "            illiquid.append(m)\n",
    "        for p in price_names:\n",
    "            if p in data.columns:\n",
    "                data['Price']=data[p]\n",
    "                del data[p]\n",
    "        library.write(index, data, metadata={'source': 'Quandl'})\n",
    "    except:\n",
    "        print m\n",
    "        print quandl.get(m, authtoken=token).columns"
   ]
  },
  {
   "cell_type": "code",
   "execution_count": null,
   "metadata": {
    "collapsed": true
   },
   "outputs": [],
   "source": [
    "# Reading the data\n",
    "item = library.read('AAPL')\n",
    "aapl_test = item.data\n",
    "metadata_test = item.metadata"
   ]
  },
  {
   "cell_type": "code",
   "execution_count": 31,
   "metadata": {
    "collapsed": true
   },
   "outputs": [],
   "source": [
    "fx_map={'AUD':'DEXUSAL',\n",
    "'BRL':'DEXBZUS',\n",
    "'GBP':'DEXUSUK',\n",
    "'CAD':'DEXCAUS',\n",
    "'CNY':'DEXCHUS',\n",
    "'DKK':'DEXDNUS',\n",
    "'EUR':'DEXUSEU',\n",
    "'HKD':'DEXHKUS',\n",
    "'INR':'DEXINUS',\n",
    "'JPY':'DEXJPUS',\n",
    "'MYR':'DEXMAUS',\n",
    "'MXN':'DEXMXUS',\n",
    "'TWD':'DEXTAUS',\n",
    "'NZD':'DEXUSNZ',\n",
    "'NOK':'DEXNOUS',\n",
    "'SGD':'DEXSIUS',\n",
    "'ZAR':'DEXSFUS',\n",
    "'KRW':'DEXKOUS',\n",
    "'LKR':'DEXSLUS',\n",
    "'SEK':'DEXSDUS',\n",
    "'CHF':'DEXSZUS',\n",
    "'THB':'DEXTHUS',\n",
    "'VEF':'DEXVZUS'}"
   ]
  },
  {
   "cell_type": "code",
   "execution_count": 32,
   "metadata": {
    "collapsed": false
   },
   "outputs": [
    {
     "name": "stderr",
     "output_type": "stream",
     "text": [
      "WARNING:arctic.store.version_store:Library created, but couldn't enable sharding: no such command: 'enablesharding', bad cmd: '{ enablesharding: \"arctic\" }'. This is OK if you're not 'admin'\n"
     ]
    }
   ],
   "source": [
    "# Create the library - defaults to VersionStore\n",
    "store.initialize_library('FX')\n",
    "# Access the library\n",
    "fx_lib = store['FX']\n",
    "for m,ticker in fx_map.items():\n",
    "    data=quandl.get(\"FRED/\" + ticker,authtoken=token).VALUE\n",
    "    library.write(m, data, metadata={'source': 'Quandl'})"
   ]
  }
 ],
 "metadata": {
  "kernelspec": {
   "display_name": "Python 2",
   "language": "python",
   "name": "python2"
  },
  "language_info": {
   "codemirror_mode": {
    "name": "ipython",
    "version": 2
   },
   "file_extension": ".py",
   "mimetype": "text/x-python",
   "name": "python",
   "nbconvert_exporter": "python",
   "pygments_lexer": "ipython2",
   "version": "2.7.12"
  }
 },
 "nbformat": 4,
 "nbformat_minor": 0
}
