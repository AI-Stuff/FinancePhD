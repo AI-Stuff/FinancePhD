{
 "cells": [
  {
   "cell_type": "code",
   "execution_count": 4,
   "metadata": {
    "collapsed": true
   },
   "outputs": [],
   "source": [
    "from pymongo import MongoClient\n",
    "from datetime import datetime"
   ]
  },
  {
   "cell_type": "code",
   "execution_count": 5,
   "metadata": {
    "collapsed": true
   },
   "outputs": [],
   "source": [
    "client = MongoClient()\n",
    "db = client.test"
   ]
  },
  {
   "cell_type": "code",
   "execution_count": 6,
   "metadata": {
    "collapsed": true
   },
   "outputs": [],
   "source": [
    "result = db.restaurants.insert_one(\n",
    "    {\n",
    "        \"address\": {\n",
    "            \"street\": \"2 Avenue\",\n",
    "            \"zipcode\": \"10075\",\n",
    "            \"building\": \"1480\",\n",
    "            \"coord\": [-73.9557413, 40.7720266]\n",
    "        },\n",
    "        \"borough\": \"Manhattan\",\n",
    "        \"cuisine\": \"Italian\",\n",
    "        \"grades\": [\n",
    "            {\n",
    "                \"date\": datetime.strptime(\"2014-10-01\", \"%Y-%m-%d\"),\n",
    "                \"grade\": \"A\",\n",
    "                \"score\": 11\n",
    "            },\n",
    "            {\n",
    "                \"date\": datetime.strptime(\"2014-01-16\", \"%Y-%m-%d\"),\n",
    "                \"grade\": \"B\",\n",
    "                \"score\": 17\n",
    "            }\n",
    "        ],\n",
    "        \"name\": \"Vella\",\n",
    "        \"restaurant_id\": \"41704620\"\n",
    "    }\n",
    ")"
   ]
  },
  {
   "cell_type": "code",
   "execution_count": 10,
   "metadata": {
    "collapsed": false
   },
   "outputs": [
    {
     "name": "stdout",
     "output_type": "stream",
     "text": [
      "{u'cuisine': u'Italian', u'borough': u'Manhattan', u'name': u'Vella', u'restaurant_id': u'41704620', u'grades': [{u'date': datetime.datetime(2014, 10, 1, 0, 0), u'grade': u'A', u'score': 11}, {u'date': datetime.datetime(2014, 1, 16, 0, 0), u'grade': u'B', u'score': 17}], u'address': {u'building': u'1480', u'street': u'2 Avenue', u'zipcode': u'10075', u'coord': [-73.9557413, 40.7720266]}, u'_id': ObjectId('58849b533bd21f2f6ea6efe8')}\n"
     ]
    }
   ],
   "source": [
    "cursor = db.restaurants.find()\n",
    "for d in cursor:\n",
    "    print d"
   ]
  },
  {
   "cell_type": "code",
   "execution_count": 9,
   "metadata": {
    "collapsed": false
   },
   "outputs": [
    {
     "name": "stdout",
     "output_type": "stream",
     "text": [
      "{u'cuisine': u'Italian', u'borough': u'Manhattan', u'name': u'Vella', u'restaurant_id': u'41704620', u'grades': [{u'date': datetime.datetime(2014, 10, 1, 0, 0), u'grade': u'A', u'score': 11}, {u'date': datetime.datetime(2014, 1, 16, 0, 0), u'grade': u'B', u'score': 17}], u'address': {u'building': u'1480', u'street': u'2 Avenue', u'zipcode': u'10075', u'coord': [-73.9557413, 40.7720266]}, u'_id': ObjectId('58849b533bd21f2f6ea6efe8')}\n"
     ]
    }
   ],
   "source": []
  },
  {
   "cell_type": "code",
   "execution_count": null,
   "metadata": {
    "collapsed": true
   },
   "outputs": [],
   "source": []
  }
 ],
 "metadata": {
  "kernelspec": {
   "display_name": "Python 2",
   "language": "python",
   "name": "python2"
  },
  "language_info": {
   "codemirror_mode": {
    "name": "ipython",
    "version": 2
   },
   "file_extension": ".py",
   "mimetype": "text/x-python",
   "name": "python",
   "nbconvert_exporter": "python",
   "pygments_lexer": "ipython2",
   "version": "2.7.12"
  }
 },
 "nbformat": 4,
 "nbformat_minor": 0
}
