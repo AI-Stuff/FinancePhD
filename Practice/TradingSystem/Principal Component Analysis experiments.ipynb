{
 "cells": [
  {
   "cell_type": "code",
   "execution_count": 11,
   "metadata": {
    "collapsed": false
   },
   "outputs": [
    {
     "name": "stderr",
     "output_type": "stream",
     "text": [
      ":0: FutureWarning: IPython widgets are experimental and may change in the future.\n"
     ]
    }
   ],
   "source": [
    "%matplotlib inline\n",
    "import seaborn\n",
    "import quandl\n",
    "token=\"Us3wFmXGgAj_1cUtHAAR\""
   ]
  },
  {
   "cell_type": "code",
   "execution_count": 2,
   "metadata": {
    "collapsed": false
   },
   "outputs": [],
   "source": [
    "treas = quandl.get(\"CHRIS/CME_TY1\", authtoken=token)\n",
    "stocks = quandl.get(\"CHRIS/CME_ES1\", authtoken=token)"
   ]
  },
  {
   "cell_type": "code",
   "execution_count": 1,
   "metadata": {
    "collapsed": false
   },
   "outputs": [
    {
     "data": {
      "text/plain": [
       "PCA(copy=True, n_components=5, whiten=False)"
      ]
     },
     "execution_count": 1,
     "metadata": {},
     "output_type": "execute_result"
    }
   ],
   "source": [
    "import pandas as pd\n",
    "import numpy as np\n",
    "from sklearn.decomposition import PCA\n",
    "\n",
    "df = pd.DataFrame(data=np.random.normal(0, 1, (20, 10)))\n",
    "\n",
    "pca = PCA(n_components=5)\n",
    "pca.fit(df)"
   ]
  },
  {
   "cell_type": "code",
   "execution_count": 2,
   "metadata": {
    "collapsed": false
   },
   "outputs": [
    {
     "data": {
      "text/plain": [
       "array([[ 0.22734732,  0.04752641,  0.31371679, -0.10140482,  0.18084934,\n",
       "        -0.47240713, -0.07440836, -0.30958688,  0.58091989, -0.37766351],\n",
       "       [-0.2325619 , -0.37265628, -0.05627609,  0.35566089,  0.16354033,\n",
       "        -0.68223632,  0.17375429,  0.30026601, -0.04672864,  0.25030973],\n",
       "       [ 0.09968737, -0.19783428, -0.54079062,  0.40855186, -0.0280421 ,\n",
       "        -0.07105691, -0.32677268, -0.50910461, -0.20360269, -0.27981695],\n",
       "       [ 0.19993278,  0.08879859,  0.57397841,  0.20329231, -0.41594791,\n",
       "        -0.21801117, -0.12834698,  0.02872699, -0.54654292, -0.21169276],\n",
       "       [-0.50010577,  0.26837205,  0.00892666,  0.18449727,  0.25070403,\n",
       "         0.07905747, -0.35543216,  0.4173856 ,  0.02429896, -0.52298751]])"
      ]
     },
     "execution_count": 2,
     "metadata": {},
     "output_type": "execute_result"
    }
   ],
   "source": [
    "pca.components_"
   ]
  },
  {
   "cell_type": "code",
   "execution_count": 6,
   "metadata": {
    "collapsed": false
   },
   "outputs": [
    {
     "data": {
      "text/plain": [
       "array([ 0.27439632,  0.20144831,  0.13278166,  0.11061183,  0.07917303])"
      ]
     },
     "execution_count": 6,
     "metadata": {},
     "output_type": "execute_result"
    }
   ],
   "source": [
    "pca.explained_variance_ratio_\n",
    "d=pd.DataFrame(pca.explained_variance_ratio_)"
   ]
  },
  {
   "cell_type": "code",
   "execution_count": 13,
   "metadata": {
    "collapsed": false
   },
   "outputs": [
    {
     "data": {
      "text/plain": [
       "<matplotlib.axes._subplots.AxesSubplot at 0x10f56f910>"
      ]
     },
     "execution_count": 13,
     "metadata": {},
     "output_type": "execute_result"
    },
    {
     "data": {
      "image/png": "[encoded data removed]",
      "text/plain": [
       "<matplotlib.figure.Figure at 0x10d8dc290>"
      ]
     },
     "metadata": {},
     "output_type": "display_data"
    }
   ],
   "source": [
    "d.plot(kind='bar')"
   ]
  },
  {
   "cell_type": "code",
   "execution_count": null,
   "metadata": {
    "collapsed": true
   },
   "outputs": [],
   "source": []
  }
 ],
 "metadata": {
  "kernelspec": {
   "display_name": "Python 2",
   "language": "python",
   "name": "python2"
  },
  "language_info": {
   "codemirror_mode": {
    "name": "ipython",
    "version": 2
   },
   "file_extension": ".py",
   "mimetype": "text/x-python",
   "name": "python",
   "nbconvert_exporter": "python",
   "pygments_lexer": "ipython2",
   "version": "2.7.11"
  }
 },
 "nbformat": 4,
 "nbformat_minor": 0
}
