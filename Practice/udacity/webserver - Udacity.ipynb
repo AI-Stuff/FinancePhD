{
 "cells": [
  {
   "cell_type": "code",
   "execution_count": 4,
   "metadata": {
    "collapsed": true
   },
   "outputs": [],
   "source": [
    "from BaseHTTPServer import BaseHTTPRequestHandler, HTTPServer\n",
    "import cgi\n",
    "from sqlalchemy import create_engine\n",
    "from sqlalchemy.orm import sessionmaker\n",
    "from database_setup import Base, Restaurant, MenuItem"
   ]
  },
  {
   "cell_type": "code",
   "execution_count": 12,
   "metadata": {
    "collapsed": true
   },
   "outputs": [],
   "source": [
    "engine = create_engine('sqlite:///restaurantmenu.db')\n",
    "Base.metadata.bind = engine\n",
    "DBSession = sessionmaker(bind=engine)\n",
    "session = DBSession()"
   ]
  },
  {
   "cell_type": "code",
   "execution_count": 36,
   "metadata": {
    "collapsed": false
   },
   "outputs": [],
   "source": [
    "class WebServerHandler(BaseHTTPRequestHandler):\n",
    "\n",
    "    def do_GET(self):\n",
    "        if self.path.endswith(\"/hello\"):\n",
    "            self.send_response(200)\n",
    "            self.send_header('Content-type', 'text/html')\n",
    "            self.end_headers()\n",
    "            output = \"\"\n",
    "            output += \"<html><body>Hello!\"\n",
    "            output += \"<form method='POST' enctype='multipart/form-data' action='hello/'> \\\n",
    "                    <h2>What would you like me to day?</h2><input name='message' type='text'> \\\n",
    "                        <input type='submit' value='Submit'></form>\"\n",
    "            output += \"</body></html>\"\n",
    "            self.wfile.write(output)\n",
    "            print output\n",
    "            return        \n",
    "        if self.path.endswith('/restaurant'):\n",
    "            self.send_response(200)\n",
    "            self.send_header('Content-type', 'text/html')\n",
    "            self.end_headers()\n",
    "            output = \"\"\n",
    "            output += \"<html><body>\"\n",
    "            restaurants=session.query(Restaurant).all()\n",
    "            for r in restaurants:\n",
    "                output += \"<p>\" + r.name\n",
    "                output += \"<p><a href='/hello'>Edit</a>\"\n",
    "                output += \"<p><a href='/hello'>Delete</a>\"\n",
    "            output += \"<p><a href='/new'>Make New Restaurant</a>\"\n",
    "            output += \"</body></html>\"\n",
    "            self.wfile.write(output)\n",
    "            print output\n",
    "            return \n",
    "        if self.path.endswith('/new'):\n",
    "            self.send_response(200)\n",
    "            self.send_header('Content-type', 'text/html')\n",
    "            self.end_headers()\n",
    "            output = \"\"\n",
    "            output += \"<html><body><h2>Make New Restaurant</h2>\"\n",
    "            output += \"<form method='POST' enctype='multipart/form-data' action='hello/'> \\\n",
    "                    <input name='restaurant' type='text'><input type='submit' value='Submit'></form>\"\n",
    "            output += \"</body></html>\"\n",
    "            self.wfile.write(output)\n",
    "            print output\n",
    "            return   \n",
    "        else:\n",
    "            self.send_error(404, 'File Not Found: %s' % self.path)\n",
    "    def do_POST(self):\n",
    "        try:\n",
    "            self.send_response(301)\n",
    "            self.end_headers()\n",
    "            ctype, pdict = cgi.parse_header(\n",
    "                self.headers.getheader('content-type'))\n",
    "            if ctype == 'multipart/form-data':\n",
    "                fields = cgi.parse_multipart(self.rfile, pdict)\n",
    "                messagecontent = fields.get('restaurant')\n",
    "            print messagecontent\n",
    "            \n",
    "            first = Restaurant(name = messagecontent[0])\n",
    "            session.add(first)\n",
    "            session.commit()        \n",
    "            output = \"\"\n",
    "            output += \"<html><body>\"\n",
    "            output += \"<h2> Added %s </h2>\" % messagecontent[0]\n",
    "            output += \"<p><a href='/restaurant'>Restaurant edit</a>\"\n",
    "            output += \"</body></html>\"\n",
    "            self.wfile.write(output)\n",
    "            print output\n",
    "        except:\n",
    "            print 'yikes'\n",
    "            pass"
   ]
  },
  {
   "cell_type": "code",
   "execution_count": 37,
   "metadata": {
    "collapsed": false
   },
   "outputs": [
    {
     "name": "stdout",
     "output_type": "stream",
     "text": [
      "Web Server running on port 8080\n",
      "<html><body>Hello!<form method='POST' enctype='multipart/form-data' action='hello/'>                     <h2>What would you like me to day?</h2><input name='message' type='text'>                         <input type='submit' value='Submit'></form></body></html>"
     ]
    },
    {
     "name": "stderr",
     "output_type": "stream",
     "text": [
      "127.0.0.1 - - [22/Jan/2017 08:08:43] \"GET /hello HTTP/1.1\" 200 -\n",
      "127.0.0.1 - - [22/Jan/2017 08:08:45] \"GET /new HTTP/1.1\" 200 -\n"
     ]
    },
    {
     "name": "stdout",
     "output_type": "stream",
     "text": [
      "\n",
      "<html><body><h2>Make New Restaurant</h2><form method='POST' enctype='multipart/form-data' action='hello/'>                     <input name='restaurant' type='text'><input type='submit' value='Submit'></form></body></html>\n",
      "<html><body>Hello!<form method='POST' enctype='multipart/form-data' action='hello/'>                     <h2>What would you like me to day?</h2><input name='message' type='text'>                         <input type='submit' value='Submit'></form></body></html>"
     ]
    },
    {
     "name": "stderr",
     "output_type": "stream",
     "text": [
      "127.0.0.1 - - [22/Jan/2017 08:08:50] \"GET /hello HTTP/1.1\" 200 -\n",
      "127.0.0.1 - - [22/Jan/2017 08:08:52] \"GET /new HTTP/1.1\" 200 -\n"
     ]
    },
    {
     "name": "stdout",
     "output_type": "stream",
     "text": [
      "\n",
      "<html><body><h2>Make New Restaurant</h2><form method='POST' enctype='multipart/form-data' action='hello/'>                     <input name='restaurant' type='text'><input type='submit' value='Submit'></form></body></html>\n",
      "['Yum']"
     ]
    },
    {
     "name": "stderr",
     "output_type": "stream",
     "text": [
      "127.0.0.1 - - [22/Jan/2017 08:08:55] \"POST /hello/ HTTP/1.1\" 301 -\n",
      "127.0.0.1 - - [22/Jan/2017 08:08:57] \"GET /restaurant HTTP/1.1\" 200 -\n"
     ]
    },
    {
     "name": "stdout",
     "output_type": "stream",
     "text": [
      "\n",
      "<html><body><h2> Added Yum </h2><p><a href='/restaurant'>Restaurant edit</a></body></html>\n",
      "<html><body><p>Pizza<p><a href='/hello'>Edit</a><p><a href='/hello'>Delete</a><p>Pizza Palace<p><a href='/hello'>Edit</a><p><a href='/hello'>Delete</a><p>Pizza Palace<p><a href='/hello'>Edit</a><p><a href='/hello'>Delete</a><p>Urban Burger<p><a href='/hello'>Edit</a><p><a href='/hello'>Delete</a><p>Super Stir Fry<p><a href='/hello'>Edit</a><p><a href='/hello'>Delete</a><p>Panda Garden<p><a href='/hello'>Edit</a><p><a href='/hello'>Delete</a><p>Thyme for That Vegetarian Cuisine <p><a href='/hello'>Edit</a><p><a href='/hello'>Delete</a><p>Tony's Bistro <p><a href='/hello'>Edit</a><p><a href='/hello'>Delete</a><p>Andala's<p><a href='/hello'>Edit</a><p><a href='/hello'>Delete</a><p>Auntie Ann's Diner' <p><a href='/hello'>Edit</a><p><a href='/hello'>Delete</a><p>Cocina Y Amor <p><a href='/hello'>Edit</a><p><a href='/hello'>Delete</a><p>State Bird Provisions<p><a href='/hello'>Edit</a><p><a href='/hello'>Delete</a><p>Yum<p><a href='/hello'>Edit</a><p><a href='/hello'>Delete</a><p><a href='/new'>Make New Restaurant</a></body></html>\n",
      " ^C entered, stopping web server....\n"
     ]
    }
   ],
   "source": [
    "def main():\n",
    "    try:\n",
    "        port = 8080\n",
    "        server = HTTPServer(('', port), WebServerHandler)\n",
    "        print \"Web Server running on port %s\" % port\n",
    "        server.serve_forever()\n",
    "    except KeyboardInterrupt:\n",
    "        print \" ^C entered, stopping web server....\"\n",
    "        server.socket.close()\n",
    "\n",
    "if __name__ == '__main__':\n",
    "    main()"
   ]
  },
  {
   "cell_type": "code",
   "execution_count": null,
   "metadata": {
    "collapsed": true
   },
   "outputs": [],
   "source": []
  }
 ],
 "metadata": {
  "kernelspec": {
   "display_name": "Python 2",
   "language": "python",
   "name": "python2"
  },
  "language_info": {
   "codemirror_mode": {
    "name": "ipython",
    "version": 2
   },
   "file_extension": ".py",
   "mimetype": "text/x-python",
   "name": "python",
   "nbconvert_exporter": "python",
   "pygments_lexer": "ipython2",
   "version": "2.7.12"
  }
 },
 "nbformat": 4,
 "nbformat_minor": 0
}
