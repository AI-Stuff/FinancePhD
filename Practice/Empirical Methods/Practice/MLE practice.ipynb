{
 "cells": [
  {
   "cell_type": "code",
   "execution_count": 6,
   "metadata": {
    "collapsed": false
   },
   "outputs": [
    {
     "name": "stdout",
     "output_type": "stream",
     "text": [
      "Populating the interactive namespace from numpy and matplotlib\n"
     ]
    }
   ],
   "source": [
    "from __future__ import print_function\n",
    "import numpy as np\n",
    "from scipy import stats\n",
    "import statsmodels.api as sm\n",
    "from statsmodels.base.model import GenericLikelihoodModel\n",
    "import seaborn as sns\n",
    "%matplotlib inline\n",
    "%pylab inline\n",
    "pylab.rcParams['figure.figsize'] = (10, 6)"
   ]
  },
  {
   "cell_type": "code",
   "execution_count": 7,
   "metadata": {
    "collapsed": false
   },
   "outputs": [
    {
     "name": "stdout",
     "output_type": "stream",
     "text": [
      "::\n",
      "\n",
      "    Number of Observations - 32\n",
      "\n",
      "    Number of Variables - 4\n",
      "\n",
      "    Variable name definitions::\n",
      "\n",
      "        Grade - binary variable indicating whether or not a student's grade\n",
      "                improved.  1 indicates an improvement.\n",
      "        TUCE  - Test score on economics test\n",
      "        PSI   - participation in program\n",
      "        GPA   - Student's grade point average\n",
      "\n",
      "    GPA  TUCE  PSI\n",
      "0  2.66    20    0\n",
      "1  2.89    22    0\n",
      "2  3.28    24    0\n",
      "3  2.92    12    0\n",
      "4  4.00    21    0\n"
     ]
    }
   ],
   "source": [
    "data = sm.datasets.spector.load_pandas()\n",
    "exog = data.exog\n",
    "endog = data.endog\n",
    "exog = sm.add_constant(exog, prepend=True)\n",
    "print(sm.datasets.spector.NOTE)\n",
    "print(data.exog.head())"
   ]
  },
  {
   "cell_type": "code",
   "execution_count": 9,
   "metadata": {
    "collapsed": false
   },
   "outputs": [
    {
     "data": {
      "text/plain": [
       "<matplotlib.axes._subplots.AxesSubplot at 0x10a052310>"
      ]
     },
     "execution_count": 9,
     "metadata": {},
     "output_type": "execute_result"
    },
    {
     "data": {
      "image/png": "[encoded data removed]",
      "text/plain": [
       "<matplotlib.figure.Figure at 0x10a05edd0>"
      ]
     },
     "metadata": {},
     "output_type": "display_data"
    }
   ],
   "source": [
    "data.exog.GPA.hist()"
   ]
  },
  {
   "cell_type": "code",
   "execution_count": 10,
   "metadata": {
    "collapsed": true
   },
   "outputs": [],
   "source": [
    "class MyProbit(GenericLikelihoodModel):\n",
    "    def loglike(self, params):\n",
    "        exog = self.exog\n",
    "        endog = self.endog\n",
    "        q = 2 * endog - 1\n",
    "        return stats.norm.logcdf(q*np.dot(exog, params)).sum()"
   ]
  },
  {
   "cell_type": "code",
   "execution_count": 36,
   "metadata": {
    "collapsed": false
   },
   "outputs": [
    {
     "data": {
      "text/html": [
       "<table class=\"simpletable\">\n",
       "<caption>OLS Regression Results</caption>\n",
       "<tr>\n",
       "  <th>Dep. Variable:</th>          <td>GRADE</td>      <th>  R-squared:         </th> <td>   0.416</td>\n",
       "</tr>\n",
       "<tr>\n",
       "  <th>Model:</th>                   <td>OLS</td>       <th>  Adj. R-squared:    </th> <td>   0.353</td>\n",
       "</tr>\n",
       "<tr>\n",
       "  <th>Method:</th>             <td>Least Squares</td>  <th>  F-statistic:       </th> <td>   6.646</td>\n",
       "</tr>\n",
       "<tr>\n",
       "  <th>Date:</th>             <td>Fri, 10 Jun 2016</td> <th>  Prob (F-statistic):</th>  <td>0.00157</td>\n",
       "</tr>\n",
       "<tr>\n",
       "  <th>Time:</th>                 <td>18:00:54</td>     <th>  Log-Likelihood:    </th> <td> -12.978</td>\n",
       "</tr>\n",
       "<tr>\n",
       "  <th>No. Observations:</th>      <td>    32</td>      <th>  AIC:               </th> <td>   33.96</td>\n",
       "</tr>\n",
       "<tr>\n",
       "  <th>Df Residuals:</th>          <td>    28</td>      <th>  BIC:               </th> <td>   39.82</td>\n",
       "</tr>\n",
       "<tr>\n",
       "  <th>Df Model:</th>              <td>     3</td>      <th>                     </th>     <td> </td>   \n",
       "</tr>\n",
       "<tr>\n",
       "  <th>Covariance Type:</th>      <td>nonrobust</td>    <th>                     </th>     <td> </td>   \n",
       "</tr>\n",
       "</table>\n",
       "<table class=\"simpletable\">\n",
       "<tr>\n",
       "    <td></td>       <th>coef</th>     <th>std err</th>      <th>t</th>      <th>P>|t|</th>  <th>[0.025</th>    <th>0.975]</th>  \n",
       "</tr>\n",
       "<tr>\n",
       "  <th>const</th> <td>   -1.4980</td> <td>    0.524</td> <td>   -2.859</td> <td> 0.008</td> <td>   -2.571</td> <td>   -0.425</td>\n",
       "</tr>\n",
       "<tr>\n",
       "  <th>GPA</th>   <td>    0.4639</td> <td>    0.162</td> <td>    2.864</td> <td> 0.008</td> <td>    0.132</td> <td>    0.796</td>\n",
       "</tr>\n",
       "<tr>\n",
       "  <th>TUCE</th>  <td>    0.0105</td> <td>    0.019</td> <td>    0.539</td> <td> 0.594</td> <td>   -0.029</td> <td>    0.050</td>\n",
       "</tr>\n",
       "<tr>\n",
       "  <th>PSI</th>   <td>    0.3786</td> <td>    0.139</td> <td>    2.720</td> <td> 0.011</td> <td>    0.093</td> <td>    0.664</td>\n",
       "</tr>\n",
       "</table>\n",
       "<table class=\"simpletable\">\n",
       "<tr>\n",
       "  <th>Omnibus:</th>       <td> 0.176</td> <th>  Durbin-Watson:     </th> <td>   2.346</td>\n",
       "</tr>\n",
       "<tr>\n",
       "  <th>Prob(Omnibus):</th> <td> 0.916</td> <th>  Jarque-Bera (JB):  </th> <td>   0.167</td>\n",
       "</tr>\n",
       "<tr>\n",
       "  <th>Skew:</th>          <td> 0.141</td> <th>  Prob(JB):          </th> <td>   0.920</td>\n",
       "</tr>\n",
       "<tr>\n",
       "  <th>Kurtosis:</th>      <td> 2.786</td> <th>  Cond. No.          </th> <td>    176.</td>\n",
       "</tr>\n",
       "</table>"
      ],
      "text/plain": [
       "<class 'statsmodels.iolib.summary.Summary'>\n",
       "\"\"\"\n",
       "                            OLS Regression Results                            \n",
       "==============================================================================\n",
       "Dep. Variable:                  GRADE   R-squared:                       0.416\n",
       "Model:                            OLS   Adj. R-squared:                  0.353\n",
       "Method:                 Least Squares   F-statistic:                     6.646\n",
       "Date:                Fri, 10 Jun 2016   Prob (F-statistic):            0.00157\n",
       "Time:                        18:00:54   Log-Likelihood:                -12.978\n",
       "No. Observations:                  32   AIC:                             33.96\n",
       "Df Residuals:                      28   BIC:                             39.82\n",
       "Df Model:                           3                                         \n",
       "Covariance Type:            nonrobust                                         \n",
       "==============================================================================\n",
       "                 coef    std err          t      P>|t|      [0.025      0.975]\n",
       "------------------------------------------------------------------------------\n",
       "const         -1.4980      0.524     -2.859      0.008      -2.571      -0.425\n",
       "GPA            0.4639      0.162      2.864      0.008       0.132       0.796\n",
       "TUCE           0.0105      0.019      0.539      0.594      -0.029       0.050\n",
       "PSI            0.3786      0.139      2.720      0.011       0.093       0.664\n",
       "==============================================================================\n",
       "Omnibus:                        0.176   Durbin-Watson:                   2.346\n",
       "Prob(Omnibus):                  0.916   Jarque-Bera (JB):                0.167\n",
       "Skew:                           0.141   Prob(JB):                        0.920\n",
       "Kurtosis:                       2.786   Cond. No.                         176.\n",
       "==============================================================================\n",
       "\n",
       "Warnings:\n",
       "[1] Standard Errors assume that the covariance matrix of the errors is correctly specified.\n",
       "\"\"\""
      ]
     },
     "execution_count": 36,
     "metadata": {},
     "output_type": "execute_result"
    }
   ],
   "source": [
    "r=sm.OLS(endog,exog).fit()\n",
    "r.summary()"
   ]
  },
  {
   "cell_type": "code",
   "execution_count": 12,
   "metadata": {
    "collapsed": false
   },
   "outputs": [
    {
     "name": "stdout",
     "output_type": "stream",
     "text": [
      "Optimization terminated successfully.\n",
      "         Current function value: 0.400588\n",
      "         Iterations: 292\n",
      "         Function evaluations: 494\n",
      "                               MyProbit Results                               \n",
      "==============================================================================\n",
      "Dep. Variable:                  GRADE   Log-Likelihood:                -12.819\n",
      "Model:                       MyProbit   AIC:                             33.64\n",
      "Method:            Maximum Likelihood   BIC:                             39.50\n",
      "Date:                Fri, 10 Jun 2016                                         \n",
      "Time:                        17:42:12                                         \n",
      "No. Observations:                  32                                         \n",
      "Df Residuals:                      28                                         \n",
      "Df Model:                           3                                         \n",
      "==============================================================================\n",
      "                 coef    std err          z      P>|z|      [0.025      0.975]\n",
      "------------------------------------------------------------------------------\n",
      "const         -7.4523      2.542     -2.931      0.003     -12.435      -2.469\n",
      "GPA            1.6258      0.694      2.343      0.019       0.266       2.986\n",
      "TUCE           0.0517      0.084      0.617      0.537      -0.113       0.216\n",
      "PSI            1.4263      0.595      2.397      0.017       0.260       2.593\n",
      "==============================================================================\n"
     ]
    }
   ],
   "source": [
    "sm_probit_manual = MyProbit(endog, exog).fit()\n",
    "print(sm_probit_manual.summary())"
   ]
  },
  {
   "cell_type": "code",
   "execution_count": 13,
   "metadata": {
    "collapsed": false
   },
   "outputs": [
    {
     "name": "stdout",
     "output_type": "stream",
     "text": [
      "Optimization terminated successfully.\n",
      "         Current function value: 0.400588\n",
      "         Iterations 6\n"
     ]
    }
   ],
   "source": [
    "sm_probit_canned = sm.Probit(endog, exog).fit()"
   ]
  },
  {
   "cell_type": "code",
   "execution_count": 25,
   "metadata": {
    "collapsed": false
   },
   "outputs": [
    {
     "data": {
      "text/html": [
       "<table class=\"simpletable\">\n",
       "<caption>Probit Regression Results</caption>\n",
       "<tr>\n",
       "  <th>Dep. Variable:</th>       <td>GRADE</td>      <th>  No. Observations:  </th>  <td>    32</td> \n",
       "</tr>\n",
       "<tr>\n",
       "  <th>Model:</th>              <td>Probit</td>      <th>  Df Residuals:      </th>  <td>    28</td> \n",
       "</tr>\n",
       "<tr>\n",
       "  <th>Method:</th>               <td>MLE</td>       <th>  Df Model:          </th>  <td>     3</td> \n",
       "</tr>\n",
       "<tr>\n",
       "  <th>Date:</th>          <td>Fri, 10 Jun 2016</td> <th>  Pseudo R-squ.:     </th>  <td>0.3775</td> \n",
       "</tr>\n",
       "<tr>\n",
       "  <th>Time:</th>              <td>17:49:39</td>     <th>  Log-Likelihood:    </th> <td> -12.819</td>\n",
       "</tr>\n",
       "<tr>\n",
       "  <th>converged:</th>           <td>True</td>       <th>  LL-Null:           </th> <td> -20.592</td>\n",
       "</tr>\n",
       "<tr>\n",
       "  <th> </th>                      <td> </td>        <th>  LLR p-value:       </th> <td>0.001405</td>\n",
       "</tr>\n",
       "</table>\n",
       "<table class=\"simpletable\">\n",
       "<tr>\n",
       "    <td></td>       <th>coef</th>     <th>std err</th>      <th>z</th>      <th>P>|z|</th>  <th>[0.025</th>    <th>0.975]</th>  \n",
       "</tr>\n",
       "<tr>\n",
       "  <th>const</th> <td>   -7.4523</td> <td>    2.542</td> <td>   -2.931</td> <td> 0.003</td> <td>  -12.435</td> <td>   -2.469</td>\n",
       "</tr>\n",
       "<tr>\n",
       "  <th>GPA</th>   <td>    1.6258</td> <td>    0.694</td> <td>    2.343</td> <td> 0.019</td> <td>    0.266</td> <td>    2.986</td>\n",
       "</tr>\n",
       "<tr>\n",
       "  <th>TUCE</th>  <td>    0.0517</td> <td>    0.084</td> <td>    0.617</td> <td> 0.537</td> <td>   -0.113</td> <td>    0.216</td>\n",
       "</tr>\n",
       "<tr>\n",
       "  <th>PSI</th>   <td>    1.4263</td> <td>    0.595</td> <td>    2.397</td> <td> 0.017</td> <td>    0.260</td> <td>    2.593</td>\n",
       "</tr>\n",
       "</table>"
      ],
      "text/plain": [
       "<class 'statsmodels.iolib.summary.Summary'>\n",
       "\"\"\"\n",
       "                          Probit Regression Results                           \n",
       "==============================================================================\n",
       "Dep. Variable:                  GRADE   No. Observations:                   32\n",
       "Model:                         Probit   Df Residuals:                       28\n",
       "Method:                           MLE   Df Model:                            3\n",
       "Date:                Fri, 10 Jun 2016   Pseudo R-squ.:                  0.3775\n",
       "Time:                        17:49:39   Log-Likelihood:                -12.819\n",
       "converged:                       True   LL-Null:                       -20.592\n",
       "                                        LLR p-value:                  0.001405\n",
       "==============================================================================\n",
       "                 coef    std err          z      P>|z|      [0.025      0.975]\n",
       "------------------------------------------------------------------------------\n",
       "const         -7.4523      2.542     -2.931      0.003     -12.435      -2.469\n",
       "GPA            1.6258      0.694      2.343      0.019       0.266       2.986\n",
       "TUCE           0.0517      0.084      0.617      0.537      -0.113       0.216\n",
       "PSI            1.4263      0.595      2.397      0.017       0.260       2.593\n",
       "==============================================================================\n",
       "\"\"\""
      ]
     },
     "execution_count": 25,
     "metadata": {},
     "output_type": "execute_result"
    }
   ],
   "source": [
    "sm_probit_canned.summary()"
   ]
  },
  {
   "cell_type": "code",
   "execution_count": 15,
   "metadata": {
    "collapsed": false
   },
   "outputs": [
    {
     "name": "stdout",
     "output_type": "stream",
     "text": [
      "const   -7.452320\n",
      "GPA      1.625810\n",
      "TUCE     0.051729\n",
      "PSI      1.426332\n",
      "dtype: float64\n",
      "[-7.45233176  1.62580888  0.05172971  1.42631954]\n"
     ]
    }
   ],
   "source": [
    "print(sm_probit_canned.params)\n",
    "print(sm_probit_manual.params)"
   ]
  },
  {
   "cell_type": "code",
   "execution_count": 16,
   "metadata": {
    "collapsed": false
   },
   "outputs": [
    {
     "name": "stdout",
     "output_type": "stream",
     "text": [
      "          const       GPA      TUCE       PSI\n",
      "const  6.464166 -1.169668 -0.101173 -0.594792\n",
      "GPA   -1.169668  0.481473 -0.018914  0.105439\n",
      "TUCE  -0.101173 -0.018914  0.007038  0.002472\n",
      "PSI   -0.594792  0.105439  0.002472  0.354070\n",
      "[[  6.46416770e+00  -1.16966617e+00  -1.01173180e-01  -5.94788993e-01]\n",
      " [ -1.16966617e+00   4.81472116e-01  -1.89134586e-02   1.05438227e-01]\n",
      " [ -1.01173180e-01  -1.89134586e-02   7.03758392e-03   2.47189191e-03]\n",
      " [ -5.94788993e-01   1.05438227e-01   2.47189191e-03   3.54069512e-01]]\n"
     ]
    }
   ],
   "source": [
    "print(sm_probit_canned.cov_params())\n",
    "print(sm_probit_manual.cov_params())"
   ]
  },
  {
   "cell_type": "code",
   "execution_count": null,
   "metadata": {
    "collapsed": true
   },
   "outputs": [],
   "source": []
  }
 ],
 "metadata": {
  "kernelspec": {
   "display_name": "Python 2",
   "language": "python",
   "name": "python2"
  },
  "language_info": {
   "codemirror_mode": {
    "name": "ipython",
    "version": 2
   },
   "file_extension": ".py",
   "mimetype": "text/x-python",
   "name": "python",
   "nbconvert_exporter": "python",
   "pygments_lexer": "ipython2",
   "version": "2.7.11"
  }
 },
 "nbformat": 4,
 "nbformat_minor": 0
}
