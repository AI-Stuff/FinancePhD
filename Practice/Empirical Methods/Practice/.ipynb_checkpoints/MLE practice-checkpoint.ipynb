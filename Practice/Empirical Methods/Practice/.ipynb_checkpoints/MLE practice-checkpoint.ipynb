{
 "cells": [
  {
   "cell_type": "code",
   "execution_count": 6,
   "metadata": {
    "collapsed": false
   },
   "outputs": [
    {
     "name": "stdout",
     "output_type": "stream",
     "text": [
      "Populating the interactive namespace from numpy and matplotlib\n"
     ]
    }
   ],
   "source": [
    "from __future__ import print_function\n",
    "import numpy as np\n",
    "from scipy import stats\n",
    "import statsmodels.api as sm\n",
    "from statsmodels.base.model import GenericLikelihoodModel\n",
    "import seaborn as sns\n",
    "%matplotlib inline\n",
    "%pylab inline\n",
    "pylab.rcParams['figure.figsize'] = (10, 6)"
   ]
  },
  {
   "cell_type": "code",
   "execution_count": 7,
   "metadata": {
    "collapsed": false
   },
   "outputs": [
    {
     "name": "stdout",
     "output_type": "stream",
     "text": [
      "::\n",
      "\n",
      "    Number of Observations - 32\n",
      "\n",
      "    Number of Variables - 4\n",
      "\n",
      "    Variable name definitions::\n",
      "\n",
      "        Grade - binary variable indicating whether or not a student's grade\n",
      "                improved.  1 indicates an improvement.\n",
      "        TUCE  - Test score on economics test\n",
      "        PSI   - participation in program\n",
      "        GPA   - Student's grade point average\n",
      "\n",
      "    GPA  TUCE  PSI\n",
      "0  2.66    20    0\n",
      "1  2.89    22    0\n",
      "2  3.28    24    0\n",
      "3  2.92    12    0\n",
      "4  4.00    21    0\n"
     ]
    }
   ],
   "source": [
    "data = sm.datasets.spector.load_pandas()\n",
    "exog = data.exog\n",
    "endog = data.endog\n",
    "exog = sm.add_constant(exog, prepend=True)\n",
    "print(sm.datasets.spector.NOTE)\n",
    "print(data.exog.head())"
   ]
  },
  {
   "cell_type": "code",
   "execution_count": 9,
   "metadata": {
    "collapsed": false
   },
   "outputs": [
    {
     "data": {
      "text/plain": [
       "<matplotlib.axes._subplots.AxesSubplot at 0x10a052310>"
      ]
     },
     "execution_count": 9,
     "metadata": {},
     "output_type": "execute_result"
    },
    {
     "data": {
      "image/png": "[encoded data removed]",
      "text/plain": [
       "<matplotlib.figure.Figure at 0x10a05edd0>"
      ]
     },
     "metadata": {},
     "output_type": "display_data"
    }
   ],
   "source": [
    "data.exog.GPA.hist()"
   ]
  },
  {
   "cell_type": "code",
   "execution_count": 10,
   "metadata": {
    "collapsed": true
   },
   "outputs": [],
   "source": [
    "class MyProbit(GenericLikelihoodModel):\n",
    "    def loglike(self, params):\n",
    "        exog = self.exog\n",
    "        endog = self.endog\n",
    "        q = 2 * endog - 1\n",
    "        return stats.norm.logcdf(q*np.dot(exog, params)).sum()"
   ]
  },
  {
   "cell_type": "code",
   "execution_count": 12,
   "metadata": {
    "collapsed": false
   },
   "outputs": [
    {
     "name": "stdout",
     "output_type": "stream",
     "text": [
      "Optimization terminated successfully.\n",
      "         Current function value: 0.400588\n",
      "         Iterations: 292\n",
      "         Function evaluations: 494\n",
      "                               MyProbit Results                               \n",
      "==============================================================================\n",
      "Dep. Variable:                  GRADE   Log-Likelihood:                -12.819\n",
      "Model:                       MyProbit   AIC:                             33.64\n",
      "Method:            Maximum Likelihood   BIC:                             39.50\n",
      "Date:                Fri, 10 Jun 2016                                         \n",
      "Time:                        17:42:12                                         \n",
      "No. Observations:                  32                                         \n",
      "Df Residuals:                      28                                         \n",
      "Df Model:                           3                                         \n",
      "==============================================================================\n",
      "                 coef    std err          z      P>|z|      [0.025      0.975]\n",
      "------------------------------------------------------------------------------\n",
      "const         -7.4523      2.542     -2.931      0.003     -12.435      -2.469\n",
      "GPA            1.6258      0.694      2.343      0.019       0.266       2.986\n",
      "TUCE           0.0517      0.084      0.617      0.537      -0.113       0.216\n",
      "PSI            1.4263      0.595      2.397      0.017       0.260       2.593\n",
      "==============================================================================\n"
     ]
    }
   ],
   "source": [
    "sm_probit_manual = MyProbit(endog, exog).fit()\n",
    "print(sm_probit_manual.summary())"
   ]
  },
  {
   "cell_type": "code",
   "execution_count": 13,
   "metadata": {
    "collapsed": false
   },
   "outputs": [
    {
     "name": "stdout",
     "output_type": "stream",
     "text": [
      "Optimization terminated successfully.\n",
      "         Current function value: 0.400588\n",
      "         Iterations 6\n"
     ]
    }
   ],
   "source": [
    "sm_probit_canned = sm.Probit(endog, exog).fit()"
   ]
  },
  {
   "cell_type": "code",
   "execution_count": 15,
   "metadata": {
    "collapsed": false
   },
   "outputs": [
    {
     "name": "stdout",
     "output_type": "stream",
     "text": [
      "const   -7.452320\n",
      "GPA      1.625810\n",
      "TUCE     0.051729\n",
      "PSI      1.426332\n",
      "dtype: float64\n",
      "[-7.45233176  1.62580888  0.05172971  1.42631954]\n"
     ]
    }
   ],
   "source": [
    "print(sm_probit_canned.params)\n",
    "print(sm_probit_manual.params)"
   ]
  },
  {
   "cell_type": "code",
   "execution_count": 16,
   "metadata": {
    "collapsed": false
   },
   "outputs": [
    {
     "name": "stdout",
     "output_type": "stream",
     "text": [
      "          const       GPA      TUCE       PSI\n",
      "const  6.464166 -1.169668 -0.101173 -0.594792\n",
      "GPA   -1.169668  0.481473 -0.018914  0.105439\n",
      "TUCE  -0.101173 -0.018914  0.007038  0.002472\n",
      "PSI   -0.594792  0.105439  0.002472  0.354070\n",
      "[[  6.46416770e+00  -1.16966617e+00  -1.01173180e-01  -5.94788993e-01]\n",
      " [ -1.16966617e+00   4.81472116e-01  -1.89134586e-02   1.05438227e-01]\n",
      " [ -1.01173180e-01  -1.89134586e-02   7.03758392e-03   2.47189191e-03]\n",
      " [ -5.94788993e-01   1.05438227e-01   2.47189191e-03   3.54069512e-01]]\n"
     ]
    }
   ],
   "source": [
    "print(sm_probit_canned.cov_params())\n",
    "print(sm_probit_manual.cov_params())"
   ]
  },
  {
   "cell_type": "code",
   "execution_count": null,
   "metadata": {
    "collapsed": true
   },
   "outputs": [],
   "source": []
  }
 ],
 "metadata": {
  "kernelspec": {
   "display_name": "Python 2",
   "language": "python",
   "name": "python2"
  },
  "language_info": {
   "codemirror_mode": {
    "name": "ipython",
    "version": 2
   },
   "file_extension": ".py",
   "mimetype": "text/x-python",
   "name": "python",
   "nbconvert_exporter": "python",
   "pygments_lexer": "ipython2",
   "version": "2.7.11"
  }
 },
 "nbformat": 4,
 "nbformat_minor": 0
}
