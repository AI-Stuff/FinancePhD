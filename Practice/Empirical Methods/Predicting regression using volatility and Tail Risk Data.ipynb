{
 "cells": [
  {
   "cell_type": "code",
   "execution_count": 1,
   "metadata": {
    "collapsed": false
   },
   "outputs": [
    {
     "name": "stdout",
     "output_type": "stream",
     "text": [
      "Populating the interactive namespace from numpy and matplotlib\n"
     ]
    }
   ],
   "source": [
    "import pandas as pd\n",
    "import seaborn as sns\n",
    "import statsmodels.api as sm\n",
    "import statsmodels.formula.api as smf\n",
    "%matplotlib inline\n",
    "%pylab inline\n",
    "pylab.rcParams['figure.figsize'] = (10, 6)\n",
    "\n",
    "dir = '/Users/mrefermat/git/FinancePhD/Empirical Methods/'\n",
    "\n",
    "file1 = 'Copy of PredictorData2014.xlsx'\n",
    "file2 = 'measurestailrisk.xlsx'\n",
    "file3 = 'VRPtable.txt'"
   ]
  },
  {
   "cell_type": "code",
   "execution_count": 45,
   "metadata": {
    "collapsed": false
   },
   "outputs": [],
   "source": [
    "tail_data = pd.read_excel(dir+file2,parse_dates=[[0,1]],index_col=0).resample(rule='m',how='last')\n",
    "vol = pd.read_csv(dir+file3,delim_whitespace=True,parse_dates=[[0,1]],index_col=0).resample(rule='m',how='last')\n",
    "pred = pd.read_excel(dir+file1,sheetname='Monthly',parse_dates=[[0,1]],index_col=0).resample(rule='m',how='last')\n",
    "pred['dy']=np.log(pred.D12 / pred.shift(12).Index)\n",
    "pred['spread']=(pred.BAA-pred.AAA)\n",
    "pred['termspread']=pred.lty-pred.tbl\n",
    "vol['IV']=np.log(vol.IV)\n",
    "vol['RV']=np.log(vol.RV)"
   ]
  },
  {
   "cell_type": "markdown",
   "metadata": {},
   "source": [
    "For this first one I need to find the base case assuming an AR(6) since we are using monthly data.  From this case we can understand how much adding a predictor improves model.  Do to all of the shifting I use data starting from 1991.  Here is the base case regression:\n",
    "\n",
    "$$ \\sigma_t = \\alpha + \\sum_1^6 \\rho_{t,i} \\sigma_{t-i} + \\varepsilon_t $$"
   ]
  },
  {
   "cell_type": "markdown",
   "metadata": {},
   "source": [
    "For each of the volatility measures I will generate the following least squares regressions in order to find out how much predicitive power they are adding to the equation.  The regression just adds one factor (or all as in the case of the 'kitchen sink' approach).  \n",
    "$$ \\sigma_t = \\alpha + \\sum_1^6 \\rho_{t,i} \\sigma_{t-i}  + \\hat{\\beta_t} X_{t-1} + \\varepsilon_t $$"
   ]
  },
  {
   "cell_type": "code",
   "execution_count": 46,
   "metadata": {
    "collapsed": false
   },
   "outputs": [],
   "source": [
    "types_vol=['IV','RV','VRP']\n",
    "r2_values=[]\n",
    "for v in types_vol:\n",
    "    X=pred[['Rfree','dy','spread']].shift()\n",
    "    X['ones']=1\n",
    "    X['T-1']=vol[v].shift()\n",
    "    X['T-2']=vol[v].shift(2)\n",
    "    X['T-3']=vol[v].shift(3)\n",
    "    X['T-4']=vol[v].shift(4)\n",
    "    X['T-5']=vol[v].shift(5)\n",
    "    X['T-6']=vol[v].shift(6)\n",
    "    ar6=['T-1','T-2','T-3','T-4','T-5','T-6','ones']    \n",
    "    r= sm.OLS((vol[v])['1991':],X['1991':][ar6]).fit()\n",
    "    r2_values.append(r.rsquared)    \n",
    "base_r2 = pd.Series(r2_values,index=types_vol)"
   ]
  },
  {
   "cell_type": "code",
   "execution_count": 47,
   "metadata": {
    "collapsed": false
   },
   "outputs": [],
   "source": [
    "types_pred=list(tail_data.columns)\n",
    "r2={}\n",
    "beta={}\n",
    "for v in types_vol:\n",
    "    r2_values=[]\n",
    "    b_values=[]\n",
    "    X=tail_data.shift()\n",
    "    X['ones']=1\n",
    "    X['T-1']=vol[v].shift()\n",
    "    X['T-2']=vol[v].shift(2)\n",
    "    X['T-3']=vol[v].shift(3)\n",
    "    X['T-4']=vol[v].shift(4)\n",
    "    X['T-5']=vol[v].shift(5)\n",
    "    X['T-6']=vol[v].shift(6)\n",
    "    ar6=['T-1','T-2','T-3','T-4','T-5','T-6','ones']\n",
    "    for p in types_pred:\n",
    "        r= sm.OLS((vol[v])['1991':'2013'],X['1991':'2013'][ar6 +[p]]).fit()\n",
    "        r2_values.append(r.rsquared)\n",
    "        b_values.append(r.params[p])\n",
    "    r= sm.OLS((vol[v])['1991':'2013'],X['1991':'2013'][ar6 + types_pred]).fit()\n",
    "    r2_values.append(r.rsquared)                                       \n",
    "    r2[v] = pd.Series(r2_values,index=types_pred + ['Kitchen Sink'])\n",
    "    beta[v] = pd.Series(b_values,index=types_pred)                                       \n",
    "beta = pd.DataFrame(beta) \n",
    "r2 = pd.DataFrame(r2)\n",
    "improved_r2= r2-base_r2"
   ]
  },
  {
   "cell_type": "code",
   "execution_count": 48,
   "metadata": {
    "collapsed": false
   },
   "outputs": [
    {
     "data": {
      "text/plain": [
       "<matplotlib.axes._subplots.AxesSubplot at 0x10c816790>"
      ]
     },
     "execution_count": 48,
     "metadata": {},
     "output_type": "execute_result"
    },
    {
     "data": {
      "image/png": "[encoded data removed]",
      "text/plain": [
       "<matplotlib.figure.Figure at 0x10c820dd0>"
      ]
     },
     "metadata": {},
     "output_type": "display_data"
    }
   ],
   "source": [
    "x=r2.T\n",
    "x['Base']=base_r2\n",
    "x.plot(kind='bar', title='R^2 using the various predictors compared to the base case')"
   ]
  },
  {
   "cell_type": "code",
   "execution_count": 53,
   "metadata": {
    "collapsed": false
   },
   "outputs": [
    {
     "name": "stdout",
     "output_type": "stream",
     "text": [
      "\\begin{tabular}{lrrr}\n",
      "\\toprule\n",
      "{} &        IV &        RV &       VRP \\\\\n",
      "\\midrule\n",
      "Hellinger Tail Risk 1 &  0.938132 &  1.750251 &  0.514175 \\\\\n",
      "Hellinger Tail Risk 2 &  0.933307 &  1.762227 &  0.558086 \\\\\n",
      "Kelly and Jiang       &  0.922909 &  1.769131 &  0.905004 \\\\\n",
      "Kitchen Sink          &  1.027233 &  1.814254 &  1.331600 \\\\\n",
      "\\bottomrule\n",
      "\\end{tabular}\n",
      "\n"
     ]
    }
   ],
   "source": [
    "print (100*improved_r2).to_latex()"
   ]
  },
  {
   "cell_type": "code",
   "execution_count": 50,
   "metadata": {
    "collapsed": false
   },
   "outputs": [
    {
     "data": {
      "text/plain": [
       "<matplotlib.axes._subplots.AxesSubplot at 0x10d0ba2d0>"
      ]
     },
     "execution_count": 50,
     "metadata": {},
     "output_type": "execute_result"
    },
    {
     "data": {
      "image/png": "[encoded data removed]",
      "text/plain": [
       "<matplotlib.figure.Figure at 0x10d096c10>"
      ]
     },
     "metadata": {},
     "output_type": "display_data"
    }
   ],
   "source": [
    "improved_r2.plot(kind='bar',title='Improved R^2')"
   ]
  },
  {
   "cell_type": "code",
   "execution_count": 51,
   "metadata": {
    "collapsed": false
   },
   "outputs": [
    {
     "data": {
      "text/plain": [
       "<matplotlib.axes._subplots.AxesSubplot at 0x10d56bfd0>"
      ]
     },
     "execution_count": 51,
     "metadata": {},
     "output_type": "execute_result"
    },
    {
     "data": {
      "image/png": "[encoded data removed]",
      "text/plain": [
       "<matplotlib.figure.Figure at 0x10d57e090>"
      ]
     },
     "metadata": {},
     "output_type": "display_data"
    }
   ],
   "source": [
    "beta.plot(kind='bar',title='Factor loadings')"
   ]
  },
  {
   "cell_type": "code",
   "execution_count": 39,
   "metadata": {
    "collapsed": false
   },
   "outputs": [
    {
     "name": "stdout",
     "output_type": "stream",
     "text": [
      "                            OLS Regression Results                            \n",
      "==============================================================================\n",
      "Dep. Variable:                    VRP   R-squared:                       0.125\n",
      "Model:                            OLS   Adj. R-squared:                  0.096\n",
      "Method:                 Least Squares   F-statistic:                     4.232\n",
      "Date:                Sat, 04 Jun 2016   Prob (F-statistic):           3.87e-05\n",
      "Time:                        18:51:06   Log-Likelihood:                -1219.0\n",
      "No. Observations:                 276   AIC:                             2458.\n",
      "Df Residuals:                     266   BIC:                             2494.\n",
      "Df Model:                           9                                         \n",
      "Covariance Type:            nonrobust                                         \n",
      "=========================================================================================\n",
      "                            coef    std err          t      P>|t|      [0.025      0.975]\n",
      "-----------------------------------------------------------------------------------------\n",
      "T-1                       0.1880      0.063      2.988      0.003       0.064       0.312\n",
      "T-2                       0.1595      0.062      2.576      0.011       0.038       0.281\n",
      "T-3                       0.0251      0.062      0.406      0.685      -0.097       0.147\n",
      "T-4                      -0.1072      0.062     -1.739      0.083      -0.229       0.014\n",
      "T-5                       0.1305      0.061      2.130      0.034       0.010       0.251\n",
      "T-6                       0.0328      0.060      0.543      0.587      -0.086       0.152\n",
      "ones                      9.9659      2.619      3.805      0.000       4.809      15.122\n",
      "Hellinger Tail Risk 1     1.5348      2.633      0.583      0.560      -3.650       6.720\n",
      "Hellinger Tail Risk 2     0.8739      1.352      0.646      0.519      -1.788       3.535\n",
      "Kelly and Jiang          -2.8092      2.213     -1.269      0.205      -7.167       1.548\n",
      "==============================================================================\n",
      "Omnibus:                      329.101   Durbin-Watson:                   2.021\n",
      "Prob(Omnibus):                  0.000   Jarque-Bera (JB):            46364.437\n",
      "Skew:                          -4.764   Prob(JB):                         0.00\n",
      "Kurtosis:                      65.777   Cond. No.                         129.\n",
      "==============================================================================\n",
      "\n",
      "Warnings:\n",
      "[1] Standard Errors assume that the covariance matrix of the errors is correctly specified.\n"
     ]
    }
   ],
   "source": [
    "print r.summary()"
   ]
  },
  {
   "cell_type": "code",
   "execution_count": null,
   "metadata": {
    "collapsed": true
   },
   "outputs": [],
   "source": []
  }
 ],
 "metadata": {
  "kernelspec": {
   "display_name": "Python 2",
   "language": "python",
   "name": "python2"
  },
  "language_info": {
   "codemirror_mode": {
    "name": "ipython",
    "version": 2
   },
   "file_extension": ".py",
   "mimetype": "text/x-python",
   "name": "python",
   "nbconvert_exporter": "python",
   "pygments_lexer": "ipython2",
   "version": "2.7.11"
  }
 },
 "nbformat": 4,
 "nbformat_minor": 0
}
