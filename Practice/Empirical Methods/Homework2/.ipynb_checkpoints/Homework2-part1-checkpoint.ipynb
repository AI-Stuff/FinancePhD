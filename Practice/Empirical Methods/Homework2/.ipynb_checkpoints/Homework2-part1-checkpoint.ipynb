{
 "cells": [
  {
   "cell_type": "code",
   "execution_count": 1,
   "metadata": {
    "collapsed": false
   },
   "outputs": [
    {
     "name": "stdout",
     "output_type": "stream",
     "text": [
      "Populating the interactive namespace from numpy and matplotlib\n"
     ]
    }
   ],
   "source": [
    "import pandas as pd\n",
    "import seaborn as sns\n",
    "import numpy as np\n",
    "import statsmodels.tsa.vector_ar.var_model as VAR\n",
    "%matplotlib inline\n",
    "%pylab inline\n",
    "pylab.rcParams['figure.figsize'] = (10, 6)\n",
    "\n",
    "dir = '/Users/mrefermat/git/FinancePhD/Empirical Methods/Homework2/'\n",
    "\n",
    "file1 = 'CRSPzero_yields.xls'\n",
    "file2 = 'GDPC1.xls'"
   ]
  },
  {
   "cell_type": "code",
   "execution_count": 2,
   "metadata": {
    "collapsed": false
   },
   "outputs": [],
   "source": [
    "yd=pd.read_excel(dir+file1,parse_dates=0,index_col=0)\n",
    "GDP=pd.read_excel(dir+file2,parse_dates=0,header=17,index_col=0)\n",
    "X=pd.DataFrame()"
   ]
  },
  {
   "cell_type": "code",
   "execution_count": 4,
   "metadata": {
    "collapsed": false
   },
   "outputs": [],
   "source": [
    "X['Short']= yd.yldave3mth.resample(rule='q',how='last')['1953':]\n",
    "X['TermSpread']= yd.FByield5yr.resample(rule='q',how='last')['1953':]-X.Short\n",
    "X['GDP']= GDP.resample(rule='q',how='last')['1953':]"
   ]
  },
  {
   "cell_type": "markdown",
   "metadata": {},
   "source": [
    "First regression is to find $\\Phi$, $\\mu$, and $\\Sigma$ via the VAR formula:\n",
    "\n",
    "$$ X_t = \\mu + \\Phi X_{t-1} - \\Sigma \\varepsilon_t $$"
   ]
  },
  {
   "cell_type": "code",
   "execution_count": 5,
   "metadata": {
    "collapsed": false
   },
   "outputs": [
    {
     "name": "stdout",
     "output_type": "stream",
     "text": [
      "  Summary of Regression Results   \n",
      "==================================\n",
      "Model:                         VAR\n",
      "Method:                        OLS\n",
      "Date:           Sat, 09, Jul, 2016\n",
      "Time:                     07:02:24\n",
      "--------------------------------------------------------------------\n",
      "No. of Equations:         3.00000    BIC:                   0.991920\n",
      "Nobs:                     219.000    HQIC:                  0.881217\n",
      "Log likelihood:          -1008.52    FPE:                    2.23945\n",
      "AIC:                     0.806217    Det(Omega_mle):         2.12109\n",
      "--------------------------------------------------------------------\n",
      "Results for equation Short\n",
      "================================================================================\n",
      "                   coefficient       std. error           t-stat            prob\n",
      "--------------------------------------------------------------------------------\n",
      "const                 0.111419         0.182388            0.611           0.542\n",
      "L1.Short              0.951492         0.024293           39.167           0.000\n",
      "L1.TermSpread         0.094983         0.067903            1.399           0.163\n",
      "L1.GDP                0.016016         0.017783            0.901           0.369\n",
      "================================================================================\n",
      "\n",
      "Results for equation TermSpread\n",
      "================================================================================\n",
      "                   coefficient       std. error           t-stat            prob\n",
      "--------------------------------------------------------------------------------\n",
      "const                 0.163929         0.126218            1.299           0.195\n",
      "L1.Short              0.016889         0.016812            1.005           0.316\n",
      "L1.TermSpread         0.775789         0.046991           16.509           0.000\n",
      "L1.GDP               -0.010022         0.012306           -0.814           0.416\n",
      "================================================================================\n",
      "\n",
      "Results for equation GDP\n",
      "================================================================================\n",
      "                   coefficient       std. error           t-stat            prob\n",
      "--------------------------------------------------------------------------------\n",
      "const                 2.448012         0.652407            3.752           0.000\n",
      "L1.Short             -0.127231         0.086897           -1.464           0.145\n",
      "L1.TermSpread         0.417479         0.242890            1.719           0.087\n",
      "L1.GDP                0.303423         0.063609            4.770           0.000\n",
      "================================================================================\n",
      "\n",
      "Correlation matrix of residuals\n",
      "                 Short  TermSpread       GDP\n",
      "Short         1.000000   -0.723918  0.236627\n",
      "TermSpread   -0.723918    1.000000 -0.054769\n",
      "GDP           0.236627   -0.054769  1.000000\n",
      "\n",
      "\n",
      "\n"
     ]
    }
   ],
   "source": [
    "res = VAR.VAR(endog=X).fit()\n",
    "print res.summary()"
   ]
  },
  {
   "cell_type": "markdown",
   "metadata": {},
   "source": [
    "Notes:\n",
    "\n",
    "  Page 8 of the Ang paper has the model and page 36 has the details\n",
    "  GDP data is quarterly so you will have to do this on quartly data\n",
    "  \n",
    "State Variables follow Gaussian vector autoregression with one lag:\n",
    "\n",
    "$$ X_t = \\mu + \\Phi X_{t-1} - \\Sigma \\varepsilon_t $$\n",
    "\n",
    "The pricing kernal is something we should be familiar with is:\n",
    "\n",
    "$$ m_{t+1} = \\exp \\left (-y_t^{(1)} - \\frac{1}{2}\\lambda_t^T \\lambda_t - \\lambda_t^T \\varepsilon_{t+1} \\right ) $$\n",
    "\n",
    "where $\\lambda_t$ are the market prices of risk for various shocks and $\\lambda_t$ has a relation to the state variables by:\n",
    "\n",
    "$$\\lambda_t = \\lambda_0 + \\lambda_1 X_t$$\n",
    "\n",
    "This all means that $\\Theta = (\\mu,\\Phi, \\Sigma, \\lambda_0, \\lambda_1)$."
   ]
  },
  {
   "cell_type": "code",
   "execution_count": null,
   "metadata": {
    "collapsed": true
   },
   "outputs": [],
   "source": []
  }
 ],
 "metadata": {
  "kernelspec": {
   "display_name": "Python 2",
   "language": "python",
   "name": "python2"
  },
  "language_info": {
   "codemirror_mode": {
    "name": "ipython",
    "version": 2
   },
   "file_extension": ".py",
   "mimetype": "text/x-python",
   "name": "python",
   "nbconvert_exporter": "python",
   "pygments_lexer": "ipython2",
   "version": "2.7.11"
  }
 },
 "nbformat": 4,
 "nbformat_minor": 0
}
