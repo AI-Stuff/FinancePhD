{
 "cells": [
  {
   "cell_type": "code",
   "execution_count": 1,
   "metadata": {
    "collapsed": false
   },
   "outputs": [
    {
     "name": "stdout",
     "output_type": "stream",
     "text": [
      "Populating the interactive namespace from numpy and matplotlib\n"
     ]
    }
   ],
   "source": [
    "import pandas as pd\n",
    "import seaborn as sns\n",
    "import statsmodels.api as sm\n",
    "from scipy import stats\n",
    "%matplotlib inline\n",
    "%pylab inline\n",
    "pylab.rcParams['figure.figsize'] = (10, 6)\n",
    "\n",
    "dir = '/Users/mrefermat/git/FinancePhD/Empirical Methods/Homework2/'\n",
    "\n",
    "file1 = 'CRSPzero_yields.xls'\n",
    "file2 = 'GDPC1.xls'\n",
    "file3 = 'Factors(1).xlsx'\n",
    "file4 = 'FoF.xlsx'\n",
    "file5 = 'tbill.csv'"
   ]
  },
  {
   "cell_type": "code",
   "execution_count": 2,
   "metadata": {
    "collapsed": true
   },
   "outputs": [],
   "source": [
    "# Code from: http://nbviewer.jupyter.org/gist/aflaxman/6871948\n",
    "# randomly resamples Series and returns it\n",
    "def bootstrap_resample(X, n=None):\n",
    "    \"\"\" Bootstrap resample an array_like\n",
    "    Parameters\n",
    "    ----------\n",
    "    X : array_like\n",
    "      data to resample\n",
    "    n : int, optional\n",
    "      length of resampled array, equal to len(X) if n==None\n",
    "    Results\n",
    "    -------\n",
    "    returns X_resamples\n",
    "    \"\"\"\n",
    "    if isinstance(X, pd.Series):\n",
    "        X = X.copy()\n",
    "        X.index = range(len(X.index))\n",
    "    if n == None:\n",
    "        n = len(X)\n",
    "        \n",
    "    resample_i = np.floor(np.random.rand(n)*len(X)).astype(int)\n",
    "    X_resample = np.array(X[resample_i])  # TODO: write a test demonstrating why array() is important\n",
    "    return X_resample\n"
   ]
  },
  {
   "cell_type": "code",
   "execution_count": 97,
   "metadata": {
    "collapsed": false
   },
   "outputs": [],
   "source": [
    "tbill=pd.read_csv(dir+file5,parse_dates=0,index_col=0).resample(rule='m',how='last')\n",
    "factors=pd.read_excel(dir+file3,parse_dates=0,header=4,index_col=0).resample(rule='m',how='last')\n",
    "FoF=pd.read_excel(dir+file4,parse_dates=0,index_col=0).resample(rule='m',how='last')"
   ]
  },
  {
   "cell_type": "markdown",
   "metadata": {},
   "source": [
    "Since we use excess returns in the regression, we need to take away 30 day cash returns."
   ]
  },
  {
   "cell_type": "code",
   "execution_count": 98,
   "metadata": {
    "collapsed": false,
    "scrolled": true
   },
   "outputs": [],
   "source": [
    "FoF=FoF-tbill.t30ret*100"
   ]
  },
  {
   "cell_type": "markdown",
   "metadata": {},
   "source": [
    "To calculate $\\alpha$ for each fund and it's relevent t-stat, I use the benhcmakr model of Fung and Hsieh (RFS, 2001):\n",
    "\n",
    "$$ rexc_{i,t} = \\alpha_i + \\beta_i^1SNPexc_t+B_i^2SML_t+\\beta_i^3MSCIem_t + \\beta_i^4RBD10_t + \\beta_+i^5BAAMBD10_t + \\beta_i^6PTFSBD_t + \\beta_i^7PTFSFX_t + \\beta_i^8PTFSCOM_t + \\varepsilon_{i,t} $$\n",
    "\n",
    "I selected funds with only five years of fund performance in line with BSW for two reasons.  First to match exactly their procedure, but secondly because 5 years allows for the fund to see many different types of market environments.  I don't want to select funds just because they happen to launch at the right time.  Of the FoF list of 6392 names I only get 3101 with at least 5 yeras of data (continous or not)."
   ]
  },
  {
   "cell_type": "code",
   "execution_count": 42,
   "metadata": {
    "collapsed": false
   },
   "outputs": [],
   "source": [
    "beta=pd.DataFrame()\n",
    "t_stats=pd.DataFrame()\n",
    "p_values=pd.DataFrame()\n",
    "r2= pd.Series()\n",
    "for f in FoF.columns:\n",
    "    df = pd.DataFrame()\n",
    "    df['Fund']=FoF[f].dropna()\n",
    "    if df.Fund.count() < 60:\n",
    "        continue\n",
    "    df=pd.concat([df,factors],axis=1, join='inner')\n",
    "    df['Alpha']=1\n",
    "    cols= factors.columns.tolist()\n",
    "    cols.append('Alpha')\n",
    "    res = sm.OLS(df.Fund,df[cols]).fit()\n",
    "    beta[f]=res.params\n",
    "    t_stats[f]=res.tvalues\n",
    "    p_values[f]=res.pvalues\n",
    "    r2[f]=res.rsquared"
   ]
  },
  {
   "cell_type": "code",
   "execution_count": 6,
   "metadata": {
    "collapsed": false
   },
   "outputs": [
    {
     "data": {
      "text/plain": [
       "Equity market factor       -3.441294\n",
       "Size Spread factor          0.394232\n",
       "Bond market factor         27.569260\n",
       "Credit Spread factor     -189.273722\n",
       "PTFSBD                     -0.390284\n",
       "PTFSFX                      0.282721\n",
       "PTFSCOM                     0.570708\n",
       "Emerging Market factor     15.179668\n",
       "Alpha                      -0.010674\n",
       "dtype: float64"
      ]
     },
     "execution_count": 6,
     "metadata": {},
     "output_type": "execute_result"
    }
   ],
   "source": [
    "beta.T.mean()"
   ]
  },
  {
   "cell_type": "code",
   "execution_count": 7,
   "metadata": {
    "collapsed": false
   },
   "outputs": [
    {
     "data": {
      "text/plain": [
       "Equity market factor     -0.551242\n",
       "Size Spread factor        0.160711\n",
       "Bond market factor        0.306786\n",
       "Credit Spread factor     -2.291481\n",
       "PTFSBD                   -0.432450\n",
       "PTFSFX                    0.245363\n",
       "PTFSCOM                   0.378847\n",
       "Emerging Market factor    4.043323\n",
       "Alpha                     0.606405\n",
       "dtype: float64"
      ]
     },
     "execution_count": 7,
     "metadata": {},
     "output_type": "execute_result"
    }
   ],
   "source": [
    "t_stats.T.mean()"
   ]
  },
  {
   "cell_type": "markdown",
   "metadata": {},
   "source": [
    "# $\\alpha$ and T stat distribution\n",
    "\n",
    "Note how high some of the alpha terms are"
   ]
  },
  {
   "cell_type": "code",
   "execution_count": 8,
   "metadata": {
    "collapsed": false
   },
   "outputs": [
    {
     "data": {
      "text/plain": [
       "<matplotlib.axes._subplots.AxesSubplot at 0x109e6c7d0>"
      ]
     },
     "execution_count": 8,
     "metadata": {},
     "output_type": "execute_result"
    },
    {
     "data": {
      "image/png": "[encoded data removed]",
      "text/plain": [
       "<matplotlib.figure.Figure at 0x10430f290>"
      ]
     },
     "metadata": {},
     "output_type": "display_data"
    }
   ],
   "source": [
    "sns.distplot(beta.T.Alpha)"
   ]
  },
  {
   "cell_type": "markdown",
   "metadata": {},
   "source": [
    "# Model\n",
    "\n",
    "The model tries to understand a set of unknown parameters: $\\theta = [ \\pi_b, \\pi_g,\\alpha_b,\\alpha_g, \\beta_b, \\beta_g, \\delta_b, \\delta,g]$.  Where:\n",
    "\n",
    "$\\pi$ is the percentage of funds with high and low (negative) alpha\n",
    "\n",
    "$\\alpha$ is the expected alpha for higher and lower buckets of funds \n",
    "\n",
    "$\\beta$ is the fraction of the simulated t-ratios above a threshold t-ratio\n",
    "\n",
    "$\\delta$ is the confusion parameter is the fraction of funds below the lower threshold t-ratio where the fund is actually bucketed in the wrong catagory\n",
    "\n",
    "The first issue is coming up with the size of the test, $\\gamma/2$.\n",
    "\n",
    "# Step 1\n",
    "Create simulated data and find the values for $t_g$ and $t_b$ based on the $\\gamma/2$, which we will use 10%.  \n"
   ]
  },
  {
   "cell_type": "code",
   "execution_count": 49,
   "metadata": {
    "collapsed": false
   },
   "outputs": [],
   "source": [
    "gamma = 10\n",
    "t_b =-1*stats.t.ppf(1-(gamma/200.),999)  \n",
    "t_g =stats.t.ppf(1-(gamma/200.),999) \n",
    "alpha_g=beta.T.Alpha[beta.T.Alpha>0].mean()\n",
    "alpha_b=beta.T.Alpha[beta.T.Alpha<0].mean()"
   ]
  },
  {
   "cell_type": "markdown",
   "metadata": {
    "collapsed": false
   },
   "source": [
    "# Step 2\n",
    "Percentage funds above $t_g$ is equal to $\\beta_g$ and likewise for the bad funds.  But this is for $\\alpha_g>0$."
   ]
  },
  {
   "cell_type": "code",
   "execution_count": 32,
   "metadata": {
    "collapsed": true
   },
   "outputs": [],
   "source": [
    "#FoF=FoF-tbill.t30ret*100\n",
    "step_2=FoF"
   ]
  },
  {
   "cell_type": "code",
   "execution_count": 99,
   "metadata": {
    "collapsed": false
   },
   "outputs": [],
   "source": [
    "pi = 0\n",
    "beta_step2=pd.DataFrame()\n",
    "t_stats_step2=pd.DataFrame()\n",
    "p_values_step2=pd.DataFrame()\n",
    "r2_step2= pd.Series()\n",
    "for f in FoF.columns:\n",
    "    df = pd.DataFrame()\n",
    "    df['Fund']=FoF[f].dropna()\n",
    "    if df.Fund.count() < 60:\n",
    "        continue\n",
    "    adjusted_alpha =0\n",
    "    if rand()>pi:\n",
    "        adjusted_alpha = alpha_g\n",
    "    # Adjusting the excess return by removing the estimated alpha then adding back the alpha\n",
    "    df['Fund']=df['Fund']+adjusted_alpha-beta[f].Alpha\n",
    "    df=pd.concat([df,factors],axis=1, join='inner')\n",
    "    df['Alpha']=1\n",
    "    cols= factors.columns.tolist()\n",
    "    cols.append('Alpha')\n",
    "    res = sm.OLS(df.Fund,df[cols]).fit()\n",
    "    beta_step2[f]=res.params\n",
    "    t_stats_step2[f]=res.tvalues\n",
    "    p_values_step2[f]=res.pvalues\n",
    "    r2_step2[f]=res.rsquared"
   ]
  },
  {
   "cell_type": "code",
   "execution_count": 100,
   "metadata": {
    "collapsed": false
   },
   "outputs": [
    {
     "data": {
      "text/plain": [
       "<matplotlib.axes._subplots.AxesSubplot at 0x116d377d0>"
      ]
     },
     "execution_count": 100,
     "metadata": {},
     "output_type": "execute_result"
    },
    {
     "data": {
      "image/png": "[encoded data removed]",
      "text/plain": [
       "<matplotlib.figure.Figure at 0x1098eed10>"
      ]
     },
     "metadata": {},
     "output_type": "display_data"
    }
   ],
   "source": [
    "beta_g= len(t_stats_step2.T.Alpha[t_stats_step2.T.Alpha>t_g]) / float(len(t_stats_step2.T.Alpha))\n",
    "delta_b= len(t_stats_step2.T.Alpha[t_stats_step2.T.Alpha<t_b]) / float(len(t_stats_step2.T.Alpha))\n",
    "sns.distplot(t_stats_step2.T.Alpha)"
   ]
  },
  {
   "cell_type": "code",
   "execution_count": 101,
   "metadata": {
    "collapsed": false
   },
   "outputs": [
    {
     "data": {
      "text/plain": [
       "0.0"
      ]
     },
     "execution_count": 101,
     "metadata": {},
     "output_type": "execute_result"
    }
   ],
   "source": [
    "delta_b"
   ]
  },
  {
   "cell_type": "markdown",
   "metadata": {
    "collapsed": true
   },
   "source": [
    "# Step 3\n",
    "Percentage funds below $t_b$ is equal to $\\beta_b$ and likewise for the bad funds.  But this is for $\\alpha_b<0$."
   ]
  },
  {
   "cell_type": "code",
   "execution_count": 87,
   "metadata": {
    "collapsed": true
   },
   "outputs": [],
   "source": [
    "pi = .5\n",
    "beta_step3=pd.DataFrame()\n",
    "t_stats_step3=pd.DataFrame()\n",
    "p_values_step3=pd.DataFrame()\n",
    "r2_step3= pd.Series()\n",
    "for f in FoF.columns:\n",
    "    df = pd.DataFrame()\n",
    "    df['Fund']=FoF[f].dropna()\n",
    "    if df.Fund.count() < 60:\n",
    "        continue\n",
    "    adjusted_alpha =0\n",
    "    if rand()>pi:\n",
    "        adjusted_alpha = alpha_b\n",
    "    # Adjusting the excess return by removing the estimated alpha then adding back the alpha\n",
    "    df['Fund']=df['Fund']+adjusted_alpha-beta[f].Alpha\n",
    "    df=pd.concat([df,factors],axis=1, join='inner')\n",
    "    df['Alpha']=1\n",
    "    cols= factors.columns.tolist()\n",
    "    cols.append('Alpha')\n",
    "    res = sm.OLS(df.Fund,df[cols]).fit()\n",
    "    beta_step3[f]=res.params\n",
    "    t_stats_step3[f]=res.tvalues\n",
    "    p_values_step3[f]=res.pvalues\n",
    "    r2_step3[f]=res.rsquared"
   ]
  },
  {
   "cell_type": "code",
   "execution_count": 88,
   "metadata": {
    "collapsed": false
   },
   "outputs": [
    {
     "data": {
      "text/plain": [
       "Date\n",
       "2006-10-31     0.899696\n",
       "2006-11-30     2.041004\n",
       "2006-12-31     2.550363\n",
       "2007-01-31     1.759392\n",
       "2007-02-28     1.160633\n",
       "2007-03-31     1.873096\n",
       "2007-04-30     3.371396\n",
       "2007-05-31     3.318428\n",
       "2007-06-30     1.208075\n",
       "2007-07-31     0.909013\n",
       "2007-08-31    -1.899081\n",
       "2007-09-30     2.722237\n",
       "2007-10-31     3.379178\n",
       "2007-11-30    -3.574410\n",
       "2007-12-31     1.271721\n",
       "2008-01-31    -2.231320\n",
       "2008-02-29     2.904630\n",
       "2008-03-31    -2.855827\n",
       "2008-04-30     2.380915\n",
       "2008-05-31     2.733117\n",
       "2008-06-30    -2.566108\n",
       "2008-07-31    -3.528084\n",
       "2008-08-31    -1.915299\n",
       "2008-09-30    -7.376018\n",
       "2008-10-31   -10.918181\n",
       "2008-11-30     0.358052\n",
       "2008-12-31     0.692371\n",
       "2009-01-31     4.699050\n",
       "2009-02-28     0.029666\n",
       "2009-03-31     1.178943\n",
       "                ...    \n",
       "2009-07-31     4.009159\n",
       "2009-08-31     3.167553\n",
       "2009-09-30     2.841985\n",
       "2009-10-31     0.415374\n",
       "2009-11-30     3.134125\n",
       "2009-12-31     2.128995\n",
       "2010-01-31     0.651116\n",
       "2010-02-28     1.928929\n",
       "2010-03-31     4.661947\n",
       "2010-04-30     2.479123\n",
       "2010-05-31    -3.108416\n",
       "2010-06-30     0.356588\n",
       "2010-07-31     1.815233\n",
       "2010-08-31     1.524724\n",
       "2010-09-30     4.550124\n",
       "2010-10-31     3.280945\n",
       "2010-11-30    -0.561668\n",
       "2010-12-31     4.488055\n",
       "2011-01-31     0.372800\n",
       "2011-02-28     2.637836\n",
       "2011-03-31    -0.003691\n",
       "2011-04-30     2.639637\n",
       "2011-05-31     0.399673\n",
       "2011-06-30    -1.018215\n",
       "2011-07-31     1.493683\n",
       "2011-08-31    -3.261016\n",
       "2011-09-30    -3.370430\n",
       "2011-10-31     4.499122\n",
       "2011-11-30    -2.043325\n",
       "2011-12-31     0.841786\n",
       "Freq: M, Name: Fund, dtype: float64"
      ]
     },
     "execution_count": 88,
     "metadata": {},
     "output_type": "execute_result"
    }
   ],
   "source": [
    "df['Fund']+alpha_g-beta[f].Alpha"
   ]
  },
  {
   "cell_type": "code",
   "execution_count": 89,
   "metadata": {
    "collapsed": false
   },
   "outputs": [
    {
     "data": {
      "text/plain": [
       "<matplotlib.axes._subplots.AxesSubplot at 0x113492910>"
      ]
     },
     "execution_count": 89,
     "metadata": {},
     "output_type": "execute_result"
    },
    {
     "data": {
      "image/png": "[encoded data removed]",
      "text/plain": [
       "<matplotlib.figure.Figure at 0x10f22a710>"
      ]
     },
     "metadata": {},
     "output_type": "display_data"
    }
   ],
   "source": [
    "beta_b= len(t_stats_step3.T.Alpha[t_stats_step3.T.Alpha<t_b]) / float(len(t_stats_step3.T.Alpha))\n",
    "delta_g= len(t_stats_step3.T.Alpha[t_stats_step3.T.Alpha>t_g]) / float(len(t_stats_step3.T.Alpha))\n",
    "sns.distplot(t_stats_step3.T.Alpha)"
   ]
  },
  {
   "cell_type": "code",
   "execution_count": 90,
   "metadata": {
    "collapsed": false
   },
   "outputs": [
    {
     "data": {
      "text/plain": [
       "0.0"
      ]
     },
     "execution_count": 90,
     "metadata": {},
     "output_type": "execute_result"
    }
   ],
   "source": [
    "delta_g"
   ]
  },
  {
   "cell_type": "code",
   "execution_count": null,
   "metadata": {
    "collapsed": true
   },
   "outputs": [],
   "source": []
  }
 ],
 "metadata": {
  "kernelspec": {
   "display_name": "Python 2",
   "language": "python",
   "name": "python2"
  },
  "language_info": {
   "codemirror_mode": {
    "name": "ipython",
    "version": 2
   },
   "file_extension": ".py",
   "mimetype": "text/x-python",
   "name": "python",
   "nbconvert_exporter": "python",
   "pygments_lexer": "ipython2",
   "version": "2.7.11"
  }
 },
 "nbformat": 4,
 "nbformat_minor": 0
}
