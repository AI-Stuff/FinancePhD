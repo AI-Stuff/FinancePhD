{
 "cells": [
  {
   "cell_type": "code",
   "execution_count": 152,
   "metadata": {
    "collapsed": false
   },
   "outputs": [
    {
     "name": "stdout",
     "output_type": "stream",
     "text": [
      "Populating the interactive namespace from numpy and matplotlib\n"
     ]
    },
    {
     "name": "stderr",
     "output_type": "stream",
     "text": [
      "WARNING: pylab import has clobbered these variables: ['beta']\n",
      "`%matplotlib` prevents importing * from pylab and numpy\n"
     ]
    }
   ],
   "source": [
    "import pandas as pd\n",
    "import seaborn as sns\n",
    "import statsmodels.api as sm\n",
    "import statsmodels.formula.api as smf\n",
    "import numpy as np\n",
    "%matplotlib inline\n",
    "%pylab inline\n",
    "pylab.rcParams['figure.figsize'] = (10, 6)\n",
    "\n",
    "dir = '/Users/mrefermat/git/FinancePhD/Empirical Methods/'\n",
    "\n",
    "file1 = 'Copy of PredictorData2014.xlsx'\n",
    "file2 = 'measurestailrisk.xlsx'\n",
    "file3 = 'VRPtable.txt'"
   ]
  },
  {
   "cell_type": "code",
   "execution_count": 281,
   "metadata": {
    "collapsed": false
   },
   "outputs": [],
   "source": [
    "tail_data = pd.read_excel(dir+file2,parse_dates=[[0,1]],index_col=0).resample(rule='m',how='last')\n",
    "vol = pd.read_csv(dir+file3,delim_whitespace=True,parse_dates=[[0,1]],index_col=0).resample(rule='m',how='last')\n",
    "pred = pd.read_excel(dir+file1,sheetname='Monthly',parse_dates=[[0,1]],index_col=0).resample(rule='m',how='last')\n",
    "pred['dy']=np.log(pred.D12 / pred.shift(12).Index    )\n",
    "pred['spread']=(pred.BAA-pred.AAA)\n",
    "pred['termspread']=pred.lty-pred.tbl\n",
    "vol['IV']=np.log(vol.IV)\n",
    "vol['RV']=np.log(vol.RV)"
   ]
  },
  {
   "cell_type": "markdown",
   "metadata": {},
   "source": [
    "For this first one I need to find the base case assuming an AR(6) since we are using monthly data.  From this case we can understand how much adding a predictor improves model.  Do to all of the shifting I use data starting from 1991.  Here is the base case regression:\n",
    "\n",
    "$$ \\sigma_t = \\alpha + \\sum_1^6 \\rho_{t,i} \\sigma_{t-i} + \\varepsilon_t $$"
   ]
  },
  {
   "cell_type": "markdown",
   "metadata": {},
   "source": [
    "For each of the volatility measures I will generate the following least squares regressions in order to find out how much predicitive power they are adding to the equation.  The regression just adds one factor (or all as in the case of the 'kitchen sink' approach).  \n",
    "$$ \\sigma_t = \\alpha + \\sum_1^6 \\rho_{t,i} \\sigma_{t-i}  + \\hat{\\beta_t} X_{t-1} + \\varepsilon_t $$"
   ]
  },
  {
   "cell_type": "code",
   "execution_count": 291,
   "metadata": {
    "collapsed": false
   },
   "outputs": [],
   "source": [
    "types_vol=['IV','RV','VRP']\n",
    "r2_values=[]\n",
    "for v in types_vol:\n",
    "    X=pred[['Rfree','dy','spread','termspread']].shift()\n",
    "    X['ones']=1\n",
    "    X['T-1']=vol[v].shift()\n",
    "    X['T-2']=vol[v].shift(2)\n",
    "    X['T-3']=vol[v].shift(3)\n",
    "    X['T-4']=vol[v].shift(4)\n",
    "    X['T-5']=vol[v].shift(5)\n",
    "    X['T-6']=vol[v].shift(6)\n",
    "    ar6=['T-1','T-2','T-3','T-4','T-5','T-6','ones']    \n",
    "    r= sm.OLS((vol[v])['1991':],X['1991':][ar6]).fit()\n",
    "    r2_values.append(r.rsquared)    \n",
    "base_r2 = pd.Series(r2_values,index=types_vol)"
   ]
  },
  {
   "cell_type": "code",
   "execution_count": 292,
   "metadata": {
    "collapsed": false
   },
   "outputs": [],
   "source": [
    "types_pred=['Rfree','dy','spread','termspread']\n",
    "r2={}\n",
    "beta={}\n",
    "for v in types_vol:\n",
    "    r2_values=[]\n",
    "    b_values=[]\n",
    "    X=pred[['Rfree','dy','spread','termspread']].shift()\n",
    "    X['ones']=1\n",
    "    X['T-1']=vol[v].shift()\n",
    "    X['T-2']=vol[v].shift(2)\n",
    "    X['T-3']=vol[v].shift(3)\n",
    "    X['T-4']=vol[v].shift(4)\n",
    "    X['T-5']=vol[v].shift(5)\n",
    "    X['T-6']=vol[v].shift(6)\n",
    "    ar6=['T-1','T-2','T-3','T-4','T-5','T-6','ones']\n",
    "    for p in types_pred:\n",
    "        r= sm.OLS((vol[v])['1991':],X['1991':][ar6 +[p]]).fit()\n",
    "        r2_values.append(r.rsquared)\n",
    "        b_values.append(r.params[p])\n",
    "    r= sm.OLS((vol[v])['1991':],X['1991':][ar6 + types_pred]).fit()\n",
    "    r2_values.append(r.rsquared)                                       \n",
    "    r2[v] = pd.Series(r2_values,index=types_pred + ['Kitchen Sink'])\n",
    "    beta[v] = pd.Series(b_values,index=types_pred)                                       \n",
    "beta = pd.DataFrame(beta) \n",
    "r2 = pd.DataFrame(r2)\n",
    "improved_r2= r2-base_r2"
   ]
  },
  {
   "cell_type": "code",
   "execution_count": 293,
   "metadata": {
    "collapsed": false
   },
   "outputs": [
    {
     "data": {
      "text/plain": [
       "<matplotlib.axes._subplots.AxesSubplot at 0x118b55350>"
      ]
     },
     "execution_count": 293,
     "metadata": {},
     "output_type": "execute_result"
    },
    {
     "data": {
      "image/png": "[encoded data removed]",
      "text/plain": [
       "<matplotlib.figure.Figure at 0x118c68c10>"
      ]
     },
     "metadata": {},
     "output_type": "display_data"
    }
   ],
   "source": [
    "x=r2.T\n",
    "x['Base']=base_r2\n",
    "x.plot(kind='bar', title='R^2 using the various predictors compared to the base case')"
   ]
  },
  {
   "cell_type": "code",
   "execution_count": 295,
   "metadata": {
    "collapsed": false
   },
   "outputs": [
    {
     "name": "stdout",
     "output_type": "stream",
     "text": [
      "\\begin{tabular}{lrrr}\n",
      "\\toprule\n",
      "{} &        IV &        RV &       VRP \\\\\n",
      "\\midrule\n",
      "Rfree        &  0.014062 &  0.036658 &  0.023134 \\\\\n",
      "dy           &  0.335409 &  0.513435 &  0.741368 \\\\\n",
      "spread       &  0.000430 &  0.007690 &  1.093282 \\\\\n",
      "termspread   &  0.113083 &  0.271556 &  0.011670 \\\\\n",
      "Kitchen Sink &  0.387095 &  0.710731 &  2.126586 \\\\\n",
      "\\bottomrule\n",
      "\\end{tabular}\n",
      "\n"
     ]
    }
   ],
   "source": [
    "print (improved_r2*100).to_latex()\n"
   ]
  },
  {
   "cell_type": "code",
   "execution_count": 296,
   "metadata": {
    "collapsed": false
   },
   "outputs": [
    {
     "data": {
      "text/plain": [
       "<matplotlib.axes._subplots.AxesSubplot at 0x11900af10>"
      ]
     },
     "execution_count": 296,
     "metadata": {},
     "output_type": "execute_result"
    },
    {
     "data": {
      "image/png": "[encoded data removed]",
      "text/plain": [
       "<matplotlib.figure.Figure at 0x119069d10>"
      ]
     },
     "metadata": {},
     "output_type": "display_data"
    }
   ],
   "source": [
    "improved_r2.plot(kind='bar',title='Improved R^2')"
   ]
  },
  {
   "cell_type": "code",
   "execution_count": 297,
   "metadata": {
    "collapsed": false
   },
   "outputs": [
    {
     "data": {
      "text/plain": [
       "<matplotlib.axes._subplots.AxesSubplot at 0x1191ae690>"
      ]
     },
     "execution_count": 297,
     "metadata": {},
     "output_type": "execute_result"
    },
    {
     "data": {
      "image/png": "[encoded data removed]",
      "text/plain": [
       "<matplotlib.figure.Figure at 0x11925f750>"
      ]
     },
     "metadata": {},
     "output_type": "display_data"
    }
   ],
   "source": [
    "beta.plot(kind='bar',title='Factor loadings')"
   ]
  },
  {
   "cell_type": "code",
   "execution_count": 298,
   "metadata": {
    "collapsed": false
   },
   "outputs": [
    {
     "name": "stdout",
     "output_type": "stream",
     "text": [
      "                            OLS Regression Results                            \n",
      "==============================================================================\n",
      "Dep. Variable:                    VRP   R-squared:                       0.126\n",
      "Model:                            OLS   Adj. R-squared:                  0.104\n",
      "Method:                 Least Squares   F-statistic:                     5.706\n",
      "Date:                Sun, 05 Jun 2016   Prob (F-statistic):           3.53e-06\n",
      "Time:                        08:02:08   Log-Likelihood:                -1264.4\n",
      "No. Observations:                 286   AIC:                             2545.\n",
      "Df Residuals:                     278   BIC:                             2574.\n",
      "Df Model:                           7                                         \n",
      "Covariance Type:            nonrobust                                         \n",
      "==============================================================================\n",
      "                 coef    std err          t      P>|t|      [0.025      0.975]\n",
      "------------------------------------------------------------------------------\n",
      "T-1            0.2107      0.060      3.517      0.001       0.093       0.329\n",
      "T-2            0.1807      0.061      2.976      0.003       0.061       0.300\n",
      "T-3            0.0206      0.061      0.335      0.738      -0.100       0.141\n",
      "T-4           -0.1127      0.061     -1.837      0.067      -0.234       0.008\n",
      "T-5            0.1357      0.061      2.234      0.026       0.016       0.255\n",
      "T-6            0.0355      0.060      0.594      0.553      -0.082       0.153\n",
      "ones          -3.7713     15.238     -0.247      0.805     -33.768      26.225\n",
      "dy            -3.3521      3.987     -0.841      0.401     -11.200       4.496\n",
      "==============================================================================\n",
      "Omnibus:                      322.510   Durbin-Watson:                   2.002\n",
      "Prob(Omnibus):                  0.000   Jarque-Bera (JB):            41990.871\n",
      "Skew:                          -4.367   Prob(JB):                         0.00\n",
      "Kurtosis:                      61.715   Cond. No.                         683.\n",
      "==============================================================================\n",
      "\n",
      "Warnings:\n",
      "[1] Standard Errors assume that the covariance matrix of the errors is correctly specified.\n"
     ]
    }
   ],
   "source": [
    "v='VRP'\n",
    "X['ones']=1\n",
    "X['T-1']=vol[v].shift()\n",
    "X['T-2']=vol[v].shift(2)\n",
    "X['T-3']=vol[v].shift(3)\n",
    "X['T-4']=vol[v].shift(4)\n",
    "X['T-5']=vol[v].shift(5)\n",
    "X['T-6']=vol[v].shift(6)\n",
    "r= sm.OLS((vol[v])['1990-7':'2014-4'],X['1990-7':'2014-4'][ar6 + ['dy']  ]).fit()\n",
    "print r.summary()"
   ]
  },
  {
   "cell_type": "code",
   "execution_count": null,
   "metadata": {
    "collapsed": true
   },
   "outputs": [],
   "source": []
  }
 ],
 "metadata": {
  "kernelspec": {
   "display_name": "Python 2",
   "language": "python",
   "name": "python2"
  },
  "language_info": {
   "codemirror_mode": {
    "name": "ipython",
    "version": 2
   },
   "file_extension": ".py",
   "mimetype": "text/x-python",
   "name": "python",
   "nbconvert_exporter": "python",
   "pygments_lexer": "ipython2",
   "version": "2.7.11"
  }
 },
 "nbformat": 4,
 "nbformat_minor": 0
}
